{
 "cells": [
  {
   "cell_type": "markdown",
   "id": "276c858a-9e7b-49f6-9eda-8c09e3e0c804",
   "metadata": {},
   "source": [
    "# Support Vector Machine"
   ]
  },
  {
   "cell_type": "markdown",
   "id": "8eb80062-2ada-4f7b-a6e5-0ba66dbc34e2",
   "metadata": {},
   "source": [
    "#### Build SVM model on suburban dataset. To understand the population in different areas and also the income levels of residents."
   ]
  },
  {
   "cell_type": "code",
   "execution_count": 1,
   "id": "49ed4a94-3c30-4d8d-a973-736e5c7bb5f1",
   "metadata": {},
   "outputs": [],
   "source": [
    "# import libraries\n",
    "import pandas as pd\n",
    "import numpy as np\n",
    "import matplotlib.pyplot as plt\n",
    "import seaborn as sns\n",
    "\n",
    "from feature_engine.outliers import Winsorizer\n",
    "from sklearn.preprocessing import MinMaxScaler\n",
    "from sklearn.preprocessing import OneHotEncoder\n",
    "from sklearn.impute import SimpleImputer\n",
    "from sklearn.compose import ColumnTransformer\n",
    "from sklearn.pipeline import Pipeline\n",
    "from sklearn.model_selection import train_test_split\n",
    "\n",
    "import pickle, joblib\n",
    "\n",
    "from sklearn.svm import SVC\n",
    "from sklearn.model_selection import RandomizedSearchCV"
   ]
  },
  {
   "cell_type": "code",
   "execution_count": 2,
   "id": "1d7785d2-0ee9-44dd-b712-1b76aa4ce9e3",
   "metadata": {},
   "outputs": [],
   "source": [
    "import warnings\n",
    "warnings.filterwarnings(\"ignore\")"
   ]
  },
  {
   "cell_type": "code",
   "execution_count": 3,
   "id": "7e4bea67-cf5d-4de4-b9f7-bda9c7028565",
   "metadata": {},
   "outputs": [
    {
     "name": "stdout",
     "output_type": "stream",
     "text": [
      "<class 'pandas.core.frame.DataFrame'>\n",
      "RangeIndex: 30161 entries, 0 to 30160\n",
      "Data columns (total 14 columns):\n",
      " #   Column         Non-Null Count  Dtype \n",
      "---  ------         --------------  ----- \n",
      " 0   age            30161 non-null  int64 \n",
      " 1   workclass      30161 non-null  object\n",
      " 2   education      30161 non-null  object\n",
      " 3   educationno    30161 non-null  int64 \n",
      " 4   maritalstatus  30161 non-null  object\n",
      " 5   occupation     30161 non-null  object\n",
      " 6   relationship   30161 non-null  object\n",
      " 7   race           30161 non-null  object\n",
      " 8   sex            30161 non-null  object\n",
      " 9   capitalgain    30161 non-null  int64 \n",
      " 10  capitalloss    30161 non-null  int64 \n",
      " 11  hoursperweek   30161 non-null  int64 \n",
      " 12  native         30161 non-null  object\n",
      " 13  Salary         30161 non-null  object\n",
      "dtypes: int64(5), object(9)\n",
      "memory usage: 3.2+ MB\n"
     ]
    }
   ],
   "source": [
    "df = pd.read_csv(r\"D:\\360digi\\DS\\Sharath\\SVM\\handson\\Datasets-SVM\\SalaryData_Train.csv\")\n",
    "df.info()"
   ]
  },
  {
   "cell_type": "code",
   "execution_count": 4,
   "id": "2d4691f3-bfdc-472c-b49f-037efe9b30b1",
   "metadata": {},
   "outputs": [
    {
     "data": {
      "text/html": [
       "<div>\n",
       "<style scoped>\n",
       "    .dataframe tbody tr th:only-of-type {\n",
       "        vertical-align: middle;\n",
       "    }\n",
       "\n",
       "    .dataframe tbody tr th {\n",
       "        vertical-align: top;\n",
       "    }\n",
       "\n",
       "    .dataframe thead th {\n",
       "        text-align: right;\n",
       "    }\n",
       "</style>\n",
       "<table border=\"1\" class=\"dataframe\">\n",
       "  <thead>\n",
       "    <tr style=\"text-align: right;\">\n",
       "      <th></th>\n",
       "      <th>age</th>\n",
       "      <th>educationno</th>\n",
       "      <th>capitalgain</th>\n",
       "      <th>capitalloss</th>\n",
       "      <th>hoursperweek</th>\n",
       "    </tr>\n",
       "  </thead>\n",
       "  <tbody>\n",
       "    <tr>\n",
       "      <th>count</th>\n",
       "      <td>30161.000000</td>\n",
       "      <td>30161.000000</td>\n",
       "      <td>30161.000000</td>\n",
       "      <td>30161.000000</td>\n",
       "      <td>30161.000000</td>\n",
       "    </tr>\n",
       "    <tr>\n",
       "      <th>mean</th>\n",
       "      <td>38.438115</td>\n",
       "      <td>10.121316</td>\n",
       "      <td>1092.044064</td>\n",
       "      <td>88.302311</td>\n",
       "      <td>40.931269</td>\n",
       "    </tr>\n",
       "    <tr>\n",
       "      <th>std</th>\n",
       "      <td>13.134830</td>\n",
       "      <td>2.550037</td>\n",
       "      <td>7406.466611</td>\n",
       "      <td>404.121321</td>\n",
       "      <td>11.980182</td>\n",
       "    </tr>\n",
       "    <tr>\n",
       "      <th>min</th>\n",
       "      <td>17.000000</td>\n",
       "      <td>1.000000</td>\n",
       "      <td>0.000000</td>\n",
       "      <td>0.000000</td>\n",
       "      <td>1.000000</td>\n",
       "    </tr>\n",
       "    <tr>\n",
       "      <th>25%</th>\n",
       "      <td>28.000000</td>\n",
       "      <td>9.000000</td>\n",
       "      <td>0.000000</td>\n",
       "      <td>0.000000</td>\n",
       "      <td>40.000000</td>\n",
       "    </tr>\n",
       "    <tr>\n",
       "      <th>50%</th>\n",
       "      <td>37.000000</td>\n",
       "      <td>10.000000</td>\n",
       "      <td>0.000000</td>\n",
       "      <td>0.000000</td>\n",
       "      <td>40.000000</td>\n",
       "    </tr>\n",
       "    <tr>\n",
       "      <th>75%</th>\n",
       "      <td>47.000000</td>\n",
       "      <td>13.000000</td>\n",
       "      <td>0.000000</td>\n",
       "      <td>0.000000</td>\n",
       "      <td>45.000000</td>\n",
       "    </tr>\n",
       "    <tr>\n",
       "      <th>max</th>\n",
       "      <td>90.000000</td>\n",
       "      <td>16.000000</td>\n",
       "      <td>99999.000000</td>\n",
       "      <td>4356.000000</td>\n",
       "      <td>99.000000</td>\n",
       "    </tr>\n",
       "  </tbody>\n",
       "</table>\n",
       "</div>"
      ],
      "text/plain": [
       "                age   educationno   capitalgain   capitalloss  hoursperweek\n",
       "count  30161.000000  30161.000000  30161.000000  30161.000000  30161.000000\n",
       "mean      38.438115     10.121316   1092.044064     88.302311     40.931269\n",
       "std       13.134830      2.550037   7406.466611    404.121321     11.980182\n",
       "min       17.000000      1.000000      0.000000      0.000000      1.000000\n",
       "25%       28.000000      9.000000      0.000000      0.000000     40.000000\n",
       "50%       37.000000     10.000000      0.000000      0.000000     40.000000\n",
       "75%       47.000000     13.000000      0.000000      0.000000     45.000000\n",
       "max       90.000000     16.000000  99999.000000   4356.000000     99.000000"
      ]
     },
     "execution_count": 4,
     "metadata": {},
     "output_type": "execute_result"
    }
   ],
   "source": [
    "df.describe()"
   ]
  },
  {
   "cell_type": "code",
   "execution_count": 5,
   "id": "bcfa67db-34eb-41fa-aa62-5c981cbd9017",
   "metadata": {},
   "outputs": [
    {
     "data": {
      "text/plain": [
       "age              0\n",
       "workclass        0\n",
       "education        0\n",
       "educationno      0\n",
       "maritalstatus    0\n",
       "occupation       0\n",
       "relationship     0\n",
       "race             0\n",
       "sex              0\n",
       "capitalgain      0\n",
       "capitalloss      0\n",
       "hoursperweek     0\n",
       "native           0\n",
       "Salary           0\n",
       "dtype: int64"
      ]
     },
     "execution_count": 5,
     "metadata": {},
     "output_type": "execute_result"
    }
   ],
   "source": [
    "# Checking Null Values\n",
    "df.isnull().sum() # no missing data"
   ]
  },
  {
   "cell_type": "code",
   "execution_count": 6,
   "id": "a5a5c78e-100a-428a-9896-f4ec203789d9",
   "metadata": {},
   "outputs": [
    {
     "data": {
      "text/plain": [
       "(array([22653.,     0.,     0.,     0.,     0.,     0.,     0.,     0.,\n",
       "            0.,  7508.]),\n",
       " array([0. , 0.1, 0.2, 0.3, 0.4, 0.5, 0.6, 0.7, 0.8, 0.9, 1. ]),\n",
       " <BarContainer object of 10 artists>)"
      ]
     },
     "execution_count": 6,
     "metadata": {},
     "output_type": "execute_result"
    },
    {
     "data": {
      "image/png": "[encoded data removed]",
      "text/plain": [
       "<Figure size 640x480 with 1 Axes>"
      ]
     },
     "metadata": {},
     "output_type": "display_data"
    }
   ],
   "source": [
    "plt.hist(df.Salary)"
   ]
  },
  {
   "cell_type": "markdown",
   "id": "66c9d92b-45c6-46b7-9359-495d4b8f091d",
   "metadata": {},
   "source": [
    "# Data Preprocessing"
   ]
  },
  {
   "cell_type": "code",
   "execution_count": 7,
   "id": "2872fb4e-9207-40de-b72a-ed09b6614f10",
   "metadata": {},
   "outputs": [],
   "source": [
    "X = df.iloc[:, :13]\n",
    "Y = df.iloc[:, 13]"
   ]
  },
  {
   "cell_type": "code",
   "execution_count": 8,
   "id": "f4667444-0c69-4224-a95a-76624bceba65",
   "metadata": {},
   "outputs": [
    {
     "data": {
      "text/html": [
       "<div>\n",
       "<style scoped>\n",
       "    .dataframe tbody tr th:only-of-type {\n",
       "        vertical-align: middle;\n",
       "    }\n",
       "\n",
       "    .dataframe tbody tr th {\n",
       "        vertical-align: top;\n",
       "    }\n",
       "\n",
       "    .dataframe thead th {\n",
       "        text-align: right;\n",
       "    }\n",
       "</style>\n",
       "<table border=\"1\" class=\"dataframe\">\n",
       "  <thead>\n",
       "    <tr style=\"text-align: right;\">\n",
       "      <th></th>\n",
       "      <th>age</th>\n",
       "      <th>workclass</th>\n",
       "      <th>education</th>\n",
       "      <th>educationno</th>\n",
       "      <th>maritalstatus</th>\n",
       "      <th>occupation</th>\n",
       "      <th>relationship</th>\n",
       "      <th>race</th>\n",
       "      <th>sex</th>\n",
       "      <th>capitalgain</th>\n",
       "      <th>capitalloss</th>\n",
       "      <th>hoursperweek</th>\n",
       "      <th>native</th>\n",
       "    </tr>\n",
       "  </thead>\n",
       "  <tbody>\n",
       "    <tr>\n",
       "      <th>0</th>\n",
       "      <td>39</td>\n",
       "      <td>State-gov</td>\n",
       "      <td>Bachelors</td>\n",
       "      <td>13</td>\n",
       "      <td>Never-married</td>\n",
       "      <td>Adm-clerical</td>\n",
       "      <td>Not-in-family</td>\n",
       "      <td>White</td>\n",
       "      <td>Male</td>\n",
       "      <td>2174</td>\n",
       "      <td>0</td>\n",
       "      <td>40</td>\n",
       "      <td>United-States</td>\n",
       "    </tr>\n",
       "    <tr>\n",
       "      <th>1</th>\n",
       "      <td>50</td>\n",
       "      <td>Self-emp-not-inc</td>\n",
       "      <td>Bachelors</td>\n",
       "      <td>13</td>\n",
       "      <td>Married-civ-spouse</td>\n",
       "      <td>Exec-managerial</td>\n",
       "      <td>Husband</td>\n",
       "      <td>White</td>\n",
       "      <td>Male</td>\n",
       "      <td>0</td>\n",
       "      <td>0</td>\n",
       "      <td>13</td>\n",
       "      <td>United-States</td>\n",
       "    </tr>\n",
       "    <tr>\n",
       "      <th>2</th>\n",
       "      <td>38</td>\n",
       "      <td>Private</td>\n",
       "      <td>HS-grad</td>\n",
       "      <td>9</td>\n",
       "      <td>Divorced</td>\n",
       "      <td>Handlers-cleaners</td>\n",
       "      <td>Not-in-family</td>\n",
       "      <td>White</td>\n",
       "      <td>Male</td>\n",
       "      <td>0</td>\n",
       "      <td>0</td>\n",
       "      <td>40</td>\n",
       "      <td>United-States</td>\n",
       "    </tr>\n",
       "    <tr>\n",
       "      <th>3</th>\n",
       "      <td>53</td>\n",
       "      <td>Private</td>\n",
       "      <td>11th</td>\n",
       "      <td>7</td>\n",
       "      <td>Married-civ-spouse</td>\n",
       "      <td>Handlers-cleaners</td>\n",
       "      <td>Husband</td>\n",
       "      <td>Black</td>\n",
       "      <td>Male</td>\n",
       "      <td>0</td>\n",
       "      <td>0</td>\n",
       "      <td>40</td>\n",
       "      <td>United-States</td>\n",
       "    </tr>\n",
       "    <tr>\n",
       "      <th>4</th>\n",
       "      <td>28</td>\n",
       "      <td>Private</td>\n",
       "      <td>Bachelors</td>\n",
       "      <td>13</td>\n",
       "      <td>Married-civ-spouse</td>\n",
       "      <td>Prof-specialty</td>\n",
       "      <td>Wife</td>\n",
       "      <td>Black</td>\n",
       "      <td>Female</td>\n",
       "      <td>0</td>\n",
       "      <td>0</td>\n",
       "      <td>40</td>\n",
       "      <td>Cuba</td>\n",
       "    </tr>\n",
       "    <tr>\n",
       "      <th>...</th>\n",
       "      <td>...</td>\n",
       "      <td>...</td>\n",
       "      <td>...</td>\n",
       "      <td>...</td>\n",
       "      <td>...</td>\n",
       "      <td>...</td>\n",
       "      <td>...</td>\n",
       "      <td>...</td>\n",
       "      <td>...</td>\n",
       "      <td>...</td>\n",
       "      <td>...</td>\n",
       "      <td>...</td>\n",
       "      <td>...</td>\n",
       "    </tr>\n",
       "    <tr>\n",
       "      <th>30156</th>\n",
       "      <td>27</td>\n",
       "      <td>Private</td>\n",
       "      <td>Assoc-acdm</td>\n",
       "      <td>12</td>\n",
       "      <td>Married-civ-spouse</td>\n",
       "      <td>Tech-support</td>\n",
       "      <td>Wife</td>\n",
       "      <td>White</td>\n",
       "      <td>Female</td>\n",
       "      <td>0</td>\n",
       "      <td>0</td>\n",
       "      <td>38</td>\n",
       "      <td>United-States</td>\n",
       "    </tr>\n",
       "    <tr>\n",
       "      <th>30157</th>\n",
       "      <td>40</td>\n",
       "      <td>Private</td>\n",
       "      <td>HS-grad</td>\n",
       "      <td>9</td>\n",
       "      <td>Married-civ-spouse</td>\n",
       "      <td>Machine-op-inspct</td>\n",
       "      <td>Husband</td>\n",
       "      <td>White</td>\n",
       "      <td>Male</td>\n",
       "      <td>0</td>\n",
       "      <td>0</td>\n",
       "      <td>40</td>\n",
       "      <td>United-States</td>\n",
       "    </tr>\n",
       "    <tr>\n",
       "      <th>30158</th>\n",
       "      <td>58</td>\n",
       "      <td>Private</td>\n",
       "      <td>HS-grad</td>\n",
       "      <td>9</td>\n",
       "      <td>Widowed</td>\n",
       "      <td>Adm-clerical</td>\n",
       "      <td>Unmarried</td>\n",
       "      <td>White</td>\n",
       "      <td>Female</td>\n",
       "      <td>0</td>\n",
       "      <td>0</td>\n",
       "      <td>40</td>\n",
       "      <td>United-States</td>\n",
       "    </tr>\n",
       "    <tr>\n",
       "      <th>30159</th>\n",
       "      <td>22</td>\n",
       "      <td>Private</td>\n",
       "      <td>HS-grad</td>\n",
       "      <td>9</td>\n",
       "      <td>Never-married</td>\n",
       "      <td>Adm-clerical</td>\n",
       "      <td>Own-child</td>\n",
       "      <td>White</td>\n",
       "      <td>Male</td>\n",
       "      <td>0</td>\n",
       "      <td>0</td>\n",
       "      <td>20</td>\n",
       "      <td>United-States</td>\n",
       "    </tr>\n",
       "    <tr>\n",
       "      <th>30160</th>\n",
       "      <td>52</td>\n",
       "      <td>Self-emp-inc</td>\n",
       "      <td>HS-grad</td>\n",
       "      <td>9</td>\n",
       "      <td>Married-civ-spouse</td>\n",
       "      <td>Exec-managerial</td>\n",
       "      <td>Wife</td>\n",
       "      <td>White</td>\n",
       "      <td>Female</td>\n",
       "      <td>15024</td>\n",
       "      <td>0</td>\n",
       "      <td>40</td>\n",
       "      <td>United-States</td>\n",
       "    </tr>\n",
       "  </tbody>\n",
       "</table>\n",
       "<p>30161 rows × 13 columns</p>\n",
       "</div>"
      ],
      "text/plain": [
       "       age          workclass    education  educationno        maritalstatus  \\\n",
       "0       39          State-gov    Bachelors           13        Never-married   \n",
       "1       50   Self-emp-not-inc    Bachelors           13   Married-civ-spouse   \n",
       "2       38            Private      HS-grad            9             Divorced   \n",
       "3       53            Private         11th            7   Married-civ-spouse   \n",
       "4       28            Private    Bachelors           13   Married-civ-spouse   \n",
       "...    ...                ...          ...          ...                  ...   \n",
       "30156   27            Private   Assoc-acdm           12   Married-civ-spouse   \n",
       "30157   40            Private      HS-grad            9   Married-civ-spouse   \n",
       "30158   58            Private      HS-grad            9              Widowed   \n",
       "30159   22            Private      HS-grad            9        Never-married   \n",
       "30160   52       Self-emp-inc      HS-grad            9   Married-civ-spouse   \n",
       "\n",
       "               occupation    relationship    race      sex  capitalgain  \\\n",
       "0            Adm-clerical   Not-in-family   White     Male         2174   \n",
       "1         Exec-managerial         Husband   White     Male            0   \n",
       "2       Handlers-cleaners   Not-in-family   White     Male            0   \n",
       "3       Handlers-cleaners         Husband   Black     Male            0   \n",
       "4          Prof-specialty            Wife   Black   Female            0   \n",
       "...                   ...             ...     ...      ...          ...   \n",
       "30156        Tech-support            Wife   White   Female            0   \n",
       "30157   Machine-op-inspct         Husband   White     Male            0   \n",
       "30158        Adm-clerical       Unmarried   White   Female            0   \n",
       "30159        Adm-clerical       Own-child   White     Male            0   \n",
       "30160     Exec-managerial            Wife   White   Female        15024   \n",
       "\n",
       "       capitalloss  hoursperweek          native  \n",
       "0                0            40   United-States  \n",
       "1                0            13   United-States  \n",
       "2                0            40   United-States  \n",
       "3                0            40   United-States  \n",
       "4                0            40            Cuba  \n",
       "...            ...           ...             ...  \n",
       "30156            0            38   United-States  \n",
       "30157            0            40   United-States  \n",
       "30158            0            40   United-States  \n",
       "30159            0            20   United-States  \n",
       "30160            0            40   United-States  \n",
       "\n",
       "[30161 rows x 13 columns]"
      ]
     },
     "execution_count": 8,
     "metadata": {},
     "output_type": "execute_result"
    }
   ],
   "source": [
    "X"
   ]
  },
  {
   "cell_type": "code",
   "execution_count": 9,
   "id": "99eb3211-3b60-4304-aa36-dd75fd945f80",
   "metadata": {},
   "outputs": [
    {
     "data": {
      "text/plain": [
       "0         <=50K\n",
       "1         <=50K\n",
       "2         <=50K\n",
       "3         <=50K\n",
       "4         <=50K\n",
       "          ...  \n",
       "30156     <=50K\n",
       "30157      >50K\n",
       "30158     <=50K\n",
       "30159     <=50K\n",
       "30160      >50K\n",
       "Name: Salary, Length: 30161, dtype: object"
      ]
     },
     "execution_count": 9,
     "metadata": {},
     "output_type": "execute_result"
    }
   ],
   "source": [
    "Y"
   ]
  },
  {
   "cell_type": "code",
   "execution_count": 10,
   "id": "5e0974ac-ff15-478a-bbbb-22aed67d5252",
   "metadata": {},
   "outputs": [
    {
     "data": {
      "text/plain": [
       "Index(['age', 'educationno', 'capitalgain', 'capitalloss', 'hoursperweek'], dtype='object')"
      ]
     },
     "execution_count": 10,
     "metadata": {},
     "output_type": "execute_result"
    }
   ],
   "source": [
    "numeric_features = X.select_dtypes(exclude = ['object']).columns\n",
    "numeric_features"
   ]
  },
  {
   "cell_type": "code",
   "execution_count": 11,
   "id": "d7786421-8adb-4b20-9a1f-7be66f9b5fd5",
   "metadata": {},
   "outputs": [
    {
     "data": {
      "text/plain": [
       "Index(['workclass', 'education', 'maritalstatus', 'occupation', 'relationship',\n",
       "       'race', 'sex', 'native'],\n",
       "      dtype='object')"
      ]
     },
     "execution_count": 11,
     "metadata": {},
     "output_type": "execute_result"
    }
   ],
   "source": [
    "categorical_features = X.select_dtypes(include = ['object']).columns\n",
    "categorical_features"
   ]
  },
  {
   "cell_type": "code",
   "execution_count": 12,
   "id": "fbfe812d-444a-483b-ac4b-bd99d1d8195b",
   "metadata": {},
   "outputs": [
    {
     "data": {
      "text/plain": [
       "array([' State-gov', ' Self-emp-not-inc', ' Private', ' Federal-gov',\n",
       "       ' Local-gov', ' Self-emp-inc', ' Without-pay'], dtype=object)"
      ]
     },
     "execution_count": 12,
     "metadata": {},
     "output_type": "execute_result"
    }
   ],
   "source": [
    "df['workclass'].unique() # 6"
   ]
  },
  {
   "cell_type": "code",
   "execution_count": 13,
   "id": "c185f391-cb11-4417-b231-d2c2da0f5276",
   "metadata": {},
   "outputs": [
    {
     "data": {
      "text/plain": [
       "array([' Bachelors', ' HS-grad', ' 11th', ' Masters', ' 9th',\n",
       "       ' Some-college', ' Assoc-acdm', ' 7th-8th', ' Doctorate',\n",
       "       ' Assoc-voc', ' Prof-school', ' 5th-6th', ' 10th', ' Preschool',\n",
       "       ' 12th', ' 1st-4th'], dtype=object)"
      ]
     },
     "execution_count": 13,
     "metadata": {},
     "output_type": "execute_result"
    }
   ],
   "source": [
    "df['education'].unique() #16"
   ]
  },
  {
   "cell_type": "code",
   "execution_count": 14,
   "id": "77746990-5c00-45bc-b297-b1e072051341",
   "metadata": {},
   "outputs": [
    {
     "data": {
      "text/plain": [
       "array([' Never-married', ' Married-civ-spouse', ' Divorced',\n",
       "       ' Married-spouse-absent', ' Separated', ' Married-AF-spouse',\n",
       "       ' Widowed'], dtype=object)"
      ]
     },
     "execution_count": 14,
     "metadata": {},
     "output_type": "execute_result"
    }
   ],
   "source": [
    "df['maritalstatus'].unique() #7"
   ]
  },
  {
   "cell_type": "code",
   "execution_count": 15,
   "id": "7fd0412a-99fc-473b-861f-366ac3da2322",
   "metadata": {},
   "outputs": [
    {
     "data": {
      "text/plain": [
       "array([' Adm-clerical', ' Exec-managerial', ' Handlers-cleaners',\n",
       "       ' Prof-specialty', ' Other-service', ' Sales', ' Transport-moving',\n",
       "       ' Farming-fishing', ' Machine-op-inspct', ' Tech-support',\n",
       "       ' Craft-repair', ' Protective-serv', ' Armed-Forces',\n",
       "       ' Priv-house-serv'], dtype=object)"
      ]
     },
     "execution_count": 15,
     "metadata": {},
     "output_type": "execute_result"
    }
   ],
   "source": [
    "df['occupation'].unique() #14"
   ]
  },
  {
   "cell_type": "code",
   "execution_count": 16,
   "id": "6b9cccd9-ec1b-42ed-9c0b-07e9bb2d83bb",
   "metadata": {},
   "outputs": [
    {
     "data": {
      "text/plain": [
       "array([' Not-in-family', ' Husband', ' Wife', ' Own-child', ' Unmarried',\n",
       "       ' Other-relative'], dtype=object)"
      ]
     },
     "execution_count": 16,
     "metadata": {},
     "output_type": "execute_result"
    }
   ],
   "source": [
    "df['relationship'].unique() #6"
   ]
  },
  {
   "cell_type": "code",
   "execution_count": 17,
   "id": "45069989-5e6a-46cf-87aa-ee44ccc73956",
   "metadata": {},
   "outputs": [
    {
     "data": {
      "text/plain": [
       "array([' White', ' Black', ' Asian-Pac-Islander', ' Amer-Indian-Eskimo',\n",
       "       ' Other'], dtype=object)"
      ]
     },
     "execution_count": 17,
     "metadata": {},
     "output_type": "execute_result"
    }
   ],
   "source": [
    "df['race'].unique()  #5"
   ]
  },
  {
   "cell_type": "code",
   "execution_count": 18,
   "id": "7400e15d-bbcb-43bd-b290-48c3f2778b35",
   "metadata": {},
   "outputs": [
    {
     "data": {
      "text/plain": [
       "array([' Male', ' Female'], dtype=object)"
      ]
     },
     "execution_count": 18,
     "metadata": {},
     "output_type": "execute_result"
    }
   ],
   "source": [
    "df['sex'].unique() #2"
   ]
  },
  {
   "cell_type": "code",
   "execution_count": 19,
   "id": "1a931a7a-747c-4358-8fc2-25c3b1f4a03d",
   "metadata": {},
   "outputs": [
    {
     "data": {
      "text/plain": [
       "array([' United-States', ' Cuba', ' Jamaica', ' India', ' Mexico',\n",
       "       ' Puerto-Rico', ' Honduras', ' England', ' Canada', ' Germany',\n",
       "       ' Iran', ' Philippines', ' Poland', ' Columbia', ' Cambodia',\n",
       "       ' Thailand', ' Ecuador', ' Laos', ' Taiwan', ' Haiti', ' Portugal',\n",
       "       ' Dominican-Republic', ' El-Salvador', ' France', ' Guatemala',\n",
       "       ' Italy', ' China', ' South', ' Japan', ' Yugoslavia', ' Peru',\n",
       "       ' Outlying-US(Guam-USVI-etc)', ' Scotland', ' Trinadad&Tobago',\n",
       "       ' Greece', ' Nicaragua', ' Vietnam', ' Hong', ' Ireland',\n",
       "       ' Hungary'], dtype=object)"
      ]
     },
     "execution_count": 19,
     "metadata": {},
     "output_type": "execute_result"
    }
   ],
   "source": [
    "df['native'].unique() #40"
   ]
  },
  {
   "cell_type": "code",
   "execution_count": 20,
   "id": "a6279d58-10dd-45e0-8b0d-645d688328f9",
   "metadata": {},
   "outputs": [
    {
     "data": {
      "image/png": "[encoded data removed]",
      "text/plain": [
       "<Figure size 1000x600 with 5 Axes>"
      ]
     },
     "metadata": {},
     "output_type": "display_data"
    }
   ],
   "source": [
    "#Box plot visualization to view the outliers.\n",
    "X.plot(kind = 'box', subplots = True, sharey = False, figsize = (10, 6))\n",
    "\n",
    "plt.subplots_adjust(wspace = 0.75)\n",
    "plt.show()"
   ]
  },
  {
   "cell_type": "code",
   "execution_count": 21,
   "id": "957d66f8-6d95-456e-b30a-f9e0184c4326",
   "metadata": {},
   "outputs": [],
   "source": [
    "# Input columns ['capitalgain', 'capitalloss'] have low variation for method 'iqr'."
   ]
  },
  {
   "cell_type": "code",
   "execution_count": 22,
   "id": "f58094b0-f066-4ca6-8a33-c0cdb5472b3f",
   "metadata": {},
   "outputs": [],
   "source": [
    "# Winsorization for \"age\" column\n",
    "winsor = Winsorizer(capping_method = 'iqr', tail = 'both', fold = 1.5, variables = ['age'])\n",
    "\n",
    "X['age'] = winsor.fit_transform(X[['age']])"
   ]
  },
  {
   "cell_type": "code",
   "execution_count": 23,
   "id": "340c5b9e-c613-461e-b43e-50e158f987ea",
   "metadata": {},
   "outputs": [],
   "source": [
    "# Winsorization for \"educationno\" column\n",
    "winsor = Winsorizer(capping_method = 'iqr', tail = 'both', fold = 1.5, variables = ['educationno'])\n",
    "\n",
    "X['educationno'] = winsor.fit_transform(X[['educationno']])"
   ]
  },
  {
   "cell_type": "code",
   "execution_count": 24,
   "id": "28c6162c-76d4-4cd6-8cd0-e8db91bb6888",
   "metadata": {},
   "outputs": [],
   "source": [
    "# Winsorization for \"hoursperweek\" column\n",
    "winsor = Winsorizer(capping_method = 'iqr', tail = 'both', fold = 1.5, variables = ['hoursperweek'])\n",
    "\n",
    "X['hoursperweek'] = winsor.fit_transform(X[['hoursperweek']])"
   ]
  },
  {
   "cell_type": "code",
   "execution_count": 25,
   "id": "1286b7e7-d8c3-42fc-bf10-bda643ea6e06",
   "metadata": {},
   "outputs": [
    {
     "data": {
      "image/png": "[encoded data removed]",
      "text/plain": [
       "<Figure size 1000x600 with 5 Axes>"
      ]
     },
     "metadata": {},
     "output_type": "display_data"
    }
   ],
   "source": [
    "#Box plot visualization to view the outliers.\n",
    "X.plot(kind = 'box', subplots = True, sharey = False, figsize = (10, 6))\n",
    "\n",
    "plt.subplots_adjust(wspace = 0.75)\n",
    "plt.show()"
   ]
  },
  {
   "cell_type": "code",
   "execution_count": 26,
   "id": "305f6059-ed77-406c-a36d-0b931f2d988e",
   "metadata": {},
   "outputs": [],
   "source": [
    "## Scaling with MinMaxScaler\n",
    "scale_pipeline = Pipeline([('scale', MinMaxScaler())])\n",
    "\n",
    "scale_columntransfer = ColumnTransformer([('scale', scale_pipeline, numeric_features)]) # Skips the transformations for remaining columns\n",
    "\n",
    "scale = scale_columntransfer.fit(X)"
   ]
  },
  {
   "cell_type": "code",
   "execution_count": 27,
   "id": "682c6770-2ee6-42a9-afa6-c27b201e2f72",
   "metadata": {},
   "outputs": [
    {
     "data": {
      "text/html": [
       "<div>\n",
       "<style scoped>\n",
       "    .dataframe tbody tr th:only-of-type {\n",
       "        vertical-align: middle;\n",
       "    }\n",
       "\n",
       "    .dataframe tbody tr th {\n",
       "        vertical-align: top;\n",
       "    }\n",
       "\n",
       "    .dataframe thead th {\n",
       "        text-align: right;\n",
       "    }\n",
       "</style>\n",
       "<table border=\"1\" class=\"dataframe\">\n",
       "  <thead>\n",
       "    <tr style=\"text-align: right;\">\n",
       "      <th></th>\n",
       "      <th>age</th>\n",
       "      <th>educationno</th>\n",
       "      <th>capitalgain</th>\n",
       "      <th>capitalloss</th>\n",
       "      <th>hoursperweek</th>\n",
       "    </tr>\n",
       "  </thead>\n",
       "  <tbody>\n",
       "    <tr>\n",
       "      <th>count</th>\n",
       "      <td>30161.000000</td>\n",
       "      <td>30161.000000</td>\n",
       "      <td>30161.000000</td>\n",
       "      <td>30161.000000</td>\n",
       "      <td>30161.000000</td>\n",
       "    </tr>\n",
       "    <tr>\n",
       "      <th>mean</th>\n",
       "      <td>0.365891</td>\n",
       "      <td>0.548408</td>\n",
       "      <td>0.010921</td>\n",
       "      <td>0.020271</td>\n",
       "      <td>0.445970</td>\n",
       "    </tr>\n",
       "    <tr>\n",
       "      <th>std</th>\n",
       "      <td>0.222678</td>\n",
       "      <td>0.194265</td>\n",
       "      <td>0.074065</td>\n",
       "      <td>0.092773</td>\n",
       "      <td>0.307302</td>\n",
       "    </tr>\n",
       "    <tr>\n",
       "      <th>min</th>\n",
       "      <td>0.000000</td>\n",
       "      <td>0.000000</td>\n",
       "      <td>0.000000</td>\n",
       "      <td>0.000000</td>\n",
       "      <td>0.000000</td>\n",
       "    </tr>\n",
       "    <tr>\n",
       "      <th>25%</th>\n",
       "      <td>0.188034</td>\n",
       "      <td>0.461538</td>\n",
       "      <td>0.000000</td>\n",
       "      <td>0.000000</td>\n",
       "      <td>0.375000</td>\n",
       "    </tr>\n",
       "    <tr>\n",
       "      <th>50%</th>\n",
       "      <td>0.341880</td>\n",
       "      <td>0.538462</td>\n",
       "      <td>0.000000</td>\n",
       "      <td>0.000000</td>\n",
       "      <td>0.375000</td>\n",
       "    </tr>\n",
       "    <tr>\n",
       "      <th>75%</th>\n",
       "      <td>0.512821</td>\n",
       "      <td>0.769231</td>\n",
       "      <td>0.000000</td>\n",
       "      <td>0.000000</td>\n",
       "      <td>0.625000</td>\n",
       "    </tr>\n",
       "    <tr>\n",
       "      <th>max</th>\n",
       "      <td>1.000000</td>\n",
       "      <td>1.000000</td>\n",
       "      <td>1.000000</td>\n",
       "      <td>1.000000</td>\n",
       "      <td>1.000000</td>\n",
       "    </tr>\n",
       "  </tbody>\n",
       "</table>\n",
       "</div>"
      ],
      "text/plain": [
       "                age   educationno   capitalgain   capitalloss  hoursperweek\n",
       "count  30161.000000  30161.000000  30161.000000  30161.000000  30161.000000\n",
       "mean       0.365891      0.548408      0.010921      0.020271      0.445970\n",
       "std        0.222678      0.194265      0.074065      0.092773      0.307302\n",
       "min        0.000000      0.000000      0.000000      0.000000      0.000000\n",
       "25%        0.188034      0.461538      0.000000      0.000000      0.375000\n",
       "50%        0.341880      0.538462      0.000000      0.000000      0.375000\n",
       "75%        0.512821      0.769231      0.000000      0.000000      0.625000\n",
       "max        1.000000      1.000000      1.000000      1.000000      1.000000"
      ]
     },
     "execution_count": 27,
     "metadata": {},
     "output_type": "execute_result"
    }
   ],
   "source": [
    "scaled_data = pd.DataFrame(scale.transform(X), columns = numeric_features)\n",
    "scaled_data.describe()"
   ]
  },
  {
   "cell_type": "code",
   "execution_count": 28,
   "id": "9a0f9cb1-98fd-476d-9903-bac8f421dd8d",
   "metadata": {},
   "outputs": [
    {
     "data": {
      "text/plain": [
       "['scale']"
      ]
     },
     "execution_count": 28,
     "metadata": {},
     "output_type": "execute_result"
    }
   ],
   "source": [
    "# Save the data preprocessing pipeline\n",
    "joblib.dump(scale, 'scale')"
   ]
  },
  {
   "cell_type": "code",
   "execution_count": 29,
   "id": "301b0f7c-6fa1-4850-bcb2-3d0ca8ad1958",
   "metadata": {},
   "outputs": [],
   "source": [
    "## Encoding\n",
    "# Categorical features\n",
    "encoding_pipeline = Pipeline([('onehot', OneHotEncoder())])\n",
    "\n",
    "preprocess_pipeline = ColumnTransformer([('categorical', encoding_pipeline, categorical_features)])\n",
    "\n",
    "clean =  preprocess_pipeline.fit(X)"
   ]
  },
  {
   "cell_type": "code",
   "execution_count": 30,
   "id": "9c99eadc-a566-411a-9e6d-cbd6d40567fc",
   "metadata": {},
   "outputs": [
    {
     "data": {
      "text/plain": [
       "['encode']"
      ]
     },
     "execution_count": 30,
     "metadata": {},
     "output_type": "execute_result"
    }
   ],
   "source": [
    "# Save the data preprocessing pipeline\n",
    "joblib.dump(clean, 'encode')"
   ]
  },
  {
   "cell_type": "code",
   "execution_count": 31,
   "id": "72489e61-9c58-4ab4-b05a-2473ec8ccfc9",
   "metadata": {},
   "outputs": [
    {
     "data": {
      "text/plain": [
       "<30161x97 sparse matrix of type '<class 'numpy.float64'>'\n",
       "\twith 241288 stored elements in Compressed Sparse Row format>"
      ]
     },
     "execution_count": 31,
     "metadata": {},
     "output_type": "execute_result"
    }
   ],
   "source": [
    "clean.transform(X)"
   ]
  },
  {
   "cell_type": "code",
   "execution_count": 32,
   "id": "096e72c6-2c75-46f2-8746-e02de04c499e",
   "metadata": {},
   "outputs": [
    {
     "data": {
      "text/html": [
       "<div>\n",
       "<style scoped>\n",
       "    .dataframe tbody tr th:only-of-type {\n",
       "        vertical-align: middle;\n",
       "    }\n",
       "\n",
       "    .dataframe tbody tr th {\n",
       "        vertical-align: top;\n",
       "    }\n",
       "\n",
       "    .dataframe thead th {\n",
       "        text-align: right;\n",
       "    }\n",
       "</style>\n",
       "<table border=\"1\" class=\"dataframe\">\n",
       "  <thead>\n",
       "    <tr style=\"text-align: right;\">\n",
       "      <th></th>\n",
       "      <th>0</th>\n",
       "      <th>1</th>\n",
       "      <th>2</th>\n",
       "      <th>3</th>\n",
       "      <th>4</th>\n",
       "      <th>5</th>\n",
       "      <th>6</th>\n",
       "      <th>7</th>\n",
       "      <th>8</th>\n",
       "      <th>9</th>\n",
       "      <th>...</th>\n",
       "      <th>87</th>\n",
       "      <th>88</th>\n",
       "      <th>89</th>\n",
       "      <th>90</th>\n",
       "      <th>91</th>\n",
       "      <th>92</th>\n",
       "      <th>93</th>\n",
       "      <th>94</th>\n",
       "      <th>95</th>\n",
       "      <th>96</th>\n",
       "    </tr>\n",
       "  </thead>\n",
       "  <tbody>\n",
       "    <tr>\n",
       "      <th>0</th>\n",
       "      <td>0.0</td>\n",
       "      <td>0.0</td>\n",
       "      <td>0.0</td>\n",
       "      <td>0.0</td>\n",
       "      <td>0.0</td>\n",
       "      <td>1.0</td>\n",
       "      <td>0.0</td>\n",
       "      <td>0.0</td>\n",
       "      <td>0.0</td>\n",
       "      <td>0.0</td>\n",
       "      <td>...</td>\n",
       "      <td>0.0</td>\n",
       "      <td>0.0</td>\n",
       "      <td>0.0</td>\n",
       "      <td>0.0</td>\n",
       "      <td>0.0</td>\n",
       "      <td>0.0</td>\n",
       "      <td>0.0</td>\n",
       "      <td>1.0</td>\n",
       "      <td>0.0</td>\n",
       "      <td>0.0</td>\n",
       "    </tr>\n",
       "    <tr>\n",
       "      <th>1</th>\n",
       "      <td>0.0</td>\n",
       "      <td>0.0</td>\n",
       "      <td>0.0</td>\n",
       "      <td>0.0</td>\n",
       "      <td>1.0</td>\n",
       "      <td>0.0</td>\n",
       "      <td>0.0</td>\n",
       "      <td>0.0</td>\n",
       "      <td>0.0</td>\n",
       "      <td>0.0</td>\n",
       "      <td>...</td>\n",
       "      <td>0.0</td>\n",
       "      <td>0.0</td>\n",
       "      <td>0.0</td>\n",
       "      <td>0.0</td>\n",
       "      <td>0.0</td>\n",
       "      <td>0.0</td>\n",
       "      <td>0.0</td>\n",
       "      <td>1.0</td>\n",
       "      <td>0.0</td>\n",
       "      <td>0.0</td>\n",
       "    </tr>\n",
       "    <tr>\n",
       "      <th>2</th>\n",
       "      <td>0.0</td>\n",
       "      <td>0.0</td>\n",
       "      <td>1.0</td>\n",
       "      <td>0.0</td>\n",
       "      <td>0.0</td>\n",
       "      <td>0.0</td>\n",
       "      <td>0.0</td>\n",
       "      <td>0.0</td>\n",
       "      <td>0.0</td>\n",
       "      <td>0.0</td>\n",
       "      <td>...</td>\n",
       "      <td>0.0</td>\n",
       "      <td>0.0</td>\n",
       "      <td>0.0</td>\n",
       "      <td>0.0</td>\n",
       "      <td>0.0</td>\n",
       "      <td>0.0</td>\n",
       "      <td>0.0</td>\n",
       "      <td>1.0</td>\n",
       "      <td>0.0</td>\n",
       "      <td>0.0</td>\n",
       "    </tr>\n",
       "    <tr>\n",
       "      <th>3</th>\n",
       "      <td>0.0</td>\n",
       "      <td>0.0</td>\n",
       "      <td>1.0</td>\n",
       "      <td>0.0</td>\n",
       "      <td>0.0</td>\n",
       "      <td>0.0</td>\n",
       "      <td>0.0</td>\n",
       "      <td>0.0</td>\n",
       "      <td>1.0</td>\n",
       "      <td>0.0</td>\n",
       "      <td>...</td>\n",
       "      <td>0.0</td>\n",
       "      <td>0.0</td>\n",
       "      <td>0.0</td>\n",
       "      <td>0.0</td>\n",
       "      <td>0.0</td>\n",
       "      <td>0.0</td>\n",
       "      <td>0.0</td>\n",
       "      <td>1.0</td>\n",
       "      <td>0.0</td>\n",
       "      <td>0.0</td>\n",
       "    </tr>\n",
       "    <tr>\n",
       "      <th>4</th>\n",
       "      <td>0.0</td>\n",
       "      <td>0.0</td>\n",
       "      <td>1.0</td>\n",
       "      <td>0.0</td>\n",
       "      <td>0.0</td>\n",
       "      <td>0.0</td>\n",
       "      <td>0.0</td>\n",
       "      <td>0.0</td>\n",
       "      <td>0.0</td>\n",
       "      <td>0.0</td>\n",
       "      <td>...</td>\n",
       "      <td>0.0</td>\n",
       "      <td>0.0</td>\n",
       "      <td>0.0</td>\n",
       "      <td>0.0</td>\n",
       "      <td>0.0</td>\n",
       "      <td>0.0</td>\n",
       "      <td>0.0</td>\n",
       "      <td>0.0</td>\n",
       "      <td>0.0</td>\n",
       "      <td>0.0</td>\n",
       "    </tr>\n",
       "    <tr>\n",
       "      <th>...</th>\n",
       "      <td>...</td>\n",
       "      <td>...</td>\n",
       "      <td>...</td>\n",
       "      <td>...</td>\n",
       "      <td>...</td>\n",
       "      <td>...</td>\n",
       "      <td>...</td>\n",
       "      <td>...</td>\n",
       "      <td>...</td>\n",
       "      <td>...</td>\n",
       "      <td>...</td>\n",
       "      <td>...</td>\n",
       "      <td>...</td>\n",
       "      <td>...</td>\n",
       "      <td>...</td>\n",
       "      <td>...</td>\n",
       "      <td>...</td>\n",
       "      <td>...</td>\n",
       "      <td>...</td>\n",
       "      <td>...</td>\n",
       "      <td>...</td>\n",
       "    </tr>\n",
       "    <tr>\n",
       "      <th>30156</th>\n",
       "      <td>0.0</td>\n",
       "      <td>0.0</td>\n",
       "      <td>1.0</td>\n",
       "      <td>0.0</td>\n",
       "      <td>0.0</td>\n",
       "      <td>0.0</td>\n",
       "      <td>0.0</td>\n",
       "      <td>0.0</td>\n",
       "      <td>0.0</td>\n",
       "      <td>0.0</td>\n",
       "      <td>...</td>\n",
       "      <td>0.0</td>\n",
       "      <td>0.0</td>\n",
       "      <td>0.0</td>\n",
       "      <td>0.0</td>\n",
       "      <td>0.0</td>\n",
       "      <td>0.0</td>\n",
       "      <td>0.0</td>\n",
       "      <td>1.0</td>\n",
       "      <td>0.0</td>\n",
       "      <td>0.0</td>\n",
       "    </tr>\n",
       "    <tr>\n",
       "      <th>30157</th>\n",
       "      <td>0.0</td>\n",
       "      <td>0.0</td>\n",
       "      <td>1.0</td>\n",
       "      <td>0.0</td>\n",
       "      <td>0.0</td>\n",
       "      <td>0.0</td>\n",
       "      <td>0.0</td>\n",
       "      <td>0.0</td>\n",
       "      <td>0.0</td>\n",
       "      <td>0.0</td>\n",
       "      <td>...</td>\n",
       "      <td>0.0</td>\n",
       "      <td>0.0</td>\n",
       "      <td>0.0</td>\n",
       "      <td>0.0</td>\n",
       "      <td>0.0</td>\n",
       "      <td>0.0</td>\n",
       "      <td>0.0</td>\n",
       "      <td>1.0</td>\n",
       "      <td>0.0</td>\n",
       "      <td>0.0</td>\n",
       "    </tr>\n",
       "    <tr>\n",
       "      <th>30158</th>\n",
       "      <td>0.0</td>\n",
       "      <td>0.0</td>\n",
       "      <td>1.0</td>\n",
       "      <td>0.0</td>\n",
       "      <td>0.0</td>\n",
       "      <td>0.0</td>\n",
       "      <td>0.0</td>\n",
       "      <td>0.0</td>\n",
       "      <td>0.0</td>\n",
       "      <td>0.0</td>\n",
       "      <td>...</td>\n",
       "      <td>0.0</td>\n",
       "      <td>0.0</td>\n",
       "      <td>0.0</td>\n",
       "      <td>0.0</td>\n",
       "      <td>0.0</td>\n",
       "      <td>0.0</td>\n",
       "      <td>0.0</td>\n",
       "      <td>1.0</td>\n",
       "      <td>0.0</td>\n",
       "      <td>0.0</td>\n",
       "    </tr>\n",
       "    <tr>\n",
       "      <th>30159</th>\n",
       "      <td>0.0</td>\n",
       "      <td>0.0</td>\n",
       "      <td>1.0</td>\n",
       "      <td>0.0</td>\n",
       "      <td>0.0</td>\n",
       "      <td>0.0</td>\n",
       "      <td>0.0</td>\n",
       "      <td>0.0</td>\n",
       "      <td>0.0</td>\n",
       "      <td>0.0</td>\n",
       "      <td>...</td>\n",
       "      <td>0.0</td>\n",
       "      <td>0.0</td>\n",
       "      <td>0.0</td>\n",
       "      <td>0.0</td>\n",
       "      <td>0.0</td>\n",
       "      <td>0.0</td>\n",
       "      <td>0.0</td>\n",
       "      <td>1.0</td>\n",
       "      <td>0.0</td>\n",
       "      <td>0.0</td>\n",
       "    </tr>\n",
       "    <tr>\n",
       "      <th>30160</th>\n",
       "      <td>0.0</td>\n",
       "      <td>0.0</td>\n",
       "      <td>0.0</td>\n",
       "      <td>1.0</td>\n",
       "      <td>0.0</td>\n",
       "      <td>0.0</td>\n",
       "      <td>0.0</td>\n",
       "      <td>0.0</td>\n",
       "      <td>0.0</td>\n",
       "      <td>0.0</td>\n",
       "      <td>...</td>\n",
       "      <td>0.0</td>\n",
       "      <td>0.0</td>\n",
       "      <td>0.0</td>\n",
       "      <td>0.0</td>\n",
       "      <td>0.0</td>\n",
       "      <td>0.0</td>\n",
       "      <td>0.0</td>\n",
       "      <td>1.0</td>\n",
       "      <td>0.0</td>\n",
       "      <td>0.0</td>\n",
       "    </tr>\n",
       "  </tbody>\n",
       "</table>\n",
       "<p>30161 rows × 97 columns</p>\n",
       "</div>"
      ],
      "text/plain": [
       "        0    1    2    3    4    5    6    7    8    9   ...   87   88   89  \\\n",
       "0      0.0  0.0  0.0  0.0  0.0  1.0  0.0  0.0  0.0  0.0  ...  0.0  0.0  0.0   \n",
       "1      0.0  0.0  0.0  0.0  1.0  0.0  0.0  0.0  0.0  0.0  ...  0.0  0.0  0.0   \n",
       "2      0.0  0.0  1.0  0.0  0.0  0.0  0.0  0.0  0.0  0.0  ...  0.0  0.0  0.0   \n",
       "3      0.0  0.0  1.0  0.0  0.0  0.0  0.0  0.0  1.0  0.0  ...  0.0  0.0  0.0   \n",
       "4      0.0  0.0  1.0  0.0  0.0  0.0  0.0  0.0  0.0  0.0  ...  0.0  0.0  0.0   \n",
       "...    ...  ...  ...  ...  ...  ...  ...  ...  ...  ...  ...  ...  ...  ...   \n",
       "30156  0.0  0.0  1.0  0.0  0.0  0.0  0.0  0.0  0.0  0.0  ...  0.0  0.0  0.0   \n",
       "30157  0.0  0.0  1.0  0.0  0.0  0.0  0.0  0.0  0.0  0.0  ...  0.0  0.0  0.0   \n",
       "30158  0.0  0.0  1.0  0.0  0.0  0.0  0.0  0.0  0.0  0.0  ...  0.0  0.0  0.0   \n",
       "30159  0.0  0.0  1.0  0.0  0.0  0.0  0.0  0.0  0.0  0.0  ...  0.0  0.0  0.0   \n",
       "30160  0.0  0.0  0.0  1.0  0.0  0.0  0.0  0.0  0.0  0.0  ...  0.0  0.0  0.0   \n",
       "\n",
       "        90   91   92   93   94   95   96  \n",
       "0      0.0  0.0  0.0  0.0  1.0  0.0  0.0  \n",
       "1      0.0  0.0  0.0  0.0  1.0  0.0  0.0  \n",
       "2      0.0  0.0  0.0  0.0  1.0  0.0  0.0  \n",
       "3      0.0  0.0  0.0  0.0  1.0  0.0  0.0  \n",
       "4      0.0  0.0  0.0  0.0  0.0  0.0  0.0  \n",
       "...    ...  ...  ...  ...  ...  ...  ...  \n",
       "30156  0.0  0.0  0.0  0.0  1.0  0.0  0.0  \n",
       "30157  0.0  0.0  0.0  0.0  1.0  0.0  0.0  \n",
       "30158  0.0  0.0  0.0  0.0  1.0  0.0  0.0  \n",
       "30159  0.0  0.0  0.0  0.0  1.0  0.0  0.0  \n",
       "30160  0.0  0.0  0.0  0.0  1.0  0.0  0.0  \n",
       "\n",
       "[30161 rows x 97 columns]"
      ]
     },
     "execution_count": 32,
     "metadata": {},
     "output_type": "execute_result"
    }
   ],
   "source": [
    "encode_data = pd.DataFrame(clean.transform(X).todense())\n",
    "encode_data"
   ]
  },
  {
   "cell_type": "code",
   "execution_count": 33,
   "id": "9803b317-0115-4838-881f-447feba5d359",
   "metadata": {},
   "outputs": [
    {
     "name": "stdout",
     "output_type": "stream",
     "text": [
      "<class 'pandas.core.frame.DataFrame'>\n",
      "RangeIndex: 30161 entries, 0 to 30160\n",
      "Data columns (total 97 columns):\n",
      " #   Column                                             Non-Null Count  Dtype  \n",
      "---  ------                                             --------------  -----  \n",
      " 0   categorical__workclass_ Federal-gov                30161 non-null  float64\n",
      " 1   categorical__workclass_ Local-gov                  30161 non-null  float64\n",
      " 2   categorical__workclass_ Private                    30161 non-null  float64\n",
      " 3   categorical__workclass_ Self-emp-inc               30161 non-null  float64\n",
      " 4   categorical__workclass_ Self-emp-not-inc           30161 non-null  float64\n",
      " 5   categorical__workclass_ State-gov                  30161 non-null  float64\n",
      " 6   categorical__workclass_ Without-pay                30161 non-null  float64\n",
      " 7   categorical__education_ 10th                       30161 non-null  float64\n",
      " 8   categorical__education_ 11th                       30161 non-null  float64\n",
      " 9   categorical__education_ 12th                       30161 non-null  float64\n",
      " 10  categorical__education_ 1st-4th                    30161 non-null  float64\n",
      " 11  categorical__education_ 5th-6th                    30161 non-null  float64\n",
      " 12  categorical__education_ 7th-8th                    30161 non-null  float64\n",
      " 13  categorical__education_ 9th                        30161 non-null  float64\n",
      " 14  categorical__education_ Assoc-acdm                 30161 non-null  float64\n",
      " 15  categorical__education_ Assoc-voc                  30161 non-null  float64\n",
      " 16  categorical__education_ Bachelors                  30161 non-null  float64\n",
      " 17  categorical__education_ Doctorate                  30161 non-null  float64\n",
      " 18  categorical__education_ HS-grad                    30161 non-null  float64\n",
      " 19  categorical__education_ Masters                    30161 non-null  float64\n",
      " 20  categorical__education_ Preschool                  30161 non-null  float64\n",
      " 21  categorical__education_ Prof-school                30161 non-null  float64\n",
      " 22  categorical__education_ Some-college               30161 non-null  float64\n",
      " 23  categorical__maritalstatus_ Divorced               30161 non-null  float64\n",
      " 24  categorical__maritalstatus_ Married-AF-spouse      30161 non-null  float64\n",
      " 25  categorical__maritalstatus_ Married-civ-spouse     30161 non-null  float64\n",
      " 26  categorical__maritalstatus_ Married-spouse-absent  30161 non-null  float64\n",
      " 27  categorical__maritalstatus_ Never-married          30161 non-null  float64\n",
      " 28  categorical__maritalstatus_ Separated              30161 non-null  float64\n",
      " 29  categorical__maritalstatus_ Widowed                30161 non-null  float64\n",
      " 30  categorical__occupation_ Adm-clerical              30161 non-null  float64\n",
      " 31  categorical__occupation_ Armed-Forces              30161 non-null  float64\n",
      " 32  categorical__occupation_ Craft-repair              30161 non-null  float64\n",
      " 33  categorical__occupation_ Exec-managerial           30161 non-null  float64\n",
      " 34  categorical__occupation_ Farming-fishing           30161 non-null  float64\n",
      " 35  categorical__occupation_ Handlers-cleaners         30161 non-null  float64\n",
      " 36  categorical__occupation_ Machine-op-inspct         30161 non-null  float64\n",
      " 37  categorical__occupation_ Other-service             30161 non-null  float64\n",
      " 38  categorical__occupation_ Priv-house-serv           30161 non-null  float64\n",
      " 39  categorical__occupation_ Prof-specialty            30161 non-null  float64\n",
      " 40  categorical__occupation_ Protective-serv           30161 non-null  float64\n",
      " 41  categorical__occupation_ Sales                     30161 non-null  float64\n",
      " 42  categorical__occupation_ Tech-support              30161 non-null  float64\n",
      " 43  categorical__occupation_ Transport-moving          30161 non-null  float64\n",
      " 44  categorical__relationship_ Husband                 30161 non-null  float64\n",
      " 45  categorical__relationship_ Not-in-family           30161 non-null  float64\n",
      " 46  categorical__relationship_ Other-relative          30161 non-null  float64\n",
      " 47  categorical__relationship_ Own-child               30161 non-null  float64\n",
      " 48  categorical__relationship_ Unmarried               30161 non-null  float64\n",
      " 49  categorical__relationship_ Wife                    30161 non-null  float64\n",
      " 50  categorical__race_ Amer-Indian-Eskimo              30161 non-null  float64\n",
      " 51  categorical__race_ Asian-Pac-Islander              30161 non-null  float64\n",
      " 52  categorical__race_ Black                           30161 non-null  float64\n",
      " 53  categorical__race_ Other                           30161 non-null  float64\n",
      " 54  categorical__race_ White                           30161 non-null  float64\n",
      " 55  categorical__sex_ Female                           30161 non-null  float64\n",
      " 56  categorical__sex_ Male                             30161 non-null  float64\n",
      " 57  categorical__native_ Cambodia                      30161 non-null  float64\n",
      " 58  categorical__native_ Canada                        30161 non-null  float64\n",
      " 59  categorical__native_ China                         30161 non-null  float64\n",
      " 60  categorical__native_ Columbia                      30161 non-null  float64\n",
      " 61  categorical__native_ Cuba                          30161 non-null  float64\n",
      " 62  categorical__native_ Dominican-Republic            30161 non-null  float64\n",
      " 63  categorical__native_ Ecuador                       30161 non-null  float64\n",
      " 64  categorical__native_ El-Salvador                   30161 non-null  float64\n",
      " 65  categorical__native_ England                       30161 non-null  float64\n",
      " 66  categorical__native_ France                        30161 non-null  float64\n",
      " 67  categorical__native_ Germany                       30161 non-null  float64\n",
      " 68  categorical__native_ Greece                        30161 non-null  float64\n",
      " 69  categorical__native_ Guatemala                     30161 non-null  float64\n",
      " 70  categorical__native_ Haiti                         30161 non-null  float64\n",
      " 71  categorical__native_ Honduras                      30161 non-null  float64\n",
      " 72  categorical__native_ Hong                          30161 non-null  float64\n",
      " 73  categorical__native_ Hungary                       30161 non-null  float64\n",
      " 74  categorical__native_ India                         30161 non-null  float64\n",
      " 75  categorical__native_ Iran                          30161 non-null  float64\n",
      " 76  categorical__native_ Ireland                       30161 non-null  float64\n",
      " 77  categorical__native_ Italy                         30161 non-null  float64\n",
      " 78  categorical__native_ Jamaica                       30161 non-null  float64\n",
      " 79  categorical__native_ Japan                         30161 non-null  float64\n",
      " 80  categorical__native_ Laos                          30161 non-null  float64\n",
      " 81  categorical__native_ Mexico                        30161 non-null  float64\n",
      " 82  categorical__native_ Nicaragua                     30161 non-null  float64\n",
      " 83  categorical__native_ Outlying-US(Guam-USVI-etc)    30161 non-null  float64\n",
      " 84  categorical__native_ Peru                          30161 non-null  float64\n",
      " 85  categorical__native_ Philippines                   30161 non-null  float64\n",
      " 86  categorical__native_ Poland                        30161 non-null  float64\n",
      " 87  categorical__native_ Portugal                      30161 non-null  float64\n",
      " 88  categorical__native_ Puerto-Rico                   30161 non-null  float64\n",
      " 89  categorical__native_ Scotland                      30161 non-null  float64\n",
      " 90  categorical__native_ South                         30161 non-null  float64\n",
      " 91  categorical__native_ Taiwan                        30161 non-null  float64\n",
      " 92  categorical__native_ Thailand                      30161 non-null  float64\n",
      " 93  categorical__native_ Trinadad&Tobago               30161 non-null  float64\n",
      " 94  categorical__native_ United-States                 30161 non-null  float64\n",
      " 95  categorical__native_ Vietnam                       30161 non-null  float64\n",
      " 96  categorical__native_ Yugoslavia                    30161 non-null  float64\n",
      "dtypes: float64(97)\n",
      "memory usage: 22.3 MB\n"
     ]
    }
   ],
   "source": [
    "# To get feature names for Categorical columns after Onehotencoding \n",
    "encode_data.columns = clean.get_feature_names_out(input_features = X.columns)\n",
    "encode_data.info()"
   ]
  },
  {
   "cell_type": "code",
   "execution_count": 34,
   "id": "a0f679ae-620e-430a-94ec-86682f0564b0",
   "metadata": {},
   "outputs": [
    {
     "name": "stdout",
     "output_type": "stream",
     "text": [
      "<class 'pandas.core.frame.DataFrame'>\n",
      "RangeIndex: 30161 entries, 0 to 30160\n",
      "Columns: 102 entries, age to categorical__native_ Yugoslavia\n",
      "dtypes: float64(102)\n",
      "memory usage: 23.5 MB\n"
     ]
    }
   ],
   "source": [
    "clean_data = pd.concat([scaled_data, encode_data], axis = 1) \n",
    "clean_data.info()"
   ]
  },
  {
   "cell_type": "code",
   "execution_count": 35,
   "id": "a19f7545-3231-4f15-9563-145a698da589",
   "metadata": {},
   "outputs": [
    {
     "data": {
      "text/html": [
       "<div>\n",
       "<style scoped>\n",
       "    .dataframe tbody tr th:only-of-type {\n",
       "        vertical-align: middle;\n",
       "    }\n",
       "\n",
       "    .dataframe tbody tr th {\n",
       "        vertical-align: top;\n",
       "    }\n",
       "\n",
       "    .dataframe thead th {\n",
       "        text-align: right;\n",
       "    }\n",
       "</style>\n",
       "<table border=\"1\" class=\"dataframe\">\n",
       "  <thead>\n",
       "    <tr style=\"text-align: right;\">\n",
       "      <th></th>\n",
       "      <th>age</th>\n",
       "      <th>educationno</th>\n",
       "      <th>capitalgain</th>\n",
       "      <th>capitalloss</th>\n",
       "      <th>hoursperweek</th>\n",
       "      <th>categorical__workclass_ Federal-gov</th>\n",
       "      <th>categorical__workclass_ Local-gov</th>\n",
       "      <th>categorical__workclass_ Private</th>\n",
       "      <th>categorical__workclass_ Self-emp-inc</th>\n",
       "      <th>categorical__workclass_ Self-emp-not-inc</th>\n",
       "      <th>...</th>\n",
       "      <th>categorical__native_ Portugal</th>\n",
       "      <th>categorical__native_ Puerto-Rico</th>\n",
       "      <th>categorical__native_ Scotland</th>\n",
       "      <th>categorical__native_ South</th>\n",
       "      <th>categorical__native_ Taiwan</th>\n",
       "      <th>categorical__native_ Thailand</th>\n",
       "      <th>categorical__native_ Trinadad&amp;Tobago</th>\n",
       "      <th>categorical__native_ United-States</th>\n",
       "      <th>categorical__native_ Vietnam</th>\n",
       "      <th>categorical__native_ Yugoslavia</th>\n",
       "    </tr>\n",
       "  </thead>\n",
       "  <tbody>\n",
       "    <tr>\n",
       "      <th>0</th>\n",
       "      <td>0.376068</td>\n",
       "      <td>0.769231</td>\n",
       "      <td>0.02174</td>\n",
       "      <td>0.0</td>\n",
       "      <td>0.375</td>\n",
       "      <td>0.0</td>\n",
       "      <td>0.0</td>\n",
       "      <td>0.0</td>\n",
       "      <td>0.0</td>\n",
       "      <td>0.0</td>\n",
       "      <td>...</td>\n",
       "      <td>0.0</td>\n",
       "      <td>0.0</td>\n",
       "      <td>0.0</td>\n",
       "      <td>0.0</td>\n",
       "      <td>0.0</td>\n",
       "      <td>0.0</td>\n",
       "      <td>0.0</td>\n",
       "      <td>1.0</td>\n",
       "      <td>0.0</td>\n",
       "      <td>0.0</td>\n",
       "    </tr>\n",
       "    <tr>\n",
       "      <th>1</th>\n",
       "      <td>0.564103</td>\n",
       "      <td>0.769231</td>\n",
       "      <td>0.00000</td>\n",
       "      <td>0.0</td>\n",
       "      <td>0.000</td>\n",
       "      <td>0.0</td>\n",
       "      <td>0.0</td>\n",
       "      <td>0.0</td>\n",
       "      <td>0.0</td>\n",
       "      <td>1.0</td>\n",
       "      <td>...</td>\n",
       "      <td>0.0</td>\n",
       "      <td>0.0</td>\n",
       "      <td>0.0</td>\n",
       "      <td>0.0</td>\n",
       "      <td>0.0</td>\n",
       "      <td>0.0</td>\n",
       "      <td>0.0</td>\n",
       "      <td>1.0</td>\n",
       "      <td>0.0</td>\n",
       "      <td>0.0</td>\n",
       "    </tr>\n",
       "    <tr>\n",
       "      <th>2</th>\n",
       "      <td>0.358974</td>\n",
       "      <td>0.461538</td>\n",
       "      <td>0.00000</td>\n",
       "      <td>0.0</td>\n",
       "      <td>0.375</td>\n",
       "      <td>0.0</td>\n",
       "      <td>0.0</td>\n",
       "      <td>1.0</td>\n",
       "      <td>0.0</td>\n",
       "      <td>0.0</td>\n",
       "      <td>...</td>\n",
       "      <td>0.0</td>\n",
       "      <td>0.0</td>\n",
       "      <td>0.0</td>\n",
       "      <td>0.0</td>\n",
       "      <td>0.0</td>\n",
       "      <td>0.0</td>\n",
       "      <td>0.0</td>\n",
       "      <td>1.0</td>\n",
       "      <td>0.0</td>\n",
       "      <td>0.0</td>\n",
       "    </tr>\n",
       "    <tr>\n",
       "      <th>3</th>\n",
       "      <td>0.615385</td>\n",
       "      <td>0.307692</td>\n",
       "      <td>0.00000</td>\n",
       "      <td>0.0</td>\n",
       "      <td>0.375</td>\n",
       "      <td>0.0</td>\n",
       "      <td>0.0</td>\n",
       "      <td>1.0</td>\n",
       "      <td>0.0</td>\n",
       "      <td>0.0</td>\n",
       "      <td>...</td>\n",
       "      <td>0.0</td>\n",
       "      <td>0.0</td>\n",
       "      <td>0.0</td>\n",
       "      <td>0.0</td>\n",
       "      <td>0.0</td>\n",
       "      <td>0.0</td>\n",
       "      <td>0.0</td>\n",
       "      <td>1.0</td>\n",
       "      <td>0.0</td>\n",
       "      <td>0.0</td>\n",
       "    </tr>\n",
       "    <tr>\n",
       "      <th>4</th>\n",
       "      <td>0.188034</td>\n",
       "      <td>0.769231</td>\n",
       "      <td>0.00000</td>\n",
       "      <td>0.0</td>\n",
       "      <td>0.375</td>\n",
       "      <td>0.0</td>\n",
       "      <td>0.0</td>\n",
       "      <td>1.0</td>\n",
       "      <td>0.0</td>\n",
       "      <td>0.0</td>\n",
       "      <td>...</td>\n",
       "      <td>0.0</td>\n",
       "      <td>0.0</td>\n",
       "      <td>0.0</td>\n",
       "      <td>0.0</td>\n",
       "      <td>0.0</td>\n",
       "      <td>0.0</td>\n",
       "      <td>0.0</td>\n",
       "      <td>0.0</td>\n",
       "      <td>0.0</td>\n",
       "      <td>0.0</td>\n",
       "    </tr>\n",
       "  </tbody>\n",
       "</table>\n",
       "<p>5 rows × 102 columns</p>\n",
       "</div>"
      ],
      "text/plain": [
       "        age  educationno  capitalgain  capitalloss  hoursperweek  \\\n",
       "0  0.376068     0.769231      0.02174          0.0         0.375   \n",
       "1  0.564103     0.769231      0.00000          0.0         0.000   \n",
       "2  0.358974     0.461538      0.00000          0.0         0.375   \n",
       "3  0.615385     0.307692      0.00000          0.0         0.375   \n",
       "4  0.188034     0.769231      0.00000          0.0         0.375   \n",
       "\n",
       "   categorical__workclass_ Federal-gov  categorical__workclass_ Local-gov  \\\n",
       "0                                  0.0                                0.0   \n",
       "1                                  0.0                                0.0   \n",
       "2                                  0.0                                0.0   \n",
       "3                                  0.0                                0.0   \n",
       "4                                  0.0                                0.0   \n",
       "\n",
       "   categorical__workclass_ Private  categorical__workclass_ Self-emp-inc  \\\n",
       "0                              0.0                                   0.0   \n",
       "1                              0.0                                   0.0   \n",
       "2                              1.0                                   0.0   \n",
       "3                              1.0                                   0.0   \n",
       "4                              1.0                                   0.0   \n",
       "\n",
       "   categorical__workclass_ Self-emp-not-inc  ...  \\\n",
       "0                                       0.0  ...   \n",
       "1                                       1.0  ...   \n",
       "2                                       0.0  ...   \n",
       "3                                       0.0  ...   \n",
       "4                                       0.0  ...   \n",
       "\n",
       "   categorical__native_ Portugal  categorical__native_ Puerto-Rico  \\\n",
       "0                            0.0                               0.0   \n",
       "1                            0.0                               0.0   \n",
       "2                            0.0                               0.0   \n",
       "3                            0.0                               0.0   \n",
       "4                            0.0                               0.0   \n",
       "\n",
       "   categorical__native_ Scotland  categorical__native_ South  \\\n",
       "0                            0.0                         0.0   \n",
       "1                            0.0                         0.0   \n",
       "2                            0.0                         0.0   \n",
       "3                            0.0                         0.0   \n",
       "4                            0.0                         0.0   \n",
       "\n",
       "   categorical__native_ Taiwan  categorical__native_ Thailand  \\\n",
       "0                          0.0                            0.0   \n",
       "1                          0.0                            0.0   \n",
       "2                          0.0                            0.0   \n",
       "3                          0.0                            0.0   \n",
       "4                          0.0                            0.0   \n",
       "\n",
       "   categorical__native_ Trinadad&Tobago  categorical__native_ United-States  \\\n",
       "0                                   0.0                                 1.0   \n",
       "1                                   0.0                                 1.0   \n",
       "2                                   0.0                                 1.0   \n",
       "3                                   0.0                                 1.0   \n",
       "4                                   0.0                                 0.0   \n",
       "\n",
       "   categorical__native_ Vietnam  categorical__native_ Yugoslavia  \n",
       "0                           0.0                              0.0  \n",
       "1                           0.0                              0.0  \n",
       "2                           0.0                              0.0  \n",
       "3                           0.0                              0.0  \n",
       "4                           0.0                              0.0  \n",
       "\n",
       "[5 rows x 102 columns]"
      ]
     },
     "execution_count": 35,
     "metadata": {},
     "output_type": "execute_result"
    }
   ],
   "source": [
    "clean_data.head()"
   ]
  },
  {
   "cell_type": "code",
   "execution_count": 36,
   "id": "3daa1dc5-9dc2-414d-8352-994789ddabd3",
   "metadata": {},
   "outputs": [],
   "source": [
    "# Data Partition into Train and Test\n",
    "train_X, test_X, train_y, test_y = train_test_split(clean_data, Y, test_size = 0.2, stratify = Y)"
   ]
  },
  {
   "cell_type": "code",
   "execution_count": 37,
   "id": "5cb53cd0-b404-40d4-8736-1cfbde89861f",
   "metadata": {},
   "outputs": [
    {
     "data": {
      "text/plain": [
       "(24128, 102)"
      ]
     },
     "execution_count": 37,
     "metadata": {},
     "output_type": "execute_result"
    }
   ],
   "source": [
    "train_X.shape"
   ]
  },
  {
   "cell_type": "code",
   "execution_count": 38,
   "id": "a138deaf-5d2c-4af7-9be0-f60372d16eab",
   "metadata": {},
   "outputs": [
    {
     "data": {
      "text/plain": [
       "(6033, 102)"
      ]
     },
     "execution_count": 38,
     "metadata": {},
     "output_type": "execute_result"
    }
   ],
   "source": [
    "test_X.shape"
   ]
  },
  {
   "cell_type": "code",
   "execution_count": null,
   "id": "3889835d-91d4-4c58-aa74-d43e250443ca",
   "metadata": {},
   "outputs": [],
   "source": []
  },
  {
   "cell_type": "markdown",
   "id": "9de12bce-b215-462d-a9f3-b9c9af5e9a34",
   "metadata": {},
   "source": [
    "# Support Vector Classifier"
   ]
  },
  {
   "cell_type": "code",
   "execution_count": 39,
   "id": "9c21af83-1bfb-40c5-9bc3-3587d1e42d95",
   "metadata": {},
   "outputs": [],
   "source": [
    "# SVC with linear kernel trick\n",
    "model_linear = SVC(kernel = \"linear\")\n",
    "model1 = model_linear.fit(train_X, train_y)"
   ]
  },
  {
   "cell_type": "code",
   "execution_count": 40,
   "id": "1ba8038d-23b2-4a06-a9b2-ce62dc452b7a",
   "metadata": {},
   "outputs": [],
   "source": [
    "pred_test_linear = model_linear.predict(test_X)"
   ]
  },
  {
   "cell_type": "code",
   "execution_count": 41,
   "id": "9ecb3616-e165-4c09-bbac-fbd888fbf23b",
   "metadata": {},
   "outputs": [
    {
     "data": {
      "text/plain": [
       "0.8422012265871043"
      ]
     },
     "execution_count": 41,
     "metadata": {},
     "output_type": "execute_result"
    }
   ],
   "source": [
    "# Accuracy\n",
    "np.mean(pred_test_linear == test_y)"
   ]
  },
  {
   "cell_type": "code",
   "execution_count": null,
   "id": "b10966b5-2438-431f-91ee-29b5c8078b0d",
   "metadata": {},
   "outputs": [],
   "source": []
  },
  {
   "cell_type": "markdown",
   "id": "b623c6bd-2344-48cc-953d-0312de2b60a3",
   "metadata": {},
   "source": [
    "## Hyperparameter Optimization RandomizedSearchCV"
   ]
  },
  {
   "cell_type": "code",
   "execution_count": 42,
   "id": "f6506442-fd9a-45f6-b1d5-a5ec1032ab8d",
   "metadata": {},
   "outputs": [],
   "source": [
    "# Base model\n",
    "model = SVC()"
   ]
  },
  {
   "cell_type": "code",
   "execution_count": 43,
   "id": "5a7b5f47-d3bd-4928-8581-e95776334957",
   "metadata": {},
   "outputs": [],
   "source": [
    "# Parameters set\n",
    "parameters = {'C': [0.1, 1, 10, 100], \n",
    "              'gamma': [1, 0.1, 0.01, 0.001],\n",
    "              'kernel': ['linear', 'poly', 'rbf', 'sigmoid']}"
   ]
  },
  {
   "cell_type": "code",
   "execution_count": 44,
   "id": "ad5aab47-eeba-40c7-b13f-3eaf0b02c42b",
   "metadata": {},
   "outputs": [],
   "source": [
    "# Randomized Search Technique for exhaustive search for best model\n",
    "rand_search =  RandomizedSearchCV(model, parameters, n_iter = 10, \n",
    "                                  n_jobs = 3, cv = 3, scoring = 'accuracy', random_state = 0)"
   ]
  },
  {
   "cell_type": "code",
   "execution_count": 45,
   "id": "269b047d-03b5-4599-905a-99d5915fca23",
   "metadata": {},
   "outputs": [],
   "source": [
    "# Fitting the model for grid search\n",
    "randomised = rand_search.fit(train_X, train_y)"
   ]
  },
  {
   "cell_type": "code",
   "execution_count": 46,
   "id": "5d6b2706-9fa5-453e-b3fc-f5ac04e5eb32",
   "metadata": {},
   "outputs": [
    {
     "data": {
      "text/plain": [
       "{'kernel': 'linear', 'gamma': 0.01, 'C': 10}"
      ]
     },
     "execution_count": 46,
     "metadata": {},
     "output_type": "execute_result"
    }
   ],
   "source": [
    "# Best parameters\n",
    "randomised.best_params_"
   ]
  },
  {
   "cell_type": "code",
   "execution_count": 47,
   "id": "46e985fe-bd7b-4060-8f87-cb216ebfae6f",
   "metadata": {},
   "outputs": [],
   "source": [
    "# Best Model\n",
    "best = randomised.best_estimator_"
   ]
  },
  {
   "cell_type": "code",
   "execution_count": 48,
   "id": "eea2af6c-949e-44e4-862d-b685e4785af2",
   "metadata": {},
   "outputs": [],
   "source": [
    "# Evaluate on Test data\n",
    "pred_test = best.predict(test_X)"
   ]
  },
  {
   "cell_type": "code",
   "execution_count": 49,
   "id": "bd7761f4-0e94-4691-9e4c-50778d92be01",
   "metadata": {},
   "outputs": [
    {
     "data": {
      "text/plain": [
       "0.8425327366152826"
      ]
     },
     "execution_count": 49,
     "metadata": {},
     "output_type": "execute_result"
    }
   ],
   "source": [
    "np.mean(pred_test == test_y)"
   ]
  },
  {
   "cell_type": "code",
   "execution_count": 50,
   "id": "937b1980-cf1c-4a79-bb42-b1dd73368e35",
   "metadata": {},
   "outputs": [],
   "source": [
    "# Saving the best model - rbf kernel model \n",
    "pickle.dump(best, open('svc_rcv.pkl', 'wb'))"
   ]
  },
  {
   "cell_type": "code",
   "execution_count": 51,
   "id": "f63d0f4e-dbc0-4497-ac72-e8ac09d31010",
   "metadata": {},
   "outputs": [],
   "source": [
    "# After applying hyperparameters the linear model is the best model and it is giving 84% accuarcy."
   ]
  },
  {
   "cell_type": "code",
   "execution_count": null,
   "id": "8810c4f2-851c-43d3-bec8-4aff61076d16",
   "metadata": {},
   "outputs": [],
   "source": []
  },
  {
   "cell_type": "markdown",
   "id": "b270f7d3-6b29-4bc9-9f80-d4a683a7da9e",
   "metadata": {},
   "source": [
    "## New Data Prediction"
   ]
  },
  {
   "cell_type": "code",
   "execution_count": 52,
   "id": "f7ec27ad-4b9e-4482-ae20-1ffea07c866c",
   "metadata": {},
   "outputs": [
    {
     "name": "stdout",
     "output_type": "stream",
     "text": [
      "<class 'pandas.core.frame.DataFrame'>\n",
      "RangeIndex: 15060 entries, 0 to 15059\n",
      "Data columns (total 14 columns):\n",
      " #   Column         Non-Null Count  Dtype \n",
      "---  ------         --------------  ----- \n",
      " 0   age            15060 non-null  int64 \n",
      " 1   workclass      15060 non-null  object\n",
      " 2   education      15060 non-null  object\n",
      " 3   educationno    15060 non-null  int64 \n",
      " 4   maritalstatus  15060 non-null  object\n",
      " 5   occupation     15060 non-null  object\n",
      " 6   relationship   15060 non-null  object\n",
      " 7   race           15060 non-null  object\n",
      " 8   sex            15060 non-null  object\n",
      " 9   capitalgain    15060 non-null  int64 \n",
      " 10  capitalloss    15060 non-null  int64 \n",
      " 11  hoursperweek   15060 non-null  int64 \n",
      " 12  native         15060 non-null  object\n",
      " 13  Salary         15060 non-null  object\n",
      "dtypes: int64(5), object(9)\n",
      "memory usage: 1.6+ MB\n"
     ]
    }
   ],
   "source": [
    "data = pd.read_csv(r\"D:\\360digi\\DS\\Sharath\\SVM\\handson\\Datasets-SVM\\SalaryData_Test.csv\")\n",
    "data.info()"
   ]
  },
  {
   "cell_type": "code",
   "execution_count": 53,
   "id": "4493d09b-a5bd-411d-a25b-1bffcd33bacf",
   "metadata": {},
   "outputs": [
    {
     "data": {
      "image/png": "[encoded data removed]",
      "text/plain": [
       "<Figure size 1000x600 with 5 Axes>"
      ]
     },
     "metadata": {},
     "output_type": "display_data"
    }
   ],
   "source": [
    "#Box plot visualization to view the outliers.\n",
    "data.plot(kind = 'box', subplots = True, sharey = False, figsize = (10, 6))\n",
    "\n",
    "plt.subplots_adjust(wspace = 0.75)\n",
    "plt.show()"
   ]
  },
  {
   "cell_type": "code",
   "execution_count": 54,
   "id": "8376a865-b796-47e7-bf55-4d760e40dcda",
   "metadata": {},
   "outputs": [],
   "source": [
    "# Winsorization for \"age\" column\n",
    "winsor = Winsorizer(capping_method = 'iqr', tail = 'both', fold = 1.5, variables = ['age'])\n",
    "\n",
    "data['age'] = winsor.fit_transform(data[['age']])"
   ]
  },
  {
   "cell_type": "code",
   "execution_count": 55,
   "id": "050d581f-980d-4bcb-be7b-a5477518ff19",
   "metadata": {},
   "outputs": [],
   "source": [
    "# Winsorization for \"educationno\" column\n",
    "winsor = Winsorizer(capping_method = 'iqr', tail = 'both', fold = 1.5, variables = ['educationno'])\n",
    "\n",
    "data['educationno'] = winsor.fit_transform(data[['educationno']])"
   ]
  },
  {
   "cell_type": "code",
   "execution_count": 56,
   "id": "14c514bb-1e23-46d0-b91b-7f5188028fd2",
   "metadata": {},
   "outputs": [],
   "source": [
    "# Winsorization for \"hoursperweek\" column\n",
    "winsor = Winsorizer(capping_method = 'iqr', tail = 'both', fold = 1.5, variables = ['hoursperweek'])\n",
    "\n",
    "data['hoursperweek'] = winsor.fit_transform(data[['hoursperweek']])"
   ]
  },
  {
   "cell_type": "code",
   "execution_count": 57,
   "id": "21bcca44-df6d-4b76-9a8a-889b8202caff",
   "metadata": {},
   "outputs": [],
   "source": [
    "X1 = data.iloc[:, :13]\n",
    "Y1 = data.iloc[:, 13]"
   ]
  },
  {
   "cell_type": "code",
   "execution_count": 58,
   "id": "4e2bb721-6e5e-4573-aafd-832b54b99e1b",
   "metadata": {},
   "outputs": [
    {
     "data": {
      "text/plain": [
       "0         <=50K\n",
       "1         <=50K\n",
       "2          >50K\n",
       "3          >50K\n",
       "4         <=50K\n",
       "          ...  \n",
       "15055     <=50K\n",
       "15056     <=50K\n",
       "15057     <=50K\n",
       "15058     <=50K\n",
       "15059      >50K\n",
       "Name: Salary, Length: 15060, dtype: object"
      ]
     },
     "execution_count": 58,
     "metadata": {},
     "output_type": "execute_result"
    }
   ],
   "source": [
    "Y1"
   ]
  },
  {
   "cell_type": "code",
   "execution_count": 59,
   "id": "371d5de7-a7d6-43ea-aec3-479a1fdd9a6e",
   "metadata": {},
   "outputs": [],
   "source": [
    "model1 = pickle.load(open('svc_rcv.pkl', 'rb'))"
   ]
  },
  {
   "cell_type": "code",
   "execution_count": 60,
   "id": "1e305ca6-c009-4a31-ba0c-cfbab2cae440",
   "metadata": {},
   "outputs": [],
   "source": [
    "## Scaling with MinMaxScaler\n",
    "scale_pipeline = Pipeline([('scale', MinMaxScaler())])\n",
    "\n",
    "scale_columntransfer = ColumnTransformer([('scale', scale_pipeline, numeric_features)]) # Skips the transformations for remaining columns\n",
    "\n",
    "scale = scale_columntransfer.fit(X1)"
   ]
  },
  {
   "cell_type": "code",
   "execution_count": 61,
   "id": "b416a3d0-9565-4653-9ffe-7d1c8f49cc4c",
   "metadata": {},
   "outputs": [
    {
     "data": {
      "text/html": [
       "<div>\n",
       "<style scoped>\n",
       "    .dataframe tbody tr th:only-of-type {\n",
       "        vertical-align: middle;\n",
       "    }\n",
       "\n",
       "    .dataframe tbody tr th {\n",
       "        vertical-align: top;\n",
       "    }\n",
       "\n",
       "    .dataframe thead th {\n",
       "        text-align: right;\n",
       "    }\n",
       "</style>\n",
       "<table border=\"1\" class=\"dataframe\">\n",
       "  <thead>\n",
       "    <tr style=\"text-align: right;\">\n",
       "      <th></th>\n",
       "      <th>age</th>\n",
       "      <th>educationno</th>\n",
       "      <th>capitalgain</th>\n",
       "      <th>capitalloss</th>\n",
       "      <th>hoursperweek</th>\n",
       "    </tr>\n",
       "  </thead>\n",
       "  <tbody>\n",
       "    <tr>\n",
       "      <th>count</th>\n",
       "      <td>15060.000000</td>\n",
       "      <td>15060.000000</td>\n",
       "      <td>15060.000000</td>\n",
       "      <td>15060.000000</td>\n",
       "      <td>15060.000000</td>\n",
       "    </tr>\n",
       "    <tr>\n",
       "      <th>mean</th>\n",
       "      <td>0.356535</td>\n",
       "      <td>0.547773</td>\n",
       "      <td>0.011203</td>\n",
       "      <td>0.023619</td>\n",
       "      <td>0.445687</td>\n",
       "    </tr>\n",
       "    <tr>\n",
       "      <th>std</th>\n",
       "      <td>0.218305</td>\n",
       "      <td>0.194861</td>\n",
       "      <td>0.077033</td>\n",
       "      <td>0.107767</td>\n",
       "      <td>0.307171</td>\n",
       "    </tr>\n",
       "    <tr>\n",
       "      <th>min</th>\n",
       "      <td>0.000000</td>\n",
       "      <td>0.000000</td>\n",
       "      <td>0.000000</td>\n",
       "      <td>0.000000</td>\n",
       "      <td>0.000000</td>\n",
       "    </tr>\n",
       "    <tr>\n",
       "      <th>25%</th>\n",
       "      <td>0.180328</td>\n",
       "      <td>0.461538</td>\n",
       "      <td>0.000000</td>\n",
       "      <td>0.000000</td>\n",
       "      <td>0.375000</td>\n",
       "    </tr>\n",
       "    <tr>\n",
       "      <th>50%</th>\n",
       "      <td>0.327869</td>\n",
       "      <td>0.538462</td>\n",
       "      <td>0.000000</td>\n",
       "      <td>0.000000</td>\n",
       "      <td>0.375000</td>\n",
       "    </tr>\n",
       "    <tr>\n",
       "      <th>75%</th>\n",
       "      <td>0.508197</td>\n",
       "      <td>0.769231</td>\n",
       "      <td>0.000000</td>\n",
       "      <td>0.000000</td>\n",
       "      <td>0.625000</td>\n",
       "    </tr>\n",
       "    <tr>\n",
       "      <th>max</th>\n",
       "      <td>1.000000</td>\n",
       "      <td>1.000000</td>\n",
       "      <td>1.000000</td>\n",
       "      <td>1.000000</td>\n",
       "      <td>1.000000</td>\n",
       "    </tr>\n",
       "  </tbody>\n",
       "</table>\n",
       "</div>"
      ],
      "text/plain": [
       "                age   educationno   capitalgain   capitalloss  hoursperweek\n",
       "count  15060.000000  15060.000000  15060.000000  15060.000000  15060.000000\n",
       "mean       0.356535      0.547773      0.011203      0.023619      0.445687\n",
       "std        0.218305      0.194861      0.077033      0.107767      0.307171\n",
       "min        0.000000      0.000000      0.000000      0.000000      0.000000\n",
       "25%        0.180328      0.461538      0.000000      0.000000      0.375000\n",
       "50%        0.327869      0.538462      0.000000      0.000000      0.375000\n",
       "75%        0.508197      0.769231      0.000000      0.000000      0.625000\n",
       "max        1.000000      1.000000      1.000000      1.000000      1.000000"
      ]
     },
     "execution_count": 61,
     "metadata": {},
     "output_type": "execute_result"
    }
   ],
   "source": [
    "scaled_data = pd.DataFrame(scale.transform(X1), columns = numeric_features)\n",
    "scaled_data.describe()"
   ]
  },
  {
   "cell_type": "code",
   "execution_count": 62,
   "id": "ad2b4a18-35ec-42a9-b3c4-9fd96a4fa215",
   "metadata": {},
   "outputs": [],
   "source": [
    "## Encoding\n",
    "# Categorical features\n",
    "encoding_pipeline = Pipeline([('onehot', OneHotEncoder())])\n",
    "\n",
    "preprocess_pipeline = ColumnTransformer([('categorical', encoding_pipeline, categorical_features)])\n",
    "\n",
    "clean =  preprocess_pipeline.fit(X1)"
   ]
  },
  {
   "cell_type": "code",
   "execution_count": 63,
   "id": "ab8d426d-dee8-4afb-b935-e49f74b79351",
   "metadata": {},
   "outputs": [
    {
     "data": {
      "text/html": [
       "<div>\n",
       "<style scoped>\n",
       "    .dataframe tbody tr th:only-of-type {\n",
       "        vertical-align: middle;\n",
       "    }\n",
       "\n",
       "    .dataframe tbody tr th {\n",
       "        vertical-align: top;\n",
       "    }\n",
       "\n",
       "    .dataframe thead th {\n",
       "        text-align: right;\n",
       "    }\n",
       "</style>\n",
       "<table border=\"1\" class=\"dataframe\">\n",
       "  <thead>\n",
       "    <tr style=\"text-align: right;\">\n",
       "      <th></th>\n",
       "      <th>0</th>\n",
       "      <th>1</th>\n",
       "      <th>2</th>\n",
       "      <th>3</th>\n",
       "      <th>4</th>\n",
       "      <th>5</th>\n",
       "      <th>6</th>\n",
       "      <th>7</th>\n",
       "      <th>8</th>\n",
       "      <th>9</th>\n",
       "      <th>...</th>\n",
       "      <th>87</th>\n",
       "      <th>88</th>\n",
       "      <th>89</th>\n",
       "      <th>90</th>\n",
       "      <th>91</th>\n",
       "      <th>92</th>\n",
       "      <th>93</th>\n",
       "      <th>94</th>\n",
       "      <th>95</th>\n",
       "      <th>96</th>\n",
       "    </tr>\n",
       "  </thead>\n",
       "  <tbody>\n",
       "    <tr>\n",
       "      <th>0</th>\n",
       "      <td>0.0</td>\n",
       "      <td>0.0</td>\n",
       "      <td>1.0</td>\n",
       "      <td>0.0</td>\n",
       "      <td>0.0</td>\n",
       "      <td>0.0</td>\n",
       "      <td>0.0</td>\n",
       "      <td>0.0</td>\n",
       "      <td>1.0</td>\n",
       "      <td>0.0</td>\n",
       "      <td>...</td>\n",
       "      <td>0.0</td>\n",
       "      <td>0.0</td>\n",
       "      <td>0.0</td>\n",
       "      <td>0.0</td>\n",
       "      <td>0.0</td>\n",
       "      <td>0.0</td>\n",
       "      <td>0.0</td>\n",
       "      <td>1.0</td>\n",
       "      <td>0.0</td>\n",
       "      <td>0.0</td>\n",
       "    </tr>\n",
       "    <tr>\n",
       "      <th>1</th>\n",
       "      <td>0.0</td>\n",
       "      <td>0.0</td>\n",
       "      <td>1.0</td>\n",
       "      <td>0.0</td>\n",
       "      <td>0.0</td>\n",
       "      <td>0.0</td>\n",
       "      <td>0.0</td>\n",
       "      <td>0.0</td>\n",
       "      <td>0.0</td>\n",
       "      <td>0.0</td>\n",
       "      <td>...</td>\n",
       "      <td>0.0</td>\n",
       "      <td>0.0</td>\n",
       "      <td>0.0</td>\n",
       "      <td>0.0</td>\n",
       "      <td>0.0</td>\n",
       "      <td>0.0</td>\n",
       "      <td>0.0</td>\n",
       "      <td>1.0</td>\n",
       "      <td>0.0</td>\n",
       "      <td>0.0</td>\n",
       "    </tr>\n",
       "    <tr>\n",
       "      <th>2</th>\n",
       "      <td>0.0</td>\n",
       "      <td>1.0</td>\n",
       "      <td>0.0</td>\n",
       "      <td>0.0</td>\n",
       "      <td>0.0</td>\n",
       "      <td>0.0</td>\n",
       "      <td>0.0</td>\n",
       "      <td>0.0</td>\n",
       "      <td>0.0</td>\n",
       "      <td>0.0</td>\n",
       "      <td>...</td>\n",
       "      <td>0.0</td>\n",
       "      <td>0.0</td>\n",
       "      <td>0.0</td>\n",
       "      <td>0.0</td>\n",
       "      <td>0.0</td>\n",
       "      <td>0.0</td>\n",
       "      <td>0.0</td>\n",
       "      <td>1.0</td>\n",
       "      <td>0.0</td>\n",
       "      <td>0.0</td>\n",
       "    </tr>\n",
       "    <tr>\n",
       "      <th>3</th>\n",
       "      <td>0.0</td>\n",
       "      <td>0.0</td>\n",
       "      <td>1.0</td>\n",
       "      <td>0.0</td>\n",
       "      <td>0.0</td>\n",
       "      <td>0.0</td>\n",
       "      <td>0.0</td>\n",
       "      <td>0.0</td>\n",
       "      <td>0.0</td>\n",
       "      <td>0.0</td>\n",
       "      <td>...</td>\n",
       "      <td>0.0</td>\n",
       "      <td>0.0</td>\n",
       "      <td>0.0</td>\n",
       "      <td>0.0</td>\n",
       "      <td>0.0</td>\n",
       "      <td>0.0</td>\n",
       "      <td>0.0</td>\n",
       "      <td>1.0</td>\n",
       "      <td>0.0</td>\n",
       "      <td>0.0</td>\n",
       "    </tr>\n",
       "    <tr>\n",
       "      <th>4</th>\n",
       "      <td>0.0</td>\n",
       "      <td>0.0</td>\n",
       "      <td>1.0</td>\n",
       "      <td>0.0</td>\n",
       "      <td>0.0</td>\n",
       "      <td>0.0</td>\n",
       "      <td>0.0</td>\n",
       "      <td>1.0</td>\n",
       "      <td>0.0</td>\n",
       "      <td>0.0</td>\n",
       "      <td>...</td>\n",
       "      <td>0.0</td>\n",
       "      <td>0.0</td>\n",
       "      <td>0.0</td>\n",
       "      <td>0.0</td>\n",
       "      <td>0.0</td>\n",
       "      <td>0.0</td>\n",
       "      <td>0.0</td>\n",
       "      <td>1.0</td>\n",
       "      <td>0.0</td>\n",
       "      <td>0.0</td>\n",
       "    </tr>\n",
       "    <tr>\n",
       "      <th>...</th>\n",
       "      <td>...</td>\n",
       "      <td>...</td>\n",
       "      <td>...</td>\n",
       "      <td>...</td>\n",
       "      <td>...</td>\n",
       "      <td>...</td>\n",
       "      <td>...</td>\n",
       "      <td>...</td>\n",
       "      <td>...</td>\n",
       "      <td>...</td>\n",
       "      <td>...</td>\n",
       "      <td>...</td>\n",
       "      <td>...</td>\n",
       "      <td>...</td>\n",
       "      <td>...</td>\n",
       "      <td>...</td>\n",
       "      <td>...</td>\n",
       "      <td>...</td>\n",
       "      <td>...</td>\n",
       "      <td>...</td>\n",
       "      <td>...</td>\n",
       "    </tr>\n",
       "    <tr>\n",
       "      <th>15055</th>\n",
       "      <td>0.0</td>\n",
       "      <td>0.0</td>\n",
       "      <td>1.0</td>\n",
       "      <td>0.0</td>\n",
       "      <td>0.0</td>\n",
       "      <td>0.0</td>\n",
       "      <td>0.0</td>\n",
       "      <td>0.0</td>\n",
       "      <td>0.0</td>\n",
       "      <td>0.0</td>\n",
       "      <td>...</td>\n",
       "      <td>0.0</td>\n",
       "      <td>0.0</td>\n",
       "      <td>0.0</td>\n",
       "      <td>0.0</td>\n",
       "      <td>0.0</td>\n",
       "      <td>0.0</td>\n",
       "      <td>0.0</td>\n",
       "      <td>1.0</td>\n",
       "      <td>0.0</td>\n",
       "      <td>0.0</td>\n",
       "    </tr>\n",
       "    <tr>\n",
       "      <th>15056</th>\n",
       "      <td>0.0</td>\n",
       "      <td>0.0</td>\n",
       "      <td>1.0</td>\n",
       "      <td>0.0</td>\n",
       "      <td>0.0</td>\n",
       "      <td>0.0</td>\n",
       "      <td>0.0</td>\n",
       "      <td>0.0</td>\n",
       "      <td>0.0</td>\n",
       "      <td>0.0</td>\n",
       "      <td>...</td>\n",
       "      <td>0.0</td>\n",
       "      <td>0.0</td>\n",
       "      <td>0.0</td>\n",
       "      <td>0.0</td>\n",
       "      <td>0.0</td>\n",
       "      <td>0.0</td>\n",
       "      <td>0.0</td>\n",
       "      <td>1.0</td>\n",
       "      <td>0.0</td>\n",
       "      <td>0.0</td>\n",
       "    </tr>\n",
       "    <tr>\n",
       "      <th>15057</th>\n",
       "      <td>0.0</td>\n",
       "      <td>0.0</td>\n",
       "      <td>1.0</td>\n",
       "      <td>0.0</td>\n",
       "      <td>0.0</td>\n",
       "      <td>0.0</td>\n",
       "      <td>0.0</td>\n",
       "      <td>0.0</td>\n",
       "      <td>0.0</td>\n",
       "      <td>0.0</td>\n",
       "      <td>...</td>\n",
       "      <td>0.0</td>\n",
       "      <td>0.0</td>\n",
       "      <td>0.0</td>\n",
       "      <td>0.0</td>\n",
       "      <td>0.0</td>\n",
       "      <td>0.0</td>\n",
       "      <td>0.0</td>\n",
       "      <td>1.0</td>\n",
       "      <td>0.0</td>\n",
       "      <td>0.0</td>\n",
       "    </tr>\n",
       "    <tr>\n",
       "      <th>15058</th>\n",
       "      <td>0.0</td>\n",
       "      <td>0.0</td>\n",
       "      <td>1.0</td>\n",
       "      <td>0.0</td>\n",
       "      <td>0.0</td>\n",
       "      <td>0.0</td>\n",
       "      <td>0.0</td>\n",
       "      <td>0.0</td>\n",
       "      <td>0.0</td>\n",
       "      <td>0.0</td>\n",
       "      <td>...</td>\n",
       "      <td>0.0</td>\n",
       "      <td>0.0</td>\n",
       "      <td>0.0</td>\n",
       "      <td>0.0</td>\n",
       "      <td>0.0</td>\n",
       "      <td>0.0</td>\n",
       "      <td>0.0</td>\n",
       "      <td>1.0</td>\n",
       "      <td>0.0</td>\n",
       "      <td>0.0</td>\n",
       "    </tr>\n",
       "    <tr>\n",
       "      <th>15059</th>\n",
       "      <td>0.0</td>\n",
       "      <td>0.0</td>\n",
       "      <td>0.0</td>\n",
       "      <td>1.0</td>\n",
       "      <td>0.0</td>\n",
       "      <td>0.0</td>\n",
       "      <td>0.0</td>\n",
       "      <td>0.0</td>\n",
       "      <td>0.0</td>\n",
       "      <td>0.0</td>\n",
       "      <td>...</td>\n",
       "      <td>0.0</td>\n",
       "      <td>0.0</td>\n",
       "      <td>0.0</td>\n",
       "      <td>0.0</td>\n",
       "      <td>0.0</td>\n",
       "      <td>0.0</td>\n",
       "      <td>0.0</td>\n",
       "      <td>1.0</td>\n",
       "      <td>0.0</td>\n",
       "      <td>0.0</td>\n",
       "    </tr>\n",
       "  </tbody>\n",
       "</table>\n",
       "<p>15060 rows × 97 columns</p>\n",
       "</div>"
      ],
      "text/plain": [
       "        0    1    2    3    4    5    6    7    8    9   ...   87   88   89  \\\n",
       "0      0.0  0.0  1.0  0.0  0.0  0.0  0.0  0.0  1.0  0.0  ...  0.0  0.0  0.0   \n",
       "1      0.0  0.0  1.0  0.0  0.0  0.0  0.0  0.0  0.0  0.0  ...  0.0  0.0  0.0   \n",
       "2      0.0  1.0  0.0  0.0  0.0  0.0  0.0  0.0  0.0  0.0  ...  0.0  0.0  0.0   \n",
       "3      0.0  0.0  1.0  0.0  0.0  0.0  0.0  0.0  0.0  0.0  ...  0.0  0.0  0.0   \n",
       "4      0.0  0.0  1.0  0.0  0.0  0.0  0.0  1.0  0.0  0.0  ...  0.0  0.0  0.0   \n",
       "...    ...  ...  ...  ...  ...  ...  ...  ...  ...  ...  ...  ...  ...  ...   \n",
       "15055  0.0  0.0  1.0  0.0  0.0  0.0  0.0  0.0  0.0  0.0  ...  0.0  0.0  0.0   \n",
       "15056  0.0  0.0  1.0  0.0  0.0  0.0  0.0  0.0  0.0  0.0  ...  0.0  0.0  0.0   \n",
       "15057  0.0  0.0  1.0  0.0  0.0  0.0  0.0  0.0  0.0  0.0  ...  0.0  0.0  0.0   \n",
       "15058  0.0  0.0  1.0  0.0  0.0  0.0  0.0  0.0  0.0  0.0  ...  0.0  0.0  0.0   \n",
       "15059  0.0  0.0  0.0  1.0  0.0  0.0  0.0  0.0  0.0  0.0  ...  0.0  0.0  0.0   \n",
       "\n",
       "        90   91   92   93   94   95   96  \n",
       "0      0.0  0.0  0.0  0.0  1.0  0.0  0.0  \n",
       "1      0.0  0.0  0.0  0.0  1.0  0.0  0.0  \n",
       "2      0.0  0.0  0.0  0.0  1.0  0.0  0.0  \n",
       "3      0.0  0.0  0.0  0.0  1.0  0.0  0.0  \n",
       "4      0.0  0.0  0.0  0.0  1.0  0.0  0.0  \n",
       "...    ...  ...  ...  ...  ...  ...  ...  \n",
       "15055  0.0  0.0  0.0  0.0  1.0  0.0  0.0  \n",
       "15056  0.0  0.0  0.0  0.0  1.0  0.0  0.0  \n",
       "15057  0.0  0.0  0.0  0.0  1.0  0.0  0.0  \n",
       "15058  0.0  0.0  0.0  0.0  1.0  0.0  0.0  \n",
       "15059  0.0  0.0  0.0  0.0  1.0  0.0  0.0  \n",
       "\n",
       "[15060 rows x 97 columns]"
      ]
     },
     "execution_count": 63,
     "metadata": {},
     "output_type": "execute_result"
    }
   ],
   "source": [
    "encode_data = pd.DataFrame(clean.transform(X1).todense())\n",
    "encode_data"
   ]
  },
  {
   "cell_type": "code",
   "execution_count": 65,
   "id": "188bf311-36a9-4576-b65e-bbbba74d89c6",
   "metadata": {},
   "outputs": [
    {
     "name": "stdout",
     "output_type": "stream",
     "text": [
      "<class 'pandas.core.frame.DataFrame'>\n",
      "RangeIndex: 15060 entries, 0 to 15059\n",
      "Data columns (total 97 columns):\n",
      " #   Column                                             Non-Null Count  Dtype  \n",
      "---  ------                                             --------------  -----  \n",
      " 0   categorical__workclass_ Federal-gov                15060 non-null  float64\n",
      " 1   categorical__workclass_ Local-gov                  15060 non-null  float64\n",
      " 2   categorical__workclass_ Private                    15060 non-null  float64\n",
      " 3   categorical__workclass_ Self-emp-inc               15060 non-null  float64\n",
      " 4   categorical__workclass_ Self-emp-not-inc           15060 non-null  float64\n",
      " 5   categorical__workclass_ State-gov                  15060 non-null  float64\n",
      " 6   categorical__workclass_ Without-pay                15060 non-null  float64\n",
      " 7   categorical__education_ 10th                       15060 non-null  float64\n",
      " 8   categorical__education_ 11th                       15060 non-null  float64\n",
      " 9   categorical__education_ 12th                       15060 non-null  float64\n",
      " 10  categorical__education_ 1st-4th                    15060 non-null  float64\n",
      " 11  categorical__education_ 5th-6th                    15060 non-null  float64\n",
      " 12  categorical__education_ 7th-8th                    15060 non-null  float64\n",
      " 13  categorical__education_ 9th                        15060 non-null  float64\n",
      " 14  categorical__education_ Assoc-acdm                 15060 non-null  float64\n",
      " 15  categorical__education_ Assoc-voc                  15060 non-null  float64\n",
      " 16  categorical__education_ Bachelors                  15060 non-null  float64\n",
      " 17  categorical__education_ Doctorate                  15060 non-null  float64\n",
      " 18  categorical__education_ HS-grad                    15060 non-null  float64\n",
      " 19  categorical__education_ Masters                    15060 non-null  float64\n",
      " 20  categorical__education_ Preschool                  15060 non-null  float64\n",
      " 21  categorical__education_ Prof-school                15060 non-null  float64\n",
      " 22  categorical__education_ Some-college               15060 non-null  float64\n",
      " 23  categorical__maritalstatus_ Divorced               15060 non-null  float64\n",
      " 24  categorical__maritalstatus_ Married-AF-spouse      15060 non-null  float64\n",
      " 25  categorical__maritalstatus_ Married-civ-spouse     15060 non-null  float64\n",
      " 26  categorical__maritalstatus_ Married-spouse-absent  15060 non-null  float64\n",
      " 27  categorical__maritalstatus_ Never-married          15060 non-null  float64\n",
      " 28  categorical__maritalstatus_ Separated              15060 non-null  float64\n",
      " 29  categorical__maritalstatus_ Widowed                15060 non-null  float64\n",
      " 30  categorical__occupation_ Adm-clerical              15060 non-null  float64\n",
      " 31  categorical__occupation_ Armed-Forces              15060 non-null  float64\n",
      " 32  categorical__occupation_ Craft-repair              15060 non-null  float64\n",
      " 33  categorical__occupation_ Exec-managerial           15060 non-null  float64\n",
      " 34  categorical__occupation_ Farming-fishing           15060 non-null  float64\n",
      " 35  categorical__occupation_ Handlers-cleaners         15060 non-null  float64\n",
      " 36  categorical__occupation_ Machine-op-inspct         15060 non-null  float64\n",
      " 37  categorical__occupation_ Other-service             15060 non-null  float64\n",
      " 38  categorical__occupation_ Priv-house-serv           15060 non-null  float64\n",
      " 39  categorical__occupation_ Prof-specialty            15060 non-null  float64\n",
      " 40  categorical__occupation_ Protective-serv           15060 non-null  float64\n",
      " 41  categorical__occupation_ Sales                     15060 non-null  float64\n",
      " 42  categorical__occupation_ Tech-support              15060 non-null  float64\n",
      " 43  categorical__occupation_ Transport-moving          15060 non-null  float64\n",
      " 44  categorical__relationship_ Husband                 15060 non-null  float64\n",
      " 45  categorical__relationship_ Not-in-family           15060 non-null  float64\n",
      " 46  categorical__relationship_ Other-relative          15060 non-null  float64\n",
      " 47  categorical__relationship_ Own-child               15060 non-null  float64\n",
      " 48  categorical__relationship_ Unmarried               15060 non-null  float64\n",
      " 49  categorical__relationship_ Wife                    15060 non-null  float64\n",
      " 50  categorical__race_ Amer-Indian-Eskimo              15060 non-null  float64\n",
      " 51  categorical__race_ Asian-Pac-Islander              15060 non-null  float64\n",
      " 52  categorical__race_ Black                           15060 non-null  float64\n",
      " 53  categorical__race_ Other                           15060 non-null  float64\n",
      " 54  categorical__race_ White                           15060 non-null  float64\n",
      " 55  categorical__sex_ Female                           15060 non-null  float64\n",
      " 56  categorical__sex_ Male                             15060 non-null  float64\n",
      " 57  categorical__native_ Cambodia                      15060 non-null  float64\n",
      " 58  categorical__native_ Canada                        15060 non-null  float64\n",
      " 59  categorical__native_ China                         15060 non-null  float64\n",
      " 60  categorical__native_ Columbia                      15060 non-null  float64\n",
      " 61  categorical__native_ Cuba                          15060 non-null  float64\n",
      " 62  categorical__native_ Dominican-Republic            15060 non-null  float64\n",
      " 63  categorical__native_ Ecuador                       15060 non-null  float64\n",
      " 64  categorical__native_ El-Salvador                   15060 non-null  float64\n",
      " 65  categorical__native_ England                       15060 non-null  float64\n",
      " 66  categorical__native_ France                        15060 non-null  float64\n",
      " 67  categorical__native_ Germany                       15060 non-null  float64\n",
      " 68  categorical__native_ Greece                        15060 non-null  float64\n",
      " 69  categorical__native_ Guatemala                     15060 non-null  float64\n",
      " 70  categorical__native_ Haiti                         15060 non-null  float64\n",
      " 71  categorical__native_ Honduras                      15060 non-null  float64\n",
      " 72  categorical__native_ Hong                          15060 non-null  float64\n",
      " 73  categorical__native_ Hungary                       15060 non-null  float64\n",
      " 74  categorical__native_ India                         15060 non-null  float64\n",
      " 75  categorical__native_ Iran                          15060 non-null  float64\n",
      " 76  categorical__native_ Ireland                       15060 non-null  float64\n",
      " 77  categorical__native_ Italy                         15060 non-null  float64\n",
      " 78  categorical__native_ Jamaica                       15060 non-null  float64\n",
      " 79  categorical__native_ Japan                         15060 non-null  float64\n",
      " 80  categorical__native_ Laos                          15060 non-null  float64\n",
      " 81  categorical__native_ Mexico                        15060 non-null  float64\n",
      " 82  categorical__native_ Nicaragua                     15060 non-null  float64\n",
      " 83  categorical__native_ Outlying-US(Guam-USVI-etc)    15060 non-null  float64\n",
      " 84  categorical__native_ Peru                          15060 non-null  float64\n",
      " 85  categorical__native_ Philippines                   15060 non-null  float64\n",
      " 86  categorical__native_ Poland                        15060 non-null  float64\n",
      " 87  categorical__native_ Portugal                      15060 non-null  float64\n",
      " 88  categorical__native_ Puerto-Rico                   15060 non-null  float64\n",
      " 89  categorical__native_ Scotland                      15060 non-null  float64\n",
      " 90  categorical__native_ South                         15060 non-null  float64\n",
      " 91  categorical__native_ Taiwan                        15060 non-null  float64\n",
      " 92  categorical__native_ Thailand                      15060 non-null  float64\n",
      " 93  categorical__native_ Trinadad&Tobago               15060 non-null  float64\n",
      " 94  categorical__native_ United-States                 15060 non-null  float64\n",
      " 95  categorical__native_ Vietnam                       15060 non-null  float64\n",
      " 96  categorical__native_ Yugoslavia                    15060 non-null  float64\n",
      "dtypes: float64(97)\n",
      "memory usage: 11.1 MB\n"
     ]
    }
   ],
   "source": [
    "# To get feature names for Categorical columns after Onehotencoding \n",
    "encode_data.columns = clean.get_feature_names_out(input_features = X1.columns)\n",
    "encode_data.info()"
   ]
  },
  {
   "cell_type": "code",
   "execution_count": 66,
   "id": "a212c86b-01a7-40f3-9dda-f8d82f853107",
   "metadata": {},
   "outputs": [
    {
     "name": "stdout",
     "output_type": "stream",
     "text": [
      "<class 'pandas.core.frame.DataFrame'>\n",
      "RangeIndex: 15060 entries, 0 to 15059\n",
      "Columns: 102 entries, age to categorical__native_ Yugoslavia\n",
      "dtypes: float64(102)\n",
      "memory usage: 11.7 MB\n"
     ]
    }
   ],
   "source": [
    "clean_data = pd.concat([scaled_data, encode_data], axis = 1) \n",
    "clean_data.info()"
   ]
  },
  {
   "cell_type": "code",
   "execution_count": 67,
   "id": "8a60d56c-003d-4ffd-a86f-8bbcaca2d612",
   "metadata": {},
   "outputs": [],
   "source": [
    "prediction = pd.DataFrame(model1.predict(clean_data), columns = ['Salary'])"
   ]
  },
  {
   "cell_type": "code",
   "execution_count": 68,
   "id": "71d38a69-6c58-4a0a-b09f-17814b848007",
   "metadata": {},
   "outputs": [
    {
     "data": {
      "text/html": [
       "<div>\n",
       "<style scoped>\n",
       "    .dataframe tbody tr th:only-of-type {\n",
       "        vertical-align: middle;\n",
       "    }\n",
       "\n",
       "    .dataframe tbody tr th {\n",
       "        vertical-align: top;\n",
       "    }\n",
       "\n",
       "    .dataframe thead th {\n",
       "        text-align: right;\n",
       "    }\n",
       "</style>\n",
       "<table border=\"1\" class=\"dataframe\">\n",
       "  <thead>\n",
       "    <tr style=\"text-align: right;\">\n",
       "      <th></th>\n",
       "      <th>Salary</th>\n",
       "    </tr>\n",
       "  </thead>\n",
       "  <tbody>\n",
       "    <tr>\n",
       "      <th>0</th>\n",
       "      <td>&lt;=50K</td>\n",
       "    </tr>\n",
       "    <tr>\n",
       "      <th>1</th>\n",
       "      <td>&lt;=50K</td>\n",
       "    </tr>\n",
       "    <tr>\n",
       "      <th>2</th>\n",
       "      <td>&lt;=50K</td>\n",
       "    </tr>\n",
       "    <tr>\n",
       "      <th>3</th>\n",
       "      <td>&gt;50K</td>\n",
       "    </tr>\n",
       "    <tr>\n",
       "      <th>4</th>\n",
       "      <td>&lt;=50K</td>\n",
       "    </tr>\n",
       "    <tr>\n",
       "      <th>...</th>\n",
       "      <td>...</td>\n",
       "    </tr>\n",
       "    <tr>\n",
       "      <th>15055</th>\n",
       "      <td>&lt;=50K</td>\n",
       "    </tr>\n",
       "    <tr>\n",
       "      <th>15056</th>\n",
       "      <td>&lt;=50K</td>\n",
       "    </tr>\n",
       "    <tr>\n",
       "      <th>15057</th>\n",
       "      <td>&gt;50K</td>\n",
       "    </tr>\n",
       "    <tr>\n",
       "      <th>15058</th>\n",
       "      <td>&lt;=50K</td>\n",
       "    </tr>\n",
       "    <tr>\n",
       "      <th>15059</th>\n",
       "      <td>&gt;50K</td>\n",
       "    </tr>\n",
       "  </tbody>\n",
       "</table>\n",
       "<p>15060 rows × 1 columns</p>\n",
       "</div>"
      ],
      "text/plain": [
       "       Salary\n",
       "0       <=50K\n",
       "1       <=50K\n",
       "2       <=50K\n",
       "3        >50K\n",
       "4       <=50K\n",
       "...       ...\n",
       "15055   <=50K\n",
       "15056   <=50K\n",
       "15057    >50K\n",
       "15058   <=50K\n",
       "15059    >50K\n",
       "\n",
       "[15060 rows x 1 columns]"
      ]
     },
     "execution_count": 68,
     "metadata": {},
     "output_type": "execute_result"
    }
   ],
   "source": [
    "prediction"
   ]
  },
  {
   "cell_type": "code",
   "execution_count": 69,
   "id": "5cc7f5ae-3ca0-4f18-9148-481fc3955018",
   "metadata": {},
   "outputs": [
    {
     "data": {
      "text/plain": [
       "0.84667994687915"
      ]
     },
     "execution_count": 69,
     "metadata": {},
     "output_type": "execute_result"
    }
   ],
   "source": [
    "np.mean(prediction['Salary'] == Y1)"
   ]
  },
  {
   "cell_type": "code",
   "execution_count": null,
   "id": "61c4ba81-d8c7-48b1-9f33-79ca4d32a5ed",
   "metadata": {},
   "outputs": [],
   "source": []
  },
  {
   "cell_type": "code",
   "execution_count": null,
   "id": "0fa989bd-c1b5-42cd-af53-f73a46d6bbcb",
   "metadata": {},
   "outputs": [],
   "source": []
  },
  {
   "cell_type": "code",
   "execution_count": null,
   "id": "57dc17e6-7f7d-4840-93db-26155c54d8a9",
   "metadata": {},
   "outputs": [],
   "source": []
  }
 ],
 "metadata": {
  "kernelspec": {
   "display_name": "Python 3 (ipykernel)",
   "language": "python",
   "name": "python3"
  },
  "language_info": {
   "codemirror_mode": {
    "name": "ipython",
    "version": 3
   },
   "file_extension": ".py",
   "mimetype": "text/x-python",
   "name": "python",
   "nbconvert_exporter": "python",
   "pygments_lexer": "ipython3",
   "version": "3.8.10"
  }
 },
 "nbformat": 4,
 "nbformat_minor": 5
}
