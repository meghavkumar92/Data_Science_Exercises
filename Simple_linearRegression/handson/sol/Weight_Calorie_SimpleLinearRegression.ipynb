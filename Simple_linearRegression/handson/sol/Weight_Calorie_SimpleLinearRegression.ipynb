{
 "cells": [
  {
   "cell_type": "markdown",
   "id": "6b10ef43",
   "metadata": {},
   "source": [
    "# Simple Linear Regression"
   ]
  },
  {
   "cell_type": "markdown",
   "id": "8fff0c64",
   "metadata": {},
   "source": [
    "### Build a Simple Linear Regression model for food-based company to understand the relationship between person’s weight gain and the number of calories they consumed to come up with diet plans for each individuals. The calories consumed is the target variable. Also understand the correaltion and RMSE between the weight gain and calories consumed."
   ]
  },
  {
   "cell_type": "code",
   "execution_count": 1,
   "id": "d689b979",
   "metadata": {},
   "outputs": [],
   "source": [
    "# Import libraries\n",
    "import pandas as pd\n",
    "import numpy as np\n",
    "import matplotlib.pyplot as plt\n",
    "import seaborn as sns\n",
    "from feature_engine.outliers import Winsorizer\n",
    "from sklearn.compose import ColumnTransformer\n",
    "from sklearn.pipeline import Pipeline\n",
    "from sklearn.pipeline import make_pipeline\n",
    "from sklearn.impute import SimpleImputer\n",
    "from sklearn.model_selection import train_test_split\n",
    "\n",
    "import statsmodels.formula.api as smf"
   ]
  },
  {
   "cell_type": "code",
   "execution_count": 2,
   "id": "53f183ba",
   "metadata": {},
   "outputs": [
    {
     "name": "stdout",
     "output_type": "stream",
     "text": [
      "<class 'pandas.core.frame.DataFrame'>\n",
      "RangeIndex: 14 entries, 0 to 13\n",
      "Data columns (total 2 columns):\n",
      " #   Column                 Non-Null Count  Dtype\n",
      "---  ------                 --------------  -----\n",
      " 0   Weight gained (grams)  14 non-null     int64\n",
      " 1   Calories Consumed      14 non-null     int64\n",
      "dtypes: int64(2)\n",
      "memory usage: 352.0 bytes\n"
     ]
    }
   ],
   "source": [
    "# import dataset\n",
    "user_diet = pd.read_csv(r\"D:\\360digi\\DS\\Sharath\\Simple_linearRegression\\handson\\Datasets_SLR\\calories_consumed.csv\")\n",
    "user_diet.info()"
   ]
  },
  {
   "cell_type": "code",
   "execution_count": 3,
   "id": "c47a7a47",
   "metadata": {},
   "outputs": [
    {
     "data": {
      "text/html": [
       "<div>\n",
       "<style scoped>\n",
       "    .dataframe tbody tr th:only-of-type {\n",
       "        vertical-align: middle;\n",
       "    }\n",
       "\n",
       "    .dataframe tbody tr th {\n",
       "        vertical-align: top;\n",
       "    }\n",
       "\n",
       "    .dataframe thead th {\n",
       "        text-align: right;\n",
       "    }\n",
       "</style>\n",
       "<table border=\"1\" class=\"dataframe\">\n",
       "  <thead>\n",
       "    <tr style=\"text-align: right;\">\n",
       "      <th></th>\n",
       "      <th>Weight gained (grams)</th>\n",
       "      <th>Calories Consumed</th>\n",
       "    </tr>\n",
       "  </thead>\n",
       "  <tbody>\n",
       "    <tr>\n",
       "      <th>count</th>\n",
       "      <td>14.000000</td>\n",
       "      <td>14.000000</td>\n",
       "    </tr>\n",
       "    <tr>\n",
       "      <th>mean</th>\n",
       "      <td>357.714286</td>\n",
       "      <td>2340.714286</td>\n",
       "    </tr>\n",
       "    <tr>\n",
       "      <th>std</th>\n",
       "      <td>333.692495</td>\n",
       "      <td>752.109488</td>\n",
       "    </tr>\n",
       "    <tr>\n",
       "      <th>min</th>\n",
       "      <td>62.000000</td>\n",
       "      <td>1400.000000</td>\n",
       "    </tr>\n",
       "    <tr>\n",
       "      <th>25%</th>\n",
       "      <td>114.500000</td>\n",
       "      <td>1727.500000</td>\n",
       "    </tr>\n",
       "    <tr>\n",
       "      <th>50%</th>\n",
       "      <td>200.000000</td>\n",
       "      <td>2250.000000</td>\n",
       "    </tr>\n",
       "    <tr>\n",
       "      <th>75%</th>\n",
       "      <td>537.500000</td>\n",
       "      <td>2775.000000</td>\n",
       "    </tr>\n",
       "    <tr>\n",
       "      <th>max</th>\n",
       "      <td>1100.000000</td>\n",
       "      <td>3900.000000</td>\n",
       "    </tr>\n",
       "  </tbody>\n",
       "</table>\n",
       "</div>"
      ],
      "text/plain": [
       "       Weight gained (grams)  Calories Consumed\n",
       "count              14.000000          14.000000\n",
       "mean              357.714286        2340.714286\n",
       "std               333.692495         752.109488\n",
       "min                62.000000        1400.000000\n",
       "25%               114.500000        1727.500000\n",
       "50%               200.000000        2250.000000\n",
       "75%               537.500000        2775.000000\n",
       "max              1100.000000        3900.000000"
      ]
     },
     "execution_count": 3,
     "metadata": {},
     "output_type": "execute_result"
    }
   ],
   "source": [
    "user_diet.describe()"
   ]
  },
  {
   "cell_type": "code",
   "execution_count": 4,
   "id": "5f4bb781",
   "metadata": {},
   "outputs": [
    {
     "data": {
      "text/plain": [
       "Index(['Weight gained (grams)', 'Calories Consumed'], dtype='object')"
      ]
     },
     "execution_count": 4,
     "metadata": {},
     "output_type": "execute_result"
    }
   ],
   "source": [
    "user_diet.columns"
   ]
  },
  {
   "cell_type": "code",
   "execution_count": 5,
   "id": "ca05b642",
   "metadata": {},
   "outputs": [],
   "source": [
    "user_diet.rename(columns = {'Weight gained (grams)':'Weight_gained', 'Calories Consumed':'Calories_consumed'}, inplace = True)"
   ]
  },
  {
   "cell_type": "code",
   "execution_count": 6,
   "id": "54f88fb7",
   "metadata": {},
   "outputs": [],
   "source": [
    "user_diet.sort_values('Weight_gained', ascending = True, inplace = True)"
   ]
  },
  {
   "cell_type": "code",
   "execution_count": 7,
   "id": "cd8a772c",
   "metadata": {},
   "outputs": [],
   "source": [
    "user_diet.reset_index(inplace = True, drop = True)"
   ]
  },
  {
   "cell_type": "code",
   "execution_count": 8,
   "id": "c7d6eeea",
   "metadata": {},
   "outputs": [
    {
     "data": {
      "text/html": [
       "<div>\n",
       "<style scoped>\n",
       "    .dataframe tbody tr th:only-of-type {\n",
       "        vertical-align: middle;\n",
       "    }\n",
       "\n",
       "    .dataframe tbody tr th {\n",
       "        vertical-align: top;\n",
       "    }\n",
       "\n",
       "    .dataframe thead th {\n",
       "        text-align: right;\n",
       "    }\n",
       "</style>\n",
       "<table border=\"1\" class=\"dataframe\">\n",
       "  <thead>\n",
       "    <tr style=\"text-align: right;\">\n",
       "      <th></th>\n",
       "      <th>Weight_gained</th>\n",
       "      <th>Calories_consumed</th>\n",
       "    </tr>\n",
       "  </thead>\n",
       "  <tbody>\n",
       "    <tr>\n",
       "      <th>0</th>\n",
       "      <td>62</td>\n",
       "      <td>1900</td>\n",
       "    </tr>\n",
       "    <tr>\n",
       "      <th>1</th>\n",
       "      <td>100</td>\n",
       "      <td>1670</td>\n",
       "    </tr>\n",
       "    <tr>\n",
       "      <th>2</th>\n",
       "      <td>108</td>\n",
       "      <td>1500</td>\n",
       "    </tr>\n",
       "    <tr>\n",
       "      <th>3</th>\n",
       "      <td>110</td>\n",
       "      <td>1600</td>\n",
       "    </tr>\n",
       "    <tr>\n",
       "      <th>4</th>\n",
       "      <td>128</td>\n",
       "      <td>1400</td>\n",
       "    </tr>\n",
       "  </tbody>\n",
       "</table>\n",
       "</div>"
      ],
      "text/plain": [
       "   Weight_gained  Calories_consumed\n",
       "0             62               1900\n",
       "1            100               1670\n",
       "2            108               1500\n",
       "3            110               1600\n",
       "4            128               1400"
      ]
     },
     "execution_count": 8,
     "metadata": {},
     "output_type": "execute_result"
    }
   ],
   "source": [
    "user_diet.head()"
   ]
  },
  {
   "cell_type": "code",
   "execution_count": null,
   "id": "a4accd2e",
   "metadata": {},
   "outputs": [],
   "source": [
    "# Split the data into Target and Predictors"
   ]
  },
  {
   "cell_type": "code",
   "execution_count": 9,
   "id": "1aa1e14f",
   "metadata": {},
   "outputs": [],
   "source": [
    "X = pd.DataFrame(user_diet['Weight_gained'])"
   ]
  },
  {
   "cell_type": "code",
   "execution_count": 10,
   "id": "616314c8",
   "metadata": {},
   "outputs": [],
   "source": [
    "Y = pd.DataFrame(user_diet['Calories_consumed'])"
   ]
  },
  {
   "cell_type": "code",
   "execution_count": 11,
   "id": "6b055f2d",
   "metadata": {},
   "outputs": [
    {
     "data": {
      "text/plain": [
       "['Weight_gained']"
      ]
     },
     "execution_count": 11,
     "metadata": {},
     "output_type": "execute_result"
    }
   ],
   "source": [
    "# Select numeric features for data preprocessing\n",
    "numeric_features = ['Weight_gained']\n",
    "numeric_features"
   ]
  },
  {
   "cell_type": "code",
   "execution_count": 12,
   "id": "f8040119",
   "metadata": {},
   "outputs": [
    {
     "data": {
      "image/png": "[encoded data removed]",
      "text/plain": [
       "<Figure size 500x500 with 2 Axes>"
      ]
     },
     "metadata": {},
     "output_type": "display_data"
    }
   ],
   "source": [
    "# box plot visualisation\n",
    "user_diet.plot(kind = 'box', subplots = True, sharey = False, figsize = (5,5))\n",
    "plt.subplots_adjust(wspace = 0.75)\n",
    "plt.show()\n",
    "#No outliers"
   ]
  },
  {
   "cell_type": "code",
   "execution_count": 13,
   "id": "debced36",
   "metadata": {},
   "outputs": [
    {
     "data": {
      "text/plain": [
       "Weight_gained        0\n",
       "Calories_consumed    0\n",
       "dtype: int64"
      ]
     },
     "execution_count": 13,
     "metadata": {},
     "output_type": "execute_result"
    }
   ],
   "source": [
    "# missing value check\n",
    "user_diet.isnull().sum()"
   ]
  },
  {
   "cell_type": "code",
   "execution_count": null,
   "id": "b1ff1192",
   "metadata": {},
   "outputs": [],
   "source": [
    "# Below steps are not necessary for our dataset but creating a pipeline so we can test the algorithm with new dataset easily."
   ]
  },
  {
   "cell_type": "code",
   "execution_count": 14,
   "id": "5aede248",
   "metadata": {},
   "outputs": [
    {
     "data": {
      "text/plain": [
       "Winsorizer(capping_method='iqr', fold=1.5, tail='both',\n",
       "           variables=['Weight_gained'])"
      ]
     },
     "execution_count": 14,
     "metadata": {},
     "output_type": "execute_result"
    }
   ],
   "source": [
    "# Winsorization\n",
    "winsor = Winsorizer(capping_method = 'iqr', tail = 'both', fold = 1.5, variables = numeric_features)\n",
    "winsor"
   ]
  },
  {
   "cell_type": "code",
   "execution_count": 15,
   "id": "5fa46b2a",
   "metadata": {},
   "outputs": [
    {
     "data": {
      "text/plain": [
       "Pipeline(steps=[('impute', SimpleImputer())])"
      ]
     },
     "execution_count": 15,
     "metadata": {},
     "output_type": "execute_result"
    }
   ],
   "source": [
    "num_pipeline = Pipeline(steps = [('impute', SimpleImputer(strategy = 'mean'))])\n",
    "num_pipeline"
   ]
  },
  {
   "cell_type": "code",
   "execution_count": 16,
   "id": "a812c53b",
   "metadata": {},
   "outputs": [
    {
     "data": {
      "text/plain": [
       "Pipeline(steps=[('winsor',\n",
       "                 Winsorizer(capping_method='iqr', fold=1.5, tail='both',\n",
       "                            variables=['Weight_gained']))])"
      ]
     },
     "execution_count": 16,
     "metadata": {},
     "output_type": "execute_result"
    }
   ],
   "source": [
    "outlier_pipeline = Pipeline(steps = [('winsor', winsor)])\n",
    "outlier_pipeline"
   ]
  },
  {
   "cell_type": "code",
   "execution_count": 17,
   "id": "8c36aa7d",
   "metadata": {},
   "outputs": [
    {
     "name": "stdout",
     "output_type": "stream",
     "text": [
      "ColumnTransformer(transformers=[('num',\n",
      "                                 Pipeline(steps=[('impute', SimpleImputer())]),\n",
      "                                 ['Weight_gained'])])\n"
     ]
    }
   ],
   "source": [
    "preprocessor = ColumnTransformer(transformers = [('num', num_pipeline, numeric_features)])\n",
    "print(preprocessor)"
   ]
  },
  {
   "cell_type": "code",
   "execution_count": 18,
   "id": "e923ecc0",
   "metadata": {},
   "outputs": [
    {
     "name": "stdout",
     "output_type": "stream",
     "text": [
      "ColumnTransformer(transformers=[('wins',\n",
      "                                 Pipeline(steps=[('winsor',\n",
      "                                                  Winsorizer(capping_method='iqr',\n",
      "                                                             fold=1.5,\n",
      "                                                             tail='both',\n",
      "                                                             variables=['Weight_gained']))]),\n",
      "                                 ['Weight_gained'])])\n"
     ]
    }
   ],
   "source": [
    "preprocessor1 = ColumnTransformer(transformers = [('wins', outlier_pipeline, numeric_features)])\n",
    "print(preprocessor1)"
   ]
  },
  {
   "cell_type": "code",
   "execution_count": 19,
   "id": "6913c260",
   "metadata": {},
   "outputs": [],
   "source": [
    "impute_data = preprocessor.fit(X)"
   ]
  },
  {
   "cell_type": "code",
   "execution_count": 20,
   "id": "4649e67c",
   "metadata": {},
   "outputs": [],
   "source": [
    "user_diet['Weight_gained'] = pd.DataFrame(impute_data.transform(X))"
   ]
  },
  {
   "cell_type": "code",
   "execution_count": 21,
   "id": "f1a18438",
   "metadata": {},
   "outputs": [],
   "source": [
    "X2 = pd.DataFrame(user_diet['Weight_gained'])"
   ]
  },
  {
   "cell_type": "code",
   "execution_count": 22,
   "id": "1e233b4c",
   "metadata": {},
   "outputs": [],
   "source": [
    "winz_data = preprocessor1.fit(X2)"
   ]
  },
  {
   "cell_type": "code",
   "execution_count": 23,
   "id": "5adbf009",
   "metadata": {},
   "outputs": [],
   "source": [
    "user_diet['Weight_gained'] = pd.DataFrame(winz_data.transform(X))"
   ]
  },
  {
   "cell_type": "code",
   "execution_count": 24,
   "id": "90e93463",
   "metadata": {},
   "outputs": [
    {
     "data": {
      "text/html": [
       "<div>\n",
       "<style scoped>\n",
       "    .dataframe tbody tr th:only-of-type {\n",
       "        vertical-align: middle;\n",
       "    }\n",
       "\n",
       "    .dataframe tbody tr th {\n",
       "        vertical-align: top;\n",
       "    }\n",
       "\n",
       "    .dataframe thead th {\n",
       "        text-align: right;\n",
       "    }\n",
       "</style>\n",
       "<table border=\"1\" class=\"dataframe\">\n",
       "  <thead>\n",
       "    <tr style=\"text-align: right;\">\n",
       "      <th></th>\n",
       "      <th>Weight_gained</th>\n",
       "      <th>Calories_consumed</th>\n",
       "    </tr>\n",
       "  </thead>\n",
       "  <tbody>\n",
       "    <tr>\n",
       "      <th>0</th>\n",
       "      <td>62</td>\n",
       "      <td>1900</td>\n",
       "    </tr>\n",
       "    <tr>\n",
       "      <th>1</th>\n",
       "      <td>100</td>\n",
       "      <td>1670</td>\n",
       "    </tr>\n",
       "    <tr>\n",
       "      <th>2</th>\n",
       "      <td>108</td>\n",
       "      <td>1500</td>\n",
       "    </tr>\n",
       "    <tr>\n",
       "      <th>3</th>\n",
       "      <td>110</td>\n",
       "      <td>1600</td>\n",
       "    </tr>\n",
       "    <tr>\n",
       "      <th>4</th>\n",
       "      <td>128</td>\n",
       "      <td>1400</td>\n",
       "    </tr>\n",
       "  </tbody>\n",
       "</table>\n",
       "</div>"
      ],
      "text/plain": [
       "   Weight_gained  Calories_consumed\n",
       "0             62               1900\n",
       "1            100               1670\n",
       "2            108               1500\n",
       "3            110               1600\n",
       "4            128               1400"
      ]
     },
     "execution_count": 24,
     "metadata": {},
     "output_type": "execute_result"
    }
   ],
   "source": [
    "user_diet.head()"
   ]
  },
  {
   "cell_type": "code",
   "execution_count": 25,
   "id": "f985c1e7",
   "metadata": {},
   "outputs": [
    {
     "data": {
      "image/png": "[encoded data removed]",
      "text/plain": [
       "<Figure size 500x500 with 2 Axes>"
      ]
     },
     "metadata": {},
     "output_type": "display_data"
    }
   ],
   "source": [
    "# box plot visualisation\n",
    "user_diet.plot(kind = 'box', subplots = True, sharey = False, figsize = (5,5))\n",
    "plt.subplots_adjust(wspace = 0.75)\n",
    "plt.show()"
   ]
  },
  {
   "cell_type": "code",
   "execution_count": null,
   "id": "9c3ca7a2",
   "metadata": {},
   "outputs": [],
   "source": [
    "# Exploratory data analysis"
   ]
  },
  {
   "cell_type": "code",
   "execution_count": 26,
   "id": "ca53898f",
   "metadata": {},
   "outputs": [
    {
     "name": "stderr",
     "output_type": "stream",
     "text": [
      "D:\\InstalledSoftwares\\Anaconda3\\envs\\dsenv\\lib\\site-packages\\tqdm\\auto.py:22: TqdmWarning: IProgress not found. Please update jupyter and ipywidgets. See https://ipywidgets.readthedocs.io/en/stable/user_install.html\n",
      "  from .autonotebook import tqdm as notebook_tqdm\n",
      "Done! Use 'show' commands to display/save.   |█████████████████████████████████████████| [100%]   00:00 -> (00:00 left)\n"
     ]
    },
    {
     "name": "stdout",
     "output_type": "stream",
     "text": [
      "Report EDAreport.html was generated! NOTEBOOK/COLAB USERS: the web browser MAY not pop up, regardless, the report IS saved in your notebook/colab files.\n"
     ]
    }
   ],
   "source": [
    "import sweetviz as sv\n",
    "\n",
    "report = sv.analyze(user_diet)\n",
    "report.show_html('EDAreport.html')"
   ]
  },
  {
   "cell_type": "code",
   "execution_count": null,
   "id": "3b1aafa5",
   "metadata": {},
   "outputs": [],
   "source": [
    "# Graphical analysis"
   ]
  },
  {
   "cell_type": "code",
   "execution_count": 27,
   "id": "d94fdbde",
   "metadata": {},
   "outputs": [
    {
     "data": {
      "text/plain": [
       "<matplotlib.collections.PathCollection at 0x2198d0a8388>"
      ]
     },
     "execution_count": 27,
     "metadata": {},
     "output_type": "execute_result"
    },
    {
     "data": {
      "image/png": "[encoded data removed]",
      "text/plain": [
       "<Figure size 640x480 with 1 Axes>"
      ]
     },
     "metadata": {},
     "output_type": "display_data"
    }
   ],
   "source": [
    "# # Bivariate Analysis\n",
    "# Scatter plot\n",
    "plt.scatter(x = user_diet['Weight_gained'], y = user_diet['Calories_consumed']) "
   ]
  },
  {
   "cell_type": "code",
   "execution_count": null,
   "id": "06b66b04",
   "metadata": {},
   "outputs": [],
   "source": [
    "# Shape: linear/ exponential\n",
    "# Direction : positive"
   ]
  },
  {
   "cell_type": "code",
   "execution_count": 28,
   "id": "34e5240a",
   "metadata": {},
   "outputs": [
    {
     "data": {
      "text/plain": [
       "array([[1.        , 0.94699101],\n",
       "       [0.94699101, 1.        ]])"
      ]
     },
     "execution_count": 28,
     "metadata": {},
     "output_type": "execute_result"
    }
   ],
   "source": [
    "# Correlation coefficient\n",
    "np.corrcoef(user_diet.Weight_gained, user_diet.Calories_consumed)"
   ]
  },
  {
   "cell_type": "code",
   "execution_count": 29,
   "id": "d8ebd850",
   "metadata": {},
   "outputs": [
    {
     "data": {
      "text/plain": [
       "237669.45054945053"
      ]
     },
     "execution_count": 29,
     "metadata": {},
     "output_type": "execute_result"
    }
   ],
   "source": [
    "# Covariance\n",
    "cov_output = np.cov(user_diet.Weight_gained, user_diet.Calories_consumed)[0, 1]\n",
    "cov_output"
   ]
  },
  {
   "cell_type": "code",
   "execution_count": 30,
   "id": "73538ae0",
   "metadata": {},
   "outputs": [
    {
     "data": {
      "image/png": "[encoded data removed]",
      "text/plain": [
       "<Figure size 640x480 with 2 Axes>"
      ]
     },
     "metadata": {},
     "output_type": "display_data"
    }
   ],
   "source": [
    "#Heatmap\n",
    "dataplot = sns.heatmap(user_diet.corr(), annot = True, cmap = \"YlGnBu\")"
   ]
  },
  {
   "cell_type": "code",
   "execution_count": null,
   "id": "26323295",
   "metadata": {},
   "outputs": [],
   "source": []
  },
  {
   "cell_type": "markdown",
   "id": "06262ce7",
   "metadata": {},
   "source": [
    "# Regression Techniques"
   ]
  },
  {
   "cell_type": "markdown",
   "id": "57bd6a79",
   "metadata": {},
   "source": [
    "### Simple Linear Regression Y ~ X"
   ]
  },
  {
   "cell_type": "code",
   "execution_count": 31,
   "id": "6e2e4574",
   "metadata": {},
   "outputs": [
    {
     "name": "stderr",
     "output_type": "stream",
     "text": [
      "D:\\InstalledSoftwares\\Anaconda3\\envs\\dsenv\\lib\\site-packages\\scipy\\stats\\stats.py:1542: UserWarning: kurtosistest only valid for n>=20 ... continuing anyway, n=14\n",
      "  \"anyway, n=%i\" % int(n))\n"
     ]
    },
    {
     "data": {
      "text/html": [
       "<table class=\"simpletable\">\n",
       "<caption>OLS Regression Results</caption>\n",
       "<tr>\n",
       "  <th>Dep. Variable:</th>    <td>Calories_consumed</td> <th>  R-squared:         </th> <td>   0.897</td>\n",
       "</tr>\n",
       "<tr>\n",
       "  <th>Model:</th>                   <td>OLS</td>        <th>  Adj. R-squared:    </th> <td>   0.888</td>\n",
       "</tr>\n",
       "<tr>\n",
       "  <th>Method:</th>             <td>Least Squares</td>   <th>  F-statistic:       </th> <td>   104.3</td>\n",
       "</tr>\n",
       "<tr>\n",
       "  <th>Date:</th>             <td>Sat, 25 Feb 2023</td>  <th>  Prob (F-statistic):</th> <td>2.86e-07</td>\n",
       "</tr>\n",
       "<tr>\n",
       "  <th>Time:</th>                 <td>00:46:50</td>      <th>  Log-Likelihood:    </th> <td> -96.170</td>\n",
       "</tr>\n",
       "<tr>\n",
       "  <th>No. Observations:</th>      <td>    14</td>       <th>  AIC:               </th> <td>   196.3</td>\n",
       "</tr>\n",
       "<tr>\n",
       "  <th>Df Residuals:</th>          <td>    12</td>       <th>  BIC:               </th> <td>   197.6</td>\n",
       "</tr>\n",
       "<tr>\n",
       "  <th>Df Model:</th>              <td>     1</td>       <th>                     </th>     <td> </td>   \n",
       "</tr>\n",
       "<tr>\n",
       "  <th>Covariance Type:</th>      <td>nonrobust</td>     <th>                     </th>     <td> </td>   \n",
       "</tr>\n",
       "</table>\n",
       "<table class=\"simpletable\">\n",
       "<tr>\n",
       "        <td></td>           <th>coef</th>     <th>std err</th>      <th>t</th>      <th>P>|t|</th>  <th>[0.025</th>    <th>0.975]</th>  \n",
       "</tr>\n",
       "<tr>\n",
       "  <th>Intercept</th>     <td> 1577.2007</td> <td>  100.541</td> <td>   15.687</td> <td> 0.000</td> <td> 1358.141</td> <td> 1796.260</td>\n",
       "</tr>\n",
       "<tr>\n",
       "  <th>Weight_gained</th> <td>    2.1344</td> <td>    0.209</td> <td>   10.211</td> <td> 0.000</td> <td>    1.679</td> <td>    2.590</td>\n",
       "</tr>\n",
       "</table>\n",
       "<table class=\"simpletable\">\n",
       "<tr>\n",
       "  <th>Omnibus:</th>       <td> 0.254</td> <th>  Durbin-Watson:     </th> <td>   0.935</td>\n",
       "</tr>\n",
       "<tr>\n",
       "  <th>Prob(Omnibus):</th> <td> 0.881</td> <th>  Jarque-Bera (JB):  </th> <td>   0.425</td>\n",
       "</tr>\n",
       "<tr>\n",
       "  <th>Skew:</th>          <td>-0.098</td> <th>  Prob(JB):          </th> <td>   0.808</td>\n",
       "</tr>\n",
       "<tr>\n",
       "  <th>Kurtosis:</th>      <td> 2.169</td> <th>  Cond. No.          </th> <td>    719.</td>\n",
       "</tr>\n",
       "</table><br/><br/>Notes:<br/>[1] Standard Errors assume that the covariance matrix of the errors is correctly specified."
      ],
      "text/plain": [
       "<class 'statsmodels.iolib.summary.Summary'>\n",
       "\"\"\"\n",
       "                            OLS Regression Results                            \n",
       "==============================================================================\n",
       "Dep. Variable:      Calories_consumed   R-squared:                       0.897\n",
       "Model:                            OLS   Adj. R-squared:                  0.888\n",
       "Method:                 Least Squares   F-statistic:                     104.3\n",
       "Date:                Sat, 25 Feb 2023   Prob (F-statistic):           2.86e-07\n",
       "Time:                        00:46:50   Log-Likelihood:                -96.170\n",
       "No. Observations:                  14   AIC:                             196.3\n",
       "Df Residuals:                      12   BIC:                             197.6\n",
       "Df Model:                           1                                         \n",
       "Covariance Type:            nonrobust                                         \n",
       "=================================================================================\n",
       "                    coef    std err          t      P>|t|      [0.025      0.975]\n",
       "---------------------------------------------------------------------------------\n",
       "Intercept      1577.2007    100.541     15.687      0.000    1358.141    1796.260\n",
       "Weight_gained     2.1344      0.209     10.211      0.000       1.679       2.590\n",
       "==============================================================================\n",
       "Omnibus:                        0.254   Durbin-Watson:                   0.935\n",
       "Prob(Omnibus):                  0.881   Jarque-Bera (JB):                0.425\n",
       "Skew:                          -0.098   Prob(JB):                        0.808\n",
       "Kurtosis:                       2.169   Cond. No.                         719.\n",
       "==============================================================================\n",
       "\n",
       "Notes:\n",
       "[1] Standard Errors assume that the covariance matrix of the errors is correctly specified.\n",
       "\"\"\""
      ]
     },
     "execution_count": 31,
     "metadata": {},
     "output_type": "execute_result"
    }
   ],
   "source": [
    "model = smf.ols('Calories_consumed ~ Weight_gained', data = user_diet).fit()\n",
    "model.summary()"
   ]
  },
  {
   "cell_type": "code",
   "execution_count": null,
   "id": "26f641dd",
   "metadata": {},
   "outputs": [],
   "source": [
    "# cal = 1577.2007 + 2.1344(Weight_gained)\n",
    "# R-squared : 0.897  where |r| > 0.85 is considered as strong correlation\n",
    "# RMSE : 232.8335"
   ]
  },
  {
   "cell_type": "code",
   "execution_count": 32,
   "id": "9f35fcd2",
   "metadata": {},
   "outputs": [
    {
     "data": {
      "text/plain": [
       "0     1709.534925\n",
       "1     1790.642998\n",
       "2     1807.718381\n",
       "3     1811.987227\n",
       "4     1850.406841\n",
       "5     1897.364146\n",
       "6     2004.085294\n",
       "7     2004.085294\n",
       "8     2217.527589\n",
       "9     2324.248737\n",
       "10    2857.854477\n",
       "11    3071.296772\n",
       "12    3498.181364\n",
       "13    3925.065955\n",
       "dtype: float64"
      ]
     },
     "execution_count": 32,
     "metadata": {},
     "output_type": "execute_result"
    }
   ],
   "source": [
    "pred1 = model.predict(pd.DataFrame(user_diet['Weight_gained']))\n",
    "\n",
    "pred1"
   ]
  },
  {
   "cell_type": "code",
   "execution_count": 33,
   "id": "4587ba40",
   "metadata": {},
   "outputs": [
    {
     "name": "stdout",
     "output_type": "stream",
     "text": [
      "-5.359522349733327e-13\n"
     ]
    }
   ],
   "source": [
    "# Error calculation (error = AV - PV)\n",
    "res1 = user_diet.Calories_consumed - pred1\n",
    "\n",
    "print(np.mean(res1))"
   ]
  },
  {
   "cell_type": "code",
   "execution_count": 34,
   "id": "4b631e12",
   "metadata": {},
   "outputs": [
    {
     "data": {
      "text/plain": [
       "232.8335007096089"
      ]
     },
     "execution_count": 34,
     "metadata": {},
     "output_type": "execute_result"
    }
   ],
   "source": [
    "res_sqr1 = res1 * res1\n",
    "mse1 = np.mean(res_sqr1)\n",
    "rmse1 = np.sqrt(mse1)\n",
    "rmse1"
   ]
  },
  {
   "cell_type": "code",
   "execution_count": 35,
   "id": "ed67f70f",
   "metadata": {},
   "outputs": [
    {
     "data": {
      "image/png": "[encoded data removed]",
      "text/plain": [
       "<Figure size 640x480 with 1 Axes>"
      ]
     },
     "metadata": {},
     "output_type": "display_data"
    }
   ],
   "source": [
    "# Regression Line\n",
    "plt.scatter(user_diet.Weight_gained, user_diet.Calories_consumed)\n",
    "plt.plot(user_diet.Weight_gained, pred1, \"r\")\n",
    "plt.legend(['Observed data', 'Predicted line'])\n",
    "plt.show()"
   ]
  },
  {
   "cell_type": "code",
   "execution_count": null,
   "id": "193c6972",
   "metadata": {},
   "outputs": [],
   "source": []
  },
  {
   "cell_type": "markdown",
   "id": "68ded738",
   "metadata": {},
   "source": [
    "## Model Tuning with Transformations"
   ]
  },
  {
   "cell_type": "markdown",
   "id": "34887fa3",
   "metadata": {},
   "source": [
    "### Log Transformation\n",
    "### x = log(Weight_gained); y = Calories_consumed"
   ]
  },
  {
   "cell_type": "code",
   "execution_count": 36,
   "id": "876d239f",
   "metadata": {},
   "outputs": [
    {
     "data": {
      "text/plain": [
       "<matplotlib.collections.PathCollection at 0x2198d7bc608>"
      ]
     },
     "execution_count": 36,
     "metadata": {},
     "output_type": "execute_result"
    },
    {
     "data": {
      "image/png": "[encoded data removed]",
      "text/plain": [
       "<Figure size 640x480 with 1 Axes>"
      ]
     },
     "metadata": {},
     "output_type": "display_data"
    }
   ],
   "source": [
    "plt.scatter(x = np.log(user_diet['Weight_gained']), y = user_diet['Calories_consumed'], color = 'brown')"
   ]
  },
  {
   "cell_type": "code",
   "execution_count": 37,
   "id": "98d6a025",
   "metadata": {},
   "outputs": [
    {
     "data": {
      "text/plain": [
       "array([[1.        , 0.93680369],\n",
       "       [0.93680369, 1.        ]])"
      ]
     },
     "execution_count": 37,
     "metadata": {},
     "output_type": "execute_result"
    }
   ],
   "source": [
    "#correlation\n",
    "np.corrcoef(np.log(user_diet.Weight_gained), user_diet.Calories_consumed)"
   ]
  },
  {
   "cell_type": "code",
   "execution_count": 38,
   "id": "bacf4c6f",
   "metadata": {},
   "outputs": [
    {
     "name": "stderr",
     "output_type": "stream",
     "text": [
      "D:\\InstalledSoftwares\\Anaconda3\\envs\\dsenv\\lib\\site-packages\\scipy\\stats\\stats.py:1542: UserWarning: kurtosistest only valid for n>=20 ... continuing anyway, n=14\n",
      "  \"anyway, n=%i\" % int(n))\n"
     ]
    },
    {
     "data": {
      "text/html": [
       "<table class=\"simpletable\">\n",
       "<caption>OLS Regression Results</caption>\n",
       "<tr>\n",
       "  <th>Dep. Variable:</th>    <td>Calories_consumed</td> <th>  R-squared:         </th> <td>   0.878</td>\n",
       "</tr>\n",
       "<tr>\n",
       "  <th>Model:</th>                   <td>OLS</td>        <th>  Adj. R-squared:    </th> <td>   0.867</td>\n",
       "</tr>\n",
       "<tr>\n",
       "  <th>Method:</th>             <td>Least Squares</td>   <th>  F-statistic:       </th> <td>   86.04</td>\n",
       "</tr>\n",
       "<tr>\n",
       "  <th>Date:</th>             <td>Sat, 25 Feb 2023</td>  <th>  Prob (F-statistic):</th> <td>8.02e-07</td>\n",
       "</tr>\n",
       "<tr>\n",
       "  <th>Time:</th>                 <td>00:47:14</td>      <th>  Log-Likelihood:    </th> <td> -97.363</td>\n",
       "</tr>\n",
       "<tr>\n",
       "  <th>No. Observations:</th>      <td>    14</td>       <th>  AIC:               </th> <td>   198.7</td>\n",
       "</tr>\n",
       "<tr>\n",
       "  <th>Df Residuals:</th>          <td>    12</td>       <th>  BIC:               </th> <td>   200.0</td>\n",
       "</tr>\n",
       "<tr>\n",
       "  <th>Df Model:</th>              <td>     1</td>       <th>                     </th>     <td> </td>   \n",
       "</tr>\n",
       "<tr>\n",
       "  <th>Covariance Type:</th>      <td>nonrobust</td>     <th>                     </th>     <td> </td>   \n",
       "</tr>\n",
       "</table>\n",
       "<table class=\"simpletable\">\n",
       "<tr>\n",
       "            <td></td>               <th>coef</th>     <th>std err</th>      <th>t</th>      <th>P>|t|</th>  <th>[0.025</th>    <th>0.975]</th>  \n",
       "</tr>\n",
       "<tr>\n",
       "  <th>Intercept</th>             <td>-1911.1244</td> <td>  464.188</td> <td>   -4.117</td> <td> 0.001</td> <td>-2922.503</td> <td> -899.746</td>\n",
       "</tr>\n",
       "<tr>\n",
       "  <th>np.log(Weight_gained)</th> <td>  774.1735</td> <td>   83.462</td> <td>    9.276</td> <td> 0.000</td> <td>  592.326</td> <td>  956.021</td>\n",
       "</tr>\n",
       "</table>\n",
       "<table class=\"simpletable\">\n",
       "<tr>\n",
       "  <th>Omnibus:</th>       <td> 4.026</td> <th>  Durbin-Watson:     </th> <td>   1.088</td>\n",
       "</tr>\n",
       "<tr>\n",
       "  <th>Prob(Omnibus):</th> <td> 0.134</td> <th>  Jarque-Bera (JB):  </th> <td>   1.659</td>\n",
       "</tr>\n",
       "<tr>\n",
       "  <th>Skew:</th>          <td> 0.772</td> <th>  Prob(JB):          </th> <td>   0.436</td>\n",
       "</tr>\n",
       "<tr>\n",
       "  <th>Kurtosis:</th>      <td> 3.679</td> <th>  Cond. No.          </th> <td>    36.4</td>\n",
       "</tr>\n",
       "</table><br/><br/>Notes:<br/>[1] Standard Errors assume that the covariance matrix of the errors is correctly specified."
      ],
      "text/plain": [
       "<class 'statsmodels.iolib.summary.Summary'>\n",
       "\"\"\"\n",
       "                            OLS Regression Results                            \n",
       "==============================================================================\n",
       "Dep. Variable:      Calories_consumed   R-squared:                       0.878\n",
       "Model:                            OLS   Adj. R-squared:                  0.867\n",
       "Method:                 Least Squares   F-statistic:                     86.04\n",
       "Date:                Sat, 25 Feb 2023   Prob (F-statistic):           8.02e-07\n",
       "Time:                        00:47:14   Log-Likelihood:                -97.363\n",
       "No. Observations:                  14   AIC:                             198.7\n",
       "Df Residuals:                      12   BIC:                             200.0\n",
       "Df Model:                           1                                         \n",
       "Covariance Type:            nonrobust                                         \n",
       "=========================================================================================\n",
       "                            coef    std err          t      P>|t|      [0.025      0.975]\n",
       "-----------------------------------------------------------------------------------------\n",
       "Intercept             -1911.1244    464.188     -4.117      0.001   -2922.503    -899.746\n",
       "np.log(Weight_gained)   774.1735     83.462      9.276      0.000     592.326     956.021\n",
       "==============================================================================\n",
       "Omnibus:                        4.026   Durbin-Watson:                   1.088\n",
       "Prob(Omnibus):                  0.134   Jarque-Bera (JB):                1.659\n",
       "Skew:                           0.772   Prob(JB):                        0.436\n",
       "Kurtosis:                       3.679   Cond. No.                         36.4\n",
       "==============================================================================\n",
       "\n",
       "Notes:\n",
       "[1] Standard Errors assume that the covariance matrix of the errors is correctly specified.\n",
       "\"\"\""
      ]
     },
     "execution_count": 38,
     "metadata": {},
     "output_type": "execute_result"
    }
   ],
   "source": [
    "model2 = smf.ols('Calories_consumed ~ np.log(Weight_gained)', data = user_diet).fit()\n",
    "model2.summary()"
   ]
  },
  {
   "cell_type": "code",
   "execution_count": null,
   "id": "bc69f918",
   "metadata": {},
   "outputs": [],
   "source": [
    "# cal = -1911.1244 + 774.1735(log(Weight_gained))\n",
    "# R-squared : 0.878  where |r| > 0.85 is considered as strong correlation\n",
    "# RMSE : 253.5580"
   ]
  },
  {
   "cell_type": "code",
   "execution_count": 39,
   "id": "58494775",
   "metadata": {},
   "outputs": [],
   "source": [
    "pred2 = model2.predict(pd.DataFrame(user_diet['Weight_gained']))"
   ]
  },
  {
   "cell_type": "code",
   "execution_count": 40,
   "id": "5c0fe1ff",
   "metadata": {},
   "outputs": [
    {
     "data": {
      "text/plain": [
       "253.55804039366248"
      ]
     },
     "execution_count": 40,
     "metadata": {},
     "output_type": "execute_result"
    }
   ],
   "source": [
    "# Error calculation\n",
    "res2 = user_diet.Calories_consumed - pred2\n",
    "res_sqr2 = res2 * res2\n",
    "mse2 = np.mean(res_sqr2)\n",
    "rmse2 = np.sqrt(mse2)\n",
    "rmse2"
   ]
  },
  {
   "cell_type": "code",
   "execution_count": 41,
   "id": "0794cbef",
   "metadata": {},
   "outputs": [
    {
     "data": {
      "image/png": "[encoded data removed]",
      "text/plain": [
       "<Figure size 640x480 with 1 Axes>"
      ]
     },
     "metadata": {},
     "output_type": "display_data"
    }
   ],
   "source": [
    "# Regression Line\n",
    "plt.scatter(np.log(user_diet.Weight_gained), user_diet.Calories_consumed)\n",
    "plt.plot(np.log(user_diet.Weight_gained), pred2, \"r\")\n",
    "plt.legend(['Observed data', 'Predicted line'])\n",
    "plt.show()"
   ]
  },
  {
   "cell_type": "code",
   "execution_count": null,
   "id": "c503d078",
   "metadata": {},
   "outputs": [],
   "source": []
  },
  {
   "cell_type": "markdown",
   "id": "2c09f06f",
   "metadata": {},
   "source": [
    "### Exponential transformation\n",
    "### x = Weight_gained; y = log(Calories_consumed)"
   ]
  },
  {
   "cell_type": "code",
   "execution_count": 42,
   "id": "39f484b6",
   "metadata": {},
   "outputs": [
    {
     "data": {
      "text/plain": [
       "<matplotlib.collections.PathCollection at 0x2198d765408>"
      ]
     },
     "execution_count": 42,
     "metadata": {},
     "output_type": "execute_result"
    },
    {
     "data": {
      "image/png": "[encoded data removed]",
      "text/plain": [
       "<Figure size 640x480 with 1 Axes>"
      ]
     },
     "metadata": {},
     "output_type": "display_data"
    }
   ],
   "source": [
    "plt.scatter(x = user_diet['Weight_gained'], y = np.log(user_diet['Calories_consumed']), color = 'orange')"
   ]
  },
  {
   "cell_type": "code",
   "execution_count": 43,
   "id": "11fc6e22",
   "metadata": {},
   "outputs": [
    {
     "data": {
      "text/plain": [
       "array([[1.        , 0.89872528],\n",
       "       [0.89872528, 1.        ]])"
      ]
     },
     "execution_count": 43,
     "metadata": {},
     "output_type": "execute_result"
    }
   ],
   "source": [
    "#correlation\n",
    "np.corrcoef(user_diet.Weight_gained, np.log(user_diet.Calories_consumed))"
   ]
  },
  {
   "cell_type": "code",
   "execution_count": 44,
   "id": "5614c99a",
   "metadata": {},
   "outputs": [
    {
     "name": "stderr",
     "output_type": "stream",
     "text": [
      "D:\\InstalledSoftwares\\Anaconda3\\envs\\dsenv\\lib\\site-packages\\scipy\\stats\\stats.py:1542: UserWarning: kurtosistest only valid for n>=20 ... continuing anyway, n=14\n",
      "  \"anyway, n=%i\" % int(n))\n"
     ]
    },
    {
     "data": {
      "text/html": [
       "<table class=\"simpletable\">\n",
       "<caption>OLS Regression Results</caption>\n",
       "<tr>\n",
       "  <th>Dep. Variable:</th>    <td>np.log(Calories_consumed)</td> <th>  R-squared:         </th> <td>   0.808</td>\n",
       "</tr>\n",
       "<tr>\n",
       "  <th>Model:</th>                       <td>OLS</td>            <th>  Adj. R-squared:    </th> <td>   0.792</td>\n",
       "</tr>\n",
       "<tr>\n",
       "  <th>Method:</th>                 <td>Least Squares</td>       <th>  F-statistic:       </th> <td>   50.40</td>\n",
       "</tr>\n",
       "<tr>\n",
       "  <th>Date:</th>                 <td>Sat, 25 Feb 2023</td>      <th>  Prob (F-statistic):</th> <td>1.25e-05</td>\n",
       "</tr>\n",
       "<tr>\n",
       "  <th>Time:</th>                     <td>00:47:37</td>          <th>  Log-Likelihood:    </th> <td>  8.3130</td>\n",
       "</tr>\n",
       "<tr>\n",
       "  <th>No. Observations:</th>          <td>    14</td>           <th>  AIC:               </th> <td>  -12.63</td>\n",
       "</tr>\n",
       "<tr>\n",
       "  <th>Df Residuals:</th>              <td>    12</td>           <th>  BIC:               </th> <td>  -11.35</td>\n",
       "</tr>\n",
       "<tr>\n",
       "  <th>Df Model:</th>                  <td>     1</td>           <th>                     </th>     <td> </td>   \n",
       "</tr>\n",
       "<tr>\n",
       "  <th>Covariance Type:</th>          <td>nonrobust</td>         <th>                     </th>     <td> </td>   \n",
       "</tr>\n",
       "</table>\n",
       "<table class=\"simpletable\">\n",
       "<tr>\n",
       "        <td></td>           <th>coef</th>     <th>std err</th>      <th>t</th>      <th>P>|t|</th>  <th>[0.025</th>    <th>0.975]</th>  \n",
       "</tr>\n",
       "<tr>\n",
       "  <th>Intercept</th>     <td>    7.4068</td> <td>    0.058</td> <td>  128.367</td> <td> 0.000</td> <td>    7.281</td> <td>    7.533</td>\n",
       "</tr>\n",
       "<tr>\n",
       "  <th>Weight_gained</th> <td>    0.0009</td> <td>    0.000</td> <td>    7.100</td> <td> 0.000</td> <td>    0.001</td> <td>    0.001</td>\n",
       "</tr>\n",
       "</table>\n",
       "<table class=\"simpletable\">\n",
       "<tr>\n",
       "  <th>Omnibus:</th>       <td> 0.488</td> <th>  Durbin-Watson:     </th> <td>   0.836</td>\n",
       "</tr>\n",
       "<tr>\n",
       "  <th>Prob(Omnibus):</th> <td> 0.783</td> <th>  Jarque-Bera (JB):  </th> <td>   0.559</td>\n",
       "</tr>\n",
       "<tr>\n",
       "  <th>Skew:</th>          <td>-0.317</td> <th>  Prob(JB):          </th> <td>   0.756</td>\n",
       "</tr>\n",
       "<tr>\n",
       "  <th>Kurtosis:</th>      <td> 2.254</td> <th>  Cond. No.          </th> <td>    719.</td>\n",
       "</tr>\n",
       "</table><br/><br/>Notes:<br/>[1] Standard Errors assume that the covariance matrix of the errors is correctly specified."
      ],
      "text/plain": [
       "<class 'statsmodels.iolib.summary.Summary'>\n",
       "\"\"\"\n",
       "                                OLS Regression Results                               \n",
       "=====================================================================================\n",
       "Dep. Variable:     np.log(Calories_consumed)   R-squared:                       0.808\n",
       "Model:                                   OLS   Adj. R-squared:                  0.792\n",
       "Method:                        Least Squares   F-statistic:                     50.40\n",
       "Date:                       Sat, 25 Feb 2023   Prob (F-statistic):           1.25e-05\n",
       "Time:                               00:47:37   Log-Likelihood:                 8.3130\n",
       "No. Observations:                         14   AIC:                            -12.63\n",
       "Df Residuals:                             12   BIC:                            -11.35\n",
       "Df Model:                                  1                                         \n",
       "Covariance Type:                   nonrobust                                         \n",
       "=================================================================================\n",
       "                    coef    std err          t      P>|t|      [0.025      0.975]\n",
       "---------------------------------------------------------------------------------\n",
       "Intercept         7.4068      0.058    128.367      0.000       7.281       7.533\n",
       "Weight_gained     0.0009      0.000      7.100      0.000       0.001       0.001\n",
       "==============================================================================\n",
       "Omnibus:                        0.488   Durbin-Watson:                   0.836\n",
       "Prob(Omnibus):                  0.783   Jarque-Bera (JB):                0.559\n",
       "Skew:                          -0.317   Prob(JB):                        0.756\n",
       "Kurtosis:                       2.254   Cond. No.                         719.\n",
       "==============================================================================\n",
       "\n",
       "Notes:\n",
       "[1] Standard Errors assume that the covariance matrix of the errors is correctly specified.\n",
       "\"\"\""
      ]
     },
     "execution_count": 44,
     "metadata": {},
     "output_type": "execute_result"
    }
   ],
   "source": [
    "model3 = smf.ols('np.log(Calories_consumed) ~ Weight_gained', data = user_diet).fit()\n",
    "model3.summary()"
   ]
  },
  {
   "cell_type": "code",
   "execution_count": null,
   "id": "39ba85cf",
   "metadata": {},
   "outputs": [],
   "source": [
    "# log(Calories_consumed) = 7.4068 + 0.0009(Weight_gained)\n",
    "# R-squared : 0.808  where |r| < 0.85 is considered as moderate correlation\n",
    "# RMSE : 272.4207"
   ]
  },
  {
   "cell_type": "code",
   "execution_count": 45,
   "id": "e0b724c4",
   "metadata": {},
   "outputs": [],
   "source": [
    "pred3 = model3.predict(pd.DataFrame(user_diet['Weight_gained']))"
   ]
  },
  {
   "cell_type": "code",
   "execution_count": 46,
   "id": "c18d656d",
   "metadata": {},
   "outputs": [
    {
     "name": "stdout",
     "output_type": "stream",
     "text": [
      "0     1736.526880\n",
      "1     1793.646733\n",
      "2     1805.909334\n",
      "3     1808.988061\n",
      "4     1836.933870\n",
      "5     1871.676808\n",
      "6     1953.101471\n",
      "7     1953.101471\n",
      "8     2126.731695\n",
      "9     2219.252162\n",
      "10    2745.847366\n",
      "11    2989.952498\n",
      "12    3545.194617\n",
      "13    4203.546672\n",
      "dtype: float64\n"
     ]
    }
   ],
   "source": [
    "pred3_at = np.exp(pred3)\n",
    "print(pred3_at)"
   ]
  },
  {
   "cell_type": "code",
   "execution_count": 47,
   "id": "92852299",
   "metadata": {},
   "outputs": [
    {
     "data": {
      "text/plain": [
       "272.4207117048497"
      ]
     },
     "execution_count": 47,
     "metadata": {},
     "output_type": "execute_result"
    }
   ],
   "source": [
    "res3 = user_diet.Calories_consumed - pred3_at\n",
    "res_sqr3 = res3 * res3\n",
    "mse3 = np.mean(res_sqr3)\n",
    "rmse3 = np.sqrt(mse3)\n",
    "rmse3"
   ]
  },
  {
   "cell_type": "code",
   "execution_count": 48,
   "id": "89efa448",
   "metadata": {},
   "outputs": [
    {
     "data": {
      "image/png": "[encoded data removed]",
      "text/plain": [
       "<Figure size 640x480 with 1 Axes>"
      ]
     },
     "metadata": {},
     "output_type": "display_data"
    }
   ],
   "source": [
    "# Regression Line\n",
    "plt.scatter(user_diet.Weight_gained, np.log(user_diet.Calories_consumed))\n",
    "plt.plot(user_diet.Weight_gained, pred3, \"r\")\n",
    "plt.legend(['Observed data', 'Predicted line'])\n",
    "plt.show()"
   ]
  },
  {
   "cell_type": "code",
   "execution_count": null,
   "id": "f8aae54c",
   "metadata": {},
   "outputs": [],
   "source": []
  },
  {
   "cell_type": "markdown",
   "id": "3647952c",
   "metadata": {},
   "source": [
    "### Polynomial transformation \n",
    "### x = Weight_gained; x^2 = Weight_gained*Weight_gained; y = log(Calories_consumed)\n",
    "### log(y) ~ x + x^2"
   ]
  },
  {
   "cell_type": "code",
   "execution_count": 49,
   "id": "6186d067",
   "metadata": {},
   "outputs": [],
   "source": [
    "X = pd.DataFrame(user_diet['Weight_gained'])"
   ]
  },
  {
   "cell_type": "code",
   "execution_count": 50,
   "id": "9c48e13c",
   "metadata": {},
   "outputs": [],
   "source": [
    "Y = pd.DataFrame(user_diet['Calories_consumed'])"
   ]
  },
  {
   "cell_type": "code",
   "execution_count": 51,
   "id": "f832504c",
   "metadata": {},
   "outputs": [
    {
     "name": "stderr",
     "output_type": "stream",
     "text": [
      "D:\\InstalledSoftwares\\Anaconda3\\envs\\dsenv\\lib\\site-packages\\scipy\\stats\\stats.py:1542: UserWarning: kurtosistest only valid for n>=20 ... continuing anyway, n=14\n",
      "  \"anyway, n=%i\" % int(n))\n"
     ]
    },
    {
     "data": {
      "text/html": [
       "<table class=\"simpletable\">\n",
       "<caption>OLS Regression Results</caption>\n",
       "<tr>\n",
       "  <th>Dep. Variable:</th>    <td>np.log(Calories_consumed)</td> <th>  R-squared:         </th> <td>   0.852</td>\n",
       "</tr>\n",
       "<tr>\n",
       "  <th>Model:</th>                       <td>OLS</td>            <th>  Adj. R-squared:    </th> <td>   0.825</td>\n",
       "</tr>\n",
       "<tr>\n",
       "  <th>Method:</th>                 <td>Least Squares</td>       <th>  F-statistic:       </th> <td>   31.55</td>\n",
       "</tr>\n",
       "<tr>\n",
       "  <th>Date:</th>                 <td>Sat, 25 Feb 2023</td>      <th>  Prob (F-statistic):</th> <td>2.78e-05</td>\n",
       "</tr>\n",
       "<tr>\n",
       "  <th>Time:</th>                     <td>00:48:10</td>          <th>  Log-Likelihood:    </th> <td>  10.125</td>\n",
       "</tr>\n",
       "<tr>\n",
       "  <th>No. Observations:</th>          <td>    14</td>           <th>  AIC:               </th> <td>  -14.25</td>\n",
       "</tr>\n",
       "<tr>\n",
       "  <th>Df Residuals:</th>              <td>    11</td>           <th>  BIC:               </th> <td>  -12.33</td>\n",
       "</tr>\n",
       "<tr>\n",
       "  <th>Df Model:</th>                  <td>     2</td>           <th>                     </th>     <td> </td>   \n",
       "</tr>\n",
       "<tr>\n",
       "  <th>Covariance Type:</th>          <td>nonrobust</td>         <th>                     </th>     <td> </td>   \n",
       "</tr>\n",
       "</table>\n",
       "<table class=\"simpletable\">\n",
       "<tr>\n",
       "                  <td></td>                    <th>coef</th>     <th>std err</th>      <th>t</th>      <th>P>|t|</th>  <th>[0.025</th>    <th>0.975]</th>  \n",
       "</tr>\n",
       "<tr>\n",
       "  <th>Intercept</th>                        <td>    7.2892</td> <td>    0.084</td> <td>   86.724</td> <td> 0.000</td> <td>    7.104</td> <td>    7.474</td>\n",
       "</tr>\n",
       "<tr>\n",
       "  <th>Weight_gained</th>                    <td>    0.0017</td> <td>    0.000</td> <td>    3.560</td> <td> 0.004</td> <td>    0.001</td> <td>    0.003</td>\n",
       "</tr>\n",
       "<tr>\n",
       "  <th>I(Weight_gained * Weight_gained)</th> <td>-7.689e-07</td> <td> 4.27e-07</td> <td>   -1.803</td> <td> 0.099</td> <td>-1.71e-06</td> <td>  1.7e-07</td>\n",
       "</tr>\n",
       "</table>\n",
       "<table class=\"simpletable\">\n",
       "<tr>\n",
       "  <th>Omnibus:</th>       <td> 0.744</td> <th>  Durbin-Watson:     </th> <td>   1.161</td>\n",
       "</tr>\n",
       "<tr>\n",
       "  <th>Prob(Omnibus):</th> <td> 0.689</td> <th>  Jarque-Bera (JB):  </th> <td>   0.721</td>\n",
       "</tr>\n",
       "<tr>\n",
       "  <th>Skew:</th>          <td>-0.394</td> <th>  Prob(JB):          </th> <td>   0.697</td>\n",
       "</tr>\n",
       "<tr>\n",
       "  <th>Kurtosis:</th>      <td> 2.217</td> <th>  Cond. No.          </th> <td>1.01e+06</td>\n",
       "</tr>\n",
       "</table><br/><br/>Notes:<br/>[1] Standard Errors assume that the covariance matrix of the errors is correctly specified.<br/>[2] The condition number is large, 1.01e+06. This might indicate that there are<br/>strong multicollinearity or other numerical problems."
      ],
      "text/plain": [
       "<class 'statsmodels.iolib.summary.Summary'>\n",
       "\"\"\"\n",
       "                                OLS Regression Results                               \n",
       "=====================================================================================\n",
       "Dep. Variable:     np.log(Calories_consumed)   R-squared:                       0.852\n",
       "Model:                                   OLS   Adj. R-squared:                  0.825\n",
       "Method:                        Least Squares   F-statistic:                     31.55\n",
       "Date:                       Sat, 25 Feb 2023   Prob (F-statistic):           2.78e-05\n",
       "Time:                               00:48:10   Log-Likelihood:                 10.125\n",
       "No. Observations:                         14   AIC:                            -14.25\n",
       "Df Residuals:                             11   BIC:                            -12.33\n",
       "Df Model:                                  2                                         \n",
       "Covariance Type:                   nonrobust                                         \n",
       "====================================================================================================\n",
       "                                       coef    std err          t      P>|t|      [0.025      0.975]\n",
       "----------------------------------------------------------------------------------------------------\n",
       "Intercept                            7.2892      0.084     86.724      0.000       7.104       7.474\n",
       "Weight_gained                        0.0017      0.000      3.560      0.004       0.001       0.003\n",
       "I(Weight_gained * Weight_gained) -7.689e-07   4.27e-07     -1.803      0.099   -1.71e-06     1.7e-07\n",
       "==============================================================================\n",
       "Omnibus:                        0.744   Durbin-Watson:                   1.161\n",
       "Prob(Omnibus):                  0.689   Jarque-Bera (JB):                0.721\n",
       "Skew:                          -0.394   Prob(JB):                        0.697\n",
       "Kurtosis:                       2.217   Cond. No.                     1.01e+06\n",
       "==============================================================================\n",
       "\n",
       "Notes:\n",
       "[1] Standard Errors assume that the covariance matrix of the errors is correctly specified.\n",
       "[2] The condition number is large, 1.01e+06. This might indicate that there are\n",
       "strong multicollinearity or other numerical problems.\n",
       "\"\"\""
      ]
     },
     "execution_count": 51,
     "metadata": {},
     "output_type": "execute_result"
    }
   ],
   "source": [
    "model4 = smf.ols('np.log(Calories_consumed) ~ Weight_gained + I(Weight_gained*Weight_gained)', data = user_diet).fit()\n",
    "model4.summary()"
   ]
  },
  {
   "cell_type": "code",
   "execution_count": null,
   "id": "02f11177",
   "metadata": {},
   "outputs": [],
   "source": [
    "# log(Calories_consumed) = 7.28924068 + 0.0017(Weight_gained) -7.689e-07(Weight_gained*Weight_gained)\n",
    "# R-squared : 0.852  where |r| > 0.85 is considered as strong correlation\n",
    "# RMSE : 240.8277"
   ]
  },
  {
   "cell_type": "code",
   "execution_count": 52,
   "id": "fae4072a",
   "metadata": {},
   "outputs": [
    {
     "name": "stdout",
     "output_type": "stream",
     "text": [
      "0     7.390243\n",
      "1     7.449270\n",
      "2     7.461414\n",
      "3     7.464435\n",
      "4     7.491343\n",
      "5     7.523555\n",
      "6     7.593995\n",
      "7     7.593995\n",
      "8     7.723342\n",
      "9     7.782249\n",
      "10    8.019118\n",
      "11    8.086955\n",
      "12    8.176497\n",
      "13    8.204529\n",
      "dtype: float64\n"
     ]
    }
   ],
   "source": [
    "pred4 = model4.predict(pd.DataFrame(user_diet))\n",
    "print(pred4)"
   ]
  },
  {
   "cell_type": "code",
   "execution_count": 53,
   "id": "7fc268da",
   "metadata": {},
   "outputs": [
    {
     "data": {
      "text/plain": [
       "0     1620.099409\n",
       "1     1718.608337\n",
       "2     1739.606122\n",
       "3     1744.868700\n",
       "4     1792.457905\n",
       "5     1851.135743\n",
       "6     1986.232241\n",
       "7     1986.232241\n",
       "8     2260.501362\n",
       "9     2397.660886\n",
       "10    3038.496984\n",
       "11    3251.772007\n",
       "12    3556.374964\n",
       "13    3657.476403\n",
       "dtype: float64"
      ]
     },
     "execution_count": 53,
     "metadata": {},
     "output_type": "execute_result"
    }
   ],
   "source": [
    "pred4_at = np.exp(pred4)\n",
    "pred4_at"
   ]
  },
  {
   "cell_type": "code",
   "execution_count": 54,
   "id": "c287affe",
   "metadata": {},
   "outputs": [
    {
     "data": {
      "text/plain": [
       "240.82777570410545"
      ]
     },
     "execution_count": 54,
     "metadata": {},
     "output_type": "execute_result"
    }
   ],
   "source": [
    "# Error calculation\n",
    "res4 = user_diet.Calories_consumed - pred4_at\n",
    "res_sqr4 = res4 * res4\n",
    "mse4 = np.mean(res_sqr4)\n",
    "rmse4 = np.sqrt(mse4)\n",
    "rmse4"
   ]
  },
  {
   "cell_type": "code",
   "execution_count": 55,
   "id": "f335be88",
   "metadata": {},
   "outputs": [
    {
     "data": {
      "image/png": "[encoded data removed]",
      "text/plain": [
       "<Figure size 640x480 with 1 Axes>"
      ]
     },
     "metadata": {},
     "output_type": "display_data"
    }
   ],
   "source": [
    "plt.scatter(X['Weight_gained'], np.log(Y['Calories_consumed']))\n",
    "plt.plot(X['Weight_gained'], pred4, color = 'red')\n",
    "plt.plot(X['Weight_gained'], pred3, color = 'green', label = 'linear')\n",
    "plt.legend(['Transformed Data', 'Polynomial Regression Line', 'Linear Regression Line'])\n",
    "plt.show()"
   ]
  },
  {
   "cell_type": "code",
   "execution_count": null,
   "id": "af7752e6",
   "metadata": {},
   "outputs": [],
   "source": []
  },
  {
   "cell_type": "markdown",
   "id": "f5c2401d",
   "metadata": {},
   "source": [
    "### Choose the best model using RMSE"
   ]
  },
  {
   "cell_type": "code",
   "execution_count": 56,
   "id": "9a21a3bd",
   "metadata": {},
   "outputs": [],
   "source": [
    "data = {\"MODEL\":pd.Series([\"SLR\", \"Log model\", \"Exp model\", \"Poly model\"]), \"RMSE\":pd.Series([rmse1, rmse2, rmse3, rmse4])}\n",
    "table_rmse = pd.DataFrame(data)"
   ]
  },
  {
   "cell_type": "code",
   "execution_count": 57,
   "id": "339001d4",
   "metadata": {},
   "outputs": [
    {
     "data": {
      "text/html": [
       "<div>\n",
       "<style scoped>\n",
       "    .dataframe tbody tr th:only-of-type {\n",
       "        vertical-align: middle;\n",
       "    }\n",
       "\n",
       "    .dataframe tbody tr th {\n",
       "        vertical-align: top;\n",
       "    }\n",
       "\n",
       "    .dataframe thead th {\n",
       "        text-align: right;\n",
       "    }\n",
       "</style>\n",
       "<table border=\"1\" class=\"dataframe\">\n",
       "  <thead>\n",
       "    <tr style=\"text-align: right;\">\n",
       "      <th></th>\n",
       "      <th>MODEL</th>\n",
       "      <th>RMSE</th>\n",
       "    </tr>\n",
       "  </thead>\n",
       "  <tbody>\n",
       "    <tr>\n",
       "      <th>0</th>\n",
       "      <td>SLR</td>\n",
       "      <td>232.833501</td>\n",
       "    </tr>\n",
       "    <tr>\n",
       "      <th>1</th>\n",
       "      <td>Log model</td>\n",
       "      <td>253.558040</td>\n",
       "    </tr>\n",
       "    <tr>\n",
       "      <th>2</th>\n",
       "      <td>Exp model</td>\n",
       "      <td>272.420712</td>\n",
       "    </tr>\n",
       "    <tr>\n",
       "      <th>3</th>\n",
       "      <td>Poly model</td>\n",
       "      <td>240.827776</td>\n",
       "    </tr>\n",
       "  </tbody>\n",
       "</table>\n",
       "</div>"
      ],
      "text/plain": [
       "        MODEL        RMSE\n",
       "0         SLR  232.833501\n",
       "1   Log model  253.558040\n",
       "2   Exp model  272.420712\n",
       "3  Poly model  240.827776"
      ]
     },
     "execution_count": 57,
     "metadata": {},
     "output_type": "execute_result"
    }
   ],
   "source": [
    "table_rmse"
   ]
  },
  {
   "cell_type": "code",
   "execution_count": null,
   "id": "87ced872",
   "metadata": {},
   "outputs": [],
   "source": [
    "# The model with low RMSE value is the best model. Simple linear Regression is the best model with :\n",
    "# Calories_consumed = 1577.2007 + 2.1344(Weight_gained)\n",
    "# R-squared : 0.897  where |r| > 0.85 is considered as strong correlation\n",
    "# RMSE : 232.8335"
   ]
  },
  {
   "cell_type": "code",
   "execution_count": null,
   "id": "36e1ca61",
   "metadata": {},
   "outputs": [],
   "source": []
  },
  {
   "cell_type": "code",
   "execution_count": null,
   "id": "180a2772",
   "metadata": {},
   "outputs": [],
   "source": []
  }
 ],
 "metadata": {
  "kernelspec": {
   "display_name": "Python 3 (ipykernel)",
   "language": "python",
   "name": "python3"
  },
  "language_info": {
   "codemirror_mode": {
    "name": "ipython",
    "version": 3
   },
   "file_extension": ".py",
   "mimetype": "text/x-python",
   "name": "python",
   "nbconvert_exporter": "python",
   "pygments_lexer": "ipython3",
   "version": "3.8.10"
  }
 },
 "nbformat": 4,
 "nbformat_minor": 5
}
