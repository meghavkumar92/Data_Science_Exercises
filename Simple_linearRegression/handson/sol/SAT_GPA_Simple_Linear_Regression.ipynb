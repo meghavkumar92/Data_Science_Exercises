{
 "cells": [
  {
   "cell_type": "markdown",
   "id": "b6016d4e",
   "metadata": {},
   "source": [
    "# Simple Linear Regression"
   ]
  },
  {
   "cell_type": "markdown",
   "id": "fa4d0018",
   "metadata": {},
   "source": [
    "### Build a Simple Linear Regression model with university student dataset where GPA is the target variable. Also understand the correaltion and RMSE between the SAT_Score and GPA."
   ]
  },
  {
   "cell_type": "code",
   "execution_count": 1,
   "id": "d71ce9e4",
   "metadata": {},
   "outputs": [],
   "source": [
    "# import libraries\n",
    "import pandas as pd\n",
    "import numpy as np\n",
    "import matplotlib.pyplot as plt\n",
    "import seaborn as sns\n",
    "\n",
    "from sklearn.compose import ColumnTransformer\n",
    "from sklearn.pipeline import Pipeline\n",
    "from sklearn.pipeline import make_pipeline\n",
    "from feature_engine.outliers import Winsorizer\n",
    "from sklearn.model_selection import train_test_split\n",
    "from sklearn.impute import SimpleImputer\n",
    "\n",
    "import statsmodels.formula.api as smf"
   ]
  },
  {
   "cell_type": "code",
   "execution_count": 2,
   "id": "ddb5a624",
   "metadata": {},
   "outputs": [
    {
     "name": "stdout",
     "output_type": "stream",
     "text": [
      "<class 'pandas.core.frame.DataFrame'>\n",
      "RangeIndex: 200 entries, 0 to 199\n",
      "Data columns (total 2 columns):\n",
      " #   Column      Non-Null Count  Dtype  \n",
      "---  ------      --------------  -----  \n",
      " 0   SAT_Scores  200 non-null    int64  \n",
      " 1   GPA         200 non-null    float64\n",
      "dtypes: float64(1), int64(1)\n",
      "memory usage: 3.2 KB\n"
     ]
    }
   ],
   "source": [
    "#import dataset\n",
    "score = pd.read_csv(r\"D:\\360digi\\DS\\Sharath\\Simple_linearRegression\\handson\\Datasets_SLR\\SAT_GPA.csv\")\n",
    "score.info()"
   ]
  },
  {
   "cell_type": "code",
   "execution_count": 3,
   "id": "32ccc3d2",
   "metadata": {},
   "outputs": [
    {
     "data": {
      "text/html": [
       "<div>\n",
       "<style scoped>\n",
       "    .dataframe tbody tr th:only-of-type {\n",
       "        vertical-align: middle;\n",
       "    }\n",
       "\n",
       "    .dataframe tbody tr th {\n",
       "        vertical-align: top;\n",
       "    }\n",
       "\n",
       "    .dataframe thead th {\n",
       "        text-align: right;\n",
       "    }\n",
       "</style>\n",
       "<table border=\"1\" class=\"dataframe\">\n",
       "  <thead>\n",
       "    <tr style=\"text-align: right;\">\n",
       "      <th></th>\n",
       "      <th>SAT_Scores</th>\n",
       "      <th>GPA</th>\n",
       "    </tr>\n",
       "  </thead>\n",
       "  <tbody>\n",
       "    <tr>\n",
       "      <th>count</th>\n",
       "      <td>200.000000</td>\n",
       "      <td>200.000000</td>\n",
       "    </tr>\n",
       "    <tr>\n",
       "      <th>mean</th>\n",
       "      <td>491.810000</td>\n",
       "      <td>2.849500</td>\n",
       "    </tr>\n",
       "    <tr>\n",
       "      <th>std</th>\n",
       "      <td>174.893834</td>\n",
       "      <td>0.541076</td>\n",
       "    </tr>\n",
       "    <tr>\n",
       "      <th>min</th>\n",
       "      <td>202.000000</td>\n",
       "      <td>2.000000</td>\n",
       "    </tr>\n",
       "    <tr>\n",
       "      <th>25%</th>\n",
       "      <td>349.750000</td>\n",
       "      <td>2.400000</td>\n",
       "    </tr>\n",
       "    <tr>\n",
       "      <th>50%</th>\n",
       "      <td>480.500000</td>\n",
       "      <td>2.800000</td>\n",
       "    </tr>\n",
       "    <tr>\n",
       "      <th>75%</th>\n",
       "      <td>641.500000</td>\n",
       "      <td>3.400000</td>\n",
       "    </tr>\n",
       "    <tr>\n",
       "      <th>max</th>\n",
       "      <td>797.000000</td>\n",
       "      <td>3.900000</td>\n",
       "    </tr>\n",
       "  </tbody>\n",
       "</table>\n",
       "</div>"
      ],
      "text/plain": [
       "       SAT_Scores         GPA\n",
       "count  200.000000  200.000000\n",
       "mean   491.810000    2.849500\n",
       "std    174.893834    0.541076\n",
       "min    202.000000    2.000000\n",
       "25%    349.750000    2.400000\n",
       "50%    480.500000    2.800000\n",
       "75%    641.500000    3.400000\n",
       "max    797.000000    3.900000"
      ]
     },
     "execution_count": 3,
     "metadata": {},
     "output_type": "execute_result"
    }
   ],
   "source": [
    "score.describe()"
   ]
  },
  {
   "cell_type": "code",
   "execution_count": 4,
   "id": "69577d54",
   "metadata": {},
   "outputs": [
    {
     "data": {
      "text/plain": [
       "SAT_Scores    0\n",
       "GPA           0\n",
       "dtype: int64"
      ]
     },
     "execution_count": 4,
     "metadata": {},
     "output_type": "execute_result"
    }
   ],
   "source": [
    "# missing value check\n",
    "score.isnull().sum()"
   ]
  },
  {
   "cell_type": "code",
   "execution_count": 5,
   "id": "df35510b",
   "metadata": {},
   "outputs": [
    {
     "data": {
      "text/html": [
       "<div>\n",
       "<style scoped>\n",
       "    .dataframe tbody tr th:only-of-type {\n",
       "        vertical-align: middle;\n",
       "    }\n",
       "\n",
       "    .dataframe tbody tr th {\n",
       "        vertical-align: top;\n",
       "    }\n",
       "\n",
       "    .dataframe thead th {\n",
       "        text-align: right;\n",
       "    }\n",
       "</style>\n",
       "<table border=\"1\" class=\"dataframe\">\n",
       "  <thead>\n",
       "    <tr style=\"text-align: right;\">\n",
       "      <th></th>\n",
       "      <th>SAT_Scores</th>\n",
       "      <th>GPA</th>\n",
       "    </tr>\n",
       "  </thead>\n",
       "  <tbody>\n",
       "    <tr>\n",
       "      <th>0</th>\n",
       "      <td>206</td>\n",
       "      <td>2.3</td>\n",
       "    </tr>\n",
       "    <tr>\n",
       "      <th>1</th>\n",
       "      <td>214</td>\n",
       "      <td>2.4</td>\n",
       "    </tr>\n",
       "    <tr>\n",
       "      <th>2</th>\n",
       "      <td>717</td>\n",
       "      <td>3.5</td>\n",
       "    </tr>\n",
       "    <tr>\n",
       "      <th>3</th>\n",
       "      <td>580</td>\n",
       "      <td>2.8</td>\n",
       "    </tr>\n",
       "    <tr>\n",
       "      <th>4</th>\n",
       "      <td>404</td>\n",
       "      <td>2.6</td>\n",
       "    </tr>\n",
       "    <tr>\n",
       "      <th>5</th>\n",
       "      <td>701</td>\n",
       "      <td>3.2</td>\n",
       "    </tr>\n",
       "    <tr>\n",
       "      <th>6</th>\n",
       "      <td>331</td>\n",
       "      <td>2.1</td>\n",
       "    </tr>\n",
       "    <tr>\n",
       "      <th>7</th>\n",
       "      <td>356</td>\n",
       "      <td>2.2</td>\n",
       "    </tr>\n",
       "    <tr>\n",
       "      <th>8</th>\n",
       "      <td>292</td>\n",
       "      <td>2.1</td>\n",
       "    </tr>\n",
       "    <tr>\n",
       "      <th>9</th>\n",
       "      <td>526</td>\n",
       "      <td>3.0</td>\n",
       "    </tr>\n",
       "  </tbody>\n",
       "</table>\n",
       "</div>"
      ],
      "text/plain": [
       "   SAT_Scores  GPA\n",
       "0         206  2.3\n",
       "1         214  2.4\n",
       "2         717  3.5\n",
       "3         580  2.8\n",
       "4         404  2.6\n",
       "5         701  3.2\n",
       "6         331  2.1\n",
       "7         356  2.2\n",
       "8         292  2.1\n",
       "9         526  3.0"
      ]
     },
     "execution_count": 5,
     "metadata": {},
     "output_type": "execute_result"
    }
   ],
   "source": [
    "score.head(10)"
   ]
  },
  {
   "cell_type": "code",
   "execution_count": 6,
   "id": "ebe98df5",
   "metadata": {},
   "outputs": [
    {
     "data": {
      "text/plain": [
       "Index(['SAT_Scores', 'GPA'], dtype='object')"
      ]
     },
     "execution_count": 6,
     "metadata": {},
     "output_type": "execute_result"
    }
   ],
   "source": [
    "score.columns"
   ]
  },
  {
   "cell_type": "code",
   "execution_count": 7,
   "id": "aabd9367",
   "metadata": {},
   "outputs": [],
   "source": [
    "score.sort_values('SAT_Scores', ascending = True, inplace = True)"
   ]
  },
  {
   "cell_type": "code",
   "execution_count": 8,
   "id": "31c3fe7c",
   "metadata": {},
   "outputs": [],
   "source": [
    "score.reset_index(inplace = True, drop = True)"
   ]
  },
  {
   "cell_type": "code",
   "execution_count": 9,
   "id": "cec95f78",
   "metadata": {},
   "outputs": [
    {
     "data": {
      "text/html": [
       "<div>\n",
       "<style scoped>\n",
       "    .dataframe tbody tr th:only-of-type {\n",
       "        vertical-align: middle;\n",
       "    }\n",
       "\n",
       "    .dataframe tbody tr th {\n",
       "        vertical-align: top;\n",
       "    }\n",
       "\n",
       "    .dataframe thead th {\n",
       "        text-align: right;\n",
       "    }\n",
       "</style>\n",
       "<table border=\"1\" class=\"dataframe\">\n",
       "  <thead>\n",
       "    <tr style=\"text-align: right;\">\n",
       "      <th></th>\n",
       "      <th>SAT_Scores</th>\n",
       "      <th>GPA</th>\n",
       "    </tr>\n",
       "  </thead>\n",
       "  <tbody>\n",
       "    <tr>\n",
       "      <th>0</th>\n",
       "      <td>202</td>\n",
       "      <td>2.3</td>\n",
       "    </tr>\n",
       "    <tr>\n",
       "      <th>1</th>\n",
       "      <td>206</td>\n",
       "      <td>2.3</td>\n",
       "    </tr>\n",
       "    <tr>\n",
       "      <th>2</th>\n",
       "      <td>214</td>\n",
       "      <td>2.4</td>\n",
       "    </tr>\n",
       "    <tr>\n",
       "      <th>3</th>\n",
       "      <td>214</td>\n",
       "      <td>2.4</td>\n",
       "    </tr>\n",
       "    <tr>\n",
       "      <th>4</th>\n",
       "      <td>217</td>\n",
       "      <td>2.4</td>\n",
       "    </tr>\n",
       "  </tbody>\n",
       "</table>\n",
       "</div>"
      ],
      "text/plain": [
       "   SAT_Scores  GPA\n",
       "0         202  2.3\n",
       "1         206  2.3\n",
       "2         214  2.4\n",
       "3         214  2.4\n",
       "4         217  2.4"
      ]
     },
     "execution_count": 9,
     "metadata": {},
     "output_type": "execute_result"
    }
   ],
   "source": [
    "score.head()"
   ]
  },
  {
   "cell_type": "code",
   "execution_count": 10,
   "id": "1d04ac4e",
   "metadata": {},
   "outputs": [],
   "source": [
    "# Split the data into Target and Predictors"
   ]
  },
  {
   "cell_type": "code",
   "execution_count": 11,
   "id": "e0cc82da",
   "metadata": {},
   "outputs": [],
   "source": [
    "X = pd.DataFrame(score['SAT_Scores'])"
   ]
  },
  {
   "cell_type": "code",
   "execution_count": 12,
   "id": "9a18fbc5",
   "metadata": {},
   "outputs": [],
   "source": [
    "Y = pd.DataFrame(score['GPA'])"
   ]
  },
  {
   "cell_type": "code",
   "execution_count": 13,
   "id": "414f8bad",
   "metadata": {},
   "outputs": [
    {
     "data": {
      "text/plain": [
       "['SAT_Scores']"
      ]
     },
     "execution_count": 13,
     "metadata": {},
     "output_type": "execute_result"
    }
   ],
   "source": [
    "# Select numeric features for data preprocessing\n",
    "numeric_features = ['SAT_Scores']\n",
    "numeric_features"
   ]
  },
  {
   "cell_type": "code",
   "execution_count": 14,
   "id": "89694c2a",
   "metadata": {},
   "outputs": [
    {
     "data": {
      "image/png": "[encoded data removed]",
      "text/plain": [
       "<Figure size 500x500 with 2 Axes>"
      ]
     },
     "metadata": {},
     "output_type": "display_data"
    }
   ],
   "source": [
    "# box plot visualisation\n",
    "score.plot(kind = 'box', subplots = True, sharey = False, figsize = (5,5))\n",
    "plt.subplots_adjust(wspace = 0.75)\n",
    "plt.show()"
   ]
  },
  {
   "cell_type": "code",
   "execution_count": 15,
   "id": "f2afe6d5",
   "metadata": {},
   "outputs": [],
   "source": [
    "#No outliers"
   ]
  },
  {
   "cell_type": "code",
   "execution_count": 16,
   "id": "7d9de2e3",
   "metadata": {},
   "outputs": [],
   "source": [
    "# Below steps are not necessary for our dataset but creating a pipeline so we can test the algorithm with new dataset easily."
   ]
  },
  {
   "cell_type": "code",
   "execution_count": 17,
   "id": "4047e129",
   "metadata": {},
   "outputs": [
    {
     "data": {
      "text/plain": [
       "Winsorizer(capping_method='iqr', fold=1.5, tail='both',\n",
       "           variables=['SAT_Scores'])"
      ]
     },
     "execution_count": 17,
     "metadata": {},
     "output_type": "execute_result"
    }
   ],
   "source": [
    "# Winsorization\n",
    "winsor = Winsorizer(capping_method = 'iqr', tail = 'both', fold = 1.5, variables = numeric_features)\n",
    "winsor"
   ]
  },
  {
   "cell_type": "code",
   "execution_count": 18,
   "id": "82da7592",
   "metadata": {},
   "outputs": [
    {
     "data": {
      "text/plain": [
       "Pipeline(steps=[('impute', SimpleImputer())])"
      ]
     },
     "execution_count": 18,
     "metadata": {},
     "output_type": "execute_result"
    }
   ],
   "source": [
    "num_pipeline = Pipeline(steps = [('impute', SimpleImputer(strategy = 'mean'))])\n",
    "num_pipeline"
   ]
  },
  {
   "cell_type": "code",
   "execution_count": 19,
   "id": "f322e8dc",
   "metadata": {},
   "outputs": [
    {
     "data": {
      "text/plain": [
       "Pipeline(steps=[('winsor',\n",
       "                 Winsorizer(capping_method='iqr', fold=1.5, tail='both',\n",
       "                            variables=['SAT_Scores']))])"
      ]
     },
     "execution_count": 19,
     "metadata": {},
     "output_type": "execute_result"
    }
   ],
   "source": [
    "outlier_pipeline = Pipeline(steps = [('winsor', winsor)])\n",
    "outlier_pipeline"
   ]
  },
  {
   "cell_type": "code",
   "execution_count": 20,
   "id": "6490a232",
   "metadata": {},
   "outputs": [
    {
     "name": "stdout",
     "output_type": "stream",
     "text": [
      "ColumnTransformer(transformers=[('num',\n",
      "                                 Pipeline(steps=[('impute', SimpleImputer())]),\n",
      "                                 ['SAT_Scores'])])\n"
     ]
    }
   ],
   "source": [
    "preprocessor = ColumnTransformer(transformers = [('num', num_pipeline, numeric_features)])\n",
    "print(preprocessor)"
   ]
  },
  {
   "cell_type": "code",
   "execution_count": 21,
   "id": "038cdf95",
   "metadata": {},
   "outputs": [
    {
     "name": "stdout",
     "output_type": "stream",
     "text": [
      "ColumnTransformer(transformers=[('wins',\n",
      "                                 Pipeline(steps=[('winsor',\n",
      "                                                  Winsorizer(capping_method='iqr',\n",
      "                                                             fold=1.5,\n",
      "                                                             tail='both',\n",
      "                                                             variables=['SAT_Scores']))]),\n",
      "                                 ['SAT_Scores'])])\n"
     ]
    }
   ],
   "source": [
    "preprocessor1 = ColumnTransformer(transformers = [('wins', outlier_pipeline, numeric_features)])\n",
    "print(preprocessor1)"
   ]
  },
  {
   "cell_type": "code",
   "execution_count": 22,
   "id": "c80d3572",
   "metadata": {},
   "outputs": [],
   "source": [
    "impute_data = preprocessor.fit(X)"
   ]
  },
  {
   "cell_type": "code",
   "execution_count": 23,
   "id": "2ae5755a",
   "metadata": {},
   "outputs": [],
   "source": [
    "score['SAT_Scores'] = pd.DataFrame(impute_data.transform(X))"
   ]
  },
  {
   "cell_type": "code",
   "execution_count": 24,
   "id": "dd1a0692",
   "metadata": {},
   "outputs": [],
   "source": [
    "X2 = pd.DataFrame(score['SAT_Scores'])"
   ]
  },
  {
   "cell_type": "code",
   "execution_count": 25,
   "id": "ce307afc",
   "metadata": {},
   "outputs": [],
   "source": [
    "winz_data = preprocessor1.fit(X2)"
   ]
  },
  {
   "cell_type": "code",
   "execution_count": 26,
   "id": "ccb941f0",
   "metadata": {},
   "outputs": [],
   "source": [
    "score['SAT_Scores'] = pd.DataFrame(winz_data.transform(X))"
   ]
  },
  {
   "cell_type": "code",
   "execution_count": 27,
   "id": "bb5a916f",
   "metadata": {},
   "outputs": [
    {
     "data": {
      "text/html": [
       "<div>\n",
       "<style scoped>\n",
       "    .dataframe tbody tr th:only-of-type {\n",
       "        vertical-align: middle;\n",
       "    }\n",
       "\n",
       "    .dataframe tbody tr th {\n",
       "        vertical-align: top;\n",
       "    }\n",
       "\n",
       "    .dataframe thead th {\n",
       "        text-align: right;\n",
       "    }\n",
       "</style>\n",
       "<table border=\"1\" class=\"dataframe\">\n",
       "  <thead>\n",
       "    <tr style=\"text-align: right;\">\n",
       "      <th></th>\n",
       "      <th>SAT_Scores</th>\n",
       "      <th>GPA</th>\n",
       "    </tr>\n",
       "  </thead>\n",
       "  <tbody>\n",
       "    <tr>\n",
       "      <th>0</th>\n",
       "      <td>202</td>\n",
       "      <td>2.3</td>\n",
       "    </tr>\n",
       "    <tr>\n",
       "      <th>1</th>\n",
       "      <td>206</td>\n",
       "      <td>2.3</td>\n",
       "    </tr>\n",
       "    <tr>\n",
       "      <th>2</th>\n",
       "      <td>214</td>\n",
       "      <td>2.4</td>\n",
       "    </tr>\n",
       "    <tr>\n",
       "      <th>3</th>\n",
       "      <td>214</td>\n",
       "      <td>2.4</td>\n",
       "    </tr>\n",
       "    <tr>\n",
       "      <th>4</th>\n",
       "      <td>217</td>\n",
       "      <td>2.4</td>\n",
       "    </tr>\n",
       "  </tbody>\n",
       "</table>\n",
       "</div>"
      ],
      "text/plain": [
       "   SAT_Scores  GPA\n",
       "0         202  2.3\n",
       "1         206  2.3\n",
       "2         214  2.4\n",
       "3         214  2.4\n",
       "4         217  2.4"
      ]
     },
     "execution_count": 27,
     "metadata": {},
     "output_type": "execute_result"
    }
   ],
   "source": [
    "score.head()"
   ]
  },
  {
   "cell_type": "code",
   "execution_count": 28,
   "id": "70ea4d97",
   "metadata": {},
   "outputs": [
    {
     "data": {
      "image/png": "[encoded data removed]",
      "text/plain": [
       "<Figure size 500x500 with 2 Axes>"
      ]
     },
     "metadata": {},
     "output_type": "display_data"
    }
   ],
   "source": [
    "# box plot visualisation\n",
    "score.plot(kind = 'box', subplots = True, sharey = False, figsize = (5,5))\n",
    "plt.subplots_adjust(wspace = 0.75)\n",
    "plt.show()"
   ]
  },
  {
   "cell_type": "code",
   "execution_count": 29,
   "id": "2cd0b446",
   "metadata": {},
   "outputs": [],
   "source": [
    "# Exploratory Data Analysis"
   ]
  },
  {
   "cell_type": "code",
   "execution_count": 30,
   "id": "4e713dd3",
   "metadata": {},
   "outputs": [
    {
     "name": "stderr",
     "output_type": "stream",
     "text": [
      "D:\\InstalledSoftwares\\Anaconda3\\envs\\dsenv\\lib\\site-packages\\tqdm\\auto.py:22: TqdmWarning: IProgress not found. Please update jupyter and ipywidgets. See https://ipywidgets.readthedocs.io/en/stable/user_install.html\n",
      "  from .autonotebook import tqdm as notebook_tqdm\n",
      "Done! Use 'show' commands to display/save.   |█████████████████████████████████████████| [100%]   00:00 -> (00:00 left)\n"
     ]
    },
    {
     "name": "stdout",
     "output_type": "stream",
     "text": [
      "Report EDAreport.html was generated! NOTEBOOK/COLAB USERS: the web browser MAY not pop up, regardless, the report IS saved in your notebook/colab files.\n"
     ]
    }
   ],
   "source": [
    "import sweetviz as sv\n",
    "\n",
    "report = sv.analyze(score)\n",
    "report.show_html('EDAreport.html')"
   ]
  },
  {
   "cell_type": "code",
   "execution_count": 31,
   "id": "145cb4cb",
   "metadata": {},
   "outputs": [],
   "source": [
    "# Graphical analysis"
   ]
  },
  {
   "cell_type": "code",
   "execution_count": 32,
   "id": "14516e66",
   "metadata": {},
   "outputs": [
    {
     "data": {
      "text/plain": [
       "<BarContainer object of 200 artists>"
      ]
     },
     "execution_count": 32,
     "metadata": {},
     "output_type": "execute_result"
    },
    {
     "data": {
      "image/png": "[encoded data removed]",
      "text/plain": [
       "<Figure size 640x480 with 1 Axes>"
      ]
     },
     "metadata": {},
     "output_type": "display_data"
    }
   ],
   "source": [
    "plt.bar(height = score.SAT_Scores, x = np.arange(200))"
   ]
  },
  {
   "cell_type": "code",
   "execution_count": 33,
   "id": "66f6136a",
   "metadata": {},
   "outputs": [
    {
     "data": {
      "text/plain": [
       "(array([26., 17., 21., 19., 24., 17., 17., 20., 20., 19.]),\n",
       " array([202. , 261.5, 321. , 380.5, 440. , 499.5, 559. , 618.5, 678. ,\n",
       "        737.5, 797. ]),\n",
       " <BarContainer object of 10 artists>)"
      ]
     },
     "execution_count": 33,
     "metadata": {},
     "output_type": "execute_result"
    },
    {
     "data": {
      "image/png": "[encoded data removed]",
      "text/plain": [
       "<Figure size 640x480 with 1 Axes>"
      ]
     },
     "metadata": {},
     "output_type": "display_data"
    }
   ],
   "source": [
    "plt.hist(score.SAT_Scores) #histogram"
   ]
  },
  {
   "cell_type": "code",
   "execution_count": 34,
   "id": "c4e997f8",
   "metadata": {},
   "outputs": [
    {
     "data": {
      "text/plain": [
       "<BarContainer object of 200 artists>"
      ]
     },
     "execution_count": 34,
     "metadata": {},
     "output_type": "execute_result"
    },
    {
     "data": {
      "image/png": "[encoded data removed]",
      "text/plain": [
       "<Figure size 640x480 with 1 Axes>"
      ]
     },
     "metadata": {},
     "output_type": "display_data"
    }
   ],
   "source": [
    "plt.bar(height = score.GPA, x = np.arange(200))"
   ]
  },
  {
   "cell_type": "code",
   "execution_count": 35,
   "id": "ce7f35e1",
   "metadata": {},
   "outputs": [
    {
     "data": {
      "text/plain": [
       "(array([23., 14., 34., 28., 25., 14.,  9., 28., 11., 14.]),\n",
       " array([2.  , 2.19, 2.38, 2.57, 2.76, 2.95, 3.14, 3.33, 3.52, 3.71, 3.9 ]),\n",
       " <BarContainer object of 10 artists>)"
      ]
     },
     "execution_count": 35,
     "metadata": {},
     "output_type": "execute_result"
    },
    {
     "data": {
      "image/png": "[encoded data removed]",
      "text/plain": [
       "<Figure size 640x480 with 1 Axes>"
      ]
     },
     "metadata": {},
     "output_type": "display_data"
    }
   ],
   "source": [
    "plt.hist(score.GPA) #histogram"
   ]
  },
  {
   "cell_type": "code",
   "execution_count": 36,
   "id": "cd8ef501",
   "metadata": {},
   "outputs": [
    {
     "data": {
      "text/plain": [
       "<matplotlib.collections.PathCollection at 0x168ab499288>"
      ]
     },
     "execution_count": 36,
     "metadata": {},
     "output_type": "execute_result"
    },
    {
     "data": {
      "image/png": "[encoded data removed]",
      "text/plain": [
       "<Figure size 640x480 with 1 Axes>"
      ]
     },
     "metadata": {},
     "output_type": "display_data"
    }
   ],
   "source": [
    "# # Bivariate Analysis\n",
    "# Scatter plot\n",
    "plt.scatter(x = score['SAT_Scores'], y = score['GPA'])"
   ]
  },
  {
   "cell_type": "code",
   "execution_count": null,
   "id": "39c79f29",
   "metadata": {},
   "outputs": [],
   "source": [
    "# Cannot infer the direction as the points are scattered everywhere. \n",
    "# lot of dispersion which hints noisy data and strength can be weak."
   ]
  },
  {
   "cell_type": "code",
   "execution_count": 37,
   "id": "d2b086c3",
   "metadata": {},
   "outputs": [
    {
     "data": {
      "text/plain": [
       "array([[1.        , 0.29353828],\n",
       "       [0.29353828, 1.        ]])"
      ]
     },
     "execution_count": 37,
     "metadata": {},
     "output_type": "execute_result"
    }
   ],
   "source": [
    "# Correlation coefficient\n",
    "np.corrcoef(score.SAT_Scores, score.GPA)"
   ]
  },
  {
   "cell_type": "code",
   "execution_count": 38,
   "id": "517f9188",
   "metadata": {},
   "outputs": [],
   "source": [
    "# correlation between SAT Score and GPA is 29%(very poor)"
   ]
  },
  {
   "cell_type": "code",
   "execution_count": 39,
   "id": "6d2f6e40",
   "metadata": {},
   "outputs": [
    {
     "data": {
      "text/plain": [
       "27.777793969849238"
      ]
     },
     "execution_count": 39,
     "metadata": {},
     "output_type": "execute_result"
    }
   ],
   "source": [
    "# Covariance\n",
    "cov_output = np.cov(score.SAT_Scores, score.GPA)[0, 1]\n",
    "cov_output"
   ]
  },
  {
   "cell_type": "code",
   "execution_count": 40,
   "id": "37849c0e",
   "metadata": {},
   "outputs": [
    {
     "data": {
      "image/png": "[encoded data removed]",
      "text/plain": [
       "<Figure size 640x480 with 2 Axes>"
      ]
     },
     "metadata": {},
     "output_type": "display_data"
    }
   ],
   "source": [
    "#Heatmap\n",
    "dataplot = sns.heatmap(score.corr(), annot = True, cmap = \"YlGnBu\")"
   ]
  },
  {
   "cell_type": "code",
   "execution_count": null,
   "id": "58212ea0",
   "metadata": {},
   "outputs": [],
   "source": []
  },
  {
   "cell_type": "markdown",
   "id": "d09444c3",
   "metadata": {},
   "source": [
    "# Regression Techniques"
   ]
  },
  {
   "cell_type": "markdown",
   "id": "709f55a6",
   "metadata": {},
   "source": [
    "### Simple Linear Regression Y ~ X\n",
    "### GPA ~ SAT_Scores"
   ]
  },
  {
   "cell_type": "code",
   "execution_count": 41,
   "id": "bb9dd50e",
   "metadata": {},
   "outputs": [
    {
     "data": {
      "text/html": [
       "<table class=\"simpletable\">\n",
       "<caption>OLS Regression Results</caption>\n",
       "<tr>\n",
       "  <th>Dep. Variable:</th>           <td>GPA</td>       <th>  R-squared:         </th> <td>   0.086</td>\n",
       "</tr>\n",
       "<tr>\n",
       "  <th>Model:</th>                   <td>OLS</td>       <th>  Adj. R-squared:    </th> <td>   0.082</td>\n",
       "</tr>\n",
       "<tr>\n",
       "  <th>Method:</th>             <td>Least Squares</td>  <th>  F-statistic:       </th> <td>   18.67</td>\n",
       "</tr>\n",
       "<tr>\n",
       "  <th>Date:</th>             <td>Sat, 25 Feb 2023</td> <th>  Prob (F-statistic):</th> <td>2.46e-05</td>\n",
       "</tr>\n",
       "<tr>\n",
       "  <th>Time:</th>                 <td>00:58:22</td>     <th>  Log-Likelihood:    </th> <td> -151.44</td>\n",
       "</tr>\n",
       "<tr>\n",
       "  <th>No. Observations:</th>      <td>   200</td>      <th>  AIC:               </th> <td>   306.9</td>\n",
       "</tr>\n",
       "<tr>\n",
       "  <th>Df Residuals:</th>          <td>   198</td>      <th>  BIC:               </th> <td>   313.5</td>\n",
       "</tr>\n",
       "<tr>\n",
       "  <th>Df Model:</th>              <td>     1</td>      <th>                     </th>     <td> </td>   \n",
       "</tr>\n",
       "<tr>\n",
       "  <th>Covariance Type:</th>      <td>nonrobust</td>    <th>                     </th>     <td> </td>   \n",
       "</tr>\n",
       "</table>\n",
       "<table class=\"simpletable\">\n",
       "<tr>\n",
       "       <td></td>         <th>coef</th>     <th>std err</th>      <th>t</th>      <th>P>|t|</th>  <th>[0.025</th>    <th>0.975]</th>  \n",
       "</tr>\n",
       "<tr>\n",
       "  <th>Intercept</th>  <td>    2.4029</td> <td>    0.110</td> <td>   21.908</td> <td> 0.000</td> <td>    2.187</td> <td>    2.619</td>\n",
       "</tr>\n",
       "<tr>\n",
       "  <th>SAT_Scores</th> <td>    0.0009</td> <td>    0.000</td> <td>    4.321</td> <td> 0.000</td> <td>    0.000</td> <td>    0.001</td>\n",
       "</tr>\n",
       "</table>\n",
       "<table class=\"simpletable\">\n",
       "<tr>\n",
       "  <th>Omnibus:</th>       <td>12.519</td> <th>  Durbin-Watson:     </th> <td>   2.122</td>\n",
       "</tr>\n",
       "<tr>\n",
       "  <th>Prob(Omnibus):</th> <td> 0.002</td> <th>  Jarque-Bera (JB):  </th> <td>   7.558</td>\n",
       "</tr>\n",
       "<tr>\n",
       "  <th>Skew:</th>          <td> 0.317</td> <th>  Prob(JB):          </th> <td>  0.0228</td>\n",
       "</tr>\n",
       "<tr>\n",
       "  <th>Kurtosis:</th>      <td> 2.290</td> <th>  Cond. No.          </th> <td>1.56e+03</td>\n",
       "</tr>\n",
       "</table><br/><br/>Notes:<br/>[1] Standard Errors assume that the covariance matrix of the errors is correctly specified.<br/>[2] The condition number is large, 1.56e+03. This might indicate that there are<br/>strong multicollinearity or other numerical problems."
      ],
      "text/plain": [
       "<class 'statsmodels.iolib.summary.Summary'>\n",
       "\"\"\"\n",
       "                            OLS Regression Results                            \n",
       "==============================================================================\n",
       "Dep. Variable:                    GPA   R-squared:                       0.086\n",
       "Model:                            OLS   Adj. R-squared:                  0.082\n",
       "Method:                 Least Squares   F-statistic:                     18.67\n",
       "Date:                Sat, 25 Feb 2023   Prob (F-statistic):           2.46e-05\n",
       "Time:                        00:58:22   Log-Likelihood:                -151.44\n",
       "No. Observations:                 200   AIC:                             306.9\n",
       "Df Residuals:                     198   BIC:                             313.5\n",
       "Df Model:                           1                                         \n",
       "Covariance Type:            nonrobust                                         \n",
       "==============================================================================\n",
       "                 coef    std err          t      P>|t|      [0.025      0.975]\n",
       "------------------------------------------------------------------------------\n",
       "Intercept      2.4029      0.110     21.908      0.000       2.187       2.619\n",
       "SAT_Scores     0.0009      0.000      4.321      0.000       0.000       0.001\n",
       "==============================================================================\n",
       "Omnibus:                       12.519   Durbin-Watson:                   2.122\n",
       "Prob(Omnibus):                  0.002   Jarque-Bera (JB):                7.558\n",
       "Skew:                           0.317   Prob(JB):                       0.0228\n",
       "Kurtosis:                       2.290   Cond. No.                     1.56e+03\n",
       "==============================================================================\n",
       "\n",
       "Notes:\n",
       "[1] Standard Errors assume that the covariance matrix of the errors is correctly specified.\n",
       "[2] The condition number is large, 1.56e+03. This might indicate that there are\n",
       "strong multicollinearity or other numerical problems.\n",
       "\"\"\""
      ]
     },
     "execution_count": 41,
     "metadata": {},
     "output_type": "execute_result"
    }
   ],
   "source": [
    "model = smf.ols('GPA ~ SAT_Scores', data = score).fit()\n",
    "model.summary()"
   ]
  },
  {
   "cell_type": "code",
   "execution_count": 42,
   "id": "1032fd7e",
   "metadata": {},
   "outputs": [],
   "source": [
    "# GPA = 2.4029 + 0.0009(SAT_Scores)\n",
    "# R-squared : 0.086  where |r| < 0.4 is considered as weak correlation\n",
    "# RMSE : 0.5159"
   ]
  },
  {
   "cell_type": "code",
   "execution_count": 43,
   "id": "42918821",
   "metadata": {},
   "outputs": [],
   "source": [
    "# using t-statistic we get P-value\n",
    "# std err = s/sqrt(n)\n",
    "# To get t = coef/std err = 2.4029/0.110 = 21.8445\n",
    "# For P-value : Ho : Null hypothesis, Ha : Alternative hypothesis. p-value = 0.0000 < 0.05 then P low Ho go\n",
    "#CI 95% - [0.025\t0.975] \n",
    "# F-statistic : 2.46e-05 < 0.05 then its a good equation"
   ]
  },
  {
   "cell_type": "code",
   "execution_count": 44,
   "id": "6caaf66f",
   "metadata": {},
   "outputs": [
    {
     "data": {
      "text/plain": [
       "0      2.586314\n",
       "1      2.589947\n",
       "2      2.597212\n",
       "3      2.597212\n",
       "4      2.599936\n",
       "         ...   \n",
       "195    3.112123\n",
       "196    3.118479\n",
       "197    3.122112\n",
       "198    3.125745\n",
       "199    3.126653\n",
       "Length: 200, dtype: float64"
      ]
     },
     "execution_count": 44,
     "metadata": {},
     "output_type": "execute_result"
    }
   ],
   "source": [
    "pred1 = model.predict(pd.DataFrame(score['SAT_Scores']))\n",
    "\n",
    "pred1"
   ]
  },
  {
   "cell_type": "code",
   "execution_count": 45,
   "id": "1d0f4e9a",
   "metadata": {},
   "outputs": [
    {
     "name": "stdout",
     "output_type": "stream",
     "text": [
      "8.171241461241152e-16\n"
     ]
    }
   ],
   "source": [
    "# Error calculation (error = AV - PV)\n",
    "res1 = score.GPA - pred1\n",
    "\n",
    "print(np.mean(res1))"
   ]
  },
  {
   "cell_type": "code",
   "execution_count": 46,
   "id": "007e2b5e",
   "metadata": {},
   "outputs": [
    {
     "data": {
      "text/plain": [
       "0.5159457227723686"
      ]
     },
     "execution_count": 46,
     "metadata": {},
     "output_type": "execute_result"
    }
   ],
   "source": [
    "res_sqr1 = res1 * res1\n",
    "mse1 = np.mean(res_sqr1)\n",
    "rmse1 = np.sqrt(mse1)\n",
    "rmse1"
   ]
  },
  {
   "cell_type": "code",
   "execution_count": 47,
   "id": "83a9fec4",
   "metadata": {},
   "outputs": [
    {
     "data": {
      "image/png": "[encoded data removed]",
      "text/plain": [
       "<Figure size 640x480 with 1 Axes>"
      ]
     },
     "metadata": {},
     "output_type": "display_data"
    }
   ],
   "source": [
    "# Regression Line\n",
    "plt.scatter(score.SAT_Scores, score.GPA)\n",
    "plt.plot(score.SAT_Scores, pred1, \"r\")\n",
    "plt.legend(['Observed data', 'Predicted line'])\n",
    "plt.show()"
   ]
  },
  {
   "cell_type": "code",
   "execution_count": null,
   "id": "f1450016",
   "metadata": {},
   "outputs": [],
   "source": []
  },
  {
   "cell_type": "markdown",
   "id": "ced20bd5",
   "metadata": {},
   "source": [
    "## Model Tuning with Transformations"
   ]
  },
  {
   "cell_type": "markdown",
   "id": "c2256b99",
   "metadata": {},
   "source": [
    "### Log Transformation\n",
    "### x = log(SAT_Scores); y = GPA"
   ]
  },
  {
   "cell_type": "code",
   "execution_count": 48,
   "id": "d0247fcb",
   "metadata": {},
   "outputs": [
    {
     "data": {
      "text/plain": [
       "<matplotlib.collections.PathCollection at 0x168ac8090c8>"
      ]
     },
     "execution_count": 48,
     "metadata": {},
     "output_type": "execute_result"
    },
    {
     "data": {
      "image/png": "[encoded data removed]",
      "text/plain": [
       "<Figure size 640x480 with 1 Axes>"
      ]
     },
     "metadata": {},
     "output_type": "display_data"
    }
   ],
   "source": [
    "plt.scatter(x = np.log(score['SAT_Scores']), y = score['GPA'], color = 'brown')"
   ]
  },
  {
   "cell_type": "code",
   "execution_count": 49,
   "id": "0a4a9fa1",
   "metadata": {},
   "outputs": [
    {
     "data": {
      "text/plain": [
       "array([[1.        , 0.27771976],\n",
       "       [0.27771976, 1.        ]])"
      ]
     },
     "execution_count": 49,
     "metadata": {},
     "output_type": "execute_result"
    }
   ],
   "source": [
    "#correlation\n",
    "np.corrcoef(np.log(score.SAT_Scores), score.GPA)"
   ]
  },
  {
   "cell_type": "code",
   "execution_count": 50,
   "id": "9d7d679a",
   "metadata": {},
   "outputs": [
    {
     "data": {
      "text/html": [
       "<table class=\"simpletable\">\n",
       "<caption>OLS Regression Results</caption>\n",
       "<tr>\n",
       "  <th>Dep. Variable:</th>           <td>GPA</td>       <th>  R-squared:         </th> <td>   0.077</td>\n",
       "</tr>\n",
       "<tr>\n",
       "  <th>Model:</th>                   <td>OLS</td>       <th>  Adj. R-squared:    </th> <td>   0.072</td>\n",
       "</tr>\n",
       "<tr>\n",
       "  <th>Method:</th>             <td>Least Squares</td>  <th>  F-statistic:       </th> <td>   16.55</td>\n",
       "</tr>\n",
       "<tr>\n",
       "  <th>Date:</th>             <td>Sat, 25 Feb 2023</td> <th>  Prob (F-statistic):</th> <td>6.85e-05</td>\n",
       "</tr>\n",
       "<tr>\n",
       "  <th>Time:</th>                 <td>00:58:28</td>     <th>  Log-Likelihood:    </th> <td> -152.42</td>\n",
       "</tr>\n",
       "<tr>\n",
       "  <th>No. Observations:</th>      <td>   200</td>      <th>  AIC:               </th> <td>   308.8</td>\n",
       "</tr>\n",
       "<tr>\n",
       "  <th>Df Residuals:</th>          <td>   198</td>      <th>  BIC:               </th> <td>   315.4</td>\n",
       "</tr>\n",
       "<tr>\n",
       "  <th>Df Model:</th>              <td>     1</td>      <th>                     </th>     <td> </td>   \n",
       "</tr>\n",
       "<tr>\n",
       "  <th>Covariance Type:</th>      <td>nonrobust</td>    <th>                     </th>     <td> </td>   \n",
       "</tr>\n",
       "</table>\n",
       "<table class=\"simpletable\">\n",
       "<tr>\n",
       "           <td></td>             <th>coef</th>     <th>std err</th>      <th>t</th>      <th>P>|t|</th>  <th>[0.025</th>    <th>0.975]</th>  \n",
       "</tr>\n",
       "<tr>\n",
       "  <th>Intercept</th>          <td>    0.4796</td> <td>    0.584</td> <td>    0.822</td> <td> 0.412</td> <td>   -0.672</td> <td>    1.631</td>\n",
       "</tr>\n",
       "<tr>\n",
       "  <th>np.log(SAT_Scores)</th> <td>    0.3868</td> <td>    0.095</td> <td>    4.068</td> <td> 0.000</td> <td>    0.199</td> <td>    0.574</td>\n",
       "</tr>\n",
       "</table>\n",
       "<table class=\"simpletable\">\n",
       "<tr>\n",
       "  <th>Omnibus:</th>       <td>15.866</td> <th>  Durbin-Watson:     </th> <td>   2.102</td>\n",
       "</tr>\n",
       "<tr>\n",
       "  <th>Prob(Omnibus):</th> <td> 0.000</td> <th>  Jarque-Bera (JB):  </th> <td>   8.435</td>\n",
       "</tr>\n",
       "<tr>\n",
       "  <th>Skew:</th>          <td> 0.320</td> <th>  Prob(JB):          </th> <td>  0.0147</td>\n",
       "</tr>\n",
       "<tr>\n",
       "  <th>Kurtosis:</th>      <td> 2.224</td> <th>  Cond. No.          </th> <td>    99.8</td>\n",
       "</tr>\n",
       "</table><br/><br/>Notes:<br/>[1] Standard Errors assume that the covariance matrix of the errors is correctly specified."
      ],
      "text/plain": [
       "<class 'statsmodels.iolib.summary.Summary'>\n",
       "\"\"\"\n",
       "                            OLS Regression Results                            \n",
       "==============================================================================\n",
       "Dep. Variable:                    GPA   R-squared:                       0.077\n",
       "Model:                            OLS   Adj. R-squared:                  0.072\n",
       "Method:                 Least Squares   F-statistic:                     16.55\n",
       "Date:                Sat, 25 Feb 2023   Prob (F-statistic):           6.85e-05\n",
       "Time:                        00:58:28   Log-Likelihood:                -152.42\n",
       "No. Observations:                 200   AIC:                             308.8\n",
       "Df Residuals:                     198   BIC:                             315.4\n",
       "Df Model:                           1                                         \n",
       "Covariance Type:            nonrobust                                         \n",
       "======================================================================================\n",
       "                         coef    std err          t      P>|t|      [0.025      0.975]\n",
       "--------------------------------------------------------------------------------------\n",
       "Intercept              0.4796      0.584      0.822      0.412      -0.672       1.631\n",
       "np.log(SAT_Scores)     0.3868      0.095      4.068      0.000       0.199       0.574\n",
       "==============================================================================\n",
       "Omnibus:                       15.866   Durbin-Watson:                   2.102\n",
       "Prob(Omnibus):                  0.000   Jarque-Bera (JB):                8.435\n",
       "Skew:                           0.320   Prob(JB):                       0.0147\n",
       "Kurtosis:                       2.224   Cond. No.                         99.8\n",
       "==============================================================================\n",
       "\n",
       "Notes:\n",
       "[1] Standard Errors assume that the covariance matrix of the errors is correctly specified.\n",
       "\"\"\""
      ]
     },
     "execution_count": 50,
     "metadata": {},
     "output_type": "execute_result"
    }
   ],
   "source": [
    "model2 = smf.ols('GPA ~ np.log(SAT_Scores)', data = score).fit()\n",
    "model2.summary()"
   ]
  },
  {
   "cell_type": "code",
   "execution_count": 51,
   "id": "4ac69260",
   "metadata": {},
   "outputs": [],
   "source": [
    "# cal = 0.4796 + 0.3868\t(log(SAT_Scores))\n",
    "# R-squared : 0.077  where |r| < 0.4 is considered as weak correlation\n",
    "# RMSE : 0.5184"
   ]
  },
  {
   "cell_type": "code",
   "execution_count": 52,
   "id": "d68d450e",
   "metadata": {},
   "outputs": [],
   "source": [
    "pred2 = model2.predict(pd.DataFrame(score['SAT_Scores']))"
   ]
  },
  {
   "cell_type": "code",
   "execution_count": 53,
   "id": "5a8de545",
   "metadata": {},
   "outputs": [
    {
     "data": {
      "text/plain": [
       "0.5184904101080667"
      ]
     },
     "execution_count": 53,
     "metadata": {},
     "output_type": "execute_result"
    }
   ],
   "source": [
    "# Error calculation\n",
    "res2 = score.GPA - pred2\n",
    "res_sqr2 = res2 * res2\n",
    "mse2 = np.mean(res_sqr2)\n",
    "rmse2 = np.sqrt(mse2)\n",
    "rmse2"
   ]
  },
  {
   "cell_type": "code",
   "execution_count": 54,
   "id": "7b20e6a4",
   "metadata": {},
   "outputs": [
    {
     "data": {
      "image/png": "[encoded data removed]",
      "text/plain": [
       "<Figure size 640x480 with 1 Axes>"
      ]
     },
     "metadata": {},
     "output_type": "display_data"
    }
   ],
   "source": [
    "# Regression Line\n",
    "plt.scatter(np.log(score.SAT_Scores), score.GPA)\n",
    "plt.plot(np.log(score.SAT_Scores), pred2, \"r\")\n",
    "plt.legend(['Observed data', 'Predicted line'])\n",
    "plt.show()"
   ]
  },
  {
   "cell_type": "code",
   "execution_count": null,
   "id": "3b6b75cf",
   "metadata": {},
   "outputs": [],
   "source": []
  },
  {
   "cell_type": "markdown",
   "id": "d7c675ca",
   "metadata": {},
   "source": [
    "### Exponential transformation\n",
    "### x = SAT_Scores; y = log(GPA)"
   ]
  },
  {
   "cell_type": "code",
   "execution_count": 55,
   "id": "b0fc674a",
   "metadata": {},
   "outputs": [
    {
     "data": {
      "text/plain": [
       "<matplotlib.collections.PathCollection at 0x168aa1aec88>"
      ]
     },
     "execution_count": 55,
     "metadata": {},
     "output_type": "execute_result"
    },
    {
     "data": {
      "image/png": "[encoded data removed]",
      "text/plain": [
       "<Figure size 640x480 with 1 Axes>"
      ]
     },
     "metadata": {},
     "output_type": "display_data"
    }
   ],
   "source": [
    "plt.scatter(x = score['SAT_Scores'], y = np.log(score['GPA']), color = 'orange')"
   ]
  },
  {
   "cell_type": "code",
   "execution_count": 56,
   "id": "263d351b",
   "metadata": {},
   "outputs": [
    {
     "data": {
      "text/plain": [
       "array([[1.        , 0.29408419],\n",
       "       [0.29408419, 1.        ]])"
      ]
     },
     "execution_count": 56,
     "metadata": {},
     "output_type": "execute_result"
    }
   ],
   "source": [
    "#correlation\n",
    "np.corrcoef(score.SAT_Scores, np.log(score.GPA))"
   ]
  },
  {
   "cell_type": "code",
   "execution_count": 57,
   "id": "5830a815",
   "metadata": {},
   "outputs": [
    {
     "data": {
      "text/html": [
       "<table class=\"simpletable\">\n",
       "<caption>OLS Regression Results</caption>\n",
       "<tr>\n",
       "  <th>Dep. Variable:</th>       <td>np.log(GPA)</td>   <th>  R-squared:         </th> <td>   0.086</td>\n",
       "</tr>\n",
       "<tr>\n",
       "  <th>Model:</th>                   <td>OLS</td>       <th>  Adj. R-squared:    </th> <td>   0.082</td>\n",
       "</tr>\n",
       "<tr>\n",
       "  <th>Method:</th>             <td>Least Squares</td>  <th>  F-statistic:       </th> <td>   18.75</td>\n",
       "</tr>\n",
       "<tr>\n",
       "  <th>Date:</th>             <td>Sat, 25 Feb 2023</td> <th>  Prob (F-statistic):</th> <td>2.37e-05</td>\n",
       "</tr>\n",
       "<tr>\n",
       "  <th>Time:</th>                 <td>00:58:31</td>     <th>  Log-Likelihood:    </th> <td>  58.615</td>\n",
       "</tr>\n",
       "<tr>\n",
       "  <th>No. Observations:</th>      <td>   200</td>      <th>  AIC:               </th> <td>  -113.2</td>\n",
       "</tr>\n",
       "<tr>\n",
       "  <th>Df Residuals:</th>          <td>   198</td>      <th>  BIC:               </th> <td>  -106.6</td>\n",
       "</tr>\n",
       "<tr>\n",
       "  <th>Df Model:</th>              <td>     1</td>      <th>                     </th>     <td> </td>   \n",
       "</tr>\n",
       "<tr>\n",
       "  <th>Covariance Type:</th>      <td>nonrobust</td>    <th>                     </th>     <td> </td>   \n",
       "</tr>\n",
       "</table>\n",
       "<table class=\"simpletable\">\n",
       "<tr>\n",
       "       <td></td>         <th>coef</th>     <th>std err</th>      <th>t</th>      <th>P>|t|</th>  <th>[0.025</th>    <th>0.975]</th>  \n",
       "</tr>\n",
       "<tr>\n",
       "  <th>Intercept</th>  <td>    0.8727</td> <td>    0.038</td> <td>   22.745</td> <td> 0.000</td> <td>    0.797</td> <td>    0.948</td>\n",
       "</tr>\n",
       "<tr>\n",
       "  <th>SAT_Scores</th> <td>    0.0003</td> <td> 7.35e-05</td> <td>    4.330</td> <td> 0.000</td> <td>    0.000</td> <td>    0.000</td>\n",
       "</tr>\n",
       "</table>\n",
       "<table class=\"simpletable\">\n",
       "<tr>\n",
       "  <th>Omnibus:</th>       <td>11.046</td> <th>  Durbin-Watson:     </th> <td>   2.122</td>\n",
       "</tr>\n",
       "<tr>\n",
       "  <th>Prob(Omnibus):</th> <td> 0.004</td> <th>  Jarque-Bera (JB):  </th> <td>   4.816</td>\n",
       "</tr>\n",
       "<tr>\n",
       "  <th>Skew:</th>          <td> 0.066</td> <th>  Prob(JB):          </th> <td>  0.0900</td>\n",
       "</tr>\n",
       "<tr>\n",
       "  <th>Kurtosis:</th>      <td> 2.251</td> <th>  Cond. No.          </th> <td>1.56e+03</td>\n",
       "</tr>\n",
       "</table><br/><br/>Notes:<br/>[1] Standard Errors assume that the covariance matrix of the errors is correctly specified.<br/>[2] The condition number is large, 1.56e+03. This might indicate that there are<br/>strong multicollinearity or other numerical problems."
      ],
      "text/plain": [
       "<class 'statsmodels.iolib.summary.Summary'>\n",
       "\"\"\"\n",
       "                            OLS Regression Results                            \n",
       "==============================================================================\n",
       "Dep. Variable:            np.log(GPA)   R-squared:                       0.086\n",
       "Model:                            OLS   Adj. R-squared:                  0.082\n",
       "Method:                 Least Squares   F-statistic:                     18.75\n",
       "Date:                Sat, 25 Feb 2023   Prob (F-statistic):           2.37e-05\n",
       "Time:                        00:58:31   Log-Likelihood:                 58.615\n",
       "No. Observations:                 200   AIC:                            -113.2\n",
       "Df Residuals:                     198   BIC:                            -106.6\n",
       "Df Model:                           1                                         \n",
       "Covariance Type:            nonrobust                                         \n",
       "==============================================================================\n",
       "                 coef    std err          t      P>|t|      [0.025      0.975]\n",
       "------------------------------------------------------------------------------\n",
       "Intercept      0.8727      0.038     22.745      0.000       0.797       0.948\n",
       "SAT_Scores     0.0003   7.35e-05      4.330      0.000       0.000       0.000\n",
       "==============================================================================\n",
       "Omnibus:                       11.046   Durbin-Watson:                   2.122\n",
       "Prob(Omnibus):                  0.004   Jarque-Bera (JB):                4.816\n",
       "Skew:                           0.066   Prob(JB):                       0.0900\n",
       "Kurtosis:                       2.251   Cond. No.                     1.56e+03\n",
       "==============================================================================\n",
       "\n",
       "Notes:\n",
       "[1] Standard Errors assume that the covariance matrix of the errors is correctly specified.\n",
       "[2] The condition number is large, 1.56e+03. This might indicate that there are\n",
       "strong multicollinearity or other numerical problems.\n",
       "\"\"\""
      ]
     },
     "execution_count": 57,
     "metadata": {},
     "output_type": "execute_result"
    }
   ],
   "source": [
    "model3 = smf.ols('np.log(GPA) ~ SAT_Scores', data = score).fit()\n",
    "model3.summary()"
   ]
  },
  {
   "cell_type": "code",
   "execution_count": 58,
   "id": "b12cdb26",
   "metadata": {},
   "outputs": [],
   "source": [
    "# log(GPA) = 0.8727 + 0.0003(SAT_Scores)\n",
    "# R-squared : 0.086  where |r| < 0.4 is considered as weak correlation\n",
    "# RMSE : 0.5175"
   ]
  },
  {
   "cell_type": "code",
   "execution_count": 59,
   "id": "5b833488",
   "metadata": {},
   "outputs": [],
   "source": [
    "pred3 = model3.predict(pd.DataFrame(score['SAT_Scores']))"
   ]
  },
  {
   "cell_type": "code",
   "execution_count": 60,
   "id": "4d8d8878",
   "metadata": {},
   "outputs": [
    {
     "name": "stdout",
     "output_type": "stream",
     "text": [
      "0      2.552418\n",
      "1      2.555671\n",
      "2      2.562188\n",
      "3      2.562188\n",
      "4      2.564636\n",
      "         ...   \n",
      "195    3.069051\n",
      "196    3.075898\n",
      "197    3.079817\n",
      "198    3.083741\n",
      "199    3.084723\n",
      "Length: 200, dtype: float64\n"
     ]
    }
   ],
   "source": [
    "pred3_at = np.exp(pred3)\n",
    "print(pred3_at)"
   ]
  },
  {
   "cell_type": "code",
   "execution_count": 61,
   "id": "1eb2b67e",
   "metadata": {},
   "outputs": [
    {
     "data": {
      "text/plain": [
       "0.5175875893834134"
      ]
     },
     "execution_count": 61,
     "metadata": {},
     "output_type": "execute_result"
    }
   ],
   "source": [
    "res3 = score.GPA - pred3_at\n",
    "res_sqr3 = res3 * res3\n",
    "mse3 = np.mean(res_sqr3)\n",
    "rmse3 = np.sqrt(mse3)\n",
    "rmse3"
   ]
  },
  {
   "cell_type": "code",
   "execution_count": 62,
   "id": "d7c6ec6f",
   "metadata": {},
   "outputs": [
    {
     "data": {
      "image/png": "[encoded data removed]",
      "text/plain": [
       "<Figure size 640x480 with 1 Axes>"
      ]
     },
     "metadata": {},
     "output_type": "display_data"
    }
   ],
   "source": [
    "# Regression Line\n",
    "plt.scatter(score.SAT_Scores, np.log(score.GPA))\n",
    "plt.plot(score.SAT_Scores, pred3, \"r\")\n",
    "plt.legend(['Observed data', 'Predicted line'])\n",
    "plt.show()"
   ]
  },
  {
   "cell_type": "code",
   "execution_count": null,
   "id": "30c1d3d7",
   "metadata": {},
   "outputs": [],
   "source": []
  },
  {
   "cell_type": "markdown",
   "id": "66b3909f",
   "metadata": {},
   "source": [
    "### Polynomial transformation \n",
    "### x = SAT_Scores; x^2 = SAT_Scores*SAT_Scores; y = log(GPA)\n",
    "### log(y) ~ x + x^2"
   ]
  },
  {
   "cell_type": "code",
   "execution_count": 63,
   "id": "e57e3269",
   "metadata": {},
   "outputs": [],
   "source": [
    "X = pd.DataFrame(score['SAT_Scores'])"
   ]
  },
  {
   "cell_type": "code",
   "execution_count": 64,
   "id": "733d5b17",
   "metadata": {},
   "outputs": [],
   "source": [
    "Y = pd.DataFrame(score['GPA'])"
   ]
  },
  {
   "cell_type": "code",
   "execution_count": 65,
   "id": "ddade34e",
   "metadata": {},
   "outputs": [
    {
     "data": {
      "text/html": [
       "<table class=\"simpletable\">\n",
       "<caption>OLS Regression Results</caption>\n",
       "<tr>\n",
       "  <th>Dep. Variable:</th>       <td>np.log(GPA)</td>   <th>  R-squared:         </th> <td>   0.094</td>\n",
       "</tr>\n",
       "<tr>\n",
       "  <th>Model:</th>                   <td>OLS</td>       <th>  Adj. R-squared:    </th> <td>   0.085</td>\n",
       "</tr>\n",
       "<tr>\n",
       "  <th>Method:</th>             <td>Least Squares</td>  <th>  F-statistic:       </th> <td>   10.23</td>\n",
       "</tr>\n",
       "<tr>\n",
       "  <th>Date:</th>             <td>Sat, 25 Feb 2023</td> <th>  Prob (F-statistic):</th> <td>5.95e-05</td>\n",
       "</tr>\n",
       "<tr>\n",
       "  <th>Time:</th>                 <td>00:58:34</td>     <th>  Log-Likelihood:    </th> <td>  59.448</td>\n",
       "</tr>\n",
       "<tr>\n",
       "  <th>No. Observations:</th>      <td>   200</td>      <th>  AIC:               </th> <td>  -112.9</td>\n",
       "</tr>\n",
       "<tr>\n",
       "  <th>Df Residuals:</th>          <td>   197</td>      <th>  BIC:               </th> <td>  -103.0</td>\n",
       "</tr>\n",
       "<tr>\n",
       "  <th>Df Model:</th>              <td>     2</td>      <th>                     </th>     <td> </td>   \n",
       "</tr>\n",
       "<tr>\n",
       "  <th>Covariance Type:</th>      <td>nonrobust</td>    <th>                     </th>     <td> </td>   \n",
       "</tr>\n",
       "</table>\n",
       "<table class=\"simpletable\">\n",
       "<tr>\n",
       "               <td></td>                 <th>coef</th>     <th>std err</th>      <th>t</th>      <th>P>|t|</th>  <th>[0.025</th>    <th>0.975]</th>  \n",
       "</tr>\n",
       "<tr>\n",
       "  <th>Intercept</th>                  <td>    1.0056</td> <td>    0.110</td> <td>    9.112</td> <td> 0.000</td> <td>    0.788</td> <td>    1.223</td>\n",
       "</tr>\n",
       "<tr>\n",
       "  <th>SAT_Scores</th>                 <td>   -0.0003</td> <td>    0.000</td> <td>   -0.607</td> <td> 0.545</td> <td>   -0.001</td> <td>    0.001</td>\n",
       "</tr>\n",
       "<tr>\n",
       "  <th>I(SAT_Scores * SAT_Scores)</th> <td> 6.142e-07</td> <td> 4.79e-07</td> <td>    1.284</td> <td> 0.201</td> <td> -3.3e-07</td> <td> 1.56e-06</td>\n",
       "</tr>\n",
       "</table>\n",
       "<table class=\"simpletable\">\n",
       "<tr>\n",
       "  <th>Omnibus:</th>       <td> 8.598</td> <th>  Durbin-Watson:     </th> <td>   2.140</td>\n",
       "</tr>\n",
       "<tr>\n",
       "  <th>Prob(Omnibus):</th> <td> 0.014</td> <th>  Jarque-Bera (JB):  </th> <td>   4.118</td>\n",
       "</tr>\n",
       "<tr>\n",
       "  <th>Skew:</th>          <td> 0.046</td> <th>  Prob(JB):          </th> <td>   0.128</td>\n",
       "</tr>\n",
       "<tr>\n",
       "  <th>Kurtosis:</th>      <td> 2.303</td> <th>  Cond. No.          </th> <td>2.79e+06</td>\n",
       "</tr>\n",
       "</table><br/><br/>Notes:<br/>[1] Standard Errors assume that the covariance matrix of the errors is correctly specified.<br/>[2] The condition number is large, 2.79e+06. This might indicate that there are<br/>strong multicollinearity or other numerical problems."
      ],
      "text/plain": [
       "<class 'statsmodels.iolib.summary.Summary'>\n",
       "\"\"\"\n",
       "                            OLS Regression Results                            \n",
       "==============================================================================\n",
       "Dep. Variable:            np.log(GPA)   R-squared:                       0.094\n",
       "Model:                            OLS   Adj. R-squared:                  0.085\n",
       "Method:                 Least Squares   F-statistic:                     10.23\n",
       "Date:                Sat, 25 Feb 2023   Prob (F-statistic):           5.95e-05\n",
       "Time:                        00:58:34   Log-Likelihood:                 59.448\n",
       "No. Observations:                 200   AIC:                            -112.9\n",
       "Df Residuals:                     197   BIC:                            -103.0\n",
       "Df Model:                           2                                         \n",
       "Covariance Type:            nonrobust                                         \n",
       "==============================================================================================\n",
       "                                 coef    std err          t      P>|t|      [0.025      0.975]\n",
       "----------------------------------------------------------------------------------------------\n",
       "Intercept                      1.0056      0.110      9.112      0.000       0.788       1.223\n",
       "SAT_Scores                    -0.0003      0.000     -0.607      0.545      -0.001       0.001\n",
       "I(SAT_Scores * SAT_Scores)  6.142e-07   4.79e-07      1.284      0.201    -3.3e-07    1.56e-06\n",
       "==============================================================================\n",
       "Omnibus:                        8.598   Durbin-Watson:                   2.140\n",
       "Prob(Omnibus):                  0.014   Jarque-Bera (JB):                4.118\n",
       "Skew:                           0.046   Prob(JB):                        0.128\n",
       "Kurtosis:                       2.303   Cond. No.                     2.79e+06\n",
       "==============================================================================\n",
       "\n",
       "Notes:\n",
       "[1] Standard Errors assume that the covariance matrix of the errors is correctly specified.\n",
       "[2] The condition number is large, 2.79e+06. This might indicate that there are\n",
       "strong multicollinearity or other numerical problems.\n",
       "\"\"\""
      ]
     },
     "execution_count": 65,
     "metadata": {},
     "output_type": "execute_result"
    }
   ],
   "source": [
    "model4 = smf.ols('np.log(GPA) ~ SAT_Scores + I(SAT_Scores*SAT_Scores)', data = score).fit()\n",
    "model4.summary()"
   ]
  },
  {
   "cell_type": "code",
   "execution_count": 66,
   "id": "63e2403e",
   "metadata": {},
   "outputs": [],
   "source": [
    "# log(GPA) = 1.0056 - 0.0003\t(SAT_Scores) + 6.142e-07(SAT_Scores*SAT_Scores)\n",
    "# R-squared : 0.094  where |r| > 0.4 is considered as weak correlation\n",
    "# RMSE : \n"
   ]
  },
  {
   "cell_type": "code",
   "execution_count": 67,
   "id": "d09e6c46",
   "metadata": {},
   "outputs": [
    {
     "name": "stdout",
     "output_type": "stream",
     "text": [
      "0      0.971681\n",
      "1      0.971516\n",
      "2      0.971245\n",
      "3      0.971245\n",
      "4      0.971164\n",
      "         ...   \n",
      "195    1.152301\n",
      "196    1.157005\n",
      "197    1.159719\n",
      "198    1.162453\n",
      "199    1.163140\n",
      "Length: 200, dtype: float64\n"
     ]
    }
   ],
   "source": [
    "pred4 = model4.predict(pd.DataFrame(score))\n",
    "print(pred4)"
   ]
  },
  {
   "cell_type": "code",
   "execution_count": 68,
   "id": "63427104",
   "metadata": {},
   "outputs": [
    {
     "data": {
      "text/plain": [
       "0      2.642382\n",
       "1      2.641946\n",
       "2      2.641231\n",
       "3      2.641231\n",
       "4      2.641016\n",
       "         ...   \n",
       "195    3.165469\n",
       "196    3.180392\n",
       "197    3.189037\n",
       "198    3.197769\n",
       "199    3.199965\n",
       "Length: 200, dtype: float64"
      ]
     },
     "execution_count": 68,
     "metadata": {},
     "output_type": "execute_result"
    }
   ],
   "source": [
    "pred4_at = np.exp(pred4)\n",
    "pred4_at"
   ]
  },
  {
   "cell_type": "code",
   "execution_count": 69,
   "id": "3b76d0de",
   "metadata": {},
   "outputs": [
    {
     "data": {
      "text/plain": [
       "0.5144912487746156"
      ]
     },
     "execution_count": 69,
     "metadata": {},
     "output_type": "execute_result"
    }
   ],
   "source": [
    "# Error calculation\n",
    "res4 = score.GPA - pred4_at\n",
    "res_sqr4 = res4 * res4\n",
    "mse4 = np.mean(res_sqr4)\n",
    "rmse4 = np.sqrt(mse4)\n",
    "rmse4"
   ]
  },
  {
   "cell_type": "code",
   "execution_count": 70,
   "id": "790bf443",
   "metadata": {},
   "outputs": [
    {
     "data": {
      "image/png": "[encoded data removed]",
      "text/plain": [
       "<Figure size 640x480 with 1 Axes>"
      ]
     },
     "metadata": {},
     "output_type": "display_data"
    }
   ],
   "source": [
    "plt.scatter(X['SAT_Scores'], np.log(Y['GPA']))\n",
    "plt.plot(X['SAT_Scores'], pred4, color = 'red')\n",
    "plt.plot(X['SAT_Scores'], pred3, color = 'green', label = 'linear')\n",
    "plt.legend(['Transformed Data', 'Polynomial Regression Line', 'Linear Regression Line'])\n",
    "plt.show()"
   ]
  },
  {
   "cell_type": "code",
   "execution_count": null,
   "id": "d720a4ef",
   "metadata": {},
   "outputs": [],
   "source": []
  },
  {
   "cell_type": "markdown",
   "id": "d87fa51a",
   "metadata": {},
   "source": [
    "## Choose the best model using RMSE"
   ]
  },
  {
   "cell_type": "code",
   "execution_count": 71,
   "id": "b3762ba9",
   "metadata": {},
   "outputs": [],
   "source": [
    "data = {\"MODEL\":pd.Series([\"SLR\", \"Log model\", \"Exp model\", \"Poly model\"]), \"RMSE\":pd.Series([rmse1, rmse2, rmse3, rmse4])}\n",
    "table_rmse = pd.DataFrame(data)"
   ]
  },
  {
   "cell_type": "code",
   "execution_count": 72,
   "id": "caebf9f0",
   "metadata": {},
   "outputs": [
    {
     "data": {
      "text/html": [
       "<div>\n",
       "<style scoped>\n",
       "    .dataframe tbody tr th:only-of-type {\n",
       "        vertical-align: middle;\n",
       "    }\n",
       "\n",
       "    .dataframe tbody tr th {\n",
       "        vertical-align: top;\n",
       "    }\n",
       "\n",
       "    .dataframe thead th {\n",
       "        text-align: right;\n",
       "    }\n",
       "</style>\n",
       "<table border=\"1\" class=\"dataframe\">\n",
       "  <thead>\n",
       "    <tr style=\"text-align: right;\">\n",
       "      <th></th>\n",
       "      <th>MODEL</th>\n",
       "      <th>RMSE</th>\n",
       "    </tr>\n",
       "  </thead>\n",
       "  <tbody>\n",
       "    <tr>\n",
       "      <th>0</th>\n",
       "      <td>SLR</td>\n",
       "      <td>0.515946</td>\n",
       "    </tr>\n",
       "    <tr>\n",
       "      <th>1</th>\n",
       "      <td>Log model</td>\n",
       "      <td>0.518490</td>\n",
       "    </tr>\n",
       "    <tr>\n",
       "      <th>2</th>\n",
       "      <td>Exp model</td>\n",
       "      <td>0.517588</td>\n",
       "    </tr>\n",
       "    <tr>\n",
       "      <th>3</th>\n",
       "      <td>Poly model</td>\n",
       "      <td>0.514491</td>\n",
       "    </tr>\n",
       "  </tbody>\n",
       "</table>\n",
       "</div>"
      ],
      "text/plain": [
       "        MODEL      RMSE\n",
       "0         SLR  0.515946\n",
       "1   Log model  0.518490\n",
       "2   Exp model  0.517588\n",
       "3  Poly model  0.514491"
      ]
     },
     "execution_count": 72,
     "metadata": {},
     "output_type": "execute_result"
    }
   ],
   "source": [
    "table_rmse"
   ]
  },
  {
   "cell_type": "code",
   "execution_count": null,
   "id": "18641585",
   "metadata": {},
   "outputs": [],
   "source": [
    "# Polynomial model is better than others but still the equation doesnt fit the data well.\n",
    "# The linear regression does not fit the data which has high variance."
   ]
  },
  {
   "cell_type": "code",
   "execution_count": null,
   "id": "4522a681",
   "metadata": {},
   "outputs": [],
   "source": []
  },
  {
   "cell_type": "code",
   "execution_count": null,
   "id": "3fa054be",
   "metadata": {},
   "outputs": [],
   "source": [
    "# Experiment\n",
    "# Noise removal and fitting on smoothened data"
   ]
  },
  {
   "cell_type": "code",
   "execution_count": 73,
   "id": "4f544a04",
   "metadata": {},
   "outputs": [
    {
     "data": {
      "image/png": "[encoded data removed]",
      "text/plain": [
       "<Figure size 640x480 with 1 Axes>"
      ]
     },
     "metadata": {},
     "output_type": "display_data"
    }
   ],
   "source": [
    "from IPython import display\n",
    "for h in range(1,5):\n",
    "    display.clear_output(True)\n",
    "    plt.plot(np.convolve(score['GPA'],np.ones(h)/h))\n",
    "    plt.plot(score['GPA'])\n",
    "    plt.pause(.1)"
   ]
  },
  {
   "cell_type": "code",
   "execution_count": 74,
   "id": "c4042a3a",
   "metadata": {},
   "outputs": [
    {
     "name": "stdout",
     "output_type": "stream",
     "text": [
      "(200,) (200,)\n"
     ]
    },
    {
     "name": "stderr",
     "output_type": "stream",
     "text": [
      "D:\\InstalledSoftwares\\Anaconda3\\envs\\dsenv\\lib\\site-packages\\ipykernel_launcher.py:5: FutureWarning: Support for multi-dimensional indexing (e.g. `obj[:, None]`) is deprecated and will be removed in a future version.  Convert to a numpy array before indexing instead.\n",
      "  \"\"\"\n"
     ]
    },
    {
     "data": {
      "image/png": "[encoded data removed]",
      "text/plain": [
       "<Figure size 640x480 with 1 Axes>"
      ]
     },
     "metadata": {},
     "output_type": "display_data"
    }
   ],
   "source": [
    "# # Bivariate Analysis\n",
    "# Scatter plot\n",
    "#plt.scatter(x = score['SAT_Scores'], y = (100+score['GPA'])**2)# np.log(np.sqrt(score['SAT_Scores']))\n",
    "X = score['SAT_Scores']/500; Y = np.convolve((score['GPA']),np.ones(3)/3,'same')\n",
    "score_cp = pd.DataFrame(np.hstack([X[:,None],Y[:,None]]))\n",
    "plt.plot(X,Y)\n",
    "print(X.shape,Y.shape)"
   ]
  },
  {
   "cell_type": "code",
   "execution_count": 75,
   "id": "c9d03f70",
   "metadata": {},
   "outputs": [
    {
     "name": "stderr",
     "output_type": "stream",
     "text": [
      "D:\\InstalledSoftwares\\Anaconda3\\envs\\dsenv\\lib\\site-packages\\ipykernel_launcher.py:1: FutureWarning: Support for multi-dimensional indexing (e.g. `obj[:, None]`) is deprecated and will be removed in a future version.  Convert to a numpy array before indexing instead.\n",
      "  \"\"\"Entry point for launching an IPython kernel.\n"
     ]
    },
    {
     "data": {
      "text/plain": [
       "(200, 2)"
      ]
     },
     "execution_count": 75,
     "metadata": {},
     "output_type": "execute_result"
    }
   ],
   "source": [
    "np.hstack([X[:,None],Y[:,None]]).shape"
   ]
  },
  {
   "cell_type": "code",
   "execution_count": 76,
   "id": "14394828",
   "metadata": {},
   "outputs": [
    {
     "data": {
      "text/html": [
       "<table class=\"simpletable\">\n",
       "<caption>OLS Regression Results</caption>\n",
       "<tr>\n",
       "  <th>Dep. Variable:</th>            <td>Y</td>        <th>  R-squared:         </th> <td>   0.373</td>\n",
       "</tr>\n",
       "<tr>\n",
       "  <th>Model:</th>                   <td>OLS</td>       <th>  Adj. R-squared:    </th> <td>   0.343</td>\n",
       "</tr>\n",
       "<tr>\n",
       "  <th>Method:</th>             <td>Least Squares</td>  <th>  F-statistic:       </th> <td>   12.53</td>\n",
       "</tr>\n",
       "<tr>\n",
       "  <th>Date:</th>             <td>Sat, 25 Feb 2023</td> <th>  Prob (F-statistic):</th> <td>1.55e-15</td>\n",
       "</tr>\n",
       "<tr>\n",
       "  <th>Time:</th>                 <td>00:58:56</td>     <th>  Log-Likelihood:    </th> <td> -24.695</td>\n",
       "</tr>\n",
       "<tr>\n",
       "  <th>No. Observations:</th>      <td>   200</td>      <th>  AIC:               </th> <td>   69.39</td>\n",
       "</tr>\n",
       "<tr>\n",
       "  <th>Df Residuals:</th>          <td>   190</td>      <th>  BIC:               </th> <td>   102.4</td>\n",
       "</tr>\n",
       "<tr>\n",
       "  <th>Df Model:</th>              <td>     9</td>      <th>                     </th>     <td> </td>   \n",
       "</tr>\n",
       "<tr>\n",
       "  <th>Covariance Type:</th>      <td>nonrobust</td>    <th>                     </th>     <td> </td>   \n",
       "</tr>\n",
       "</table>\n",
       "<table class=\"simpletable\">\n",
       "<tr>\n",
       "              <td></td>                <th>coef</th>     <th>std err</th>      <th>t</th>      <th>P>|t|</th>  <th>[0.025</th>    <th>0.975]</th>  \n",
       "</tr>\n",
       "<tr>\n",
       "  <th>Intercept</th>                <td> -276.5552</td> <td>  181.887</td> <td>   -1.520</td> <td> 0.130</td> <td> -635.332</td> <td>   82.222</td>\n",
       "</tr>\n",
       "<tr>\n",
       "  <th>np.vander(X, h, True)[0]</th> <td> -276.5552</td> <td>  181.887</td> <td>   -1.520</td> <td> 0.130</td> <td> -635.332</td> <td>   82.222</td>\n",
       "</tr>\n",
       "<tr>\n",
       "  <th>np.vander(X, h, True)[1]</th> <td> 5517.6351</td> <td> 3974.268</td> <td>    1.388</td> <td> 0.167</td> <td>-2321.721</td> <td> 1.34e+04</td>\n",
       "</tr>\n",
       "<tr>\n",
       "  <th>np.vander(X, h, True)[2]</th> <td>-2.358e+04</td> <td> 1.88e+04</td> <td>   -1.256</td> <td> 0.211</td> <td>-6.06e+04</td> <td> 1.35e+04</td>\n",
       "</tr>\n",
       "<tr>\n",
       "  <th>np.vander(X, h, True)[3]</th> <td> 5.691e+04</td> <td> 5.04e+04</td> <td>    1.129</td> <td> 0.260</td> <td>-4.25e+04</td> <td> 1.56e+05</td>\n",
       "</tr>\n",
       "<tr>\n",
       "  <th>np.vander(X, h, True)[4]</th> <td>-8.535e+04</td> <td> 8.47e+04</td> <td>   -1.008</td> <td> 0.315</td> <td>-2.52e+05</td> <td> 8.17e+04</td>\n",
       "</tr>\n",
       "<tr>\n",
       "  <th>np.vander(X, h, True)[5]</th> <td> 8.242e+04</td> <td> 9.26e+04</td> <td>    0.890</td> <td> 0.374</td> <td>   -1e+05</td> <td> 2.65e+05</td>\n",
       "</tr>\n",
       "<tr>\n",
       "  <th>np.vander(X, h, True)[6]</th> <td>-5.117e+04</td> <td> 6.59e+04</td> <td>   -0.777</td> <td> 0.438</td> <td>-1.81e+05</td> <td> 7.88e+04</td>\n",
       "</tr>\n",
       "<tr>\n",
       "  <th>np.vander(X, h, True)[7]</th> <td> 1.966e+04</td> <td> 2.95e+04</td> <td>    0.667</td> <td> 0.505</td> <td>-3.84e+04</td> <td> 7.78e+04</td>\n",
       "</tr>\n",
       "<tr>\n",
       "  <th>np.vander(X, h, True)[8]</th> <td>-4224.7839</td> <td> 7521.506</td> <td>   -0.562</td> <td> 0.575</td> <td>-1.91e+04</td> <td> 1.06e+04</td>\n",
       "</tr>\n",
       "<tr>\n",
       "  <th>np.vander(X, h, True)[9]</th> <td>  384.4583</td> <td>  836.561</td> <td>    0.460</td> <td> 0.646</td> <td>-1265.682</td> <td> 2034.598</td>\n",
       "</tr>\n",
       "</table>\n",
       "<table class=\"simpletable\">\n",
       "<tr>\n",
       "  <th>Omnibus:</th>       <td> 0.149</td> <th>  Durbin-Watson:     </th> <td>   0.891</td>\n",
       "</tr>\n",
       "<tr>\n",
       "  <th>Prob(Omnibus):</th> <td> 0.928</td> <th>  Jarque-Bera (JB):  </th> <td>   0.297</td>\n",
       "</tr>\n",
       "<tr>\n",
       "  <th>Skew:</th>          <td> 0.018</td> <th>  Prob(JB):          </th> <td>   0.862</td>\n",
       "</tr>\n",
       "<tr>\n",
       "  <th>Kurtosis:</th>      <td> 2.815</td> <th>  Cond. No.          </th> <td>5.91e+17</td>\n",
       "</tr>\n",
       "</table><br/><br/>Notes:<br/>[1] Standard Errors assume that the covariance matrix of the errors is correctly specified.<br/>[2] The smallest eigenvalue is 3.12e-31. This might indicate that there are<br/>strong multicollinearity problems or that the design matrix is singular."
      ],
      "text/plain": [
       "<class 'statsmodels.iolib.summary.Summary'>\n",
       "\"\"\"\n",
       "                            OLS Regression Results                            \n",
       "==============================================================================\n",
       "Dep. Variable:                      Y   R-squared:                       0.373\n",
       "Model:                            OLS   Adj. R-squared:                  0.343\n",
       "Method:                 Least Squares   F-statistic:                     12.53\n",
       "Date:                Sat, 25 Feb 2023   Prob (F-statistic):           1.55e-15\n",
       "Time:                        00:58:56   Log-Likelihood:                -24.695\n",
       "No. Observations:                 200   AIC:                             69.39\n",
       "Df Residuals:                     190   BIC:                             102.4\n",
       "Df Model:                           9                                         \n",
       "Covariance Type:            nonrobust                                         \n",
       "============================================================================================\n",
       "                               coef    std err          t      P>|t|      [0.025      0.975]\n",
       "--------------------------------------------------------------------------------------------\n",
       "Intercept                 -276.5552    181.887     -1.520      0.130    -635.332      82.222\n",
       "np.vander(X, h, True)[0]  -276.5552    181.887     -1.520      0.130    -635.332      82.222\n",
       "np.vander(X, h, True)[1]  5517.6351   3974.268      1.388      0.167   -2321.721    1.34e+04\n",
       "np.vander(X, h, True)[2] -2.358e+04   1.88e+04     -1.256      0.211   -6.06e+04    1.35e+04\n",
       "np.vander(X, h, True)[3]  5.691e+04   5.04e+04      1.129      0.260   -4.25e+04    1.56e+05\n",
       "np.vander(X, h, True)[4] -8.535e+04   8.47e+04     -1.008      0.315   -2.52e+05    8.17e+04\n",
       "np.vander(X, h, True)[5]  8.242e+04   9.26e+04      0.890      0.374      -1e+05    2.65e+05\n",
       "np.vander(X, h, True)[6] -5.117e+04   6.59e+04     -0.777      0.438   -1.81e+05    7.88e+04\n",
       "np.vander(X, h, True)[7]  1.966e+04   2.95e+04      0.667      0.505   -3.84e+04    7.78e+04\n",
       "np.vander(X, h, True)[8] -4224.7839   7521.506     -0.562      0.575   -1.91e+04    1.06e+04\n",
       "np.vander(X, h, True)[9]   384.4583    836.561      0.460      0.646   -1265.682    2034.598\n",
       "==============================================================================\n",
       "Omnibus:                        0.149   Durbin-Watson:                   0.891\n",
       "Prob(Omnibus):                  0.928   Jarque-Bera (JB):                0.297\n",
       "Skew:                           0.018   Prob(JB):                        0.862\n",
       "Kurtosis:                       2.815   Cond. No.                     5.91e+17\n",
       "==============================================================================\n",
       "\n",
       "Notes:\n",
       "[1] Standard Errors assume that the covariance matrix of the errors is correctly specified.\n",
       "[2] The smallest eigenvalue is 3.12e-31. This might indicate that there are\n",
       "strong multicollinearity problems or that the design matrix is singular.\n",
       "\"\"\""
      ]
     },
     "execution_count": 76,
     "metadata": {},
     "output_type": "execute_result"
    }
   ],
   "source": [
    "# y = ax3 + bx2 + cx + d\n",
    "#model5 = smf.ols('Y ~ I(X*X*X) + I(X*X) + X', data = score_cp).fit()\n",
    "h=10\n",
    "model5 = smf.ols('Y ~ np.vander(X,h,True)', data = score_cp).fit()\n",
    "model5.summary()"
   ]
  },
  {
   "cell_type": "code",
   "execution_count": 77,
   "id": "ff61ac90",
   "metadata": {},
   "outputs": [
    {
     "data": {
      "text/plain": [
       "0      1.741062\n",
       "1      1.962836\n",
       "2      2.296831\n",
       "3      2.296831\n",
       "4      2.390713\n",
       "         ...   \n",
       "195    3.276363\n",
       "196    3.163496\n",
       "197    3.071187\n",
       "198    2.955079\n",
       "199    2.921970\n",
       "Length: 200, dtype: float64"
      ]
     },
     "execution_count": 77,
     "metadata": {},
     "output_type": "execute_result"
    }
   ],
   "source": [
    "pred5 = model5.predict(score_cp)\n",
    "\n",
    "pred5"
   ]
  },
  {
   "cell_type": "code",
   "execution_count": 78,
   "id": "ce892469",
   "metadata": {},
   "outputs": [
    {
     "name": "stdout",
     "output_type": "stream",
     "text": [
      "-4.946414167150692e-11\n"
     ]
    },
    {
     "data": {
      "text/plain": [
       "0.27377146681429265"
      ]
     },
     "execution_count": 78,
     "metadata": {},
     "output_type": "execute_result"
    }
   ],
   "source": [
    "# Error calculation (error = AV - PV)\n",
    "res5 = score_cp[1] - pred5\n",
    "\n",
    "print(np.mean(res5))\n",
    "\n",
    "res_sqr5 = res5 * res5\n",
    "mse5 = np.mean(res_sqr5)\n",
    "rmse5 = np.sqrt(mse5)\n",
    "rmse5"
   ]
  },
  {
   "cell_type": "code",
   "execution_count": 79,
   "id": "938997d5",
   "metadata": {},
   "outputs": [
    {
     "data": {
      "image/png": "[encoded data removed]",
      "text/plain": [
       "<Figure size 640x480 with 1 Axes>"
      ]
     },
     "metadata": {},
     "output_type": "display_data"
    }
   ],
   "source": [
    "# Regression Line\n",
    "plt.scatter(score_cp[0],score_cp[1])\n",
    "plt.plot(score_cp[0], pred5, \"r\")\n",
    "plt.legend(['Observed data', 'Predicted line'])\n",
    "plt.show()"
   ]
  },
  {
   "cell_type": "code",
   "execution_count": null,
   "id": "498a2569",
   "metadata": {},
   "outputs": [],
   "source": []
  },
  {
   "cell_type": "code",
   "execution_count": null,
   "id": "55e8969f",
   "metadata": {},
   "outputs": [],
   "source": []
  },
  {
   "cell_type": "code",
   "execution_count": null,
   "id": "d1a583fa",
   "metadata": {},
   "outputs": [],
   "source": []
  },
  {
   "cell_type": "code",
   "execution_count": null,
   "id": "00bc7951",
   "metadata": {},
   "outputs": [],
   "source": []
  }
 ],
 "metadata": {
  "kernelspec": {
   "display_name": "Python 3 (ipykernel)",
   "language": "python",
   "name": "python3"
  },
  "language_info": {
   "codemirror_mode": {
    "name": "ipython",
    "version": 3
   },
   "file_extension": ".py",
   "mimetype": "text/x-python",
   "name": "python",
   "nbconvert_exporter": "python",
   "pygments_lexer": "ipython3",
   "version": "3.8.10"
  }
 },
 "nbformat": 4,
 "nbformat_minor": 5
}
