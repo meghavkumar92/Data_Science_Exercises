{
 "cells": [
  {
   "cell_type": "markdown",
   "id": "ee07ddd5-9610-4776-b921-2c44f2ffb7db",
   "metadata": {},
   "source": [
    "# Artificial Neural Network"
   ]
  },
  {
   "cell_type": "markdown",
   "id": "6f4ad431-9386-4494-8eff-74ab98ed037b",
   "metadata": {},
   "source": [
    "#### Build ANN model on Banking and finance company customer dataset. Predict the customer churn based on the attributes."
   ]
  },
  {
   "cell_type": "code",
   "execution_count": 1,
   "id": "d9c0acdb-4569-407d-b01c-4cd366e41f64",
   "metadata": {
    "tags": []
   },
   "outputs": [],
   "source": [
    "# import libraries\n",
    "import pandas as pd\n",
    "import numpy as np\n",
    "import matplotlib.pyplot as plt\n",
    "\n",
    "from feature_engine.outliers import Winsorizer\n",
    "from sklearn.pipeline import Pipeline\n",
    "from sklearn.compose import ColumnTransformer\n",
    "from sklearn.preprocessing import MinMaxScaler, OneHotEncoder\n",
    "from sklearn.model_selection import train_test_split\n",
    "\n",
    "from tensorflow.keras.models import Sequential\n",
    "from keras.layers import Dense\n",
    "from keras.utils import np_utils"
   ]
  },
  {
   "cell_type": "code",
   "execution_count": 2,
   "id": "17dedb01-aa6e-4b6f-99a1-37296cacbbb4",
   "metadata": {},
   "outputs": [],
   "source": [
    "import warnings\n",
    "warnings.filterwarnings('ignore')"
   ]
  },
  {
   "cell_type": "code",
   "execution_count": 3,
   "id": "a936b939-e4c7-479a-ac75-b02ea64e8444",
   "metadata": {
    "tags": []
   },
   "outputs": [
    {
     "name": "stdout",
     "output_type": "stream",
     "text": [
      "<class 'pandas.core.frame.DataFrame'>\n",
      "RangeIndex: 10000 entries, 0 to 9999\n",
      "Data columns (total 14 columns):\n",
      " #   Column           Non-Null Count  Dtype  \n",
      "---  ------           --------------  -----  \n",
      " 0   RowNumber        10000 non-null  int64  \n",
      " 1   CustomerId       10000 non-null  int64  \n",
      " 2   Surname          10000 non-null  object \n",
      " 3   CreditScore      10000 non-null  int64  \n",
      " 4   Geography        10000 non-null  object \n",
      " 5   Gender           10000 non-null  object \n",
      " 6   Age              10000 non-null  int64  \n",
      " 7   Tenure           10000 non-null  int64  \n",
      " 8   Balance          10000 non-null  float64\n",
      " 9   NumOfProducts    10000 non-null  int64  \n",
      " 10  HasCrCard        10000 non-null  int64  \n",
      " 11  IsActiveMember   10000 non-null  int64  \n",
      " 12  EstimatedSalary  10000 non-null  float64\n",
      " 13  Exited           10000 non-null  int64  \n",
      "dtypes: float64(2), int64(9), object(3)\n",
      "memory usage: 1.1+ MB\n"
     ]
    }
   ],
   "source": [
    "# import dataset\n",
    "customer_df = pd.read_csv(r\"D:\\360digi\\DS\\Sharath\\Neural_Network_Master_Class\\handson\\Datasets_ANN Assignment\\RPL.csv\")\n",
    "customer_df.info()"
   ]
  },
  {
   "cell_type": "code",
   "execution_count": 4,
   "id": "077e70b0-7f2f-4da4-b2d7-5d090f04522f",
   "metadata": {
    "tags": []
   },
   "outputs": [
    {
     "data": {
      "text/html": [
       "<div>\n",
       "<style scoped>\n",
       "    .dataframe tbody tr th:only-of-type {\n",
       "        vertical-align: middle;\n",
       "    }\n",
       "\n",
       "    .dataframe tbody tr th {\n",
       "        vertical-align: top;\n",
       "    }\n",
       "\n",
       "    .dataframe thead th {\n",
       "        text-align: right;\n",
       "    }\n",
       "</style>\n",
       "<table border=\"1\" class=\"dataframe\">\n",
       "  <thead>\n",
       "    <tr style=\"text-align: right;\">\n",
       "      <th></th>\n",
       "      <th>RowNumber</th>\n",
       "      <th>CustomerId</th>\n",
       "      <th>Surname</th>\n",
       "      <th>CreditScore</th>\n",
       "      <th>Geography</th>\n",
       "      <th>Gender</th>\n",
       "      <th>Age</th>\n",
       "      <th>Tenure</th>\n",
       "      <th>Balance</th>\n",
       "      <th>NumOfProducts</th>\n",
       "      <th>HasCrCard</th>\n",
       "      <th>IsActiveMember</th>\n",
       "      <th>EstimatedSalary</th>\n",
       "      <th>Exited</th>\n",
       "    </tr>\n",
       "  </thead>\n",
       "  <tbody>\n",
       "    <tr>\n",
       "      <th>0</th>\n",
       "      <td>1</td>\n",
       "      <td>15634602</td>\n",
       "      <td>Hargrave</td>\n",
       "      <td>619</td>\n",
       "      <td>France</td>\n",
       "      <td>Female</td>\n",
       "      <td>42</td>\n",
       "      <td>2</td>\n",
       "      <td>0.00</td>\n",
       "      <td>1</td>\n",
       "      <td>1</td>\n",
       "      <td>1</td>\n",
       "      <td>101348.88</td>\n",
       "      <td>1</td>\n",
       "    </tr>\n",
       "    <tr>\n",
       "      <th>1</th>\n",
       "      <td>2</td>\n",
       "      <td>15647311</td>\n",
       "      <td>Hill</td>\n",
       "      <td>608</td>\n",
       "      <td>Spain</td>\n",
       "      <td>Female</td>\n",
       "      <td>41</td>\n",
       "      <td>1</td>\n",
       "      <td>83807.86</td>\n",
       "      <td>1</td>\n",
       "      <td>0</td>\n",
       "      <td>1</td>\n",
       "      <td>112542.58</td>\n",
       "      <td>0</td>\n",
       "    </tr>\n",
       "    <tr>\n",
       "      <th>2</th>\n",
       "      <td>3</td>\n",
       "      <td>15619304</td>\n",
       "      <td>Onio</td>\n",
       "      <td>502</td>\n",
       "      <td>France</td>\n",
       "      <td>Female</td>\n",
       "      <td>42</td>\n",
       "      <td>8</td>\n",
       "      <td>159660.80</td>\n",
       "      <td>3</td>\n",
       "      <td>1</td>\n",
       "      <td>0</td>\n",
       "      <td>113931.57</td>\n",
       "      <td>1</td>\n",
       "    </tr>\n",
       "    <tr>\n",
       "      <th>3</th>\n",
       "      <td>4</td>\n",
       "      <td>15701354</td>\n",
       "      <td>Boni</td>\n",
       "      <td>699</td>\n",
       "      <td>France</td>\n",
       "      <td>Female</td>\n",
       "      <td>39</td>\n",
       "      <td>1</td>\n",
       "      <td>0.00</td>\n",
       "      <td>2</td>\n",
       "      <td>0</td>\n",
       "      <td>0</td>\n",
       "      <td>93826.63</td>\n",
       "      <td>0</td>\n",
       "    </tr>\n",
       "    <tr>\n",
       "      <th>4</th>\n",
       "      <td>5</td>\n",
       "      <td>15737888</td>\n",
       "      <td>Mitchell</td>\n",
       "      <td>850</td>\n",
       "      <td>Spain</td>\n",
       "      <td>Female</td>\n",
       "      <td>43</td>\n",
       "      <td>2</td>\n",
       "      <td>125510.82</td>\n",
       "      <td>1</td>\n",
       "      <td>1</td>\n",
       "      <td>1</td>\n",
       "      <td>79084.10</td>\n",
       "      <td>0</td>\n",
       "    </tr>\n",
       "  </tbody>\n",
       "</table>\n",
       "</div>"
      ],
      "text/plain": [
       "   RowNumber  CustomerId   Surname  CreditScore Geography  Gender  Age  \\\n",
       "0          1    15634602  Hargrave          619    France  Female   42   \n",
       "1          2    15647311      Hill          608     Spain  Female   41   \n",
       "2          3    15619304      Onio          502    France  Female   42   \n",
       "3          4    15701354      Boni          699    France  Female   39   \n",
       "4          5    15737888  Mitchell          850     Spain  Female   43   \n",
       "\n",
       "   Tenure    Balance  NumOfProducts  HasCrCard  IsActiveMember  \\\n",
       "0       2       0.00              1          1               1   \n",
       "1       1   83807.86              1          0               1   \n",
       "2       8  159660.80              3          1               0   \n",
       "3       1       0.00              2          0               0   \n",
       "4       2  125510.82              1          1               1   \n",
       "\n",
       "   EstimatedSalary  Exited  \n",
       "0        101348.88       1  \n",
       "1        112542.58       0  \n",
       "2        113931.57       1  \n",
       "3         93826.63       0  \n",
       "4         79084.10       0  "
      ]
     },
     "execution_count": 4,
     "metadata": {},
     "output_type": "execute_result"
    }
   ],
   "source": [
    "customer_df.head()"
   ]
  },
  {
   "cell_type": "code",
   "execution_count": 5,
   "id": "48e1091c-5cd5-487f-b6b8-3cbbfc14ad62",
   "metadata": {
    "tags": []
   },
   "outputs": [
    {
     "data": {
      "text/html": [
       "<div>\n",
       "<style scoped>\n",
       "    .dataframe tbody tr th:only-of-type {\n",
       "        vertical-align: middle;\n",
       "    }\n",
       "\n",
       "    .dataframe tbody tr th {\n",
       "        vertical-align: top;\n",
       "    }\n",
       "\n",
       "    .dataframe thead th {\n",
       "        text-align: right;\n",
       "    }\n",
       "</style>\n",
       "<table border=\"1\" class=\"dataframe\">\n",
       "  <thead>\n",
       "    <tr style=\"text-align: right;\">\n",
       "      <th></th>\n",
       "      <th>RowNumber</th>\n",
       "      <th>CustomerId</th>\n",
       "      <th>CreditScore</th>\n",
       "      <th>Age</th>\n",
       "      <th>Tenure</th>\n",
       "      <th>Balance</th>\n",
       "      <th>NumOfProducts</th>\n",
       "      <th>HasCrCard</th>\n",
       "      <th>IsActiveMember</th>\n",
       "      <th>EstimatedSalary</th>\n",
       "      <th>Exited</th>\n",
       "    </tr>\n",
       "  </thead>\n",
       "  <tbody>\n",
       "    <tr>\n",
       "      <th>count</th>\n",
       "      <td>10000.00000</td>\n",
       "      <td>1.000000e+04</td>\n",
       "      <td>10000.000000</td>\n",
       "      <td>10000.000000</td>\n",
       "      <td>10000.000000</td>\n",
       "      <td>10000.000000</td>\n",
       "      <td>10000.000000</td>\n",
       "      <td>10000.00000</td>\n",
       "      <td>10000.000000</td>\n",
       "      <td>10000.000000</td>\n",
       "      <td>10000.000000</td>\n",
       "    </tr>\n",
       "    <tr>\n",
       "      <th>mean</th>\n",
       "      <td>5000.50000</td>\n",
       "      <td>1.569094e+07</td>\n",
       "      <td>650.528800</td>\n",
       "      <td>38.921800</td>\n",
       "      <td>5.012800</td>\n",
       "      <td>76485.889288</td>\n",
       "      <td>1.530200</td>\n",
       "      <td>0.70550</td>\n",
       "      <td>0.515100</td>\n",
       "      <td>100090.239881</td>\n",
       "      <td>0.203700</td>\n",
       "    </tr>\n",
       "    <tr>\n",
       "      <th>std</th>\n",
       "      <td>2886.89568</td>\n",
       "      <td>7.193619e+04</td>\n",
       "      <td>96.653299</td>\n",
       "      <td>10.487806</td>\n",
       "      <td>2.892174</td>\n",
       "      <td>62397.405202</td>\n",
       "      <td>0.581654</td>\n",
       "      <td>0.45584</td>\n",
       "      <td>0.499797</td>\n",
       "      <td>57510.492818</td>\n",
       "      <td>0.402769</td>\n",
       "    </tr>\n",
       "    <tr>\n",
       "      <th>min</th>\n",
       "      <td>1.00000</td>\n",
       "      <td>1.556570e+07</td>\n",
       "      <td>350.000000</td>\n",
       "      <td>18.000000</td>\n",
       "      <td>0.000000</td>\n",
       "      <td>0.000000</td>\n",
       "      <td>1.000000</td>\n",
       "      <td>0.00000</td>\n",
       "      <td>0.000000</td>\n",
       "      <td>11.580000</td>\n",
       "      <td>0.000000</td>\n",
       "    </tr>\n",
       "    <tr>\n",
       "      <th>25%</th>\n",
       "      <td>2500.75000</td>\n",
       "      <td>1.562853e+07</td>\n",
       "      <td>584.000000</td>\n",
       "      <td>32.000000</td>\n",
       "      <td>3.000000</td>\n",
       "      <td>0.000000</td>\n",
       "      <td>1.000000</td>\n",
       "      <td>0.00000</td>\n",
       "      <td>0.000000</td>\n",
       "      <td>51002.110000</td>\n",
       "      <td>0.000000</td>\n",
       "    </tr>\n",
       "    <tr>\n",
       "      <th>50%</th>\n",
       "      <td>5000.50000</td>\n",
       "      <td>1.569074e+07</td>\n",
       "      <td>652.000000</td>\n",
       "      <td>37.000000</td>\n",
       "      <td>5.000000</td>\n",
       "      <td>97198.540000</td>\n",
       "      <td>1.000000</td>\n",
       "      <td>1.00000</td>\n",
       "      <td>1.000000</td>\n",
       "      <td>100193.915000</td>\n",
       "      <td>0.000000</td>\n",
       "    </tr>\n",
       "    <tr>\n",
       "      <th>75%</th>\n",
       "      <td>7500.25000</td>\n",
       "      <td>1.575323e+07</td>\n",
       "      <td>718.000000</td>\n",
       "      <td>44.000000</td>\n",
       "      <td>7.000000</td>\n",
       "      <td>127644.240000</td>\n",
       "      <td>2.000000</td>\n",
       "      <td>1.00000</td>\n",
       "      <td>1.000000</td>\n",
       "      <td>149388.247500</td>\n",
       "      <td>0.000000</td>\n",
       "    </tr>\n",
       "    <tr>\n",
       "      <th>max</th>\n",
       "      <td>10000.00000</td>\n",
       "      <td>1.581569e+07</td>\n",
       "      <td>850.000000</td>\n",
       "      <td>92.000000</td>\n",
       "      <td>10.000000</td>\n",
       "      <td>250898.090000</td>\n",
       "      <td>4.000000</td>\n",
       "      <td>1.00000</td>\n",
       "      <td>1.000000</td>\n",
       "      <td>199992.480000</td>\n",
       "      <td>1.000000</td>\n",
       "    </tr>\n",
       "  </tbody>\n",
       "</table>\n",
       "</div>"
      ],
      "text/plain": [
       "         RowNumber    CustomerId   CreditScore           Age        Tenure  \\\n",
       "count  10000.00000  1.000000e+04  10000.000000  10000.000000  10000.000000   \n",
       "mean    5000.50000  1.569094e+07    650.528800     38.921800      5.012800   \n",
       "std     2886.89568  7.193619e+04     96.653299     10.487806      2.892174   \n",
       "min        1.00000  1.556570e+07    350.000000     18.000000      0.000000   \n",
       "25%     2500.75000  1.562853e+07    584.000000     32.000000      3.000000   \n",
       "50%     5000.50000  1.569074e+07    652.000000     37.000000      5.000000   \n",
       "75%     7500.25000  1.575323e+07    718.000000     44.000000      7.000000   \n",
       "max    10000.00000  1.581569e+07    850.000000     92.000000     10.000000   \n",
       "\n",
       "             Balance  NumOfProducts    HasCrCard  IsActiveMember  \\\n",
       "count   10000.000000   10000.000000  10000.00000    10000.000000   \n",
       "mean    76485.889288       1.530200      0.70550        0.515100   \n",
       "std     62397.405202       0.581654      0.45584        0.499797   \n",
       "min         0.000000       1.000000      0.00000        0.000000   \n",
       "25%         0.000000       1.000000      0.00000        0.000000   \n",
       "50%     97198.540000       1.000000      1.00000        1.000000   \n",
       "75%    127644.240000       2.000000      1.00000        1.000000   \n",
       "max    250898.090000       4.000000      1.00000        1.000000   \n",
       "\n",
       "       EstimatedSalary        Exited  \n",
       "count     10000.000000  10000.000000  \n",
       "mean     100090.239881      0.203700  \n",
       "std       57510.492818      0.402769  \n",
       "min          11.580000      0.000000  \n",
       "25%       51002.110000      0.000000  \n",
       "50%      100193.915000      0.000000  \n",
       "75%      149388.247500      0.000000  \n",
       "max      199992.480000      1.000000  "
      ]
     },
     "execution_count": 5,
     "metadata": {},
     "output_type": "execute_result"
    }
   ],
   "source": [
    "customer_df.describe()"
   ]
  },
  {
   "cell_type": "code",
   "execution_count": 6,
   "id": "caa69f95-0088-46bd-8510-08f7faf68012",
   "metadata": {
    "tags": []
   },
   "outputs": [
    {
     "data": {
      "text/plain": [
       "RowNumber          0\n",
       "CustomerId         0\n",
       "Surname            0\n",
       "CreditScore        0\n",
       "Geography          0\n",
       "Gender             0\n",
       "Age                0\n",
       "Tenure             0\n",
       "Balance            0\n",
       "NumOfProducts      0\n",
       "HasCrCard          0\n",
       "IsActiveMember     0\n",
       "EstimatedSalary    0\n",
       "Exited             0\n",
       "dtype: int64"
      ]
     },
     "execution_count": 6,
     "metadata": {},
     "output_type": "execute_result"
    }
   ],
   "source": [
    "# check missing values\n",
    "customer_df.isnull().sum()"
   ]
  },
  {
   "cell_type": "code",
   "execution_count": 7,
   "id": "697c0ae6-fa93-4eec-8ded-a56083c8dcec",
   "metadata": {
    "tags": []
   },
   "outputs": [
    {
     "data": {
      "image/png": "[encoded data removed]",
      "text/plain": [
       "<Figure size 1500x500 with 11 Axes>"
      ]
     },
     "metadata": {},
     "output_type": "display_data"
    }
   ],
   "source": [
    "# box plot visualisation\n",
    "customer_df.plot(kind = 'box', subplots = True, sharey = False, figsize = (15,5))\n",
    "plt.subplots_adjust(wspace = 0.75)\n",
    "plt.show()\n",
    "#outliers in CreditScore, Age, NumOfProducts"
   ]
  },
  {
   "cell_type": "code",
   "execution_count": 8,
   "id": "c92306e2-a16e-4574-b2b5-11586323d179",
   "metadata": {
    "tags": []
   },
   "outputs": [],
   "source": [
    "# Seperating input and output variables \n",
    "X = pd.DataFrame(customer_df.iloc[:, 3:13])\n",
    "Y = pd.DataFrame(customer_df.iloc[:, 13])"
   ]
  },
  {
   "cell_type": "code",
   "execution_count": 9,
   "id": "22dfcfd9-a9dc-499f-b4ee-bc7dde30613a",
   "metadata": {
    "tags": []
   },
   "outputs": [
    {
     "data": {
      "text/html": [
       "<div>\n",
       "<style scoped>\n",
       "    .dataframe tbody tr th:only-of-type {\n",
       "        vertical-align: middle;\n",
       "    }\n",
       "\n",
       "    .dataframe tbody tr th {\n",
       "        vertical-align: top;\n",
       "    }\n",
       "\n",
       "    .dataframe thead th {\n",
       "        text-align: right;\n",
       "    }\n",
       "</style>\n",
       "<table border=\"1\" class=\"dataframe\">\n",
       "  <thead>\n",
       "    <tr style=\"text-align: right;\">\n",
       "      <th></th>\n",
       "      <th>CreditScore</th>\n",
       "      <th>Geography</th>\n",
       "      <th>Gender</th>\n",
       "      <th>Age</th>\n",
       "      <th>Tenure</th>\n",
       "      <th>Balance</th>\n",
       "      <th>NumOfProducts</th>\n",
       "      <th>HasCrCard</th>\n",
       "      <th>IsActiveMember</th>\n",
       "      <th>EstimatedSalary</th>\n",
       "    </tr>\n",
       "  </thead>\n",
       "  <tbody>\n",
       "    <tr>\n",
       "      <th>0</th>\n",
       "      <td>619</td>\n",
       "      <td>France</td>\n",
       "      <td>Female</td>\n",
       "      <td>42</td>\n",
       "      <td>2</td>\n",
       "      <td>0.00</td>\n",
       "      <td>1</td>\n",
       "      <td>1</td>\n",
       "      <td>1</td>\n",
       "      <td>101348.88</td>\n",
       "    </tr>\n",
       "    <tr>\n",
       "      <th>1</th>\n",
       "      <td>608</td>\n",
       "      <td>Spain</td>\n",
       "      <td>Female</td>\n",
       "      <td>41</td>\n",
       "      <td>1</td>\n",
       "      <td>83807.86</td>\n",
       "      <td>1</td>\n",
       "      <td>0</td>\n",
       "      <td>1</td>\n",
       "      <td>112542.58</td>\n",
       "    </tr>\n",
       "    <tr>\n",
       "      <th>2</th>\n",
       "      <td>502</td>\n",
       "      <td>France</td>\n",
       "      <td>Female</td>\n",
       "      <td>42</td>\n",
       "      <td>8</td>\n",
       "      <td>159660.80</td>\n",
       "      <td>3</td>\n",
       "      <td>1</td>\n",
       "      <td>0</td>\n",
       "      <td>113931.57</td>\n",
       "    </tr>\n",
       "    <tr>\n",
       "      <th>3</th>\n",
       "      <td>699</td>\n",
       "      <td>France</td>\n",
       "      <td>Female</td>\n",
       "      <td>39</td>\n",
       "      <td>1</td>\n",
       "      <td>0.00</td>\n",
       "      <td>2</td>\n",
       "      <td>0</td>\n",
       "      <td>0</td>\n",
       "      <td>93826.63</td>\n",
       "    </tr>\n",
       "    <tr>\n",
       "      <th>4</th>\n",
       "      <td>850</td>\n",
       "      <td>Spain</td>\n",
       "      <td>Female</td>\n",
       "      <td>43</td>\n",
       "      <td>2</td>\n",
       "      <td>125510.82</td>\n",
       "      <td>1</td>\n",
       "      <td>1</td>\n",
       "      <td>1</td>\n",
       "      <td>79084.10</td>\n",
       "    </tr>\n",
       "    <tr>\n",
       "      <th>...</th>\n",
       "      <td>...</td>\n",
       "      <td>...</td>\n",
       "      <td>...</td>\n",
       "      <td>...</td>\n",
       "      <td>...</td>\n",
       "      <td>...</td>\n",
       "      <td>...</td>\n",
       "      <td>...</td>\n",
       "      <td>...</td>\n",
       "      <td>...</td>\n",
       "    </tr>\n",
       "    <tr>\n",
       "      <th>9995</th>\n",
       "      <td>771</td>\n",
       "      <td>France</td>\n",
       "      <td>Male</td>\n",
       "      <td>39</td>\n",
       "      <td>5</td>\n",
       "      <td>0.00</td>\n",
       "      <td>2</td>\n",
       "      <td>1</td>\n",
       "      <td>0</td>\n",
       "      <td>96270.64</td>\n",
       "    </tr>\n",
       "    <tr>\n",
       "      <th>9996</th>\n",
       "      <td>516</td>\n",
       "      <td>France</td>\n",
       "      <td>Male</td>\n",
       "      <td>35</td>\n",
       "      <td>10</td>\n",
       "      <td>57369.61</td>\n",
       "      <td>1</td>\n",
       "      <td>1</td>\n",
       "      <td>1</td>\n",
       "      <td>101699.77</td>\n",
       "    </tr>\n",
       "    <tr>\n",
       "      <th>9997</th>\n",
       "      <td>709</td>\n",
       "      <td>France</td>\n",
       "      <td>Female</td>\n",
       "      <td>36</td>\n",
       "      <td>7</td>\n",
       "      <td>0.00</td>\n",
       "      <td>1</td>\n",
       "      <td>0</td>\n",
       "      <td>1</td>\n",
       "      <td>42085.58</td>\n",
       "    </tr>\n",
       "    <tr>\n",
       "      <th>9998</th>\n",
       "      <td>772</td>\n",
       "      <td>Germany</td>\n",
       "      <td>Male</td>\n",
       "      <td>42</td>\n",
       "      <td>3</td>\n",
       "      <td>75075.31</td>\n",
       "      <td>2</td>\n",
       "      <td>1</td>\n",
       "      <td>0</td>\n",
       "      <td>92888.52</td>\n",
       "    </tr>\n",
       "    <tr>\n",
       "      <th>9999</th>\n",
       "      <td>792</td>\n",
       "      <td>France</td>\n",
       "      <td>Female</td>\n",
       "      <td>28</td>\n",
       "      <td>4</td>\n",
       "      <td>130142.79</td>\n",
       "      <td>1</td>\n",
       "      <td>1</td>\n",
       "      <td>0</td>\n",
       "      <td>38190.78</td>\n",
       "    </tr>\n",
       "  </tbody>\n",
       "</table>\n",
       "<p>10000 rows × 10 columns</p>\n",
       "</div>"
      ],
      "text/plain": [
       "      CreditScore Geography  Gender  Age  Tenure    Balance  NumOfProducts  \\\n",
       "0             619    France  Female   42       2       0.00              1   \n",
       "1             608     Spain  Female   41       1   83807.86              1   \n",
       "2             502    France  Female   42       8  159660.80              3   \n",
       "3             699    France  Female   39       1       0.00              2   \n",
       "4             850     Spain  Female   43       2  125510.82              1   \n",
       "...           ...       ...     ...  ...     ...        ...            ...   \n",
       "9995          771    France    Male   39       5       0.00              2   \n",
       "9996          516    France    Male   35      10   57369.61              1   \n",
       "9997          709    France  Female   36       7       0.00              1   \n",
       "9998          772   Germany    Male   42       3   75075.31              2   \n",
       "9999          792    France  Female   28       4  130142.79              1   \n",
       "\n",
       "      HasCrCard  IsActiveMember  EstimatedSalary  \n",
       "0             1               1        101348.88  \n",
       "1             0               1        112542.58  \n",
       "2             1               0        113931.57  \n",
       "3             0               0         93826.63  \n",
       "4             1               1         79084.10  \n",
       "...         ...             ...              ...  \n",
       "9995          1               0         96270.64  \n",
       "9996          1               1        101699.77  \n",
       "9997          0               1         42085.58  \n",
       "9998          1               0         92888.52  \n",
       "9999          1               0         38190.78  \n",
       "\n",
       "[10000 rows x 10 columns]"
      ]
     },
     "execution_count": 9,
     "metadata": {},
     "output_type": "execute_result"
    }
   ],
   "source": [
    "X"
   ]
  },
  {
   "cell_type": "code",
   "execution_count": null,
   "id": "89a8d6c0-864a-4b16-91a7-50fd11b993f9",
   "metadata": {
    "tags": []
   },
   "outputs": [],
   "source": []
  },
  {
   "cell_type": "markdown",
   "id": "85aeb9f4-851e-4cf1-85d2-b1d10b831e2e",
   "metadata": {},
   "source": [
    "## Data Preprocessing"
   ]
  },
  {
   "cell_type": "code",
   "execution_count": 11,
   "id": "c9f32c4f-02fd-4103-9389-d0186ae43c67",
   "metadata": {
    "tags": []
   },
   "outputs": [
    {
     "name": "stdout",
     "output_type": "stream",
     "text": [
      "Index(['CreditScore', 'Age', 'Tenure', 'Balance', 'NumOfProducts', 'HasCrCard',\n",
      "       'IsActiveMember', 'EstimatedSalary'],\n",
      "      dtype='object')\n"
     ]
    }
   ],
   "source": [
    "# Select numeric features for data preprocessing\n",
    "numeric_features = X.select_dtypes(exclude = ['object']).columns\n",
    "print(numeric_features)"
   ]
  },
  {
   "cell_type": "code",
   "execution_count": 12,
   "id": "ed17cc7a-7d39-47ab-9a0c-2be3658605b6",
   "metadata": {
    "tags": []
   },
   "outputs": [
    {
     "name": "stdout",
     "output_type": "stream",
     "text": [
      "Index(['Geography', 'Gender'], dtype='object')\n"
     ]
    }
   ],
   "source": [
    "categorical_features = X.select_dtypes(include = ['object']).columns\n",
    "print(categorical_features)"
   ]
  },
  {
   "cell_type": "code",
   "execution_count": 13,
   "id": "2e08509e-e1bf-4a90-9d58-b167dad26b5f",
   "metadata": {
    "tags": []
   },
   "outputs": [
    {
     "data": {
      "text/html": [
       "<style>#sk-container-id-1 {color: black;background-color: white;}#sk-container-id-1 pre{padding: 0;}#sk-container-id-1 div.sk-toggleable {background-color: white;}#sk-container-id-1 label.sk-toggleable__label {cursor: pointer;display: block;width: 100%;margin-bottom: 0;padding: 0.3em;box-sizing: border-box;text-align: center;}#sk-container-id-1 label.sk-toggleable__label-arrow:before {content: \"▸\";float: left;margin-right: 0.25em;color: #696969;}#sk-container-id-1 label.sk-toggleable__label-arrow:hover:before {color: black;}#sk-container-id-1 div.sk-estimator:hover label.sk-toggleable__label-arrow:before {color: black;}#sk-container-id-1 div.sk-toggleable__content {max-height: 0;max-width: 0;overflow: hidden;text-align: left;background-color: #f0f8ff;}#sk-container-id-1 div.sk-toggleable__content pre {margin: 0.2em;color: black;border-radius: 0.25em;background-color: #f0f8ff;}#sk-container-id-1 input.sk-toggleable__control:checked~div.sk-toggleable__content {max-height: 200px;max-width: 100%;overflow: auto;}#sk-container-id-1 input.sk-toggleable__control:checked~label.sk-toggleable__label-arrow:before {content: \"▾\";}#sk-container-id-1 div.sk-estimator input.sk-toggleable__control:checked~label.sk-toggleable__label {background-color: #d4ebff;}#sk-container-id-1 div.sk-label input.sk-toggleable__control:checked~label.sk-toggleable__label {background-color: #d4ebff;}#sk-container-id-1 input.sk-hidden--visually {border: 0;clip: rect(1px 1px 1px 1px);clip: rect(1px, 1px, 1px, 1px);height: 1px;margin: -1px;overflow: hidden;padding: 0;position: absolute;width: 1px;}#sk-container-id-1 div.sk-estimator {font-family: monospace;background-color: #f0f8ff;border: 1px dotted black;border-radius: 0.25em;box-sizing: border-box;margin-bottom: 0.5em;}#sk-container-id-1 div.sk-estimator:hover {background-color: #d4ebff;}#sk-container-id-1 div.sk-parallel-item::after {content: \"\";width: 100%;border-bottom: 1px solid gray;flex-grow: 1;}#sk-container-id-1 div.sk-label:hover label.sk-toggleable__label {background-color: #d4ebff;}#sk-container-id-1 div.sk-serial::before {content: \"\";position: absolute;border-left: 1px solid gray;box-sizing: border-box;top: 0;bottom: 0;left: 50%;z-index: 0;}#sk-container-id-1 div.sk-serial {display: flex;flex-direction: column;align-items: center;background-color: white;padding-right: 0.2em;padding-left: 0.2em;position: relative;}#sk-container-id-1 div.sk-item {position: relative;z-index: 1;}#sk-container-id-1 div.sk-parallel {display: flex;align-items: stretch;justify-content: center;background-color: white;position: relative;}#sk-container-id-1 div.sk-item::before, #sk-container-id-1 div.sk-parallel-item::before {content: \"\";position: absolute;border-left: 1px solid gray;box-sizing: border-box;top: 0;bottom: 0;left: 50%;z-index: -1;}#sk-container-id-1 div.sk-parallel-item {display: flex;flex-direction: column;z-index: 1;position: relative;background-color: white;}#sk-container-id-1 div.sk-parallel-item:first-child::after {align-self: flex-end;width: 50%;}#sk-container-id-1 div.sk-parallel-item:last-child::after {align-self: flex-start;width: 50%;}#sk-container-id-1 div.sk-parallel-item:only-child::after {width: 0;}#sk-container-id-1 div.sk-dashed-wrapped {border: 1px dashed gray;margin: 0 0.4em 0.5em 0.4em;box-sizing: border-box;padding-bottom: 0.4em;background-color: white;}#sk-container-id-1 div.sk-label label {font-family: monospace;font-weight: bold;display: inline-block;line-height: 1.2em;}#sk-container-id-1 div.sk-label-container {text-align: center;}#sk-container-id-1 div.sk-container {/* jupyter's `normalize.less` sets `[hidden] { display: none; }` but bootstrap.min.css set `[hidden] { display: none !important; }` so we also need the `!important` here to be able to override the default hidden behavior on the sphinx rendered scikit-learn.org. See: https://github.com/scikit-learn/scikit-learn/issues/21755 */display: inline-block !important;position: relative;}#sk-container-id-1 div.sk-text-repr-fallback {display: none;}</style><div id=\"sk-container-id-1\" class=\"sk-top-container\"><div class=\"sk-text-repr-fallback\"><pre>Winsorizer(capping_method=&#x27;iqr&#x27;, fold=1.5, tail=&#x27;both&#x27;,\n",
       "           variables=[&#x27;CreditScore&#x27;, &#x27;Age&#x27;, &#x27;Tenure&#x27;, &#x27;Balance&#x27;,\n",
       "                      &#x27;NumOfProducts&#x27;, &#x27;HasCrCard&#x27;, &#x27;IsActiveMember&#x27;,\n",
       "                      &#x27;EstimatedSalary&#x27;])</pre><b>In a Jupyter environment, please rerun this cell to show the HTML representation or trust the notebook. <br />On GitHub, the HTML representation is unable to render, please try loading this page with nbviewer.org.</b></div><div class=\"sk-container\" hidden><div class=\"sk-item\"><div class=\"sk-estimator sk-toggleable\"><input class=\"sk-toggleable__control sk-hidden--visually\" id=\"sk-estimator-id-1\" type=\"checkbox\" checked><label for=\"sk-estimator-id-1\" class=\"sk-toggleable__label sk-toggleable__label-arrow\">Winsorizer</label><div class=\"sk-toggleable__content\"><pre>Winsorizer(capping_method=&#x27;iqr&#x27;, fold=1.5, tail=&#x27;both&#x27;,\n",
       "           variables=[&#x27;CreditScore&#x27;, &#x27;Age&#x27;, &#x27;Tenure&#x27;, &#x27;Balance&#x27;,\n",
       "                      &#x27;NumOfProducts&#x27;, &#x27;HasCrCard&#x27;, &#x27;IsActiveMember&#x27;,\n",
       "                      &#x27;EstimatedSalary&#x27;])</pre></div></div></div></div></div>"
      ],
      "text/plain": [
       "Winsorizer(capping_method='iqr', fold=1.5, tail='both',\n",
       "           variables=['CreditScore', 'Age', 'Tenure', 'Balance',\n",
       "                      'NumOfProducts', 'HasCrCard', 'IsActiveMember',\n",
       "                      'EstimatedSalary'])"
      ]
     },
     "execution_count": 13,
     "metadata": {},
     "output_type": "execute_result"
    }
   ],
   "source": [
    "# Winsorization for outlier treatment\n",
    "winsor = Winsorizer(capping_method = 'iqr', tail = 'both', fold = 1.5, variables = list(numeric_features))\n",
    "winsor"
   ]
  },
  {
   "cell_type": "code",
   "execution_count": 14,
   "id": "5b6dc7fb-161f-41ce-94fa-13079b5ed667",
   "metadata": {
    "tags": []
   },
   "outputs": [
    {
     "data": {
      "text/html": [
       "<style>#sk-container-id-2 {color: black;background-color: white;}#sk-container-id-2 pre{padding: 0;}#sk-container-id-2 div.sk-toggleable {background-color: white;}#sk-container-id-2 label.sk-toggleable__label {cursor: pointer;display: block;width: 100%;margin-bottom: 0;padding: 0.3em;box-sizing: border-box;text-align: center;}#sk-container-id-2 label.sk-toggleable__label-arrow:before {content: \"▸\";float: left;margin-right: 0.25em;color: #696969;}#sk-container-id-2 label.sk-toggleable__label-arrow:hover:before {color: black;}#sk-container-id-2 div.sk-estimator:hover label.sk-toggleable__label-arrow:before {color: black;}#sk-container-id-2 div.sk-toggleable__content {max-height: 0;max-width: 0;overflow: hidden;text-align: left;background-color: #f0f8ff;}#sk-container-id-2 div.sk-toggleable__content pre {margin: 0.2em;color: black;border-radius: 0.25em;background-color: #f0f8ff;}#sk-container-id-2 input.sk-toggleable__control:checked~div.sk-toggleable__content {max-height: 200px;max-width: 100%;overflow: auto;}#sk-container-id-2 input.sk-toggleable__control:checked~label.sk-toggleable__label-arrow:before {content: \"▾\";}#sk-container-id-2 div.sk-estimator input.sk-toggleable__control:checked~label.sk-toggleable__label {background-color: #d4ebff;}#sk-container-id-2 div.sk-label input.sk-toggleable__control:checked~label.sk-toggleable__label {background-color: #d4ebff;}#sk-container-id-2 input.sk-hidden--visually {border: 0;clip: rect(1px 1px 1px 1px);clip: rect(1px, 1px, 1px, 1px);height: 1px;margin: -1px;overflow: hidden;padding: 0;position: absolute;width: 1px;}#sk-container-id-2 div.sk-estimator {font-family: monospace;background-color: #f0f8ff;border: 1px dotted black;border-radius: 0.25em;box-sizing: border-box;margin-bottom: 0.5em;}#sk-container-id-2 div.sk-estimator:hover {background-color: #d4ebff;}#sk-container-id-2 div.sk-parallel-item::after {content: \"\";width: 100%;border-bottom: 1px solid gray;flex-grow: 1;}#sk-container-id-2 div.sk-label:hover label.sk-toggleable__label {background-color: #d4ebff;}#sk-container-id-2 div.sk-serial::before {content: \"\";position: absolute;border-left: 1px solid gray;box-sizing: border-box;top: 0;bottom: 0;left: 50%;z-index: 0;}#sk-container-id-2 div.sk-serial {display: flex;flex-direction: column;align-items: center;background-color: white;padding-right: 0.2em;padding-left: 0.2em;position: relative;}#sk-container-id-2 div.sk-item {position: relative;z-index: 1;}#sk-container-id-2 div.sk-parallel {display: flex;align-items: stretch;justify-content: center;background-color: white;position: relative;}#sk-container-id-2 div.sk-item::before, #sk-container-id-2 div.sk-parallel-item::before {content: \"\";position: absolute;border-left: 1px solid gray;box-sizing: border-box;top: 0;bottom: 0;left: 50%;z-index: -1;}#sk-container-id-2 div.sk-parallel-item {display: flex;flex-direction: column;z-index: 1;position: relative;background-color: white;}#sk-container-id-2 div.sk-parallel-item:first-child::after {align-self: flex-end;width: 50%;}#sk-container-id-2 div.sk-parallel-item:last-child::after {align-self: flex-start;width: 50%;}#sk-container-id-2 div.sk-parallel-item:only-child::after {width: 0;}#sk-container-id-2 div.sk-dashed-wrapped {border: 1px dashed gray;margin: 0 0.4em 0.5em 0.4em;box-sizing: border-box;padding-bottom: 0.4em;background-color: white;}#sk-container-id-2 div.sk-label label {font-family: monospace;font-weight: bold;display: inline-block;line-height: 1.2em;}#sk-container-id-2 div.sk-label-container {text-align: center;}#sk-container-id-2 div.sk-container {/* jupyter's `normalize.less` sets `[hidden] { display: none; }` but bootstrap.min.css set `[hidden] { display: none !important; }` so we also need the `!important` here to be able to override the default hidden behavior on the sphinx rendered scikit-learn.org. See: https://github.com/scikit-learn/scikit-learn/issues/21755 */display: inline-block !important;position: relative;}#sk-container-id-2 div.sk-text-repr-fallback {display: none;}</style><div id=\"sk-container-id-2\" class=\"sk-top-container\"><div class=\"sk-text-repr-fallback\"><pre>Pipeline(steps=[(&#x27;winsor&#x27;,\n",
       "                 Winsorizer(capping_method=&#x27;iqr&#x27;, fold=1.5, tail=&#x27;both&#x27;,\n",
       "                            variables=[&#x27;CreditScore&#x27;, &#x27;Age&#x27;, &#x27;Tenure&#x27;,\n",
       "                                       &#x27;Balance&#x27;, &#x27;NumOfProducts&#x27;, &#x27;HasCrCard&#x27;,\n",
       "                                       &#x27;IsActiveMember&#x27;, &#x27;EstimatedSalary&#x27;]))])</pre><b>In a Jupyter environment, please rerun this cell to show the HTML representation or trust the notebook. <br />On GitHub, the HTML representation is unable to render, please try loading this page with nbviewer.org.</b></div><div class=\"sk-container\" hidden><div class=\"sk-item sk-dashed-wrapped\"><div class=\"sk-label-container\"><div class=\"sk-label sk-toggleable\"><input class=\"sk-toggleable__control sk-hidden--visually\" id=\"sk-estimator-id-2\" type=\"checkbox\" ><label for=\"sk-estimator-id-2\" class=\"sk-toggleable__label sk-toggleable__label-arrow\">Pipeline</label><div class=\"sk-toggleable__content\"><pre>Pipeline(steps=[(&#x27;winsor&#x27;,\n",
       "                 Winsorizer(capping_method=&#x27;iqr&#x27;, fold=1.5, tail=&#x27;both&#x27;,\n",
       "                            variables=[&#x27;CreditScore&#x27;, &#x27;Age&#x27;, &#x27;Tenure&#x27;,\n",
       "                                       &#x27;Balance&#x27;, &#x27;NumOfProducts&#x27;, &#x27;HasCrCard&#x27;,\n",
       "                                       &#x27;IsActiveMember&#x27;, &#x27;EstimatedSalary&#x27;]))])</pre></div></div></div><div class=\"sk-serial\"><div class=\"sk-item\"><div class=\"sk-estimator sk-toggleable\"><input class=\"sk-toggleable__control sk-hidden--visually\" id=\"sk-estimator-id-3\" type=\"checkbox\" ><label for=\"sk-estimator-id-3\" class=\"sk-toggleable__label sk-toggleable__label-arrow\">Winsorizer</label><div class=\"sk-toggleable__content\"><pre>Winsorizer(capping_method=&#x27;iqr&#x27;, fold=1.5, tail=&#x27;both&#x27;,\n",
       "           variables=[&#x27;CreditScore&#x27;, &#x27;Age&#x27;, &#x27;Tenure&#x27;, &#x27;Balance&#x27;,\n",
       "                      &#x27;NumOfProducts&#x27;, &#x27;HasCrCard&#x27;, &#x27;IsActiveMember&#x27;,\n",
       "                      &#x27;EstimatedSalary&#x27;])</pre></div></div></div></div></div></div></div>"
      ],
      "text/plain": [
       "Pipeline(steps=[('winsor',\n",
       "                 Winsorizer(capping_method='iqr', fold=1.5, tail='both',\n",
       "                            variables=['CreditScore', 'Age', 'Tenure',\n",
       "                                       'Balance', 'NumOfProducts', 'HasCrCard',\n",
       "                                       'IsActiveMember', 'EstimatedSalary']))])"
      ]
     },
     "execution_count": 14,
     "metadata": {},
     "output_type": "execute_result"
    }
   ],
   "source": [
    "outlier_pipeline = Pipeline(steps = [('winsor', winsor)])\n",
    "outlier_pipeline"
   ]
  },
  {
   "cell_type": "code",
   "execution_count": 15,
   "id": "62ae7994-3002-4ba0-9312-7052633fdf7a",
   "metadata": {
    "tags": []
   },
   "outputs": [
    {
     "name": "stdout",
     "output_type": "stream",
     "text": [
      "ColumnTransformer(transformers=[('wins',\n",
      "                                 Pipeline(steps=[('winsor',\n",
      "                                                  Winsorizer(capping_method='iqr',\n",
      "                                                             fold=1.5,\n",
      "                                                             tail='both',\n",
      "                                                             variables=['CreditScore',\n",
      "                                                                        'Age',\n",
      "                                                                        'Tenure',\n",
      "                                                                        'Balance',\n",
      "                                                                        'NumOfProducts',\n",
      "                                                                        'HasCrCard',\n",
      "                                                                        'IsActiveMember',\n",
      "                                                                        'EstimatedSalary']))]),\n",
      "                                 Index(['CreditScore', 'Age', 'Tenure', 'Balance', 'NumOfProducts', 'HasCrCard',\n",
      "       'IsActiveMember', 'EstimatedSalary'],\n",
      "      dtype='object'))])\n"
     ]
    }
   ],
   "source": [
    "preprocessor = ColumnTransformer(transformers = [('wins', outlier_pipeline, numeric_features)])\n",
    "print(preprocessor)"
   ]
  },
  {
   "cell_type": "code",
   "execution_count": 16,
   "id": "bdda2f7c-9336-4111-9ac3-1c987b56595b",
   "metadata": {
    "tags": []
   },
   "outputs": [
    {
     "data": {
      "text/html": [
       "<style>#sk-container-id-3 {color: black;background-color: white;}#sk-container-id-3 pre{padding: 0;}#sk-container-id-3 div.sk-toggleable {background-color: white;}#sk-container-id-3 label.sk-toggleable__label {cursor: pointer;display: block;width: 100%;margin-bottom: 0;padding: 0.3em;box-sizing: border-box;text-align: center;}#sk-container-id-3 label.sk-toggleable__label-arrow:before {content: \"▸\";float: left;margin-right: 0.25em;color: #696969;}#sk-container-id-3 label.sk-toggleable__label-arrow:hover:before {color: black;}#sk-container-id-3 div.sk-estimator:hover label.sk-toggleable__label-arrow:before {color: black;}#sk-container-id-3 div.sk-toggleable__content {max-height: 0;max-width: 0;overflow: hidden;text-align: left;background-color: #f0f8ff;}#sk-container-id-3 div.sk-toggleable__content pre {margin: 0.2em;color: black;border-radius: 0.25em;background-color: #f0f8ff;}#sk-container-id-3 input.sk-toggleable__control:checked~div.sk-toggleable__content {max-height: 200px;max-width: 100%;overflow: auto;}#sk-container-id-3 input.sk-toggleable__control:checked~label.sk-toggleable__label-arrow:before {content: \"▾\";}#sk-container-id-3 div.sk-estimator input.sk-toggleable__control:checked~label.sk-toggleable__label {background-color: #d4ebff;}#sk-container-id-3 div.sk-label input.sk-toggleable__control:checked~label.sk-toggleable__label {background-color: #d4ebff;}#sk-container-id-3 input.sk-hidden--visually {border: 0;clip: rect(1px 1px 1px 1px);clip: rect(1px, 1px, 1px, 1px);height: 1px;margin: -1px;overflow: hidden;padding: 0;position: absolute;width: 1px;}#sk-container-id-3 div.sk-estimator {font-family: monospace;background-color: #f0f8ff;border: 1px dotted black;border-radius: 0.25em;box-sizing: border-box;margin-bottom: 0.5em;}#sk-container-id-3 div.sk-estimator:hover {background-color: #d4ebff;}#sk-container-id-3 div.sk-parallel-item::after {content: \"\";width: 100%;border-bottom: 1px solid gray;flex-grow: 1;}#sk-container-id-3 div.sk-label:hover label.sk-toggleable__label {background-color: #d4ebff;}#sk-container-id-3 div.sk-serial::before {content: \"\";position: absolute;border-left: 1px solid gray;box-sizing: border-box;top: 0;bottom: 0;left: 50%;z-index: 0;}#sk-container-id-3 div.sk-serial {display: flex;flex-direction: column;align-items: center;background-color: white;padding-right: 0.2em;padding-left: 0.2em;position: relative;}#sk-container-id-3 div.sk-item {position: relative;z-index: 1;}#sk-container-id-3 div.sk-parallel {display: flex;align-items: stretch;justify-content: center;background-color: white;position: relative;}#sk-container-id-3 div.sk-item::before, #sk-container-id-3 div.sk-parallel-item::before {content: \"\";position: absolute;border-left: 1px solid gray;box-sizing: border-box;top: 0;bottom: 0;left: 50%;z-index: -1;}#sk-container-id-3 div.sk-parallel-item {display: flex;flex-direction: column;z-index: 1;position: relative;background-color: white;}#sk-container-id-3 div.sk-parallel-item:first-child::after {align-self: flex-end;width: 50%;}#sk-container-id-3 div.sk-parallel-item:last-child::after {align-self: flex-start;width: 50%;}#sk-container-id-3 div.sk-parallel-item:only-child::after {width: 0;}#sk-container-id-3 div.sk-dashed-wrapped {border: 1px dashed gray;margin: 0 0.4em 0.5em 0.4em;box-sizing: border-box;padding-bottom: 0.4em;background-color: white;}#sk-container-id-3 div.sk-label label {font-family: monospace;font-weight: bold;display: inline-block;line-height: 1.2em;}#sk-container-id-3 div.sk-label-container {text-align: center;}#sk-container-id-3 div.sk-container {/* jupyter's `normalize.less` sets `[hidden] { display: none; }` but bootstrap.min.css set `[hidden] { display: none !important; }` so we also need the `!important` here to be able to override the default hidden behavior on the sphinx rendered scikit-learn.org. See: https://github.com/scikit-learn/scikit-learn/issues/21755 */display: inline-block !important;position: relative;}#sk-container-id-3 div.sk-text-repr-fallback {display: none;}</style><div id=\"sk-container-id-3\" class=\"sk-top-container\"><div class=\"sk-text-repr-fallback\"><pre>ColumnTransformer(transformers=[(&#x27;wins&#x27;,\n",
       "                                 Pipeline(steps=[(&#x27;winsor&#x27;,\n",
       "                                                  Winsorizer(capping_method=&#x27;iqr&#x27;,\n",
       "                                                             fold=1.5,\n",
       "                                                             tail=&#x27;both&#x27;,\n",
       "                                                             variables=[&#x27;CreditScore&#x27;,\n",
       "                                                                        &#x27;Age&#x27;,\n",
       "                                                                        &#x27;Tenure&#x27;,\n",
       "                                                                        &#x27;Balance&#x27;,\n",
       "                                                                        &#x27;NumOfProducts&#x27;,\n",
       "                                                                        &#x27;HasCrCard&#x27;,\n",
       "                                                                        &#x27;IsActiveMember&#x27;,\n",
       "                                                                        &#x27;EstimatedSalary&#x27;]))]),\n",
       "                                 Index([&#x27;CreditScore&#x27;, &#x27;Age&#x27;, &#x27;Tenure&#x27;, &#x27;Balance&#x27;, &#x27;NumOfProducts&#x27;, &#x27;HasCrCard&#x27;,\n",
       "       &#x27;IsActiveMember&#x27;, &#x27;EstimatedSalary&#x27;],\n",
       "      dtype=&#x27;object&#x27;))])</pre><b>In a Jupyter environment, please rerun this cell to show the HTML representation or trust the notebook. <br />On GitHub, the HTML representation is unable to render, please try loading this page with nbviewer.org.</b></div><div class=\"sk-container\" hidden><div class=\"sk-item sk-dashed-wrapped\"><div class=\"sk-label-container\"><div class=\"sk-label sk-toggleable\"><input class=\"sk-toggleable__control sk-hidden--visually\" id=\"sk-estimator-id-4\" type=\"checkbox\" ><label for=\"sk-estimator-id-4\" class=\"sk-toggleable__label sk-toggleable__label-arrow\">ColumnTransformer</label><div class=\"sk-toggleable__content\"><pre>ColumnTransformer(transformers=[(&#x27;wins&#x27;,\n",
       "                                 Pipeline(steps=[(&#x27;winsor&#x27;,\n",
       "                                                  Winsorizer(capping_method=&#x27;iqr&#x27;,\n",
       "                                                             fold=1.5,\n",
       "                                                             tail=&#x27;both&#x27;,\n",
       "                                                             variables=[&#x27;CreditScore&#x27;,\n",
       "                                                                        &#x27;Age&#x27;,\n",
       "                                                                        &#x27;Tenure&#x27;,\n",
       "                                                                        &#x27;Balance&#x27;,\n",
       "                                                                        &#x27;NumOfProducts&#x27;,\n",
       "                                                                        &#x27;HasCrCard&#x27;,\n",
       "                                                                        &#x27;IsActiveMember&#x27;,\n",
       "                                                                        &#x27;EstimatedSalary&#x27;]))]),\n",
       "                                 Index([&#x27;CreditScore&#x27;, &#x27;Age&#x27;, &#x27;Tenure&#x27;, &#x27;Balance&#x27;, &#x27;NumOfProducts&#x27;, &#x27;HasCrCard&#x27;,\n",
       "       &#x27;IsActiveMember&#x27;, &#x27;EstimatedSalary&#x27;],\n",
       "      dtype=&#x27;object&#x27;))])</pre></div></div></div><div class=\"sk-parallel\"><div class=\"sk-parallel-item\"><div class=\"sk-item\"><div class=\"sk-label-container\"><div class=\"sk-label sk-toggleable\"><input class=\"sk-toggleable__control sk-hidden--visually\" id=\"sk-estimator-id-5\" type=\"checkbox\" ><label for=\"sk-estimator-id-5\" class=\"sk-toggleable__label sk-toggleable__label-arrow\">wins</label><div class=\"sk-toggleable__content\"><pre>Index([&#x27;CreditScore&#x27;, &#x27;Age&#x27;, &#x27;Tenure&#x27;, &#x27;Balance&#x27;, &#x27;NumOfProducts&#x27;, &#x27;HasCrCard&#x27;,\n",
       "       &#x27;IsActiveMember&#x27;, &#x27;EstimatedSalary&#x27;],\n",
       "      dtype=&#x27;object&#x27;)</pre></div></div></div><div class=\"sk-serial\"><div class=\"sk-item\"><div class=\"sk-serial\"><div class=\"sk-item\"><div class=\"sk-estimator sk-toggleable\"><input class=\"sk-toggleable__control sk-hidden--visually\" id=\"sk-estimator-id-6\" type=\"checkbox\" ><label for=\"sk-estimator-id-6\" class=\"sk-toggleable__label sk-toggleable__label-arrow\">Winsorizer</label><div class=\"sk-toggleable__content\"><pre>Winsorizer(capping_method=&#x27;iqr&#x27;, fold=1.5, tail=&#x27;both&#x27;,\n",
       "           variables=[&#x27;CreditScore&#x27;, &#x27;Age&#x27;, &#x27;Tenure&#x27;, &#x27;Balance&#x27;,\n",
       "                      &#x27;NumOfProducts&#x27;, &#x27;HasCrCard&#x27;, &#x27;IsActiveMember&#x27;,\n",
       "                      &#x27;EstimatedSalary&#x27;])</pre></div></div></div></div></div></div></div></div></div></div></div></div>"
      ],
      "text/plain": [
       "ColumnTransformer(transformers=[('wins',\n",
       "                                 Pipeline(steps=[('winsor',\n",
       "                                                  Winsorizer(capping_method='iqr',\n",
       "                                                             fold=1.5,\n",
       "                                                             tail='both',\n",
       "                                                             variables=['CreditScore',\n",
       "                                                                        'Age',\n",
       "                                                                        'Tenure',\n",
       "                                                                        'Balance',\n",
       "                                                                        'NumOfProducts',\n",
       "                                                                        'HasCrCard',\n",
       "                                                                        'IsActiveMember',\n",
       "                                                                        'EstimatedSalary']))]),\n",
       "                                 Index(['CreditScore', 'Age', 'Tenure', 'Balance', 'NumOfProducts', 'HasCrCard',\n",
       "       'IsActiveMember', 'EstimatedSalary'],\n",
       "      dtype='object'))])"
      ]
     },
     "execution_count": 16,
     "metadata": {},
     "output_type": "execute_result"
    }
   ],
   "source": [
    "clean = preprocessor.fit(X)\n",
    "clean"
   ]
  },
  {
   "cell_type": "code",
   "execution_count": 17,
   "id": "5871a604-2ebf-4870-a4b9-9698cb747fab",
   "metadata": {
    "tags": []
   },
   "outputs": [
    {
     "data": {
      "text/html": [
       "<div>\n",
       "<style scoped>\n",
       "    .dataframe tbody tr th:only-of-type {\n",
       "        vertical-align: middle;\n",
       "    }\n",
       "\n",
       "    .dataframe tbody tr th {\n",
       "        vertical-align: top;\n",
       "    }\n",
       "\n",
       "    .dataframe thead th {\n",
       "        text-align: right;\n",
       "    }\n",
       "</style>\n",
       "<table border=\"1\" class=\"dataframe\">\n",
       "  <thead>\n",
       "    <tr style=\"text-align: right;\">\n",
       "      <th></th>\n",
       "      <th>CreditScore</th>\n",
       "      <th>Age</th>\n",
       "      <th>Tenure</th>\n",
       "      <th>Balance</th>\n",
       "      <th>NumOfProducts</th>\n",
       "      <th>HasCrCard</th>\n",
       "      <th>IsActiveMember</th>\n",
       "      <th>EstimatedSalary</th>\n",
       "    </tr>\n",
       "  </thead>\n",
       "  <tbody>\n",
       "    <tr>\n",
       "      <th>0</th>\n",
       "      <td>619.0</td>\n",
       "      <td>42.0</td>\n",
       "      <td>2.0</td>\n",
       "      <td>0.00</td>\n",
       "      <td>1.0</td>\n",
       "      <td>1.0</td>\n",
       "      <td>1.0</td>\n",
       "      <td>101348.88</td>\n",
       "    </tr>\n",
       "    <tr>\n",
       "      <th>1</th>\n",
       "      <td>608.0</td>\n",
       "      <td>41.0</td>\n",
       "      <td>1.0</td>\n",
       "      <td>83807.86</td>\n",
       "      <td>1.0</td>\n",
       "      <td>0.0</td>\n",
       "      <td>1.0</td>\n",
       "      <td>112542.58</td>\n",
       "    </tr>\n",
       "    <tr>\n",
       "      <th>2</th>\n",
       "      <td>502.0</td>\n",
       "      <td>42.0</td>\n",
       "      <td>8.0</td>\n",
       "      <td>159660.80</td>\n",
       "      <td>3.0</td>\n",
       "      <td>1.0</td>\n",
       "      <td>0.0</td>\n",
       "      <td>113931.57</td>\n",
       "    </tr>\n",
       "    <tr>\n",
       "      <th>3</th>\n",
       "      <td>699.0</td>\n",
       "      <td>39.0</td>\n",
       "      <td>1.0</td>\n",
       "      <td>0.00</td>\n",
       "      <td>2.0</td>\n",
       "      <td>0.0</td>\n",
       "      <td>0.0</td>\n",
       "      <td>93826.63</td>\n",
       "    </tr>\n",
       "    <tr>\n",
       "      <th>4</th>\n",
       "      <td>850.0</td>\n",
       "      <td>43.0</td>\n",
       "      <td>2.0</td>\n",
       "      <td>125510.82</td>\n",
       "      <td>1.0</td>\n",
       "      <td>1.0</td>\n",
       "      <td>1.0</td>\n",
       "      <td>79084.10</td>\n",
       "    </tr>\n",
       "  </tbody>\n",
       "</table>\n",
       "</div>"
      ],
      "text/plain": [
       "   CreditScore   Age  Tenure    Balance  NumOfProducts  HasCrCard  \\\n",
       "0        619.0  42.0     2.0       0.00            1.0        1.0   \n",
       "1        608.0  41.0     1.0   83807.86            1.0        0.0   \n",
       "2        502.0  42.0     8.0  159660.80            3.0        1.0   \n",
       "3        699.0  39.0     1.0       0.00            2.0        0.0   \n",
       "4        850.0  43.0     2.0  125510.82            1.0        1.0   \n",
       "\n",
       "   IsActiveMember  EstimatedSalary  \n",
       "0             1.0        101348.88  \n",
       "1             1.0        112542.58  \n",
       "2             0.0        113931.57  \n",
       "3             0.0         93826.63  \n",
       "4             1.0         79084.10  "
      ]
     },
     "execution_count": 17,
     "metadata": {},
     "output_type": "execute_result"
    }
   ],
   "source": [
    "cleandata = pd.DataFrame(clean.transform(X), columns = numeric_features)\n",
    "cleandata.head()"
   ]
  },
  {
   "cell_type": "code",
   "execution_count": 18,
   "id": "02e44a78-e43e-4ebb-aa21-0bac0181c56e",
   "metadata": {
    "tags": []
   },
   "outputs": [
    {
     "data": {
      "image/png": "[encoded data removed]",
      "text/plain": [
       "<Figure size 1500x500 with 8 Axes>"
      ]
     },
     "metadata": {},
     "output_type": "display_data"
    }
   ],
   "source": [
    "# box plot visualisation\n",
    "cleandata.plot(kind = 'box', subplots = True, sharey = False, figsize = (15,5))\n",
    "plt.subplots_adjust(wspace = 0.75)\n",
    "plt.show()"
   ]
  },
  {
   "cell_type": "code",
   "execution_count": 19,
   "id": "1540540c-490b-4816-8300-8332b29dbcec",
   "metadata": {
    "tags": []
   },
   "outputs": [],
   "source": [
    "## Scaling with MinMaxScaler\n",
    "scale_pipeline = Pipeline([('scale', MinMaxScaler())])\n",
    "\n",
    "scale_columntransfer = ColumnTransformer([('scale', scale_pipeline, numeric_features)]) # Skips the transformations for remaining columns\n",
    "\n",
    "scale = scale_columntransfer.fit(cleandata)"
   ]
  },
  {
   "cell_type": "code",
   "execution_count": 20,
   "id": "e54319cf-a335-40f0-856d-7aced2193f50",
   "metadata": {
    "tags": []
   },
   "outputs": [
    {
     "data": {
      "text/html": [
       "<div>\n",
       "<style scoped>\n",
       "    .dataframe tbody tr th:only-of-type {\n",
       "        vertical-align: middle;\n",
       "    }\n",
       "\n",
       "    .dataframe tbody tr th {\n",
       "        vertical-align: top;\n",
       "    }\n",
       "\n",
       "    .dataframe thead th {\n",
       "        text-align: right;\n",
       "    }\n",
       "</style>\n",
       "<table border=\"1\" class=\"dataframe\">\n",
       "  <thead>\n",
       "    <tr style=\"text-align: right;\">\n",
       "      <th></th>\n",
       "      <th>CreditScore</th>\n",
       "      <th>Age</th>\n",
       "      <th>Tenure</th>\n",
       "      <th>Balance</th>\n",
       "      <th>NumOfProducts</th>\n",
       "      <th>HasCrCard</th>\n",
       "      <th>IsActiveMember</th>\n",
       "      <th>EstimatedSalary</th>\n",
       "    </tr>\n",
       "  </thead>\n",
       "  <tbody>\n",
       "    <tr>\n",
       "      <th>count</th>\n",
       "      <td>10000.000000</td>\n",
       "      <td>10000.000000</td>\n",
       "      <td>10000.000000</td>\n",
       "      <td>10000.000000</td>\n",
       "      <td>10000.000000</td>\n",
       "      <td>10000.00000</td>\n",
       "      <td>10000.000000</td>\n",
       "      <td>10000.000000</td>\n",
       "    </tr>\n",
       "    <tr>\n",
       "      <th>mean</th>\n",
       "      <td>0.572936</td>\n",
       "      <td>0.469564</td>\n",
       "      <td>0.501280</td>\n",
       "      <td>0.304848</td>\n",
       "      <td>0.210880</td>\n",
       "      <td>0.70550</td>\n",
       "      <td>0.515100</td>\n",
       "      <td>0.500441</td>\n",
       "    </tr>\n",
       "    <tr>\n",
       "      <th>std</th>\n",
       "      <td>0.206764</td>\n",
       "      <td>0.221516</td>\n",
       "      <td>0.289217</td>\n",
       "      <td>0.248696</td>\n",
       "      <td>0.228033</td>\n",
       "      <td>0.45584</td>\n",
       "      <td>0.499797</td>\n",
       "      <td>0.287580</td>\n",
       "    </tr>\n",
       "    <tr>\n",
       "      <th>min</th>\n",
       "      <td>0.000000</td>\n",
       "      <td>0.000000</td>\n",
       "      <td>0.000000</td>\n",
       "      <td>0.000000</td>\n",
       "      <td>0.000000</td>\n",
       "      <td>0.00000</td>\n",
       "      <td>0.000000</td>\n",
       "      <td>0.000000</td>\n",
       "    </tr>\n",
       "    <tr>\n",
       "      <th>25%</th>\n",
       "      <td>0.430407</td>\n",
       "      <td>0.318182</td>\n",
       "      <td>0.300000</td>\n",
       "      <td>0.000000</td>\n",
       "      <td>0.000000</td>\n",
       "      <td>0.00000</td>\n",
       "      <td>0.000000</td>\n",
       "      <td>0.254977</td>\n",
       "    </tr>\n",
       "    <tr>\n",
       "      <th>50%</th>\n",
       "      <td>0.576017</td>\n",
       "      <td>0.431818</td>\n",
       "      <td>0.500000</td>\n",
       "      <td>0.387402</td>\n",
       "      <td>0.000000</td>\n",
       "      <td>1.00000</td>\n",
       "      <td>1.000000</td>\n",
       "      <td>0.500960</td>\n",
       "    </tr>\n",
       "    <tr>\n",
       "      <th>75%</th>\n",
       "      <td>0.717345</td>\n",
       "      <td>0.590909</td>\n",
       "      <td>0.700000</td>\n",
       "      <td>0.508749</td>\n",
       "      <td>0.400000</td>\n",
       "      <td>1.00000</td>\n",
       "      <td>1.000000</td>\n",
       "      <td>0.746955</td>\n",
       "    </tr>\n",
       "    <tr>\n",
       "      <th>max</th>\n",
       "      <td>1.000000</td>\n",
       "      <td>1.000000</td>\n",
       "      <td>1.000000</td>\n",
       "      <td>1.000000</td>\n",
       "      <td>1.000000</td>\n",
       "      <td>1.00000</td>\n",
       "      <td>1.000000</td>\n",
       "      <td>1.000000</td>\n",
       "    </tr>\n",
       "  </tbody>\n",
       "</table>\n",
       "</div>"
      ],
      "text/plain": [
       "        CreditScore           Age        Tenure       Balance  NumOfProducts  \\\n",
       "count  10000.000000  10000.000000  10000.000000  10000.000000   10000.000000   \n",
       "mean       0.572936      0.469564      0.501280      0.304848       0.210880   \n",
       "std        0.206764      0.221516      0.289217      0.248696       0.228033   \n",
       "min        0.000000      0.000000      0.000000      0.000000       0.000000   \n",
       "25%        0.430407      0.318182      0.300000      0.000000       0.000000   \n",
       "50%        0.576017      0.431818      0.500000      0.387402       0.000000   \n",
       "75%        0.717345      0.590909      0.700000      0.508749       0.400000   \n",
       "max        1.000000      1.000000      1.000000      1.000000       1.000000   \n",
       "\n",
       "         HasCrCard  IsActiveMember  EstimatedSalary  \n",
       "count  10000.00000    10000.000000     10000.000000  \n",
       "mean       0.70550        0.515100         0.500441  \n",
       "std        0.45584        0.499797         0.287580  \n",
       "min        0.00000        0.000000         0.000000  \n",
       "25%        0.00000        0.000000         0.254977  \n",
       "50%        1.00000        1.000000         0.500960  \n",
       "75%        1.00000        1.000000         0.746955  \n",
       "max        1.00000        1.000000         1.000000  "
      ]
     },
     "execution_count": 20,
     "metadata": {},
     "output_type": "execute_result"
    }
   ],
   "source": [
    "scaled_data = pd.DataFrame(scale.transform(cleandata), columns = numeric_features)\n",
    "scaled_data.describe()"
   ]
  },
  {
   "cell_type": "code",
   "execution_count": 21,
   "id": "615a5331-d8e5-42da-90ca-93eb0c515e7c",
   "metadata": {
    "tags": []
   },
   "outputs": [
    {
     "data": {
      "text/plain": [
       "array(['France', 'Spain', 'Germany'], dtype=object)"
      ]
     },
     "execution_count": 21,
     "metadata": {},
     "output_type": "execute_result"
    }
   ],
   "source": [
    "X.Geography.unique()"
   ]
  },
  {
   "cell_type": "code",
   "execution_count": 22,
   "id": "82104424-6d72-43a0-9aa3-e2627768c83c",
   "metadata": {
    "tags": []
   },
   "outputs": [
    {
     "data": {
      "text/plain": [
       "array(['Female', 'Male'], dtype=object)"
      ]
     },
     "execution_count": 22,
     "metadata": {},
     "output_type": "execute_result"
    }
   ],
   "source": [
    "X.Gender.unique()"
   ]
  },
  {
   "cell_type": "code",
   "execution_count": 23,
   "id": "27dc2e0b-3c8f-4a2e-a1ca-f0cd8dc4b1bd",
   "metadata": {
    "tags": []
   },
   "outputs": [],
   "source": [
    "## Encoding Categorical features\n",
    "encoding_pipeline = Pipeline([('onehot', OneHotEncoder())])\n",
    "\n",
    "preprocess_pipeline = ColumnTransformer([('categorical', encoding_pipeline, categorical_features)])\n",
    "\n",
    "encode =  preprocess_pipeline.fit(X)"
   ]
  },
  {
   "cell_type": "code",
   "execution_count": 24,
   "id": "57c81a5c-47a5-44ad-8292-d44bfd04729f",
   "metadata": {
    "tags": []
   },
   "outputs": [],
   "source": [
    "encode_data = pd.DataFrame(encode.transform(X))"
   ]
  },
  {
   "cell_type": "code",
   "execution_count": 25,
   "id": "ebbf872a-047c-4617-8fd0-36b4a08145d2",
   "metadata": {
    "tags": []
   },
   "outputs": [
    {
     "name": "stdout",
     "output_type": "stream",
     "text": [
      "<class 'pandas.core.frame.DataFrame'>\n",
      "RangeIndex: 10000 entries, 0 to 9999\n",
      "Data columns (total 5 columns):\n",
      " #   Column                          Non-Null Count  Dtype  \n",
      "---  ------                          --------------  -----  \n",
      " 0   categorical__Geography_France   10000 non-null  float64\n",
      " 1   categorical__Geography_Germany  10000 non-null  float64\n",
      " 2   categorical__Geography_Spain    10000 non-null  float64\n",
      " 3   categorical__Gender_Female      10000 non-null  float64\n",
      " 4   categorical__Gender_Male        10000 non-null  float64\n",
      "dtypes: float64(5)\n",
      "memory usage: 390.8 KB\n"
     ]
    }
   ],
   "source": [
    "# To get feature names for Categorical columns after Onehotencoding \n",
    "encode_data.columns = encode.get_feature_names_out(input_features = X.columns)\n",
    "encode_data.info()"
   ]
  },
  {
   "cell_type": "code",
   "execution_count": 26,
   "id": "6c992f4e-b095-4fe3-9f05-2723ca3ac853",
   "metadata": {
    "tags": []
   },
   "outputs": [
    {
     "name": "stdout",
     "output_type": "stream",
     "text": [
      "<class 'pandas.core.frame.DataFrame'>\n",
      "RangeIndex: 10000 entries, 0 to 9999\n",
      "Data columns (total 13 columns):\n",
      " #   Column                          Non-Null Count  Dtype  \n",
      "---  ------                          --------------  -----  \n",
      " 0   CreditScore                     10000 non-null  float64\n",
      " 1   Age                             10000 non-null  float64\n",
      " 2   Tenure                          10000 non-null  float64\n",
      " 3   Balance                         10000 non-null  float64\n",
      " 4   NumOfProducts                   10000 non-null  float64\n",
      " 5   HasCrCard                       10000 non-null  float64\n",
      " 6   IsActiveMember                  10000 non-null  float64\n",
      " 7   EstimatedSalary                 10000 non-null  float64\n",
      " 8   categorical__Geography_France   10000 non-null  float64\n",
      " 9   categorical__Geography_Germany  10000 non-null  float64\n",
      " 10  categorical__Geography_Spain    10000 non-null  float64\n",
      " 11  categorical__Gender_Female      10000 non-null  float64\n",
      " 12  categorical__Gender_Male        10000 non-null  float64\n",
      "dtypes: float64(13)\n",
      "memory usage: 1015.8 KB\n"
     ]
    }
   ],
   "source": [
    "clean_data = pd.concat([scaled_data, encode_data], axis = 1)  # concatenated data will have new sequential index\n",
    "clean_data.info()"
   ]
  },
  {
   "cell_type": "code",
   "execution_count": 27,
   "id": "e5f55500-9ebb-4b73-a088-67047d26928e",
   "metadata": {
    "tags": []
   },
   "outputs": [],
   "source": [
    "# Splitting data into training and testing data set\n",
    "X_train, X_test, Y_train, Y_test = train_test_split(clean_data, Y, test_size = 0.2, random_state = 0) "
   ]
  },
  {
   "cell_type": "code",
   "execution_count": 28,
   "id": "ecbde702-94be-483d-b9c5-815aab8d6413",
   "metadata": {
    "tags": []
   },
   "outputs": [
    {
     "data": {
      "text/plain": [
       "(8000, 13)"
      ]
     },
     "execution_count": 28,
     "metadata": {},
     "output_type": "execute_result"
    }
   ],
   "source": [
    "X_train.shape"
   ]
  },
  {
   "cell_type": "code",
   "execution_count": 29,
   "id": "652e3b3a-ff15-41bc-b769-3b07dd0f6e02",
   "metadata": {
    "tags": []
   },
   "outputs": [
    {
     "data": {
      "text/plain": [
       "(2000, 13)"
      ]
     },
     "execution_count": 29,
     "metadata": {},
     "output_type": "execute_result"
    }
   ],
   "source": [
    "X_test.shape"
   ]
  },
  {
   "cell_type": "code",
   "execution_count": 30,
   "id": "a0a3c8be-dbeb-4eba-aeee-ad77c216752d",
   "metadata": {
    "tags": []
   },
   "outputs": [],
   "source": [
    "Y_train =  np_utils.to_categorical(Y_train)\n",
    "Y_test =  np_utils.to_categorical(Y_test)"
   ]
  },
  {
   "cell_type": "code",
   "execution_count": 31,
   "id": "ab36f3d5-78ed-4d92-9114-c0e8860bc3ed",
   "metadata": {
    "tags": []
   },
   "outputs": [
    {
     "data": {
      "text/plain": [
       "array([[1., 0.],\n",
       "       [0., 1.],\n",
       "       [1., 0.],\n",
       "       ...,\n",
       "       [1., 0.],\n",
       "       [1., 0.],\n",
       "       [1., 0.]], dtype=float32)"
      ]
     },
     "execution_count": 31,
     "metadata": {},
     "output_type": "execute_result"
    }
   ],
   "source": [
    "Y_test"
   ]
  },
  {
   "cell_type": "code",
   "execution_count": 32,
   "id": "2df30ec7-8a4f-4d40-8f72-6e8bf07816c2",
   "metadata": {
    "tags": []
   },
   "outputs": [
    {
     "data": {
      "text/plain": [
       "(2000, 2)"
      ]
     },
     "execution_count": 32,
     "metadata": {},
     "output_type": "execute_result"
    }
   ],
   "source": [
    "Y_test.shape"
   ]
  },
  {
   "cell_type": "markdown",
   "id": "f955110a-fec2-4a3b-8d3c-3b813faab7e3",
   "metadata": {},
   "source": [
    "## Model Building"
   ]
  },
  {
   "cell_type": "markdown",
   "id": "a94b86ed-e371-4939-bb3f-818e5a5be2a9",
   "metadata": {},
   "source": [
    "### Building a Multi layer Perceptron model for which we are giving the input to train the ANN."
   ]
  },
  {
   "cell_type": "code",
   "execution_count": 33,
   "id": "7d82b436-b35e-4dcb-8f9a-0c67e62878ea",
   "metadata": {
    "tags": []
   },
   "outputs": [],
   "source": [
    "# Initializing the model\n",
    "model = Sequential()\n",
    "model.add(Dense(20, input_dim = 13, activation = 'relu'))\n",
    "model.add(Dense(20, activation = \"tanh\"))\n",
    "model.add(Dense(20, activation = \"tanh\"))\n",
    "model.add(Dense(20, activation = \"tanh\"))\n",
    "model.add(Dense(2, activation = \"softmax\"))\n",
    "model.compile(loss = \"binary_crossentropy\", optimizer = \"adam\", metrics = [\"accuracy\"])"
   ]
  },
  {
   "cell_type": "code",
   "execution_count": 34,
   "id": "a5b0cda9-0fd4-4b37-8a04-22ca6a249a03",
   "metadata": {
    "tags": []
   },
   "outputs": [
    {
     "name": "stdout",
     "output_type": "stream",
     "text": [
      "Epoch 1/50\n",
      "80/80 [==============================] - 1s 4ms/step - loss: 0.5276 - accuracy: 0.7906 - val_loss: 0.4872 - val_accuracy: 0.7975\n",
      "Epoch 2/50\n",
      "80/80 [==============================] - 0s 2ms/step - loss: 0.4744 - accuracy: 0.7977 - val_loss: 0.4535 - val_accuracy: 0.8025\n",
      "Epoch 3/50\n",
      "80/80 [==============================] - 0s 2ms/step - loss: 0.4465 - accuracy: 0.8090 - val_loss: 0.4263 - val_accuracy: 0.8275\n",
      "Epoch 4/50\n",
      "80/80 [==============================] - 0s 2ms/step - loss: 0.4301 - accuracy: 0.8171 - val_loss: 0.4176 - val_accuracy: 0.8275\n",
      "Epoch 5/50\n",
      "80/80 [==============================] - 0s 2ms/step - loss: 0.4225 - accuracy: 0.8209 - val_loss: 0.4110 - val_accuracy: 0.8310\n",
      "Epoch 6/50\n",
      "80/80 [==============================] - 0s 2ms/step - loss: 0.4170 - accuracy: 0.8260 - val_loss: 0.4055 - val_accuracy: 0.8365\n",
      "Epoch 7/50\n",
      "80/80 [==============================] - 0s 2ms/step - loss: 0.4125 - accuracy: 0.8267 - val_loss: 0.4004 - val_accuracy: 0.8410\n",
      "Epoch 8/50\n",
      "80/80 [==============================] - 0s 2ms/step - loss: 0.4079 - accuracy: 0.8324 - val_loss: 0.3990 - val_accuracy: 0.8415\n",
      "Epoch 9/50\n",
      "80/80 [==============================] - 0s 2ms/step - loss: 0.4038 - accuracy: 0.8347 - val_loss: 0.3966 - val_accuracy: 0.8400\n",
      "Epoch 10/50\n",
      "80/80 [==============================] - 0s 3ms/step - loss: 0.4003 - accuracy: 0.8330 - val_loss: 0.3936 - val_accuracy: 0.8410\n",
      "Epoch 11/50\n",
      "80/80 [==============================] - 0s 3ms/step - loss: 0.3951 - accuracy: 0.8382 - val_loss: 0.3859 - val_accuracy: 0.8495\n",
      "Epoch 12/50\n",
      "80/80 [==============================] - 0s 4ms/step - loss: 0.3923 - accuracy: 0.8374 - val_loss: 0.3842 - val_accuracy: 0.8505\n",
      "Epoch 13/50\n",
      "80/80 [==============================] - 0s 4ms/step - loss: 0.3870 - accuracy: 0.8407 - val_loss: 0.3758 - val_accuracy: 0.8525\n",
      "Epoch 14/50\n",
      "80/80 [==============================] - 0s 4ms/step - loss: 0.3818 - accuracy: 0.8439 - val_loss: 0.3765 - val_accuracy: 0.8500\n",
      "Epoch 15/50\n",
      "80/80 [==============================] - 0s 4ms/step - loss: 0.3753 - accuracy: 0.8493 - val_loss: 0.3659 - val_accuracy: 0.8535\n",
      "Epoch 16/50\n",
      "80/80 [==============================] - 0s 4ms/step - loss: 0.3686 - accuracy: 0.8504 - val_loss: 0.3591 - val_accuracy: 0.8580\n",
      "Epoch 17/50\n",
      "80/80 [==============================] - 0s 4ms/step - loss: 0.3625 - accuracy: 0.8512 - val_loss: 0.3568 - val_accuracy: 0.8580\n",
      "Epoch 18/50\n",
      "80/80 [==============================] - 0s 5ms/step - loss: 0.3579 - accuracy: 0.8541 - val_loss: 0.3567 - val_accuracy: 0.8620\n",
      "Epoch 19/50\n",
      "80/80 [==============================] - 0s 4ms/step - loss: 0.3560 - accuracy: 0.8549 - val_loss: 0.3484 - val_accuracy: 0.8630\n",
      "Epoch 20/50\n",
      "80/80 [==============================] - 0s 4ms/step - loss: 0.3531 - accuracy: 0.8541 - val_loss: 0.3473 - val_accuracy: 0.8625\n",
      "Epoch 21/50\n",
      "80/80 [==============================] - 0s 4ms/step - loss: 0.3521 - accuracy: 0.8529 - val_loss: 0.3526 - val_accuracy: 0.8525\n",
      "Epoch 22/50\n",
      "80/80 [==============================] - 0s 4ms/step - loss: 0.3502 - accuracy: 0.8558 - val_loss: 0.3460 - val_accuracy: 0.8640\n",
      "Epoch 23/50\n",
      "80/80 [==============================] - 0s 5ms/step - loss: 0.3491 - accuracy: 0.8560 - val_loss: 0.3481 - val_accuracy: 0.8635\n",
      "Epoch 24/50\n",
      "80/80 [==============================] - 0s 4ms/step - loss: 0.3491 - accuracy: 0.8558 - val_loss: 0.3475 - val_accuracy: 0.8610\n",
      "Epoch 25/50\n",
      "80/80 [==============================] - 0s 4ms/step - loss: 0.3483 - accuracy: 0.8561 - val_loss: 0.3459 - val_accuracy: 0.8635\n",
      "Epoch 26/50\n",
      "80/80 [==============================] - 0s 6ms/step - loss: 0.3465 - accuracy: 0.8559 - val_loss: 0.3431 - val_accuracy: 0.8610\n",
      "Epoch 27/50\n",
      "80/80 [==============================] - 0s 5ms/step - loss: 0.3464 - accuracy: 0.8579 - val_loss: 0.3429 - val_accuracy: 0.8595\n",
      "Epoch 28/50\n",
      "80/80 [==============================] - 1s 6ms/step - loss: 0.3446 - accuracy: 0.8566 - val_loss: 0.3475 - val_accuracy: 0.8605\n",
      "Epoch 29/50\n",
      "80/80 [==============================] - 0s 6ms/step - loss: 0.3457 - accuracy: 0.8570 - val_loss: 0.3459 - val_accuracy: 0.8565\n",
      "Epoch 30/50\n",
      "80/80 [==============================] - 0s 5ms/step - loss: 0.3458 - accuracy: 0.8566 - val_loss: 0.3539 - val_accuracy: 0.8520\n",
      "Epoch 31/50\n",
      "80/80 [==============================] - 1s 7ms/step - loss: 0.3444 - accuracy: 0.8570 - val_loss: 0.3456 - val_accuracy: 0.8625\n",
      "Epoch 32/50\n",
      "80/80 [==============================] - 1s 9ms/step - loss: 0.3437 - accuracy: 0.8572 - val_loss: 0.3484 - val_accuracy: 0.8570\n",
      "Epoch 33/50\n",
      "80/80 [==============================] - 1s 8ms/step - loss: 0.3428 - accuracy: 0.8604 - val_loss: 0.3433 - val_accuracy: 0.8585\n",
      "Epoch 34/50\n",
      "80/80 [==============================] - 1s 7ms/step - loss: 0.3422 - accuracy: 0.8594 - val_loss: 0.3408 - val_accuracy: 0.8620\n",
      "Epoch 35/50\n",
      "80/80 [==============================] - 1s 8ms/step - loss: 0.3420 - accuracy: 0.8570 - val_loss: 0.3414 - val_accuracy: 0.8650\n",
      "Epoch 36/50\n",
      "80/80 [==============================] - 0s 6ms/step - loss: 0.3423 - accuracy: 0.8584 - val_loss: 0.3417 - val_accuracy: 0.8610\n",
      "Epoch 37/50\n",
      "80/80 [==============================] - 0s 6ms/step - loss: 0.3414 - accuracy: 0.8579 - val_loss: 0.3432 - val_accuracy: 0.8560\n",
      "Epoch 38/50\n",
      "80/80 [==============================] - 0s 5ms/step - loss: 0.3407 - accuracy: 0.8584 - val_loss: 0.3425 - val_accuracy: 0.8590\n",
      "Epoch 39/50\n",
      "80/80 [==============================] - 0s 4ms/step - loss: 0.3420 - accuracy: 0.8586 - val_loss: 0.3461 - val_accuracy: 0.8565\n",
      "Epoch 40/50\n",
      "80/80 [==============================] - 0s 5ms/step - loss: 0.3403 - accuracy: 0.8601 - val_loss: 0.3427 - val_accuracy: 0.8580\n",
      "Epoch 41/50\n",
      "80/80 [==============================] - 0s 5ms/step - loss: 0.3401 - accuracy: 0.8608 - val_loss: 0.3421 - val_accuracy: 0.8595\n",
      "Epoch 42/50\n",
      "80/80 [==============================] - 0s 5ms/step - loss: 0.3399 - accuracy: 0.8591 - val_loss: 0.3420 - val_accuracy: 0.8575\n",
      "Epoch 43/50\n",
      "80/80 [==============================] - 0s 4ms/step - loss: 0.3389 - accuracy: 0.8599 - val_loss: 0.3389 - val_accuracy: 0.8615\n",
      "Epoch 44/50\n",
      "80/80 [==============================] - 0s 4ms/step - loss: 0.3389 - accuracy: 0.8593 - val_loss: 0.3437 - val_accuracy: 0.8565\n",
      "Epoch 45/50\n",
      "80/80 [==============================] - 0s 4ms/step - loss: 0.3395 - accuracy: 0.8593 - val_loss: 0.3410 - val_accuracy: 0.8580\n",
      "Epoch 46/50\n",
      "80/80 [==============================] - 0s 4ms/step - loss: 0.3388 - accuracy: 0.8601 - val_loss: 0.3410 - val_accuracy: 0.8615\n",
      "Epoch 47/50\n",
      "80/80 [==============================] - 0s 3ms/step - loss: 0.3384 - accuracy: 0.8600 - val_loss: 0.3453 - val_accuracy: 0.8570\n",
      "Epoch 48/50\n",
      "80/80 [==============================] - 0s 3ms/step - loss: 0.3385 - accuracy: 0.8589 - val_loss: 0.3431 - val_accuracy: 0.8605\n",
      "Epoch 49/50\n",
      "80/80 [==============================] - 0s 3ms/step - loss: 0.3395 - accuracy: 0.8579 - val_loss: 0.3412 - val_accuracy: 0.8605\n",
      "Epoch 50/50\n",
      "80/80 [==============================] - 0s 3ms/step - loss: 0.3383 - accuracy: 0.8595 - val_loss: 0.3398 - val_accuracy: 0.8580\n"
     ]
    },
    {
     "data": {
      "text/plain": [
       "<keras.callbacks.History at 0x26cecd6c550>"
      ]
     },
     "execution_count": 34,
     "metadata": {},
     "output_type": "execute_result"
    }
   ],
   "source": [
    "# fiiting model on train data\n",
    "model.fit(x = X_train, y = Y_train, batch_size = 100, epochs = 50, verbose = 1, validation_data = (X_test, Y_test))"
   ]
  },
  {
   "cell_type": "code",
   "execution_count": 35,
   "id": "63763574-a4cb-466f-94c9-0121e1cbc4bf",
   "metadata": {
    "tags": []
   },
   "outputs": [
    {
     "name": "stdout",
     "output_type": "stream",
     "text": [
      "63/63 [==============================] - 0s 2ms/step\n"
     ]
    },
    {
     "data": {
      "text/html": [
       "<div>\n",
       "<style scoped>\n",
       "    .dataframe tbody tr th:only-of-type {\n",
       "        vertical-align: middle;\n",
       "    }\n",
       "\n",
       "    .dataframe tbody tr th {\n",
       "        vertical-align: top;\n",
       "    }\n",
       "\n",
       "    .dataframe thead th {\n",
       "        text-align: right;\n",
       "    }\n",
       "</style>\n",
       "<table border=\"1\" class=\"dataframe\">\n",
       "  <thead>\n",
       "    <tr style=\"text-align: right;\">\n",
       "      <th></th>\n",
       "      <th>0</th>\n",
       "      <th>1</th>\n",
       "    </tr>\n",
       "  </thead>\n",
       "  <tbody>\n",
       "    <tr>\n",
       "      <th>0</th>\n",
       "      <td>0.933111</td>\n",
       "      <td>0.066889</td>\n",
       "    </tr>\n",
       "    <tr>\n",
       "      <th>1</th>\n",
       "      <td>0.738065</td>\n",
       "      <td>0.261935</td>\n",
       "    </tr>\n",
       "    <tr>\n",
       "      <th>2</th>\n",
       "      <td>0.977058</td>\n",
       "      <td>0.022942</td>\n",
       "    </tr>\n",
       "    <tr>\n",
       "      <th>3</th>\n",
       "      <td>0.997521</td>\n",
       "      <td>0.002479</td>\n",
       "    </tr>\n",
       "    <tr>\n",
       "      <th>4</th>\n",
       "      <td>0.997719</td>\n",
       "      <td>0.002281</td>\n",
       "    </tr>\n",
       "    <tr>\n",
       "      <th>...</th>\n",
       "      <td>...</td>\n",
       "      <td>...</td>\n",
       "    </tr>\n",
       "    <tr>\n",
       "      <th>1995</th>\n",
       "      <td>0.999459</td>\n",
       "      <td>0.000541</td>\n",
       "    </tr>\n",
       "    <tr>\n",
       "      <th>1996</th>\n",
       "      <td>0.997084</td>\n",
       "      <td>0.002916</td>\n",
       "    </tr>\n",
       "    <tr>\n",
       "      <th>1997</th>\n",
       "      <td>0.911453</td>\n",
       "      <td>0.088547</td>\n",
       "    </tr>\n",
       "    <tr>\n",
       "      <th>1998</th>\n",
       "      <td>0.937946</td>\n",
       "      <td>0.062053</td>\n",
       "    </tr>\n",
       "    <tr>\n",
       "      <th>1999</th>\n",
       "      <td>0.971804</td>\n",
       "      <td>0.028196</td>\n",
       "    </tr>\n",
       "  </tbody>\n",
       "</table>\n",
       "<p>2000 rows × 2 columns</p>\n",
       "</div>"
      ],
      "text/plain": [
       "             0         1\n",
       "0     0.933111  0.066889\n",
       "1     0.738065  0.261935\n",
       "2     0.977058  0.022942\n",
       "3     0.997521  0.002479\n",
       "4     0.997719  0.002281\n",
       "...        ...       ...\n",
       "1995  0.999459  0.000541\n",
       "1996  0.997084  0.002916\n",
       "1997  0.911453  0.088547\n",
       "1998  0.937946  0.062053\n",
       "1999  0.971804  0.028196\n",
       "\n",
       "[2000 rows x 2 columns]"
      ]
     },
     "execution_count": 35,
     "metadata": {},
     "output_type": "execute_result"
    }
   ],
   "source": [
    "# Prediction on test data\n",
    "results = pd.DataFrame(model.predict(X_test, verbose = 1))\n",
    "results"
   ]
  },
  {
   "cell_type": "code",
   "execution_count": 36,
   "id": "4dbd7605-7f64-4eef-bda6-96657df7fcc2",
   "metadata": {
    "tags": []
   },
   "outputs": [
    {
     "name": "stdout",
     "output_type": "stream",
     "text": [
      "63/63 [==============================] - 0s 2ms/step - loss: 0.3398 - accuracy: 0.8580\n",
      "Accuracy: 85.800%\n"
     ]
    }
   ],
   "source": [
    "# Evaluating the model on test data\n",
    "eval_score_test = model.evaluate(X_test, Y_test, verbose = 1)\n",
    "# Accuracy on test data set\n",
    "print(\"Accuracy: %.3f%%\" %(eval_score_test[1]*100))"
   ]
  },
  {
   "cell_type": "code",
   "execution_count": 37,
   "id": "df44c055-4d9a-4e9c-979f-1a8945db8b4d",
   "metadata": {
    "tags": []
   },
   "outputs": [
    {
     "name": "stdout",
     "output_type": "stream",
     "text": [
      "Accuracy: 85.900%\n"
     ]
    }
   ],
   "source": [
    "# Accuracy score on train data\n",
    "eval_score_train = model.evaluate(X_train, Y_train, verbose = 0)\n",
    "print(\"Accuracy: %.3f%%\" %(eval_score_train[1]*100))"
   ]
  },
  {
   "cell_type": "code",
   "execution_count": null,
   "id": "7f34b308-f623-455b-9082-08c18f5c177a",
   "metadata": {},
   "outputs": [],
   "source": [
    "# Even after increasing the neurons in each layer the accuracy reached saturation."
   ]
  },
  {
   "cell_type": "code",
   "execution_count": null,
   "id": "98d1f5ab-eb14-4116-b057-2aaa4202fa30",
   "metadata": {},
   "outputs": [],
   "source": []
  },
  {
   "cell_type": "code",
   "execution_count": null,
   "id": "b57fdaf5-372f-4d12-ab69-d46636939349",
   "metadata": {},
   "outputs": [],
   "source": []
  },
  {
   "cell_type": "code",
   "execution_count": null,
   "id": "ee04a827-f122-4e59-bcb4-b1fa95747cca",
   "metadata": {},
   "outputs": [],
   "source": []
  }
 ],
 "metadata": {
  "kernelspec": {
   "display_name": "Python 3 (ipykernel)",
   "language": "python",
   "name": "python3"
  },
  "language_info": {
   "codemirror_mode": {
    "name": "ipython",
    "version": 3
   },
   "file_extension": ".py",
   "mimetype": "text/x-python",
   "name": "python",
   "nbconvert_exporter": "python",
   "pygments_lexer": "ipython3",
   "version": "3.8.10"
  }
 },
 "nbformat": 4,
 "nbformat_minor": 5
}
