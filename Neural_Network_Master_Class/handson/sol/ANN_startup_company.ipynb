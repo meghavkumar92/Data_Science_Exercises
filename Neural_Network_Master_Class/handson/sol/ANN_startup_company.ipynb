{
 "cells": [
  {
   "cell_type": "markdown",
   "id": "9eed2b33-d5ba-46b4-862f-dabbb8d1f07c",
   "metadata": {},
   "source": [
    "# Artificial Neural Network"
   ]
  },
  {
   "cell_type": "markdown",
   "id": "fd822420-0fcc-466c-8a45-05e90b184945",
   "metadata": {},
   "source": [
    "#### Build ANN model on startup company dataset. Predict the  profit based on attributes."
   ]
  },
  {
   "cell_type": "code",
   "execution_count": 1,
   "id": "ff5d0a51-d36e-4a2a-85d7-879af8f3314a",
   "metadata": {
    "tags": []
   },
   "outputs": [],
   "source": [
    "#import libraries\n",
    "import pandas as pd\n",
    "import numpy as np\n",
    "import matplotlib.pyplot as plt\n",
    "import seaborn as sns\n",
    "import tensorflow as tf \n",
    "from sklearn.compose import ColumnTransformer\n",
    "#from feature_engine.outliers import Winsorizer\n",
    "#from sklearn.impute import SimpleImputer\n",
    "from sklearn.pipeline import Pipeline\n",
    "from sklearn.preprocessing import MinMaxScaler\n",
    "from sklearn.preprocessing import OneHotEncoder\n",
    "from sklearn.model_selection import train_test_split\n",
    "\n",
    "from tensorflow.keras.models import Sequential\n",
    "from keras.layers import Dense\n"
   ]
  },
  {
   "cell_type": "code",
   "execution_count": 2,
   "id": "c48419d4-3ab8-43e5-9188-d475efd8f357",
   "metadata": {},
   "outputs": [],
   "source": [
    "import warnings\n",
    "warnings.filterwarnings('ignore')"
   ]
  },
  {
   "cell_type": "code",
   "execution_count": 3,
   "id": "4be5b59d-c47c-4dd1-bdc9-5b75d4acd37e",
   "metadata": {
    "tags": []
   },
   "outputs": [
    {
     "name": "stdout",
     "output_type": "stream",
     "text": [
      "<class 'pandas.core.frame.DataFrame'>\n",
      "RangeIndex: 50 entries, 0 to 49\n",
      "Data columns (total 5 columns):\n",
      " #   Column           Non-Null Count  Dtype  \n",
      "---  ------           --------------  -----  \n",
      " 0   R&D Spend        50 non-null     float64\n",
      " 1   Administration   50 non-null     float64\n",
      " 2   Marketing Spend  50 non-null     float64\n",
      " 3   State            50 non-null     object \n",
      " 4   Profit           50 non-null     float64\n",
      "dtypes: float64(4), object(1)\n",
      "memory usage: 2.1+ KB\n"
     ]
    }
   ],
   "source": [
    "# import dataset\n",
    "startup_df = pd.read_csv(r\"D:\\360digi\\DS\\Sharath\\Neural_Network_Master_Class\\handson\\Datasets_ANN Assignment\\50_Startups (2).csv\")\n",
    "startup_df.info()"
   ]
  },
  {
   "cell_type": "code",
   "execution_count": 4,
   "id": "74134afc-1404-4bc5-b62f-66c6df75a8c3",
   "metadata": {
    "tags": []
   },
   "outputs": [
    {
     "data": {
      "text/html": [
       "<div>\n",
       "<style scoped>\n",
       "    .dataframe tbody tr th:only-of-type {\n",
       "        vertical-align: middle;\n",
       "    }\n",
       "\n",
       "    .dataframe tbody tr th {\n",
       "        vertical-align: top;\n",
       "    }\n",
       "\n",
       "    .dataframe thead th {\n",
       "        text-align: right;\n",
       "    }\n",
       "</style>\n",
       "<table border=\"1\" class=\"dataframe\">\n",
       "  <thead>\n",
       "    <tr style=\"text-align: right;\">\n",
       "      <th></th>\n",
       "      <th>R&amp;D Spend</th>\n",
       "      <th>Administration</th>\n",
       "      <th>Marketing Spend</th>\n",
       "      <th>State</th>\n",
       "      <th>Profit</th>\n",
       "    </tr>\n",
       "  </thead>\n",
       "  <tbody>\n",
       "    <tr>\n",
       "      <th>0</th>\n",
       "      <td>165349.20</td>\n",
       "      <td>136897.80</td>\n",
       "      <td>471784.10</td>\n",
       "      <td>New York</td>\n",
       "      <td>192261.83</td>\n",
       "    </tr>\n",
       "    <tr>\n",
       "      <th>1</th>\n",
       "      <td>162597.70</td>\n",
       "      <td>151377.59</td>\n",
       "      <td>443898.53</td>\n",
       "      <td>California</td>\n",
       "      <td>191792.06</td>\n",
       "    </tr>\n",
       "    <tr>\n",
       "      <th>2</th>\n",
       "      <td>153441.51</td>\n",
       "      <td>101145.55</td>\n",
       "      <td>407934.54</td>\n",
       "      <td>Florida</td>\n",
       "      <td>191050.39</td>\n",
       "    </tr>\n",
       "    <tr>\n",
       "      <th>3</th>\n",
       "      <td>144372.41</td>\n",
       "      <td>118671.85</td>\n",
       "      <td>383199.62</td>\n",
       "      <td>New York</td>\n",
       "      <td>182901.99</td>\n",
       "    </tr>\n",
       "    <tr>\n",
       "      <th>4</th>\n",
       "      <td>142107.34</td>\n",
       "      <td>91391.77</td>\n",
       "      <td>366168.42</td>\n",
       "      <td>Florida</td>\n",
       "      <td>166187.94</td>\n",
       "    </tr>\n",
       "  </tbody>\n",
       "</table>\n",
       "</div>"
      ],
      "text/plain": [
       "   R&D Spend  Administration  Marketing Spend       State     Profit\n",
       "0  165349.20       136897.80        471784.10    New York  192261.83\n",
       "1  162597.70       151377.59        443898.53  California  191792.06\n",
       "2  153441.51       101145.55        407934.54     Florida  191050.39\n",
       "3  144372.41       118671.85        383199.62    New York  182901.99\n",
       "4  142107.34        91391.77        366168.42     Florida  166187.94"
      ]
     },
     "execution_count": 4,
     "metadata": {},
     "output_type": "execute_result"
    }
   ],
   "source": [
    "startup_df.head()"
   ]
  },
  {
   "cell_type": "code",
   "execution_count": 5,
   "id": "2649afdc-e42b-416d-bad2-07bdff19f3f3",
   "metadata": {
    "tags": []
   },
   "outputs": [],
   "source": [
    "startup_df.rename(columns = {'R&D Spend':'RD_Spend','Marketing Spend':'Marketing_Spend'}, inplace = True)"
   ]
  },
  {
   "cell_type": "code",
   "execution_count": 6,
   "id": "47cbd72a-5fb4-40b3-9b8f-94069a3592b6",
   "metadata": {
    "tags": []
   },
   "outputs": [
    {
     "data": {
      "text/html": [
       "<div>\n",
       "<style scoped>\n",
       "    .dataframe tbody tr th:only-of-type {\n",
       "        vertical-align: middle;\n",
       "    }\n",
       "\n",
       "    .dataframe tbody tr th {\n",
       "        vertical-align: top;\n",
       "    }\n",
       "\n",
       "    .dataframe thead th {\n",
       "        text-align: right;\n",
       "    }\n",
       "</style>\n",
       "<table border=\"1\" class=\"dataframe\">\n",
       "  <thead>\n",
       "    <tr style=\"text-align: right;\">\n",
       "      <th></th>\n",
       "      <th>RD_Spend</th>\n",
       "      <th>Administration</th>\n",
       "      <th>Marketing_Spend</th>\n",
       "      <th>Profit</th>\n",
       "    </tr>\n",
       "  </thead>\n",
       "  <tbody>\n",
       "    <tr>\n",
       "      <th>count</th>\n",
       "      <td>50.000000</td>\n",
       "      <td>50.000000</td>\n",
       "      <td>50.000000</td>\n",
       "      <td>50.000000</td>\n",
       "    </tr>\n",
       "    <tr>\n",
       "      <th>mean</th>\n",
       "      <td>73721.615600</td>\n",
       "      <td>121344.639600</td>\n",
       "      <td>211025.097800</td>\n",
       "      <td>112012.639200</td>\n",
       "    </tr>\n",
       "    <tr>\n",
       "      <th>std</th>\n",
       "      <td>45902.256482</td>\n",
       "      <td>28017.802755</td>\n",
       "      <td>122290.310726</td>\n",
       "      <td>40306.180338</td>\n",
       "    </tr>\n",
       "    <tr>\n",
       "      <th>min</th>\n",
       "      <td>0.000000</td>\n",
       "      <td>51283.140000</td>\n",
       "      <td>0.000000</td>\n",
       "      <td>14681.400000</td>\n",
       "    </tr>\n",
       "    <tr>\n",
       "      <th>25%</th>\n",
       "      <td>39936.370000</td>\n",
       "      <td>103730.875000</td>\n",
       "      <td>129300.132500</td>\n",
       "      <td>90138.902500</td>\n",
       "    </tr>\n",
       "    <tr>\n",
       "      <th>50%</th>\n",
       "      <td>73051.080000</td>\n",
       "      <td>122699.795000</td>\n",
       "      <td>212716.240000</td>\n",
       "      <td>107978.190000</td>\n",
       "    </tr>\n",
       "    <tr>\n",
       "      <th>75%</th>\n",
       "      <td>101602.800000</td>\n",
       "      <td>144842.180000</td>\n",
       "      <td>299469.085000</td>\n",
       "      <td>139765.977500</td>\n",
       "    </tr>\n",
       "    <tr>\n",
       "      <th>max</th>\n",
       "      <td>165349.200000</td>\n",
       "      <td>182645.560000</td>\n",
       "      <td>471784.100000</td>\n",
       "      <td>192261.830000</td>\n",
       "    </tr>\n",
       "  </tbody>\n",
       "</table>\n",
       "</div>"
      ],
      "text/plain": [
       "            RD_Spend  Administration  Marketing_Spend         Profit\n",
       "count      50.000000       50.000000        50.000000      50.000000\n",
       "mean    73721.615600   121344.639600    211025.097800  112012.639200\n",
       "std     45902.256482    28017.802755    122290.310726   40306.180338\n",
       "min         0.000000    51283.140000         0.000000   14681.400000\n",
       "25%     39936.370000   103730.875000    129300.132500   90138.902500\n",
       "50%     73051.080000   122699.795000    212716.240000  107978.190000\n",
       "75%    101602.800000   144842.180000    299469.085000  139765.977500\n",
       "max    165349.200000   182645.560000    471784.100000  192261.830000"
      ]
     },
     "execution_count": 6,
     "metadata": {},
     "output_type": "execute_result"
    }
   ],
   "source": [
    "startup_df.describe()"
   ]
  },
  {
   "cell_type": "code",
   "execution_count": 7,
   "id": "8943d7a5-447f-4fd2-ab23-f7861e5b5774",
   "metadata": {
    "tags": []
   },
   "outputs": [
    {
     "data": {
      "text/plain": [
       "RD_Spend           0\n",
       "Administration     0\n",
       "Marketing_Spend    0\n",
       "State              0\n",
       "Profit             0\n",
       "dtype: int64"
      ]
     },
     "execution_count": 7,
     "metadata": {},
     "output_type": "execute_result"
    }
   ],
   "source": [
    "# check missing values\n",
    "startup_df.isnull().sum()"
   ]
  },
  {
   "cell_type": "code",
   "execution_count": 8,
   "id": "3e836474-7c81-49c3-9b0d-55e38690106d",
   "metadata": {
    "tags": []
   },
   "outputs": [
    {
     "data": {
      "image/png": "[encoded data removed]",
      "text/plain": [
       "<Figure size 1000x500 with 4 Axes>"
      ]
     },
     "metadata": {},
     "output_type": "display_data"
    }
   ],
   "source": [
    "# box plot visualisation\n",
    "startup_df.plot(kind = 'box', subplots = True, sharey = False, figsize = (10,5))\n",
    "plt.subplots_adjust(wspace = 0.75)\n",
    "plt.show()\n",
    "#outliers in profit column"
   ]
  },
  {
   "cell_type": "code",
   "execution_count": 9,
   "id": "80f061c1-75b9-4693-93f2-d8768c38198b",
   "metadata": {
    "tags": []
   },
   "outputs": [],
   "source": [
    "# Seperating input and output variables \n",
    "X = pd.DataFrame(startup_df.iloc[:, 0:4])\n",
    "Y = pd.DataFrame(startup_df.iloc[:, 4])"
   ]
  },
  {
   "cell_type": "code",
   "execution_count": 10,
   "id": "04f58c0e-4d63-419c-a64a-3d20ea3a650c",
   "metadata": {
    "tags": []
   },
   "outputs": [
    {
     "data": {
      "text/html": [
       "<div>\n",
       "<style scoped>\n",
       "    .dataframe tbody tr th:only-of-type {\n",
       "        vertical-align: middle;\n",
       "    }\n",
       "\n",
       "    .dataframe tbody tr th {\n",
       "        vertical-align: top;\n",
       "    }\n",
       "\n",
       "    .dataframe thead th {\n",
       "        text-align: right;\n",
       "    }\n",
       "</style>\n",
       "<table border=\"1\" class=\"dataframe\">\n",
       "  <thead>\n",
       "    <tr style=\"text-align: right;\">\n",
       "      <th></th>\n",
       "      <th>RD_Spend</th>\n",
       "      <th>Administration</th>\n",
       "      <th>Marketing_Spend</th>\n",
       "      <th>State</th>\n",
       "    </tr>\n",
       "  </thead>\n",
       "  <tbody>\n",
       "    <tr>\n",
       "      <th>0</th>\n",
       "      <td>165349.20</td>\n",
       "      <td>136897.80</td>\n",
       "      <td>471784.10</td>\n",
       "      <td>New York</td>\n",
       "    </tr>\n",
       "    <tr>\n",
       "      <th>1</th>\n",
       "      <td>162597.70</td>\n",
       "      <td>151377.59</td>\n",
       "      <td>443898.53</td>\n",
       "      <td>California</td>\n",
       "    </tr>\n",
       "    <tr>\n",
       "      <th>2</th>\n",
       "      <td>153441.51</td>\n",
       "      <td>101145.55</td>\n",
       "      <td>407934.54</td>\n",
       "      <td>Florida</td>\n",
       "    </tr>\n",
       "    <tr>\n",
       "      <th>3</th>\n",
       "      <td>144372.41</td>\n",
       "      <td>118671.85</td>\n",
       "      <td>383199.62</td>\n",
       "      <td>New York</td>\n",
       "    </tr>\n",
       "    <tr>\n",
       "      <th>4</th>\n",
       "      <td>142107.34</td>\n",
       "      <td>91391.77</td>\n",
       "      <td>366168.42</td>\n",
       "      <td>Florida</td>\n",
       "    </tr>\n",
       "  </tbody>\n",
       "</table>\n",
       "</div>"
      ],
      "text/plain": [
       "    RD_Spend  Administration  Marketing_Spend       State\n",
       "0  165349.20       136897.80        471784.10    New York\n",
       "1  162597.70       151377.59        443898.53  California\n",
       "2  153441.51       101145.55        407934.54     Florida\n",
       "3  144372.41       118671.85        383199.62    New York\n",
       "4  142107.34        91391.77        366168.42     Florida"
      ]
     },
     "execution_count": 10,
     "metadata": {},
     "output_type": "execute_result"
    }
   ],
   "source": [
    "X.head()"
   ]
  },
  {
   "cell_type": "code",
   "execution_count": 11,
   "id": "7c1d62c7-cda4-4ac5-b38e-5382914f8f8f",
   "metadata": {
    "tags": []
   },
   "outputs": [
    {
     "data": {
      "text/html": [
       "<div>\n",
       "<style scoped>\n",
       "    .dataframe tbody tr th:only-of-type {\n",
       "        vertical-align: middle;\n",
       "    }\n",
       "\n",
       "    .dataframe tbody tr th {\n",
       "        vertical-align: top;\n",
       "    }\n",
       "\n",
       "    .dataframe thead th {\n",
       "        text-align: right;\n",
       "    }\n",
       "</style>\n",
       "<table border=\"1\" class=\"dataframe\">\n",
       "  <thead>\n",
       "    <tr style=\"text-align: right;\">\n",
       "      <th></th>\n",
       "      <th>Profit</th>\n",
       "    </tr>\n",
       "  </thead>\n",
       "  <tbody>\n",
       "    <tr>\n",
       "      <th>0</th>\n",
       "      <td>192261.83</td>\n",
       "    </tr>\n",
       "    <tr>\n",
       "      <th>1</th>\n",
       "      <td>191792.06</td>\n",
       "    </tr>\n",
       "    <tr>\n",
       "      <th>2</th>\n",
       "      <td>191050.39</td>\n",
       "    </tr>\n",
       "    <tr>\n",
       "      <th>3</th>\n",
       "      <td>182901.99</td>\n",
       "    </tr>\n",
       "    <tr>\n",
       "      <th>4</th>\n",
       "      <td>166187.94</td>\n",
       "    </tr>\n",
       "  </tbody>\n",
       "</table>\n",
       "</div>"
      ],
      "text/plain": [
       "      Profit\n",
       "0  192261.83\n",
       "1  191792.06\n",
       "2  191050.39\n",
       "3  182901.99\n",
       "4  166187.94"
      ]
     },
     "execution_count": 11,
     "metadata": {},
     "output_type": "execute_result"
    }
   ],
   "source": [
    "Y.head()"
   ]
  },
  {
   "cell_type": "markdown",
   "id": "7a0d163f-63e9-4e44-957c-e21031d4109c",
   "metadata": {},
   "source": [
    "## Data Preprocessing"
   ]
  },
  {
   "cell_type": "code",
   "execution_count": 12,
   "id": "2ba161f6-2c32-43ea-89f9-db7c27e53341",
   "metadata": {
    "tags": []
   },
   "outputs": [
    {
     "name": "stdout",
     "output_type": "stream",
     "text": [
      "Index(['RD_Spend', 'Administration', 'Marketing_Spend'], dtype='object')\n"
     ]
    }
   ],
   "source": [
    "# Select numeric features for data preprocessing\n",
    "numeric_features = X.select_dtypes(exclude = ['object']).columns\n",
    "print(numeric_features)"
   ]
  },
  {
   "cell_type": "code",
   "execution_count": 13,
   "id": "7b27fa9b-7fb3-4bb0-a5fd-2f7320b2aa1d",
   "metadata": {
    "tags": []
   },
   "outputs": [
    {
     "name": "stdout",
     "output_type": "stream",
     "text": [
      "Index(['State'], dtype='object')\n"
     ]
    }
   ],
   "source": [
    "categorical_features = X.select_dtypes(include = ['object']).columns\n",
    "print(categorical_features)"
   ]
  },
  {
   "cell_type": "code",
   "execution_count": 14,
   "id": "bc61f1a4-ae70-44ef-b9c8-928d3f80e760",
   "metadata": {
    "tags": []
   },
   "outputs": [],
   "source": [
    "## Scaling with MinMaxScaler\n",
    "scale_pipeline = Pipeline([('scale', MinMaxScaler())])\n",
    "\n",
    "scale_columntransfer = ColumnTransformer([('scale', scale_pipeline, numeric_features)]) # Skips the transformations for remaining columns\n",
    "\n",
    "scale = scale_columntransfer.fit(X)\n"
   ]
  },
  {
   "cell_type": "code",
   "execution_count": 15,
   "id": "ff61384f-ef77-45b8-9bf2-02ac3623ae06",
   "metadata": {
    "tags": []
   },
   "outputs": [
    {
     "data": {
      "text/html": [
       "<div>\n",
       "<style scoped>\n",
       "    .dataframe tbody tr th:only-of-type {\n",
       "        vertical-align: middle;\n",
       "    }\n",
       "\n",
       "    .dataframe tbody tr th {\n",
       "        vertical-align: top;\n",
       "    }\n",
       "\n",
       "    .dataframe thead th {\n",
       "        text-align: right;\n",
       "    }\n",
       "</style>\n",
       "<table border=\"1\" class=\"dataframe\">\n",
       "  <thead>\n",
       "    <tr style=\"text-align: right;\">\n",
       "      <th></th>\n",
       "      <th>RD_Spend</th>\n",
       "      <th>Administration</th>\n",
       "      <th>Marketing_Spend</th>\n",
       "    </tr>\n",
       "  </thead>\n",
       "  <tbody>\n",
       "    <tr>\n",
       "      <th>count</th>\n",
       "      <td>50.000000</td>\n",
       "      <td>50.000000</td>\n",
       "      <td>50.000000</td>\n",
       "    </tr>\n",
       "    <tr>\n",
       "      <th>mean</th>\n",
       "      <td>0.445854</td>\n",
       "      <td>0.533345</td>\n",
       "      <td>0.447292</td>\n",
       "    </tr>\n",
       "    <tr>\n",
       "      <th>std</th>\n",
       "      <td>0.277608</td>\n",
       "      <td>0.213286</td>\n",
       "      <td>0.259208</td>\n",
       "    </tr>\n",
       "    <tr>\n",
       "      <th>min</th>\n",
       "      <td>0.000000</td>\n",
       "      <td>0.000000</td>\n",
       "      <td>0.000000</td>\n",
       "    </tr>\n",
       "    <tr>\n",
       "      <th>25%</th>\n",
       "      <td>0.241527</td>\n",
       "      <td>0.399260</td>\n",
       "      <td>0.274066</td>\n",
       "    </tr>\n",
       "    <tr>\n",
       "      <th>50%</th>\n",
       "      <td>0.441799</td>\n",
       "      <td>0.543661</td>\n",
       "      <td>0.450876</td>\n",
       "    </tr>\n",
       "    <tr>\n",
       "      <th>75%</th>\n",
       "      <td>0.614474</td>\n",
       "      <td>0.712221</td>\n",
       "      <td>0.634759</td>\n",
       "    </tr>\n",
       "    <tr>\n",
       "      <th>max</th>\n",
       "      <td>1.000000</td>\n",
       "      <td>1.000000</td>\n",
       "      <td>1.000000</td>\n",
       "    </tr>\n",
       "  </tbody>\n",
       "</table>\n",
       "</div>"
      ],
      "text/plain": [
       "        RD_Spend  Administration  Marketing_Spend\n",
       "count  50.000000       50.000000        50.000000\n",
       "mean    0.445854        0.533345         0.447292\n",
       "std     0.277608        0.213286         0.259208\n",
       "min     0.000000        0.000000         0.000000\n",
       "25%     0.241527        0.399260         0.274066\n",
       "50%     0.441799        0.543661         0.450876\n",
       "75%     0.614474        0.712221         0.634759\n",
       "max     1.000000        1.000000         1.000000"
      ]
     },
     "execution_count": 15,
     "metadata": {},
     "output_type": "execute_result"
    }
   ],
   "source": [
    "scaled_data = pd.DataFrame(scale.transform(X), columns = numeric_features)\n",
    "scaled_data.describe()"
   ]
  },
  {
   "cell_type": "code",
   "execution_count": 16,
   "id": "a3f64347-736f-4956-8a5f-898b9a6c1bc1",
   "metadata": {
    "tags": []
   },
   "outputs": [
    {
     "data": {
      "text/plain": [
       "array(['New York', 'California', 'Florida'], dtype=object)"
      ]
     },
     "execution_count": 16,
     "metadata": {},
     "output_type": "execute_result"
    }
   ],
   "source": [
    "X.State.unique()"
   ]
  },
  {
   "cell_type": "code",
   "execution_count": 17,
   "id": "903c342b-7ca4-4a61-bcf2-2511047366e8",
   "metadata": {
    "tags": []
   },
   "outputs": [],
   "source": [
    "## Encoding Categorical features\n",
    "encoding_pipeline = Pipeline([('onehot', OneHotEncoder())])\n",
    "\n",
    "preprocess_pipeline = ColumnTransformer([('categorical', encoding_pipeline, categorical_features)])\n",
    "\n",
    "clean =  preprocess_pipeline.fit(X)"
   ]
  },
  {
   "cell_type": "code",
   "execution_count": 18,
   "id": "92e559a0-84d8-4eda-abcb-f1eecb5c021f",
   "metadata": {
    "tags": []
   },
   "outputs": [],
   "source": [
    "encode_data = pd.DataFrame(clean.transform(X))"
   ]
  },
  {
   "cell_type": "code",
   "execution_count": 19,
   "id": "9dcdf5c1-1cce-47e9-bca5-f2b2b5a5fa96",
   "metadata": {
    "tags": []
   },
   "outputs": [
    {
     "name": "stdout",
     "output_type": "stream",
     "text": [
      "<class 'pandas.core.frame.DataFrame'>\n",
      "RangeIndex: 50 entries, 0 to 49\n",
      "Data columns (total 3 columns):\n",
      " #   Column                         Non-Null Count  Dtype  \n",
      "---  ------                         --------------  -----  \n",
      " 0   categorical__State_California  50 non-null     float64\n",
      " 1   categorical__State_Florida     50 non-null     float64\n",
      " 2   categorical__State_New York    50 non-null     float64\n",
      "dtypes: float64(3)\n",
      "memory usage: 1.3 KB\n"
     ]
    }
   ],
   "source": [
    "# To get feature names for Categorical columns after Onehotencoding \n",
    "encode_data.columns = clean.get_feature_names_out(input_features = X.columns)\n",
    "encode_data.info()"
   ]
  },
  {
   "cell_type": "code",
   "execution_count": 20,
   "id": "c002e074-8723-4d7b-8cd2-24b7d5a287bd",
   "metadata": {
    "tags": []
   },
   "outputs": [
    {
     "name": "stdout",
     "output_type": "stream",
     "text": [
      "<class 'pandas.core.frame.DataFrame'>\n",
      "RangeIndex: 50 entries, 0 to 49\n",
      "Data columns (total 6 columns):\n",
      " #   Column                         Non-Null Count  Dtype  \n",
      "---  ------                         --------------  -----  \n",
      " 0   RD_Spend                       50 non-null     float64\n",
      " 1   Administration                 50 non-null     float64\n",
      " 2   Marketing_Spend                50 non-null     float64\n",
      " 3   categorical__State_California  50 non-null     float64\n",
      " 4   categorical__State_Florida     50 non-null     float64\n",
      " 5   categorical__State_New York    50 non-null     float64\n",
      "dtypes: float64(6)\n",
      "memory usage: 2.5 KB\n"
     ]
    }
   ],
   "source": [
    "clean_data = pd.concat([scaled_data, encode_data], axis = 1)  # concatenated data will have new sequential index\n",
    "clean_data.info()"
   ]
  },
  {
   "cell_type": "code",
   "execution_count": 21,
   "id": "dd36d454-6a57-4f42-8019-b5cf2ca96562",
   "metadata": {
    "tags": []
   },
   "outputs": [],
   "source": [
    "clean_data.rename(columns = {'categorical__State_New York':'categorical__State_New_York'}, inplace = True)"
   ]
  },
  {
   "cell_type": "code",
   "execution_count": 22,
   "id": "2d56c052-98e4-47eb-a410-2d251c9d7fe3",
   "metadata": {
    "tags": []
   },
   "outputs": [
    {
     "name": "stdout",
     "output_type": "stream",
     "text": [
      "<class 'pandas.core.frame.DataFrame'>\n",
      "RangeIndex: 50 entries, 0 to 49\n",
      "Data columns (total 6 columns):\n",
      " #   Column                         Non-Null Count  Dtype  \n",
      "---  ------                         --------------  -----  \n",
      " 0   RD_Spend                       50 non-null     float64\n",
      " 1   Administration                 50 non-null     float64\n",
      " 2   Marketing_Spend                50 non-null     float64\n",
      " 3   categorical__State_California  50 non-null     float64\n",
      " 4   categorical__State_Florida     50 non-null     float64\n",
      " 5   categorical__State_New_York    50 non-null     float64\n",
      "dtypes: float64(6)\n",
      "memory usage: 2.5 KB\n"
     ]
    }
   ],
   "source": [
    "clean_data.info()"
   ]
  },
  {
   "cell_type": "code",
   "execution_count": 23,
   "id": "74adfacd-0dfc-4e6d-a374-4e8d2e8fcff7",
   "metadata": {
    "tags": []
   },
   "outputs": [],
   "source": [
    "# scaling the target variable.\n",
    "num_features = ['Profit']\n",
    "## Scaling with MinMaxScaler\n",
    "scale_pipeline = Pipeline([('scale', MinMaxScaler())])\n",
    "\n",
    "scale_columntransfer = ColumnTransformer([('scale', scale_pipeline, num_features)]) # Skips the transformations for remaining columns\n",
    "\n",
    "scale1 = scale_columntransfer.fit(Y)"
   ]
  },
  {
   "cell_type": "code",
   "execution_count": 25,
   "id": "b9deff79-3799-4b4e-81c6-c95d98aadeea",
   "metadata": {
    "tags": []
   },
   "outputs": [
    {
     "data": {
      "text/html": [
       "<div>\n",
       "<style scoped>\n",
       "    .dataframe tbody tr th:only-of-type {\n",
       "        vertical-align: middle;\n",
       "    }\n",
       "\n",
       "    .dataframe tbody tr th {\n",
       "        vertical-align: top;\n",
       "    }\n",
       "\n",
       "    .dataframe thead th {\n",
       "        text-align: right;\n",
       "    }\n",
       "</style>\n",
       "<table border=\"1\" class=\"dataframe\">\n",
       "  <thead>\n",
       "    <tr style=\"text-align: right;\">\n",
       "      <th></th>\n",
       "      <th>Profit</th>\n",
       "    </tr>\n",
       "  </thead>\n",
       "  <tbody>\n",
       "    <tr>\n",
       "      <th>count</th>\n",
       "      <td>50.000000</td>\n",
       "    </tr>\n",
       "    <tr>\n",
       "      <th>mean</th>\n",
       "      <td>0.548097</td>\n",
       "    </tr>\n",
       "    <tr>\n",
       "      <th>std</th>\n",
       "      <td>0.226974</td>\n",
       "    </tr>\n",
       "    <tr>\n",
       "      <th>min</th>\n",
       "      <td>0.000000</td>\n",
       "    </tr>\n",
       "    <tr>\n",
       "      <th>25%</th>\n",
       "      <td>0.424920</td>\n",
       "    </tr>\n",
       "    <tr>\n",
       "      <th>50%</th>\n",
       "      <td>0.525378</td>\n",
       "    </tr>\n",
       "    <tr>\n",
       "      <th>75%</th>\n",
       "      <td>0.704383</td>\n",
       "    </tr>\n",
       "    <tr>\n",
       "      <th>max</th>\n",
       "      <td>1.000000</td>\n",
       "    </tr>\n",
       "  </tbody>\n",
       "</table>\n",
       "</div>"
      ],
      "text/plain": [
       "          Profit\n",
       "count  50.000000\n",
       "mean    0.548097\n",
       "std     0.226974\n",
       "min     0.000000\n",
       "25%     0.424920\n",
       "50%     0.525378\n",
       "75%     0.704383\n",
       "max     1.000000"
      ]
     },
     "execution_count": 25,
     "metadata": {},
     "output_type": "execute_result"
    }
   ],
   "source": [
    "scaled_Y = pd.DataFrame(scale1.transform(Y), columns = num_features)\n",
    "scaled_Y.describe()"
   ]
  },
  {
   "cell_type": "code",
   "execution_count": 26,
   "id": "2e01ab24-82f7-49b1-a069-9d6985cad18c",
   "metadata": {
    "tags": []
   },
   "outputs": [],
   "source": [
    "# Splitting data into training and testing data set\n",
    "X_train, X_test, Y_train, Y_test = train_test_split(clean_data, scaled_Y, test_size = 0.2, random_state = 0) "
   ]
  },
  {
   "cell_type": "code",
   "execution_count": 27,
   "id": "9b10c6a2-eedc-476f-b3e6-8c687755d44b",
   "metadata": {
    "tags": []
   },
   "outputs": [
    {
     "data": {
      "text/plain": [
       "(40, 6)"
      ]
     },
     "execution_count": 27,
     "metadata": {},
     "output_type": "execute_result"
    }
   ],
   "source": [
    "X_train.shape"
   ]
  },
  {
   "cell_type": "code",
   "execution_count": 28,
   "id": "f726cf1d-6d3b-4b37-8dea-4cdf604ac056",
   "metadata": {
    "tags": []
   },
   "outputs": [
    {
     "data": {
      "text/plain": [
       "(10, 6)"
      ]
     },
     "execution_count": 28,
     "metadata": {},
     "output_type": "execute_result"
    }
   ],
   "source": [
    "X_test.shape"
   ]
  },
  {
   "cell_type": "code",
   "execution_count": 29,
   "id": "df4b8128-448f-4886-a753-f2df42bffe89",
   "metadata": {
    "tags": []
   },
   "outputs": [
    {
     "data": {
      "text/html": [
       "<div>\n",
       "<style scoped>\n",
       "    .dataframe tbody tr th:only-of-type {\n",
       "        vertical-align: middle;\n",
       "    }\n",
       "\n",
       "    .dataframe tbody tr th {\n",
       "        vertical-align: top;\n",
       "    }\n",
       "\n",
       "    .dataframe thead th {\n",
       "        text-align: right;\n",
       "    }\n",
       "</style>\n",
       "<table border=\"1\" class=\"dataframe\">\n",
       "  <thead>\n",
       "    <tr style=\"text-align: right;\">\n",
       "      <th></th>\n",
       "      <th>Profit</th>\n",
       "    </tr>\n",
       "  </thead>\n",
       "  <tbody>\n",
       "    <tr>\n",
       "      <th>33</th>\n",
       "      <td>0.462312</td>\n",
       "    </tr>\n",
       "    <tr>\n",
       "      <th>35</th>\n",
       "      <td>0.460626</td>\n",
       "    </tr>\n",
       "    <tr>\n",
       "      <th>26</th>\n",
       "      <td>0.512737</td>\n",
       "    </tr>\n",
       "    <tr>\n",
       "      <th>34</th>\n",
       "      <td>0.461939</td>\n",
       "    </tr>\n",
       "    <tr>\n",
       "      <th>18</th>\n",
       "      <td>0.617103</td>\n",
       "    </tr>\n",
       "  </tbody>\n",
       "</table>\n",
       "</div>"
      ],
      "text/plain": [
       "      Profit\n",
       "33  0.462312\n",
       "35  0.460626\n",
       "26  0.512737\n",
       "34  0.461939\n",
       "18  0.617103"
      ]
     },
     "execution_count": 29,
     "metadata": {},
     "output_type": "execute_result"
    }
   ],
   "source": [
    "Y_train.head()"
   ]
  },
  {
   "cell_type": "code",
   "execution_count": 30,
   "id": "82f4ac36-b3de-4d00-a2b4-63244dbbb242",
   "metadata": {
    "tags": []
   },
   "outputs": [
    {
     "data": {
      "text/html": [
       "<div>\n",
       "<style scoped>\n",
       "    .dataframe tbody tr th:only-of-type {\n",
       "        vertical-align: middle;\n",
       "    }\n",
       "\n",
       "    .dataframe tbody tr th {\n",
       "        vertical-align: top;\n",
       "    }\n",
       "\n",
       "    .dataframe thead th {\n",
       "        text-align: right;\n",
       "    }\n",
       "</style>\n",
       "<table border=\"1\" class=\"dataframe\">\n",
       "  <thead>\n",
       "    <tr style=\"text-align: right;\">\n",
       "      <th></th>\n",
       "      <th>RD_Spend</th>\n",
       "      <th>Administration</th>\n",
       "      <th>Marketing_Spend</th>\n",
       "      <th>categorical__State_California</th>\n",
       "      <th>categorical__State_Florida</th>\n",
       "      <th>categorical__State_New_York</th>\n",
       "    </tr>\n",
       "  </thead>\n",
       "  <tbody>\n",
       "    <tr>\n",
       "      <th>28</th>\n",
       "      <td>0.399467</td>\n",
       "      <td>1.000000</td>\n",
       "      <td>0.250429</td>\n",
       "      <td>0.0</td>\n",
       "      <td>1.0</td>\n",
       "      <td>0.0</td>\n",
       "    </tr>\n",
       "    <tr>\n",
       "      <th>11</th>\n",
       "      <td>0.608845</td>\n",
       "      <td>0.308364</td>\n",
       "      <td>0.529362</td>\n",
       "      <td>1.0</td>\n",
       "      <td>0.0</td>\n",
       "      <td>0.0</td>\n",
       "    </tr>\n",
       "    <tr>\n",
       "      <th>10</th>\n",
       "      <td>0.616351</td>\n",
       "      <td>0.451506</td>\n",
       "      <td>0.485733</td>\n",
       "      <td>0.0</td>\n",
       "      <td>1.0</td>\n",
       "      <td>0.0</td>\n",
       "    </tr>\n",
       "    <tr>\n",
       "      <th>41</th>\n",
       "      <td>0.168691</td>\n",
       "      <td>0.254469</td>\n",
       "      <td>0.348614</td>\n",
       "      <td>0.0</td>\n",
       "      <td>1.0</td>\n",
       "      <td>0.0</td>\n",
       "    </tr>\n",
       "    <tr>\n",
       "      <th>2</th>\n",
       "      <td>0.927985</td>\n",
       "      <td>0.379579</td>\n",
       "      <td>0.864664</td>\n",
       "      <td>0.0</td>\n",
       "      <td>1.0</td>\n",
       "      <td>0.0</td>\n",
       "    </tr>\n",
       "  </tbody>\n",
       "</table>\n",
       "</div>"
      ],
      "text/plain": [
       "    RD_Spend  Administration  Marketing_Spend  categorical__State_California  \\\n",
       "28  0.399467        1.000000         0.250429                            0.0   \n",
       "11  0.608845        0.308364         0.529362                            1.0   \n",
       "10  0.616351        0.451506         0.485733                            0.0   \n",
       "41  0.168691        0.254469         0.348614                            0.0   \n",
       "2   0.927985        0.379579         0.864664                            0.0   \n",
       "\n",
       "    categorical__State_Florida  categorical__State_New_York  \n",
       "28                         1.0                          0.0  \n",
       "11                         0.0                          0.0  \n",
       "10                         1.0                          0.0  \n",
       "41                         1.0                          0.0  \n",
       "2                          1.0                          0.0  "
      ]
     },
     "execution_count": 30,
     "metadata": {},
     "output_type": "execute_result"
    }
   ],
   "source": [
    "X_test.head()"
   ]
  },
  {
   "cell_type": "code",
   "execution_count": 31,
   "id": "1a5a9f67-cd8e-4c9d-8e46-be1225f69377",
   "metadata": {
    "tags": []
   },
   "outputs": [
    {
     "data": {
      "text/plain": [
       "array([192261.83, 191792.06, 191050.39, 182901.99, 166187.94, 156991.12,\n",
       "       156122.51, 155752.6 , 152211.77, 149759.96, 146121.95, 144259.4 ,\n",
       "       141585.52, 134307.35, 132602.65, 129917.04, 126992.93, 125370.37,\n",
       "       124266.9 , 122776.86, 118474.03, 111313.02, 110352.25, 108733.99,\n",
       "       108552.04, 107404.34, 105733.54, 105008.31, 103282.38, 101004.64,\n",
       "        99937.59,  97483.56,  97427.84,  96778.92,  96712.8 ,  96479.51,\n",
       "        90708.19,  89949.14,  81229.06,  81005.76,  78239.91,  77798.83,\n",
       "        71498.49,  69758.98,  65200.33,  64926.08,  49490.75,  42559.73,\n",
       "        35673.41,  14681.4 ])"
      ]
     },
     "execution_count": 31,
     "metadata": {},
     "output_type": "execute_result"
    }
   ],
   "source": [
    "Y.Profit.unique()"
   ]
  },
  {
   "cell_type": "markdown",
   "id": "bfc9134d-ac1c-4c78-a6c4-02693ac36c9e",
   "metadata": {},
   "source": [
    "## Model Building"
   ]
  },
  {
   "cell_type": "markdown",
   "id": "5bd313a3-308d-4b8d-963c-ff846bc27fde",
   "metadata": {},
   "source": [
    "### Building a Multi layer Perceptron model for which we are giving the input to train the ANN."
   ]
  },
  {
   "cell_type": "code",
   "execution_count": 32,
   "id": "8116b6a4-f6b7-43d6-83b8-c18faffdb482",
   "metadata": {
    "tags": []
   },
   "outputs": [],
   "source": [
    "# Initializing the model\n",
    "model = Sequential()\n",
    "model.add(Dense(10, input_dim = 6, activation = \"tanh\" ))\n",
    "model.add(Dense(10, activation = \"tanh\"))\n",
    "model.add(Dense(10, activation = \"tanh\"))\n",
    "model.add(Dense(1, activation = \"sigmoid\"))\n",
    "model.compile(loss = \"mse\", optimizer = \"adam\", metrics = [tf.keras.metrics.MeanAbsoluteError()])"
   ]
  },
  {
   "cell_type": "code",
   "execution_count": 33,
   "id": "0fa8a032-93f5-483c-ba27-f9db31d8127d",
   "metadata": {
    "tags": []
   },
   "outputs": [
    {
     "name": "stdout",
     "output_type": "stream",
     "text": [
      "Epoch 1/50\n",
      "8/8 [==============================] - 1s 40ms/step - loss: 0.0690 - mean_absolute_error: 0.2107 - val_loss: 0.0741 - val_mean_absolute_error: 0.2042\n",
      "Epoch 2/50\n",
      "8/8 [==============================] - 0s 9ms/step - loss: 0.0615 - mean_absolute_error: 0.1970 - val_loss: 0.0628 - val_mean_absolute_error: 0.1910\n",
      "Epoch 3/50\n",
      "8/8 [==============================] - 0s 8ms/step - loss: 0.0563 - mean_absolute_error: 0.1879 - val_loss: 0.0534 - val_mean_absolute_error: 0.1779\n",
      "Epoch 4/50\n",
      "8/8 [==============================] - 0s 9ms/step - loss: 0.0522 - mean_absolute_error: 0.1791 - val_loss: 0.0470 - val_mean_absolute_error: 0.1692\n",
      "Epoch 5/50\n",
      "8/8 [==============================] - 0s 9ms/step - loss: 0.0489 - mean_absolute_error: 0.1738 - val_loss: 0.0431 - val_mean_absolute_error: 0.1637\n",
      "Epoch 6/50\n",
      "8/8 [==============================] - 0s 10ms/step - loss: 0.0460 - mean_absolute_error: 0.1691 - val_loss: 0.0399 - val_mean_absolute_error: 0.1601\n",
      "Epoch 7/50\n",
      "8/8 [==============================] - 0s 10ms/step - loss: 0.0432 - mean_absolute_error: 0.1639 - val_loss: 0.0379 - val_mean_absolute_error: 0.1548\n",
      "Epoch 8/50\n",
      "8/8 [==============================] - 0s 10ms/step - loss: 0.0404 - mean_absolute_error: 0.1573 - val_loss: 0.0353 - val_mean_absolute_error: 0.1511\n",
      "Epoch 9/50\n",
      "8/8 [==============================] - 0s 10ms/step - loss: 0.0384 - mean_absolute_error: 0.1536 - val_loss: 0.0325 - val_mean_absolute_error: 0.1470\n",
      "Epoch 10/50\n",
      "8/8 [==============================] - 0s 10ms/step - loss: 0.0361 - mean_absolute_error: 0.1486 - val_loss: 0.0306 - val_mean_absolute_error: 0.1442\n",
      "Epoch 11/50\n",
      "8/8 [==============================] - 0s 11ms/step - loss: 0.0337 - mean_absolute_error: 0.1431 - val_loss: 0.0291 - val_mean_absolute_error: 0.1403\n",
      "Epoch 12/50\n",
      "8/8 [==============================] - 0s 11ms/step - loss: 0.0318 - mean_absolute_error: 0.1385 - val_loss: 0.0273 - val_mean_absolute_error: 0.1363\n",
      "Epoch 13/50\n",
      "8/8 [==============================] - 0s 10ms/step - loss: 0.0300 - mean_absolute_error: 0.1345 - val_loss: 0.0263 - val_mean_absolute_error: 0.1343\n",
      "Epoch 14/50\n",
      "8/8 [==============================] - 0s 10ms/step - loss: 0.0281 - mean_absolute_error: 0.1299 - val_loss: 0.0247 - val_mean_absolute_error: 0.1322\n",
      "Epoch 15/50\n",
      "8/8 [==============================] - 0s 11ms/step - loss: 0.0264 - mean_absolute_error: 0.1257 - val_loss: 0.0233 - val_mean_absolute_error: 0.1302\n",
      "Epoch 16/50\n",
      "8/8 [==============================] - 0s 11ms/step - loss: 0.0247 - mean_absolute_error: 0.1218 - val_loss: 0.0219 - val_mean_absolute_error: 0.1275\n",
      "Epoch 17/50\n",
      "8/8 [==============================] - 0s 11ms/step - loss: 0.0232 - mean_absolute_error: 0.1175 - val_loss: 0.0210 - val_mean_absolute_error: 0.1270\n",
      "Epoch 18/50\n",
      "8/8 [==============================] - 0s 14ms/step - loss: 0.0217 - mean_absolute_error: 0.1130 - val_loss: 0.0198 - val_mean_absolute_error: 0.1245\n",
      "Epoch 19/50\n",
      "8/8 [==============================] - 0s 12ms/step - loss: 0.0206 - mean_absolute_error: 0.1094 - val_loss: 0.0185 - val_mean_absolute_error: 0.1219\n",
      "Epoch 20/50\n",
      "8/8 [==============================] - 0s 14ms/step - loss: 0.0193 - mean_absolute_error: 0.1061 - val_loss: 0.0179 - val_mean_absolute_error: 0.1204\n",
      "Epoch 21/50\n",
      "8/8 [==============================] - 0s 11ms/step - loss: 0.0181 - mean_absolute_error: 0.1021 - val_loss: 0.0173 - val_mean_absolute_error: 0.1199\n",
      "Epoch 22/50\n",
      "8/8 [==============================] - 0s 14ms/step - loss: 0.0169 - mean_absolute_error: 0.0983 - val_loss: 0.0165 - val_mean_absolute_error: 0.1181\n",
      "Epoch 23/50\n",
      "8/8 [==============================] - 0s 12ms/step - loss: 0.0162 - mean_absolute_error: 0.0956 - val_loss: 0.0156 - val_mean_absolute_error: 0.1156\n",
      "Epoch 24/50\n",
      "8/8 [==============================] - 0s 12ms/step - loss: 0.0152 - mean_absolute_error: 0.0928 - val_loss: 0.0150 - val_mean_absolute_error: 0.1135\n",
      "Epoch 25/50\n",
      "8/8 [==============================] - 0s 13ms/step - loss: 0.0143 - mean_absolute_error: 0.0900 - val_loss: 0.0146 - val_mean_absolute_error: 0.1124\n",
      "Epoch 26/50\n",
      "8/8 [==============================] - 0s 14ms/step - loss: 0.0134 - mean_absolute_error: 0.0872 - val_loss: 0.0140 - val_mean_absolute_error: 0.1100\n",
      "Epoch 27/50\n",
      "8/8 [==============================] - 0s 16ms/step - loss: 0.0129 - mean_absolute_error: 0.0853 - val_loss: 0.0135 - val_mean_absolute_error: 0.1079\n",
      "Epoch 28/50\n",
      "8/8 [==============================] - 0s 15ms/step - loss: 0.0121 - mean_absolute_error: 0.0831 - val_loss: 0.0131 - val_mean_absolute_error: 0.1065\n",
      "Epoch 29/50\n",
      "8/8 [==============================] - 0s 17ms/step - loss: 0.0115 - mean_absolute_error: 0.0810 - val_loss: 0.0126 - val_mean_absolute_error: 0.1040\n",
      "Epoch 30/50\n",
      "8/8 [==============================] - 0s 15ms/step - loss: 0.0109 - mean_absolute_error: 0.0794 - val_loss: 0.0122 - val_mean_absolute_error: 0.1020\n",
      "Epoch 31/50\n",
      "8/8 [==============================] - 0s 15ms/step - loss: 0.0104 - mean_absolute_error: 0.0785 - val_loss: 0.0119 - val_mean_absolute_error: 0.1000\n",
      "Epoch 32/50\n",
      "8/8 [==============================] - 0s 23ms/step - loss: 0.0100 - mean_absolute_error: 0.0775 - val_loss: 0.0115 - val_mean_absolute_error: 0.0979\n",
      "Epoch 33/50\n",
      "8/8 [==============================] - 0s 22ms/step - loss: 0.0095 - mean_absolute_error: 0.0752 - val_loss: 0.0110 - val_mean_absolute_error: 0.0951\n",
      "Epoch 34/50\n",
      "8/8 [==============================] - 0s 22ms/step - loss: 0.0091 - mean_absolute_error: 0.0739 - val_loss: 0.0108 - val_mean_absolute_error: 0.0937\n",
      "Epoch 35/50\n",
      "8/8 [==============================] - 0s 20ms/step - loss: 0.0087 - mean_absolute_error: 0.0734 - val_loss: 0.0105 - val_mean_absolute_error: 0.0913\n",
      "Epoch 36/50\n",
      "8/8 [==============================] - 0s 24ms/step - loss: 0.0083 - mean_absolute_error: 0.0715 - val_loss: 0.0103 - val_mean_absolute_error: 0.0897\n",
      "Epoch 37/50\n",
      "8/8 [==============================] - 0s 19ms/step - loss: 0.0080 - mean_absolute_error: 0.0702 - val_loss: 0.0099 - val_mean_absolute_error: 0.0872\n",
      "Epoch 38/50\n",
      "8/8 [==============================] - 0s 19ms/step - loss: 0.0077 - mean_absolute_error: 0.0695 - val_loss: 0.0096 - val_mean_absolute_error: 0.0852\n",
      "Epoch 39/50\n",
      "8/8 [==============================] - 0s 23ms/step - loss: 0.0074 - mean_absolute_error: 0.0678 - val_loss: 0.0094 - val_mean_absolute_error: 0.0831\n",
      "Epoch 40/50\n",
      "8/8 [==============================] - 0s 26ms/step - loss: 0.0071 - mean_absolute_error: 0.0668 - val_loss: 0.0092 - val_mean_absolute_error: 0.0812\n",
      "Epoch 41/50\n",
      "8/8 [==============================] - 0s 19ms/step - loss: 0.0069 - mean_absolute_error: 0.0657 - val_loss: 0.0089 - val_mean_absolute_error: 0.0795\n",
      "Epoch 42/50\n",
      "8/8 [==============================] - 0s 19ms/step - loss: 0.0067 - mean_absolute_error: 0.0645 - val_loss: 0.0087 - val_mean_absolute_error: 0.0771\n",
      "Epoch 43/50\n",
      "8/8 [==============================] - 0s 18ms/step - loss: 0.0065 - mean_absolute_error: 0.0636 - val_loss: 0.0083 - val_mean_absolute_error: 0.0748\n",
      "Epoch 44/50\n",
      "8/8 [==============================] - 0s 21ms/step - loss: 0.0062 - mean_absolute_error: 0.0621 - val_loss: 0.0081 - val_mean_absolute_error: 0.0732\n",
      "Epoch 45/50\n",
      "8/8 [==============================] - 0s 20ms/step - loss: 0.0060 - mean_absolute_error: 0.0610 - val_loss: 0.0079 - val_mean_absolute_error: 0.0717\n",
      "Epoch 46/50\n",
      "8/8 [==============================] - 0s 21ms/step - loss: 0.0059 - mean_absolute_error: 0.0597 - val_loss: 0.0078 - val_mean_absolute_error: 0.0709\n",
      "Epoch 47/50\n",
      "8/8 [==============================] - 0s 35ms/step - loss: 0.0057 - mean_absolute_error: 0.0588 - val_loss: 0.0076 - val_mean_absolute_error: 0.0699\n",
      "Epoch 48/50\n",
      "8/8 [==============================] - 0s 19ms/step - loss: 0.0055 - mean_absolute_error: 0.0583 - val_loss: 0.0075 - val_mean_absolute_error: 0.0691\n",
      "Epoch 49/50\n",
      "8/8 [==============================] - 0s 17ms/step - loss: 0.0054 - mean_absolute_error: 0.0576 - val_loss: 0.0073 - val_mean_absolute_error: 0.0683\n",
      "Epoch 50/50\n",
      "8/8 [==============================] - 0s 16ms/step - loss: 0.0052 - mean_absolute_error: 0.0560 - val_loss: 0.0070 - val_mean_absolute_error: 0.0659\n"
     ]
    },
    {
     "data": {
      "text/plain": [
       "<keras.callbacks.History at 0x270c96eee50>"
      ]
     },
     "execution_count": 33,
     "metadata": {},
     "output_type": "execute_result"
    }
   ],
   "source": [
    "# fitting model on train data\n",
    "model.fit(x = X_train, y = Y_train, \n",
    "          batch_size = 5, epochs = 50,\n",
    "          verbose = 1, validation_data = (X_test, Y_test))"
   ]
  },
  {
   "cell_type": "code",
   "execution_count": 34,
   "id": "45b5f129-12cc-46fc-a0b7-61a820c6ee15",
   "metadata": {
    "tags": []
   },
   "outputs": [
    {
     "name": "stdout",
     "output_type": "stream",
     "text": [
      "1/1 [==============================] - 0s 407ms/step\n"
     ]
    },
    {
     "data": {
      "text/html": [
       "<div>\n",
       "<style scoped>\n",
       "    .dataframe tbody tr th:only-of-type {\n",
       "        vertical-align: middle;\n",
       "    }\n",
       "\n",
       "    .dataframe tbody tr th {\n",
       "        vertical-align: top;\n",
       "    }\n",
       "\n",
       "    .dataframe thead th {\n",
       "        text-align: right;\n",
       "    }\n",
       "</style>\n",
       "<table border=\"1\" class=\"dataframe\">\n",
       "  <thead>\n",
       "    <tr style=\"text-align: right;\">\n",
       "      <th></th>\n",
       "      <th>0</th>\n",
       "    </tr>\n",
       "  </thead>\n",
       "  <tbody>\n",
       "    <tr>\n",
       "      <th>0</th>\n",
       "      <td>0.427523</td>\n",
       "    </tr>\n",
       "    <tr>\n",
       "      <th>1</th>\n",
       "      <td>0.706359</td>\n",
       "    </tr>\n",
       "    <tr>\n",
       "      <th>2</th>\n",
       "      <td>0.667047</td>\n",
       "    </tr>\n",
       "    <tr>\n",
       "      <th>3</th>\n",
       "      <td>0.345325</td>\n",
       "    </tr>\n",
       "    <tr>\n",
       "      <th>4</th>\n",
       "      <td>0.824156</td>\n",
       "    </tr>\n",
       "    <tr>\n",
       "      <th>5</th>\n",
       "      <td>0.654053</td>\n",
       "    </tr>\n",
       "    <tr>\n",
       "      <th>6</th>\n",
       "      <td>0.370211</td>\n",
       "    </tr>\n",
       "    <tr>\n",
       "      <th>7</th>\n",
       "      <td>0.426380</td>\n",
       "    </tr>\n",
       "    <tr>\n",
       "      <th>8</th>\n",
       "      <td>0.610811</td>\n",
       "    </tr>\n",
       "    <tr>\n",
       "      <th>9</th>\n",
       "      <td>0.803244</td>\n",
       "    </tr>\n",
       "  </tbody>\n",
       "</table>\n",
       "</div>"
      ],
      "text/plain": [
       "          0\n",
       "0  0.427523\n",
       "1  0.706359\n",
       "2  0.667047\n",
       "3  0.345325\n",
       "4  0.824156\n",
       "5  0.654053\n",
       "6  0.370211\n",
       "7  0.426380\n",
       "8  0.610811\n",
       "9  0.803244"
      ]
     },
     "execution_count": 34,
     "metadata": {},
     "output_type": "execute_result"
    }
   ],
   "source": [
    "# Prediction on test data\n",
    "results = pd.DataFrame(model.predict(X_test, verbose = 1))\n",
    "results"
   ]
  },
  {
   "cell_type": "code",
   "execution_count": 35,
   "id": "922090d4-d110-4789-a0b7-08cd90842099",
   "metadata": {
    "tags": []
   },
   "outputs": [
    {
     "name": "stdout",
     "output_type": "stream",
     "text": [
      "1/1 [==============================] - 0s 147ms/step - loss: 0.0070 - mean_absolute_error: 0.0659\n",
      "Accuracy: 93.412%\n"
     ]
    },
    {
     "data": {
      "text/plain": [
       "[0.007010178174823523, 0.06588215380907059]"
      ]
     },
     "execution_count": 35,
     "metadata": {},
     "output_type": "execute_result"
    }
   ],
   "source": [
    "# Evaluating the model on test data  \n",
    "eval_score_test = model.evaluate(X_test, Y_test, verbose = 1)\n",
    "# Accuracy on test data set\n",
    "print (\"Accuracy: %.3f%%\" %((1-eval_score_test[1])*100)) \n",
    "eval_score_test"
   ]
  },
  {
   "cell_type": "code",
   "execution_count": 36,
   "id": "54aa0852-31d9-44cb-a3d1-4853cb0f933a",
   "metadata": {
    "tags": []
   },
   "outputs": [
    {
     "name": "stdout",
     "output_type": "stream",
     "text": [
      "Accuracy: 94.442%\n"
     ]
    }
   ],
   "source": [
    "# Accuracy score on train data \n",
    "eval_score_train = model.evaluate(X_train,Y_train,verbose=0)\n",
    "print (\"Accuracy: %.3f%%\" %((1-eval_score_train[1])*100)) "
   ]
  },
  {
   "cell_type": "code",
   "execution_count": null,
   "id": "9cb9c576-26e3-460c-b26e-277878bb7171",
   "metadata": {},
   "outputs": [],
   "source": []
  },
  {
   "cell_type": "code",
   "execution_count": null,
   "id": "4b94061a-f9ff-4901-86a9-a3826e4e060f",
   "metadata": {},
   "outputs": [],
   "source": []
  },
  {
   "cell_type": "code",
   "execution_count": null,
   "id": "f978cc31-4bb1-4a84-9f33-72f899d0ea96",
   "metadata": {},
   "outputs": [],
   "source": []
  }
 ],
 "metadata": {
  "kernelspec": {
   "display_name": "Python 3 (ipykernel)",
   "language": "python",
   "name": "python3"
  },
  "language_info": {
   "codemirror_mode": {
    "name": "ipython",
    "version": 3
   },
   "file_extension": ".py",
   "mimetype": "text/x-python",
   "name": "python",
   "nbconvert_exporter": "python",
   "pygments_lexer": "ipython3",
   "version": "3.11.2"
  }
 },
 "nbformat": 4,
 "nbformat_minor": 5
}
