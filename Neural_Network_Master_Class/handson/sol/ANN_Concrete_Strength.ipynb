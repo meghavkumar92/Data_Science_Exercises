{
 "cells": [
  {
   "cell_type": "markdown",
   "id": "658e9056-a404-44b2-9b55-0daf1c005c27",
   "metadata": {},
   "source": [
    "# Artificial Neural Network"
   ]
  },
  {
   "cell_type": "markdown",
   "id": "62509d1a-c911-4d30-8a41-b1e5025a9e64",
   "metadata": {},
   "source": [
    "#### Build ANN model on concrete compressive strength dataset. Predict the compressive strength based on attributes."
   ]
  },
  {
   "cell_type": "code",
   "execution_count": 1,
   "id": "51b16837-6b4c-4ae7-8798-197f100132c8",
   "metadata": {
    "tags": []
   },
   "outputs": [],
   "source": [
    "# import libraries\n",
    "import pandas as pd\n",
    "import numpy as np\n",
    "import matplotlib.pyplot as plt\n",
    "import seaborn as sns\n",
    "\n",
    "from feature_engine.outliers import Winsorizer\n",
    "from sklearn.preprocessing import MinMaxScaler\n",
    "from sklearn.preprocessing import OneHotEncoder\n",
    "from sklearn.pipeline import Pipeline\n",
    "from sklearn.compose import ColumnTransformer\n",
    "from sklearn.model_selection import train_test_split\n",
    "\n",
    "from tensorflow.keras.models import Sequential\n",
    "from keras.layers import Dense\n",
    "import tensorflow as tf"
   ]
  },
  {
   "cell_type": "code",
   "execution_count": 2,
   "id": "a4eaa0c7-a28b-4ff6-878f-ca2f677095f0",
   "metadata": {},
   "outputs": [],
   "source": [
    "import warnings\n",
    "warnings.filterwarnings('ignore')"
   ]
  },
  {
   "cell_type": "code",
   "execution_count": 3,
   "id": "747355f9-0510-4c7a-9e83-f604d3f7524c",
   "metadata": {
    "tags": []
   },
   "outputs": [
    {
     "name": "stdout",
     "output_type": "stream",
     "text": [
      "<class 'pandas.core.frame.DataFrame'>\n",
      "RangeIndex: 1030 entries, 0 to 1029\n",
      "Data columns (total 9 columns):\n",
      " #   Column        Non-Null Count  Dtype  \n",
      "---  ------        --------------  -----  \n",
      " 0   cement        1030 non-null   float64\n",
      " 1   slag          1030 non-null   float64\n",
      " 2   ash           1030 non-null   float64\n",
      " 3   water         1030 non-null   float64\n",
      " 4   superplastic  1030 non-null   float64\n",
      " 5   coarseagg     1030 non-null   float64\n",
      " 6   fineagg       1030 non-null   float64\n",
      " 7   age           1030 non-null   int64  \n",
      " 8   strength      1030 non-null   float64\n",
      "dtypes: float64(8), int64(1)\n",
      "memory usage: 72.6 KB\n"
     ]
    }
   ],
   "source": [
    "# import dataset\n",
    "concrete_df = pd.read_csv(r\"D:\\360digi\\DS\\Sharath\\Neural_Network_Master_Class\\handson\\Datasets_ANN Assignment\\concrete.csv\")\n",
    "concrete_df.info()"
   ]
  },
  {
   "cell_type": "code",
   "execution_count": 4,
   "id": "fc97932c-9055-4c17-b9c0-c49f38fcd991",
   "metadata": {
    "tags": []
   },
   "outputs": [
    {
     "data": {
      "text/html": [
       "<div>\n",
       "<style scoped>\n",
       "    .dataframe tbody tr th:only-of-type {\n",
       "        vertical-align: middle;\n",
       "    }\n",
       "\n",
       "    .dataframe tbody tr th {\n",
       "        vertical-align: top;\n",
       "    }\n",
       "\n",
       "    .dataframe thead th {\n",
       "        text-align: right;\n",
       "    }\n",
       "</style>\n",
       "<table border=\"1\" class=\"dataframe\">\n",
       "  <thead>\n",
       "    <tr style=\"text-align: right;\">\n",
       "      <th></th>\n",
       "      <th>cement</th>\n",
       "      <th>slag</th>\n",
       "      <th>ash</th>\n",
       "      <th>water</th>\n",
       "      <th>superplastic</th>\n",
       "      <th>coarseagg</th>\n",
       "      <th>fineagg</th>\n",
       "      <th>age</th>\n",
       "      <th>strength</th>\n",
       "    </tr>\n",
       "  </thead>\n",
       "  <tbody>\n",
       "    <tr>\n",
       "      <th>0</th>\n",
       "      <td>141.3</td>\n",
       "      <td>212.0</td>\n",
       "      <td>0.0</td>\n",
       "      <td>203.5</td>\n",
       "      <td>0.0</td>\n",
       "      <td>971.8</td>\n",
       "      <td>748.5</td>\n",
       "      <td>28</td>\n",
       "      <td>29.89</td>\n",
       "    </tr>\n",
       "    <tr>\n",
       "      <th>1</th>\n",
       "      <td>168.9</td>\n",
       "      <td>42.2</td>\n",
       "      <td>124.3</td>\n",
       "      <td>158.3</td>\n",
       "      <td>10.8</td>\n",
       "      <td>1080.8</td>\n",
       "      <td>796.2</td>\n",
       "      <td>14</td>\n",
       "      <td>23.51</td>\n",
       "    </tr>\n",
       "    <tr>\n",
       "      <th>2</th>\n",
       "      <td>250.0</td>\n",
       "      <td>0.0</td>\n",
       "      <td>95.7</td>\n",
       "      <td>187.4</td>\n",
       "      <td>5.5</td>\n",
       "      <td>956.9</td>\n",
       "      <td>861.2</td>\n",
       "      <td>28</td>\n",
       "      <td>29.22</td>\n",
       "    </tr>\n",
       "    <tr>\n",
       "      <th>3</th>\n",
       "      <td>266.0</td>\n",
       "      <td>114.0</td>\n",
       "      <td>0.0</td>\n",
       "      <td>228.0</td>\n",
       "      <td>0.0</td>\n",
       "      <td>932.0</td>\n",
       "      <td>670.0</td>\n",
       "      <td>28</td>\n",
       "      <td>45.85</td>\n",
       "    </tr>\n",
       "    <tr>\n",
       "      <th>4</th>\n",
       "      <td>154.8</td>\n",
       "      <td>183.4</td>\n",
       "      <td>0.0</td>\n",
       "      <td>193.3</td>\n",
       "      <td>9.1</td>\n",
       "      <td>1047.4</td>\n",
       "      <td>696.7</td>\n",
       "      <td>28</td>\n",
       "      <td>18.29</td>\n",
       "    </tr>\n",
       "  </tbody>\n",
       "</table>\n",
       "</div>"
      ],
      "text/plain": [
       "   cement   slag    ash  water  superplastic  coarseagg  fineagg  age  \\\n",
       "0   141.3  212.0    0.0  203.5           0.0      971.8    748.5   28   \n",
       "1   168.9   42.2  124.3  158.3          10.8     1080.8    796.2   14   \n",
       "2   250.0    0.0   95.7  187.4           5.5      956.9    861.2   28   \n",
       "3   266.0  114.0    0.0  228.0           0.0      932.0    670.0   28   \n",
       "4   154.8  183.4    0.0  193.3           9.1     1047.4    696.7   28   \n",
       "\n",
       "   strength  \n",
       "0     29.89  \n",
       "1     23.51  \n",
       "2     29.22  \n",
       "3     45.85  \n",
       "4     18.29  "
      ]
     },
     "execution_count": 4,
     "metadata": {},
     "output_type": "execute_result"
    }
   ],
   "source": [
    "concrete_df.head()"
   ]
  },
  {
   "cell_type": "code",
   "execution_count": 5,
   "id": "29156133-359d-4878-a08d-1762d63b227f",
   "metadata": {
    "tags": []
   },
   "outputs": [
    {
     "data": {
      "text/plain": [
       "cement          0\n",
       "slag            0\n",
       "ash             0\n",
       "water           0\n",
       "superplastic    0\n",
       "coarseagg       0\n",
       "fineagg         0\n",
       "age             0\n",
       "strength        0\n",
       "dtype: int64"
      ]
     },
     "execution_count": 5,
     "metadata": {},
     "output_type": "execute_result"
    }
   ],
   "source": [
    "# check missing value\n",
    "concrete_df.isnull().sum()"
   ]
  },
  {
   "cell_type": "code",
   "execution_count": 6,
   "id": "33637225-b735-457f-9fd9-430e2a7dff71",
   "metadata": {
    "tags": []
   },
   "outputs": [
    {
     "data": {
      "text/plain": [
       "cement          0\n",
       "slag            0\n",
       "ash             0\n",
       "water           0\n",
       "superplastic    0\n",
       "coarseagg       0\n",
       "fineagg         0\n",
       "age             0\n",
       "strength        0\n",
       "dtype: int64"
      ]
     },
     "execution_count": 6,
     "metadata": {},
     "output_type": "execute_result"
    }
   ],
   "source": [
    "concrete_df.isna().sum()"
   ]
  },
  {
   "cell_type": "code",
   "execution_count": 7,
   "id": "74d4f2f8-60cc-490f-9de6-19c52f490544",
   "metadata": {
    "tags": []
   },
   "outputs": [
    {
     "data": {
      "text/html": [
       "<div>\n",
       "<style scoped>\n",
       "    .dataframe tbody tr th:only-of-type {\n",
       "        vertical-align: middle;\n",
       "    }\n",
       "\n",
       "    .dataframe tbody tr th {\n",
       "        vertical-align: top;\n",
       "    }\n",
       "\n",
       "    .dataframe thead th {\n",
       "        text-align: right;\n",
       "    }\n",
       "</style>\n",
       "<table border=\"1\" class=\"dataframe\">\n",
       "  <thead>\n",
       "    <tr style=\"text-align: right;\">\n",
       "      <th></th>\n",
       "      <th>cement</th>\n",
       "      <th>slag</th>\n",
       "      <th>ash</th>\n",
       "      <th>water</th>\n",
       "      <th>superplastic</th>\n",
       "      <th>coarseagg</th>\n",
       "      <th>fineagg</th>\n",
       "      <th>age</th>\n",
       "      <th>strength</th>\n",
       "    </tr>\n",
       "  </thead>\n",
       "  <tbody>\n",
       "    <tr>\n",
       "      <th>count</th>\n",
       "      <td>1030.000000</td>\n",
       "      <td>1030.000000</td>\n",
       "      <td>1030.000000</td>\n",
       "      <td>1030.000000</td>\n",
       "      <td>1030.000000</td>\n",
       "      <td>1030.000000</td>\n",
       "      <td>1030.000000</td>\n",
       "      <td>1030.000000</td>\n",
       "      <td>1030.000000</td>\n",
       "    </tr>\n",
       "    <tr>\n",
       "      <th>mean</th>\n",
       "      <td>281.167864</td>\n",
       "      <td>73.895825</td>\n",
       "      <td>54.188350</td>\n",
       "      <td>181.567282</td>\n",
       "      <td>6.204660</td>\n",
       "      <td>972.918932</td>\n",
       "      <td>773.580485</td>\n",
       "      <td>45.662136</td>\n",
       "      <td>35.817961</td>\n",
       "    </tr>\n",
       "    <tr>\n",
       "      <th>std</th>\n",
       "      <td>104.506364</td>\n",
       "      <td>86.279342</td>\n",
       "      <td>63.997004</td>\n",
       "      <td>21.354219</td>\n",
       "      <td>5.973841</td>\n",
       "      <td>77.753954</td>\n",
       "      <td>80.175980</td>\n",
       "      <td>63.169912</td>\n",
       "      <td>16.705742</td>\n",
       "    </tr>\n",
       "    <tr>\n",
       "      <th>min</th>\n",
       "      <td>102.000000</td>\n",
       "      <td>0.000000</td>\n",
       "      <td>0.000000</td>\n",
       "      <td>121.800000</td>\n",
       "      <td>0.000000</td>\n",
       "      <td>801.000000</td>\n",
       "      <td>594.000000</td>\n",
       "      <td>1.000000</td>\n",
       "      <td>2.330000</td>\n",
       "    </tr>\n",
       "    <tr>\n",
       "      <th>25%</th>\n",
       "      <td>192.375000</td>\n",
       "      <td>0.000000</td>\n",
       "      <td>0.000000</td>\n",
       "      <td>164.900000</td>\n",
       "      <td>0.000000</td>\n",
       "      <td>932.000000</td>\n",
       "      <td>730.950000</td>\n",
       "      <td>7.000000</td>\n",
       "      <td>23.710000</td>\n",
       "    </tr>\n",
       "    <tr>\n",
       "      <th>50%</th>\n",
       "      <td>272.900000</td>\n",
       "      <td>22.000000</td>\n",
       "      <td>0.000000</td>\n",
       "      <td>185.000000</td>\n",
       "      <td>6.400000</td>\n",
       "      <td>968.000000</td>\n",
       "      <td>779.500000</td>\n",
       "      <td>28.000000</td>\n",
       "      <td>34.445000</td>\n",
       "    </tr>\n",
       "    <tr>\n",
       "      <th>75%</th>\n",
       "      <td>350.000000</td>\n",
       "      <td>142.950000</td>\n",
       "      <td>118.300000</td>\n",
       "      <td>192.000000</td>\n",
       "      <td>10.200000</td>\n",
       "      <td>1029.400000</td>\n",
       "      <td>824.000000</td>\n",
       "      <td>56.000000</td>\n",
       "      <td>46.135000</td>\n",
       "    </tr>\n",
       "    <tr>\n",
       "      <th>max</th>\n",
       "      <td>540.000000</td>\n",
       "      <td>359.400000</td>\n",
       "      <td>200.100000</td>\n",
       "      <td>247.000000</td>\n",
       "      <td>32.200000</td>\n",
       "      <td>1145.000000</td>\n",
       "      <td>992.600000</td>\n",
       "      <td>365.000000</td>\n",
       "      <td>82.600000</td>\n",
       "    </tr>\n",
       "  </tbody>\n",
       "</table>\n",
       "</div>"
      ],
      "text/plain": [
       "            cement         slag          ash        water  superplastic  \\\n",
       "count  1030.000000  1030.000000  1030.000000  1030.000000   1030.000000   \n",
       "mean    281.167864    73.895825    54.188350   181.567282      6.204660   \n",
       "std     104.506364    86.279342    63.997004    21.354219      5.973841   \n",
       "min     102.000000     0.000000     0.000000   121.800000      0.000000   \n",
       "25%     192.375000     0.000000     0.000000   164.900000      0.000000   \n",
       "50%     272.900000    22.000000     0.000000   185.000000      6.400000   \n",
       "75%     350.000000   142.950000   118.300000   192.000000     10.200000   \n",
       "max     540.000000   359.400000   200.100000   247.000000     32.200000   \n",
       "\n",
       "         coarseagg      fineagg          age     strength  \n",
       "count  1030.000000  1030.000000  1030.000000  1030.000000  \n",
       "mean    972.918932   773.580485    45.662136    35.817961  \n",
       "std      77.753954    80.175980    63.169912    16.705742  \n",
       "min     801.000000   594.000000     1.000000     2.330000  \n",
       "25%     932.000000   730.950000     7.000000    23.710000  \n",
       "50%     968.000000   779.500000    28.000000    34.445000  \n",
       "75%    1029.400000   824.000000    56.000000    46.135000  \n",
       "max    1145.000000   992.600000   365.000000    82.600000  "
      ]
     },
     "execution_count": 7,
     "metadata": {},
     "output_type": "execute_result"
    }
   ],
   "source": [
    "concrete_df.describe()"
   ]
  },
  {
   "cell_type": "code",
   "execution_count": 8,
   "id": "721208e1-17ed-49ea-a734-719a0f4f9028",
   "metadata": {
    "tags": []
   },
   "outputs": [
    {
     "data": {
      "image/png": "[encoded data removed]",
      "text/plain": [
       "<Figure size 1000x500 with 9 Axes>"
      ]
     },
     "metadata": {},
     "output_type": "display_data"
    }
   ],
   "source": [
    "# box plot visualisation\n",
    "concrete_df.plot(kind = 'box', subplots = True, sharey = False, figsize = (10,5))\n",
    "plt.subplots_adjust(wspace = 0.75)\n",
    "plt.show()\n",
    "# outliers are in stag, water, superplastic, fineagg, age, strength columns"
   ]
  },
  {
   "cell_type": "code",
   "execution_count": 9,
   "id": "71ec6061-2a35-49f6-a051-85490c534cac",
   "metadata": {
    "tags": []
   },
   "outputs": [],
   "source": [
    "# Seperating input and output variables \n",
    "X = pd.DataFrame(concrete_df.iloc[:, 0:8])\n",
    "Y = pd.DataFrame(concrete_df.iloc[:, 8])"
   ]
  },
  {
   "cell_type": "code",
   "execution_count": 10,
   "id": "a5c208c6-ef1b-4a92-bc20-80a5ea6f237e",
   "metadata": {
    "tags": []
   },
   "outputs": [
    {
     "data": {
      "text/html": [
       "<div>\n",
       "<style scoped>\n",
       "    .dataframe tbody tr th:only-of-type {\n",
       "        vertical-align: middle;\n",
       "    }\n",
       "\n",
       "    .dataframe tbody tr th {\n",
       "        vertical-align: top;\n",
       "    }\n",
       "\n",
       "    .dataframe thead th {\n",
       "        text-align: right;\n",
       "    }\n",
       "</style>\n",
       "<table border=\"1\" class=\"dataframe\">\n",
       "  <thead>\n",
       "    <tr style=\"text-align: right;\">\n",
       "      <th></th>\n",
       "      <th>strength</th>\n",
       "    </tr>\n",
       "  </thead>\n",
       "  <tbody>\n",
       "    <tr>\n",
       "      <th>0</th>\n",
       "      <td>29.89</td>\n",
       "    </tr>\n",
       "    <tr>\n",
       "      <th>1</th>\n",
       "      <td>23.51</td>\n",
       "    </tr>\n",
       "    <tr>\n",
       "      <th>2</th>\n",
       "      <td>29.22</td>\n",
       "    </tr>\n",
       "    <tr>\n",
       "      <th>3</th>\n",
       "      <td>45.85</td>\n",
       "    </tr>\n",
       "    <tr>\n",
       "      <th>4</th>\n",
       "      <td>18.29</td>\n",
       "    </tr>\n",
       "    <tr>\n",
       "      <th>...</th>\n",
       "      <td>...</td>\n",
       "    </tr>\n",
       "    <tr>\n",
       "      <th>1025</th>\n",
       "      <td>13.29</td>\n",
       "    </tr>\n",
       "    <tr>\n",
       "      <th>1026</th>\n",
       "      <td>41.30</td>\n",
       "    </tr>\n",
       "    <tr>\n",
       "      <th>1027</th>\n",
       "      <td>44.28</td>\n",
       "    </tr>\n",
       "    <tr>\n",
       "      <th>1028</th>\n",
       "      <td>55.06</td>\n",
       "    </tr>\n",
       "    <tr>\n",
       "      <th>1029</th>\n",
       "      <td>52.61</td>\n",
       "    </tr>\n",
       "  </tbody>\n",
       "</table>\n",
       "<p>1030 rows × 1 columns</p>\n",
       "</div>"
      ],
      "text/plain": [
       "      strength\n",
       "0        29.89\n",
       "1        23.51\n",
       "2        29.22\n",
       "3        45.85\n",
       "4        18.29\n",
       "...        ...\n",
       "1025     13.29\n",
       "1026     41.30\n",
       "1027     44.28\n",
       "1028     55.06\n",
       "1029     52.61\n",
       "\n",
       "[1030 rows x 1 columns]"
      ]
     },
     "execution_count": 10,
     "metadata": {},
     "output_type": "execute_result"
    }
   ],
   "source": [
    "Y"
   ]
  },
  {
   "cell_type": "markdown",
   "id": "cbc9a9fb-a61c-4082-8302-9d8131002964",
   "metadata": {},
   "source": [
    "## Data Preprocessing"
   ]
  },
  {
   "cell_type": "code",
   "execution_count": 11,
   "id": "9dafcfcb-b81b-4e8f-8e18-d6b0646a4d26",
   "metadata": {
    "tags": []
   },
   "outputs": [
    {
     "name": "stdout",
     "output_type": "stream",
     "text": [
      "Index(['cement', 'slag', 'ash', 'water', 'superplastic', 'coarseagg',\n",
      "       'fineagg', 'age'],\n",
      "      dtype='object')\n"
     ]
    }
   ],
   "source": [
    "# Select numeric features for data preprocessing\n",
    "numeric_features = X.select_dtypes(exclude = ['object']).columns\n",
    "print(numeric_features)"
   ]
  },
  {
   "cell_type": "code",
   "execution_count": 12,
   "id": "7242220d-37ff-4656-aace-cd33bfd749b4",
   "metadata": {
    "tags": []
   },
   "outputs": [
    {
     "name": "stdout",
     "output_type": "stream",
     "text": [
      "Index([], dtype='object')\n"
     ]
    }
   ],
   "source": [
    "categorical_features = X.select_dtypes(include = ['object']).columns\n",
    "print(categorical_features)"
   ]
  },
  {
   "cell_type": "code",
   "execution_count": 13,
   "id": "cd06369c-b345-4e82-8da7-63f8294dfd6d",
   "metadata": {
    "tags": []
   },
   "outputs": [
    {
     "data": {
      "text/html": [
       "<style>#sk-container-id-1 {color: black;background-color: white;}#sk-container-id-1 pre{padding: 0;}#sk-container-id-1 div.sk-toggleable {background-color: white;}#sk-container-id-1 label.sk-toggleable__label {cursor: pointer;display: block;width: 100%;margin-bottom: 0;padding: 0.3em;box-sizing: border-box;text-align: center;}#sk-container-id-1 label.sk-toggleable__label-arrow:before {content: \"▸\";float: left;margin-right: 0.25em;color: #696969;}#sk-container-id-1 label.sk-toggleable__label-arrow:hover:before {color: black;}#sk-container-id-1 div.sk-estimator:hover label.sk-toggleable__label-arrow:before {color: black;}#sk-container-id-1 div.sk-toggleable__content {max-height: 0;max-width: 0;overflow: hidden;text-align: left;background-color: #f0f8ff;}#sk-container-id-1 div.sk-toggleable__content pre {margin: 0.2em;color: black;border-radius: 0.25em;background-color: #f0f8ff;}#sk-container-id-1 input.sk-toggleable__control:checked~div.sk-toggleable__content {max-height: 200px;max-width: 100%;overflow: auto;}#sk-container-id-1 input.sk-toggleable__control:checked~label.sk-toggleable__label-arrow:before {content: \"▾\";}#sk-container-id-1 div.sk-estimator input.sk-toggleable__control:checked~label.sk-toggleable__label {background-color: #d4ebff;}#sk-container-id-1 div.sk-label input.sk-toggleable__control:checked~label.sk-toggleable__label {background-color: #d4ebff;}#sk-container-id-1 input.sk-hidden--visually {border: 0;clip: rect(1px 1px 1px 1px);clip: rect(1px, 1px, 1px, 1px);height: 1px;margin: -1px;overflow: hidden;padding: 0;position: absolute;width: 1px;}#sk-container-id-1 div.sk-estimator {font-family: monospace;background-color: #f0f8ff;border: 1px dotted black;border-radius: 0.25em;box-sizing: border-box;margin-bottom: 0.5em;}#sk-container-id-1 div.sk-estimator:hover {background-color: #d4ebff;}#sk-container-id-1 div.sk-parallel-item::after {content: \"\";width: 100%;border-bottom: 1px solid gray;flex-grow: 1;}#sk-container-id-1 div.sk-label:hover label.sk-toggleable__label {background-color: #d4ebff;}#sk-container-id-1 div.sk-serial::before {content: \"\";position: absolute;border-left: 1px solid gray;box-sizing: border-box;top: 0;bottom: 0;left: 50%;z-index: 0;}#sk-container-id-1 div.sk-serial {display: flex;flex-direction: column;align-items: center;background-color: white;padding-right: 0.2em;padding-left: 0.2em;position: relative;}#sk-container-id-1 div.sk-item {position: relative;z-index: 1;}#sk-container-id-1 div.sk-parallel {display: flex;align-items: stretch;justify-content: center;background-color: white;position: relative;}#sk-container-id-1 div.sk-item::before, #sk-container-id-1 div.sk-parallel-item::before {content: \"\";position: absolute;border-left: 1px solid gray;box-sizing: border-box;top: 0;bottom: 0;left: 50%;z-index: -1;}#sk-container-id-1 div.sk-parallel-item {display: flex;flex-direction: column;z-index: 1;position: relative;background-color: white;}#sk-container-id-1 div.sk-parallel-item:first-child::after {align-self: flex-end;width: 50%;}#sk-container-id-1 div.sk-parallel-item:last-child::after {align-self: flex-start;width: 50%;}#sk-container-id-1 div.sk-parallel-item:only-child::after {width: 0;}#sk-container-id-1 div.sk-dashed-wrapped {border: 1px dashed gray;margin: 0 0.4em 0.5em 0.4em;box-sizing: border-box;padding-bottom: 0.4em;background-color: white;}#sk-container-id-1 div.sk-label label {font-family: monospace;font-weight: bold;display: inline-block;line-height: 1.2em;}#sk-container-id-1 div.sk-label-container {text-align: center;}#sk-container-id-1 div.sk-container {/* jupyter's `normalize.less` sets `[hidden] { display: none; }` but bootstrap.min.css set `[hidden] { display: none !important; }` so we also need the `!important` here to be able to override the default hidden behavior on the sphinx rendered scikit-learn.org. See: https://github.com/scikit-learn/scikit-learn/issues/21755 */display: inline-block !important;position: relative;}#sk-container-id-1 div.sk-text-repr-fallback {display: none;}</style><div id=\"sk-container-id-1\" class=\"sk-top-container\"><div class=\"sk-text-repr-fallback\"><pre>Winsorizer(capping_method=&#x27;iqr&#x27;, fold=1.5, tail=&#x27;both&#x27;,\n",
       "           variables=[&#x27;cement&#x27;, &#x27;slag&#x27;, &#x27;ash&#x27;, &#x27;water&#x27;, &#x27;superplastic&#x27;,\n",
       "                      &#x27;coarseagg&#x27;, &#x27;fineagg&#x27;, &#x27;age&#x27;])</pre><b>In a Jupyter environment, please rerun this cell to show the HTML representation or trust the notebook. <br />On GitHub, the HTML representation is unable to render, please try loading this page with nbviewer.org.</b></div><div class=\"sk-container\" hidden><div class=\"sk-item\"><div class=\"sk-estimator sk-toggleable\"><input class=\"sk-toggleable__control sk-hidden--visually\" id=\"sk-estimator-id-1\" type=\"checkbox\" checked><label for=\"sk-estimator-id-1\" class=\"sk-toggleable__label sk-toggleable__label-arrow\">Winsorizer</label><div class=\"sk-toggleable__content\"><pre>Winsorizer(capping_method=&#x27;iqr&#x27;, fold=1.5, tail=&#x27;both&#x27;,\n",
       "           variables=[&#x27;cement&#x27;, &#x27;slag&#x27;, &#x27;ash&#x27;, &#x27;water&#x27;, &#x27;superplastic&#x27;,\n",
       "                      &#x27;coarseagg&#x27;, &#x27;fineagg&#x27;, &#x27;age&#x27;])</pre></div></div></div></div></div>"
      ],
      "text/plain": [
       "Winsorizer(capping_method='iqr', fold=1.5, tail='both',\n",
       "           variables=['cement', 'slag', 'ash', 'water', 'superplastic',\n",
       "                      'coarseagg', 'fineagg', 'age'])"
      ]
     },
     "execution_count": 13,
     "metadata": {},
     "output_type": "execute_result"
    }
   ],
   "source": [
    "# Winsorization for outlier treatment\n",
    "winsor = Winsorizer(capping_method = 'iqr', tail = 'both', fold = 1.5, variables = list(numeric_features))\n",
    "winsor"
   ]
  },
  {
   "cell_type": "code",
   "execution_count": 14,
   "id": "f7161468-73f2-4331-8710-c9616e69263f",
   "metadata": {
    "tags": []
   },
   "outputs": [
    {
     "data": {
      "text/html": [
       "<style>#sk-container-id-2 {color: black;background-color: white;}#sk-container-id-2 pre{padding: 0;}#sk-container-id-2 div.sk-toggleable {background-color: white;}#sk-container-id-2 label.sk-toggleable__label {cursor: pointer;display: block;width: 100%;margin-bottom: 0;padding: 0.3em;box-sizing: border-box;text-align: center;}#sk-container-id-2 label.sk-toggleable__label-arrow:before {content: \"▸\";float: left;margin-right: 0.25em;color: #696969;}#sk-container-id-2 label.sk-toggleable__label-arrow:hover:before {color: black;}#sk-container-id-2 div.sk-estimator:hover label.sk-toggleable__label-arrow:before {color: black;}#sk-container-id-2 div.sk-toggleable__content {max-height: 0;max-width: 0;overflow: hidden;text-align: left;background-color: #f0f8ff;}#sk-container-id-2 div.sk-toggleable__content pre {margin: 0.2em;color: black;border-radius: 0.25em;background-color: #f0f8ff;}#sk-container-id-2 input.sk-toggleable__control:checked~div.sk-toggleable__content {max-height: 200px;max-width: 100%;overflow: auto;}#sk-container-id-2 input.sk-toggleable__control:checked~label.sk-toggleable__label-arrow:before {content: \"▾\";}#sk-container-id-2 div.sk-estimator input.sk-toggleable__control:checked~label.sk-toggleable__label {background-color: #d4ebff;}#sk-container-id-2 div.sk-label input.sk-toggleable__control:checked~label.sk-toggleable__label {background-color: #d4ebff;}#sk-container-id-2 input.sk-hidden--visually {border: 0;clip: rect(1px 1px 1px 1px);clip: rect(1px, 1px, 1px, 1px);height: 1px;margin: -1px;overflow: hidden;padding: 0;position: absolute;width: 1px;}#sk-container-id-2 div.sk-estimator {font-family: monospace;background-color: #f0f8ff;border: 1px dotted black;border-radius: 0.25em;box-sizing: border-box;margin-bottom: 0.5em;}#sk-container-id-2 div.sk-estimator:hover {background-color: #d4ebff;}#sk-container-id-2 div.sk-parallel-item::after {content: \"\";width: 100%;border-bottom: 1px solid gray;flex-grow: 1;}#sk-container-id-2 div.sk-label:hover label.sk-toggleable__label {background-color: #d4ebff;}#sk-container-id-2 div.sk-serial::before {content: \"\";position: absolute;border-left: 1px solid gray;box-sizing: border-box;top: 0;bottom: 0;left: 50%;z-index: 0;}#sk-container-id-2 div.sk-serial {display: flex;flex-direction: column;align-items: center;background-color: white;padding-right: 0.2em;padding-left: 0.2em;position: relative;}#sk-container-id-2 div.sk-item {position: relative;z-index: 1;}#sk-container-id-2 div.sk-parallel {display: flex;align-items: stretch;justify-content: center;background-color: white;position: relative;}#sk-container-id-2 div.sk-item::before, #sk-container-id-2 div.sk-parallel-item::before {content: \"\";position: absolute;border-left: 1px solid gray;box-sizing: border-box;top: 0;bottom: 0;left: 50%;z-index: -1;}#sk-container-id-2 div.sk-parallel-item {display: flex;flex-direction: column;z-index: 1;position: relative;background-color: white;}#sk-container-id-2 div.sk-parallel-item:first-child::after {align-self: flex-end;width: 50%;}#sk-container-id-2 div.sk-parallel-item:last-child::after {align-self: flex-start;width: 50%;}#sk-container-id-2 div.sk-parallel-item:only-child::after {width: 0;}#sk-container-id-2 div.sk-dashed-wrapped {border: 1px dashed gray;margin: 0 0.4em 0.5em 0.4em;box-sizing: border-box;padding-bottom: 0.4em;background-color: white;}#sk-container-id-2 div.sk-label label {font-family: monospace;font-weight: bold;display: inline-block;line-height: 1.2em;}#sk-container-id-2 div.sk-label-container {text-align: center;}#sk-container-id-2 div.sk-container {/* jupyter's `normalize.less` sets `[hidden] { display: none; }` but bootstrap.min.css set `[hidden] { display: none !important; }` so we also need the `!important` here to be able to override the default hidden behavior on the sphinx rendered scikit-learn.org. See: https://github.com/scikit-learn/scikit-learn/issues/21755 */display: inline-block !important;position: relative;}#sk-container-id-2 div.sk-text-repr-fallback {display: none;}</style><div id=\"sk-container-id-2\" class=\"sk-top-container\"><div class=\"sk-text-repr-fallback\"><pre>Pipeline(steps=[(&#x27;winsor&#x27;,\n",
       "                 Winsorizer(capping_method=&#x27;iqr&#x27;, fold=1.5, tail=&#x27;both&#x27;,\n",
       "                            variables=[&#x27;cement&#x27;, &#x27;slag&#x27;, &#x27;ash&#x27;, &#x27;water&#x27;,\n",
       "                                       &#x27;superplastic&#x27;, &#x27;coarseagg&#x27;, &#x27;fineagg&#x27;,\n",
       "                                       &#x27;age&#x27;]))])</pre><b>In a Jupyter environment, please rerun this cell to show the HTML representation or trust the notebook. <br />On GitHub, the HTML representation is unable to render, please try loading this page with nbviewer.org.</b></div><div class=\"sk-container\" hidden><div class=\"sk-item sk-dashed-wrapped\"><div class=\"sk-label-container\"><div class=\"sk-label sk-toggleable\"><input class=\"sk-toggleable__control sk-hidden--visually\" id=\"sk-estimator-id-2\" type=\"checkbox\" ><label for=\"sk-estimator-id-2\" class=\"sk-toggleable__label sk-toggleable__label-arrow\">Pipeline</label><div class=\"sk-toggleable__content\"><pre>Pipeline(steps=[(&#x27;winsor&#x27;,\n",
       "                 Winsorizer(capping_method=&#x27;iqr&#x27;, fold=1.5, tail=&#x27;both&#x27;,\n",
       "                            variables=[&#x27;cement&#x27;, &#x27;slag&#x27;, &#x27;ash&#x27;, &#x27;water&#x27;,\n",
       "                                       &#x27;superplastic&#x27;, &#x27;coarseagg&#x27;, &#x27;fineagg&#x27;,\n",
       "                                       &#x27;age&#x27;]))])</pre></div></div></div><div class=\"sk-serial\"><div class=\"sk-item\"><div class=\"sk-estimator sk-toggleable\"><input class=\"sk-toggleable__control sk-hidden--visually\" id=\"sk-estimator-id-3\" type=\"checkbox\" ><label for=\"sk-estimator-id-3\" class=\"sk-toggleable__label sk-toggleable__label-arrow\">Winsorizer</label><div class=\"sk-toggleable__content\"><pre>Winsorizer(capping_method=&#x27;iqr&#x27;, fold=1.5, tail=&#x27;both&#x27;,\n",
       "           variables=[&#x27;cement&#x27;, &#x27;slag&#x27;, &#x27;ash&#x27;, &#x27;water&#x27;, &#x27;superplastic&#x27;,\n",
       "                      &#x27;coarseagg&#x27;, &#x27;fineagg&#x27;, &#x27;age&#x27;])</pre></div></div></div></div></div></div></div>"
      ],
      "text/plain": [
       "Pipeline(steps=[('winsor',\n",
       "                 Winsorizer(capping_method='iqr', fold=1.5, tail='both',\n",
       "                            variables=['cement', 'slag', 'ash', 'water',\n",
       "                                       'superplastic', 'coarseagg', 'fineagg',\n",
       "                                       'age']))])"
      ]
     },
     "execution_count": 14,
     "metadata": {},
     "output_type": "execute_result"
    }
   ],
   "source": [
    "outlier_pipeline = Pipeline(steps = [('winsor', winsor)])\n",
    "outlier_pipeline"
   ]
  },
  {
   "cell_type": "code",
   "execution_count": 15,
   "id": "17c53d4c-db18-48c1-844f-e98a9c2de497",
   "metadata": {
    "tags": []
   },
   "outputs": [
    {
     "name": "stdout",
     "output_type": "stream",
     "text": [
      "ColumnTransformer(transformers=[('wins',\n",
      "                                 Pipeline(steps=[('winsor',\n",
      "                                                  Winsorizer(capping_method='iqr',\n",
      "                                                             fold=1.5,\n",
      "                                                             tail='both',\n",
      "                                                             variables=['cement',\n",
      "                                                                        'slag',\n",
      "                                                                        'ash',\n",
      "                                                                        'water',\n",
      "                                                                        'superplastic',\n",
      "                                                                        'coarseagg',\n",
      "                                                                        'fineagg',\n",
      "                                                                        'age']))]),\n",
      "                                 Index(['cement', 'slag', 'ash', 'water', 'superplastic', 'coarseagg',\n",
      "       'fineagg', 'age'],\n",
      "      dtype='object'))])\n"
     ]
    }
   ],
   "source": [
    "preprocessor = ColumnTransformer(transformers = [('wins', outlier_pipeline, numeric_features)])\n",
    "print(preprocessor)"
   ]
  },
  {
   "cell_type": "code",
   "execution_count": 16,
   "id": "97fbead8-4b79-4c4b-8512-06f6c0a0549e",
   "metadata": {
    "tags": []
   },
   "outputs": [
    {
     "data": {
      "text/html": [
       "<style>#sk-container-id-3 {color: black;background-color: white;}#sk-container-id-3 pre{padding: 0;}#sk-container-id-3 div.sk-toggleable {background-color: white;}#sk-container-id-3 label.sk-toggleable__label {cursor: pointer;display: block;width: 100%;margin-bottom: 0;padding: 0.3em;box-sizing: border-box;text-align: center;}#sk-container-id-3 label.sk-toggleable__label-arrow:before {content: \"▸\";float: left;margin-right: 0.25em;color: #696969;}#sk-container-id-3 label.sk-toggleable__label-arrow:hover:before {color: black;}#sk-container-id-3 div.sk-estimator:hover label.sk-toggleable__label-arrow:before {color: black;}#sk-container-id-3 div.sk-toggleable__content {max-height: 0;max-width: 0;overflow: hidden;text-align: left;background-color: #f0f8ff;}#sk-container-id-3 div.sk-toggleable__content pre {margin: 0.2em;color: black;border-radius: 0.25em;background-color: #f0f8ff;}#sk-container-id-3 input.sk-toggleable__control:checked~div.sk-toggleable__content {max-height: 200px;max-width: 100%;overflow: auto;}#sk-container-id-3 input.sk-toggleable__control:checked~label.sk-toggleable__label-arrow:before {content: \"▾\";}#sk-container-id-3 div.sk-estimator input.sk-toggleable__control:checked~label.sk-toggleable__label {background-color: #d4ebff;}#sk-container-id-3 div.sk-label input.sk-toggleable__control:checked~label.sk-toggleable__label {background-color: #d4ebff;}#sk-container-id-3 input.sk-hidden--visually {border: 0;clip: rect(1px 1px 1px 1px);clip: rect(1px, 1px, 1px, 1px);height: 1px;margin: -1px;overflow: hidden;padding: 0;position: absolute;width: 1px;}#sk-container-id-3 div.sk-estimator {font-family: monospace;background-color: #f0f8ff;border: 1px dotted black;border-radius: 0.25em;box-sizing: border-box;margin-bottom: 0.5em;}#sk-container-id-3 div.sk-estimator:hover {background-color: #d4ebff;}#sk-container-id-3 div.sk-parallel-item::after {content: \"\";width: 100%;border-bottom: 1px solid gray;flex-grow: 1;}#sk-container-id-3 div.sk-label:hover label.sk-toggleable__label {background-color: #d4ebff;}#sk-container-id-3 div.sk-serial::before {content: \"\";position: absolute;border-left: 1px solid gray;box-sizing: border-box;top: 0;bottom: 0;left: 50%;z-index: 0;}#sk-container-id-3 div.sk-serial {display: flex;flex-direction: column;align-items: center;background-color: white;padding-right: 0.2em;padding-left: 0.2em;position: relative;}#sk-container-id-3 div.sk-item {position: relative;z-index: 1;}#sk-container-id-3 div.sk-parallel {display: flex;align-items: stretch;justify-content: center;background-color: white;position: relative;}#sk-container-id-3 div.sk-item::before, #sk-container-id-3 div.sk-parallel-item::before {content: \"\";position: absolute;border-left: 1px solid gray;box-sizing: border-box;top: 0;bottom: 0;left: 50%;z-index: -1;}#sk-container-id-3 div.sk-parallel-item {display: flex;flex-direction: column;z-index: 1;position: relative;background-color: white;}#sk-container-id-3 div.sk-parallel-item:first-child::after {align-self: flex-end;width: 50%;}#sk-container-id-3 div.sk-parallel-item:last-child::after {align-self: flex-start;width: 50%;}#sk-container-id-3 div.sk-parallel-item:only-child::after {width: 0;}#sk-container-id-3 div.sk-dashed-wrapped {border: 1px dashed gray;margin: 0 0.4em 0.5em 0.4em;box-sizing: border-box;padding-bottom: 0.4em;background-color: white;}#sk-container-id-3 div.sk-label label {font-family: monospace;font-weight: bold;display: inline-block;line-height: 1.2em;}#sk-container-id-3 div.sk-label-container {text-align: center;}#sk-container-id-3 div.sk-container {/* jupyter's `normalize.less` sets `[hidden] { display: none; }` but bootstrap.min.css set `[hidden] { display: none !important; }` so we also need the `!important` here to be able to override the default hidden behavior on the sphinx rendered scikit-learn.org. See: https://github.com/scikit-learn/scikit-learn/issues/21755 */display: inline-block !important;position: relative;}#sk-container-id-3 div.sk-text-repr-fallback {display: none;}</style><div id=\"sk-container-id-3\" class=\"sk-top-container\"><div class=\"sk-text-repr-fallback\"><pre>ColumnTransformer(transformers=[(&#x27;wins&#x27;,\n",
       "                                 Pipeline(steps=[(&#x27;winsor&#x27;,\n",
       "                                                  Winsorizer(capping_method=&#x27;iqr&#x27;,\n",
       "                                                             fold=1.5,\n",
       "                                                             tail=&#x27;both&#x27;,\n",
       "                                                             variables=[&#x27;cement&#x27;,\n",
       "                                                                        &#x27;slag&#x27;,\n",
       "                                                                        &#x27;ash&#x27;,\n",
       "                                                                        &#x27;water&#x27;,\n",
       "                                                                        &#x27;superplastic&#x27;,\n",
       "                                                                        &#x27;coarseagg&#x27;,\n",
       "                                                                        &#x27;fineagg&#x27;,\n",
       "                                                                        &#x27;age&#x27;]))]),\n",
       "                                 Index([&#x27;cement&#x27;, &#x27;slag&#x27;, &#x27;ash&#x27;, &#x27;water&#x27;, &#x27;superplastic&#x27;, &#x27;coarseagg&#x27;,\n",
       "       &#x27;fineagg&#x27;, &#x27;age&#x27;],\n",
       "      dtype=&#x27;object&#x27;))])</pre><b>In a Jupyter environment, please rerun this cell to show the HTML representation or trust the notebook. <br />On GitHub, the HTML representation is unable to render, please try loading this page with nbviewer.org.</b></div><div class=\"sk-container\" hidden><div class=\"sk-item sk-dashed-wrapped\"><div class=\"sk-label-container\"><div class=\"sk-label sk-toggleable\"><input class=\"sk-toggleable__control sk-hidden--visually\" id=\"sk-estimator-id-4\" type=\"checkbox\" ><label for=\"sk-estimator-id-4\" class=\"sk-toggleable__label sk-toggleable__label-arrow\">ColumnTransformer</label><div class=\"sk-toggleable__content\"><pre>ColumnTransformer(transformers=[(&#x27;wins&#x27;,\n",
       "                                 Pipeline(steps=[(&#x27;winsor&#x27;,\n",
       "                                                  Winsorizer(capping_method=&#x27;iqr&#x27;,\n",
       "                                                             fold=1.5,\n",
       "                                                             tail=&#x27;both&#x27;,\n",
       "                                                             variables=[&#x27;cement&#x27;,\n",
       "                                                                        &#x27;slag&#x27;,\n",
       "                                                                        &#x27;ash&#x27;,\n",
       "                                                                        &#x27;water&#x27;,\n",
       "                                                                        &#x27;superplastic&#x27;,\n",
       "                                                                        &#x27;coarseagg&#x27;,\n",
       "                                                                        &#x27;fineagg&#x27;,\n",
       "                                                                        &#x27;age&#x27;]))]),\n",
       "                                 Index([&#x27;cement&#x27;, &#x27;slag&#x27;, &#x27;ash&#x27;, &#x27;water&#x27;, &#x27;superplastic&#x27;, &#x27;coarseagg&#x27;,\n",
       "       &#x27;fineagg&#x27;, &#x27;age&#x27;],\n",
       "      dtype=&#x27;object&#x27;))])</pre></div></div></div><div class=\"sk-parallel\"><div class=\"sk-parallel-item\"><div class=\"sk-item\"><div class=\"sk-label-container\"><div class=\"sk-label sk-toggleable\"><input class=\"sk-toggleable__control sk-hidden--visually\" id=\"sk-estimator-id-5\" type=\"checkbox\" ><label for=\"sk-estimator-id-5\" class=\"sk-toggleable__label sk-toggleable__label-arrow\">wins</label><div class=\"sk-toggleable__content\"><pre>Index([&#x27;cement&#x27;, &#x27;slag&#x27;, &#x27;ash&#x27;, &#x27;water&#x27;, &#x27;superplastic&#x27;, &#x27;coarseagg&#x27;,\n",
       "       &#x27;fineagg&#x27;, &#x27;age&#x27;],\n",
       "      dtype=&#x27;object&#x27;)</pre></div></div></div><div class=\"sk-serial\"><div class=\"sk-item\"><div class=\"sk-serial\"><div class=\"sk-item\"><div class=\"sk-estimator sk-toggleable\"><input class=\"sk-toggleable__control sk-hidden--visually\" id=\"sk-estimator-id-6\" type=\"checkbox\" ><label for=\"sk-estimator-id-6\" class=\"sk-toggleable__label sk-toggleable__label-arrow\">Winsorizer</label><div class=\"sk-toggleable__content\"><pre>Winsorizer(capping_method=&#x27;iqr&#x27;, fold=1.5, tail=&#x27;both&#x27;,\n",
       "           variables=[&#x27;cement&#x27;, &#x27;slag&#x27;, &#x27;ash&#x27;, &#x27;water&#x27;, &#x27;superplastic&#x27;,\n",
       "                      &#x27;coarseagg&#x27;, &#x27;fineagg&#x27;, &#x27;age&#x27;])</pre></div></div></div></div></div></div></div></div></div></div></div></div>"
      ],
      "text/plain": [
       "ColumnTransformer(transformers=[('wins',\n",
       "                                 Pipeline(steps=[('winsor',\n",
       "                                                  Winsorizer(capping_method='iqr',\n",
       "                                                             fold=1.5,\n",
       "                                                             tail='both',\n",
       "                                                             variables=['cement',\n",
       "                                                                        'slag',\n",
       "                                                                        'ash',\n",
       "                                                                        'water',\n",
       "                                                                        'superplastic',\n",
       "                                                                        'coarseagg',\n",
       "                                                                        'fineagg',\n",
       "                                                                        'age']))]),\n",
       "                                 Index(['cement', 'slag', 'ash', 'water', 'superplastic', 'coarseagg',\n",
       "       'fineagg', 'age'],\n",
       "      dtype='object'))])"
      ]
     },
     "execution_count": 16,
     "metadata": {},
     "output_type": "execute_result"
    }
   ],
   "source": [
    "clean = preprocessor.fit(X)\n",
    "clean"
   ]
  },
  {
   "cell_type": "code",
   "execution_count": 17,
   "id": "205d4367-6ed2-488f-bbfd-4ecbd79e6cea",
   "metadata": {
    "tags": []
   },
   "outputs": [
    {
     "data": {
      "text/html": [
       "<div>\n",
       "<style scoped>\n",
       "    .dataframe tbody tr th:only-of-type {\n",
       "        vertical-align: middle;\n",
       "    }\n",
       "\n",
       "    .dataframe tbody tr th {\n",
       "        vertical-align: top;\n",
       "    }\n",
       "\n",
       "    .dataframe thead th {\n",
       "        text-align: right;\n",
       "    }\n",
       "</style>\n",
       "<table border=\"1\" class=\"dataframe\">\n",
       "  <thead>\n",
       "    <tr style=\"text-align: right;\">\n",
       "      <th></th>\n",
       "      <th>cement</th>\n",
       "      <th>slag</th>\n",
       "      <th>ash</th>\n",
       "      <th>water</th>\n",
       "      <th>superplastic</th>\n",
       "      <th>coarseagg</th>\n",
       "      <th>fineagg</th>\n",
       "      <th>age</th>\n",
       "    </tr>\n",
       "  </thead>\n",
       "  <tbody>\n",
       "    <tr>\n",
       "      <th>0</th>\n",
       "      <td>141.3</td>\n",
       "      <td>212.0</td>\n",
       "      <td>0.0</td>\n",
       "      <td>203.5</td>\n",
       "      <td>0.0</td>\n",
       "      <td>971.8</td>\n",
       "      <td>748.5</td>\n",
       "      <td>28.0</td>\n",
       "    </tr>\n",
       "    <tr>\n",
       "      <th>1</th>\n",
       "      <td>168.9</td>\n",
       "      <td>42.2</td>\n",
       "      <td>124.3</td>\n",
       "      <td>158.3</td>\n",
       "      <td>10.8</td>\n",
       "      <td>1080.8</td>\n",
       "      <td>796.2</td>\n",
       "      <td>14.0</td>\n",
       "    </tr>\n",
       "    <tr>\n",
       "      <th>2</th>\n",
       "      <td>250.0</td>\n",
       "      <td>0.0</td>\n",
       "      <td>95.7</td>\n",
       "      <td>187.4</td>\n",
       "      <td>5.5</td>\n",
       "      <td>956.9</td>\n",
       "      <td>861.2</td>\n",
       "      <td>28.0</td>\n",
       "    </tr>\n",
       "    <tr>\n",
       "      <th>3</th>\n",
       "      <td>266.0</td>\n",
       "      <td>114.0</td>\n",
       "      <td>0.0</td>\n",
       "      <td>228.0</td>\n",
       "      <td>0.0</td>\n",
       "      <td>932.0</td>\n",
       "      <td>670.0</td>\n",
       "      <td>28.0</td>\n",
       "    </tr>\n",
       "    <tr>\n",
       "      <th>4</th>\n",
       "      <td>154.8</td>\n",
       "      <td>183.4</td>\n",
       "      <td>0.0</td>\n",
       "      <td>193.3</td>\n",
       "      <td>9.1</td>\n",
       "      <td>1047.4</td>\n",
       "      <td>696.7</td>\n",
       "      <td>28.0</td>\n",
       "    </tr>\n",
       "  </tbody>\n",
       "</table>\n",
       "</div>"
      ],
      "text/plain": [
       "   cement   slag    ash  water  superplastic  coarseagg  fineagg   age\n",
       "0   141.3  212.0    0.0  203.5           0.0      971.8    748.5  28.0\n",
       "1   168.9   42.2  124.3  158.3          10.8     1080.8    796.2  14.0\n",
       "2   250.0    0.0   95.7  187.4           5.5      956.9    861.2  28.0\n",
       "3   266.0  114.0    0.0  228.0           0.0      932.0    670.0  28.0\n",
       "4   154.8  183.4    0.0  193.3           9.1     1047.4    696.7  28.0"
      ]
     },
     "execution_count": 17,
     "metadata": {},
     "output_type": "execute_result"
    }
   ],
   "source": [
    "cleandata = pd.DataFrame(clean.transform(X), columns = numeric_features)\n",
    "cleandata.head()"
   ]
  },
  {
   "cell_type": "code",
   "execution_count": 18,
   "id": "8f9dd386-d5ab-4fb7-bbab-367b87588a9b",
   "metadata": {
    "tags": []
   },
   "outputs": [
    {
     "data": {
      "image/png": "[encoded data removed]",
      "text/plain": [
       "<Figure size 1000x500 with 8 Axes>"
      ]
     },
     "metadata": {},
     "output_type": "display_data"
    }
   ],
   "source": [
    "# box plot visualisation\n",
    "cleandata.plot(kind = 'box', subplots = True, sharey = False, figsize = (10,5))\n",
    "plt.subplots_adjust(wspace = 0.75)\n",
    "plt.show()"
   ]
  },
  {
   "cell_type": "code",
   "execution_count": 19,
   "id": "a385593d-0dd2-44aa-b4af-75f46c0ef92d",
   "metadata": {
    "tags": []
   },
   "outputs": [],
   "source": [
    "## Scaling with MinMaxScaler\n",
    "scale_pipeline = Pipeline([('scale', MinMaxScaler())])\n",
    "\n",
    "scale_columntransfer = ColumnTransformer([('scale', scale_pipeline, numeric_features)]) # Skips the transformations for remaining columns\n",
    "\n",
    "scale = scale_columntransfer.fit(cleandata)"
   ]
  },
  {
   "cell_type": "code",
   "execution_count": 20,
   "id": "3692b72f-2b88-4c82-980b-8fb66b8f09d1",
   "metadata": {
    "tags": []
   },
   "outputs": [
    {
     "data": {
      "text/html": [
       "<div>\n",
       "<style scoped>\n",
       "    .dataframe tbody tr th:only-of-type {\n",
       "        vertical-align: middle;\n",
       "    }\n",
       "\n",
       "    .dataframe tbody tr th {\n",
       "        vertical-align: top;\n",
       "    }\n",
       "\n",
       "    .dataframe thead th {\n",
       "        text-align: right;\n",
       "    }\n",
       "</style>\n",
       "<table border=\"1\" class=\"dataframe\">\n",
       "  <thead>\n",
       "    <tr style=\"text-align: right;\">\n",
       "      <th></th>\n",
       "      <th>cement</th>\n",
       "      <th>slag</th>\n",
       "      <th>ash</th>\n",
       "      <th>water</th>\n",
       "      <th>superplastic</th>\n",
       "      <th>coarseagg</th>\n",
       "      <th>fineagg</th>\n",
       "      <th>age</th>\n",
       "    </tr>\n",
       "  </thead>\n",
       "  <tbody>\n",
       "    <tr>\n",
       "      <th>count</th>\n",
       "      <td>1030.000000</td>\n",
       "      <td>1030.000000</td>\n",
       "      <td>1030.000000</td>\n",
       "      <td>1030.000000</td>\n",
       "      <td>1030.000000</td>\n",
       "      <td>1030.000000</td>\n",
       "      <td>1030.000000</td>\n",
       "      <td>1030.000000</td>\n",
       "    </tr>\n",
       "    <tr>\n",
       "      <th>mean</th>\n",
       "      <td>0.409059</td>\n",
       "      <td>0.206763</td>\n",
       "      <td>0.270806</td>\n",
       "      <td>0.528536</td>\n",
       "      <td>0.241531</td>\n",
       "      <td>0.499764</td>\n",
       "      <td>0.485530</td>\n",
       "      <td>0.288486</td>\n",
       "    </tr>\n",
       "    <tr>\n",
       "      <th>std</th>\n",
       "      <td>0.238599</td>\n",
       "      <td>0.241389</td>\n",
       "      <td>0.319825</td>\n",
       "      <td>0.195803</td>\n",
       "      <td>0.227547</td>\n",
       "      <td>0.226029</td>\n",
       "      <td>0.215965</td>\n",
       "      <td>0.278461</td>\n",
       "    </tr>\n",
       "    <tr>\n",
       "      <th>min</th>\n",
       "      <td>0.000000</td>\n",
       "      <td>0.000000</td>\n",
       "      <td>0.000000</td>\n",
       "      <td>0.000000</td>\n",
       "      <td>0.000000</td>\n",
       "      <td>0.000000</td>\n",
       "      <td>0.000000</td>\n",
       "      <td>0.000000</td>\n",
       "    </tr>\n",
       "    <tr>\n",
       "      <th>25%</th>\n",
       "      <td>0.206336</td>\n",
       "      <td>0.000000</td>\n",
       "      <td>0.000000</td>\n",
       "      <td>0.375000</td>\n",
       "      <td>0.000000</td>\n",
       "      <td>0.380814</td>\n",
       "      <td>0.370561</td>\n",
       "      <td>0.046693</td>\n",
       "    </tr>\n",
       "    <tr>\n",
       "      <th>50%</th>\n",
       "      <td>0.390183</td>\n",
       "      <td>0.061560</td>\n",
       "      <td>0.000000</td>\n",
       "      <td>0.560424</td>\n",
       "      <td>0.250980</td>\n",
       "      <td>0.485465</td>\n",
       "      <td>0.501928</td>\n",
       "      <td>0.210117</td>\n",
       "    </tr>\n",
       "    <tr>\n",
       "      <th>75%</th>\n",
       "      <td>0.566210</td>\n",
       "      <td>0.400000</td>\n",
       "      <td>0.591204</td>\n",
       "      <td>0.625000</td>\n",
       "      <td>0.400000</td>\n",
       "      <td>0.663953</td>\n",
       "      <td>0.622336</td>\n",
       "      <td>0.428016</td>\n",
       "    </tr>\n",
       "    <tr>\n",
       "      <th>max</th>\n",
       "      <td>1.000000</td>\n",
       "      <td>1.000000</td>\n",
       "      <td>1.000000</td>\n",
       "      <td>1.000000</td>\n",
       "      <td>1.000000</td>\n",
       "      <td>1.000000</td>\n",
       "      <td>1.000000</td>\n",
       "      <td>1.000000</td>\n",
       "    </tr>\n",
       "  </tbody>\n",
       "</table>\n",
       "</div>"
      ],
      "text/plain": [
       "            cement         slag          ash        water  superplastic  \\\n",
       "count  1030.000000  1030.000000  1030.000000  1030.000000   1030.000000   \n",
       "mean      0.409059     0.206763     0.270806     0.528536      0.241531   \n",
       "std       0.238599     0.241389     0.319825     0.195803      0.227547   \n",
       "min       0.000000     0.000000     0.000000     0.000000      0.000000   \n",
       "25%       0.206336     0.000000     0.000000     0.375000      0.000000   \n",
       "50%       0.390183     0.061560     0.000000     0.560424      0.250980   \n",
       "75%       0.566210     0.400000     0.591204     0.625000      0.400000   \n",
       "max       1.000000     1.000000     1.000000     1.000000      1.000000   \n",
       "\n",
       "         coarseagg      fineagg          age  \n",
       "count  1030.000000  1030.000000  1030.000000  \n",
       "mean      0.499764     0.485530     0.288486  \n",
       "std       0.226029     0.215965     0.278461  \n",
       "min       0.000000     0.000000     0.000000  \n",
       "25%       0.380814     0.370561     0.046693  \n",
       "50%       0.485465     0.501928     0.210117  \n",
       "75%       0.663953     0.622336     0.428016  \n",
       "max       1.000000     1.000000     1.000000  "
      ]
     },
     "execution_count": 20,
     "metadata": {},
     "output_type": "execute_result"
    }
   ],
   "source": [
    "scaled_data = pd.DataFrame(scale.transform(cleandata), columns = numeric_features)\n",
    "scaled_data.describe()"
   ]
  },
  {
   "cell_type": "code",
   "execution_count": 21,
   "id": "7bee34f2-d756-4255-a572-e581b419ee5a",
   "metadata": {
    "tags": []
   },
   "outputs": [],
   "source": [
    "# scaling the target variable.\n",
    "num_features = ['strength']\n",
    "## Scaling with MinMaxScaler\n",
    "scale_pipeline = Pipeline([('scale', MinMaxScaler())])\n",
    "\n",
    "scale_columntransfer = ColumnTransformer([('scale', scale_pipeline, num_features)]) # Skips the transformations for remaining columns\n",
    "\n",
    "scale1 = scale_columntransfer.fit(Y)"
   ]
  },
  {
   "cell_type": "code",
   "execution_count": 22,
   "id": "f1bebd16-9242-43ca-af97-3cec9fdc14d4",
   "metadata": {
    "tags": []
   },
   "outputs": [
    {
     "data": {
      "text/html": [
       "<div>\n",
       "<style scoped>\n",
       "    .dataframe tbody tr th:only-of-type {\n",
       "        vertical-align: middle;\n",
       "    }\n",
       "\n",
       "    .dataframe tbody tr th {\n",
       "        vertical-align: top;\n",
       "    }\n",
       "\n",
       "    .dataframe thead th {\n",
       "        text-align: right;\n",
       "    }\n",
       "</style>\n",
       "<table border=\"1\" class=\"dataframe\">\n",
       "  <thead>\n",
       "    <tr style=\"text-align: right;\">\n",
       "      <th></th>\n",
       "      <th>strength</th>\n",
       "    </tr>\n",
       "  </thead>\n",
       "  <tbody>\n",
       "    <tr>\n",
       "      <th>count</th>\n",
       "      <td>1030.000000</td>\n",
       "    </tr>\n",
       "    <tr>\n",
       "      <th>mean</th>\n",
       "      <td>0.417191</td>\n",
       "    </tr>\n",
       "    <tr>\n",
       "      <th>std</th>\n",
       "      <td>0.208119</td>\n",
       "    </tr>\n",
       "    <tr>\n",
       "      <th>min</th>\n",
       "      <td>0.000000</td>\n",
       "    </tr>\n",
       "    <tr>\n",
       "      <th>25%</th>\n",
       "      <td>0.266351</td>\n",
       "    </tr>\n",
       "    <tr>\n",
       "      <th>50%</th>\n",
       "      <td>0.400087</td>\n",
       "    </tr>\n",
       "    <tr>\n",
       "      <th>75%</th>\n",
       "      <td>0.545721</td>\n",
       "    </tr>\n",
       "    <tr>\n",
       "      <th>max</th>\n",
       "      <td>1.000000</td>\n",
       "    </tr>\n",
       "  </tbody>\n",
       "</table>\n",
       "</div>"
      ],
      "text/plain": [
       "          strength\n",
       "count  1030.000000\n",
       "mean      0.417191\n",
       "std       0.208119\n",
       "min       0.000000\n",
       "25%       0.266351\n",
       "50%       0.400087\n",
       "75%       0.545721\n",
       "max       1.000000"
      ]
     },
     "execution_count": 22,
     "metadata": {},
     "output_type": "execute_result"
    }
   ],
   "source": [
    "scaled_Y = pd.DataFrame(scale1.transform(Y), columns = num_features)\n",
    "scaled_Y.describe()"
   ]
  },
  {
   "cell_type": "code",
   "execution_count": 23,
   "id": "d7c21ddc-ee7c-4daa-afb6-02f46659d4dd",
   "metadata": {
    "tags": []
   },
   "outputs": [],
   "source": [
    "# Splitting data into training and testing data set\n",
    "X_train, X_test, Y_train, Y_test = train_test_split(scaled_data, scaled_Y, test_size = 0.2, random_state = 0) "
   ]
  },
  {
   "cell_type": "code",
   "execution_count": 24,
   "id": "d4a87d98-a90e-462f-8542-814034487fc5",
   "metadata": {
    "tags": []
   },
   "outputs": [
    {
     "data": {
      "text/plain": [
       "(824, 8)"
      ]
     },
     "execution_count": 24,
     "metadata": {},
     "output_type": "execute_result"
    }
   ],
   "source": [
    "X_train.shape"
   ]
  },
  {
   "cell_type": "code",
   "execution_count": 25,
   "id": "70c0c45d-be10-4ff4-bd17-e641f7512bb0",
   "metadata": {
    "tags": []
   },
   "outputs": [
    {
     "data": {
      "text/plain": [
       "(206, 8)"
      ]
     },
     "execution_count": 25,
     "metadata": {},
     "output_type": "execute_result"
    }
   ],
   "source": [
    "X_test.shape"
   ]
  },
  {
   "cell_type": "code",
   "execution_count": 26,
   "id": "f16f9faf-0b20-446c-9f46-8d431e9160ca",
   "metadata": {
    "tags": []
   },
   "outputs": [
    {
     "data": {
      "text/html": [
       "<div>\n",
       "<style scoped>\n",
       "    .dataframe tbody tr th:only-of-type {\n",
       "        vertical-align: middle;\n",
       "    }\n",
       "\n",
       "    .dataframe tbody tr th {\n",
       "        vertical-align: top;\n",
       "    }\n",
       "\n",
       "    .dataframe thead th {\n",
       "        text-align: right;\n",
       "    }\n",
       "</style>\n",
       "<table border=\"1\" class=\"dataframe\">\n",
       "  <thead>\n",
       "    <tr style=\"text-align: right;\">\n",
       "      <th></th>\n",
       "      <th>strength</th>\n",
       "    </tr>\n",
       "  </thead>\n",
       "  <tbody>\n",
       "    <tr>\n",
       "      <th>747</th>\n",
       "      <td>0.212034</td>\n",
       "    </tr>\n",
       "    <tr>\n",
       "      <th>718</th>\n",
       "      <td>0.234583</td>\n",
       "    </tr>\n",
       "    <tr>\n",
       "      <th>175</th>\n",
       "      <td>0.189984</td>\n",
       "    </tr>\n",
       "    <tr>\n",
       "      <th>828</th>\n",
       "      <td>0.676218</td>\n",
       "    </tr>\n",
       "    <tr>\n",
       "      <th>713</th>\n",
       "      <td>0.639841</td>\n",
       "    </tr>\n",
       "  </tbody>\n",
       "</table>\n",
       "</div>"
      ],
      "text/plain": [
       "     strength\n",
       "747  0.212034\n",
       "718  0.234583\n",
       "175  0.189984\n",
       "828  0.676218\n",
       "713  0.639841"
      ]
     },
     "execution_count": 26,
     "metadata": {},
     "output_type": "execute_result"
    }
   ],
   "source": [
    "Y_test.head()"
   ]
  },
  {
   "cell_type": "code",
   "execution_count": null,
   "id": "ef61e60c-ec91-43a6-ba17-4c64d44865d4",
   "metadata": {},
   "outputs": [],
   "source": []
  },
  {
   "cell_type": "markdown",
   "id": "41e56572-19ee-4100-a0d2-7ab0bd006822",
   "metadata": {},
   "source": [
    "## Model Building"
   ]
  },
  {
   "cell_type": "markdown",
   "id": "2d613451-bf72-44d8-927f-564fc97545e0",
   "metadata": {},
   "source": [
    "### Building a Multi layer Perceptron model for which we are giving the input to train the ANN."
   ]
  },
  {
   "cell_type": "code",
   "execution_count": 27,
   "id": "9060bd60-3b4a-447c-bf24-6c365b348373",
   "metadata": {
    "tags": []
   },
   "outputs": [],
   "source": [
    "# Initializing the model\n",
    "model = Sequential()\n",
    "model.add(Dense(10, input_dim = 8, activation = 'relu'))\n",
    "model.add(Dense(10, activation = \"tanh\"))\n",
    "model.add(Dense(10, activation = \"tanh\"))\n",
    "model.add(Dense(1, activation = \"sigmoid\"))\n",
    "model.compile(loss = \"mse\", optimizer = \"adam\", metrics = [tf.keras.metrics.MeanAbsoluteError()])\n"
   ]
  },
  {
   "cell_type": "code",
   "execution_count": 28,
   "id": "032825bd-5599-4e3b-87f8-a7ad17d6ecc4",
   "metadata": {
    "tags": []
   },
   "outputs": [
    {
     "name": "stdout",
     "output_type": "stream",
     "text": [
      "Epoch 1/50\n",
      "9/9 [==============================] - 1s 32ms/step - loss: 0.0590 - mean_absolute_error: 0.2037 - val_loss: 0.0547 - val_mean_absolute_error: 0.1980\n",
      "Epoch 2/50\n",
      "9/9 [==============================] - 0s 6ms/step - loss: 0.0481 - mean_absolute_error: 0.1810 - val_loss: 0.0456 - val_mean_absolute_error: 0.1744\n",
      "Epoch 3/50\n",
      "9/9 [==============================] - 0s 7ms/step - loss: 0.0428 - mean_absolute_error: 0.1691 - val_loss: 0.0418 - val_mean_absolute_error: 0.1632\n",
      "Epoch 4/50\n",
      "9/9 [==============================] - 0s 7ms/step - loss: 0.0413 - mean_absolute_error: 0.1654 - val_loss: 0.0404 - val_mean_absolute_error: 0.1581\n",
      "Epoch 5/50\n",
      "9/9 [==============================] - 0s 7ms/step - loss: 0.0405 - mean_absolute_error: 0.1631 - val_loss: 0.0395 - val_mean_absolute_error: 0.1559\n",
      "Epoch 6/50\n",
      "9/9 [==============================] - 0s 8ms/step - loss: 0.0393 - mean_absolute_error: 0.1607 - val_loss: 0.0387 - val_mean_absolute_error: 0.1554\n",
      "Epoch 7/50\n",
      "9/9 [==============================] - 0s 8ms/step - loss: 0.0381 - mean_absolute_error: 0.1586 - val_loss: 0.0380 - val_mean_absolute_error: 0.1548\n",
      "Epoch 8/50\n",
      "9/9 [==============================] - 0s 8ms/step - loss: 0.0368 - mean_absolute_error: 0.1562 - val_loss: 0.0368 - val_mean_absolute_error: 0.1522\n",
      "Epoch 9/50\n",
      "9/9 [==============================] - 0s 8ms/step - loss: 0.0354 - mean_absolute_error: 0.1533 - val_loss: 0.0356 - val_mean_absolute_error: 0.1497\n",
      "Epoch 10/50\n",
      "9/9 [==============================] - 0s 8ms/step - loss: 0.0340 - mean_absolute_error: 0.1501 - val_loss: 0.0340 - val_mean_absolute_error: 0.1458\n",
      "Epoch 11/50\n",
      "9/9 [==============================] - 0s 8ms/step - loss: 0.0323 - mean_absolute_error: 0.1463 - val_loss: 0.0323 - val_mean_absolute_error: 0.1416\n",
      "Epoch 12/50\n",
      "9/9 [==============================] - 0s 7ms/step - loss: 0.0306 - mean_absolute_error: 0.1422 - val_loss: 0.0305 - val_mean_absolute_error: 0.1374\n",
      "Epoch 13/50\n",
      "9/9 [==============================] - 0s 8ms/step - loss: 0.0285 - mean_absolute_error: 0.1374 - val_loss: 0.0285 - val_mean_absolute_error: 0.1323\n",
      "Epoch 14/50\n",
      "9/9 [==============================] - 0s 8ms/step - loss: 0.0265 - mean_absolute_error: 0.1324 - val_loss: 0.0266 - val_mean_absolute_error: 0.1285\n",
      "Epoch 15/50\n",
      "9/9 [==============================] - 0s 10ms/step - loss: 0.0244 - mean_absolute_error: 0.1275 - val_loss: 0.0248 - val_mean_absolute_error: 0.1245\n",
      "Epoch 16/50\n",
      "9/9 [==============================] - 0s 10ms/step - loss: 0.0222 - mean_absolute_error: 0.1217 - val_loss: 0.0225 - val_mean_absolute_error: 0.1177\n",
      "Epoch 17/50\n",
      "9/9 [==============================] - 0s 10ms/step - loss: 0.0203 - mean_absolute_error: 0.1160 - val_loss: 0.0205 - val_mean_absolute_error: 0.1123\n",
      "Epoch 18/50\n",
      "9/9 [==============================] - 0s 10ms/step - loss: 0.0184 - mean_absolute_error: 0.1107 - val_loss: 0.0188 - val_mean_absolute_error: 0.1076\n",
      "Epoch 19/50\n",
      "9/9 [==============================] - 0s 12ms/step - loss: 0.0168 - mean_absolute_error: 0.1055 - val_loss: 0.0174 - val_mean_absolute_error: 0.1033\n",
      "Epoch 20/50\n",
      "9/9 [==============================] - 0s 13ms/step - loss: 0.0155 - mean_absolute_error: 0.1013 - val_loss: 0.0162 - val_mean_absolute_error: 0.1000\n",
      "Epoch 21/50\n",
      "9/9 [==============================] - 0s 12ms/step - loss: 0.0146 - mean_absolute_error: 0.0982 - val_loss: 0.0154 - val_mean_absolute_error: 0.0974\n",
      "Epoch 22/50\n",
      "9/9 [==============================] - 0s 11ms/step - loss: 0.0138 - mean_absolute_error: 0.0951 - val_loss: 0.0147 - val_mean_absolute_error: 0.0948\n",
      "Epoch 23/50\n",
      "9/9 [==============================] - 0s 10ms/step - loss: 0.0133 - mean_absolute_error: 0.0930 - val_loss: 0.0142 - val_mean_absolute_error: 0.0933\n",
      "Epoch 24/50\n",
      "9/9 [==============================] - 0s 12ms/step - loss: 0.0129 - mean_absolute_error: 0.0914 - val_loss: 0.0141 - val_mean_absolute_error: 0.0926\n",
      "Epoch 25/50\n",
      "9/9 [==============================] - 0s 13ms/step - loss: 0.0126 - mean_absolute_error: 0.0899 - val_loss: 0.0137 - val_mean_absolute_error: 0.0917\n",
      "Epoch 26/50\n",
      "9/9 [==============================] - 0s 12ms/step - loss: 0.0123 - mean_absolute_error: 0.0889 - val_loss: 0.0136 - val_mean_absolute_error: 0.0913\n",
      "Epoch 27/50\n",
      "9/9 [==============================] - 0s 10ms/step - loss: 0.0121 - mean_absolute_error: 0.0880 - val_loss: 0.0134 - val_mean_absolute_error: 0.0908\n",
      "Epoch 28/50\n",
      "9/9 [==============================] - 0s 11ms/step - loss: 0.0120 - mean_absolute_error: 0.0872 - val_loss: 0.0132 - val_mean_absolute_error: 0.0905\n",
      "Epoch 29/50\n",
      "9/9 [==============================] - 0s 12ms/step - loss: 0.0118 - mean_absolute_error: 0.0867 - val_loss: 0.0132 - val_mean_absolute_error: 0.0900\n",
      "Epoch 30/50\n",
      "9/9 [==============================] - 0s 13ms/step - loss: 0.0118 - mean_absolute_error: 0.0864 - val_loss: 0.0130 - val_mean_absolute_error: 0.0898\n",
      "Epoch 31/50\n",
      "9/9 [==============================] - 0s 13ms/step - loss: 0.0116 - mean_absolute_error: 0.0858 - val_loss: 0.0131 - val_mean_absolute_error: 0.0898\n",
      "Epoch 32/50\n",
      "9/9 [==============================] - 0s 13ms/step - loss: 0.0116 - mean_absolute_error: 0.0856 - val_loss: 0.0130 - val_mean_absolute_error: 0.0898\n",
      "Epoch 33/50\n",
      "9/9 [==============================] - 0s 12ms/step - loss: 0.0115 - mean_absolute_error: 0.0852 - val_loss: 0.0130 - val_mean_absolute_error: 0.0896\n",
      "Epoch 34/50\n",
      "9/9 [==============================] - 0s 11ms/step - loss: 0.0115 - mean_absolute_error: 0.0848 - val_loss: 0.0129 - val_mean_absolute_error: 0.0893\n",
      "Epoch 35/50\n",
      "9/9 [==============================] - 0s 11ms/step - loss: 0.0114 - mean_absolute_error: 0.0846 - val_loss: 0.0128 - val_mean_absolute_error: 0.0891\n",
      "Epoch 36/50\n",
      "9/9 [==============================] - 0s 11ms/step - loss: 0.0113 - mean_absolute_error: 0.0843 - val_loss: 0.0128 - val_mean_absolute_error: 0.0888\n",
      "Epoch 37/50\n",
      "9/9 [==============================] - 0s 12ms/step - loss: 0.0112 - mean_absolute_error: 0.0840 - val_loss: 0.0127 - val_mean_absolute_error: 0.0886\n",
      "Epoch 38/50\n",
      "9/9 [==============================] - 0s 11ms/step - loss: 0.0112 - mean_absolute_error: 0.0838 - val_loss: 0.0127 - val_mean_absolute_error: 0.0885\n",
      "Epoch 39/50\n",
      "9/9 [==============================] - 0s 11ms/step - loss: 0.0112 - mean_absolute_error: 0.0835 - val_loss: 0.0126 - val_mean_absolute_error: 0.0885\n",
      "Epoch 40/50\n",
      "9/9 [==============================] - 0s 13ms/step - loss: 0.0111 - mean_absolute_error: 0.0834 - val_loss: 0.0126 - val_mean_absolute_error: 0.0885\n",
      "Epoch 41/50\n",
      "9/9 [==============================] - 0s 14ms/step - loss: 0.0111 - mean_absolute_error: 0.0830 - val_loss: 0.0126 - val_mean_absolute_error: 0.0884\n",
      "Epoch 42/50\n",
      "9/9 [==============================] - 0s 16ms/step - loss: 0.0110 - mean_absolute_error: 0.0828 - val_loss: 0.0126 - val_mean_absolute_error: 0.0882\n",
      "Epoch 43/50\n",
      "9/9 [==============================] - 0s 12ms/step - loss: 0.0110 - mean_absolute_error: 0.0827 - val_loss: 0.0125 - val_mean_absolute_error: 0.0881\n",
      "Epoch 44/50\n",
      "9/9 [==============================] - 0s 11ms/step - loss: 0.0110 - mean_absolute_error: 0.0825 - val_loss: 0.0125 - val_mean_absolute_error: 0.0882\n",
      "Epoch 45/50\n",
      "9/9 [==============================] - 0s 17ms/step - loss: 0.0109 - mean_absolute_error: 0.0823 - val_loss: 0.0124 - val_mean_absolute_error: 0.0876\n",
      "Epoch 46/50\n",
      "9/9 [==============================] - 0s 10ms/step - loss: 0.0108 - mean_absolute_error: 0.0819 - val_loss: 0.0122 - val_mean_absolute_error: 0.0869\n",
      "Epoch 47/50\n",
      "9/9 [==============================] - 0s 11ms/step - loss: 0.0106 - mean_absolute_error: 0.0810 - val_loss: 0.0120 - val_mean_absolute_error: 0.0862\n",
      "Epoch 48/50\n",
      "9/9 [==============================] - 0s 11ms/step - loss: 0.0104 - mean_absolute_error: 0.0802 - val_loss: 0.0118 - val_mean_absolute_error: 0.0857\n",
      "Epoch 49/50\n",
      "9/9 [==============================] - 0s 10ms/step - loss: 0.0103 - mean_absolute_error: 0.0796 - val_loss: 0.0116 - val_mean_absolute_error: 0.0850\n",
      "Epoch 50/50\n",
      "9/9 [==============================] - 0s 10ms/step - loss: 0.0101 - mean_absolute_error: 0.0786 - val_loss: 0.0115 - val_mean_absolute_error: 0.0841\n"
     ]
    },
    {
     "data": {
      "text/plain": [
       "<keras.callbacks.History at 0x1969335c050>"
      ]
     },
     "execution_count": 28,
     "metadata": {},
     "output_type": "execute_result"
    }
   ],
   "source": [
    "# fiiting model on train data\n",
    "model.fit(x = X_train, y = Y_train, batch_size = 100, epochs = 50, verbose = 1, validation_data = (X_test, Y_test))"
   ]
  },
  {
   "cell_type": "code",
   "execution_count": 29,
   "id": "d460e754-3937-4918-bb1b-4737f2801851",
   "metadata": {
    "tags": []
   },
   "outputs": [
    {
     "name": "stdout",
     "output_type": "stream",
     "text": [
      "7/7 [==============================] - 0s 2ms/step\n"
     ]
    },
    {
     "data": {
      "text/html": [
       "<div>\n",
       "<style scoped>\n",
       "    .dataframe tbody tr th:only-of-type {\n",
       "        vertical-align: middle;\n",
       "    }\n",
       "\n",
       "    .dataframe tbody tr th {\n",
       "        vertical-align: top;\n",
       "    }\n",
       "\n",
       "    .dataframe thead th {\n",
       "        text-align: right;\n",
       "    }\n",
       "</style>\n",
       "<table border=\"1\" class=\"dataframe\">\n",
       "  <thead>\n",
       "    <tr style=\"text-align: right;\">\n",
       "      <th></th>\n",
       "      <th>0</th>\n",
       "    </tr>\n",
       "  </thead>\n",
       "  <tbody>\n",
       "    <tr>\n",
       "      <th>0</th>\n",
       "      <td>0.221817</td>\n",
       "    </tr>\n",
       "    <tr>\n",
       "      <th>1</th>\n",
       "      <td>0.246601</td>\n",
       "    </tr>\n",
       "    <tr>\n",
       "      <th>2</th>\n",
       "      <td>0.196062</td>\n",
       "    </tr>\n",
       "    <tr>\n",
       "      <th>3</th>\n",
       "      <td>0.527349</td>\n",
       "    </tr>\n",
       "    <tr>\n",
       "      <th>4</th>\n",
       "      <td>0.535495</td>\n",
       "    </tr>\n",
       "    <tr>\n",
       "      <th>...</th>\n",
       "      <td>...</td>\n",
       "    </tr>\n",
       "    <tr>\n",
       "      <th>201</th>\n",
       "      <td>0.467896</td>\n",
       "    </tr>\n",
       "    <tr>\n",
       "      <th>202</th>\n",
       "      <td>0.216492</td>\n",
       "    </tr>\n",
       "    <tr>\n",
       "      <th>203</th>\n",
       "      <td>0.279067</td>\n",
       "    </tr>\n",
       "    <tr>\n",
       "      <th>204</th>\n",
       "      <td>0.581830</td>\n",
       "    </tr>\n",
       "    <tr>\n",
       "      <th>205</th>\n",
       "      <td>0.362530</td>\n",
       "    </tr>\n",
       "  </tbody>\n",
       "</table>\n",
       "<p>206 rows × 1 columns</p>\n",
       "</div>"
      ],
      "text/plain": [
       "            0\n",
       "0    0.221817\n",
       "1    0.246601\n",
       "2    0.196062\n",
       "3    0.527349\n",
       "4    0.535495\n",
       "..        ...\n",
       "201  0.467896\n",
       "202  0.216492\n",
       "203  0.279067\n",
       "204  0.581830\n",
       "205  0.362530\n",
       "\n",
       "[206 rows x 1 columns]"
      ]
     },
     "execution_count": 29,
     "metadata": {},
     "output_type": "execute_result"
    }
   ],
   "source": [
    "# Prediction on test data\n",
    "results = pd.DataFrame(model.predict(X_test, verbose = 1))\n",
    "results"
   ]
  },
  {
   "cell_type": "code",
   "execution_count": 30,
   "id": "5e932f1d-cdd3-4551-8d18-d0ece1c9f0fa",
   "metadata": {
    "tags": []
   },
   "outputs": [
    {
     "name": "stdout",
     "output_type": "stream",
     "text": [
      "7/7 [==============================] - 0s 2ms/step - loss: 0.0115 - mean_absolute_error: 0.0841\n",
      "Accuracy: 91.588%\n"
     ]
    }
   ],
   "source": [
    "# Evaluating the model on test data\n",
    "eval_score_test = model.evaluate(X_test, Y_test, verbose = 1)\n",
    "# Accuracy on test data set\n",
    "print(\"Accuracy: %.3f%%\" %((1-eval_score_test[1])*100))"
   ]
  },
  {
   "cell_type": "code",
   "execution_count": 31,
   "id": "205b6405-20b4-4f6e-88a5-b2ed5841e414",
   "metadata": {
    "tags": []
   },
   "outputs": [
    {
     "name": "stdout",
     "output_type": "stream",
     "text": [
      "Accuracy: 92.203%\n"
     ]
    }
   ],
   "source": [
    "# Accuracy score on train data\n",
    "eval_score_train = model.evaluate(X_train, Y_train, verbose = 0)\n",
    "print(\"Accuracy: %.3f%%\" %((1-eval_score_train[1])*100))"
   ]
  },
  {
   "cell_type": "code",
   "execution_count": null,
   "id": "3a43e922-5bc1-4470-8e89-5bfb94dd6c63",
   "metadata": {},
   "outputs": [],
   "source": []
  },
  {
   "cell_type": "code",
   "execution_count": null,
   "id": "81188990-cd9a-4f58-9191-0bfb31ddaeca",
   "metadata": {},
   "outputs": [],
   "source": []
  },
  {
   "cell_type": "code",
   "execution_count": null,
   "id": "1bb44695-764a-4735-ac56-470774fd30c0",
   "metadata": {},
   "outputs": [],
   "source": []
  }
 ],
 "metadata": {
  "kernelspec": {
   "display_name": "Python 3 (ipykernel)",
   "language": "python",
   "name": "python3"
  },
  "language_info": {
   "codemirror_mode": {
    "name": "ipython",
    "version": 3
   },
   "file_extension": ".py",
   "mimetype": "text/x-python",
   "name": "python",
   "nbconvert_exporter": "python",
   "pygments_lexer": "ipython3",
   "version": "3.8.10"
  }
 },
 "nbformat": 4,
 "nbformat_minor": 5
}
