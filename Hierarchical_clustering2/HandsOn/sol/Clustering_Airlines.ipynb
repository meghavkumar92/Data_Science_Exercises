{
 "cells": [
  {
   "cell_type": "markdown",
   "id": "7a54aca3",
   "metadata": {},
   "source": [
    "## Perform clustering for the airlines data to obtain optimum number of clusters."
   ]
  },
  {
   "cell_type": "code",
   "execution_count": null,
   "id": "f0034087",
   "metadata": {},
   "outputs": [],
   "source": [
    "#Import required packages"
   ]
  },
  {
   "cell_type": "code",
   "execution_count": 1,
   "id": "0fdd972b",
   "metadata": {},
   "outputs": [],
   "source": [
    "import pandas as pd\n",
    "import matplotlib.pyplot as plt\n",
    "import seaborn as sns\n",
    "import numpy as np\n",
    "from sklearn import preprocessing\n",
    "from feature_engine.outliers import Winsorizer"
   ]
  },
  {
   "cell_type": "code",
   "execution_count": 2,
   "id": "55b661fe",
   "metadata": {},
   "outputs": [
    {
     "data": {
      "text/plain": [
       "Index(['ID#', 'Balance', 'Qual_miles', 'cc1_miles', 'cc2_miles', 'cc3_miles',\n",
       "       'Bonus_miles', 'Bonus_trans', 'Flight_miles_12mo', 'Flight_trans_12',\n",
       "       'Days_since_enroll', 'Award?'],\n",
       "      dtype='object')"
      ]
     },
     "execution_count": 2,
     "metadata": {},
     "output_type": "execute_result"
    }
   ],
   "source": [
    "df = pd.read_excel(r'D:\\360digi\\DS\\Sharath\\Hierarchical_clustering2\\HandsOn\\Dataset_Assignment Clustering\\EastWestAirlines.xlsx', sheet_name = 1)\n",
    "df.columns"
   ]
  },
  {
   "cell_type": "code",
   "execution_count": 3,
   "id": "06b569de",
   "metadata": {},
   "outputs": [
    {
     "data": {
      "text/html": [
       "<div>\n",
       "<style scoped>\n",
       "    .dataframe tbody tr th:only-of-type {\n",
       "        vertical-align: middle;\n",
       "    }\n",
       "\n",
       "    .dataframe tbody tr th {\n",
       "        vertical-align: top;\n",
       "    }\n",
       "\n",
       "    .dataframe thead th {\n",
       "        text-align: right;\n",
       "    }\n",
       "</style>\n",
       "<table border=\"1\" class=\"dataframe\">\n",
       "  <thead>\n",
       "    <tr style=\"text-align: right;\">\n",
       "      <th></th>\n",
       "      <th>ID#</th>\n",
       "      <th>Balance</th>\n",
       "      <th>Qual_miles</th>\n",
       "      <th>cc1_miles</th>\n",
       "      <th>cc2_miles</th>\n",
       "      <th>cc3_miles</th>\n",
       "      <th>Bonus_miles</th>\n",
       "      <th>Bonus_trans</th>\n",
       "      <th>Flight_miles_12mo</th>\n",
       "      <th>Flight_trans_12</th>\n",
       "      <th>Days_since_enroll</th>\n",
       "      <th>Award?</th>\n",
       "    </tr>\n",
       "  </thead>\n",
       "  <tbody>\n",
       "    <tr>\n",
       "      <th>0</th>\n",
       "      <td>1</td>\n",
       "      <td>28143</td>\n",
       "      <td>0</td>\n",
       "      <td>1</td>\n",
       "      <td>1</td>\n",
       "      <td>1</td>\n",
       "      <td>174</td>\n",
       "      <td>1</td>\n",
       "      <td>0</td>\n",
       "      <td>0</td>\n",
       "      <td>7000</td>\n",
       "      <td>0</td>\n",
       "    </tr>\n",
       "    <tr>\n",
       "      <th>1</th>\n",
       "      <td>2</td>\n",
       "      <td>19244</td>\n",
       "      <td>0</td>\n",
       "      <td>1</td>\n",
       "      <td>1</td>\n",
       "      <td>1</td>\n",
       "      <td>215</td>\n",
       "      <td>2</td>\n",
       "      <td>0</td>\n",
       "      <td>0</td>\n",
       "      <td>6968</td>\n",
       "      <td>0</td>\n",
       "    </tr>\n",
       "    <tr>\n",
       "      <th>2</th>\n",
       "      <td>3</td>\n",
       "      <td>41354</td>\n",
       "      <td>0</td>\n",
       "      <td>1</td>\n",
       "      <td>1</td>\n",
       "      <td>1</td>\n",
       "      <td>4123</td>\n",
       "      <td>4</td>\n",
       "      <td>0</td>\n",
       "      <td>0</td>\n",
       "      <td>7034</td>\n",
       "      <td>0</td>\n",
       "    </tr>\n",
       "    <tr>\n",
       "      <th>3</th>\n",
       "      <td>4</td>\n",
       "      <td>14776</td>\n",
       "      <td>0</td>\n",
       "      <td>1</td>\n",
       "      <td>1</td>\n",
       "      <td>1</td>\n",
       "      <td>500</td>\n",
       "      <td>1</td>\n",
       "      <td>0</td>\n",
       "      <td>0</td>\n",
       "      <td>6952</td>\n",
       "      <td>0</td>\n",
       "    </tr>\n",
       "    <tr>\n",
       "      <th>4</th>\n",
       "      <td>5</td>\n",
       "      <td>97752</td>\n",
       "      <td>0</td>\n",
       "      <td>4</td>\n",
       "      <td>1</td>\n",
       "      <td>1</td>\n",
       "      <td>43300</td>\n",
       "      <td>26</td>\n",
       "      <td>2077</td>\n",
       "      <td>4</td>\n",
       "      <td>6935</td>\n",
       "      <td>1</td>\n",
       "    </tr>\n",
       "    <tr>\n",
       "      <th>...</th>\n",
       "      <td>...</td>\n",
       "      <td>...</td>\n",
       "      <td>...</td>\n",
       "      <td>...</td>\n",
       "      <td>...</td>\n",
       "      <td>...</td>\n",
       "      <td>...</td>\n",
       "      <td>...</td>\n",
       "      <td>...</td>\n",
       "      <td>...</td>\n",
       "      <td>...</td>\n",
       "      <td>...</td>\n",
       "    </tr>\n",
       "    <tr>\n",
       "      <th>3994</th>\n",
       "      <td>4017</td>\n",
       "      <td>18476</td>\n",
       "      <td>0</td>\n",
       "      <td>1</td>\n",
       "      <td>1</td>\n",
       "      <td>1</td>\n",
       "      <td>8525</td>\n",
       "      <td>4</td>\n",
       "      <td>200</td>\n",
       "      <td>1</td>\n",
       "      <td>1403</td>\n",
       "      <td>1</td>\n",
       "    </tr>\n",
       "    <tr>\n",
       "      <th>3995</th>\n",
       "      <td>4018</td>\n",
       "      <td>64385</td>\n",
       "      <td>0</td>\n",
       "      <td>1</td>\n",
       "      <td>1</td>\n",
       "      <td>1</td>\n",
       "      <td>981</td>\n",
       "      <td>5</td>\n",
       "      <td>0</td>\n",
       "      <td>0</td>\n",
       "      <td>1395</td>\n",
       "      <td>1</td>\n",
       "    </tr>\n",
       "    <tr>\n",
       "      <th>3996</th>\n",
       "      <td>4019</td>\n",
       "      <td>73597</td>\n",
       "      <td>0</td>\n",
       "      <td>3</td>\n",
       "      <td>1</td>\n",
       "      <td>1</td>\n",
       "      <td>25447</td>\n",
       "      <td>8</td>\n",
       "      <td>0</td>\n",
       "      <td>0</td>\n",
       "      <td>1402</td>\n",
       "      <td>1</td>\n",
       "    </tr>\n",
       "    <tr>\n",
       "      <th>3997</th>\n",
       "      <td>4020</td>\n",
       "      <td>54899</td>\n",
       "      <td>0</td>\n",
       "      <td>1</td>\n",
       "      <td>1</td>\n",
       "      <td>1</td>\n",
       "      <td>500</td>\n",
       "      <td>1</td>\n",
       "      <td>500</td>\n",
       "      <td>1</td>\n",
       "      <td>1401</td>\n",
       "      <td>0</td>\n",
       "    </tr>\n",
       "    <tr>\n",
       "      <th>3998</th>\n",
       "      <td>4021</td>\n",
       "      <td>3016</td>\n",
       "      <td>0</td>\n",
       "      <td>1</td>\n",
       "      <td>1</td>\n",
       "      <td>1</td>\n",
       "      <td>0</td>\n",
       "      <td>0</td>\n",
       "      <td>0</td>\n",
       "      <td>0</td>\n",
       "      <td>1398</td>\n",
       "      <td>0</td>\n",
       "    </tr>\n",
       "  </tbody>\n",
       "</table>\n",
       "<p>3999 rows × 12 columns</p>\n",
       "</div>"
      ],
      "text/plain": [
       "       ID#  Balance  Qual_miles  cc1_miles  cc2_miles  cc3_miles  Bonus_miles  \\\n",
       "0        1    28143           0          1          1          1          174   \n",
       "1        2    19244           0          1          1          1          215   \n",
       "2        3    41354           0          1          1          1         4123   \n",
       "3        4    14776           0          1          1          1          500   \n",
       "4        5    97752           0          4          1          1        43300   \n",
       "...    ...      ...         ...        ...        ...        ...          ...   \n",
       "3994  4017    18476           0          1          1          1         8525   \n",
       "3995  4018    64385           0          1          1          1          981   \n",
       "3996  4019    73597           0          3          1          1        25447   \n",
       "3997  4020    54899           0          1          1          1          500   \n",
       "3998  4021     3016           0          1          1          1            0   \n",
       "\n",
       "      Bonus_trans  Flight_miles_12mo  Flight_trans_12  Days_since_enroll  \\\n",
       "0               1                  0                0               7000   \n",
       "1               2                  0                0               6968   \n",
       "2               4                  0                0               7034   \n",
       "3               1                  0                0               6952   \n",
       "4              26               2077                4               6935   \n",
       "...           ...                ...              ...                ...   \n",
       "3994            4                200                1               1403   \n",
       "3995            5                  0                0               1395   \n",
       "3996            8                  0                0               1402   \n",
       "3997            1                500                1               1401   \n",
       "3998            0                  0                0               1398   \n",
       "\n",
       "      Award?  \n",
       "0          0  \n",
       "1          0  \n",
       "2          0  \n",
       "3          0  \n",
       "4          1  \n",
       "...      ...  \n",
       "3994       1  \n",
       "3995       1  \n",
       "3996       1  \n",
       "3997       0  \n",
       "3998       0  \n",
       "\n",
       "[3999 rows x 12 columns]"
      ]
     },
     "execution_count": 3,
     "metadata": {},
     "output_type": "execute_result"
    }
   ],
   "source": [
    "df"
   ]
  },
  {
   "cell_type": "code",
   "execution_count": 4,
   "id": "7fdc6b83",
   "metadata": {},
   "outputs": [
    {
     "name": "stdout",
     "output_type": "stream",
     "text": [
      "<class 'pandas.core.frame.DataFrame'>\n",
      "RangeIndex: 3999 entries, 0 to 3998\n",
      "Data columns (total 12 columns):\n",
      " #   Column             Non-Null Count  Dtype\n",
      "---  ------             --------------  -----\n",
      " 0   ID#                3999 non-null   int64\n",
      " 1   Balance            3999 non-null   int64\n",
      " 2   Qual_miles         3999 non-null   int64\n",
      " 3   cc1_miles          3999 non-null   int64\n",
      " 4   cc2_miles          3999 non-null   int64\n",
      " 5   cc3_miles          3999 non-null   int64\n",
      " 6   Bonus_miles        3999 non-null   int64\n",
      " 7   Bonus_trans        3999 non-null   int64\n",
      " 8   Flight_miles_12mo  3999 non-null   int64\n",
      " 9   Flight_trans_12    3999 non-null   int64\n",
      " 10  Days_since_enroll  3999 non-null   int64\n",
      " 11  Award?             3999 non-null   int64\n",
      "dtypes: int64(12)\n",
      "memory usage: 375.0 KB\n"
     ]
    }
   ],
   "source": [
    "df.info()"
   ]
  },
  {
   "cell_type": "code",
   "execution_count": 5,
   "id": "dad31bf5",
   "metadata": {},
   "outputs": [],
   "source": [
    "# rename the column\n",
    "df = df.rename(columns = {'Award?':'Award'})"
   ]
  },
  {
   "cell_type": "markdown",
   "id": "689a8d72",
   "metadata": {},
   "source": [
    "## EXPLORATORY DATA ANALYSIS (EDA) / DESCRIPTIVE STATISTICS"
   ]
  },
  {
   "cell_type": "code",
   "execution_count": 6,
   "id": "8026d6f2",
   "metadata": {},
   "outputs": [
    {
     "name": "stdout",
     "output_type": "stream",
     "text": [
      "ID#                   2014.819455\n",
      "Balance              73601.327582\n",
      "Qual_miles             144.114529\n",
      "cc1_miles                2.059515\n",
      "cc2_miles                1.014504\n",
      "cc3_miles                1.012253\n",
      "Bonus_miles          17144.846212\n",
      "Bonus_trans             11.601900\n",
      "Flight_miles_12mo      460.055764\n",
      "Flight_trans_12          1.373593\n",
      "Days_since_enroll     4118.559390\n",
      "Award                    0.370343\n",
      "dtype: float64\n",
      "\n",
      "\n",
      "ID#                   2016.0\n",
      "Balance              43097.0\n",
      "Qual_miles               0.0\n",
      "cc1_miles                1.0\n",
      "cc2_miles                1.0\n",
      "cc3_miles                1.0\n",
      "Bonus_miles           7171.0\n",
      "Bonus_trans             12.0\n",
      "Flight_miles_12mo        0.0\n",
      "Flight_trans_12          0.0\n",
      "Days_since_enroll     4096.0\n",
      "Award                    0.0\n",
      "dtype: float64\n",
      "\n",
      "\n",
      "       ID#  Balance  Qual_miles  cc1_miles  cc2_miles  cc3_miles  Bonus_miles  \\\n",
      "0        1   1000.0         0.0        1.0        1.0        1.0          0.0   \n",
      "1        2      NaN         NaN        NaN        NaN        NaN          NaN   \n",
      "2        3      NaN         NaN        NaN        NaN        NaN          NaN   \n",
      "3        4      NaN         NaN        NaN        NaN        NaN          NaN   \n",
      "4        5      NaN         NaN        NaN        NaN        NaN          NaN   \n",
      "...    ...      ...         ...        ...        ...        ...          ...   \n",
      "3994  4017      NaN         NaN        NaN        NaN        NaN          NaN   \n",
      "3995  4018      NaN         NaN        NaN        NaN        NaN          NaN   \n",
      "3996  4019      NaN         NaN        NaN        NaN        NaN          NaN   \n",
      "3997  4020      NaN         NaN        NaN        NaN        NaN          NaN   \n",
      "3998  4021      NaN         NaN        NaN        NaN        NaN          NaN   \n",
      "\n",
      "      Bonus_trans  Flight_miles_12mo  Flight_trans_12  Days_since_enroll  \\\n",
      "0             0.0                0.0              0.0             8296.0   \n",
      "1             NaN                NaN              NaN                NaN   \n",
      "2             NaN                NaN              NaN                NaN   \n",
      "3             NaN                NaN              NaN                NaN   \n",
      "4             NaN                NaN              NaN                NaN   \n",
      "...           ...                ...              ...                ...   \n",
      "3994          NaN                NaN              NaN                NaN   \n",
      "3995          NaN                NaN              NaN                NaN   \n",
      "3996          NaN                NaN              NaN                NaN   \n",
      "3997          NaN                NaN              NaN                NaN   \n",
      "3998          NaN                NaN              NaN                NaN   \n",
      "\n",
      "      Award  \n",
      "0       0.0  \n",
      "1       NaN  \n",
      "2       NaN  \n",
      "3       NaN  \n",
      "4       NaN  \n",
      "...     ...  \n",
      "3994    NaN  \n",
      "3995    NaN  \n",
      "3996    NaN  \n",
      "3997    NaN  \n",
      "3998    NaN  \n",
      "\n",
      "[3999 rows x 12 columns]\n"
     ]
    }
   ],
   "source": [
    "print(df.mean())\n",
    "print('\\n')\n",
    "print(df.median())\n",
    "print('\\n')\n",
    "print(df.mode())\n",
    "\n",
    "#huge difference in values for mean and median, indicating presence of outliers"
   ]
  },
  {
   "cell_type": "code",
   "execution_count": 7,
   "id": "b96597bc",
   "metadata": {},
   "outputs": [],
   "source": [
    "#2nd Moment Business Decision(Measure of Dispersion)"
   ]
  },
  {
   "cell_type": "code",
   "execution_count": 8,
   "id": "e3d503fc",
   "metadata": {},
   "outputs": [
    {
     "name": "stdout",
     "output_type": "stream",
     "text": [
      "ID#                  1.347374e+06\n",
      "Balance              1.015573e+10\n",
      "Qual_miles           5.985557e+05\n",
      "cc1_miles            1.895907e+00\n",
      "cc2_miles            2.180060e-02\n",
      "cc3_miles            3.811896e-02\n",
      "Bonus_miles          5.832692e+08\n",
      "Bonus_trans          9.223317e+01\n",
      "Flight_miles_12mo    1.960586e+06\n",
      "Flight_trans_12      1.438816e+01\n",
      "Days_since_enroll    4.264781e+06\n",
      "Award                2.332473e-01\n",
      "dtype: float64\n",
      "\n",
      "\n",
      "ID#                    1160.764358\n",
      "Balance              100775.664958\n",
      "Qual_miles              773.663804\n",
      "cc1_miles                 1.376919\n",
      "cc2_miles                 0.147650\n",
      "cc3_miles                 0.195241\n",
      "Bonus_miles           24150.967826\n",
      "Bonus_trans               9.603810\n",
      "Flight_miles_12mo      1400.209171\n",
      "Flight_trans_12           3.793172\n",
      "Days_since_enroll      2065.134540\n",
      "Award                     0.482957\n",
      "dtype: float64\n"
     ]
    }
   ],
   "source": [
    "print(df.var())\n",
    "print('\\n')\n",
    "print(df.std())"
   ]
  },
  {
   "cell_type": "code",
   "execution_count": 9,
   "id": "9bc04d6b",
   "metadata": {},
   "outputs": [],
   "source": [
    "#3rd Business Moment Decision (Skewness)"
   ]
  },
  {
   "cell_type": "code",
   "execution_count": 10,
   "id": "7ff90483",
   "metadata": {},
   "outputs": [
    {
     "data": {
      "text/plain": [
       "ID#                  -0.003343\n",
       "Balance               5.004187\n",
       "Qual_miles            7.512395\n",
       "cc1_miles             0.857569\n",
       "cc2_miles            11.210459\n",
       "cc3_miles            17.195532\n",
       "Bonus_miles           2.842093\n",
       "Bonus_trans           1.157362\n",
       "Flight_miles_12mo     7.451666\n",
       "Flight_trans_12       5.490461\n",
       "Days_since_enroll     0.120174\n",
       "Award                 0.537200\n",
       "dtype: float64"
      ]
     },
     "execution_count": 10,
     "metadata": {},
     "output_type": "execute_result"
    }
   ],
   "source": [
    "df.skew()"
   ]
  },
  {
   "cell_type": "code",
   "execution_count": 11,
   "id": "1e82fdda",
   "metadata": {},
   "outputs": [],
   "source": [
    "#4th Business Moment Decision (Kurtosis)"
   ]
  },
  {
   "cell_type": "code",
   "execution_count": 12,
   "id": "a1a68fea",
   "metadata": {},
   "outputs": [
    {
     "data": {
      "text/plain": [
       "ID#                   -1.199648\n",
       "Balance               44.157932\n",
       "Qual_miles            67.689351\n",
       "cc1_miles             -0.748508\n",
       "cc2_miles            133.786489\n",
       "cc3_miles            308.654728\n",
       "Bonus_miles           13.630489\n",
       "Bonus_trans            2.745737\n",
       "Flight_miles_12mo     94.761019\n",
       "Flight_trans_12       42.978152\n",
       "Days_since_enroll     -0.967505\n",
       "Award                 -1.712272\n",
       "dtype: float64"
      ]
     },
     "execution_count": 12,
     "metadata": {},
     "output_type": "execute_result"
    }
   ],
   "source": [
    "df.kurt()"
   ]
  },
  {
   "cell_type": "code",
   "execution_count": 13,
   "id": "99559a94",
   "metadata": {},
   "outputs": [
    {
     "data": {
      "text/html": [
       "<div>\n",
       "<style scoped>\n",
       "    .dataframe tbody tr th:only-of-type {\n",
       "        vertical-align: middle;\n",
       "    }\n",
       "\n",
       "    .dataframe tbody tr th {\n",
       "        vertical-align: top;\n",
       "    }\n",
       "\n",
       "    .dataframe thead th {\n",
       "        text-align: right;\n",
       "    }\n",
       "</style>\n",
       "<table border=\"1\" class=\"dataframe\">\n",
       "  <thead>\n",
       "    <tr style=\"text-align: right;\">\n",
       "      <th></th>\n",
       "      <th>ID#</th>\n",
       "      <th>Balance</th>\n",
       "      <th>Qual_miles</th>\n",
       "      <th>cc1_miles</th>\n",
       "      <th>cc2_miles</th>\n",
       "      <th>cc3_miles</th>\n",
       "      <th>Bonus_miles</th>\n",
       "      <th>Bonus_trans</th>\n",
       "      <th>Flight_miles_12mo</th>\n",
       "      <th>Flight_trans_12</th>\n",
       "      <th>Days_since_enroll</th>\n",
       "      <th>Award</th>\n",
       "    </tr>\n",
       "  </thead>\n",
       "  <tbody>\n",
       "    <tr>\n",
       "      <th>count</th>\n",
       "      <td>3999.000000</td>\n",
       "      <td>3.999000e+03</td>\n",
       "      <td>3999.000000</td>\n",
       "      <td>3999.000000</td>\n",
       "      <td>3999.000000</td>\n",
       "      <td>3999.000000</td>\n",
       "      <td>3999.000000</td>\n",
       "      <td>3999.00000</td>\n",
       "      <td>3999.000000</td>\n",
       "      <td>3999.000000</td>\n",
       "      <td>3999.00000</td>\n",
       "      <td>3999.000000</td>\n",
       "    </tr>\n",
       "    <tr>\n",
       "      <th>mean</th>\n",
       "      <td>2014.819455</td>\n",
       "      <td>7.360133e+04</td>\n",
       "      <td>144.114529</td>\n",
       "      <td>2.059515</td>\n",
       "      <td>1.014504</td>\n",
       "      <td>1.012253</td>\n",
       "      <td>17144.846212</td>\n",
       "      <td>11.60190</td>\n",
       "      <td>460.055764</td>\n",
       "      <td>1.373593</td>\n",
       "      <td>4118.55939</td>\n",
       "      <td>0.370343</td>\n",
       "    </tr>\n",
       "    <tr>\n",
       "      <th>std</th>\n",
       "      <td>1160.764358</td>\n",
       "      <td>1.007757e+05</td>\n",
       "      <td>773.663804</td>\n",
       "      <td>1.376919</td>\n",
       "      <td>0.147650</td>\n",
       "      <td>0.195241</td>\n",
       "      <td>24150.967826</td>\n",
       "      <td>9.60381</td>\n",
       "      <td>1400.209171</td>\n",
       "      <td>3.793172</td>\n",
       "      <td>2065.13454</td>\n",
       "      <td>0.482957</td>\n",
       "    </tr>\n",
       "    <tr>\n",
       "      <th>min</th>\n",
       "      <td>1.000000</td>\n",
       "      <td>0.000000e+00</td>\n",
       "      <td>0.000000</td>\n",
       "      <td>1.000000</td>\n",
       "      <td>1.000000</td>\n",
       "      <td>1.000000</td>\n",
       "      <td>0.000000</td>\n",
       "      <td>0.00000</td>\n",
       "      <td>0.000000</td>\n",
       "      <td>0.000000</td>\n",
       "      <td>2.00000</td>\n",
       "      <td>0.000000</td>\n",
       "    </tr>\n",
       "    <tr>\n",
       "      <th>25%</th>\n",
       "      <td>1010.500000</td>\n",
       "      <td>1.852750e+04</td>\n",
       "      <td>0.000000</td>\n",
       "      <td>1.000000</td>\n",
       "      <td>1.000000</td>\n",
       "      <td>1.000000</td>\n",
       "      <td>1250.000000</td>\n",
       "      <td>3.00000</td>\n",
       "      <td>0.000000</td>\n",
       "      <td>0.000000</td>\n",
       "      <td>2330.00000</td>\n",
       "      <td>0.000000</td>\n",
       "    </tr>\n",
       "    <tr>\n",
       "      <th>50%</th>\n",
       "      <td>2016.000000</td>\n",
       "      <td>4.309700e+04</td>\n",
       "      <td>0.000000</td>\n",
       "      <td>1.000000</td>\n",
       "      <td>1.000000</td>\n",
       "      <td>1.000000</td>\n",
       "      <td>7171.000000</td>\n",
       "      <td>12.00000</td>\n",
       "      <td>0.000000</td>\n",
       "      <td>0.000000</td>\n",
       "      <td>4096.00000</td>\n",
       "      <td>0.000000</td>\n",
       "    </tr>\n",
       "    <tr>\n",
       "      <th>75%</th>\n",
       "      <td>3020.500000</td>\n",
       "      <td>9.240400e+04</td>\n",
       "      <td>0.000000</td>\n",
       "      <td>3.000000</td>\n",
       "      <td>1.000000</td>\n",
       "      <td>1.000000</td>\n",
       "      <td>23800.500000</td>\n",
       "      <td>17.00000</td>\n",
       "      <td>311.000000</td>\n",
       "      <td>1.000000</td>\n",
       "      <td>5790.50000</td>\n",
       "      <td>1.000000</td>\n",
       "    </tr>\n",
       "    <tr>\n",
       "      <th>max</th>\n",
       "      <td>4021.000000</td>\n",
       "      <td>1.704838e+06</td>\n",
       "      <td>11148.000000</td>\n",
       "      <td>5.000000</td>\n",
       "      <td>3.000000</td>\n",
       "      <td>5.000000</td>\n",
       "      <td>263685.000000</td>\n",
       "      <td>86.00000</td>\n",
       "      <td>30817.000000</td>\n",
       "      <td>53.000000</td>\n",
       "      <td>8296.00000</td>\n",
       "      <td>1.000000</td>\n",
       "    </tr>\n",
       "  </tbody>\n",
       "</table>\n",
       "</div>"
      ],
      "text/plain": [
       "               ID#       Balance    Qual_miles    cc1_miles    cc2_miles  \\\n",
       "count  3999.000000  3.999000e+03   3999.000000  3999.000000  3999.000000   \n",
       "mean   2014.819455  7.360133e+04    144.114529     2.059515     1.014504   \n",
       "std    1160.764358  1.007757e+05    773.663804     1.376919     0.147650   \n",
       "min       1.000000  0.000000e+00      0.000000     1.000000     1.000000   \n",
       "25%    1010.500000  1.852750e+04      0.000000     1.000000     1.000000   \n",
       "50%    2016.000000  4.309700e+04      0.000000     1.000000     1.000000   \n",
       "75%    3020.500000  9.240400e+04      0.000000     3.000000     1.000000   \n",
       "max    4021.000000  1.704838e+06  11148.000000     5.000000     3.000000   \n",
       "\n",
       "         cc3_miles    Bonus_miles  Bonus_trans  Flight_miles_12mo  \\\n",
       "count  3999.000000    3999.000000   3999.00000        3999.000000   \n",
       "mean      1.012253   17144.846212     11.60190         460.055764   \n",
       "std       0.195241   24150.967826      9.60381        1400.209171   \n",
       "min       1.000000       0.000000      0.00000           0.000000   \n",
       "25%       1.000000    1250.000000      3.00000           0.000000   \n",
       "50%       1.000000    7171.000000     12.00000           0.000000   \n",
       "75%       1.000000   23800.500000     17.00000         311.000000   \n",
       "max       5.000000  263685.000000     86.00000       30817.000000   \n",
       "\n",
       "       Flight_trans_12  Days_since_enroll        Award  \n",
       "count      3999.000000         3999.00000  3999.000000  \n",
       "mean          1.373593         4118.55939     0.370343  \n",
       "std           3.793172         2065.13454     0.482957  \n",
       "min           0.000000            2.00000     0.000000  \n",
       "25%           0.000000         2330.00000     0.000000  \n",
       "50%           0.000000         4096.00000     0.000000  \n",
       "75%           1.000000         5790.50000     1.000000  \n",
       "max          53.000000         8296.00000     1.000000  "
      ]
     },
     "execution_count": 13,
     "metadata": {},
     "output_type": "execute_result"
    }
   ],
   "source": [
    "df.describe()"
   ]
  },
  {
   "cell_type": "code",
   "execution_count": null,
   "id": "7fc45670",
   "metadata": {},
   "outputs": [],
   "source": []
  },
  {
   "cell_type": "code",
   "execution_count": 14,
   "id": "222097b3",
   "metadata": {},
   "outputs": [
    {
     "data": {
      "text/plain": [
       "ID#                  int64\n",
       "Balance              int64\n",
       "Qual_miles           int64\n",
       "cc1_miles            int64\n",
       "cc2_miles            int64\n",
       "cc3_miles            int64\n",
       "Bonus_miles          int64\n",
       "Bonus_trans          int64\n",
       "Flight_miles_12mo    int64\n",
       "Flight_trans_12      int64\n",
       "Days_since_enroll    int64\n",
       "Award                int64\n",
       "dtype: object"
      ]
     },
     "execution_count": 14,
     "metadata": {},
     "output_type": "execute_result"
    }
   ],
   "source": [
    "df.dtypes"
   ]
  },
  {
   "cell_type": "code",
   "execution_count": 15,
   "id": "16426f37",
   "metadata": {},
   "outputs": [],
   "source": [
    "#Drop unwanted column\n",
    "df.drop(['ID#'], axis = 1, inplace = True)"
   ]
  },
  {
   "cell_type": "code",
   "execution_count": 16,
   "id": "eb78d856",
   "metadata": {},
   "outputs": [
    {
     "name": "stdout",
     "output_type": "stream",
     "text": [
      "<class 'pandas.core.frame.DataFrame'>\n",
      "RangeIndex: 3999 entries, 0 to 3998\n",
      "Data columns (total 11 columns):\n",
      " #   Column             Non-Null Count  Dtype\n",
      "---  ------             --------------  -----\n",
      " 0   Balance            3999 non-null   int64\n",
      " 1   Qual_miles         3999 non-null   int64\n",
      " 2   cc1_miles          3999 non-null   int64\n",
      " 3   cc2_miles          3999 non-null   int64\n",
      " 4   cc3_miles          3999 non-null   int64\n",
      " 5   Bonus_miles        3999 non-null   int64\n",
      " 6   Bonus_trans        3999 non-null   int64\n",
      " 7   Flight_miles_12mo  3999 non-null   int64\n",
      " 8   Flight_trans_12    3999 non-null   int64\n",
      " 9   Days_since_enroll  3999 non-null   int64\n",
      " 10  Award              3999 non-null   int64\n",
      "dtypes: int64(11)\n",
      "memory usage: 343.8 KB\n"
     ]
    }
   ],
   "source": [
    "df.info()"
   ]
  },
  {
   "cell_type": "code",
   "execution_count": 17,
   "id": "b24138fe",
   "metadata": {},
   "outputs": [
    {
     "name": "stdout",
     "output_type": "stream",
     "text": [
      "0       False\n",
      "1       False\n",
      "2       False\n",
      "3       False\n",
      "4       False\n",
      "        ...  \n",
      "3994    False\n",
      "3995    False\n",
      "3996    False\n",
      "3997    False\n",
      "3998    False\n",
      "Length: 3999, dtype: bool\n"
     ]
    },
    {
     "data": {
      "text/plain": [
       "1"
      ]
     },
     "execution_count": 17,
     "metadata": {},
     "output_type": "execute_result"
    }
   ],
   "source": [
    "#Handling duplicates\n",
    "duplicate = df.duplicated()\n",
    "print(duplicate)\n",
    "sum(duplicate)"
   ]
  },
  {
   "cell_type": "code",
   "execution_count": 18,
   "id": "32d97d31",
   "metadata": {},
   "outputs": [
    {
     "data": {
      "text/plain": [
       "1"
      ]
     },
     "execution_count": 18,
     "metadata": {},
     "output_type": "execute_result"
    }
   ],
   "source": [
    "sum(duplicate)"
   ]
  },
  {
   "cell_type": "code",
   "execution_count": 19,
   "id": "51868fed",
   "metadata": {},
   "outputs": [
    {
     "data": {
      "text/plain": [
       "array([False,  True])"
      ]
     },
     "execution_count": 19,
     "metadata": {},
     "output_type": "execute_result"
    }
   ],
   "source": [
    "duplicate.unique()  #It contains a 'True' value indicating the duplicate record exists."
   ]
  },
  {
   "cell_type": "code",
   "execution_count": 20,
   "id": "e2698094",
   "metadata": {},
   "outputs": [],
   "source": [
    "#Remove duplicates\n",
    "df = df.drop_duplicates()"
   ]
  },
  {
   "cell_type": "code",
   "execution_count": 21,
   "id": "1b046884",
   "metadata": {},
   "outputs": [
    {
     "name": "stdout",
     "output_type": "stream",
     "text": [
      "<class 'pandas.core.frame.DataFrame'>\n",
      "Int64Index: 3998 entries, 0 to 3998\n",
      "Data columns (total 11 columns):\n",
      " #   Column             Non-Null Count  Dtype\n",
      "---  ------             --------------  -----\n",
      " 0   Balance            3998 non-null   int64\n",
      " 1   Qual_miles         3998 non-null   int64\n",
      " 2   cc1_miles          3998 non-null   int64\n",
      " 3   cc2_miles          3998 non-null   int64\n",
      " 4   cc3_miles          3998 non-null   int64\n",
      " 5   Bonus_miles        3998 non-null   int64\n",
      " 6   Bonus_trans        3998 non-null   int64\n",
      " 7   Flight_miles_12mo  3998 non-null   int64\n",
      " 8   Flight_trans_12    3998 non-null   int64\n",
      " 9   Days_since_enroll  3998 non-null   int64\n",
      " 10  Award              3998 non-null   int64\n",
      "dtypes: int64(11)\n",
      "memory usage: 374.8 KB\n"
     ]
    }
   ],
   "source": [
    "df.info()"
   ]
  },
  {
   "cell_type": "code",
   "execution_count": 22,
   "id": "8d1acb13",
   "metadata": {},
   "outputs": [
    {
     "data": {
      "text/plain": [
       "Balance              0\n",
       "Qual_miles           0\n",
       "cc1_miles            0\n",
       "cc2_miles            0\n",
       "cc3_miles            0\n",
       "Bonus_miles          0\n",
       "Bonus_trans          0\n",
       "Flight_miles_12mo    0\n",
       "Flight_trans_12      0\n",
       "Days_since_enroll    0\n",
       "Award                0\n",
       "dtype: int64"
      ]
     },
     "execution_count": 22,
     "metadata": {},
     "output_type": "execute_result"
    }
   ],
   "source": [
    "#Check for missing values\n",
    "df.isnull().sum() #No missing values"
   ]
  },
  {
   "cell_type": "code",
   "execution_count": 23,
   "id": "4fa0dcd0",
   "metadata": {},
   "outputs": [],
   "source": [
    "#Outlier Analysis"
   ]
  },
  {
   "cell_type": "code",
   "execution_count": 24,
   "id": "986b9b1a",
   "metadata": {},
   "outputs": [
    {
     "data": {
      "image/png": "[encoded data removed]",
      "text/plain": [
       "<Figure size 2000x600 with 11 Axes>"
      ]
     },
     "metadata": {},
     "output_type": "display_data"
    }
   ],
   "source": [
    "#Box plot visualization to view the outliers.\n",
    "\n",
    "df.plot(kind = 'box', subplots = True, sharey = False, figsize = (20, 6))\n",
    "\n",
    "plt.subplots_adjust(wspace = 1.5)\n",
    "plt.show()\n",
    "\n",
    "\n",
    "#Balance, Qual_miles, cc2_miles, cc3_miles, Bonus_miles, Bonus_trans, Flight_miles_12mo, Flight_trans_12 columns have outliers\n"
   ]
  },
  {
   "cell_type": "code",
   "execution_count": 25,
   "id": "039f397f",
   "metadata": {},
   "outputs": [
    {
     "data": {
      "text/plain": [
       "Index(['Balance', 'Qual_miles', 'cc1_miles', 'cc2_miles', 'cc3_miles',\n",
       "       'Bonus_miles', 'Bonus_trans', 'Flight_miles_12mo', 'Flight_trans_12',\n",
       "       'Days_since_enroll', 'Award'],\n",
       "      dtype='object')"
      ]
     },
     "execution_count": 25,
     "metadata": {},
     "output_type": "execute_result"
    }
   ],
   "source": [
    "df.columns"
   ]
  },
  {
   "cell_type": "markdown",
   "id": "3bf2509f",
   "metadata": {},
   "source": [
    "# Winsorizaton"
   ]
  },
  {
   "cell_type": "code",
   "execution_count": 26,
   "id": "e6ae29b8",
   "metadata": {},
   "outputs": [],
   "source": [
    "# Winsorization for \"Balance\" column\n",
    "winsor = Winsorizer(capping_method = 'iqr', tail = 'both', fold = 1.5, variables = ['Balance'])\n",
    "\n",
    "df['Balance'] = winsor.fit_transform(df[['Balance']])\n"
   ]
  },
  {
   "cell_type": "code",
   "execution_count": 27,
   "id": "0c9cf25c",
   "metadata": {},
   "outputs": [],
   "source": [
    "# Winsorization for \"Bonus_miles\" column\n",
    "winsor = Winsorizer(capping_method = 'iqr', tail= 'both', fold = 1.5, variables = ['Bonus_miles'])\n",
    "\n",
    "df['Bonus_miles'] = winsor.fit_transform(df[['Bonus_miles']])"
   ]
  },
  {
   "cell_type": "code",
   "execution_count": 28,
   "id": "27baa5e8",
   "metadata": {},
   "outputs": [],
   "source": [
    "# Winsorization for \"Bonus_trans\" column\n",
    "winsor = Winsorizer(capping_method = 'iqr', tail = 'both', fold = 1.5, variables = ['Bonus_trans'])\n",
    "\n",
    "df['Bonus_trans'] = winsor.fit_transform(df[['Bonus_trans']])"
   ]
  },
  {
   "cell_type": "code",
   "execution_count": 29,
   "id": "13034b18",
   "metadata": {},
   "outputs": [],
   "source": [
    "# Winsorization for \"Flight_miles_12mo\" column\n",
    "winsor = Winsorizer(capping_method = 'iqr', tail = 'both', fold = 1.5, variables = ['Flight_miles_12mo'])\n",
    "\n",
    "df['Flight_miles_12mo'] = winsor.fit_transform(df[['Flight_miles_12mo']])"
   ]
  },
  {
   "cell_type": "code",
   "execution_count": 30,
   "id": "a3d43064",
   "metadata": {},
   "outputs": [],
   "source": [
    "# Winsorization for \"Flight_trans_12\" column\n",
    "\n",
    "winsor = Winsorizer(capping_method = 'iqr', tail = 'both', fold = 1.5, variables=['Flight_trans_12'])\n",
    "\n",
    "df['Flight_trans_12'] = winsor.fit_transform(df[['Flight_trans_12']])"
   ]
  },
  {
   "cell_type": "code",
   "execution_count": 31,
   "id": "d5875b44",
   "metadata": {},
   "outputs": [
    {
     "data": {
      "image/png": "[encoded data removed]",
      "text/plain": [
       "<Figure size 2000x600 with 11 Axes>"
      ]
     },
     "metadata": {},
     "output_type": "display_data"
    }
   ],
   "source": [
    "#Box plot visualization to view after the removal of outliers.\n",
    "\n",
    "df.plot(kind = 'box', subplots = True, sharey = False, figsize = (20, 6))\n",
    "\n",
    "plt.subplots_adjust(wspace = 1.5)\n",
    "plt.show()\n"
   ]
  },
  {
   "cell_type": "code",
   "execution_count": null,
   "id": "1adf6a2a",
   "metadata": {},
   "outputs": [],
   "source": [
    "# Winsorization technique cannot be applied to columns 'Qual_miles, cc2_miles, cc3_miles ' because the variation in data is low. "
   ]
  },
  {
   "cell_type": "code",
   "execution_count": null,
   "id": "8ff16653",
   "metadata": {
    "scrolled": true
   },
   "outputs": [],
   "source": [
    "# Winsorization for \"Qual_miles\" column\n",
    "#winsor = Winsorizer(capping_method = 'iqr', tail =  'both', fold = 1.5, variables = ['Qual_miles'])\n",
    "\n",
    "#df['Qual_miles'] = winsor.fit_transform(df[['Qual_miles']])"
   ]
  },
  {
   "cell_type": "code",
   "execution_count": null,
   "id": "02c1f410",
   "metadata": {},
   "outputs": [],
   "source": [
    "# Winsorization for \"cc2_miles\" column\n",
    "#winsor = Winsorizer(capping_method = 'iqr', tail= 'both', fold = 1.5, variables = ['cc2_miles'])\n",
    "\n",
    "#df['cc2_miles'] = winsor.fit_transform(df[['cc2_miles']])"
   ]
  },
  {
   "cell_type": "code",
   "execution_count": null,
   "id": "067b49cb",
   "metadata": {},
   "outputs": [],
   "source": [
    "#winsor = Winsorizer(capping_method = 'quantiles', tail= 'both', fold = 0.20, variables = ['cc2_miles'])\n",
    "\n",
    "#df['cc2_miles'] = winsor.fit_transform(df[['cc2_miles']])"
   ]
  },
  {
   "cell_type": "code",
   "execution_count": null,
   "id": "2baf4a2b",
   "metadata": {},
   "outputs": [],
   "source": [
    "# Winsorization for \"cc3_miles\" column\n",
    "#winsor = Winsorizer(capping_method = 'iqr', tail= 'both', fold = 1.5, variables = ['cc3_miles'])\n",
    "\n",
    "#df['cc3_miles'] = winsor.fit_transform(df[['cc3_miles']])"
   ]
  },
  {
   "cell_type": "code",
   "execution_count": 32,
   "id": "361b9be7",
   "metadata": {},
   "outputs": [
    {
     "name": "stdout",
     "output_type": "stream",
     "text": [
      "<class 'pandas.core.frame.DataFrame'>\n",
      "Int64Index: 3998 entries, 0 to 3998\n",
      "Data columns (total 11 columns):\n",
      " #   Column             Non-Null Count  Dtype  \n",
      "---  ------             --------------  -----  \n",
      " 0   Balance            3998 non-null   float64\n",
      " 1   Qual_miles         3998 non-null   int64  \n",
      " 2   cc1_miles          3998 non-null   int64  \n",
      " 3   cc2_miles          3998 non-null   int64  \n",
      " 4   cc3_miles          3998 non-null   int64  \n",
      " 5   Bonus_miles        3998 non-null   float64\n",
      " 6   Bonus_trans        3998 non-null   float64\n",
      " 7   Flight_miles_12mo  3998 non-null   float64\n",
      " 8   Flight_trans_12    3998 non-null   float64\n",
      " 9   Days_since_enroll  3998 non-null   int64  \n",
      " 10  Award              3998 non-null   int64  \n",
      "dtypes: float64(5), int64(6)\n",
      "memory usage: 374.8 KB\n"
     ]
    }
   ],
   "source": [
    "df.info()"
   ]
  },
  {
   "cell_type": "code",
   "execution_count": null,
   "id": "973a6cce",
   "metadata": {},
   "outputs": [],
   "source": [
    "# We consider these columns 'Qual_miles, cc2_miles, cc3_miles ' as it is and proceed to scale the data."
   ]
  },
  {
   "cell_type": "markdown",
   "id": "82e4848f",
   "metadata": {},
   "source": [
    "# Normalization"
   ]
  },
  {
   "cell_type": "code",
   "execution_count": 33,
   "id": "ce240f1e",
   "metadata": {},
   "outputs": [],
   "source": [
    "def norm_func(i):\n",
    "    x = (i-i.min()) / (i.max() - i.min())\n",
    "    return(x)"
   ]
  },
  {
   "cell_type": "code",
   "execution_count": 34,
   "id": "1ec5fcf8",
   "metadata": {},
   "outputs": [],
   "source": [
    "df_norm = norm_func(df.iloc[:,:])"
   ]
  },
  {
   "cell_type": "code",
   "execution_count": 35,
   "id": "2f1095d3",
   "metadata": {},
   "outputs": [
    {
     "data": {
      "text/html": [
       "<div>\n",
       "<style scoped>\n",
       "    .dataframe tbody tr th:only-of-type {\n",
       "        vertical-align: middle;\n",
       "    }\n",
       "\n",
       "    .dataframe tbody tr th {\n",
       "        vertical-align: top;\n",
       "    }\n",
       "\n",
       "    .dataframe thead th {\n",
       "        text-align: right;\n",
       "    }\n",
       "</style>\n",
       "<table border=\"1\" class=\"dataframe\">\n",
       "  <thead>\n",
       "    <tr style=\"text-align: right;\">\n",
       "      <th></th>\n",
       "      <th>Balance</th>\n",
       "      <th>Qual_miles</th>\n",
       "      <th>cc1_miles</th>\n",
       "      <th>cc2_miles</th>\n",
       "      <th>cc3_miles</th>\n",
       "      <th>Bonus_miles</th>\n",
       "      <th>Bonus_trans</th>\n",
       "      <th>Flight_miles_12mo</th>\n",
       "      <th>Flight_trans_12</th>\n",
       "      <th>Days_since_enroll</th>\n",
       "      <th>Award</th>\n",
       "    </tr>\n",
       "  </thead>\n",
       "  <tbody>\n",
       "    <tr>\n",
       "      <th>count</th>\n",
       "      <td>3998.000000</td>\n",
       "      <td>3998.000000</td>\n",
       "      <td>3998.000000</td>\n",
       "      <td>3998.000000</td>\n",
       "      <td>3998.000000</td>\n",
       "      <td>3998.000000</td>\n",
       "      <td>3998.000000</td>\n",
       "      <td>3998.000000</td>\n",
       "      <td>3998.000000</td>\n",
       "      <td>3998.000000</td>\n",
       "      <td>3998.000000</td>\n",
       "    </tr>\n",
       "    <tr>\n",
       "      <th>mean</th>\n",
       "      <td>0.313880</td>\n",
       "      <td>0.012931</td>\n",
       "      <td>0.264945</td>\n",
       "      <td>0.007254</td>\n",
       "      <td>0.003064</td>\n",
       "      <td>0.267405</td>\n",
       "      <td>0.301934</td>\n",
       "      <td>0.228376</td>\n",
       "      <td>0.236668</td>\n",
       "      <td>0.496406</td>\n",
       "      <td>0.370435</td>\n",
       "    </tr>\n",
       "    <tr>\n",
       "      <th>std</th>\n",
       "      <td>0.288722</td>\n",
       "      <td>0.069408</td>\n",
       "      <td>0.344247</td>\n",
       "      <td>0.073834</td>\n",
       "      <td>0.048816</td>\n",
       "      <td>0.313598</td>\n",
       "      <td>0.239854</td>\n",
       "      <td>0.378327</td>\n",
       "      <td>0.377959</td>\n",
       "      <td>0.248976</td>\n",
       "      <td>0.482982</td>\n",
       "    </tr>\n",
       "    <tr>\n",
       "      <th>min</th>\n",
       "      <td>0.000000</td>\n",
       "      <td>0.000000</td>\n",
       "      <td>0.000000</td>\n",
       "      <td>0.000000</td>\n",
       "      <td>0.000000</td>\n",
       "      <td>0.000000</td>\n",
       "      <td>0.000000</td>\n",
       "      <td>0.000000</td>\n",
       "      <td>0.000000</td>\n",
       "      <td>0.000000</td>\n",
       "      <td>0.000000</td>\n",
       "    </tr>\n",
       "    <tr>\n",
       "      <th>25%</th>\n",
       "      <td>0.091207</td>\n",
       "      <td>0.000000</td>\n",
       "      <td>0.000000</td>\n",
       "      <td>0.000000</td>\n",
       "      <td>0.000000</td>\n",
       "      <td>0.021682</td>\n",
       "      <td>0.078947</td>\n",
       "      <td>0.000000</td>\n",
       "      <td>0.000000</td>\n",
       "      <td>0.280836</td>\n",
       "      <td>0.000000</td>\n",
       "    </tr>\n",
       "    <tr>\n",
       "      <th>50%</th>\n",
       "      <td>0.212282</td>\n",
       "      <td>0.000000</td>\n",
       "      <td>0.000000</td>\n",
       "      <td>0.000000</td>\n",
       "      <td>0.000000</td>\n",
       "      <td>0.124593</td>\n",
       "      <td>0.315789</td>\n",
       "      <td>0.000000</td>\n",
       "      <td>0.000000</td>\n",
       "      <td>0.493791</td>\n",
       "      <td>0.000000</td>\n",
       "    </tr>\n",
       "    <tr>\n",
       "      <th>75%</th>\n",
       "      <td>0.454724</td>\n",
       "      <td>0.000000</td>\n",
       "      <td>0.500000</td>\n",
       "      <td>0.000000</td>\n",
       "      <td>0.000000</td>\n",
       "      <td>0.413009</td>\n",
       "      <td>0.447368</td>\n",
       "      <td>0.400000</td>\n",
       "      <td>0.400000</td>\n",
       "      <td>0.697944</td>\n",
       "      <td>1.000000</td>\n",
       "    </tr>\n",
       "    <tr>\n",
       "      <th>max</th>\n",
       "      <td>1.000000</td>\n",
       "      <td>1.000000</td>\n",
       "      <td>1.000000</td>\n",
       "      <td>1.000000</td>\n",
       "      <td>1.000000</td>\n",
       "      <td>1.000000</td>\n",
       "      <td>1.000000</td>\n",
       "      <td>1.000000</td>\n",
       "      <td>1.000000</td>\n",
       "      <td>1.000000</td>\n",
       "      <td>1.000000</td>\n",
       "    </tr>\n",
       "  </tbody>\n",
       "</table>\n",
       "</div>"
      ],
      "text/plain": [
       "           Balance   Qual_miles    cc1_miles    cc2_miles    cc3_miles  \\\n",
       "count  3998.000000  3998.000000  3998.000000  3998.000000  3998.000000   \n",
       "mean      0.313880     0.012931     0.264945     0.007254     0.003064   \n",
       "std       0.288722     0.069408     0.344247     0.073834     0.048816   \n",
       "min       0.000000     0.000000     0.000000     0.000000     0.000000   \n",
       "25%       0.091207     0.000000     0.000000     0.000000     0.000000   \n",
       "50%       0.212282     0.000000     0.000000     0.000000     0.000000   \n",
       "75%       0.454724     0.000000     0.500000     0.000000     0.000000   \n",
       "max       1.000000     1.000000     1.000000     1.000000     1.000000   \n",
       "\n",
       "       Bonus_miles  Bonus_trans  Flight_miles_12mo  Flight_trans_12  \\\n",
       "count  3998.000000  3998.000000        3998.000000      3998.000000   \n",
       "mean      0.267405     0.301934           0.228376         0.236668   \n",
       "std       0.313598     0.239854           0.378327         0.377959   \n",
       "min       0.000000     0.000000           0.000000         0.000000   \n",
       "25%       0.021682     0.078947           0.000000         0.000000   \n",
       "50%       0.124593     0.315789           0.000000         0.000000   \n",
       "75%       0.413009     0.447368           0.400000         0.400000   \n",
       "max       1.000000     1.000000           1.000000         1.000000   \n",
       "\n",
       "       Days_since_enroll        Award  \n",
       "count        3998.000000  3998.000000  \n",
       "mean            0.496406     0.370435  \n",
       "std             0.248976     0.482982  \n",
       "min             0.000000     0.000000  \n",
       "25%             0.280836     0.000000  \n",
       "50%             0.493791     0.000000  \n",
       "75%             0.697944     1.000000  \n",
       "max             1.000000     1.000000  "
      ]
     },
     "execution_count": 35,
     "metadata": {},
     "output_type": "execute_result"
    }
   ],
   "source": [
    "df_norm.describe()"
   ]
  },
  {
   "cell_type": "code",
   "execution_count": 36,
   "id": "5a203332",
   "metadata": {},
   "outputs": [
    {
     "data": {
      "text/html": [
       "<div>\n",
       "<style scoped>\n",
       "    .dataframe tbody tr th:only-of-type {\n",
       "        vertical-align: middle;\n",
       "    }\n",
       "\n",
       "    .dataframe tbody tr th {\n",
       "        vertical-align: top;\n",
       "    }\n",
       "\n",
       "    .dataframe thead th {\n",
       "        text-align: right;\n",
       "    }\n",
       "</style>\n",
       "<table border=\"1\" class=\"dataframe\">\n",
       "  <thead>\n",
       "    <tr style=\"text-align: right;\">\n",
       "      <th></th>\n",
       "      <th>Balance</th>\n",
       "      <th>Qual_miles</th>\n",
       "      <th>cc1_miles</th>\n",
       "      <th>cc2_miles</th>\n",
       "      <th>cc3_miles</th>\n",
       "      <th>Bonus_miles</th>\n",
       "      <th>Bonus_trans</th>\n",
       "      <th>Flight_miles_12mo</th>\n",
       "      <th>Flight_trans_12</th>\n",
       "      <th>Days_since_enroll</th>\n",
       "      <th>Award</th>\n",
       "    </tr>\n",
       "  </thead>\n",
       "  <tbody>\n",
       "    <tr>\n",
       "      <th>0</th>\n",
       "      <td>0.138491</td>\n",
       "      <td>0.0</td>\n",
       "      <td>0.00</td>\n",
       "      <td>0.0</td>\n",
       "      <td>0.0</td>\n",
       "      <td>0.003018</td>\n",
       "      <td>0.026316</td>\n",
       "      <td>0.0</td>\n",
       "      <td>0.0</td>\n",
       "      <td>0.843742</td>\n",
       "      <td>0.0</td>\n",
       "    </tr>\n",
       "    <tr>\n",
       "      <th>1</th>\n",
       "      <td>0.094700</td>\n",
       "      <td>0.0</td>\n",
       "      <td>0.00</td>\n",
       "      <td>0.0</td>\n",
       "      <td>0.0</td>\n",
       "      <td>0.003729</td>\n",
       "      <td>0.052632</td>\n",
       "      <td>0.0</td>\n",
       "      <td>0.0</td>\n",
       "      <td>0.839884</td>\n",
       "      <td>0.0</td>\n",
       "    </tr>\n",
       "    <tr>\n",
       "      <th>2</th>\n",
       "      <td>0.203503</td>\n",
       "      <td>0.0</td>\n",
       "      <td>0.00</td>\n",
       "      <td>0.0</td>\n",
       "      <td>0.0</td>\n",
       "      <td>0.071515</td>\n",
       "      <td>0.105263</td>\n",
       "      <td>0.0</td>\n",
       "      <td>0.0</td>\n",
       "      <td>0.847842</td>\n",
       "      <td>0.0</td>\n",
       "    </tr>\n",
       "    <tr>\n",
       "      <th>3</th>\n",
       "      <td>0.072713</td>\n",
       "      <td>0.0</td>\n",
       "      <td>0.00</td>\n",
       "      <td>0.0</td>\n",
       "      <td>0.0</td>\n",
       "      <td>0.008673</td>\n",
       "      <td>0.026316</td>\n",
       "      <td>0.0</td>\n",
       "      <td>0.0</td>\n",
       "      <td>0.837955</td>\n",
       "      <td>0.0</td>\n",
       "    </tr>\n",
       "    <tr>\n",
       "      <th>4</th>\n",
       "      <td>0.481037</td>\n",
       "      <td>0.0</td>\n",
       "      <td>0.75</td>\n",
       "      <td>0.0</td>\n",
       "      <td>0.0</td>\n",
       "      <td>0.751060</td>\n",
       "      <td>0.684211</td>\n",
       "      <td>1.0</td>\n",
       "      <td>1.0</td>\n",
       "      <td>0.835905</td>\n",
       "      <td>1.0</td>\n",
       "    </tr>\n",
       "  </tbody>\n",
       "</table>\n",
       "</div>"
      ],
      "text/plain": [
       "    Balance  Qual_miles  cc1_miles  cc2_miles  cc3_miles  Bonus_miles  \\\n",
       "0  0.138491         0.0       0.00        0.0        0.0     0.003018   \n",
       "1  0.094700         0.0       0.00        0.0        0.0     0.003729   \n",
       "2  0.203503         0.0       0.00        0.0        0.0     0.071515   \n",
       "3  0.072713         0.0       0.00        0.0        0.0     0.008673   \n",
       "4  0.481037         0.0       0.75        0.0        0.0     0.751060   \n",
       "\n",
       "   Bonus_trans  Flight_miles_12mo  Flight_trans_12  Days_since_enroll  Award  \n",
       "0     0.026316                0.0              0.0           0.843742    0.0  \n",
       "1     0.052632                0.0              0.0           0.839884    0.0  \n",
       "2     0.105263                0.0              0.0           0.847842    0.0  \n",
       "3     0.026316                0.0              0.0           0.837955    0.0  \n",
       "4     0.684211                1.0              1.0           0.835905    1.0  "
      ]
     },
     "execution_count": 36,
     "metadata": {},
     "output_type": "execute_result"
    }
   ],
   "source": [
    "df_norm.head()"
   ]
  },
  {
   "cell_type": "markdown",
   "id": "50c10214",
   "metadata": {},
   "source": [
    "# Hierarchical Clustering"
   ]
  },
  {
   "cell_type": "code",
   "execution_count": 37,
   "id": "f71901e8",
   "metadata": {},
   "outputs": [],
   "source": [
    "from scipy.cluster.hierarchy import linkage, dendrogram\n",
    "from sklearn.cluster import AgglomerativeClustering\n",
    "import matplotlib.pyplot as plt"
   ]
  },
  {
   "cell_type": "code",
   "execution_count": 38,
   "id": "3b3a1fe7",
   "metadata": {},
   "outputs": [
    {
     "data": {
      "image/png": "[encoded data removed]",
      "text/plain": [
       "<Figure size 1600x800 with 1 Axes>"
      ]
     },
     "metadata": {},
     "output_type": "display_data"
    }
   ],
   "source": [
    "plt.figure(1, figsize = (16, 8))\n",
    "tree_plot = dendrogram(linkage(df_norm, method = \"ward\"))\n",
    "\n",
    "plt.title('Hierarchical Clustering Dendrogram')\n",
    "plt.xlabel('Index')\n",
    "plt.ylabel('Euclidean distances')\n",
    "plt.show()"
   ]
  },
  {
   "cell_type": "code",
   "execution_count": 41,
   "id": "b2c0b664",
   "metadata": {},
   "outputs": [
    {
     "data": {
      "text/plain": [
       "array([1, 1, 1, ..., 1, 2, 1], dtype=int64)"
      ]
     },
     "execution_count": 41,
     "metadata": {},
     "output_type": "execute_result"
    }
   ],
   "source": [
    "# Applying AgglomerativeClustering choosing 3 as clusters from the above dendrogram\n",
    "hc1 = AgglomerativeClustering(n_clusters = 3, affinity = 'euclidean', linkage = 'complete' )\n",
    "\n",
    "y_hc1 = hc1.fit_predict(df_norm)\n",
    "y_hc1"
   ]
  },
  {
   "cell_type": "code",
   "execution_count": 42,
   "id": "82131d59",
   "metadata": {},
   "outputs": [
    {
     "data": {
      "text/plain": [
       "array([0, 1, 2], dtype=int64)"
      ]
     },
     "execution_count": 42,
     "metadata": {},
     "output_type": "execute_result"
    }
   ],
   "source": [
    "np.unique(y_hc1)"
   ]
  },
  {
   "cell_type": "code",
   "execution_count": 43,
   "id": "091d8576",
   "metadata": {},
   "outputs": [
    {
     "data": {
      "text/plain": [
       "array([2, 2, 2, ..., 2, 2, 2], dtype=int64)"
      ]
     },
     "execution_count": 43,
     "metadata": {},
     "output_type": "execute_result"
    }
   ],
   "source": [
    "#average linkage\n",
    "hc2 = AgglomerativeClustering(n_clusters = 3, affinity = 'euclidean', linkage = 'average')\n",
    "\n",
    "y_hc2 = hc2.fit_predict(df_norm)\n",
    "y_hc2"
   ]
  },
  {
   "cell_type": "code",
   "execution_count": 44,
   "id": "381f94c6",
   "metadata": {},
   "outputs": [
    {
     "data": {
      "text/plain": [
       "array([0, 1, 2], dtype=int64)"
      ]
     },
     "execution_count": 44,
     "metadata": {},
     "output_type": "execute_result"
    }
   ],
   "source": [
    "np.unique(y_hc2)"
   ]
  },
  {
   "cell_type": "code",
   "execution_count": 45,
   "id": "09af54db",
   "metadata": {},
   "outputs": [
    {
     "data": {
      "text/plain": [
       "array([0, 0, 0, ..., 2, 0, 0], dtype=int64)"
      ]
     },
     "execution_count": 45,
     "metadata": {},
     "output_type": "execute_result"
    }
   ],
   "source": [
    "#single linkage\n",
    "hc3 = AgglomerativeClustering(n_clusters = 3, affinity = 'euclidean', linkage = 'single')\n",
    "\n",
    "y_hc3 = hc3.fit_predict(df_norm)\n",
    "y_hc3"
   ]
  },
  {
   "cell_type": "code",
   "execution_count": 46,
   "id": "a9c00422",
   "metadata": {},
   "outputs": [
    {
     "data": {
      "text/plain": [
       "array([0, 1, 2], dtype=int64)"
      ]
     },
     "execution_count": 46,
     "metadata": {},
     "output_type": "execute_result"
    }
   ],
   "source": [
    "np.unique(y_hc3)"
   ]
  },
  {
   "cell_type": "code",
   "execution_count": 47,
   "id": "262d3e2c",
   "metadata": {},
   "outputs": [
    {
     "data": {
      "text/plain": [
       "array([1, 1, 1, ..., 2, 0, 1], dtype=int64)"
      ]
     },
     "execution_count": 47,
     "metadata": {},
     "output_type": "execute_result"
    }
   ],
   "source": [
    "# ward\n",
    "hc4 = AgglomerativeClustering(n_clusters = 3, affinity = 'euclidean', linkage = 'ward')\n",
    "\n",
    "y_hc4 = hc4.fit_predict(df_norm)\n",
    "y_hc4"
   ]
  },
  {
   "cell_type": "code",
   "execution_count": 48,
   "id": "1b0d0391",
   "metadata": {},
   "outputs": [
    {
     "data": {
      "text/plain": [
       "array([1, 1, 1, ..., 1, 2, 1], dtype=int64)"
      ]
     },
     "execution_count": 48,
     "metadata": {},
     "output_type": "execute_result"
    }
   ],
   "source": [
    "hc1.labels_"
   ]
  },
  {
   "cell_type": "code",
   "execution_count": 49,
   "id": "93ca75d3",
   "metadata": {},
   "outputs": [],
   "source": [
    "cluster_labels = pd.Series(hc1.labels_)"
   ]
  },
  {
   "cell_type": "code",
   "execution_count": 50,
   "id": "536963be",
   "metadata": {},
   "outputs": [
    {
     "data": {
      "text/html": [
       "<div>\n",
       "<style scoped>\n",
       "    .dataframe tbody tr th:only-of-type {\n",
       "        vertical-align: middle;\n",
       "    }\n",
       "\n",
       "    .dataframe tbody tr th {\n",
       "        vertical-align: top;\n",
       "    }\n",
       "\n",
       "    .dataframe thead th {\n",
       "        text-align: right;\n",
       "    }\n",
       "</style>\n",
       "<table border=\"1\" class=\"dataframe\">\n",
       "  <thead>\n",
       "    <tr style=\"text-align: right;\">\n",
       "      <th></th>\n",
       "      <th>Balance</th>\n",
       "      <th>Qual_miles</th>\n",
       "      <th>cc1_miles</th>\n",
       "      <th>cc2_miles</th>\n",
       "      <th>cc3_miles</th>\n",
       "      <th>Bonus_miles</th>\n",
       "      <th>Bonus_trans</th>\n",
       "      <th>Flight_miles_12mo</th>\n",
       "      <th>Flight_trans_12</th>\n",
       "      <th>Days_since_enroll</th>\n",
       "      <th>Award</th>\n",
       "      <th>cluster</th>\n",
       "    </tr>\n",
       "  </thead>\n",
       "  <tbody>\n",
       "    <tr>\n",
       "      <th>0</th>\n",
       "      <td>28143.0</td>\n",
       "      <td>0</td>\n",
       "      <td>1</td>\n",
       "      <td>1</td>\n",
       "      <td>1</td>\n",
       "      <td>174.0</td>\n",
       "      <td>1.0</td>\n",
       "      <td>0.00</td>\n",
       "      <td>0.0</td>\n",
       "      <td>7000</td>\n",
       "      <td>0</td>\n",
       "      <td>1.0</td>\n",
       "    </tr>\n",
       "    <tr>\n",
       "      <th>1</th>\n",
       "      <td>19244.0</td>\n",
       "      <td>0</td>\n",
       "      <td>1</td>\n",
       "      <td>1</td>\n",
       "      <td>1</td>\n",
       "      <td>215.0</td>\n",
       "      <td>2.0</td>\n",
       "      <td>0.00</td>\n",
       "      <td>0.0</td>\n",
       "      <td>6968</td>\n",
       "      <td>0</td>\n",
       "      <td>1.0</td>\n",
       "    </tr>\n",
       "    <tr>\n",
       "      <th>2</th>\n",
       "      <td>41354.0</td>\n",
       "      <td>0</td>\n",
       "      <td>1</td>\n",
       "      <td>1</td>\n",
       "      <td>1</td>\n",
       "      <td>4123.0</td>\n",
       "      <td>4.0</td>\n",
       "      <td>0.00</td>\n",
       "      <td>0.0</td>\n",
       "      <td>7034</td>\n",
       "      <td>0</td>\n",
       "      <td>1.0</td>\n",
       "    </tr>\n",
       "    <tr>\n",
       "      <th>3</th>\n",
       "      <td>14776.0</td>\n",
       "      <td>0</td>\n",
       "      <td>1</td>\n",
       "      <td>1</td>\n",
       "      <td>1</td>\n",
       "      <td>500.0</td>\n",
       "      <td>1.0</td>\n",
       "      <td>0.00</td>\n",
       "      <td>0.0</td>\n",
       "      <td>6952</td>\n",
       "      <td>0</td>\n",
       "      <td>1.0</td>\n",
       "    </tr>\n",
       "    <tr>\n",
       "      <th>4</th>\n",
       "      <td>97752.0</td>\n",
       "      <td>0</td>\n",
       "      <td>4</td>\n",
       "      <td>1</td>\n",
       "      <td>1</td>\n",
       "      <td>43300.0</td>\n",
       "      <td>26.0</td>\n",
       "      <td>783.75</td>\n",
       "      <td>2.5</td>\n",
       "      <td>6935</td>\n",
       "      <td>1</td>\n",
       "      <td>0.0</td>\n",
       "    </tr>\n",
       "  </tbody>\n",
       "</table>\n",
       "</div>"
      ],
      "text/plain": [
       "   Balance  Qual_miles  cc1_miles  cc2_miles  cc3_miles  Bonus_miles  \\\n",
       "0  28143.0           0          1          1          1        174.0   \n",
       "1  19244.0           0          1          1          1        215.0   \n",
       "2  41354.0           0          1          1          1       4123.0   \n",
       "3  14776.0           0          1          1          1        500.0   \n",
       "4  97752.0           0          4          1          1      43300.0   \n",
       "\n",
       "   Bonus_trans  Flight_miles_12mo  Flight_trans_12  Days_since_enroll  Award  \\\n",
       "0          1.0               0.00              0.0               7000      0   \n",
       "1          2.0               0.00              0.0               6968      0   \n",
       "2          4.0               0.00              0.0               7034      0   \n",
       "3          1.0               0.00              0.0               6952      0   \n",
       "4         26.0             783.75              2.5               6935      1   \n",
       "\n",
       "   cluster  \n",
       "0      1.0  \n",
       "1      1.0  \n",
       "2      1.0  \n",
       "3      1.0  \n",
       "4      0.0  "
      ]
     },
     "execution_count": 50,
     "metadata": {},
     "output_type": "execute_result"
    }
   ],
   "source": [
    "# Add cluster labels to original Dataset\n",
    "df['cluster'] = cluster_labels\n",
    "df.head()"
   ]
  },
  {
   "cell_type": "markdown",
   "id": "487e50cb",
   "metadata": {},
   "source": [
    "# Cluster Evaluation"
   ]
  },
  {
   "cell_type": "code",
   "execution_count": 51,
   "id": "b03a4ca0",
   "metadata": {},
   "outputs": [
    {
     "data": {
      "text/html": [
       "<div>\n",
       "<style scoped>\n",
       "    .dataframe tbody tr th:only-of-type {\n",
       "        vertical-align: middle;\n",
       "    }\n",
       "\n",
       "    .dataframe tbody tr th {\n",
       "        vertical-align: top;\n",
       "    }\n",
       "\n",
       "    .dataframe thead th {\n",
       "        text-align: right;\n",
       "    }\n",
       "</style>\n",
       "<table border=\"1\" class=\"dataframe\">\n",
       "  <thead>\n",
       "    <tr style=\"text-align: right;\">\n",
       "      <th></th>\n",
       "      <th>Balance</th>\n",
       "      <th>Qual_miles</th>\n",
       "      <th>cc1_miles</th>\n",
       "      <th>cc2_miles</th>\n",
       "      <th>cc3_miles</th>\n",
       "      <th>Bonus_miles</th>\n",
       "      <th>Bonus_trans</th>\n",
       "      <th>Flight_miles_12mo</th>\n",
       "      <th>Flight_trans_12</th>\n",
       "      <th>Days_since_enroll</th>\n",
       "      <th>Award</th>\n",
       "      <th>cluster</th>\n",
       "    </tr>\n",
       "  </thead>\n",
       "  <tbody>\n",
       "    <tr>\n",
       "      <th>2196</th>\n",
       "      <td>16200.000</td>\n",
       "      <td>0</td>\n",
       "      <td>4</td>\n",
       "      <td>1</td>\n",
       "      <td>1</td>\n",
       "      <td>40455.0</td>\n",
       "      <td>17.0</td>\n",
       "      <td>0.0</td>\n",
       "      <td>0.0</td>\n",
       "      <td>3840</td>\n",
       "      <td>1</td>\n",
       "      <td>0.0</td>\n",
       "    </tr>\n",
       "    <tr>\n",
       "      <th>691</th>\n",
       "      <td>105683.000</td>\n",
       "      <td>0</td>\n",
       "      <td>4</td>\n",
       "      <td>1</td>\n",
       "      <td>1</td>\n",
       "      <td>28386.0</td>\n",
       "      <td>17.0</td>\n",
       "      <td>0.0</td>\n",
       "      <td>0.0</td>\n",
       "      <td>6361</td>\n",
       "      <td>0</td>\n",
       "      <td>0.0</td>\n",
       "    </tr>\n",
       "    <tr>\n",
       "      <th>692</th>\n",
       "      <td>203211.125</td>\n",
       "      <td>0</td>\n",
       "      <td>4</td>\n",
       "      <td>1</td>\n",
       "      <td>1</td>\n",
       "      <td>30406.0</td>\n",
       "      <td>28.0</td>\n",
       "      <td>150.0</td>\n",
       "      <td>2.0</td>\n",
       "      <td>6319</td>\n",
       "      <td>1</td>\n",
       "      <td>0.0</td>\n",
       "    </tr>\n",
       "    <tr>\n",
       "      <th>693</th>\n",
       "      <td>203211.125</td>\n",
       "      <td>0</td>\n",
       "      <td>3</td>\n",
       "      <td>1</td>\n",
       "      <td>1</td>\n",
       "      <td>27390.0</td>\n",
       "      <td>17.0</td>\n",
       "      <td>750.0</td>\n",
       "      <td>1.0</td>\n",
       "      <td>6323</td>\n",
       "      <td>1</td>\n",
       "      <td>0.0</td>\n",
       "    </tr>\n",
       "    <tr>\n",
       "      <th>1790</th>\n",
       "      <td>107360.000</td>\n",
       "      <td>0</td>\n",
       "      <td>3</td>\n",
       "      <td>1</td>\n",
       "      <td>1</td>\n",
       "      <td>15641.0</td>\n",
       "      <td>15.0</td>\n",
       "      <td>0.0</td>\n",
       "      <td>0.0</td>\n",
       "      <td>4423</td>\n",
       "      <td>0</td>\n",
       "      <td>0.0</td>\n",
       "    </tr>\n",
       "    <tr>\n",
       "      <th>...</th>\n",
       "      <td>...</td>\n",
       "      <td>...</td>\n",
       "      <td>...</td>\n",
       "      <td>...</td>\n",
       "      <td>...</td>\n",
       "      <td>...</td>\n",
       "      <td>...</td>\n",
       "      <td>...</td>\n",
       "      <td>...</td>\n",
       "      <td>...</td>\n",
       "      <td>...</td>\n",
       "      <td>...</td>\n",
       "    </tr>\n",
       "    <tr>\n",
       "      <th>1815</th>\n",
       "      <td>23854.000</td>\n",
       "      <td>0</td>\n",
       "      <td>3</td>\n",
       "      <td>1</td>\n",
       "      <td>1</td>\n",
       "      <td>22498.0</td>\n",
       "      <td>18.0</td>\n",
       "      <td>250.0</td>\n",
       "      <td>2.5</td>\n",
       "      <td>4274</td>\n",
       "      <td>1</td>\n",
       "      <td>2.0</td>\n",
       "    </tr>\n",
       "    <tr>\n",
       "      <th>2516</th>\n",
       "      <td>40204.000</td>\n",
       "      <td>0</td>\n",
       "      <td>1</td>\n",
       "      <td>1</td>\n",
       "      <td>1</td>\n",
       "      <td>850.0</td>\n",
       "      <td>3.0</td>\n",
       "      <td>350.0</td>\n",
       "      <td>2.0</td>\n",
       "      <td>3006</td>\n",
       "      <td>0</td>\n",
       "      <td>2.0</td>\n",
       "    </tr>\n",
       "    <tr>\n",
       "      <th>744</th>\n",
       "      <td>66572.000</td>\n",
       "      <td>0</td>\n",
       "      <td>2</td>\n",
       "      <td>1</td>\n",
       "      <td>1</td>\n",
       "      <td>8048.0</td>\n",
       "      <td>14.0</td>\n",
       "      <td>450.0</td>\n",
       "      <td>2.0</td>\n",
       "      <td>6240</td>\n",
       "      <td>1</td>\n",
       "      <td>2.0</td>\n",
       "    </tr>\n",
       "    <tr>\n",
       "      <th>3443</th>\n",
       "      <td>5745.000</td>\n",
       "      <td>0</td>\n",
       "      <td>1</td>\n",
       "      <td>1</td>\n",
       "      <td>1</td>\n",
       "      <td>400.0</td>\n",
       "      <td>4.0</td>\n",
       "      <td>400.0</td>\n",
       "      <td>2.5</td>\n",
       "      <td>1067</td>\n",
       "      <td>0</td>\n",
       "      <td>2.0</td>\n",
       "    </tr>\n",
       "    <tr>\n",
       "      <th>3998</th>\n",
       "      <td>3016.000</td>\n",
       "      <td>0</td>\n",
       "      <td>1</td>\n",
       "      <td>1</td>\n",
       "      <td>1</td>\n",
       "      <td>0.0</td>\n",
       "      <td>0.0</td>\n",
       "      <td>0.0</td>\n",
       "      <td>0.0</td>\n",
       "      <td>1398</td>\n",
       "      <td>0</td>\n",
       "      <td>NaN</td>\n",
       "    </tr>\n",
       "  </tbody>\n",
       "</table>\n",
       "<p>3998 rows × 12 columns</p>\n",
       "</div>"
      ],
      "text/plain": [
       "         Balance  Qual_miles  cc1_miles  cc2_miles  cc3_miles  Bonus_miles  \\\n",
       "2196   16200.000           0          4          1          1      40455.0   \n",
       "691   105683.000           0          4          1          1      28386.0   \n",
       "692   203211.125           0          4          1          1      30406.0   \n",
       "693   203211.125           0          3          1          1      27390.0   \n",
       "1790  107360.000           0          3          1          1      15641.0   \n",
       "...          ...         ...        ...        ...        ...          ...   \n",
       "1815   23854.000           0          3          1          1      22498.0   \n",
       "2516   40204.000           0          1          1          1        850.0   \n",
       "744    66572.000           0          2          1          1       8048.0   \n",
       "3443    5745.000           0          1          1          1        400.0   \n",
       "3998    3016.000           0          1          1          1          0.0   \n",
       "\n",
       "      Bonus_trans  Flight_miles_12mo  Flight_trans_12  Days_since_enroll  \\\n",
       "2196         17.0                0.0              0.0               3840   \n",
       "691          17.0                0.0              0.0               6361   \n",
       "692          28.0              150.0              2.0               6319   \n",
       "693          17.0              750.0              1.0               6323   \n",
       "1790         15.0                0.0              0.0               4423   \n",
       "...           ...                ...              ...                ...   \n",
       "1815         18.0              250.0              2.5               4274   \n",
       "2516          3.0              350.0              2.0               3006   \n",
       "744          14.0              450.0              2.0               6240   \n",
       "3443          4.0              400.0              2.5               1067   \n",
       "3998          0.0                0.0              0.0               1398   \n",
       "\n",
       "      Award  cluster  \n",
       "2196      1      0.0  \n",
       "691       0      0.0  \n",
       "692       1      0.0  \n",
       "693       1      0.0  \n",
       "1790      0      0.0  \n",
       "...     ...      ...  \n",
       "1815      1      2.0  \n",
       "2516      0      2.0  \n",
       "744       1      2.0  \n",
       "3443      0      2.0  \n",
       "3998      0      NaN  \n",
       "\n",
       "[3998 rows x 12 columns]"
      ]
     },
     "execution_count": 51,
     "metadata": {},
     "output_type": "execute_result"
    }
   ],
   "source": [
    "df2 = df.sort_values(by = 'cluster', ascending = True)\n",
    "df2"
   ]
  },
  {
   "cell_type": "code",
   "execution_count": 52,
   "id": "70a6506e",
   "metadata": {},
   "outputs": [
    {
     "data": {
      "text/html": [
       "<div>\n",
       "<style scoped>\n",
       "    .dataframe tbody tr th:only-of-type {\n",
       "        vertical-align: middle;\n",
       "    }\n",
       "\n",
       "    .dataframe tbody tr th {\n",
       "        vertical-align: top;\n",
       "    }\n",
       "\n",
       "    .dataframe thead th {\n",
       "        text-align: right;\n",
       "    }\n",
       "</style>\n",
       "<table border=\"1\" class=\"dataframe\">\n",
       "  <thead>\n",
       "    <tr style=\"text-align: right;\">\n",
       "      <th></th>\n",
       "      <th>Balance</th>\n",
       "      <th>Qual_miles</th>\n",
       "      <th>cc1_miles</th>\n",
       "      <th>cc2_miles</th>\n",
       "      <th>cc3_miles</th>\n",
       "      <th>Bonus_miles</th>\n",
       "      <th>Bonus_trans</th>\n",
       "      <th>Flight_miles_12mo</th>\n",
       "      <th>Flight_trans_12</th>\n",
       "      <th>Days_since_enroll</th>\n",
       "      <th>Award</th>\n",
       "    </tr>\n",
       "    <tr>\n",
       "      <th>cluster</th>\n",
       "      <th></th>\n",
       "      <th></th>\n",
       "      <th></th>\n",
       "      <th></th>\n",
       "      <th></th>\n",
       "      <th></th>\n",
       "      <th></th>\n",
       "      <th></th>\n",
       "      <th></th>\n",
       "      <th></th>\n",
       "      <th></th>\n",
       "    </tr>\n",
       "  </thead>\n",
       "  <tbody>\n",
       "    <tr>\n",
       "      <th>0.0</th>\n",
       "      <td>111070.141916</td>\n",
       "      <td>163.385331</td>\n",
       "      <td>4.045455</td>\n",
       "      <td>1.001033</td>\n",
       "      <td>1.040289</td>\n",
       "      <td>41330.970041</td>\n",
       "      <td>19.791322</td>\n",
       "      <td>269.307335</td>\n",
       "      <td>0.852789</td>\n",
       "      <td>4914.201446</td>\n",
       "      <td>0.579545</td>\n",
       "    </tr>\n",
       "    <tr>\n",
       "      <th>1.0</th>\n",
       "      <td>41109.248104</td>\n",
       "      <td>86.947324</td>\n",
       "      <td>1.482090</td>\n",
       "      <td>1.017278</td>\n",
       "      <td>1.003371</td>\n",
       "      <td>6833.798831</td>\n",
       "      <td>8.219975</td>\n",
       "      <td>18.721134</td>\n",
       "      <td>0.087863</td>\n",
       "      <td>3797.384324</td>\n",
       "      <td>0.251159</td>\n",
       "    </tr>\n",
       "    <tr>\n",
       "      <th>2.0</th>\n",
       "      <td>76122.846227</td>\n",
       "      <td>322.913110</td>\n",
       "      <td>1.221037</td>\n",
       "      <td>1.024390</td>\n",
       "      <td>1.003049</td>\n",
       "      <td>8246.483994</td>\n",
       "      <td>10.986280</td>\n",
       "      <td>625.740854</td>\n",
       "      <td>2.029726</td>\n",
       "      <td>4114.304878</td>\n",
       "      <td>0.493902</td>\n",
       "    </tr>\n",
       "  </tbody>\n",
       "</table>\n",
       "</div>"
      ],
      "text/plain": [
       "               Balance  Qual_miles  cc1_miles  cc2_miles  cc3_miles  \\\n",
       "cluster                                                               \n",
       "0.0      111070.141916  163.385331   4.045455   1.001033   1.040289   \n",
       "1.0       41109.248104   86.947324   1.482090   1.017278   1.003371   \n",
       "2.0       76122.846227  322.913110   1.221037   1.024390   1.003049   \n",
       "\n",
       "          Bonus_miles  Bonus_trans  Flight_miles_12mo  Flight_trans_12  \\\n",
       "cluster                                                                  \n",
       "0.0      41330.970041    19.791322         269.307335         0.852789   \n",
       "1.0       6833.798831     8.219975          18.721134         0.087863   \n",
       "2.0       8246.483994    10.986280         625.740854         2.029726   \n",
       "\n",
       "         Days_since_enroll     Award  \n",
       "cluster                               \n",
       "0.0            4914.201446  0.579545  \n",
       "1.0            3797.384324  0.251159  \n",
       "2.0            4114.304878  0.493902  "
      ]
     },
     "execution_count": 52,
     "metadata": {},
     "output_type": "execute_result"
    }
   ],
   "source": [
    "# Aggregate by doing mean of each cluster\n",
    "df2.iloc[:,:].groupby(df2.cluster).mean()"
   ]
  },
  {
   "cell_type": "code",
   "execution_count": 53,
   "id": "744e4361",
   "metadata": {},
   "outputs": [],
   "source": [
    "# Customers belonging to cluster 0 - Has highest number of miles and is eligible for award travel. The freq.flyer credit card usage is high in the past 12 months. \n",
    "# Customers belonging to cluster 2 - Have high number of miles to qualify for Top flight status. High number of flight miles and flight transactions gained in the past 12 months. "
   ]
  },
  {
   "cell_type": "code",
   "execution_count": 54,
   "id": "a93761ae",
   "metadata": {},
   "outputs": [],
   "source": [
    "#Dividing cluster data"
   ]
  },
  {
   "cell_type": "code",
   "execution_count": 55,
   "id": "7d8d8348",
   "metadata": {},
   "outputs": [
    {
     "data": {
      "text/html": [
       "<div>\n",
       "<style scoped>\n",
       "    .dataframe tbody tr th:only-of-type {\n",
       "        vertical-align: middle;\n",
       "    }\n",
       "\n",
       "    .dataframe tbody tr th {\n",
       "        vertical-align: top;\n",
       "    }\n",
       "\n",
       "    .dataframe thead th {\n",
       "        text-align: right;\n",
       "    }\n",
       "</style>\n",
       "<table border=\"1\" class=\"dataframe\">\n",
       "  <thead>\n",
       "    <tr style=\"text-align: right;\">\n",
       "      <th></th>\n",
       "      <th>Balance</th>\n",
       "      <th>Qual_miles</th>\n",
       "      <th>cc1_miles</th>\n",
       "      <th>cc2_miles</th>\n",
       "      <th>cc3_miles</th>\n",
       "      <th>Bonus_miles</th>\n",
       "      <th>Bonus_trans</th>\n",
       "      <th>Flight_miles_12mo</th>\n",
       "      <th>Flight_trans_12</th>\n",
       "      <th>Days_since_enroll</th>\n",
       "      <th>Award</th>\n",
       "      <th>cluster</th>\n",
       "    </tr>\n",
       "  </thead>\n",
       "  <tbody>\n",
       "    <tr>\n",
       "      <th>2196</th>\n",
       "      <td>16200.000</td>\n",
       "      <td>0</td>\n",
       "      <td>4</td>\n",
       "      <td>1</td>\n",
       "      <td>1</td>\n",
       "      <td>40455.000</td>\n",
       "      <td>17.0</td>\n",
       "      <td>0.0</td>\n",
       "      <td>0.0</td>\n",
       "      <td>3840</td>\n",
       "      <td>1</td>\n",
       "      <td>0.0</td>\n",
       "    </tr>\n",
       "    <tr>\n",
       "      <th>691</th>\n",
       "      <td>105683.000</td>\n",
       "      <td>0</td>\n",
       "      <td>4</td>\n",
       "      <td>1</td>\n",
       "      <td>1</td>\n",
       "      <td>28386.000</td>\n",
       "      <td>17.0</td>\n",
       "      <td>0.0</td>\n",
       "      <td>0.0</td>\n",
       "      <td>6361</td>\n",
       "      <td>0</td>\n",
       "      <td>0.0</td>\n",
       "    </tr>\n",
       "    <tr>\n",
       "      <th>692</th>\n",
       "      <td>203211.125</td>\n",
       "      <td>0</td>\n",
       "      <td>4</td>\n",
       "      <td>1</td>\n",
       "      <td>1</td>\n",
       "      <td>30406.000</td>\n",
       "      <td>28.0</td>\n",
       "      <td>150.0</td>\n",
       "      <td>2.0</td>\n",
       "      <td>6319</td>\n",
       "      <td>1</td>\n",
       "      <td>0.0</td>\n",
       "    </tr>\n",
       "    <tr>\n",
       "      <th>693</th>\n",
       "      <td>203211.125</td>\n",
       "      <td>0</td>\n",
       "      <td>3</td>\n",
       "      <td>1</td>\n",
       "      <td>1</td>\n",
       "      <td>27390.000</td>\n",
       "      <td>17.0</td>\n",
       "      <td>750.0</td>\n",
       "      <td>1.0</td>\n",
       "      <td>6323</td>\n",
       "      <td>1</td>\n",
       "      <td>0.0</td>\n",
       "    </tr>\n",
       "    <tr>\n",
       "      <th>1790</th>\n",
       "      <td>107360.000</td>\n",
       "      <td>0</td>\n",
       "      <td>3</td>\n",
       "      <td>1</td>\n",
       "      <td>1</td>\n",
       "      <td>15641.000</td>\n",
       "      <td>15.0</td>\n",
       "      <td>0.0</td>\n",
       "      <td>0.0</td>\n",
       "      <td>4423</td>\n",
       "      <td>0</td>\n",
       "      <td>0.0</td>\n",
       "    </tr>\n",
       "    <tr>\n",
       "      <th>...</th>\n",
       "      <td>...</td>\n",
       "      <td>...</td>\n",
       "      <td>...</td>\n",
       "      <td>...</td>\n",
       "      <td>...</td>\n",
       "      <td>...</td>\n",
       "      <td>...</td>\n",
       "      <td>...</td>\n",
       "      <td>...</td>\n",
       "      <td>...</td>\n",
       "      <td>...</td>\n",
       "      <td>...</td>\n",
       "    </tr>\n",
       "    <tr>\n",
       "      <th>347</th>\n",
       "      <td>197328.000</td>\n",
       "      <td>0</td>\n",
       "      <td>5</td>\n",
       "      <td>1</td>\n",
       "      <td>1</td>\n",
       "      <td>57651.875</td>\n",
       "      <td>12.0</td>\n",
       "      <td>0.0</td>\n",
       "      <td>0.0</td>\n",
       "      <td>7092</td>\n",
       "      <td>0</td>\n",
       "      <td>0.0</td>\n",
       "    </tr>\n",
       "    <tr>\n",
       "      <th>503</th>\n",
       "      <td>203211.125</td>\n",
       "      <td>0</td>\n",
       "      <td>5</td>\n",
       "      <td>1</td>\n",
       "      <td>1</td>\n",
       "      <td>57651.875</td>\n",
       "      <td>19.0</td>\n",
       "      <td>550.0</td>\n",
       "      <td>2.0</td>\n",
       "      <td>6679</td>\n",
       "      <td>0</td>\n",
       "      <td>0.0</td>\n",
       "    </tr>\n",
       "    <tr>\n",
       "      <th>348</th>\n",
       "      <td>151301.000</td>\n",
       "      <td>0</td>\n",
       "      <td>4</td>\n",
       "      <td>1</td>\n",
       "      <td>1</td>\n",
       "      <td>37772.000</td>\n",
       "      <td>14.0</td>\n",
       "      <td>0.0</td>\n",
       "      <td>0.0</td>\n",
       "      <td>7092</td>\n",
       "      <td>0</td>\n",
       "      <td>0.0</td>\n",
       "    </tr>\n",
       "    <tr>\n",
       "      <th>2819</th>\n",
       "      <td>112197.000</td>\n",
       "      <td>0</td>\n",
       "      <td>4</td>\n",
       "      <td>1</td>\n",
       "      <td>1</td>\n",
       "      <td>32108.000</td>\n",
       "      <td>16.0</td>\n",
       "      <td>0.0</td>\n",
       "      <td>0.0</td>\n",
       "      <td>2013</td>\n",
       "      <td>1</td>\n",
       "      <td>0.0</td>\n",
       "    </tr>\n",
       "    <tr>\n",
       "      <th>1455</th>\n",
       "      <td>49438.000</td>\n",
       "      <td>0</td>\n",
       "      <td>4</td>\n",
       "      <td>1</td>\n",
       "      <td>1</td>\n",
       "      <td>33912.000</td>\n",
       "      <td>14.0</td>\n",
       "      <td>0.0</td>\n",
       "      <td>0.0</td>\n",
       "      <td>5085</td>\n",
       "      <td>1</td>\n",
       "      <td>0.0</td>\n",
       "    </tr>\n",
       "  </tbody>\n",
       "</table>\n",
       "<p>968 rows × 12 columns</p>\n",
       "</div>"
      ],
      "text/plain": [
       "         Balance  Qual_miles  cc1_miles  cc2_miles  cc3_miles  Bonus_miles  \\\n",
       "2196   16200.000           0          4          1          1    40455.000   \n",
       "691   105683.000           0          4          1          1    28386.000   \n",
       "692   203211.125           0          4          1          1    30406.000   \n",
       "693   203211.125           0          3          1          1    27390.000   \n",
       "1790  107360.000           0          3          1          1    15641.000   \n",
       "...          ...         ...        ...        ...        ...          ...   \n",
       "347   197328.000           0          5          1          1    57651.875   \n",
       "503   203211.125           0          5          1          1    57651.875   \n",
       "348   151301.000           0          4          1          1    37772.000   \n",
       "2819  112197.000           0          4          1          1    32108.000   \n",
       "1455   49438.000           0          4          1          1    33912.000   \n",
       "\n",
       "      Bonus_trans  Flight_miles_12mo  Flight_trans_12  Days_since_enroll  \\\n",
       "2196         17.0                0.0              0.0               3840   \n",
       "691          17.0                0.0              0.0               6361   \n",
       "692          28.0              150.0              2.0               6319   \n",
       "693          17.0              750.0              1.0               6323   \n",
       "1790         15.0                0.0              0.0               4423   \n",
       "...           ...                ...              ...                ...   \n",
       "347          12.0                0.0              0.0               7092   \n",
       "503          19.0              550.0              2.0               6679   \n",
       "348          14.0                0.0              0.0               7092   \n",
       "2819         16.0                0.0              0.0               2013   \n",
       "1455         14.0                0.0              0.0               5085   \n",
       "\n",
       "      Award  cluster  \n",
       "2196      1      0.0  \n",
       "691       0      0.0  \n",
       "692       1      0.0  \n",
       "693       1      0.0  \n",
       "1790      0      0.0  \n",
       "...     ...      ...  \n",
       "347       0      0.0  \n",
       "503       0      0.0  \n",
       "348       0      0.0  \n",
       "2819      1      0.0  \n",
       "1455      1      0.0  \n",
       "\n",
       "[968 rows x 12 columns]"
      ]
     },
     "execution_count": 55,
     "metadata": {},
     "output_type": "execute_result"
    }
   ],
   "source": [
    "cluster0 = df2.loc[(df2.cluster == 0), :]\n",
    "cluster0"
   ]
  },
  {
   "cell_type": "code",
   "execution_count": 56,
   "id": "21c95a42",
   "metadata": {},
   "outputs": [
    {
     "data": {
      "text/html": [
       "<div>\n",
       "<style scoped>\n",
       "    .dataframe tbody tr th:only-of-type {\n",
       "        vertical-align: middle;\n",
       "    }\n",
       "\n",
       "    .dataframe tbody tr th {\n",
       "        vertical-align: top;\n",
       "    }\n",
       "\n",
       "    .dataframe thead th {\n",
       "        text-align: right;\n",
       "    }\n",
       "</style>\n",
       "<table border=\"1\" class=\"dataframe\">\n",
       "  <thead>\n",
       "    <tr style=\"text-align: right;\">\n",
       "      <th></th>\n",
       "      <th>Balance</th>\n",
       "      <th>Qual_miles</th>\n",
       "      <th>cc1_miles</th>\n",
       "      <th>cc2_miles</th>\n",
       "      <th>cc3_miles</th>\n",
       "      <th>Bonus_miles</th>\n",
       "      <th>Bonus_trans</th>\n",
       "      <th>Flight_miles_12mo</th>\n",
       "      <th>Flight_trans_12</th>\n",
       "      <th>Days_since_enroll</th>\n",
       "      <th>Award</th>\n",
       "      <th>cluster</th>\n",
       "    </tr>\n",
       "  </thead>\n",
       "  <tbody>\n",
       "    <tr>\n",
       "      <th>2787</th>\n",
       "      <td>28010.0</td>\n",
       "      <td>0</td>\n",
       "      <td>1</td>\n",
       "      <td>1</td>\n",
       "      <td>1</td>\n",
       "      <td>150.0</td>\n",
       "      <td>3.0</td>\n",
       "      <td>0.0</td>\n",
       "      <td>0.0</td>\n",
       "      <td>2115</td>\n",
       "      <td>0</td>\n",
       "      <td>1.0</td>\n",
       "    </tr>\n",
       "    <tr>\n",
       "      <th>2864</th>\n",
       "      <td>79192.0</td>\n",
       "      <td>0</td>\n",
       "      <td>3</td>\n",
       "      <td>1</td>\n",
       "      <td>1</td>\n",
       "      <td>14404.0</td>\n",
       "      <td>21.0</td>\n",
       "      <td>150.0</td>\n",
       "      <td>1.0</td>\n",
       "      <td>2080</td>\n",
       "      <td>1</td>\n",
       "      <td>1.0</td>\n",
       "    </tr>\n",
       "    <tr>\n",
       "      <th>2714</th>\n",
       "      <td>32824.0</td>\n",
       "      <td>0</td>\n",
       "      <td>1</td>\n",
       "      <td>1</td>\n",
       "      <td>1</td>\n",
       "      <td>1660.0</td>\n",
       "      <td>5.0</td>\n",
       "      <td>100.0</td>\n",
       "      <td>1.0</td>\n",
       "      <td>2339</td>\n",
       "      <td>1</td>\n",
       "      <td>1.0</td>\n",
       "    </tr>\n",
       "    <tr>\n",
       "      <th>2863</th>\n",
       "      <td>26797.0</td>\n",
       "      <td>0</td>\n",
       "      <td>1</td>\n",
       "      <td>1</td>\n",
       "      <td>1</td>\n",
       "      <td>0.0</td>\n",
       "      <td>0.0</td>\n",
       "      <td>0.0</td>\n",
       "      <td>0.0</td>\n",
       "      <td>1928</td>\n",
       "      <td>0</td>\n",
       "      <td>1.0</td>\n",
       "    </tr>\n",
       "    <tr>\n",
       "      <th>2862</th>\n",
       "      <td>15036.0</td>\n",
       "      <td>0</td>\n",
       "      <td>2</td>\n",
       "      <td>1</td>\n",
       "      <td>1</td>\n",
       "      <td>7917.0</td>\n",
       "      <td>8.0</td>\n",
       "      <td>0.0</td>\n",
       "      <td>0.0</td>\n",
       "      <td>1935</td>\n",
       "      <td>1</td>\n",
       "      <td>1.0</td>\n",
       "    </tr>\n",
       "    <tr>\n",
       "      <th>...</th>\n",
       "      <td>...</td>\n",
       "      <td>...</td>\n",
       "      <td>...</td>\n",
       "      <td>...</td>\n",
       "      <td>...</td>\n",
       "      <td>...</td>\n",
       "      <td>...</td>\n",
       "      <td>...</td>\n",
       "      <td>...</td>\n",
       "      <td>...</td>\n",
       "      <td>...</td>\n",
       "      <td>...</td>\n",
       "    </tr>\n",
       "    <tr>\n",
       "      <th>1458</th>\n",
       "      <td>46734.0</td>\n",
       "      <td>0</td>\n",
       "      <td>2</td>\n",
       "      <td>1</td>\n",
       "      <td>1</td>\n",
       "      <td>10007.0</td>\n",
       "      <td>18.0</td>\n",
       "      <td>0.0</td>\n",
       "      <td>0.0</td>\n",
       "      <td>5080</td>\n",
       "      <td>0</td>\n",
       "      <td>1.0</td>\n",
       "    </tr>\n",
       "    <tr>\n",
       "      <th>1465</th>\n",
       "      <td>57330.0</td>\n",
       "      <td>0</td>\n",
       "      <td>1</td>\n",
       "      <td>1</td>\n",
       "      <td>1</td>\n",
       "      <td>380.0</td>\n",
       "      <td>3.0</td>\n",
       "      <td>0.0</td>\n",
       "      <td>0.0</td>\n",
       "      <td>4986</td>\n",
       "      <td>0</td>\n",
       "      <td>1.0</td>\n",
       "    </tr>\n",
       "    <tr>\n",
       "      <th>1530</th>\n",
       "      <td>19998.0</td>\n",
       "      <td>0</td>\n",
       "      <td>1</td>\n",
       "      <td>1</td>\n",
       "      <td>1</td>\n",
       "      <td>4309.0</td>\n",
       "      <td>13.0</td>\n",
       "      <td>0.0</td>\n",
       "      <td>0.0</td>\n",
       "      <td>4995</td>\n",
       "      <td>1</td>\n",
       "      <td>1.0</td>\n",
       "    </tr>\n",
       "    <tr>\n",
       "      <th>1543</th>\n",
       "      <td>53869.0</td>\n",
       "      <td>0</td>\n",
       "      <td>1</td>\n",
       "      <td>1</td>\n",
       "      <td>1</td>\n",
       "      <td>6750.0</td>\n",
       "      <td>26.0</td>\n",
       "      <td>0.0</td>\n",
       "      <td>0.0</td>\n",
       "      <td>4940</td>\n",
       "      <td>0</td>\n",
       "      <td>1.0</td>\n",
       "    </tr>\n",
       "    <tr>\n",
       "      <th>1541</th>\n",
       "      <td>36887.0</td>\n",
       "      <td>0</td>\n",
       "      <td>1</td>\n",
       "      <td>2</td>\n",
       "      <td>1</td>\n",
       "      <td>9048.0</td>\n",
       "      <td>11.0</td>\n",
       "      <td>0.0</td>\n",
       "      <td>0.0</td>\n",
       "      <td>4951</td>\n",
       "      <td>0</td>\n",
       "      <td>1.0</td>\n",
       "    </tr>\n",
       "  </tbody>\n",
       "</table>\n",
       "<p>2373 rows × 12 columns</p>\n",
       "</div>"
      ],
      "text/plain": [
       "      Balance  Qual_miles  cc1_miles  cc2_miles  cc3_miles  Bonus_miles  \\\n",
       "2787  28010.0           0          1          1          1        150.0   \n",
       "2864  79192.0           0          3          1          1      14404.0   \n",
       "2714  32824.0           0          1          1          1       1660.0   \n",
       "2863  26797.0           0          1          1          1          0.0   \n",
       "2862  15036.0           0          2          1          1       7917.0   \n",
       "...       ...         ...        ...        ...        ...          ...   \n",
       "1458  46734.0           0          2          1          1      10007.0   \n",
       "1465  57330.0           0          1          1          1        380.0   \n",
       "1530  19998.0           0          1          1          1       4309.0   \n",
       "1543  53869.0           0          1          1          1       6750.0   \n",
       "1541  36887.0           0          1          2          1       9048.0   \n",
       "\n",
       "      Bonus_trans  Flight_miles_12mo  Flight_trans_12  Days_since_enroll  \\\n",
       "2787          3.0                0.0              0.0               2115   \n",
       "2864         21.0              150.0              1.0               2080   \n",
       "2714          5.0              100.0              1.0               2339   \n",
       "2863          0.0                0.0              0.0               1928   \n",
       "2862          8.0                0.0              0.0               1935   \n",
       "...           ...                ...              ...                ...   \n",
       "1458         18.0                0.0              0.0               5080   \n",
       "1465          3.0                0.0              0.0               4986   \n",
       "1530         13.0                0.0              0.0               4995   \n",
       "1543         26.0                0.0              0.0               4940   \n",
       "1541         11.0                0.0              0.0               4951   \n",
       "\n",
       "      Award  cluster  \n",
       "2787      0      1.0  \n",
       "2864      1      1.0  \n",
       "2714      1      1.0  \n",
       "2863      0      1.0  \n",
       "2862      1      1.0  \n",
       "...     ...      ...  \n",
       "1458      0      1.0  \n",
       "1465      0      1.0  \n",
       "1530      1      1.0  \n",
       "1543      0      1.0  \n",
       "1541      0      1.0  \n",
       "\n",
       "[2373 rows x 12 columns]"
      ]
     },
     "execution_count": 56,
     "metadata": {},
     "output_type": "execute_result"
    }
   ],
   "source": [
    "cluster1 = df2.loc[(df2.cluster == 1), :]\n",
    "cluster1"
   ]
  },
  {
   "cell_type": "code",
   "execution_count": 57,
   "id": "37740e5f",
   "metadata": {},
   "outputs": [
    {
     "data": {
      "text/html": [
       "<div>\n",
       "<style scoped>\n",
       "    .dataframe tbody tr th:only-of-type {\n",
       "        vertical-align: middle;\n",
       "    }\n",
       "\n",
       "    .dataframe tbody tr th {\n",
       "        vertical-align: top;\n",
       "    }\n",
       "\n",
       "    .dataframe thead th {\n",
       "        text-align: right;\n",
       "    }\n",
       "</style>\n",
       "<table border=\"1\" class=\"dataframe\">\n",
       "  <thead>\n",
       "    <tr style=\"text-align: right;\">\n",
       "      <th></th>\n",
       "      <th>Balance</th>\n",
       "      <th>Qual_miles</th>\n",
       "      <th>cc1_miles</th>\n",
       "      <th>cc2_miles</th>\n",
       "      <th>cc3_miles</th>\n",
       "      <th>Bonus_miles</th>\n",
       "      <th>Bonus_trans</th>\n",
       "      <th>Flight_miles_12mo</th>\n",
       "      <th>Flight_trans_12</th>\n",
       "      <th>Days_since_enroll</th>\n",
       "      <th>Award</th>\n",
       "      <th>cluster</th>\n",
       "    </tr>\n",
       "  </thead>\n",
       "  <tbody>\n",
       "    <tr>\n",
       "      <th>1433</th>\n",
       "      <td>120152.0</td>\n",
       "      <td>0</td>\n",
       "      <td>1</td>\n",
       "      <td>1</td>\n",
       "      <td>1</td>\n",
       "      <td>6250.000</td>\n",
       "      <td>27.0</td>\n",
       "      <td>783.75</td>\n",
       "      <td>2.5</td>\n",
       "      <td>4497</td>\n",
       "      <td>1</td>\n",
       "      <td>2.0</td>\n",
       "    </tr>\n",
       "    <tr>\n",
       "      <th>1440</th>\n",
       "      <td>57927.0</td>\n",
       "      <td>0</td>\n",
       "      <td>1</td>\n",
       "      <td>1</td>\n",
       "      <td>1</td>\n",
       "      <td>1500.000</td>\n",
       "      <td>3.0</td>\n",
       "      <td>783.75</td>\n",
       "      <td>2.5</td>\n",
       "      <td>5149</td>\n",
       "      <td>1</td>\n",
       "      <td>2.0</td>\n",
       "    </tr>\n",
       "    <tr>\n",
       "      <th>3782</th>\n",
       "      <td>8009.0</td>\n",
       "      <td>0</td>\n",
       "      <td>1</td>\n",
       "      <td>1</td>\n",
       "      <td>1</td>\n",
       "      <td>8102.000</td>\n",
       "      <td>12.0</td>\n",
       "      <td>783.75</td>\n",
       "      <td>2.5</td>\n",
       "      <td>3279</td>\n",
       "      <td>1</td>\n",
       "      <td>2.0</td>\n",
       "    </tr>\n",
       "    <tr>\n",
       "      <th>2840</th>\n",
       "      <td>8557.0</td>\n",
       "      <td>0</td>\n",
       "      <td>1</td>\n",
       "      <td>1</td>\n",
       "      <td>1</td>\n",
       "      <td>57651.875</td>\n",
       "      <td>5.0</td>\n",
       "      <td>622.00</td>\n",
       "      <td>2.5</td>\n",
       "      <td>1955</td>\n",
       "      <td>1</td>\n",
       "      <td>2.0</td>\n",
       "    </tr>\n",
       "    <tr>\n",
       "      <th>2348</th>\n",
       "      <td>9445.0</td>\n",
       "      <td>0</td>\n",
       "      <td>1</td>\n",
       "      <td>1</td>\n",
       "      <td>1</td>\n",
       "      <td>1000.000</td>\n",
       "      <td>2.0</td>\n",
       "      <td>783.75</td>\n",
       "      <td>2.0</td>\n",
       "      <td>3613</td>\n",
       "      <td>0</td>\n",
       "      <td>2.0</td>\n",
       "    </tr>\n",
       "    <tr>\n",
       "      <th>...</th>\n",
       "      <td>...</td>\n",
       "      <td>...</td>\n",
       "      <td>...</td>\n",
       "      <td>...</td>\n",
       "      <td>...</td>\n",
       "      <td>...</td>\n",
       "      <td>...</td>\n",
       "      <td>...</td>\n",
       "      <td>...</td>\n",
       "      <td>...</td>\n",
       "      <td>...</td>\n",
       "      <td>...</td>\n",
       "    </tr>\n",
       "    <tr>\n",
       "      <th>651</th>\n",
       "      <td>160572.0</td>\n",
       "      <td>0</td>\n",
       "      <td>1</td>\n",
       "      <td>1</td>\n",
       "      <td>1</td>\n",
       "      <td>8163.000</td>\n",
       "      <td>18.0</td>\n",
       "      <td>500.00</td>\n",
       "      <td>1.0</td>\n",
       "      <td>6403</td>\n",
       "      <td>1</td>\n",
       "      <td>2.0</td>\n",
       "    </tr>\n",
       "    <tr>\n",
       "      <th>1815</th>\n",
       "      <td>23854.0</td>\n",
       "      <td>0</td>\n",
       "      <td>3</td>\n",
       "      <td>1</td>\n",
       "      <td>1</td>\n",
       "      <td>22498.000</td>\n",
       "      <td>18.0</td>\n",
       "      <td>250.00</td>\n",
       "      <td>2.5</td>\n",
       "      <td>4274</td>\n",
       "      <td>1</td>\n",
       "      <td>2.0</td>\n",
       "    </tr>\n",
       "    <tr>\n",
       "      <th>2516</th>\n",
       "      <td>40204.0</td>\n",
       "      <td>0</td>\n",
       "      <td>1</td>\n",
       "      <td>1</td>\n",
       "      <td>1</td>\n",
       "      <td>850.000</td>\n",
       "      <td>3.0</td>\n",
       "      <td>350.00</td>\n",
       "      <td>2.0</td>\n",
       "      <td>3006</td>\n",
       "      <td>0</td>\n",
       "      <td>2.0</td>\n",
       "    </tr>\n",
       "    <tr>\n",
       "      <th>744</th>\n",
       "      <td>66572.0</td>\n",
       "      <td>0</td>\n",
       "      <td>2</td>\n",
       "      <td>1</td>\n",
       "      <td>1</td>\n",
       "      <td>8048.000</td>\n",
       "      <td>14.0</td>\n",
       "      <td>450.00</td>\n",
       "      <td>2.0</td>\n",
       "      <td>6240</td>\n",
       "      <td>1</td>\n",
       "      <td>2.0</td>\n",
       "    </tr>\n",
       "    <tr>\n",
       "      <th>3443</th>\n",
       "      <td>5745.0</td>\n",
       "      <td>0</td>\n",
       "      <td>1</td>\n",
       "      <td>1</td>\n",
       "      <td>1</td>\n",
       "      <td>400.000</td>\n",
       "      <td>4.0</td>\n",
       "      <td>400.00</td>\n",
       "      <td>2.5</td>\n",
       "      <td>1067</td>\n",
       "      <td>0</td>\n",
       "      <td>2.0</td>\n",
       "    </tr>\n",
       "  </tbody>\n",
       "</table>\n",
       "<p>656 rows × 12 columns</p>\n",
       "</div>"
      ],
      "text/plain": [
       "       Balance  Qual_miles  cc1_miles  cc2_miles  cc3_miles  Bonus_miles  \\\n",
       "1433  120152.0           0          1          1          1     6250.000   \n",
       "1440   57927.0           0          1          1          1     1500.000   \n",
       "3782    8009.0           0          1          1          1     8102.000   \n",
       "2840    8557.0           0          1          1          1    57651.875   \n",
       "2348    9445.0           0          1          1          1     1000.000   \n",
       "...        ...         ...        ...        ...        ...          ...   \n",
       "651   160572.0           0          1          1          1     8163.000   \n",
       "1815   23854.0           0          3          1          1    22498.000   \n",
       "2516   40204.0           0          1          1          1      850.000   \n",
       "744    66572.0           0          2          1          1     8048.000   \n",
       "3443    5745.0           0          1          1          1      400.000   \n",
       "\n",
       "      Bonus_trans  Flight_miles_12mo  Flight_trans_12  Days_since_enroll  \\\n",
       "1433         27.0             783.75              2.5               4497   \n",
       "1440          3.0             783.75              2.5               5149   \n",
       "3782         12.0             783.75              2.5               3279   \n",
       "2840          5.0             622.00              2.5               1955   \n",
       "2348          2.0             783.75              2.0               3613   \n",
       "...           ...                ...              ...                ...   \n",
       "651          18.0             500.00              1.0               6403   \n",
       "1815         18.0             250.00              2.5               4274   \n",
       "2516          3.0             350.00              2.0               3006   \n",
       "744          14.0             450.00              2.0               6240   \n",
       "3443          4.0             400.00              2.5               1067   \n",
       "\n",
       "      Award  cluster  \n",
       "1433      1      2.0  \n",
       "1440      1      2.0  \n",
       "3782      1      2.0  \n",
       "2840      1      2.0  \n",
       "2348      0      2.0  \n",
       "...     ...      ...  \n",
       "651       1      2.0  \n",
       "1815      1      2.0  \n",
       "2516      0      2.0  \n",
       "744       1      2.0  \n",
       "3443      0      2.0  \n",
       "\n",
       "[656 rows x 12 columns]"
      ]
     },
     "execution_count": 57,
     "metadata": {},
     "output_type": "execute_result"
    }
   ],
   "source": [
    "cluster2 = df2.loc[(df2.cluster == 2), :]\n",
    "cluster2"
   ]
  },
  {
   "cell_type": "code",
   "execution_count": null,
   "id": "6435fd5a",
   "metadata": {},
   "outputs": [],
   "source": []
  },
  {
   "cell_type": "code",
   "execution_count": 58,
   "id": "b61444d1",
   "metadata": {},
   "outputs": [
    {
     "data": {
      "image/png": "[encoded data removed]",
      "text/plain": [
       "<Figure size 640x480 with 1 Axes>"
      ]
     },
     "metadata": {},
     "output_type": "display_data"
    },
    {
     "data": {
      "image/png": "[encoded data removed]",
      "text/plain": [
       "<Figure size 640x480 with 1 Axes>"
      ]
     },
     "metadata": {},
     "output_type": "display_data"
    },
    {
     "data": {
      "image/png": "[encoded data removed]",
      "text/plain": [
       "<Figure size 640x480 with 1 Axes>"
      ]
     },
     "metadata": {},
     "output_type": "display_data"
    },
    {
     "data": {
      "image/png": "[encoded data removed]",
      "text/plain": [
       "<Figure size 640x480 with 1 Axes>"
      ]
     },
     "metadata": {},
     "output_type": "display_data"
    },
    {
     "data": {
      "image/png": "[encoded data removed]",
      "text/plain": [
       "<Figure size 640x480 with 1 Axes>"
      ]
     },
     "metadata": {},
     "output_type": "display_data"
    },
    {
     "data": {
      "image/png": "[encoded data removed]",
      "text/plain": [
       "<Figure size 640x480 with 1 Axes>"
      ]
     },
     "metadata": {},
     "output_type": "display_data"
    },
    {
     "data": {
      "image/png": "[encoded data removed]",
      "text/plain": [
       "<Figure size 640x480 with 1 Axes>"
      ]
     },
     "metadata": {},
     "output_type": "display_data"
    },
    {
     "data": {
      "image/png": "[encoded data removed]",
      "text/plain": [
       "<Figure size 640x480 with 1 Axes>"
      ]
     },
     "metadata": {},
     "output_type": "display_data"
    },
    {
     "data": {
      "image/png": "[encoded data removed]",
      "text/plain": [
       "<Figure size 640x480 with 1 Axes>"
      ]
     },
     "metadata": {},
     "output_type": "display_data"
    },
    {
     "data": {
      "image/png": "[encoded data removed]",
      "text/plain": [
       "<Figure size 640x480 with 1 Axes>"
      ]
     },
     "metadata": {},
     "output_type": "display_data"
    },
    {
     "data": {
      "image/png": "[encoded data removed]",
      "text/plain": [
       "<Figure size 640x480 with 1 Axes>"
      ]
     },
     "metadata": {},
     "output_type": "display_data"
    }
   ],
   "source": [
    "#Another way of evaluating clusters is using outliers\n",
    "for i in cluster0.columns[:11]:\n",
    "    sns.boxplot(x = cluster0[i])\n",
    "    plt.show()"
   ]
  },
  {
   "cell_type": "code",
   "execution_count": 59,
   "id": "dde697ba",
   "metadata": {},
   "outputs": [
    {
     "data": {
      "image/png": "[encoded data removed]",
      "text/plain": [
       "<Figure size 640x480 with 1 Axes>"
      ]
     },
     "metadata": {},
     "output_type": "display_data"
    },
    {
     "data": {
      "image/png": "[encoded data removed]",
      "text/plain": [
       "<Figure size 640x480 with 1 Axes>"
      ]
     },
     "metadata": {},
     "output_type": "display_data"
    },
    {
     "data": {
      "image/png": "[encoded data removed]",
      "text/plain": [
       "<Figure size 640x480 with 1 Axes>"
      ]
     },
     "metadata": {},
     "output_type": "display_data"
    },
    {
     "data": {
      "image/png": "[encoded data removed]",
      "text/plain": [
       "<Figure size 640x480 with 1 Axes>"
      ]
     },
     "metadata": {},
     "output_type": "display_data"
    },
    {
     "data": {
      "image/png": "[encoded data removed]",
      "text/plain": [
       "<Figure size 640x480 with 1 Axes>"
      ]
     },
     "metadata": {},
     "output_type": "display_data"
    },
    {
     "data": {
      "image/png": "[encoded data removed]",
      "text/plain": [
       "<Figure size 640x480 with 1 Axes>"
      ]
     },
     "metadata": {},
     "output_type": "display_data"
    },
    {
     "data": {
      "image/png": "[encoded data removed]",
      "text/plain": [
       "<Figure size 640x480 with 1 Axes>"
      ]
     },
     "metadata": {},
     "output_type": "display_data"
    },
    {
     "data": {
      "image/png": "[encoded data removed]",
      "text/plain": [
       "<Figure size 640x480 with 1 Axes>"
      ]
     },
     "metadata": {},
     "output_type": "display_data"
    },
    {
     "data": {
      "image/png": "[encoded data removed]",
      "text/plain": [
       "<Figure size 640x480 with 1 Axes>"
      ]
     },
     "metadata": {},
     "output_type": "display_data"
    },
    {
     "data": {
      "image/png": "[encoded data removed]",
      "text/plain": [
       "<Figure size 640x480 with 1 Axes>"
      ]
     },
     "metadata": {},
     "output_type": "display_data"
    },
    {
     "data": {
      "image/png": "[encoded data removed]",
      "text/plain": [
       "<Figure size 640x480 with 1 Axes>"
      ]
     },
     "metadata": {},
     "output_type": "display_data"
    }
   ],
   "source": [
    "for i in cluster1.columns[:11]:\n",
    "    sns.boxplot(x = cluster1[i])\n",
    "    plt.show()"
   ]
  },
  {
   "cell_type": "code",
   "execution_count": 60,
   "id": "daa68b50",
   "metadata": {},
   "outputs": [
    {
     "data": {
      "image/png": "[encoded data removed]",
      "text/plain": [
       "<Figure size 640x480 with 1 Axes>"
      ]
     },
     "metadata": {},
     "output_type": "display_data"
    },
    {
     "data": {
      "image/png": "[encoded data removed]",
      "text/plain": [
       "<Figure size 640x480 with 1 Axes>"
      ]
     },
     "metadata": {},
     "output_type": "display_data"
    },
    {
     "data": {
      "image/png": "[encoded data removed]",
      "text/plain": [
       "<Figure size 640x480 with 1 Axes>"
      ]
     },
     "metadata": {},
     "output_type": "display_data"
    },
    {
     "data": {
      "image/png": "[encoded data removed]",
      "text/plain": [
       "<Figure size 640x480 with 1 Axes>"
      ]
     },
     "metadata": {},
     "output_type": "display_data"
    },
    {
     "data": {
      "image/png": "[encoded data removed]",
      "text/plain": [
       "<Figure size 640x480 with 1 Axes>"
      ]
     },
     "metadata": {},
     "output_type": "display_data"
    },
    {
     "data": {
      "image/png": "[encoded data removed]",
      "text/plain": [
       "<Figure size 640x480 with 1 Axes>"
      ]
     },
     "metadata": {},
     "output_type": "display_data"
    },
    {
     "data": {
      "image/png": "[encoded data removed]",
      "text/plain": [
       "<Figure size 640x480 with 1 Axes>"
      ]
     },
     "metadata": {},
     "output_type": "display_data"
    },
    {
     "data": {
      "image/png": "[encoded data removed]",
      "text/plain": [
       "<Figure size 640x480 with 1 Axes>"
      ]
     },
     "metadata": {},
     "output_type": "display_data"
    },
    {
     "data": {
      "image/png": "[encoded data removed]",
      "text/plain": [
       "<Figure size 640x480 with 1 Axes>"
      ]
     },
     "metadata": {},
     "output_type": "display_data"
    },
    {
     "data": {
      "image/png": "[encoded data removed]",
      "text/plain": [
       "<Figure size 640x480 with 1 Axes>"
      ]
     },
     "metadata": {},
     "output_type": "display_data"
    },
    {
     "data": {
      "image/png": "[encoded data removed]",
      "text/plain": [
       "<Figure size 640x480 with 1 Axes>"
      ]
     },
     "metadata": {},
     "output_type": "display_data"
    }
   ],
   "source": [
    "for i in cluster2.columns[:11]:\n",
    "    sns.boxplot(x = cluster2[i])\n",
    "    plt.show()"
   ]
  },
  {
   "cell_type": "code",
   "execution_count": 61,
   "id": "5be02497",
   "metadata": {},
   "outputs": [
    {
     "data": {
      "text/html": [
       "<div>\n",
       "<style scoped>\n",
       "    .dataframe tbody tr th:only-of-type {\n",
       "        vertical-align: middle;\n",
       "    }\n",
       "\n",
       "    .dataframe tbody tr th {\n",
       "        vertical-align: top;\n",
       "    }\n",
       "\n",
       "    .dataframe thead th {\n",
       "        text-align: right;\n",
       "    }\n",
       "</style>\n",
       "<table border=\"1\" class=\"dataframe\">\n",
       "  <thead>\n",
       "    <tr style=\"text-align: right;\">\n",
       "      <th></th>\n",
       "      <th>Balance</th>\n",
       "      <th>Qual_miles</th>\n",
       "      <th>cc1_miles</th>\n",
       "      <th>cc2_miles</th>\n",
       "      <th>cc3_miles</th>\n",
       "      <th>Bonus_miles</th>\n",
       "      <th>Bonus_trans</th>\n",
       "      <th>Flight_miles_12mo</th>\n",
       "      <th>Flight_trans_12</th>\n",
       "      <th>Days_since_enroll</th>\n",
       "      <th>Award</th>\n",
       "    </tr>\n",
       "  </thead>\n",
       "  <tbody>\n",
       "    <tr>\n",
       "      <th>0</th>\n",
       "      <td>0.138491</td>\n",
       "      <td>0.0</td>\n",
       "      <td>0.00</td>\n",
       "      <td>0.0</td>\n",
       "      <td>0.0</td>\n",
       "      <td>0.003018</td>\n",
       "      <td>0.026316</td>\n",
       "      <td>0.000000</td>\n",
       "      <td>0.0</td>\n",
       "      <td>0.843742</td>\n",
       "      <td>0.0</td>\n",
       "    </tr>\n",
       "    <tr>\n",
       "      <th>1</th>\n",
       "      <td>0.094700</td>\n",
       "      <td>0.0</td>\n",
       "      <td>0.00</td>\n",
       "      <td>0.0</td>\n",
       "      <td>0.0</td>\n",
       "      <td>0.003729</td>\n",
       "      <td>0.052632</td>\n",
       "      <td>0.000000</td>\n",
       "      <td>0.0</td>\n",
       "      <td>0.839884</td>\n",
       "      <td>0.0</td>\n",
       "    </tr>\n",
       "    <tr>\n",
       "      <th>2</th>\n",
       "      <td>0.203503</td>\n",
       "      <td>0.0</td>\n",
       "      <td>0.00</td>\n",
       "      <td>0.0</td>\n",
       "      <td>0.0</td>\n",
       "      <td>0.071515</td>\n",
       "      <td>0.105263</td>\n",
       "      <td>0.000000</td>\n",
       "      <td>0.0</td>\n",
       "      <td>0.847842</td>\n",
       "      <td>0.0</td>\n",
       "    </tr>\n",
       "    <tr>\n",
       "      <th>3</th>\n",
       "      <td>0.072713</td>\n",
       "      <td>0.0</td>\n",
       "      <td>0.00</td>\n",
       "      <td>0.0</td>\n",
       "      <td>0.0</td>\n",
       "      <td>0.008673</td>\n",
       "      <td>0.026316</td>\n",
       "      <td>0.000000</td>\n",
       "      <td>0.0</td>\n",
       "      <td>0.837955</td>\n",
       "      <td>0.0</td>\n",
       "    </tr>\n",
       "    <tr>\n",
       "      <th>4</th>\n",
       "      <td>0.481037</td>\n",
       "      <td>0.0</td>\n",
       "      <td>0.75</td>\n",
       "      <td>0.0</td>\n",
       "      <td>0.0</td>\n",
       "      <td>0.751060</td>\n",
       "      <td>0.684211</td>\n",
       "      <td>1.000000</td>\n",
       "      <td>1.0</td>\n",
       "      <td>0.835905</td>\n",
       "      <td>1.0</td>\n",
       "    </tr>\n",
       "    <tr>\n",
       "      <th>...</th>\n",
       "      <td>...</td>\n",
       "      <td>...</td>\n",
       "      <td>...</td>\n",
       "      <td>...</td>\n",
       "      <td>...</td>\n",
       "      <td>...</td>\n",
       "      <td>...</td>\n",
       "      <td>...</td>\n",
       "      <td>...</td>\n",
       "      <td>...</td>\n",
       "      <td>...</td>\n",
       "    </tr>\n",
       "    <tr>\n",
       "      <th>3994</th>\n",
       "      <td>0.090920</td>\n",
       "      <td>0.0</td>\n",
       "      <td>0.00</td>\n",
       "      <td>0.0</td>\n",
       "      <td>0.0</td>\n",
       "      <td>0.147870</td>\n",
       "      <td>0.105263</td>\n",
       "      <td>0.255183</td>\n",
       "      <td>0.4</td>\n",
       "      <td>0.168917</td>\n",
       "      <td>1.0</td>\n",
       "    </tr>\n",
       "    <tr>\n",
       "      <th>3995</th>\n",
       "      <td>0.316838</td>\n",
       "      <td>0.0</td>\n",
       "      <td>0.00</td>\n",
       "      <td>0.0</td>\n",
       "      <td>0.0</td>\n",
       "      <td>0.017016</td>\n",
       "      <td>0.131579</td>\n",
       "      <td>0.000000</td>\n",
       "      <td>0.0</td>\n",
       "      <td>0.167953</td>\n",
       "      <td>1.0</td>\n",
       "    </tr>\n",
       "    <tr>\n",
       "      <th>3996</th>\n",
       "      <td>0.362170</td>\n",
       "      <td>0.0</td>\n",
       "      <td>0.50</td>\n",
       "      <td>0.0</td>\n",
       "      <td>0.0</td>\n",
       "      <td>0.441391</td>\n",
       "      <td>0.210526</td>\n",
       "      <td>0.000000</td>\n",
       "      <td>0.0</td>\n",
       "      <td>0.168797</td>\n",
       "      <td>1.0</td>\n",
       "    </tr>\n",
       "    <tr>\n",
       "      <th>3997</th>\n",
       "      <td>0.270157</td>\n",
       "      <td>0.0</td>\n",
       "      <td>0.00</td>\n",
       "      <td>0.0</td>\n",
       "      <td>0.0</td>\n",
       "      <td>0.008673</td>\n",
       "      <td>0.026316</td>\n",
       "      <td>0.637959</td>\n",
       "      <td>0.4</td>\n",
       "      <td>0.168676</td>\n",
       "      <td>0.0</td>\n",
       "    </tr>\n",
       "    <tr>\n",
       "      <th>3998</th>\n",
       "      <td>0.014842</td>\n",
       "      <td>0.0</td>\n",
       "      <td>0.00</td>\n",
       "      <td>0.0</td>\n",
       "      <td>0.0</td>\n",
       "      <td>0.000000</td>\n",
       "      <td>0.000000</td>\n",
       "      <td>0.000000</td>\n",
       "      <td>0.0</td>\n",
       "      <td>0.168314</td>\n",
       "      <td>0.0</td>\n",
       "    </tr>\n",
       "  </tbody>\n",
       "</table>\n",
       "<p>3998 rows × 11 columns</p>\n",
       "</div>"
      ],
      "text/plain": [
       "       Balance  Qual_miles  cc1_miles  cc2_miles  cc3_miles  Bonus_miles  \\\n",
       "0     0.138491         0.0       0.00        0.0        0.0     0.003018   \n",
       "1     0.094700         0.0       0.00        0.0        0.0     0.003729   \n",
       "2     0.203503         0.0       0.00        0.0        0.0     0.071515   \n",
       "3     0.072713         0.0       0.00        0.0        0.0     0.008673   \n",
       "4     0.481037         0.0       0.75        0.0        0.0     0.751060   \n",
       "...        ...         ...        ...        ...        ...          ...   \n",
       "3994  0.090920         0.0       0.00        0.0        0.0     0.147870   \n",
       "3995  0.316838         0.0       0.00        0.0        0.0     0.017016   \n",
       "3996  0.362170         0.0       0.50        0.0        0.0     0.441391   \n",
       "3997  0.270157         0.0       0.00        0.0        0.0     0.008673   \n",
       "3998  0.014842         0.0       0.00        0.0        0.0     0.000000   \n",
       "\n",
       "      Bonus_trans  Flight_miles_12mo  Flight_trans_12  Days_since_enroll  \\\n",
       "0        0.026316           0.000000              0.0           0.843742   \n",
       "1        0.052632           0.000000              0.0           0.839884   \n",
       "2        0.105263           0.000000              0.0           0.847842   \n",
       "3        0.026316           0.000000              0.0           0.837955   \n",
       "4        0.684211           1.000000              1.0           0.835905   \n",
       "...           ...                ...              ...                ...   \n",
       "3994     0.105263           0.255183              0.4           0.168917   \n",
       "3995     0.131579           0.000000              0.0           0.167953   \n",
       "3996     0.210526           0.000000              0.0           0.168797   \n",
       "3997     0.026316           0.637959              0.4           0.168676   \n",
       "3998     0.000000           0.000000              0.0           0.168314   \n",
       "\n",
       "      Award  \n",
       "0       0.0  \n",
       "1       0.0  \n",
       "2       0.0  \n",
       "3       0.0  \n",
       "4       1.0  \n",
       "...     ...  \n",
       "3994    1.0  \n",
       "3995    1.0  \n",
       "3996    1.0  \n",
       "3997    0.0  \n",
       "3998    0.0  \n",
       "\n",
       "[3998 rows x 11 columns]"
      ]
     },
     "execution_count": 61,
     "metadata": {},
     "output_type": "execute_result"
    }
   ],
   "source": [
    "df_norm"
   ]
  },
  {
   "cell_type": "markdown",
   "id": "a84677ff",
   "metadata": {},
   "source": [
    "## Cluster Evaluation"
   ]
  },
  {
   "cell_type": "markdown",
   "id": "eee65378",
   "metadata": {},
   "source": [
    "### Silhouette coefficient:"
   ]
  },
  {
   "cell_type": "code",
   "execution_count": 62,
   "id": "7acfd935",
   "metadata": {},
   "outputs": [],
   "source": [
    "from sklearn import metrics"
   ]
  },
  {
   "cell_type": "code",
   "execution_count": null,
   "id": "38f096c5",
   "metadata": {},
   "outputs": [],
   "source": [
    "# Silhouette coefficient value ranges between (-1 to +1). \n",
    "# 1 being the best meaning that the data point is very compact within the cluster to which it belongs and far away from the other clusters.\n",
    "# Values near 0 denote overlapping clusters."
   ]
  },
  {
   "cell_type": "code",
   "execution_count": 63,
   "id": "6a875e04",
   "metadata": {},
   "outputs": [
    {
     "data": {
      "text/plain": [
       "0.312108145126427"
      ]
     },
     "execution_count": 63,
     "metadata": {},
     "output_type": "execute_result"
    }
   ],
   "source": [
    "metrics.silhouette_score(df_norm, cluster_labels)"
   ]
  },
  {
   "cell_type": "markdown",
   "id": "a8825ca8",
   "metadata": {},
   "source": [
    "### Calinski Harabasz:"
   ]
  },
  {
   "cell_type": "code",
   "execution_count": 64,
   "id": "11b3be4e",
   "metadata": {},
   "outputs": [
    {
     "data": {
      "text/plain": [
       "1346.8278254664665"
      ]
     },
     "execution_count": 64,
     "metadata": {},
     "output_type": "execute_result"
    }
   ],
   "source": [
    "#Higher value means clusters are well separated\n",
    "metrics.calinski_harabasz_score(df_norm, cluster_labels)"
   ]
  },
  {
   "cell_type": "markdown",
   "id": "e5f698e1",
   "metadata": {},
   "source": [
    "### Davies-Bouldin Index:"
   ]
  },
  {
   "cell_type": "code",
   "execution_count": 65,
   "id": "1779ea0d",
   "metadata": {},
   "outputs": [
    {
     "data": {
      "text/plain": [
       "1.3932215083297335"
      ]
     },
     "execution_count": 65,
     "metadata": {},
     "output_type": "execute_result"
    }
   ],
   "source": [
    "#The lower value means better the separation between your clusters.\n",
    "metrics.davies_bouldin_score(df_norm, cluster_labels)"
   ]
  },
  {
   "cell_type": "code",
   "execution_count": null,
   "id": "acb9c8a7",
   "metadata": {},
   "outputs": [],
   "source": []
  },
  {
   "cell_type": "code",
   "execution_count": 66,
   "id": "f70f3ffc",
   "metadata": {},
   "outputs": [],
   "source": [
    "from clusteval import clusteval\n",
    "import numpy as np\n",
    "\n",
    "#Silhouette cluster evaluation.\n",
    "ce = clusteval(evaluate='silhouette')"
   ]
  },
  {
   "cell_type": "code",
   "execution_count": 67,
   "id": "5fcf4748",
   "metadata": {},
   "outputs": [],
   "source": [
    "df_array = np.array(df_norm)"
   ]
  },
  {
   "cell_type": "code",
   "execution_count": 68,
   "id": "a4999051",
   "metadata": {},
   "outputs": [
    {
     "name": "stdout",
     "output_type": "stream",
     "text": [
      "\n",
      "[clusteval] >Fit using agglomerative with metric: euclidean, and linkage: ward\n",
      "[clusteval] >Evaluate using silhouette.\n"
     ]
    },
    {
     "name": "stderr",
     "output_type": "stream",
     "text": [
      "100%|██████████████████████████████████████████████████████████████████████████████████| 23/23 [00:07<00:00,  3.24it/s]\n"
     ]
    },
    {
     "name": "stdout",
     "output_type": "stream",
     "text": [
      "[clusteval] >Compute dendrogram threshold.\n",
      "[clusteval] >Optimal number clusters detected: [4].\n",
      "[clusteval] >Fin.\n"
     ]
    },
    {
     "data": {
      "image/png": "[encoded data removed]",
      "text/plain": [
       "<Figure size 1500x800 with 1 Axes>"
      ]
     },
     "metadata": {},
     "output_type": "display_data"
    },
    {
     "data": {
      "text/plain": [
       "(<Figure size 1500x800 with 1 Axes>,\n",
       " <AxesSubplot:title={'center':'Silhouette vs. nr.clusters'}, xlabel='#Clusters', ylabel='Score'>)"
      ]
     },
     "execution_count": 68,
     "metadata": {},
     "output_type": "execute_result"
    }
   ],
   "source": [
    "#Fit\n",
    "ce.fit(df_array)\n",
    "\n",
    "ce.plot()"
   ]
  },
  {
   "cell_type": "code",
   "execution_count": null,
   "id": "150527e6",
   "metadata": {},
   "outputs": [],
   "source": [
    "## Using the report from clusteval library building 4 clusters\n",
    "# Fit using agglomerative with metric: euclidean, and linkage: ward"
   ]
  },
  {
   "cell_type": "code",
   "execution_count": 69,
   "id": "eb14ce5f",
   "metadata": {},
   "outputs": [
    {
     "data": {
      "text/plain": [
       "array([0, 0, 0, ..., 2, 3, 0], dtype=int64)"
      ]
     },
     "execution_count": 69,
     "metadata": {},
     "output_type": "execute_result"
    }
   ],
   "source": [
    "# Applying AgglomerativeClustering with = 4 as clusters\n",
    "hc_4 = AgglomerativeClustering(n_clusters = 4, affinity = 'euclidean', linkage = 'ward')\n",
    "\n",
    "y_hc_4 = hc_4.fit_predict(df_norm)\n",
    "y_hc_4"
   ]
  },
  {
   "cell_type": "code",
   "execution_count": 70,
   "id": "1345e0ef",
   "metadata": {},
   "outputs": [
    {
     "data": {
      "text/plain": [
       "array([0, 0, 0, ..., 2, 3, 0], dtype=int64)"
      ]
     },
     "execution_count": 70,
     "metadata": {},
     "output_type": "execute_result"
    }
   ],
   "source": [
    "hc_4.labels_"
   ]
  },
  {
   "cell_type": "code",
   "execution_count": 71,
   "id": "5086766d",
   "metadata": {},
   "outputs": [],
   "source": [
    "cluster_labels2 = pd.Series(hc_4.labels_)"
   ]
  },
  {
   "cell_type": "code",
   "execution_count": 72,
   "id": "25648267",
   "metadata": {},
   "outputs": [
    {
     "data": {
      "text/html": [
       "<div>\n",
       "<style scoped>\n",
       "    .dataframe tbody tr th:only-of-type {\n",
       "        vertical-align: middle;\n",
       "    }\n",
       "\n",
       "    .dataframe tbody tr th {\n",
       "        vertical-align: top;\n",
       "    }\n",
       "\n",
       "    .dataframe thead th {\n",
       "        text-align: right;\n",
       "    }\n",
       "</style>\n",
       "<table border=\"1\" class=\"dataframe\">\n",
       "  <thead>\n",
       "    <tr style=\"text-align: right;\">\n",
       "      <th></th>\n",
       "      <th>0</th>\n",
       "      <th>Balance</th>\n",
       "      <th>Qual_miles</th>\n",
       "      <th>cc1_miles</th>\n",
       "      <th>cc2_miles</th>\n",
       "      <th>cc3_miles</th>\n",
       "      <th>Bonus_miles</th>\n",
       "      <th>Bonus_trans</th>\n",
       "      <th>Flight_miles_12mo</th>\n",
       "      <th>Flight_trans_12</th>\n",
       "      <th>Days_since_enroll</th>\n",
       "      <th>Award</th>\n",
       "      <th>cluster</th>\n",
       "    </tr>\n",
       "  </thead>\n",
       "  <tbody>\n",
       "    <tr>\n",
       "      <th>0</th>\n",
       "      <td>0.0</td>\n",
       "      <td>28143.0</td>\n",
       "      <td>0.0</td>\n",
       "      <td>1.0</td>\n",
       "      <td>1.0</td>\n",
       "      <td>1.0</td>\n",
       "      <td>174.0</td>\n",
       "      <td>1.0</td>\n",
       "      <td>0.00</td>\n",
       "      <td>0.0</td>\n",
       "      <td>7000.0</td>\n",
       "      <td>0.0</td>\n",
       "      <td>1.0</td>\n",
       "    </tr>\n",
       "    <tr>\n",
       "      <th>1</th>\n",
       "      <td>0.0</td>\n",
       "      <td>19244.0</td>\n",
       "      <td>0.0</td>\n",
       "      <td>1.0</td>\n",
       "      <td>1.0</td>\n",
       "      <td>1.0</td>\n",
       "      <td>215.0</td>\n",
       "      <td>2.0</td>\n",
       "      <td>0.00</td>\n",
       "      <td>0.0</td>\n",
       "      <td>6968.0</td>\n",
       "      <td>0.0</td>\n",
       "      <td>1.0</td>\n",
       "    </tr>\n",
       "    <tr>\n",
       "      <th>2</th>\n",
       "      <td>0.0</td>\n",
       "      <td>41354.0</td>\n",
       "      <td>0.0</td>\n",
       "      <td>1.0</td>\n",
       "      <td>1.0</td>\n",
       "      <td>1.0</td>\n",
       "      <td>4123.0</td>\n",
       "      <td>4.0</td>\n",
       "      <td>0.00</td>\n",
       "      <td>0.0</td>\n",
       "      <td>7034.0</td>\n",
       "      <td>0.0</td>\n",
       "      <td>1.0</td>\n",
       "    </tr>\n",
       "    <tr>\n",
       "      <th>3</th>\n",
       "      <td>0.0</td>\n",
       "      <td>14776.0</td>\n",
       "      <td>0.0</td>\n",
       "      <td>1.0</td>\n",
       "      <td>1.0</td>\n",
       "      <td>1.0</td>\n",
       "      <td>500.0</td>\n",
       "      <td>1.0</td>\n",
       "      <td>0.00</td>\n",
       "      <td>0.0</td>\n",
       "      <td>6952.0</td>\n",
       "      <td>0.0</td>\n",
       "      <td>1.0</td>\n",
       "    </tr>\n",
       "    <tr>\n",
       "      <th>4</th>\n",
       "      <td>1.0</td>\n",
       "      <td>97752.0</td>\n",
       "      <td>0.0</td>\n",
       "      <td>4.0</td>\n",
       "      <td>1.0</td>\n",
       "      <td>1.0</td>\n",
       "      <td>43300.0</td>\n",
       "      <td>26.0</td>\n",
       "      <td>783.75</td>\n",
       "      <td>2.5</td>\n",
       "      <td>6935.0</td>\n",
       "      <td>1.0</td>\n",
       "      <td>0.0</td>\n",
       "    </tr>\n",
       "  </tbody>\n",
       "</table>\n",
       "</div>"
      ],
      "text/plain": [
       "     0  Balance  Qual_miles  cc1_miles  cc2_miles  cc3_miles  Bonus_miles  \\\n",
       "0  0.0  28143.0         0.0        1.0        1.0        1.0        174.0   \n",
       "1  0.0  19244.0         0.0        1.0        1.0        1.0        215.0   \n",
       "2  0.0  41354.0         0.0        1.0        1.0        1.0       4123.0   \n",
       "3  0.0  14776.0         0.0        1.0        1.0        1.0        500.0   \n",
       "4  1.0  97752.0         0.0        4.0        1.0        1.0      43300.0   \n",
       "\n",
       "   Bonus_trans  Flight_miles_12mo  Flight_trans_12  Days_since_enroll  Award  \\\n",
       "0          1.0               0.00              0.0             7000.0    0.0   \n",
       "1          2.0               0.00              0.0             6968.0    0.0   \n",
       "2          4.0               0.00              0.0             7034.0    0.0   \n",
       "3          1.0               0.00              0.0             6952.0    0.0   \n",
       "4         26.0             783.75              2.5             6935.0    1.0   \n",
       "\n",
       "   cluster  \n",
       "0      1.0  \n",
       "1      1.0  \n",
       "2      1.0  \n",
       "3      1.0  \n",
       "4      0.0  "
      ]
     },
     "execution_count": 72,
     "metadata": {},
     "output_type": "execute_result"
    }
   ],
   "source": [
    "df_4clust = pd.concat([cluster_labels2, df], axis=1) \n",
    "\n",
    "df_4clust.head()"
   ]
  },
  {
   "cell_type": "code",
   "execution_count": 73,
   "id": "38c3d4e9",
   "metadata": {},
   "outputs": [
    {
     "data": {
      "text/html": [
       "<div>\n",
       "<style scoped>\n",
       "    .dataframe tbody tr th:only-of-type {\n",
       "        vertical-align: middle;\n",
       "    }\n",
       "\n",
       "    .dataframe tbody tr th {\n",
       "        vertical-align: top;\n",
       "    }\n",
       "\n",
       "    .dataframe thead th {\n",
       "        text-align: right;\n",
       "    }\n",
       "</style>\n",
       "<table border=\"1\" class=\"dataframe\">\n",
       "  <thead>\n",
       "    <tr style=\"text-align: right;\">\n",
       "      <th></th>\n",
       "      <th>cluster_new</th>\n",
       "      <th>Balance</th>\n",
       "      <th>Qual_miles</th>\n",
       "      <th>cc1_miles</th>\n",
       "      <th>cc2_miles</th>\n",
       "      <th>cc3_miles</th>\n",
       "      <th>Bonus_miles</th>\n",
       "      <th>Bonus_trans</th>\n",
       "      <th>Flight_miles_12mo</th>\n",
       "      <th>Flight_trans_12</th>\n",
       "      <th>Days_since_enroll</th>\n",
       "      <th>Award</th>\n",
       "      <th>cluster</th>\n",
       "    </tr>\n",
       "  </thead>\n",
       "  <tbody>\n",
       "    <tr>\n",
       "      <th>0</th>\n",
       "      <td>0.0</td>\n",
       "      <td>28143.0</td>\n",
       "      <td>0.0</td>\n",
       "      <td>1.0</td>\n",
       "      <td>1.0</td>\n",
       "      <td>1.0</td>\n",
       "      <td>174.0</td>\n",
       "      <td>1.0</td>\n",
       "      <td>0.00</td>\n",
       "      <td>0.0</td>\n",
       "      <td>7000.0</td>\n",
       "      <td>0.0</td>\n",
       "      <td>1.0</td>\n",
       "    </tr>\n",
       "    <tr>\n",
       "      <th>1</th>\n",
       "      <td>0.0</td>\n",
       "      <td>19244.0</td>\n",
       "      <td>0.0</td>\n",
       "      <td>1.0</td>\n",
       "      <td>1.0</td>\n",
       "      <td>1.0</td>\n",
       "      <td>215.0</td>\n",
       "      <td>2.0</td>\n",
       "      <td>0.00</td>\n",
       "      <td>0.0</td>\n",
       "      <td>6968.0</td>\n",
       "      <td>0.0</td>\n",
       "      <td>1.0</td>\n",
       "    </tr>\n",
       "    <tr>\n",
       "      <th>2</th>\n",
       "      <td>0.0</td>\n",
       "      <td>41354.0</td>\n",
       "      <td>0.0</td>\n",
       "      <td>1.0</td>\n",
       "      <td>1.0</td>\n",
       "      <td>1.0</td>\n",
       "      <td>4123.0</td>\n",
       "      <td>4.0</td>\n",
       "      <td>0.00</td>\n",
       "      <td>0.0</td>\n",
       "      <td>7034.0</td>\n",
       "      <td>0.0</td>\n",
       "      <td>1.0</td>\n",
       "    </tr>\n",
       "    <tr>\n",
       "      <th>3</th>\n",
       "      <td>0.0</td>\n",
       "      <td>14776.0</td>\n",
       "      <td>0.0</td>\n",
       "      <td>1.0</td>\n",
       "      <td>1.0</td>\n",
       "      <td>1.0</td>\n",
       "      <td>500.0</td>\n",
       "      <td>1.0</td>\n",
       "      <td>0.00</td>\n",
       "      <td>0.0</td>\n",
       "      <td>6952.0</td>\n",
       "      <td>0.0</td>\n",
       "      <td>1.0</td>\n",
       "    </tr>\n",
       "    <tr>\n",
       "      <th>4</th>\n",
       "      <td>1.0</td>\n",
       "      <td>97752.0</td>\n",
       "      <td>0.0</td>\n",
       "      <td>4.0</td>\n",
       "      <td>1.0</td>\n",
       "      <td>1.0</td>\n",
       "      <td>43300.0</td>\n",
       "      <td>26.0</td>\n",
       "      <td>783.75</td>\n",
       "      <td>2.5</td>\n",
       "      <td>6935.0</td>\n",
       "      <td>1.0</td>\n",
       "      <td>0.0</td>\n",
       "    </tr>\n",
       "  </tbody>\n",
       "</table>\n",
       "</div>"
      ],
      "text/plain": [
       "   cluster_new  Balance  Qual_miles  cc1_miles  cc2_miles  cc3_miles  \\\n",
       "0          0.0  28143.0         0.0        1.0        1.0        1.0   \n",
       "1          0.0  19244.0         0.0        1.0        1.0        1.0   \n",
       "2          0.0  41354.0         0.0        1.0        1.0        1.0   \n",
       "3          0.0  14776.0         0.0        1.0        1.0        1.0   \n",
       "4          1.0  97752.0         0.0        4.0        1.0        1.0   \n",
       "\n",
       "   Bonus_miles  Bonus_trans  Flight_miles_12mo  Flight_trans_12  \\\n",
       "0        174.0          1.0               0.00              0.0   \n",
       "1        215.0          2.0               0.00              0.0   \n",
       "2       4123.0          4.0               0.00              0.0   \n",
       "3        500.0          1.0               0.00              0.0   \n",
       "4      43300.0         26.0             783.75              2.5   \n",
       "\n",
       "   Days_since_enroll  Award  cluster  \n",
       "0             7000.0    0.0      1.0  \n",
       "1             6968.0    0.0      1.0  \n",
       "2             7034.0    0.0      1.0  \n",
       "3             6952.0    0.0      1.0  \n",
       "4             6935.0    1.0      0.0  "
      ]
     },
     "execution_count": 73,
     "metadata": {},
     "output_type": "execute_result"
    }
   ],
   "source": [
    "df_4clust = df_4clust.rename(columns = {0:'cluster_new'})\n",
    "df_4clust.head()"
   ]
  },
  {
   "cell_type": "code",
   "execution_count": 74,
   "id": "9d569ab3",
   "metadata": {},
   "outputs": [
    {
     "data": {
      "text/html": [
       "<div>\n",
       "<style scoped>\n",
       "    .dataframe tbody tr th:only-of-type {\n",
       "        vertical-align: middle;\n",
       "    }\n",
       "\n",
       "    .dataframe tbody tr th {\n",
       "        vertical-align: top;\n",
       "    }\n",
       "\n",
       "    .dataframe thead th {\n",
       "        text-align: right;\n",
       "    }\n",
       "</style>\n",
       "<table border=\"1\" class=\"dataframe\">\n",
       "  <thead>\n",
       "    <tr style=\"text-align: right;\">\n",
       "      <th></th>\n",
       "      <th>Balance</th>\n",
       "      <th>Qual_miles</th>\n",
       "      <th>cc1_miles</th>\n",
       "      <th>cc2_miles</th>\n",
       "      <th>cc3_miles</th>\n",
       "      <th>Bonus_miles</th>\n",
       "      <th>Bonus_trans</th>\n",
       "      <th>Flight_miles_12mo</th>\n",
       "      <th>Flight_trans_12</th>\n",
       "      <th>Days_since_enroll</th>\n",
       "      <th>Award</th>\n",
       "    </tr>\n",
       "    <tr>\n",
       "      <th>cluster_new</th>\n",
       "      <th></th>\n",
       "      <th></th>\n",
       "      <th></th>\n",
       "      <th></th>\n",
       "      <th></th>\n",
       "      <th></th>\n",
       "      <th></th>\n",
       "      <th></th>\n",
       "      <th></th>\n",
       "      <th></th>\n",
       "      <th></th>\n",
       "    </tr>\n",
       "  </thead>\n",
       "  <tbody>\n",
       "    <tr>\n",
       "      <th>0.0</th>\n",
       "      <td>50261.908999</td>\n",
       "      <td>67.863498</td>\n",
       "      <td>1.688574</td>\n",
       "      <td>1.015672</td>\n",
       "      <td>1.008089</td>\n",
       "      <td>9459.361666</td>\n",
       "      <td>8.565723</td>\n",
       "      <td>5.030207</td>\n",
       "      <td>0.017947</td>\n",
       "      <td>3772.092518</td>\n",
       "      <td>0.009606</td>\n",
       "    </tr>\n",
       "    <tr>\n",
       "      <th>1.0</th>\n",
       "      <td>97906.691940</td>\n",
       "      <td>423.992714</td>\n",
       "      <td>2.260474</td>\n",
       "      <td>1.023679</td>\n",
       "      <td>1.003643</td>\n",
       "      <td>23102.756148</td>\n",
       "      <td>17.191257</td>\n",
       "      <td>668.377960</td>\n",
       "      <td>2.139344</td>\n",
       "      <td>4630.122040</td>\n",
       "      <td>0.983607</td>\n",
       "    </tr>\n",
       "    <tr>\n",
       "      <th>2.0</th>\n",
       "      <td>64121.478115</td>\n",
       "      <td>127.824919</td>\n",
       "      <td>2.878625</td>\n",
       "      <td>1.010741</td>\n",
       "      <td>1.026853</td>\n",
       "      <td>25390.023228</td>\n",
       "      <td>14.351235</td>\n",
       "      <td>67.235768</td>\n",
       "      <td>0.255639</td>\n",
       "      <td>4625.163265</td>\n",
       "      <td>0.984962</td>\n",
       "    </tr>\n",
       "    <tr>\n",
       "      <th>3.0</th>\n",
       "      <td>78179.599722</td>\n",
       "      <td>167.538033</td>\n",
       "      <td>1.805195</td>\n",
       "      <td>1.007421</td>\n",
       "      <td>1.011132</td>\n",
       "      <td>12249.601113</td>\n",
       "      <td>11.371058</td>\n",
       "      <td>512.272727</td>\n",
       "      <td>1.702226</td>\n",
       "      <td>4003.638219</td>\n",
       "      <td>0.009276</td>\n",
       "    </tr>\n",
       "  </tbody>\n",
       "</table>\n",
       "</div>"
      ],
      "text/plain": [
       "                  Balance  Qual_miles  cc1_miles  cc2_miles  cc3_miles  \\\n",
       "cluster_new                                                              \n",
       "0.0          50261.908999   67.863498   1.688574   1.015672   1.008089   \n",
       "1.0          97906.691940  423.992714   2.260474   1.023679   1.003643   \n",
       "2.0          64121.478115  127.824919   2.878625   1.010741   1.026853   \n",
       "3.0          78179.599722  167.538033   1.805195   1.007421   1.011132   \n",
       "\n",
       "              Bonus_miles  Bonus_trans  Flight_miles_12mo  Flight_trans_12  \\\n",
       "cluster_new                                                                  \n",
       "0.0           9459.361666     8.565723           5.030207         0.017947   \n",
       "1.0          23102.756148    17.191257         668.377960         2.139344   \n",
       "2.0          25390.023228    14.351235          67.235768         0.255639   \n",
       "3.0          12249.601113    11.371058         512.272727         1.702226   \n",
       "\n",
       "             Days_since_enroll     Award  \n",
       "cluster_new                               \n",
       "0.0                3772.092518  0.009606  \n",
       "1.0                4630.122040  0.983607  \n",
       "2.0                4625.163265  0.984962  \n",
       "3.0                4003.638219  0.009276  "
      ]
     },
     "execution_count": 74,
     "metadata": {},
     "output_type": "execute_result"
    }
   ],
   "source": [
    "# Aggregate using mean of each cluster\n",
    "df_4clust.iloc[:,1:12].groupby(df_4clust.cluster_new).mean()"
   ]
  },
  {
   "cell_type": "code",
   "execution_count": 75,
   "id": "bd8294b6",
   "metadata": {},
   "outputs": [],
   "source": [
    "# By clustering the data into 4 clusters the Airlines can get even more closer insights about the customers. \n",
    "# Customers belonging to Cluster 1 - Has highest number of miles eligible for award travel. High chances to be qualified for Top flight status. High number of non flight bonus transactions and number of flight miles in the past 12 months.\n",
    "# Customers belonging  to Cluster 3 - Has high number of miles eligible for award travel compared to rest of the clusters (0 and 2). They also have high number of non flight bonus transactions and number of flight miles in the past 12 months.\n",
    "# Customers belonging to Cluster 2 - have earned more number of miles with freq. flyer credit card in the past 12 months. They have high number of miles from non-flight bonus transactions in the past 12 months.\n"
   ]
  },
  {
   "cell_type": "code",
   "execution_count": 76,
   "id": "b9641c42",
   "metadata": {},
   "outputs": [],
   "source": [
    "#######################################################"
   ]
  },
  {
   "cell_type": "code",
   "execution_count": 77,
   "id": "787224da",
   "metadata": {},
   "outputs": [],
   "source": [
    "new_df = df_4clust.iloc[:,1:12].groupby(df_4clust.cluster_new).mean()"
   ]
  },
  {
   "cell_type": "code",
   "execution_count": 78,
   "id": "452ed020",
   "metadata": {},
   "outputs": [
    {
     "data": {
      "text/html": [
       "<div>\n",
       "<style scoped>\n",
       "    .dataframe tbody tr th:only-of-type {\n",
       "        vertical-align: middle;\n",
       "    }\n",
       "\n",
       "    .dataframe tbody tr th {\n",
       "        vertical-align: top;\n",
       "    }\n",
       "\n",
       "    .dataframe thead th {\n",
       "        text-align: right;\n",
       "    }\n",
       "</style>\n",
       "<table border=\"1\" class=\"dataframe\">\n",
       "  <thead>\n",
       "    <tr style=\"text-align: right;\">\n",
       "      <th></th>\n",
       "      <th>Balance</th>\n",
       "      <th>Qual_miles</th>\n",
       "      <th>cc1_miles</th>\n",
       "      <th>cc2_miles</th>\n",
       "      <th>cc3_miles</th>\n",
       "      <th>Bonus_miles</th>\n",
       "      <th>Bonus_trans</th>\n",
       "      <th>Flight_miles_12mo</th>\n",
       "      <th>Flight_trans_12</th>\n",
       "      <th>Days_since_enroll</th>\n",
       "      <th>Award</th>\n",
       "    </tr>\n",
       "    <tr>\n",
       "      <th>cluster_new</th>\n",
       "      <th></th>\n",
       "      <th></th>\n",
       "      <th></th>\n",
       "      <th></th>\n",
       "      <th></th>\n",
       "      <th></th>\n",
       "      <th></th>\n",
       "      <th></th>\n",
       "      <th></th>\n",
       "      <th></th>\n",
       "      <th></th>\n",
       "    </tr>\n",
       "  </thead>\n",
       "  <tbody>\n",
       "    <tr>\n",
       "      <th>0.0</th>\n",
       "      <td>50261.908999</td>\n",
       "      <td>67.863498</td>\n",
       "      <td>1.688574</td>\n",
       "      <td>1.015672</td>\n",
       "      <td>1.008089</td>\n",
       "      <td>9459.361666</td>\n",
       "      <td>8.565723</td>\n",
       "      <td>5.030207</td>\n",
       "      <td>0.017947</td>\n",
       "      <td>3772.092518</td>\n",
       "      <td>0.009606</td>\n",
       "    </tr>\n",
       "    <tr>\n",
       "      <th>1.0</th>\n",
       "      <td>97906.691940</td>\n",
       "      <td>423.992714</td>\n",
       "      <td>2.260474</td>\n",
       "      <td>1.023679</td>\n",
       "      <td>1.003643</td>\n",
       "      <td>23102.756148</td>\n",
       "      <td>17.191257</td>\n",
       "      <td>668.377960</td>\n",
       "      <td>2.139344</td>\n",
       "      <td>4630.122040</td>\n",
       "      <td>0.983607</td>\n",
       "    </tr>\n",
       "    <tr>\n",
       "      <th>2.0</th>\n",
       "      <td>64121.478115</td>\n",
       "      <td>127.824919</td>\n",
       "      <td>2.878625</td>\n",
       "      <td>1.010741</td>\n",
       "      <td>1.026853</td>\n",
       "      <td>25390.023228</td>\n",
       "      <td>14.351235</td>\n",
       "      <td>67.235768</td>\n",
       "      <td>0.255639</td>\n",
       "      <td>4625.163265</td>\n",
       "      <td>0.984962</td>\n",
       "    </tr>\n",
       "    <tr>\n",
       "      <th>3.0</th>\n",
       "      <td>78179.599722</td>\n",
       "      <td>167.538033</td>\n",
       "      <td>1.805195</td>\n",
       "      <td>1.007421</td>\n",
       "      <td>1.011132</td>\n",
       "      <td>12249.601113</td>\n",
       "      <td>11.371058</td>\n",
       "      <td>512.272727</td>\n",
       "      <td>1.702226</td>\n",
       "      <td>4003.638219</td>\n",
       "      <td>0.009276</td>\n",
       "    </tr>\n",
       "  </tbody>\n",
       "</table>\n",
       "</div>"
      ],
      "text/plain": [
       "                  Balance  Qual_miles  cc1_miles  cc2_miles  cc3_miles  \\\n",
       "cluster_new                                                              \n",
       "0.0          50261.908999   67.863498   1.688574   1.015672   1.008089   \n",
       "1.0          97906.691940  423.992714   2.260474   1.023679   1.003643   \n",
       "2.0          64121.478115  127.824919   2.878625   1.010741   1.026853   \n",
       "3.0          78179.599722  167.538033   1.805195   1.007421   1.011132   \n",
       "\n",
       "              Bonus_miles  Bonus_trans  Flight_miles_12mo  Flight_trans_12  \\\n",
       "cluster_new                                                                  \n",
       "0.0           9459.361666     8.565723           5.030207         0.017947   \n",
       "1.0          23102.756148    17.191257         668.377960         2.139344   \n",
       "2.0          25390.023228    14.351235          67.235768         0.255639   \n",
       "3.0          12249.601113    11.371058         512.272727         1.702226   \n",
       "\n",
       "             Days_since_enroll     Award  \n",
       "cluster_new                               \n",
       "0.0                3772.092518  0.009606  \n",
       "1.0                4630.122040  0.983607  \n",
       "2.0                4625.163265  0.984962  \n",
       "3.0                4003.638219  0.009276  "
      ]
     },
     "execution_count": 78,
     "metadata": {},
     "output_type": "execute_result"
    }
   ],
   "source": [
    "new_df"
   ]
  },
  {
   "cell_type": "code",
   "execution_count": null,
   "id": "cb16b83e",
   "metadata": {},
   "outputs": [],
   "source": []
  },
  {
   "cell_type": "code",
   "execution_count": null,
   "id": "370d8292",
   "metadata": {},
   "outputs": [],
   "source": []
  },
  {
   "cell_type": "code",
   "execution_count": null,
   "id": "5c7b5f62",
   "metadata": {},
   "outputs": [],
   "source": []
  },
  {
   "cell_type": "code",
   "execution_count": null,
   "id": "4c84e2c5",
   "metadata": {},
   "outputs": [],
   "source": [
    "### Additional code to try different way of clustering for below 3 columns. #####"
   ]
  },
  {
   "cell_type": "code",
   "execution_count": null,
   "id": "f8557fc7",
   "metadata": {},
   "outputs": [],
   "source": [
    "#The Qual_miles_new column has 0 values in max rows.column cc2_miles and cc3_miles has value 1 in majority rows. \n",
    "#These 3 columns can be analysed separately and clustered."
   ]
  },
  {
   "cell_type": "code",
   "execution_count": null,
   "id": "1472b402",
   "metadata": {},
   "outputs": [],
   "source": [
    "df_cate = df.iloc[:,[1,3,4]]\n",
    "df_cate.head()"
   ]
  },
  {
   "cell_type": "code",
   "execution_count": null,
   "id": "2d5f5155",
   "metadata": {},
   "outputs": [],
   "source": [
    "df_cate.info()"
   ]
  },
  {
   "cell_type": "code",
   "execution_count": null,
   "id": "8ac0b526",
   "metadata": {},
   "outputs": [],
   "source": [
    "df_cate['Qual_miles'].unique()"
   ]
  },
  {
   "cell_type": "code",
   "execution_count": null,
   "id": "201dec36",
   "metadata": {},
   "outputs": [],
   "source": [
    "df_cate['Qual_miles'].value_counts()"
   ]
  },
  {
   "cell_type": "code",
   "execution_count": null,
   "id": "29a0c369",
   "metadata": {},
   "outputs": [],
   "source": [
    "df_cate['cc2_miles'].unique()"
   ]
  },
  {
   "cell_type": "code",
   "execution_count": null,
   "id": "8fe1f730",
   "metadata": {},
   "outputs": [],
   "source": [
    "df_cate['cc2_miles'].value_counts()"
   ]
  },
  {
   "cell_type": "code",
   "execution_count": null,
   "id": "fcd74068",
   "metadata": {},
   "outputs": [],
   "source": [
    "df_cate['cc3_miles'].unique()"
   ]
  },
  {
   "cell_type": "code",
   "execution_count": null,
   "id": "de6353d3",
   "metadata": {},
   "outputs": [],
   "source": [
    "df_cate['cc3_miles'].value_counts()"
   ]
  },
  {
   "cell_type": "code",
   "execution_count": null,
   "id": "f51f8ccb",
   "metadata": {},
   "outputs": [],
   "source": [
    "df_cate.describe()"
   ]
  },
  {
   "cell_type": "code",
   "execution_count": null,
   "id": "aa314b6e",
   "metadata": {},
   "outputs": [],
   "source": [
    "#df_cate['Qual_miles_new'] = (df_cate['Qual_miles']/df_cate['Qual_miles'].max())\n",
    "df_cate['cc2_miles_new'] = df_cate['cc2_miles']\n",
    "df_cate['cc3_miles_new'] = df_cate['cc3_miles']"
   ]
  },
  {
   "cell_type": "code",
   "execution_count": null,
   "id": "35ad55c7",
   "metadata": {},
   "outputs": [],
   "source": [
    "#df_cate = df_cate.drop(df_cate[df_cate.Qual_miles_new==0].index)\n",
    "#df_cate = df_cate.drop(df_cate[df_cate.cc2_miles_new==1].index)\n",
    "df_cate = df_cate.drop(df_cate[df_cate.cc3_miles_new==1].index)"
   ]
  },
  {
   "cell_type": "code",
   "execution_count": null,
   "id": "55aadc5f",
   "metadata": {},
   "outputs": [],
   "source": [
    "df_cate.shape"
   ]
  },
  {
   "cell_type": "code",
   "execution_count": null,
   "id": "b996354b",
   "metadata": {},
   "outputs": [],
   "source": [
    "winsor = Winsorizer(capping_method = 'iqr', tail =  'both', fold = 1.5, variables = ['cc3_miles_new'])\n",
    "\n",
    "df_cate['cc3_miles_new'] = winsor.fit_transform(df_cate[['cc3_miles_new']])"
   ]
  },
  {
   "cell_type": "code",
   "execution_count": null,
   "id": "abdef48b",
   "metadata": {},
   "outputs": [],
   "source": [
    "#df_cate['Qual_miles_new'] = df_cate['Qual_miles_new']/10000\n",
    "df_cate.plot(kind = 'box', subplots = True, sharey = False, figsize = (20, 6))\n",
    "\n",
    "plt.subplots_adjust(wspace = 1.5)\n",
    "plt.show()"
   ]
  },
  {
   "cell_type": "code",
   "execution_count": null,
   "id": "64973ca8",
   "metadata": {},
   "outputs": [],
   "source": []
  }
 ],
 "metadata": {
  "kernelspec": {
   "display_name": "Python 3 (ipykernel)",
   "language": "python",
   "name": "python3"
  },
  "language_info": {
   "codemirror_mode": {
    "name": "ipython",
    "version": 3
   },
   "file_extension": ".py",
   "mimetype": "text/x-python",
   "name": "python",
   "nbconvert_exporter": "python",
   "pygments_lexer": "ipython3",
   "version": "3.7.12"
  }
 },
 "nbformat": 4,
 "nbformat_minor": 5
}
