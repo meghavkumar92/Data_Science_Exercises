{
 "cells": [
  {
   "cell_type": "markdown",
   "id": "59c81bfc",
   "metadata": {},
   "source": [
    "# Logistic Regression"
   ]
  },
  {
   "cell_type": "markdown",
   "id": "dcdb1618",
   "metadata": {},
   "source": [
    "#### Build logistic regression model to understand the martial affair dataset and also identify the factors affecting the married couples."
   ]
  },
  {
   "cell_type": "code",
   "execution_count": 1,
   "id": "53721e08",
   "metadata": {},
   "outputs": [],
   "source": [
    "# import libraries\n",
    "import pandas as pd\n",
    "import numpy as np\n",
    "import matplotlib.pyplot as plt\n",
    "import seaborn as sns\n",
    "\n",
    "from feature_engine.outliers import Winsorizer\n",
    "from sklearn.preprocessing import MinMaxScaler\n",
    "from sklearn.impute import SimpleImputer\n",
    "from sklearn.compose import ColumnTransformer\n",
    "from sklearn.pipeline import Pipeline\n",
    "from sklearn.model_selection import train_test_split\n",
    "\n",
    "import statsmodels.api as sm\n",
    "\n",
    "from sklearn import metrics\n",
    "from sklearn.metrics import confusion_matrix, accuracy_score\n",
    "from sklearn.metrics import roc_curve\n",
    "from sklearn.metrics import classification_report"
   ]
  },
  {
   "cell_type": "code",
   "execution_count": 2,
   "id": "f487f735",
   "metadata": {},
   "outputs": [],
   "source": [
    "import warnings\n",
    "warnings.filterwarnings('ignore')"
   ]
  },
  {
   "cell_type": "code",
   "execution_count": 3,
   "id": "7da844b0",
   "metadata": {},
   "outputs": [
    {
     "name": "stdout",
     "output_type": "stream",
     "text": [
      "<class 'pandas.core.frame.DataFrame'>\n",
      "RangeIndex: 601 entries, 0 to 600\n",
      "Data columns (total 19 columns):\n",
      " #   Column      Non-Null Count  Dtype\n",
      "---  ------      --------------  -----\n",
      " 0   Unnamed: 0  601 non-null    int64\n",
      " 1   naffairs    601 non-null    int64\n",
      " 2   kids        601 non-null    int64\n",
      " 3   vryunhap    601 non-null    int64\n",
      " 4   unhap       601 non-null    int64\n",
      " 5   avgmarr     601 non-null    int64\n",
      " 6   hapavg      601 non-null    int64\n",
      " 7   vryhap      601 non-null    int64\n",
      " 8   antirel     601 non-null    int64\n",
      " 9   notrel      601 non-null    int64\n",
      " 10  slghtrel    601 non-null    int64\n",
      " 11  smerel      601 non-null    int64\n",
      " 12  vryrel      601 non-null    int64\n",
      " 13  yrsmarr1    601 non-null    int64\n",
      " 14  yrsmarr2    601 non-null    int64\n",
      " 15  yrsmarr3    601 non-null    int64\n",
      " 16  yrsmarr4    601 non-null    int64\n",
      " 17  yrsmarr5    601 non-null    int64\n",
      " 18  yrsmarr6    601 non-null    int64\n",
      "dtypes: int64(19)\n",
      "memory usage: 89.3 KB\n"
     ]
    }
   ],
   "source": [
    "# import dataset\n",
    "affair_df = pd.read_csv(r\"D:\\360digi\\DS\\Sharath\\Logistic_Regression_1\\handson\\Datasets-Day32-Logistic Regression\\Affairs.csv\")\n",
    "affair_df.info()"
   ]
  },
  {
   "cell_type": "code",
   "execution_count": 4,
   "id": "b177e2fe",
   "metadata": {},
   "outputs": [
    {
     "data": {
      "text/plain": [
       "Index(['Unnamed: 0', 'naffairs', 'kids', 'vryunhap', 'unhap', 'avgmarr',\n",
       "       'hapavg', 'vryhap', 'antirel', 'notrel', 'slghtrel', 'smerel', 'vryrel',\n",
       "       'yrsmarr1', 'yrsmarr2', 'yrsmarr3', 'yrsmarr4', 'yrsmarr5', 'yrsmarr6'],\n",
       "      dtype='object')"
      ]
     },
     "execution_count": 4,
     "metadata": {},
     "output_type": "execute_result"
    }
   ],
   "source": [
    "affair_df.columns"
   ]
  },
  {
   "cell_type": "code",
   "execution_count": 5,
   "id": "0606087a",
   "metadata": {},
   "outputs": [],
   "source": [
    "affair_df.drop('Unnamed: 0', axis = 1, inplace = True)"
   ]
  },
  {
   "cell_type": "code",
   "execution_count": 6,
   "id": "07fb064a",
   "metadata": {},
   "outputs": [
    {
     "data": {
      "text/html": [
       "<div>\n",
       "<style scoped>\n",
       "    .dataframe tbody tr th:only-of-type {\n",
       "        vertical-align: middle;\n",
       "    }\n",
       "\n",
       "    .dataframe tbody tr th {\n",
       "        vertical-align: top;\n",
       "    }\n",
       "\n",
       "    .dataframe thead th {\n",
       "        text-align: right;\n",
       "    }\n",
       "</style>\n",
       "<table border=\"1\" class=\"dataframe\">\n",
       "  <thead>\n",
       "    <tr style=\"text-align: right;\">\n",
       "      <th></th>\n",
       "      <th>naffairs</th>\n",
       "      <th>kids</th>\n",
       "      <th>vryunhap</th>\n",
       "      <th>unhap</th>\n",
       "      <th>avgmarr</th>\n",
       "      <th>hapavg</th>\n",
       "      <th>vryhap</th>\n",
       "      <th>antirel</th>\n",
       "      <th>notrel</th>\n",
       "      <th>slghtrel</th>\n",
       "      <th>smerel</th>\n",
       "      <th>vryrel</th>\n",
       "      <th>yrsmarr1</th>\n",
       "      <th>yrsmarr2</th>\n",
       "      <th>yrsmarr3</th>\n",
       "      <th>yrsmarr4</th>\n",
       "      <th>yrsmarr5</th>\n",
       "      <th>yrsmarr6</th>\n",
       "    </tr>\n",
       "  </thead>\n",
       "  <tbody>\n",
       "    <tr>\n",
       "      <th>0</th>\n",
       "      <td>0</td>\n",
       "      <td>0</td>\n",
       "      <td>0</td>\n",
       "      <td>0</td>\n",
       "      <td>0</td>\n",
       "      <td>1</td>\n",
       "      <td>0</td>\n",
       "      <td>0</td>\n",
       "      <td>0</td>\n",
       "      <td>1</td>\n",
       "      <td>0</td>\n",
       "      <td>0</td>\n",
       "      <td>0</td>\n",
       "      <td>0</td>\n",
       "      <td>0</td>\n",
       "      <td>0</td>\n",
       "      <td>1</td>\n",
       "      <td>0</td>\n",
       "    </tr>\n",
       "    <tr>\n",
       "      <th>1</th>\n",
       "      <td>0</td>\n",
       "      <td>0</td>\n",
       "      <td>0</td>\n",
       "      <td>0</td>\n",
       "      <td>0</td>\n",
       "      <td>1</td>\n",
       "      <td>0</td>\n",
       "      <td>0</td>\n",
       "      <td>0</td>\n",
       "      <td>0</td>\n",
       "      <td>1</td>\n",
       "      <td>0</td>\n",
       "      <td>0</td>\n",
       "      <td>0</td>\n",
       "      <td>1</td>\n",
       "      <td>0</td>\n",
       "      <td>0</td>\n",
       "      <td>0</td>\n",
       "    </tr>\n",
       "    <tr>\n",
       "      <th>2</th>\n",
       "      <td>3</td>\n",
       "      <td>0</td>\n",
       "      <td>0</td>\n",
       "      <td>0</td>\n",
       "      <td>0</td>\n",
       "      <td>1</td>\n",
       "      <td>0</td>\n",
       "      <td>0</td>\n",
       "      <td>0</td>\n",
       "      <td>1</td>\n",
       "      <td>0</td>\n",
       "      <td>0</td>\n",
       "      <td>0</td>\n",
       "      <td>1</td>\n",
       "      <td>0</td>\n",
       "      <td>0</td>\n",
       "      <td>0</td>\n",
       "      <td>0</td>\n",
       "    </tr>\n",
       "    <tr>\n",
       "      <th>3</th>\n",
       "      <td>0</td>\n",
       "      <td>1</td>\n",
       "      <td>0</td>\n",
       "      <td>0</td>\n",
       "      <td>0</td>\n",
       "      <td>1</td>\n",
       "      <td>0</td>\n",
       "      <td>1</td>\n",
       "      <td>0</td>\n",
       "      <td>0</td>\n",
       "      <td>0</td>\n",
       "      <td>0</td>\n",
       "      <td>0</td>\n",
       "      <td>0</td>\n",
       "      <td>0</td>\n",
       "      <td>0</td>\n",
       "      <td>0</td>\n",
       "      <td>1</td>\n",
       "    </tr>\n",
       "    <tr>\n",
       "      <th>4</th>\n",
       "      <td>3</td>\n",
       "      <td>1</td>\n",
       "      <td>0</td>\n",
       "      <td>0</td>\n",
       "      <td>0</td>\n",
       "      <td>0</td>\n",
       "      <td>1</td>\n",
       "      <td>0</td>\n",
       "      <td>0</td>\n",
       "      <td>1</td>\n",
       "      <td>0</td>\n",
       "      <td>0</td>\n",
       "      <td>0</td>\n",
       "      <td>0</td>\n",
       "      <td>1</td>\n",
       "      <td>0</td>\n",
       "      <td>0</td>\n",
       "      <td>0</td>\n",
       "    </tr>\n",
       "  </tbody>\n",
       "</table>\n",
       "</div>"
      ],
      "text/plain": [
       "   naffairs  kids  vryunhap  unhap  avgmarr  hapavg  vryhap  antirel  notrel  \\\n",
       "0         0     0         0      0        0       1       0        0       0   \n",
       "1         0     0         0      0        0       1       0        0       0   \n",
       "2         3     0         0      0        0       1       0        0       0   \n",
       "3         0     1         0      0        0       1       0        1       0   \n",
       "4         3     1         0      0        0       0       1        0       0   \n",
       "\n",
       "   slghtrel  smerel  vryrel  yrsmarr1  yrsmarr2  yrsmarr3  yrsmarr4  yrsmarr5  \\\n",
       "0         1       0       0         0         0         0         0         1   \n",
       "1         0       1       0         0         0         1         0         0   \n",
       "2         1       0       0         0         1         0         0         0   \n",
       "3         0       0       0         0         0         0         0         0   \n",
       "4         1       0       0         0         0         1         0         0   \n",
       "\n",
       "   yrsmarr6  \n",
       "0         0  \n",
       "1         0  \n",
       "2         0  \n",
       "3         1  \n",
       "4         0  "
      ]
     },
     "execution_count": 6,
     "metadata": {},
     "output_type": "execute_result"
    }
   ],
   "source": [
    "affair_df.head()"
   ]
  },
  {
   "cell_type": "code",
   "execution_count": 7,
   "id": "9b7b3e91",
   "metadata": {},
   "outputs": [
    {
     "data": {
      "text/plain": [
       "array([ 0,  3,  7, 12,  1,  2], dtype=int64)"
      ]
     },
     "execution_count": 7,
     "metadata": {},
     "output_type": "execute_result"
    }
   ],
   "source": [
    "affair_df['naffairs'].unique()"
   ]
  },
  {
   "cell_type": "code",
   "execution_count": 8,
   "id": "023e759b",
   "metadata": {},
   "outputs": [],
   "source": [
    "affair_df[\"y\"] = np.zeros(601)"
   ]
  },
  {
   "cell_type": "code",
   "execution_count": 9,
   "id": "5e27efac",
   "metadata": {},
   "outputs": [
    {
     "data": {
      "text/html": [
       "<div>\n",
       "<style scoped>\n",
       "    .dataframe tbody tr th:only-of-type {\n",
       "        vertical-align: middle;\n",
       "    }\n",
       "\n",
       "    .dataframe tbody tr th {\n",
       "        vertical-align: top;\n",
       "    }\n",
       "\n",
       "    .dataframe thead th {\n",
       "        text-align: right;\n",
       "    }\n",
       "</style>\n",
       "<table border=\"1\" class=\"dataframe\">\n",
       "  <thead>\n",
       "    <tr style=\"text-align: right;\">\n",
       "      <th></th>\n",
       "      <th>naffairs</th>\n",
       "      <th>kids</th>\n",
       "      <th>vryunhap</th>\n",
       "      <th>unhap</th>\n",
       "      <th>avgmarr</th>\n",
       "      <th>hapavg</th>\n",
       "      <th>vryhap</th>\n",
       "      <th>antirel</th>\n",
       "      <th>notrel</th>\n",
       "      <th>slghtrel</th>\n",
       "      <th>smerel</th>\n",
       "      <th>vryrel</th>\n",
       "      <th>yrsmarr1</th>\n",
       "      <th>yrsmarr2</th>\n",
       "      <th>yrsmarr3</th>\n",
       "      <th>yrsmarr4</th>\n",
       "      <th>yrsmarr5</th>\n",
       "      <th>yrsmarr6</th>\n",
       "      <th>y</th>\n",
       "    </tr>\n",
       "  </thead>\n",
       "  <tbody>\n",
       "    <tr>\n",
       "      <th>0</th>\n",
       "      <td>0</td>\n",
       "      <td>0</td>\n",
       "      <td>0</td>\n",
       "      <td>0</td>\n",
       "      <td>0</td>\n",
       "      <td>1</td>\n",
       "      <td>0</td>\n",
       "      <td>0</td>\n",
       "      <td>0</td>\n",
       "      <td>1</td>\n",
       "      <td>0</td>\n",
       "      <td>0</td>\n",
       "      <td>0</td>\n",
       "      <td>0</td>\n",
       "      <td>0</td>\n",
       "      <td>0</td>\n",
       "      <td>1</td>\n",
       "      <td>0</td>\n",
       "      <td>0.0</td>\n",
       "    </tr>\n",
       "    <tr>\n",
       "      <th>1</th>\n",
       "      <td>0</td>\n",
       "      <td>0</td>\n",
       "      <td>0</td>\n",
       "      <td>0</td>\n",
       "      <td>0</td>\n",
       "      <td>1</td>\n",
       "      <td>0</td>\n",
       "      <td>0</td>\n",
       "      <td>0</td>\n",
       "      <td>0</td>\n",
       "      <td>1</td>\n",
       "      <td>0</td>\n",
       "      <td>0</td>\n",
       "      <td>0</td>\n",
       "      <td>1</td>\n",
       "      <td>0</td>\n",
       "      <td>0</td>\n",
       "      <td>0</td>\n",
       "      <td>0.0</td>\n",
       "    </tr>\n",
       "    <tr>\n",
       "      <th>2</th>\n",
       "      <td>3</td>\n",
       "      <td>0</td>\n",
       "      <td>0</td>\n",
       "      <td>0</td>\n",
       "      <td>0</td>\n",
       "      <td>1</td>\n",
       "      <td>0</td>\n",
       "      <td>0</td>\n",
       "      <td>0</td>\n",
       "      <td>1</td>\n",
       "      <td>0</td>\n",
       "      <td>0</td>\n",
       "      <td>0</td>\n",
       "      <td>1</td>\n",
       "      <td>0</td>\n",
       "      <td>0</td>\n",
       "      <td>0</td>\n",
       "      <td>0</td>\n",
       "      <td>0.0</td>\n",
       "    </tr>\n",
       "    <tr>\n",
       "      <th>3</th>\n",
       "      <td>0</td>\n",
       "      <td>1</td>\n",
       "      <td>0</td>\n",
       "      <td>0</td>\n",
       "      <td>0</td>\n",
       "      <td>1</td>\n",
       "      <td>0</td>\n",
       "      <td>1</td>\n",
       "      <td>0</td>\n",
       "      <td>0</td>\n",
       "      <td>0</td>\n",
       "      <td>0</td>\n",
       "      <td>0</td>\n",
       "      <td>0</td>\n",
       "      <td>0</td>\n",
       "      <td>0</td>\n",
       "      <td>0</td>\n",
       "      <td>1</td>\n",
       "      <td>0.0</td>\n",
       "    </tr>\n",
       "    <tr>\n",
       "      <th>4</th>\n",
       "      <td>3</td>\n",
       "      <td>1</td>\n",
       "      <td>0</td>\n",
       "      <td>0</td>\n",
       "      <td>0</td>\n",
       "      <td>0</td>\n",
       "      <td>1</td>\n",
       "      <td>0</td>\n",
       "      <td>0</td>\n",
       "      <td>1</td>\n",
       "      <td>0</td>\n",
       "      <td>0</td>\n",
       "      <td>0</td>\n",
       "      <td>0</td>\n",
       "      <td>1</td>\n",
       "      <td>0</td>\n",
       "      <td>0</td>\n",
       "      <td>0</td>\n",
       "      <td>0.0</td>\n",
       "    </tr>\n",
       "  </tbody>\n",
       "</table>\n",
       "</div>"
      ],
      "text/plain": [
       "   naffairs  kids  vryunhap  unhap  avgmarr  hapavg  vryhap  antirel  notrel  \\\n",
       "0         0     0         0      0        0       1       0        0       0   \n",
       "1         0     0         0      0        0       1       0        0       0   \n",
       "2         3     0         0      0        0       1       0        0       0   \n",
       "3         0     1         0      0        0       1       0        1       0   \n",
       "4         3     1         0      0        0       0       1        0       0   \n",
       "\n",
       "   slghtrel  smerel  vryrel  yrsmarr1  yrsmarr2  yrsmarr3  yrsmarr4  yrsmarr5  \\\n",
       "0         1       0       0         0         0         0         0         1   \n",
       "1         0       1       0         0         0         1         0         0   \n",
       "2         1       0       0         0         1         0         0         0   \n",
       "3         0       0       0         0         0         0         0         0   \n",
       "4         1       0       0         0         0         1         0         0   \n",
       "\n",
       "   yrsmarr6    y  \n",
       "0         0  0.0  \n",
       "1         0  0.0  \n",
       "2         0  0.0  \n",
       "3         1  0.0  \n",
       "4         0  0.0  "
      ]
     },
     "execution_count": 9,
     "metadata": {},
     "output_type": "execute_result"
    }
   ],
   "source": [
    "affair_df.head()"
   ]
  },
  {
   "cell_type": "code",
   "execution_count": 10,
   "id": "fb61dd61",
   "metadata": {},
   "outputs": [],
   "source": [
    "# Binarize the 'naffairs' column data\n",
    "affair_df.loc[affair_df['naffairs'] > 0,  \"y\"] = 1"
   ]
  },
  {
   "cell_type": "code",
   "execution_count": 11,
   "id": "0bcf7c9e",
   "metadata": {},
   "outputs": [
    {
     "name": "stdout",
     "output_type": "stream",
     "text": [
      "<class 'pandas.core.frame.DataFrame'>\n",
      "RangeIndex: 601 entries, 0 to 600\n",
      "Data columns (total 19 columns):\n",
      " #   Column    Non-Null Count  Dtype  \n",
      "---  ------    --------------  -----  \n",
      " 0   naffairs  601 non-null    int64  \n",
      " 1   kids      601 non-null    int64  \n",
      " 2   vryunhap  601 non-null    int64  \n",
      " 3   unhap     601 non-null    int64  \n",
      " 4   avgmarr   601 non-null    int64  \n",
      " 5   hapavg    601 non-null    int64  \n",
      " 6   vryhap    601 non-null    int64  \n",
      " 7   antirel   601 non-null    int64  \n",
      " 8   notrel    601 non-null    int64  \n",
      " 9   slghtrel  601 non-null    int64  \n",
      " 10  smerel    601 non-null    int64  \n",
      " 11  vryrel    601 non-null    int64  \n",
      " 12  yrsmarr1  601 non-null    int64  \n",
      " 13  yrsmarr2  601 non-null    int64  \n",
      " 14  yrsmarr3  601 non-null    int64  \n",
      " 15  yrsmarr4  601 non-null    int64  \n",
      " 16  yrsmarr5  601 non-null    int64  \n",
      " 17  yrsmarr6  601 non-null    int64  \n",
      " 18  y         601 non-null    float64\n",
      "dtypes: float64(1), int64(18)\n",
      "memory usage: 89.3 KB\n"
     ]
    }
   ],
   "source": [
    "affair_df.info()"
   ]
  },
  {
   "cell_type": "code",
   "execution_count": 14,
   "id": "e954b9b2",
   "metadata": {},
   "outputs": [],
   "source": [
    "# change the datatype \n",
    "affair_df = pd.DataFrame(affair_df.astype(int))"
   ]
  },
  {
   "cell_type": "code",
   "execution_count": 15,
   "id": "472e4fc4",
   "metadata": {},
   "outputs": [
    {
     "name": "stdout",
     "output_type": "stream",
     "text": [
      "<class 'pandas.core.frame.DataFrame'>\n",
      "RangeIndex: 601 entries, 0 to 600\n",
      "Data columns (total 19 columns):\n",
      " #   Column    Non-Null Count  Dtype\n",
      "---  ------    --------------  -----\n",
      " 0   naffairs  601 non-null    int32\n",
      " 1   kids      601 non-null    int32\n",
      " 2   vryunhap  601 non-null    int32\n",
      " 3   unhap     601 non-null    int32\n",
      " 4   avgmarr   601 non-null    int32\n",
      " 5   hapavg    601 non-null    int32\n",
      " 6   vryhap    601 non-null    int32\n",
      " 7   antirel   601 non-null    int32\n",
      " 8   notrel    601 non-null    int32\n",
      " 9   slghtrel  601 non-null    int32\n",
      " 10  smerel    601 non-null    int32\n",
      " 11  vryrel    601 non-null    int32\n",
      " 12  yrsmarr1  601 non-null    int32\n",
      " 13  yrsmarr2  601 non-null    int32\n",
      " 14  yrsmarr3  601 non-null    int32\n",
      " 15  yrsmarr4  601 non-null    int32\n",
      " 16  yrsmarr5  601 non-null    int32\n",
      " 17  yrsmarr6  601 non-null    int32\n",
      " 18  y         601 non-null    int32\n",
      "dtypes: int32(19)\n",
      "memory usage: 44.7 KB\n"
     ]
    }
   ],
   "source": [
    "affair_df.info()"
   ]
  },
  {
   "cell_type": "markdown",
   "id": "e8bc3d40",
   "metadata": {},
   "source": [
    "### Data Preprocessing"
   ]
  },
  {
   "cell_type": "code",
   "execution_count": 16,
   "id": "ef29d609",
   "metadata": {},
   "outputs": [
    {
     "data": {
      "text/plain": [
       "naffairs    0\n",
       "kids        0\n",
       "vryunhap    0\n",
       "unhap       0\n",
       "avgmarr     0\n",
       "hapavg      0\n",
       "vryhap      0\n",
       "antirel     0\n",
       "notrel      0\n",
       "slghtrel    0\n",
       "smerel      0\n",
       "vryrel      0\n",
       "yrsmarr1    0\n",
       "yrsmarr2    0\n",
       "yrsmarr3    0\n",
       "yrsmarr4    0\n",
       "yrsmarr5    0\n",
       "yrsmarr6    0\n",
       "y           0\n",
       "dtype: int64"
      ]
     },
     "execution_count": 16,
     "metadata": {},
     "output_type": "execute_result"
    }
   ],
   "source": [
    "affair_df.isna().sum()"
   ]
  },
  {
   "cell_type": "code",
   "execution_count": 17,
   "id": "3c62364a",
   "metadata": {},
   "outputs": [
    {
     "data": {
      "text/plain": [
       "naffairs    0\n",
       "kids        0\n",
       "vryunhap    0\n",
       "unhap       0\n",
       "avgmarr     0\n",
       "hapavg      0\n",
       "vryhap      0\n",
       "antirel     0\n",
       "notrel      0\n",
       "slghtrel    0\n",
       "smerel      0\n",
       "vryrel      0\n",
       "yrsmarr1    0\n",
       "yrsmarr2    0\n",
       "yrsmarr3    0\n",
       "yrsmarr4    0\n",
       "yrsmarr5    0\n",
       "yrsmarr6    0\n",
       "y           0\n",
       "dtype: int64"
      ]
     },
     "execution_count": 17,
     "metadata": {},
     "output_type": "execute_result"
    }
   ],
   "source": [
    "affair_df.isnull().sum()"
   ]
  },
  {
   "cell_type": "code",
   "execution_count": 18,
   "id": "e361b540",
   "metadata": {},
   "outputs": [],
   "source": [
    "# Seperating input and output variables \n",
    "X = pd.DataFrame(affair_df.iloc[:, 1:18])\n",
    "Y = pd.DataFrame(affair_df.iloc[:, 18])"
   ]
  },
  {
   "cell_type": "code",
   "execution_count": 19,
   "id": "25c21117",
   "metadata": {},
   "outputs": [
    {
     "data": {
      "text/html": [
       "<div>\n",
       "<style scoped>\n",
       "    .dataframe tbody tr th:only-of-type {\n",
       "        vertical-align: middle;\n",
       "    }\n",
       "\n",
       "    .dataframe tbody tr th {\n",
       "        vertical-align: top;\n",
       "    }\n",
       "\n",
       "    .dataframe thead th {\n",
       "        text-align: right;\n",
       "    }\n",
       "</style>\n",
       "<table border=\"1\" class=\"dataframe\">\n",
       "  <thead>\n",
       "    <tr style=\"text-align: right;\">\n",
       "      <th></th>\n",
       "      <th>kids</th>\n",
       "      <th>vryunhap</th>\n",
       "      <th>unhap</th>\n",
       "      <th>avgmarr</th>\n",
       "      <th>hapavg</th>\n",
       "      <th>vryhap</th>\n",
       "      <th>antirel</th>\n",
       "      <th>notrel</th>\n",
       "      <th>slghtrel</th>\n",
       "      <th>smerel</th>\n",
       "      <th>vryrel</th>\n",
       "      <th>yrsmarr1</th>\n",
       "      <th>yrsmarr2</th>\n",
       "      <th>yrsmarr3</th>\n",
       "      <th>yrsmarr4</th>\n",
       "      <th>yrsmarr5</th>\n",
       "      <th>yrsmarr6</th>\n",
       "    </tr>\n",
       "  </thead>\n",
       "  <tbody>\n",
       "    <tr>\n",
       "      <th>count</th>\n",
       "      <td>601.000000</td>\n",
       "      <td>601.000000</td>\n",
       "      <td>601.000000</td>\n",
       "      <td>601.000000</td>\n",
       "      <td>601.000000</td>\n",
       "      <td>601.000000</td>\n",
       "      <td>601.000000</td>\n",
       "      <td>601.000000</td>\n",
       "      <td>601.000000</td>\n",
       "      <td>601.000000</td>\n",
       "      <td>601.000000</td>\n",
       "      <td>601.000000</td>\n",
       "      <td>601.000000</td>\n",
       "      <td>601.000000</td>\n",
       "      <td>601.000000</td>\n",
       "      <td>601.000000</td>\n",
       "      <td>601.000000</td>\n",
       "    </tr>\n",
       "    <tr>\n",
       "      <th>mean</th>\n",
       "      <td>0.715474</td>\n",
       "      <td>0.026622</td>\n",
       "      <td>0.109817</td>\n",
       "      <td>0.154742</td>\n",
       "      <td>0.322795</td>\n",
       "      <td>0.386023</td>\n",
       "      <td>0.079867</td>\n",
       "      <td>0.272879</td>\n",
       "      <td>0.214642</td>\n",
       "      <td>0.316140</td>\n",
       "      <td>0.116473</td>\n",
       "      <td>0.086522</td>\n",
       "      <td>0.146423</td>\n",
       "      <td>0.174709</td>\n",
       "      <td>0.136439</td>\n",
       "      <td>0.116473</td>\n",
       "      <td>0.339434</td>\n",
       "    </tr>\n",
       "    <tr>\n",
       "      <th>std</th>\n",
       "      <td>0.451564</td>\n",
       "      <td>0.161111</td>\n",
       "      <td>0.312922</td>\n",
       "      <td>0.361960</td>\n",
       "      <td>0.467935</td>\n",
       "      <td>0.487242</td>\n",
       "      <td>0.271313</td>\n",
       "      <td>0.445810</td>\n",
       "      <td>0.410916</td>\n",
       "      <td>0.465355</td>\n",
       "      <td>0.321058</td>\n",
       "      <td>0.281368</td>\n",
       "      <td>0.353824</td>\n",
       "      <td>0.380034</td>\n",
       "      <td>0.343540</td>\n",
       "      <td>0.321058</td>\n",
       "      <td>0.473912</td>\n",
       "    </tr>\n",
       "    <tr>\n",
       "      <th>min</th>\n",
       "      <td>0.000000</td>\n",
       "      <td>0.000000</td>\n",
       "      <td>0.000000</td>\n",
       "      <td>0.000000</td>\n",
       "      <td>0.000000</td>\n",
       "      <td>0.000000</td>\n",
       "      <td>0.000000</td>\n",
       "      <td>0.000000</td>\n",
       "      <td>0.000000</td>\n",
       "      <td>0.000000</td>\n",
       "      <td>0.000000</td>\n",
       "      <td>0.000000</td>\n",
       "      <td>0.000000</td>\n",
       "      <td>0.000000</td>\n",
       "      <td>0.000000</td>\n",
       "      <td>0.000000</td>\n",
       "      <td>0.000000</td>\n",
       "    </tr>\n",
       "    <tr>\n",
       "      <th>25%</th>\n",
       "      <td>0.000000</td>\n",
       "      <td>0.000000</td>\n",
       "      <td>0.000000</td>\n",
       "      <td>0.000000</td>\n",
       "      <td>0.000000</td>\n",
       "      <td>0.000000</td>\n",
       "      <td>0.000000</td>\n",
       "      <td>0.000000</td>\n",
       "      <td>0.000000</td>\n",
       "      <td>0.000000</td>\n",
       "      <td>0.000000</td>\n",
       "      <td>0.000000</td>\n",
       "      <td>0.000000</td>\n",
       "      <td>0.000000</td>\n",
       "      <td>0.000000</td>\n",
       "      <td>0.000000</td>\n",
       "      <td>0.000000</td>\n",
       "    </tr>\n",
       "    <tr>\n",
       "      <th>50%</th>\n",
       "      <td>1.000000</td>\n",
       "      <td>0.000000</td>\n",
       "      <td>0.000000</td>\n",
       "      <td>0.000000</td>\n",
       "      <td>0.000000</td>\n",
       "      <td>0.000000</td>\n",
       "      <td>0.000000</td>\n",
       "      <td>0.000000</td>\n",
       "      <td>0.000000</td>\n",
       "      <td>0.000000</td>\n",
       "      <td>0.000000</td>\n",
       "      <td>0.000000</td>\n",
       "      <td>0.000000</td>\n",
       "      <td>0.000000</td>\n",
       "      <td>0.000000</td>\n",
       "      <td>0.000000</td>\n",
       "      <td>0.000000</td>\n",
       "    </tr>\n",
       "    <tr>\n",
       "      <th>75%</th>\n",
       "      <td>1.000000</td>\n",
       "      <td>0.000000</td>\n",
       "      <td>0.000000</td>\n",
       "      <td>0.000000</td>\n",
       "      <td>1.000000</td>\n",
       "      <td>1.000000</td>\n",
       "      <td>0.000000</td>\n",
       "      <td>1.000000</td>\n",
       "      <td>0.000000</td>\n",
       "      <td>1.000000</td>\n",
       "      <td>0.000000</td>\n",
       "      <td>0.000000</td>\n",
       "      <td>0.000000</td>\n",
       "      <td>0.000000</td>\n",
       "      <td>0.000000</td>\n",
       "      <td>0.000000</td>\n",
       "      <td>1.000000</td>\n",
       "    </tr>\n",
       "    <tr>\n",
       "      <th>max</th>\n",
       "      <td>1.000000</td>\n",
       "      <td>1.000000</td>\n",
       "      <td>1.000000</td>\n",
       "      <td>1.000000</td>\n",
       "      <td>1.000000</td>\n",
       "      <td>1.000000</td>\n",
       "      <td>1.000000</td>\n",
       "      <td>1.000000</td>\n",
       "      <td>1.000000</td>\n",
       "      <td>1.000000</td>\n",
       "      <td>1.000000</td>\n",
       "      <td>1.000000</td>\n",
       "      <td>1.000000</td>\n",
       "      <td>1.000000</td>\n",
       "      <td>1.000000</td>\n",
       "      <td>1.000000</td>\n",
       "      <td>1.000000</td>\n",
       "    </tr>\n",
       "  </tbody>\n",
       "</table>\n",
       "</div>"
      ],
      "text/plain": [
       "             kids    vryunhap       unhap     avgmarr      hapavg      vryhap  \\\n",
       "count  601.000000  601.000000  601.000000  601.000000  601.000000  601.000000   \n",
       "mean     0.715474    0.026622    0.109817    0.154742    0.322795    0.386023   \n",
       "std      0.451564    0.161111    0.312922    0.361960    0.467935    0.487242   \n",
       "min      0.000000    0.000000    0.000000    0.000000    0.000000    0.000000   \n",
       "25%      0.000000    0.000000    0.000000    0.000000    0.000000    0.000000   \n",
       "50%      1.000000    0.000000    0.000000    0.000000    0.000000    0.000000   \n",
       "75%      1.000000    0.000000    0.000000    0.000000    1.000000    1.000000   \n",
       "max      1.000000    1.000000    1.000000    1.000000    1.000000    1.000000   \n",
       "\n",
       "          antirel      notrel    slghtrel      smerel      vryrel    yrsmarr1  \\\n",
       "count  601.000000  601.000000  601.000000  601.000000  601.000000  601.000000   \n",
       "mean     0.079867    0.272879    0.214642    0.316140    0.116473    0.086522   \n",
       "std      0.271313    0.445810    0.410916    0.465355    0.321058    0.281368   \n",
       "min      0.000000    0.000000    0.000000    0.000000    0.000000    0.000000   \n",
       "25%      0.000000    0.000000    0.000000    0.000000    0.000000    0.000000   \n",
       "50%      0.000000    0.000000    0.000000    0.000000    0.000000    0.000000   \n",
       "75%      0.000000    1.000000    0.000000    1.000000    0.000000    0.000000   \n",
       "max      1.000000    1.000000    1.000000    1.000000    1.000000    1.000000   \n",
       "\n",
       "         yrsmarr2    yrsmarr3    yrsmarr4    yrsmarr5    yrsmarr6  \n",
       "count  601.000000  601.000000  601.000000  601.000000  601.000000  \n",
       "mean     0.146423    0.174709    0.136439    0.116473    0.339434  \n",
       "std      0.353824    0.380034    0.343540    0.321058    0.473912  \n",
       "min      0.000000    0.000000    0.000000    0.000000    0.000000  \n",
       "25%      0.000000    0.000000    0.000000    0.000000    0.000000  \n",
       "50%      0.000000    0.000000    0.000000    0.000000    0.000000  \n",
       "75%      0.000000    0.000000    0.000000    0.000000    1.000000  \n",
       "max      1.000000    1.000000    1.000000    1.000000    1.000000  "
      ]
     },
     "execution_count": 19,
     "metadata": {},
     "output_type": "execute_result"
    }
   ],
   "source": [
    "X.describe()"
   ]
  },
  {
   "cell_type": "code",
   "execution_count": 20,
   "id": "b5e4c8f1",
   "metadata": {},
   "outputs": [
    {
     "data": {
      "image/png": "[encoded data removed]",
      "text/plain": [
       "<Figure size 1700x500 with 17 Axes>"
      ]
     },
     "metadata": {},
     "output_type": "display_data"
    }
   ],
   "source": [
    "# box plot visualisation\n",
    "X.plot(kind = 'box', subplots = True, sharey = False, figsize = (17,5))\n",
    "plt.subplots_adjust(wspace = 0.75)\n",
    "plt.show()\n",
    "#Most of the columns have binary data as 0 or 1, its not outliers"
   ]
  },
  {
   "cell_type": "code",
   "execution_count": 21,
   "id": "82e10492",
   "metadata": {},
   "outputs": [
    {
     "data": {
      "text/plain": [
       "Index(['kids', 'vryunhap', 'unhap', 'avgmarr', 'hapavg', 'vryhap', 'antirel',\n",
       "       'notrel', 'slghtrel', 'smerel', 'vryrel', 'yrsmarr1', 'yrsmarr2',\n",
       "       'yrsmarr3', 'yrsmarr4', 'yrsmarr5', 'yrsmarr6'],\n",
       "      dtype='object')"
      ]
     },
     "execution_count": 21,
     "metadata": {},
     "output_type": "execute_result"
    }
   ],
   "source": [
    "numeric_features = X.select_dtypes(exclude = ['object']).columns\n",
    "numeric_features"
   ]
  },
  {
   "cell_type": "code",
   "execution_count": 22,
   "id": "6449f518",
   "metadata": {},
   "outputs": [],
   "source": [
    "## Scaling with MinMaxScaler\n",
    "scale_pipeline = Pipeline([('scale', MinMaxScaler())])\n",
    "\n",
    "scale_columntransfer = ColumnTransformer([('scale', scale_pipeline, numeric_features)]) # Skips the transformations for remaining columns\n",
    "\n",
    "scale = scale_columntransfer.fit(X)\n"
   ]
  },
  {
   "cell_type": "code",
   "execution_count": 23,
   "id": "a61f696e",
   "metadata": {},
   "outputs": [
    {
     "data": {
      "text/html": [
       "<div>\n",
       "<style scoped>\n",
       "    .dataframe tbody tr th:only-of-type {\n",
       "        vertical-align: middle;\n",
       "    }\n",
       "\n",
       "    .dataframe tbody tr th {\n",
       "        vertical-align: top;\n",
       "    }\n",
       "\n",
       "    .dataframe thead th {\n",
       "        text-align: right;\n",
       "    }\n",
       "</style>\n",
       "<table border=\"1\" class=\"dataframe\">\n",
       "  <thead>\n",
       "    <tr style=\"text-align: right;\">\n",
       "      <th></th>\n",
       "      <th>kids</th>\n",
       "      <th>vryunhap</th>\n",
       "      <th>unhap</th>\n",
       "      <th>avgmarr</th>\n",
       "      <th>hapavg</th>\n",
       "      <th>vryhap</th>\n",
       "      <th>antirel</th>\n",
       "      <th>notrel</th>\n",
       "      <th>slghtrel</th>\n",
       "      <th>smerel</th>\n",
       "      <th>vryrel</th>\n",
       "      <th>yrsmarr1</th>\n",
       "      <th>yrsmarr2</th>\n",
       "      <th>yrsmarr3</th>\n",
       "      <th>yrsmarr4</th>\n",
       "      <th>yrsmarr5</th>\n",
       "      <th>yrsmarr6</th>\n",
       "    </tr>\n",
       "  </thead>\n",
       "  <tbody>\n",
       "    <tr>\n",
       "      <th>count</th>\n",
       "      <td>601.000000</td>\n",
       "      <td>601.000000</td>\n",
       "      <td>601.000000</td>\n",
       "      <td>601.000000</td>\n",
       "      <td>601.000000</td>\n",
       "      <td>601.000000</td>\n",
       "      <td>601.000000</td>\n",
       "      <td>601.000000</td>\n",
       "      <td>601.000000</td>\n",
       "      <td>601.000000</td>\n",
       "      <td>601.000000</td>\n",
       "      <td>601.000000</td>\n",
       "      <td>601.000000</td>\n",
       "      <td>601.000000</td>\n",
       "      <td>601.000000</td>\n",
       "      <td>601.000000</td>\n",
       "      <td>601.000000</td>\n",
       "    </tr>\n",
       "    <tr>\n",
       "      <th>mean</th>\n",
       "      <td>0.715474</td>\n",
       "      <td>0.026622</td>\n",
       "      <td>0.109817</td>\n",
       "      <td>0.154742</td>\n",
       "      <td>0.322795</td>\n",
       "      <td>0.386023</td>\n",
       "      <td>0.079867</td>\n",
       "      <td>0.272879</td>\n",
       "      <td>0.214642</td>\n",
       "      <td>0.316140</td>\n",
       "      <td>0.116473</td>\n",
       "      <td>0.086522</td>\n",
       "      <td>0.146423</td>\n",
       "      <td>0.174709</td>\n",
       "      <td>0.136439</td>\n",
       "      <td>0.116473</td>\n",
       "      <td>0.339434</td>\n",
       "    </tr>\n",
       "    <tr>\n",
       "      <th>std</th>\n",
       "      <td>0.451564</td>\n",
       "      <td>0.161111</td>\n",
       "      <td>0.312922</td>\n",
       "      <td>0.361960</td>\n",
       "      <td>0.467935</td>\n",
       "      <td>0.487242</td>\n",
       "      <td>0.271313</td>\n",
       "      <td>0.445810</td>\n",
       "      <td>0.410916</td>\n",
       "      <td>0.465355</td>\n",
       "      <td>0.321058</td>\n",
       "      <td>0.281368</td>\n",
       "      <td>0.353824</td>\n",
       "      <td>0.380034</td>\n",
       "      <td>0.343540</td>\n",
       "      <td>0.321058</td>\n",
       "      <td>0.473912</td>\n",
       "    </tr>\n",
       "    <tr>\n",
       "      <th>min</th>\n",
       "      <td>0.000000</td>\n",
       "      <td>0.000000</td>\n",
       "      <td>0.000000</td>\n",
       "      <td>0.000000</td>\n",
       "      <td>0.000000</td>\n",
       "      <td>0.000000</td>\n",
       "      <td>0.000000</td>\n",
       "      <td>0.000000</td>\n",
       "      <td>0.000000</td>\n",
       "      <td>0.000000</td>\n",
       "      <td>0.000000</td>\n",
       "      <td>0.000000</td>\n",
       "      <td>0.000000</td>\n",
       "      <td>0.000000</td>\n",
       "      <td>0.000000</td>\n",
       "      <td>0.000000</td>\n",
       "      <td>0.000000</td>\n",
       "    </tr>\n",
       "    <tr>\n",
       "      <th>25%</th>\n",
       "      <td>0.000000</td>\n",
       "      <td>0.000000</td>\n",
       "      <td>0.000000</td>\n",
       "      <td>0.000000</td>\n",
       "      <td>0.000000</td>\n",
       "      <td>0.000000</td>\n",
       "      <td>0.000000</td>\n",
       "      <td>0.000000</td>\n",
       "      <td>0.000000</td>\n",
       "      <td>0.000000</td>\n",
       "      <td>0.000000</td>\n",
       "      <td>0.000000</td>\n",
       "      <td>0.000000</td>\n",
       "      <td>0.000000</td>\n",
       "      <td>0.000000</td>\n",
       "      <td>0.000000</td>\n",
       "      <td>0.000000</td>\n",
       "    </tr>\n",
       "    <tr>\n",
       "      <th>50%</th>\n",
       "      <td>1.000000</td>\n",
       "      <td>0.000000</td>\n",
       "      <td>0.000000</td>\n",
       "      <td>0.000000</td>\n",
       "      <td>0.000000</td>\n",
       "      <td>0.000000</td>\n",
       "      <td>0.000000</td>\n",
       "      <td>0.000000</td>\n",
       "      <td>0.000000</td>\n",
       "      <td>0.000000</td>\n",
       "      <td>0.000000</td>\n",
       "      <td>0.000000</td>\n",
       "      <td>0.000000</td>\n",
       "      <td>0.000000</td>\n",
       "      <td>0.000000</td>\n",
       "      <td>0.000000</td>\n",
       "      <td>0.000000</td>\n",
       "    </tr>\n",
       "    <tr>\n",
       "      <th>75%</th>\n",
       "      <td>1.000000</td>\n",
       "      <td>0.000000</td>\n",
       "      <td>0.000000</td>\n",
       "      <td>0.000000</td>\n",
       "      <td>1.000000</td>\n",
       "      <td>1.000000</td>\n",
       "      <td>0.000000</td>\n",
       "      <td>1.000000</td>\n",
       "      <td>0.000000</td>\n",
       "      <td>1.000000</td>\n",
       "      <td>0.000000</td>\n",
       "      <td>0.000000</td>\n",
       "      <td>0.000000</td>\n",
       "      <td>0.000000</td>\n",
       "      <td>0.000000</td>\n",
       "      <td>0.000000</td>\n",
       "      <td>1.000000</td>\n",
       "    </tr>\n",
       "    <tr>\n",
       "      <th>max</th>\n",
       "      <td>1.000000</td>\n",
       "      <td>1.000000</td>\n",
       "      <td>1.000000</td>\n",
       "      <td>1.000000</td>\n",
       "      <td>1.000000</td>\n",
       "      <td>1.000000</td>\n",
       "      <td>1.000000</td>\n",
       "      <td>1.000000</td>\n",
       "      <td>1.000000</td>\n",
       "      <td>1.000000</td>\n",
       "      <td>1.000000</td>\n",
       "      <td>1.000000</td>\n",
       "      <td>1.000000</td>\n",
       "      <td>1.000000</td>\n",
       "      <td>1.000000</td>\n",
       "      <td>1.000000</td>\n",
       "      <td>1.000000</td>\n",
       "    </tr>\n",
       "  </tbody>\n",
       "</table>\n",
       "</div>"
      ],
      "text/plain": [
       "             kids    vryunhap       unhap     avgmarr      hapavg      vryhap  \\\n",
       "count  601.000000  601.000000  601.000000  601.000000  601.000000  601.000000   \n",
       "mean     0.715474    0.026622    0.109817    0.154742    0.322795    0.386023   \n",
       "std      0.451564    0.161111    0.312922    0.361960    0.467935    0.487242   \n",
       "min      0.000000    0.000000    0.000000    0.000000    0.000000    0.000000   \n",
       "25%      0.000000    0.000000    0.000000    0.000000    0.000000    0.000000   \n",
       "50%      1.000000    0.000000    0.000000    0.000000    0.000000    0.000000   \n",
       "75%      1.000000    0.000000    0.000000    0.000000    1.000000    1.000000   \n",
       "max      1.000000    1.000000    1.000000    1.000000    1.000000    1.000000   \n",
       "\n",
       "          antirel      notrel    slghtrel      smerel      vryrel    yrsmarr1  \\\n",
       "count  601.000000  601.000000  601.000000  601.000000  601.000000  601.000000   \n",
       "mean     0.079867    0.272879    0.214642    0.316140    0.116473    0.086522   \n",
       "std      0.271313    0.445810    0.410916    0.465355    0.321058    0.281368   \n",
       "min      0.000000    0.000000    0.000000    0.000000    0.000000    0.000000   \n",
       "25%      0.000000    0.000000    0.000000    0.000000    0.000000    0.000000   \n",
       "50%      0.000000    0.000000    0.000000    0.000000    0.000000    0.000000   \n",
       "75%      0.000000    1.000000    0.000000    1.000000    0.000000    0.000000   \n",
       "max      1.000000    1.000000    1.000000    1.000000    1.000000    1.000000   \n",
       "\n",
       "         yrsmarr2    yrsmarr3    yrsmarr4    yrsmarr5    yrsmarr6  \n",
       "count  601.000000  601.000000  601.000000  601.000000  601.000000  \n",
       "mean     0.146423    0.174709    0.136439    0.116473    0.339434  \n",
       "std      0.353824    0.380034    0.343540    0.321058    0.473912  \n",
       "min      0.000000    0.000000    0.000000    0.000000    0.000000  \n",
       "25%      0.000000    0.000000    0.000000    0.000000    0.000000  \n",
       "50%      0.000000    0.000000    0.000000    0.000000    0.000000  \n",
       "75%      0.000000    0.000000    0.000000    0.000000    1.000000  \n",
       "max      1.000000    1.000000    1.000000    1.000000    1.000000  "
      ]
     },
     "execution_count": 23,
     "metadata": {},
     "output_type": "execute_result"
    }
   ],
   "source": [
    "scaled_data = pd.DataFrame(scale.transform(X), columns = numeric_features)\n",
    "scaled_data.describe()"
   ]
  },
  {
   "cell_type": "code",
   "execution_count": 24,
   "id": "18bba69e",
   "metadata": {},
   "outputs": [
    {
     "name": "stdout",
     "output_type": "stream",
     "text": [
      "<class 'pandas.core.frame.DataFrame'>\n",
      "RangeIndex: 601 entries, 0 to 600\n",
      "Data columns (total 1 columns):\n",
      " #   Column  Non-Null Count  Dtype\n",
      "---  ------  --------------  -----\n",
      " 0   y       601 non-null    int32\n",
      "dtypes: int32(1)\n",
      "memory usage: 2.5 KB\n"
     ]
    }
   ],
   "source": [
    "Y.info()"
   ]
  },
  {
   "cell_type": "code",
   "execution_count": null,
   "id": "f9f5f2c4",
   "metadata": {},
   "outputs": [],
   "source": []
  },
  {
   "cell_type": "markdown",
   "id": "9695acda",
   "metadata": {},
   "source": [
    "# Logistic Regression"
   ]
  },
  {
   "cell_type": "code",
   "execution_count": 25,
   "id": "f00887ef",
   "metadata": {},
   "outputs": [
    {
     "name": "stdout",
     "output_type": "stream",
     "text": [
      "Optimization terminated successfully.\n",
      "         Current function value: 0.501009\n",
      "         Iterations 7\n"
     ]
    }
   ],
   "source": [
    "logit_model = sm.Logit(Y, scaled_data ).fit()"
   ]
  },
  {
   "cell_type": "code",
   "execution_count": 26,
   "id": "6cad10c7",
   "metadata": {},
   "outputs": [
    {
     "data": {
      "text/html": [
       "<table class=\"simpletable\">\n",
       "<caption>Logit Regression Results</caption>\n",
       "<tr>\n",
       "  <th>Dep. Variable:</th>           <td>y</td>        <th>  No. Observations:  </th>  <td>   601</td>  \n",
       "</tr>\n",
       "<tr>\n",
       "  <th>Model:</th>                 <td>Logit</td>      <th>  Df Residuals:      </th>  <td>   586</td>  \n",
       "</tr>\n",
       "<tr>\n",
       "  <th>Method:</th>                 <td>MLE</td>       <th>  Df Model:          </th>  <td>    14</td>  \n",
       "</tr>\n",
       "<tr>\n",
       "  <th>Date:</th>            <td>Tue, 21 Mar 2023</td> <th>  Pseudo R-squ.:     </th>  <td>0.1083</td>  \n",
       "</tr>\n",
       "<tr>\n",
       "  <th>Time:</th>                <td>22:55:43</td>     <th>  Log-Likelihood:    </th> <td> -301.11</td> \n",
       "</tr>\n",
       "<tr>\n",
       "  <th>converged:</th>             <td>True</td>       <th>  LL-Null:           </th> <td> -337.69</td> \n",
       "</tr>\n",
       "<tr>\n",
       "  <th>Covariance Type:</th>     <td>nonrobust</td>    <th>  LLR p-value:       </th> <td>5.129e-10</td>\n",
       "</tr>\n",
       "</table>\n",
       "<table class=\"simpletable\">\n",
       "<tr>\n",
       "      <td></td>        <th>coef</th>     <th>std err</th>      <th>z</th>      <th>P>|z|</th>  <th>[0.025</th>    <th>0.975]</th>  \n",
       "</tr>\n",
       "<tr>\n",
       "  <th>kids</th>     <td>    0.1727</td> <td>    0.311</td> <td>    0.556</td> <td> 0.579</td> <td>   -0.437</td> <td>    0.782</td>\n",
       "</tr>\n",
       "<tr>\n",
       "  <th>vryunhap</th> <td>    0.2951</td> <td>      nan</td> <td>      nan</td> <td>   nan</td> <td>      nan</td> <td>      nan</td>\n",
       "</tr>\n",
       "<tr>\n",
       "  <th>unhap</th>    <td>    0.4007</td> <td>      nan</td> <td>      nan</td> <td>   nan</td> <td>      nan</td> <td>      nan</td>\n",
       "</tr>\n",
       "<tr>\n",
       "  <th>avgmarr</th>  <td>   -0.4358</td> <td>      nan</td> <td>      nan</td> <td>   nan</td> <td>      nan</td> <td>      nan</td>\n",
       "</tr>\n",
       "<tr>\n",
       "  <th>hapavg</th>   <td>   -0.7443</td> <td>      nan</td> <td>      nan</td> <td>   nan</td> <td>      nan</td> <td>      nan</td>\n",
       "</tr>\n",
       "<tr>\n",
       "  <th>vryhap</th>   <td>   -1.2228</td> <td>      nan</td> <td>      nan</td> <td>   nan</td> <td>      nan</td> <td>      nan</td>\n",
       "</tr>\n",
       "<tr>\n",
       "  <th>antirel</th>  <td>    0.5636</td> <td>      nan</td> <td>      nan</td> <td>   nan</td> <td>      nan</td> <td>      nan</td>\n",
       "</tr>\n",
       "<tr>\n",
       "  <th>notrel</th>   <td>   -0.4231</td> <td>      nan</td> <td>      nan</td> <td>   nan</td> <td>      nan</td> <td>      nan</td>\n",
       "</tr>\n",
       "<tr>\n",
       "  <th>slghtrel</th> <td>   -0.0331</td> <td>      nan</td> <td>      nan</td> <td>   nan</td> <td>      nan</td> <td>      nan</td>\n",
       "</tr>\n",
       "<tr>\n",
       "  <th>smerel</th>   <td>   -0.9556</td> <td>      nan</td> <td>      nan</td> <td>   nan</td> <td>      nan</td> <td>      nan</td>\n",
       "</tr>\n",
       "<tr>\n",
       "  <th>vryrel</th>   <td>   -0.8587</td> <td>      nan</td> <td>      nan</td> <td>   nan</td> <td>      nan</td> <td>      nan</td>\n",
       "</tr>\n",
       "<tr>\n",
       "  <th>yrsmarr1</th> <td>   -1.0395</td> <td>      nan</td> <td>      nan</td> <td>   nan</td> <td>      nan</td> <td>      nan</td>\n",
       "</tr>\n",
       "<tr>\n",
       "  <th>yrsmarr2</th> <td>   -0.7424</td> <td>      nan</td> <td>      nan</td> <td>   nan</td> <td>      nan</td> <td>      nan</td>\n",
       "</tr>\n",
       "<tr>\n",
       "  <th>yrsmarr3</th> <td>   -0.1181</td> <td>      nan</td> <td>      nan</td> <td>   nan</td> <td>      nan</td> <td>      nan</td>\n",
       "</tr>\n",
       "<tr>\n",
       "  <th>yrsmarr4</th> <td>   -0.0925</td> <td>      nan</td> <td>      nan</td> <td>   nan</td> <td>      nan</td> <td>      nan</td>\n",
       "</tr>\n",
       "<tr>\n",
       "  <th>yrsmarr5</th> <td>    0.2272</td> <td>      nan</td> <td>      nan</td> <td>   nan</td> <td>      nan</td> <td>      nan</td>\n",
       "</tr>\n",
       "<tr>\n",
       "  <th>yrsmarr6</th> <td>    0.0583</td> <td>      nan</td> <td>      nan</td> <td>   nan</td> <td>      nan</td> <td>      nan</td>\n",
       "</tr>\n",
       "</table>"
      ],
      "text/plain": [
       "<class 'statsmodels.iolib.summary.Summary'>\n",
       "\"\"\"\n",
       "                           Logit Regression Results                           \n",
       "==============================================================================\n",
       "Dep. Variable:                      y   No. Observations:                  601\n",
       "Model:                          Logit   Df Residuals:                      586\n",
       "Method:                           MLE   Df Model:                           14\n",
       "Date:                Tue, 21 Mar 2023   Pseudo R-squ.:                  0.1083\n",
       "Time:                        22:55:43   Log-Likelihood:                -301.11\n",
       "converged:                       True   LL-Null:                       -337.69\n",
       "Covariance Type:            nonrobust   LLR p-value:                 5.129e-10\n",
       "==============================================================================\n",
       "                 coef    std err          z      P>|z|      [0.025      0.975]\n",
       "------------------------------------------------------------------------------\n",
       "kids           0.1727      0.311      0.556      0.579      -0.437       0.782\n",
       "vryunhap       0.2951        nan        nan        nan         nan         nan\n",
       "unhap          0.4007        nan        nan        nan         nan         nan\n",
       "avgmarr       -0.4358        nan        nan        nan         nan         nan\n",
       "hapavg        -0.7443        nan        nan        nan         nan         nan\n",
       "vryhap        -1.2228        nan        nan        nan         nan         nan\n",
       "antirel        0.5636        nan        nan        nan         nan         nan\n",
       "notrel        -0.4231        nan        nan        nan         nan         nan\n",
       "slghtrel      -0.0331        nan        nan        nan         nan         nan\n",
       "smerel        -0.9556        nan        nan        nan         nan         nan\n",
       "vryrel        -0.8587        nan        nan        nan         nan         nan\n",
       "yrsmarr1      -1.0395        nan        nan        nan         nan         nan\n",
       "yrsmarr2      -0.7424        nan        nan        nan         nan         nan\n",
       "yrsmarr3      -0.1181        nan        nan        nan         nan         nan\n",
       "yrsmarr4      -0.0925        nan        nan        nan         nan         nan\n",
       "yrsmarr5       0.2272        nan        nan        nan         nan         nan\n",
       "yrsmarr6       0.0583        nan        nan        nan         nan         nan\n",
       "==============================================================================\n",
       "\"\"\""
      ]
     },
     "execution_count": 26,
     "metadata": {},
     "output_type": "execute_result"
    }
   ],
   "source": [
    "logit_model.summary()"
   ]
  },
  {
   "cell_type": "code",
   "execution_count": 27,
   "id": "457b4e39",
   "metadata": {},
   "outputs": [
    {
     "data": {
      "text/html": [
       "<table class=\"simpletable\">\n",
       "<tr>\n",
       "        <td>Model:</td>              <td>Logit</td>      <td>Pseudo R-squared:</td>    <td>0.108</td>  \n",
       "</tr>\n",
       "<tr>\n",
       "  <td>Dependent Variable:</td>         <td>y</td>              <td>AIC:</td>         <td>632.2126</td> \n",
       "</tr>\n",
       "<tr>\n",
       "         <td>Date:</td>        <td>2023-03-21 22:55</td>       <td>BIC:</td>         <td>698.1915</td> \n",
       "</tr>\n",
       "<tr>\n",
       "   <td>No. Observations:</td>         <td>601</td>        <td>Log-Likelihood:</td>    <td>-301.11</td> \n",
       "</tr>\n",
       "<tr>\n",
       "       <td>Df Model:</td>             <td>14</td>            <td>LL-Null:</td>        <td>-337.69</td> \n",
       "</tr>\n",
       "<tr>\n",
       "     <td>Df Residuals:</td>           <td>586</td>         <td>LLR p-value:</td>    <td>5.1293e-10</td>\n",
       "</tr>\n",
       "<tr>\n",
       "      <td>Converged:</td>           <td>1.0000</td>           <td>Scale:</td>         <td>1.0000</td>  \n",
       "</tr>\n",
       "<tr>\n",
       "    <td>No. Iterations:</td>        <td>7.0000</td>              <td></td>               <td></td>     \n",
       "</tr>\n",
       "</table>\n",
       "<table class=\"simpletable\">\n",
       "<tr>\n",
       "      <td></td>      <th>Coef.</th>  <th>Std.Err.</th>    <th>z</th>    <th>P>|z|</th> <th>[0.025</th>  <th>0.975]</th>\n",
       "</tr>\n",
       "<tr>\n",
       "  <th>kids</th>     <td>0.1727</td>   <td>0.3110</td>  <td>0.5555</td> <td>0.5785</td> <td>-0.4367</td> <td>0.7822</td>\n",
       "</tr>\n",
       "<tr>\n",
       "  <th>vryunhap</th> <td>0.2951</td>     <td>nan</td>     <td>nan</td>    <td>nan</td>    <td>nan</td>     <td>nan</td> \n",
       "</tr>\n",
       "<tr>\n",
       "  <th>unhap</th>    <td>0.4007</td>     <td>nan</td>     <td>nan</td>    <td>nan</td>    <td>nan</td>     <td>nan</td> \n",
       "</tr>\n",
       "<tr>\n",
       "  <th>avgmarr</th>  <td>-0.4358</td>    <td>nan</td>     <td>nan</td>    <td>nan</td>    <td>nan</td>     <td>nan</td> \n",
       "</tr>\n",
       "<tr>\n",
       "  <th>hapavg</th>   <td>-0.7443</td>    <td>nan</td>     <td>nan</td>    <td>nan</td>    <td>nan</td>     <td>nan</td> \n",
       "</tr>\n",
       "<tr>\n",
       "  <th>vryhap</th>   <td>-1.2228</td>    <td>nan</td>     <td>nan</td>    <td>nan</td>    <td>nan</td>     <td>nan</td> \n",
       "</tr>\n",
       "<tr>\n",
       "  <th>antirel</th>  <td>0.5636</td>     <td>nan</td>     <td>nan</td>    <td>nan</td>    <td>nan</td>     <td>nan</td> \n",
       "</tr>\n",
       "<tr>\n",
       "  <th>notrel</th>   <td>-0.4231</td>    <td>nan</td>     <td>nan</td>    <td>nan</td>    <td>nan</td>     <td>nan</td> \n",
       "</tr>\n",
       "<tr>\n",
       "  <th>slghtrel</th> <td>-0.0331</td>    <td>nan</td>     <td>nan</td>    <td>nan</td>    <td>nan</td>     <td>nan</td> \n",
       "</tr>\n",
       "<tr>\n",
       "  <th>smerel</th>   <td>-0.9556</td>    <td>nan</td>     <td>nan</td>    <td>nan</td>    <td>nan</td>     <td>nan</td> \n",
       "</tr>\n",
       "<tr>\n",
       "  <th>vryrel</th>   <td>-0.8587</td>    <td>nan</td>     <td>nan</td>    <td>nan</td>    <td>nan</td>     <td>nan</td> \n",
       "</tr>\n",
       "<tr>\n",
       "  <th>yrsmarr1</th> <td>-1.0395</td>    <td>nan</td>     <td>nan</td>    <td>nan</td>    <td>nan</td>     <td>nan</td> \n",
       "</tr>\n",
       "<tr>\n",
       "  <th>yrsmarr2</th> <td>-0.7424</td>    <td>nan</td>     <td>nan</td>    <td>nan</td>    <td>nan</td>     <td>nan</td> \n",
       "</tr>\n",
       "<tr>\n",
       "  <th>yrsmarr3</th> <td>-0.1181</td>    <td>nan</td>     <td>nan</td>    <td>nan</td>    <td>nan</td>     <td>nan</td> \n",
       "</tr>\n",
       "<tr>\n",
       "  <th>yrsmarr4</th> <td>-0.0925</td>    <td>nan</td>     <td>nan</td>    <td>nan</td>    <td>nan</td>     <td>nan</td> \n",
       "</tr>\n",
       "<tr>\n",
       "  <th>yrsmarr5</th> <td>0.2272</td>     <td>nan</td>     <td>nan</td>    <td>nan</td>    <td>nan</td>     <td>nan</td> \n",
       "</tr>\n",
       "<tr>\n",
       "  <th>yrsmarr6</th> <td>0.0583</td>     <td>nan</td>     <td>nan</td>    <td>nan</td>    <td>nan</td>     <td>nan</td> \n",
       "</tr>\n",
       "</table>"
      ],
      "text/plain": [
       "<class 'statsmodels.iolib.summary2.Summary'>\n",
       "\"\"\"\n",
       "                         Results: Logit\n",
       "=================================================================\n",
       "Model:              Logit            Pseudo R-squared: 0.108     \n",
       "Dependent Variable: y                AIC:              632.2126  \n",
       "Date:               2023-03-21 22:55 BIC:              698.1915  \n",
       "No. Observations:   601              Log-Likelihood:   -301.11   \n",
       "Df Model:           14               LL-Null:          -337.69   \n",
       "Df Residuals:       586              LLR p-value:      5.1293e-10\n",
       "Converged:          1.0000           Scale:            1.0000    \n",
       "No. Iterations:     7.0000                                       \n",
       "-------------------------------------------------------------------\n",
       "             Coef.    Std.Err.     z      P>|z|     [0.025   0.975]\n",
       "-------------------------------------------------------------------\n",
       "kids         0.1727     0.3110   0.5555   0.5785   -0.4367   0.7822\n",
       "vryunhap     0.2951        nan      nan      nan       nan      nan\n",
       "unhap        0.4007        nan      nan      nan       nan      nan\n",
       "avgmarr     -0.4358        nan      nan      nan       nan      nan\n",
       "hapavg      -0.7443        nan      nan      nan       nan      nan\n",
       "vryhap      -1.2228        nan      nan      nan       nan      nan\n",
       "antirel      0.5636        nan      nan      nan       nan      nan\n",
       "notrel      -0.4231        nan      nan      nan       nan      nan\n",
       "slghtrel    -0.0331        nan      nan      nan       nan      nan\n",
       "smerel      -0.9556        nan      nan      nan       nan      nan\n",
       "vryrel      -0.8587        nan      nan      nan       nan      nan\n",
       "yrsmarr1    -1.0395        nan      nan      nan       nan      nan\n",
       "yrsmarr2    -0.7424        nan      nan      nan       nan      nan\n",
       "yrsmarr3    -0.1181        nan      nan      nan       nan      nan\n",
       "yrsmarr4    -0.0925        nan      nan      nan       nan      nan\n",
       "yrsmarr5     0.2272        nan      nan      nan       nan      nan\n",
       "yrsmarr6     0.0583        nan      nan      nan       nan      nan\n",
       "=================================================================\n",
       "\n",
       "\"\"\""
      ]
     },
     "execution_count": 27,
     "metadata": {},
     "output_type": "execute_result"
    }
   ],
   "source": [
    "logit_model.summary2()"
   ]
  },
  {
   "cell_type": "code",
   "execution_count": null,
   "id": "64c176e2",
   "metadata": {},
   "outputs": [],
   "source": [
    "# AIC: 632.2126"
   ]
  },
  {
   "cell_type": "code",
   "execution_count": 28,
   "id": "82d44f64",
   "metadata": {},
   "outputs": [
    {
     "data": {
      "text/plain": [
       "0      0.365805\n",
       "1      0.139673\n",
       "2      0.179485\n",
       "3      0.512577\n",
       "4      0.231248\n",
       "         ...   \n",
       "596    0.162239\n",
       "597    0.264067\n",
       "598    0.593288\n",
       "599    0.366694\n",
       "600    0.247362\n",
       "Length: 601, dtype: float64"
      ]
     },
     "execution_count": 28,
     "metadata": {},
     "output_type": "execute_result"
    }
   ],
   "source": [
    "# Prediction\n",
    "pred = logit_model.predict(scaled_data)\n",
    "pred  # Probabilities"
   ]
  },
  {
   "cell_type": "code",
   "execution_count": 29,
   "id": "5240a919",
   "metadata": {},
   "outputs": [
    {
     "data": {
      "text/plain": [
       "0.2521571570135329"
      ]
     },
     "execution_count": 29,
     "metadata": {},
     "output_type": "execute_result"
    }
   ],
   "source": [
    "# ROC Curve to identify the appropriate cutoff value\n",
    "fpr, tpr, thresholds = roc_curve(Y.y, pred)\n",
    "optimal_idx = np.argmax(tpr - fpr)\n",
    "optimal_threshold = thresholds[optimal_idx]\n",
    "optimal_threshold"
   ]
  },
  {
   "cell_type": "code",
   "execution_count": 30,
   "id": "915f6977",
   "metadata": {},
   "outputs": [
    {
     "name": "stdout",
     "output_type": "stream",
     "text": [
      "Area under the ROC curve : 0.720791\n"
     ]
    }
   ],
   "source": [
    "auc = metrics.auc(fpr, tpr)\n",
    "print(\"Area under the ROC curve : %f\" % auc)"
   ]
  },
  {
   "cell_type": "code",
   "execution_count": 31,
   "id": "6e5adff7",
   "metadata": {},
   "outputs": [],
   "source": [
    "# Filling all the cells with zeroes\n",
    "scaled_data[\"pred\"] = np.zeros(601)"
   ]
  },
  {
   "cell_type": "code",
   "execution_count": 32,
   "id": "ff7ece49",
   "metadata": {},
   "outputs": [],
   "source": [
    "# taking threshold value and above the prob value will be treated as correct value \n",
    "scaled_data.loc[pred > optimal_threshold, \"pred\"] = 1"
   ]
  },
  {
   "cell_type": "code",
   "execution_count": 33,
   "id": "23cddb91",
   "metadata": {},
   "outputs": [
    {
     "data": {
      "text/plain": [
       "array([[318,  52],\n",
       "       [133,  98]], dtype=int64)"
      ]
     },
     "execution_count": 33,
     "metadata": {},
     "output_type": "execute_result"
    }
   ],
   "source": [
    "# Confusion Matrix\n",
    "confusion_matrix(scaled_data.pred, Y.y)"
   ]
  },
  {
   "cell_type": "code",
   "execution_count": 34,
   "id": "2139b99a",
   "metadata": {},
   "outputs": [
    {
     "name": "stdout",
     "output_type": "stream",
     "text": [
      "Test accuracy =  0.6921797004991681\n"
     ]
    }
   ],
   "source": [
    "# Accuracy score of the model\n",
    "print('Test accuracy = ', accuracy_score(scaled_data.pred, Y.y))"
   ]
  },
  {
   "cell_type": "code",
   "execution_count": 35,
   "id": "211ff63e",
   "metadata": {},
   "outputs": [
    {
     "name": "stdout",
     "output_type": "stream",
     "text": [
      "              precision    recall  f1-score   support\n",
      "\n",
      "         0.0       0.71      0.86      0.77       370\n",
      "         1.0       0.65      0.42      0.51       231\n",
      "\n",
      "    accuracy                           0.69       601\n",
      "   macro avg       0.68      0.64      0.64       601\n",
      "weighted avg       0.69      0.69      0.67       601\n",
      "\n"
     ]
    }
   ],
   "source": [
    "# Classification report\n",
    "classification = classification_report(scaled_data[\"pred\"], Y)\n",
    "print(classification)"
   ]
  },
  {
   "cell_type": "code",
   "execution_count": 36,
   "id": "caa5e16b",
   "metadata": {},
   "outputs": [
    {
     "data": {
      "image/png": "[encoded data removed]",
      "text/plain": [
       "<Figure size 640x480 with 1 Axes>"
      ]
     },
     "metadata": {},
     "output_type": "display_data"
    }
   ],
   "source": [
    "### PLOT FOR ROC\n",
    "plt.plot(fpr, tpr, label = \"AUC=\"+str(auc))\n",
    "plt.ylabel('True Positive Rate')\n",
    "plt.xlabel('False Positive Rate')\n",
    "plt.legend(loc = 4)\n",
    "plt.show()"
   ]
  },
  {
   "cell_type": "code",
   "execution_count": 37,
   "id": "4582746a",
   "metadata": {},
   "outputs": [],
   "source": [
    "# Model evaluation - Data Split\n",
    "x_train, x_test, y_train, y_test = train_test_split (scaled_data.iloc[:, :17], Y, \n",
    "                                                     test_size = 0.2, \n",
    "                                                     random_state = 0,\n",
    "                                                     stratify = Y)"
   ]
  },
  {
   "cell_type": "code",
   "execution_count": 38,
   "id": "2832d993",
   "metadata": {},
   "outputs": [
    {
     "name": "stdout",
     "output_type": "stream",
     "text": [
      "<class 'pandas.core.frame.DataFrame'>\n",
      "RangeIndex: 601 entries, 0 to 600\n",
      "Data columns (total 18 columns):\n",
      " #   Column    Non-Null Count  Dtype  \n",
      "---  ------    --------------  -----  \n",
      " 0   kids      601 non-null    float64\n",
      " 1   vryunhap  601 non-null    float64\n",
      " 2   unhap     601 non-null    float64\n",
      " 3   avgmarr   601 non-null    float64\n",
      " 4   hapavg    601 non-null    float64\n",
      " 5   vryhap    601 non-null    float64\n",
      " 6   antirel   601 non-null    float64\n",
      " 7   notrel    601 non-null    float64\n",
      " 8   slghtrel  601 non-null    float64\n",
      " 9   smerel    601 non-null    float64\n",
      " 10  vryrel    601 non-null    float64\n",
      " 11  yrsmarr1  601 non-null    float64\n",
      " 12  yrsmarr2  601 non-null    float64\n",
      " 13  yrsmarr3  601 non-null    float64\n",
      " 14  yrsmarr4  601 non-null    float64\n",
      " 15  yrsmarr5  601 non-null    float64\n",
      " 16  yrsmarr6  601 non-null    float64\n",
      " 17  pred      601 non-null    float64\n",
      "dtypes: float64(18)\n",
      "memory usage: 84.6 KB\n"
     ]
    }
   ],
   "source": [
    "scaled_data.info()"
   ]
  },
  {
   "cell_type": "code",
   "execution_count": 39,
   "id": "bae9782d",
   "metadata": {},
   "outputs": [
    {
     "name": "stdout",
     "output_type": "stream",
     "text": [
      "<class 'pandas.core.frame.DataFrame'>\n",
      "Int64Index: 480 entries, 55 to 279\n",
      "Data columns (total 1 columns):\n",
      " #   Column  Non-Null Count  Dtype\n",
      "---  ------  --------------  -----\n",
      " 0   y       480 non-null    int32\n",
      "dtypes: int32(1)\n",
      "memory usage: 5.6 KB\n"
     ]
    }
   ],
   "source": [
    "y_train.info()"
   ]
  },
  {
   "cell_type": "code",
   "execution_count": 40,
   "id": "55942300",
   "metadata": {},
   "outputs": [
    {
     "data": {
      "text/html": [
       "<div>\n",
       "<style scoped>\n",
       "    .dataframe tbody tr th:only-of-type {\n",
       "        vertical-align: middle;\n",
       "    }\n",
       "\n",
       "    .dataframe tbody tr th {\n",
       "        vertical-align: top;\n",
       "    }\n",
       "\n",
       "    .dataframe thead th {\n",
       "        text-align: right;\n",
       "    }\n",
       "</style>\n",
       "<table border=\"1\" class=\"dataframe\">\n",
       "  <thead>\n",
       "    <tr style=\"text-align: right;\">\n",
       "      <th></th>\n",
       "      <th>y</th>\n",
       "    </tr>\n",
       "  </thead>\n",
       "  <tbody>\n",
       "    <tr>\n",
       "      <th>55</th>\n",
       "      <td>1</td>\n",
       "    </tr>\n",
       "    <tr>\n",
       "      <th>160</th>\n",
       "      <td>0</td>\n",
       "    </tr>\n",
       "    <tr>\n",
       "      <th>340</th>\n",
       "      <td>0</td>\n",
       "    </tr>\n",
       "    <tr>\n",
       "      <th>269</th>\n",
       "      <td>0</td>\n",
       "    </tr>\n",
       "    <tr>\n",
       "      <th>183</th>\n",
       "      <td>1</td>\n",
       "    </tr>\n",
       "    <tr>\n",
       "      <th>...</th>\n",
       "      <td>...</td>\n",
       "    </tr>\n",
       "    <tr>\n",
       "      <th>306</th>\n",
       "      <td>0</td>\n",
       "    </tr>\n",
       "    <tr>\n",
       "      <th>8</th>\n",
       "      <td>1</td>\n",
       "    </tr>\n",
       "    <tr>\n",
       "      <th>90</th>\n",
       "      <td>0</td>\n",
       "    </tr>\n",
       "    <tr>\n",
       "      <th>266</th>\n",
       "      <td>0</td>\n",
       "    </tr>\n",
       "    <tr>\n",
       "      <th>279</th>\n",
       "      <td>0</td>\n",
       "    </tr>\n",
       "  </tbody>\n",
       "</table>\n",
       "<p>480 rows × 1 columns</p>\n",
       "</div>"
      ],
      "text/plain": [
       "     y\n",
       "55   1\n",
       "160  0\n",
       "340  0\n",
       "269  0\n",
       "183  1\n",
       "..  ..\n",
       "306  0\n",
       "8    1\n",
       "90   0\n",
       "266  0\n",
       "279  0\n",
       "\n",
       "[480 rows x 1 columns]"
      ]
     },
     "execution_count": 40,
     "metadata": {},
     "output_type": "execute_result"
    }
   ],
   "source": [
    "y_train"
   ]
  },
  {
   "cell_type": "code",
   "execution_count": 41,
   "id": "9f764e68",
   "metadata": {},
   "outputs": [
    {
     "name": "stdout",
     "output_type": "stream",
     "text": [
      "Optimization terminated successfully.\n",
      "         Current function value: 0.502405\n",
      "         Iterations 6\n"
     ]
    }
   ],
   "source": [
    "# Fitting Logistic Regression to the training set  \n",
    "logisticmodel = sm.Logit(y_train, x_train).fit()"
   ]
  },
  {
   "cell_type": "code",
   "execution_count": 42,
   "id": "9c7457de",
   "metadata": {},
   "outputs": [
    {
     "data": {
      "text/plain": [
       "55     0.210742\n",
       "160    0.046816\n",
       "340    0.183993\n",
       "269    0.178153\n",
       "183    0.141925\n",
       "         ...   \n",
       "306    0.412118\n",
       "8      0.424447\n",
       "90     0.081118\n",
       "266    0.457205\n",
       "279    0.238161\n",
       "Length: 480, dtype: float64"
      ]
     },
     "execution_count": 42,
     "metadata": {},
     "output_type": "execute_result"
    }
   ],
   "source": [
    "# Evaluate on train data\n",
    "y_pred_train = logisticmodel.predict(x_train)  \n",
    "y_pred_train"
   ]
  },
  {
   "cell_type": "code",
   "execution_count": 43,
   "id": "d2e9a872",
   "metadata": {},
   "outputs": [],
   "source": [
    "# Metrics\n",
    "# Filling all the cells with zeroes\n",
    "y_train[\"pred\"] = np.zeros(480)"
   ]
  },
  {
   "cell_type": "code",
   "execution_count": 44,
   "id": "7c4d25a7",
   "metadata": {},
   "outputs": [],
   "source": [
    "# taking threshold value and above the prob value will be treated as correct value \n",
    "y_train.loc[pred > optimal_threshold, \"pred\"] = 1"
   ]
  },
  {
   "cell_type": "code",
   "execution_count": 45,
   "id": "a415c53f",
   "metadata": {},
   "outputs": [
    {
     "name": "stdout",
     "output_type": "stream",
     "text": [
      "Area under the ROC curve : 0.723843\n"
     ]
    }
   ],
   "source": [
    "auc = metrics.roc_auc_score(y_train[\"y\"], y_pred_train)\n",
    "print(\"Area under the ROC curve : %f\" % auc)\n"
   ]
  },
  {
   "cell_type": "code",
   "execution_count": 46,
   "id": "f17c5cc9",
   "metadata": {},
   "outputs": [
    {
     "name": "stdout",
     "output_type": "stream",
     "text": [
      "              precision    recall  f1-score   support\n",
      "\n",
      "         0.0       0.71      0.86      0.78       297\n",
      "         1.0       0.66      0.43      0.52       183\n",
      "\n",
      "    accuracy                           0.70       480\n",
      "   macro avg       0.68      0.65      0.65       480\n",
      "weighted avg       0.69      0.70      0.68       480\n",
      "\n"
     ]
    }
   ],
   "source": [
    "classification_train = classification_report(y_train[\"pred\"], y_train[\"y\"])\n",
    "print(classification_train)"
   ]
  },
  {
   "cell_type": "code",
   "execution_count": 47,
   "id": "63d378f2",
   "metadata": {},
   "outputs": [
    {
     "data": {
      "text/plain": [
       "array([[256,  41],\n",
       "       [104,  79]], dtype=int64)"
      ]
     },
     "execution_count": 47,
     "metadata": {},
     "output_type": "execute_result"
    }
   ],
   "source": [
    "# confusion matrix \n",
    "confusion_matrix(y_train[\"pred\"], y_train[\"y\"])"
   ]
  },
  {
   "cell_type": "code",
   "execution_count": 48,
   "id": "f7cf8a86",
   "metadata": {},
   "outputs": [
    {
     "name": "stdout",
     "output_type": "stream",
     "text": [
      "Train accuracy =  0.6979166666666666\n"
     ]
    }
   ],
   "source": [
    "# Accuracy score of the model\n",
    "print('Train accuracy = ', accuracy_score(y_train[\"pred\"], y_train[\"y\"]))"
   ]
  },
  {
   "cell_type": "code",
   "execution_count": 49,
   "id": "d16d6f16",
   "metadata": {},
   "outputs": [
    {
     "data": {
      "text/plain": [
       "422    0.306846\n",
       "415    0.192792\n",
       "524    0.183993\n",
       "391    0.083439\n",
       "131    0.315871\n",
       "         ...   \n",
       "424    0.083439\n",
       "580    0.194895\n",
       "372    0.210266\n",
       "274    0.600919\n",
       "479    0.141925\n",
       "Length: 121, dtype: float64"
      ]
     },
     "execution_count": 49,
     "metadata": {},
     "output_type": "execute_result"
    }
   ],
   "source": [
    "# Validate on Test data\n",
    "y_pred_test = logisticmodel.predict(x_test)  \n",
    "y_pred_test\n"
   ]
  },
  {
   "cell_type": "code",
   "execution_count": 50,
   "id": "c43c4f0e",
   "metadata": {},
   "outputs": [],
   "source": [
    "# Filling all the cells with zeroes\n",
    "y_test[\"y_pred_test\"] = np.zeros(121)"
   ]
  },
  {
   "cell_type": "code",
   "execution_count": 51,
   "id": "a6650f46",
   "metadata": {},
   "outputs": [
    {
     "name": "stdout",
     "output_type": "stream",
     "text": [
      "<class 'pandas.core.frame.DataFrame'>\n",
      "Int64Index: 121 entries, 422 to 479\n",
      "Data columns (total 2 columns):\n",
      " #   Column       Non-Null Count  Dtype  \n",
      "---  ------       --------------  -----  \n",
      " 0   y            121 non-null    int32  \n",
      " 1   y_pred_test  121 non-null    float64\n",
      "dtypes: float64(1), int32(1)\n",
      "memory usage: 2.4 KB\n"
     ]
    }
   ],
   "source": [
    "y_test.info()"
   ]
  },
  {
   "cell_type": "code",
   "execution_count": 52,
   "id": "e77afdbd",
   "metadata": {},
   "outputs": [],
   "source": [
    "# Capturing the prediction binary values\n",
    "y_test.loc[y_pred_test > optimal_threshold, \"y_pred_test\"] = 1"
   ]
  },
  {
   "cell_type": "code",
   "execution_count": 53,
   "id": "2cb9324a",
   "metadata": {},
   "outputs": [
    {
     "name": "stdout",
     "output_type": "stream",
     "text": [
      "              precision    recall  f1-score   support\n",
      "\n",
      "         0.0       0.64      0.84      0.72        69\n",
      "         1.0       0.63      0.37      0.46        52\n",
      "\n",
      "    accuracy                           0.64       121\n",
      "   macro avg       0.64      0.60      0.59       121\n",
      "weighted avg       0.64      0.64      0.61       121\n",
      "\n"
     ]
    }
   ],
   "source": [
    "# classification report\n",
    "classification1 = classification_report(y_test[\"y_pred_test\"], y_test[\"y\"])\n",
    "print(classification1)"
   ]
  },
  {
   "cell_type": "code",
   "execution_count": 54,
   "id": "d7f94ed3",
   "metadata": {},
   "outputs": [
    {
     "data": {
      "text/plain": [
       "array([[58, 11],\n",
       "       [33, 19]], dtype=int64)"
      ]
     },
     "execution_count": 54,
     "metadata": {},
     "output_type": "execute_result"
    }
   ],
   "source": [
    "# confusion matrix \n",
    "confusion_matrix(y_test[\"y_pred_test\"], y_test[\"y\"])"
   ]
  },
  {
   "cell_type": "code",
   "execution_count": 55,
   "id": "7cdd85ea",
   "metadata": {},
   "outputs": [
    {
     "name": "stdout",
     "output_type": "stream",
     "text": [
      "Test accuracy =  0.6363636363636364\n"
     ]
    }
   ],
   "source": [
    "# Accuracy score of the model\n",
    "print('Test accuracy = ', accuracy_score(y_test[\"y_pred_test\"], y_test[\"y\"]))\n"
   ]
  },
  {
   "cell_type": "code",
   "execution_count": null,
   "id": "adb945f5",
   "metadata": {},
   "outputs": [],
   "source": []
  },
  {
   "cell_type": "code",
   "execution_count": null,
   "id": "e489f865",
   "metadata": {},
   "outputs": [],
   "source": []
  },
  {
   "cell_type": "code",
   "execution_count": null,
   "id": "fef32df3",
   "metadata": {},
   "outputs": [],
   "source": []
  }
 ],
 "metadata": {
  "kernelspec": {
   "display_name": "Python 3 (ipykernel)",
   "language": "python",
   "name": "python3"
  },
  "language_info": {
   "codemirror_mode": {
    "name": "ipython",
    "version": 3
   },
   "file_extension": ".py",
   "mimetype": "text/x-python",
   "name": "python",
   "nbconvert_exporter": "python",
   "pygments_lexer": "ipython3",
   "version": "3.8.15"
  }
 },
 "nbformat": 4,
 "nbformat_minor": 5
}
