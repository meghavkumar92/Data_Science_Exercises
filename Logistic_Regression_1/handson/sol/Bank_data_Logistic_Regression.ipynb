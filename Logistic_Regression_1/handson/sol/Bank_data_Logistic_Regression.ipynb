{
 "cells": [
  {
   "cell_type": "markdown",
   "id": "356a976b",
   "metadata": {},
   "source": [
    "# Logistic Regression"
   ]
  },
  {
   "cell_type": "markdown",
   "id": "3dc94148",
   "metadata": {},
   "source": [
    "#### Build logistic regression model to predict whether a customer will invest in a long term fixed deposit or not, based on various factors in the bank customer dataset."
   ]
  },
  {
   "cell_type": "code",
   "execution_count": 1,
   "id": "617906bf",
   "metadata": {},
   "outputs": [],
   "source": [
    "# import libraries\n",
    "import pandas as pd\n",
    "import numpy as np\n",
    "import matplotlib.pyplot as plt\n",
    "import seaborn as sns\n",
    "\n",
    "from feature_engine.outliers import Winsorizer\n",
    "from sklearn.preprocessing import MinMaxScaler\n",
    "from sklearn.impute import SimpleImputer\n",
    "from sklearn.compose import ColumnTransformer\n",
    "from sklearn.pipeline import Pipeline\n",
    "from sklearn.model_selection import train_test_split\n",
    "\n",
    "import statsmodels.api as sm\n",
    "\n",
    "from sklearn import metrics\n",
    "from sklearn.metrics import confusion_matrix, accuracy_score\n",
    "from sklearn.metrics import roc_curve\n",
    "from sklearn.metrics import classification_report"
   ]
  },
  {
   "cell_type": "code",
   "execution_count": 2,
   "id": "14414a27",
   "metadata": {},
   "outputs": [],
   "source": [
    "import warnings\n",
    "warnings.filterwarnings('ignore')"
   ]
  },
  {
   "cell_type": "code",
   "execution_count": 3,
   "id": "4c4e7b21",
   "metadata": {},
   "outputs": [
    {
     "name": "stdout",
     "output_type": "stream",
     "text": [
      "<class 'pandas.core.frame.DataFrame'>\n",
      "RangeIndex: 45211 entries, 0 to 45210\n",
      "Data columns (total 32 columns):\n",
      " #   Column           Non-Null Count  Dtype\n",
      "---  ------           --------------  -----\n",
      " 0   age              45211 non-null  int64\n",
      " 1   default          45211 non-null  int64\n",
      " 2   balance          45211 non-null  int64\n",
      " 3   housing          45211 non-null  int64\n",
      " 4   loan             45211 non-null  int64\n",
      " 5   duration         45211 non-null  int64\n",
      " 6   campaign         45211 non-null  int64\n",
      " 7   pdays            45211 non-null  int64\n",
      " 8   previous         45211 non-null  int64\n",
      " 9   poutfailure      45211 non-null  int64\n",
      " 10  poutother        45211 non-null  int64\n",
      " 11  poutsuccess      45211 non-null  int64\n",
      " 12  poutunknown      45211 non-null  int64\n",
      " 13  con_cellular     45211 non-null  int64\n",
      " 14  con_telephone    45211 non-null  int64\n",
      " 15  con_unknown      45211 non-null  int64\n",
      " 16  divorced         45211 non-null  int64\n",
      " 17  married          45211 non-null  int64\n",
      " 18  single           45211 non-null  int64\n",
      " 19  joadmin.         45211 non-null  int64\n",
      " 20  joblue.collar    45211 non-null  int64\n",
      " 21  joentrepreneur   45211 non-null  int64\n",
      " 22  johousemaid      45211 non-null  int64\n",
      " 23  jomanagement     45211 non-null  int64\n",
      " 24  joretired        45211 non-null  int64\n",
      " 25  joself.employed  45211 non-null  int64\n",
      " 26  joservices       45211 non-null  int64\n",
      " 27  jostudent        45211 non-null  int64\n",
      " 28  jotechnician     45211 non-null  int64\n",
      " 29  jounemployed     45211 non-null  int64\n",
      " 30  jounknown        45211 non-null  int64\n",
      " 31  y                45211 non-null  int64\n",
      "dtypes: int64(32)\n",
      "memory usage: 11.0 MB\n"
     ]
    }
   ],
   "source": [
    "# import dataset\n",
    "bank_df = pd.read_csv(r\"D:\\360digi\\DS\\Sharath\\Logistic_Regression_1\\handson\\Datasets-Day32-Logistic Regression\\bank_data.csv\")\n",
    "bank_df.info()"
   ]
  },
  {
   "cell_type": "code",
   "execution_count": 4,
   "id": "383b5ca6",
   "metadata": {},
   "outputs": [
    {
     "data": {
      "text/html": [
       "<div>\n",
       "<style scoped>\n",
       "    .dataframe tbody tr th:only-of-type {\n",
       "        vertical-align: middle;\n",
       "    }\n",
       "\n",
       "    .dataframe tbody tr th {\n",
       "        vertical-align: top;\n",
       "    }\n",
       "\n",
       "    .dataframe thead th {\n",
       "        text-align: right;\n",
       "    }\n",
       "</style>\n",
       "<table border=\"1\" class=\"dataframe\">\n",
       "  <thead>\n",
       "    <tr style=\"text-align: right;\">\n",
       "      <th></th>\n",
       "      <th>age</th>\n",
       "      <th>default</th>\n",
       "      <th>balance</th>\n",
       "      <th>housing</th>\n",
       "      <th>loan</th>\n",
       "      <th>duration</th>\n",
       "      <th>campaign</th>\n",
       "      <th>pdays</th>\n",
       "      <th>previous</th>\n",
       "      <th>poutfailure</th>\n",
       "      <th>...</th>\n",
       "      <th>johousemaid</th>\n",
       "      <th>jomanagement</th>\n",
       "      <th>joretired</th>\n",
       "      <th>joself.employed</th>\n",
       "      <th>joservices</th>\n",
       "      <th>jostudent</th>\n",
       "      <th>jotechnician</th>\n",
       "      <th>jounemployed</th>\n",
       "      <th>jounknown</th>\n",
       "      <th>y</th>\n",
       "    </tr>\n",
       "  </thead>\n",
       "  <tbody>\n",
       "    <tr>\n",
       "      <th>0</th>\n",
       "      <td>58</td>\n",
       "      <td>0</td>\n",
       "      <td>2143</td>\n",
       "      <td>1</td>\n",
       "      <td>0</td>\n",
       "      <td>261</td>\n",
       "      <td>1</td>\n",
       "      <td>-1</td>\n",
       "      <td>0</td>\n",
       "      <td>0</td>\n",
       "      <td>...</td>\n",
       "      <td>0</td>\n",
       "      <td>1</td>\n",
       "      <td>0</td>\n",
       "      <td>0</td>\n",
       "      <td>0</td>\n",
       "      <td>0</td>\n",
       "      <td>0</td>\n",
       "      <td>0</td>\n",
       "      <td>0</td>\n",
       "      <td>0</td>\n",
       "    </tr>\n",
       "    <tr>\n",
       "      <th>1</th>\n",
       "      <td>44</td>\n",
       "      <td>0</td>\n",
       "      <td>29</td>\n",
       "      <td>1</td>\n",
       "      <td>0</td>\n",
       "      <td>151</td>\n",
       "      <td>1</td>\n",
       "      <td>-1</td>\n",
       "      <td>0</td>\n",
       "      <td>0</td>\n",
       "      <td>...</td>\n",
       "      <td>0</td>\n",
       "      <td>0</td>\n",
       "      <td>0</td>\n",
       "      <td>0</td>\n",
       "      <td>0</td>\n",
       "      <td>0</td>\n",
       "      <td>1</td>\n",
       "      <td>0</td>\n",
       "      <td>0</td>\n",
       "      <td>0</td>\n",
       "    </tr>\n",
       "    <tr>\n",
       "      <th>2</th>\n",
       "      <td>33</td>\n",
       "      <td>0</td>\n",
       "      <td>2</td>\n",
       "      <td>1</td>\n",
       "      <td>1</td>\n",
       "      <td>76</td>\n",
       "      <td>1</td>\n",
       "      <td>-1</td>\n",
       "      <td>0</td>\n",
       "      <td>0</td>\n",
       "      <td>...</td>\n",
       "      <td>0</td>\n",
       "      <td>0</td>\n",
       "      <td>0</td>\n",
       "      <td>0</td>\n",
       "      <td>0</td>\n",
       "      <td>0</td>\n",
       "      <td>0</td>\n",
       "      <td>0</td>\n",
       "      <td>0</td>\n",
       "      <td>0</td>\n",
       "    </tr>\n",
       "    <tr>\n",
       "      <th>3</th>\n",
       "      <td>47</td>\n",
       "      <td>0</td>\n",
       "      <td>1506</td>\n",
       "      <td>1</td>\n",
       "      <td>0</td>\n",
       "      <td>92</td>\n",
       "      <td>1</td>\n",
       "      <td>-1</td>\n",
       "      <td>0</td>\n",
       "      <td>0</td>\n",
       "      <td>...</td>\n",
       "      <td>0</td>\n",
       "      <td>0</td>\n",
       "      <td>0</td>\n",
       "      <td>0</td>\n",
       "      <td>0</td>\n",
       "      <td>0</td>\n",
       "      <td>0</td>\n",
       "      <td>0</td>\n",
       "      <td>0</td>\n",
       "      <td>0</td>\n",
       "    </tr>\n",
       "    <tr>\n",
       "      <th>4</th>\n",
       "      <td>33</td>\n",
       "      <td>0</td>\n",
       "      <td>1</td>\n",
       "      <td>0</td>\n",
       "      <td>0</td>\n",
       "      <td>198</td>\n",
       "      <td>1</td>\n",
       "      <td>-1</td>\n",
       "      <td>0</td>\n",
       "      <td>0</td>\n",
       "      <td>...</td>\n",
       "      <td>0</td>\n",
       "      <td>0</td>\n",
       "      <td>0</td>\n",
       "      <td>0</td>\n",
       "      <td>0</td>\n",
       "      <td>0</td>\n",
       "      <td>0</td>\n",
       "      <td>0</td>\n",
       "      <td>1</td>\n",
       "      <td>0</td>\n",
       "    </tr>\n",
       "  </tbody>\n",
       "</table>\n",
       "<p>5 rows × 32 columns</p>\n",
       "</div>"
      ],
      "text/plain": [
       "   age  default  balance  housing  loan  duration  campaign  pdays  previous  \\\n",
       "0   58        0     2143        1     0       261         1     -1         0   \n",
       "1   44        0       29        1     0       151         1     -1         0   \n",
       "2   33        0        2        1     1        76         1     -1         0   \n",
       "3   47        0     1506        1     0        92         1     -1         0   \n",
       "4   33        0        1        0     0       198         1     -1         0   \n",
       "\n",
       "   poutfailure  ...  johousemaid  jomanagement  joretired  joself.employed  \\\n",
       "0            0  ...            0             1          0                0   \n",
       "1            0  ...            0             0          0                0   \n",
       "2            0  ...            0             0          0                0   \n",
       "3            0  ...            0             0          0                0   \n",
       "4            0  ...            0             0          0                0   \n",
       "\n",
       "   joservices  jostudent  jotechnician  jounemployed  jounknown  y  \n",
       "0           0          0             0             0          0  0  \n",
       "1           0          0             1             0          0  0  \n",
       "2           0          0             0             0          0  0  \n",
       "3           0          0             0             0          0  0  \n",
       "4           0          0             0             0          1  0  \n",
       "\n",
       "[5 rows x 32 columns]"
      ]
     },
     "execution_count": 4,
     "metadata": {},
     "output_type": "execute_result"
    }
   ],
   "source": [
    "bank_df.head()"
   ]
  },
  {
   "cell_type": "code",
   "execution_count": 5,
   "id": "640c7f67",
   "metadata": {},
   "outputs": [
    {
     "data": {
      "text/plain": [
       "array([0, 1], dtype=int64)"
      ]
     },
     "execution_count": 5,
     "metadata": {},
     "output_type": "execute_result"
    }
   ],
   "source": [
    "bank_df['y'].unique()"
   ]
  },
  {
   "cell_type": "code",
   "execution_count": 6,
   "id": "7f92f90c",
   "metadata": {},
   "outputs": [
    {
     "name": "stdout",
     "output_type": "stream",
     "text": [
      "<class 'pandas.core.frame.DataFrame'>\n",
      "RangeIndex: 45211 entries, 0 to 45210\n",
      "Data columns (total 32 columns):\n",
      " #   Column           Non-Null Count  Dtype\n",
      "---  ------           --------------  -----\n",
      " 0   age              45211 non-null  int32\n",
      " 1   default          45211 non-null  int32\n",
      " 2   balance          45211 non-null  int32\n",
      " 3   housing          45211 non-null  int32\n",
      " 4   loan             45211 non-null  int32\n",
      " 5   duration         45211 non-null  int32\n",
      " 6   campaign         45211 non-null  int32\n",
      " 7   pdays            45211 non-null  int32\n",
      " 8   previous         45211 non-null  int32\n",
      " 9   poutfailure      45211 non-null  int32\n",
      " 10  poutother        45211 non-null  int32\n",
      " 11  poutsuccess      45211 non-null  int32\n",
      " 12  poutunknown      45211 non-null  int32\n",
      " 13  con_cellular     45211 non-null  int32\n",
      " 14  con_telephone    45211 non-null  int32\n",
      " 15  con_unknown      45211 non-null  int32\n",
      " 16  divorced         45211 non-null  int32\n",
      " 17  married          45211 non-null  int32\n",
      " 18  single           45211 non-null  int32\n",
      " 19  joadmin.         45211 non-null  int32\n",
      " 20  joblue.collar    45211 non-null  int32\n",
      " 21  joentrepreneur   45211 non-null  int32\n",
      " 22  johousemaid      45211 non-null  int32\n",
      " 23  jomanagement     45211 non-null  int32\n",
      " 24  joretired        45211 non-null  int32\n",
      " 25  joself.employed  45211 non-null  int32\n",
      " 26  joservices       45211 non-null  int32\n",
      " 27  jostudent        45211 non-null  int32\n",
      " 28  jotechnician     45211 non-null  int32\n",
      " 29  jounemployed     45211 non-null  int32\n",
      " 30  jounknown        45211 non-null  int32\n",
      " 31  y                45211 non-null  int32\n",
      "dtypes: int32(32)\n",
      "memory usage: 5.5 MB\n"
     ]
    }
   ],
   "source": [
    "# change the datatype \n",
    "bank_df = pd.DataFrame(bank_df.astype(int))\n",
    "bank_df.info()"
   ]
  },
  {
   "cell_type": "markdown",
   "id": "83ac2bd7",
   "metadata": {},
   "source": [
    "## Data Preprocessing"
   ]
  },
  {
   "cell_type": "code",
   "execution_count": 7,
   "id": "7699d8a3",
   "metadata": {},
   "outputs": [
    {
     "data": {
      "text/plain": [
       "age                0\n",
       "default            0\n",
       "balance            0\n",
       "housing            0\n",
       "loan               0\n",
       "duration           0\n",
       "campaign           0\n",
       "pdays              0\n",
       "previous           0\n",
       "poutfailure        0\n",
       "poutother          0\n",
       "poutsuccess        0\n",
       "poutunknown        0\n",
       "con_cellular       0\n",
       "con_telephone      0\n",
       "con_unknown        0\n",
       "divorced           0\n",
       "married            0\n",
       "single             0\n",
       "joadmin.           0\n",
       "joblue.collar      0\n",
       "joentrepreneur     0\n",
       "johousemaid        0\n",
       "jomanagement       0\n",
       "joretired          0\n",
       "joself.employed    0\n",
       "joservices         0\n",
       "jostudent          0\n",
       "jotechnician       0\n",
       "jounemployed       0\n",
       "jounknown          0\n",
       "y                  0\n",
       "dtype: int64"
      ]
     },
     "execution_count": 7,
     "metadata": {},
     "output_type": "execute_result"
    }
   ],
   "source": [
    "bank_df.isna().sum()"
   ]
  },
  {
   "cell_type": "code",
   "execution_count": 8,
   "id": "94a3aae5",
   "metadata": {},
   "outputs": [
    {
     "data": {
      "text/plain": [
       "age                0\n",
       "default            0\n",
       "balance            0\n",
       "housing            0\n",
       "loan               0\n",
       "duration           0\n",
       "campaign           0\n",
       "pdays              0\n",
       "previous           0\n",
       "poutfailure        0\n",
       "poutother          0\n",
       "poutsuccess        0\n",
       "poutunknown        0\n",
       "con_cellular       0\n",
       "con_telephone      0\n",
       "con_unknown        0\n",
       "divorced           0\n",
       "married            0\n",
       "single             0\n",
       "joadmin.           0\n",
       "joblue.collar      0\n",
       "joentrepreneur     0\n",
       "johousemaid        0\n",
       "jomanagement       0\n",
       "joretired          0\n",
       "joself.employed    0\n",
       "joservices         0\n",
       "jostudent          0\n",
       "jotechnician       0\n",
       "jounemployed       0\n",
       "jounknown          0\n",
       "y                  0\n",
       "dtype: int64"
      ]
     },
     "execution_count": 8,
     "metadata": {},
     "output_type": "execute_result"
    }
   ],
   "source": [
    "bank_df.isnull().sum()"
   ]
  },
  {
   "cell_type": "code",
   "execution_count": 9,
   "id": "a7af15e8",
   "metadata": {},
   "outputs": [],
   "source": [
    "# Seperating input and output variables \n",
    "X = pd.DataFrame(bank_df.iloc[:, :31])\n",
    "Y = pd.DataFrame(bank_df.iloc[:, 31])"
   ]
  },
  {
   "cell_type": "code",
   "execution_count": 10,
   "id": "36720cda",
   "metadata": {},
   "outputs": [
    {
     "data": {
      "text/html": [
       "<div>\n",
       "<style scoped>\n",
       "    .dataframe tbody tr th:only-of-type {\n",
       "        vertical-align: middle;\n",
       "    }\n",
       "\n",
       "    .dataframe tbody tr th {\n",
       "        vertical-align: top;\n",
       "    }\n",
       "\n",
       "    .dataframe thead th {\n",
       "        text-align: right;\n",
       "    }\n",
       "</style>\n",
       "<table border=\"1\" class=\"dataframe\">\n",
       "  <thead>\n",
       "    <tr style=\"text-align: right;\">\n",
       "      <th></th>\n",
       "      <th>age</th>\n",
       "      <th>default</th>\n",
       "      <th>balance</th>\n",
       "      <th>housing</th>\n",
       "      <th>loan</th>\n",
       "      <th>duration</th>\n",
       "      <th>campaign</th>\n",
       "      <th>pdays</th>\n",
       "      <th>previous</th>\n",
       "      <th>poutfailure</th>\n",
       "      <th>...</th>\n",
       "      <th>joentrepreneur</th>\n",
       "      <th>johousemaid</th>\n",
       "      <th>jomanagement</th>\n",
       "      <th>joretired</th>\n",
       "      <th>joself.employed</th>\n",
       "      <th>joservices</th>\n",
       "      <th>jostudent</th>\n",
       "      <th>jotechnician</th>\n",
       "      <th>jounemployed</th>\n",
       "      <th>jounknown</th>\n",
       "    </tr>\n",
       "  </thead>\n",
       "  <tbody>\n",
       "    <tr>\n",
       "      <th>count</th>\n",
       "      <td>45211.000000</td>\n",
       "      <td>45211.000000</td>\n",
       "      <td>45211.000000</td>\n",
       "      <td>45211.000000</td>\n",
       "      <td>45211.000000</td>\n",
       "      <td>45211.000000</td>\n",
       "      <td>45211.000000</td>\n",
       "      <td>45211.000000</td>\n",
       "      <td>45211.000000</td>\n",
       "      <td>45211.000000</td>\n",
       "      <td>...</td>\n",
       "      <td>45211.000000</td>\n",
       "      <td>45211.000000</td>\n",
       "      <td>45211.000000</td>\n",
       "      <td>45211.000000</td>\n",
       "      <td>45211.000000</td>\n",
       "      <td>45211.00000</td>\n",
       "      <td>45211.000000</td>\n",
       "      <td>45211.000000</td>\n",
       "      <td>45211.000000</td>\n",
       "      <td>45211.000000</td>\n",
       "    </tr>\n",
       "    <tr>\n",
       "      <th>mean</th>\n",
       "      <td>40.936210</td>\n",
       "      <td>0.018027</td>\n",
       "      <td>1362.272058</td>\n",
       "      <td>0.555838</td>\n",
       "      <td>0.160226</td>\n",
       "      <td>258.163080</td>\n",
       "      <td>2.763841</td>\n",
       "      <td>40.197828</td>\n",
       "      <td>0.580323</td>\n",
       "      <td>0.108403</td>\n",
       "      <td>...</td>\n",
       "      <td>0.032890</td>\n",
       "      <td>0.027427</td>\n",
       "      <td>0.209197</td>\n",
       "      <td>0.050076</td>\n",
       "      <td>0.034925</td>\n",
       "      <td>0.09188</td>\n",
       "      <td>0.020747</td>\n",
       "      <td>0.168034</td>\n",
       "      <td>0.028820</td>\n",
       "      <td>0.006370</td>\n",
       "    </tr>\n",
       "    <tr>\n",
       "      <th>std</th>\n",
       "      <td>10.618762</td>\n",
       "      <td>0.133049</td>\n",
       "      <td>3044.765829</td>\n",
       "      <td>0.496878</td>\n",
       "      <td>0.366820</td>\n",
       "      <td>257.527812</td>\n",
       "      <td>3.098021</td>\n",
       "      <td>100.128746</td>\n",
       "      <td>2.303441</td>\n",
       "      <td>0.310892</td>\n",
       "      <td>...</td>\n",
       "      <td>0.178351</td>\n",
       "      <td>0.163326</td>\n",
       "      <td>0.406740</td>\n",
       "      <td>0.218105</td>\n",
       "      <td>0.183592</td>\n",
       "      <td>0.28886</td>\n",
       "      <td>0.142538</td>\n",
       "      <td>0.373901</td>\n",
       "      <td>0.167303</td>\n",
       "      <td>0.079559</td>\n",
       "    </tr>\n",
       "    <tr>\n",
       "      <th>min</th>\n",
       "      <td>18.000000</td>\n",
       "      <td>0.000000</td>\n",
       "      <td>-8019.000000</td>\n",
       "      <td>0.000000</td>\n",
       "      <td>0.000000</td>\n",
       "      <td>0.000000</td>\n",
       "      <td>1.000000</td>\n",
       "      <td>-1.000000</td>\n",
       "      <td>0.000000</td>\n",
       "      <td>0.000000</td>\n",
       "      <td>...</td>\n",
       "      <td>0.000000</td>\n",
       "      <td>0.000000</td>\n",
       "      <td>0.000000</td>\n",
       "      <td>0.000000</td>\n",
       "      <td>0.000000</td>\n",
       "      <td>0.00000</td>\n",
       "      <td>0.000000</td>\n",
       "      <td>0.000000</td>\n",
       "      <td>0.000000</td>\n",
       "      <td>0.000000</td>\n",
       "    </tr>\n",
       "    <tr>\n",
       "      <th>25%</th>\n",
       "      <td>33.000000</td>\n",
       "      <td>0.000000</td>\n",
       "      <td>72.000000</td>\n",
       "      <td>0.000000</td>\n",
       "      <td>0.000000</td>\n",
       "      <td>103.000000</td>\n",
       "      <td>1.000000</td>\n",
       "      <td>-1.000000</td>\n",
       "      <td>0.000000</td>\n",
       "      <td>0.000000</td>\n",
       "      <td>...</td>\n",
       "      <td>0.000000</td>\n",
       "      <td>0.000000</td>\n",
       "      <td>0.000000</td>\n",
       "      <td>0.000000</td>\n",
       "      <td>0.000000</td>\n",
       "      <td>0.00000</td>\n",
       "      <td>0.000000</td>\n",
       "      <td>0.000000</td>\n",
       "      <td>0.000000</td>\n",
       "      <td>0.000000</td>\n",
       "    </tr>\n",
       "    <tr>\n",
       "      <th>50%</th>\n",
       "      <td>39.000000</td>\n",
       "      <td>0.000000</td>\n",
       "      <td>448.000000</td>\n",
       "      <td>1.000000</td>\n",
       "      <td>0.000000</td>\n",
       "      <td>180.000000</td>\n",
       "      <td>2.000000</td>\n",
       "      <td>-1.000000</td>\n",
       "      <td>0.000000</td>\n",
       "      <td>0.000000</td>\n",
       "      <td>...</td>\n",
       "      <td>0.000000</td>\n",
       "      <td>0.000000</td>\n",
       "      <td>0.000000</td>\n",
       "      <td>0.000000</td>\n",
       "      <td>0.000000</td>\n",
       "      <td>0.00000</td>\n",
       "      <td>0.000000</td>\n",
       "      <td>0.000000</td>\n",
       "      <td>0.000000</td>\n",
       "      <td>0.000000</td>\n",
       "    </tr>\n",
       "    <tr>\n",
       "      <th>75%</th>\n",
       "      <td>48.000000</td>\n",
       "      <td>0.000000</td>\n",
       "      <td>1428.000000</td>\n",
       "      <td>1.000000</td>\n",
       "      <td>0.000000</td>\n",
       "      <td>319.000000</td>\n",
       "      <td>3.000000</td>\n",
       "      <td>-1.000000</td>\n",
       "      <td>0.000000</td>\n",
       "      <td>0.000000</td>\n",
       "      <td>...</td>\n",
       "      <td>0.000000</td>\n",
       "      <td>0.000000</td>\n",
       "      <td>0.000000</td>\n",
       "      <td>0.000000</td>\n",
       "      <td>0.000000</td>\n",
       "      <td>0.00000</td>\n",
       "      <td>0.000000</td>\n",
       "      <td>0.000000</td>\n",
       "      <td>0.000000</td>\n",
       "      <td>0.000000</td>\n",
       "    </tr>\n",
       "    <tr>\n",
       "      <th>max</th>\n",
       "      <td>95.000000</td>\n",
       "      <td>1.000000</td>\n",
       "      <td>102127.000000</td>\n",
       "      <td>1.000000</td>\n",
       "      <td>1.000000</td>\n",
       "      <td>4918.000000</td>\n",
       "      <td>63.000000</td>\n",
       "      <td>871.000000</td>\n",
       "      <td>275.000000</td>\n",
       "      <td>1.000000</td>\n",
       "      <td>...</td>\n",
       "      <td>1.000000</td>\n",
       "      <td>1.000000</td>\n",
       "      <td>1.000000</td>\n",
       "      <td>1.000000</td>\n",
       "      <td>1.000000</td>\n",
       "      <td>1.00000</td>\n",
       "      <td>1.000000</td>\n",
       "      <td>1.000000</td>\n",
       "      <td>1.000000</td>\n",
       "      <td>1.000000</td>\n",
       "    </tr>\n",
       "  </tbody>\n",
       "</table>\n",
       "<p>8 rows × 31 columns</p>\n",
       "</div>"
      ],
      "text/plain": [
       "                age       default        balance       housing          loan  \\\n",
       "count  45211.000000  45211.000000   45211.000000  45211.000000  45211.000000   \n",
       "mean      40.936210      0.018027    1362.272058      0.555838      0.160226   \n",
       "std       10.618762      0.133049    3044.765829      0.496878      0.366820   \n",
       "min       18.000000      0.000000   -8019.000000      0.000000      0.000000   \n",
       "25%       33.000000      0.000000      72.000000      0.000000      0.000000   \n",
       "50%       39.000000      0.000000     448.000000      1.000000      0.000000   \n",
       "75%       48.000000      0.000000    1428.000000      1.000000      0.000000   \n",
       "max       95.000000      1.000000  102127.000000      1.000000      1.000000   \n",
       "\n",
       "           duration      campaign         pdays      previous   poutfailure  \\\n",
       "count  45211.000000  45211.000000  45211.000000  45211.000000  45211.000000   \n",
       "mean     258.163080      2.763841     40.197828      0.580323      0.108403   \n",
       "std      257.527812      3.098021    100.128746      2.303441      0.310892   \n",
       "min        0.000000      1.000000     -1.000000      0.000000      0.000000   \n",
       "25%      103.000000      1.000000     -1.000000      0.000000      0.000000   \n",
       "50%      180.000000      2.000000     -1.000000      0.000000      0.000000   \n",
       "75%      319.000000      3.000000     -1.000000      0.000000      0.000000   \n",
       "max     4918.000000     63.000000    871.000000    275.000000      1.000000   \n",
       "\n",
       "       ...  joentrepreneur   johousemaid  jomanagement     joretired  \\\n",
       "count  ...    45211.000000  45211.000000  45211.000000  45211.000000   \n",
       "mean   ...        0.032890      0.027427      0.209197      0.050076   \n",
       "std    ...        0.178351      0.163326      0.406740      0.218105   \n",
       "min    ...        0.000000      0.000000      0.000000      0.000000   \n",
       "25%    ...        0.000000      0.000000      0.000000      0.000000   \n",
       "50%    ...        0.000000      0.000000      0.000000      0.000000   \n",
       "75%    ...        0.000000      0.000000      0.000000      0.000000   \n",
       "max    ...        1.000000      1.000000      1.000000      1.000000   \n",
       "\n",
       "       joself.employed   joservices     jostudent  jotechnician  jounemployed  \\\n",
       "count     45211.000000  45211.00000  45211.000000  45211.000000  45211.000000   \n",
       "mean          0.034925      0.09188      0.020747      0.168034      0.028820   \n",
       "std           0.183592      0.28886      0.142538      0.373901      0.167303   \n",
       "min           0.000000      0.00000      0.000000      0.000000      0.000000   \n",
       "25%           0.000000      0.00000      0.000000      0.000000      0.000000   \n",
       "50%           0.000000      0.00000      0.000000      0.000000      0.000000   \n",
       "75%           0.000000      0.00000      0.000000      0.000000      0.000000   \n",
       "max           1.000000      1.00000      1.000000      1.000000      1.000000   \n",
       "\n",
       "          jounknown  \n",
       "count  45211.000000  \n",
       "mean       0.006370  \n",
       "std        0.079559  \n",
       "min        0.000000  \n",
       "25%        0.000000  \n",
       "50%        0.000000  \n",
       "75%        0.000000  \n",
       "max        1.000000  \n",
       "\n",
       "[8 rows x 31 columns]"
      ]
     },
     "execution_count": 10,
     "metadata": {},
     "output_type": "execute_result"
    }
   ],
   "source": [
    "X.describe()"
   ]
  },
  {
   "cell_type": "code",
   "execution_count": 11,
   "id": "ad703d52",
   "metadata": {},
   "outputs": [
    {
     "data": {
      "image/png": "[encoded data removed]",
      "text/plain": [
       "<Figure size 3500x2000 with 31 Axes>"
      ]
     },
     "metadata": {},
     "output_type": "display_data"
    }
   ],
   "source": [
    "# box plot visualisation\n",
    "X.plot(kind = 'box', subplots = True, sharey = False, figsize = (35,20))\n",
    "plt.subplots_adjust(wspace = 0.9)\n",
    "plt.show()\n",
    "#age, balance, duration, campaign, pdays, previous"
   ]
  },
  {
   "cell_type": "code",
   "execution_count": 12,
   "id": "d29e6099",
   "metadata": {},
   "outputs": [],
   "source": [
    "# Input columns ['default', 'loan', 'pdays', 'previous', 'poutfailure', 'poutother', 'poutsuccess', 'poutunknown', 'con_telephone', 'divorced', 'joadmin.', 'joblue.collar', 'joentrepreneur', 'johousemaid', 'jomanagement', 'joretired', 'joself.employed', 'joservices', 'jostudent', 'jotechnician', 'jounemployed', 'jounknown'] have low variation for method 'iqr'. Try other capping methods or drop these columns."
   ]
  },
  {
   "cell_type": "code",
   "execution_count": 12,
   "id": "ef5149be",
   "metadata": {},
   "outputs": [
    {
     "data": {
      "text/plain": [
       "Index(['age', 'default', 'balance', 'housing', 'loan', 'duration', 'campaign',\n",
       "       'pdays', 'previous', 'poutfailure', 'poutother', 'poutsuccess',\n",
       "       'poutunknown', 'con_cellular', 'con_telephone', 'con_unknown',\n",
       "       'divorced', 'married', 'single', 'joadmin.', 'joblue.collar',\n",
       "       'joentrepreneur', 'johousemaid', 'jomanagement', 'joretired',\n",
       "       'joself.employed', 'joservices', 'jostudent', 'jotechnician',\n",
       "       'jounemployed', 'jounknown'],\n",
       "      dtype='object')"
      ]
     },
     "execution_count": 12,
     "metadata": {},
     "output_type": "execute_result"
    }
   ],
   "source": [
    "numeric_features = X.select_dtypes(exclude = ['object']).columns\n",
    "numeric_features"
   ]
  },
  {
   "cell_type": "code",
   "execution_count": 13,
   "id": "ae8a7b51",
   "metadata": {},
   "outputs": [
    {
     "name": "stdout",
     "output_type": "stream",
     "text": [
      "<class 'pandas.core.frame.DataFrame'>\n",
      "RangeIndex: 45211 entries, 0 to 45210\n",
      "Data columns (total 6 columns):\n",
      " #   Column    Non-Null Count  Dtype\n",
      "---  ------    --------------  -----\n",
      " 0   age       45211 non-null  int32\n",
      " 1   balance   45211 non-null  int32\n",
      " 2   duration  45211 non-null  int32\n",
      " 3   campaign  45211 non-null  int32\n",
      " 4   pdays     45211 non-null  int32\n",
      " 5   previous  45211 non-null  int32\n",
      "dtypes: int32(6)\n",
      "memory usage: 1.0 MB\n"
     ]
    }
   ],
   "source": [
    "# selecting columns with standard deviation > 0.6\n",
    "col = X[X.columns[X.std() > 0.6]]\n",
    "col.info()"
   ]
  },
  {
   "cell_type": "code",
   "execution_count": 14,
   "id": "4e299274",
   "metadata": {},
   "outputs": [],
   "source": [
    "# Still column pdays and previous has low variance and cannot be winsorized."
   ]
  },
  {
   "cell_type": "code",
   "execution_count": 15,
   "id": "0f523853",
   "metadata": {},
   "outputs": [
    {
     "data": {
      "text/plain": [
       "['age', 'balance', 'duration', 'campaign']"
      ]
     },
     "execution_count": 15,
     "metadata": {},
     "output_type": "execute_result"
    }
   ],
   "source": [
    "col_names = ['age', 'balance', 'duration', 'campaign']\n",
    "col_names"
   ]
  },
  {
   "cell_type": "code",
   "execution_count": 16,
   "id": "90c5056e",
   "metadata": {},
   "outputs": [
    {
     "data": {
      "text/html": [
       "<style>#sk-container-id-1 {color: black;background-color: white;}#sk-container-id-1 pre{padding: 0;}#sk-container-id-1 div.sk-toggleable {background-color: white;}#sk-container-id-1 label.sk-toggleable__label {cursor: pointer;display: block;width: 100%;margin-bottom: 0;padding: 0.3em;box-sizing: border-box;text-align: center;}#sk-container-id-1 label.sk-toggleable__label-arrow:before {content: \"▸\";float: left;margin-right: 0.25em;color: #696969;}#sk-container-id-1 label.sk-toggleable__label-arrow:hover:before {color: black;}#sk-container-id-1 div.sk-estimator:hover label.sk-toggleable__label-arrow:before {color: black;}#sk-container-id-1 div.sk-toggleable__content {max-height: 0;max-width: 0;overflow: hidden;text-align: left;background-color: #f0f8ff;}#sk-container-id-1 div.sk-toggleable__content pre {margin: 0.2em;color: black;border-radius: 0.25em;background-color: #f0f8ff;}#sk-container-id-1 input.sk-toggleable__control:checked~div.sk-toggleable__content {max-height: 200px;max-width: 100%;overflow: auto;}#sk-container-id-1 input.sk-toggleable__control:checked~label.sk-toggleable__label-arrow:before {content: \"▾\";}#sk-container-id-1 div.sk-estimator input.sk-toggleable__control:checked~label.sk-toggleable__label {background-color: #d4ebff;}#sk-container-id-1 div.sk-label input.sk-toggleable__control:checked~label.sk-toggleable__label {background-color: #d4ebff;}#sk-container-id-1 input.sk-hidden--visually {border: 0;clip: rect(1px 1px 1px 1px);clip: rect(1px, 1px, 1px, 1px);height: 1px;margin: -1px;overflow: hidden;padding: 0;position: absolute;width: 1px;}#sk-container-id-1 div.sk-estimator {font-family: monospace;background-color: #f0f8ff;border: 1px dotted black;border-radius: 0.25em;box-sizing: border-box;margin-bottom: 0.5em;}#sk-container-id-1 div.sk-estimator:hover {background-color: #d4ebff;}#sk-container-id-1 div.sk-parallel-item::after {content: \"\";width: 100%;border-bottom: 1px solid gray;flex-grow: 1;}#sk-container-id-1 div.sk-label:hover label.sk-toggleable__label {background-color: #d4ebff;}#sk-container-id-1 div.sk-serial::before {content: \"\";position: absolute;border-left: 1px solid gray;box-sizing: border-box;top: 0;bottom: 0;left: 50%;z-index: 0;}#sk-container-id-1 div.sk-serial {display: flex;flex-direction: column;align-items: center;background-color: white;padding-right: 0.2em;padding-left: 0.2em;position: relative;}#sk-container-id-1 div.sk-item {position: relative;z-index: 1;}#sk-container-id-1 div.sk-parallel {display: flex;align-items: stretch;justify-content: center;background-color: white;position: relative;}#sk-container-id-1 div.sk-item::before, #sk-container-id-1 div.sk-parallel-item::before {content: \"\";position: absolute;border-left: 1px solid gray;box-sizing: border-box;top: 0;bottom: 0;left: 50%;z-index: -1;}#sk-container-id-1 div.sk-parallel-item {display: flex;flex-direction: column;z-index: 1;position: relative;background-color: white;}#sk-container-id-1 div.sk-parallel-item:first-child::after {align-self: flex-end;width: 50%;}#sk-container-id-1 div.sk-parallel-item:last-child::after {align-self: flex-start;width: 50%;}#sk-container-id-1 div.sk-parallel-item:only-child::after {width: 0;}#sk-container-id-1 div.sk-dashed-wrapped {border: 1px dashed gray;margin: 0 0.4em 0.5em 0.4em;box-sizing: border-box;padding-bottom: 0.4em;background-color: white;}#sk-container-id-1 div.sk-label label {font-family: monospace;font-weight: bold;display: inline-block;line-height: 1.2em;}#sk-container-id-1 div.sk-label-container {text-align: center;}#sk-container-id-1 div.sk-container {/* jupyter's `normalize.less` sets `[hidden] { display: none; }` but bootstrap.min.css set `[hidden] { display: none !important; }` so we also need the `!important` here to be able to override the default hidden behavior on the sphinx rendered scikit-learn.org. See: https://github.com/scikit-learn/scikit-learn/issues/21755 */display: inline-block !important;position: relative;}#sk-container-id-1 div.sk-text-repr-fallback {display: none;}</style><div id=\"sk-container-id-1\" class=\"sk-top-container\"><div class=\"sk-text-repr-fallback\"><pre>Winsorizer(capping_method=&#x27;iqr&#x27;, fold=1.5, tail=&#x27;both&#x27;,\n",
       "           variables=[&#x27;age&#x27;, &#x27;balance&#x27;, &#x27;duration&#x27;, &#x27;campaign&#x27;])</pre><b>In a Jupyter environment, please rerun this cell to show the HTML representation or trust the notebook. <br />On GitHub, the HTML representation is unable to render, please try loading this page with nbviewer.org.</b></div><div class=\"sk-container\" hidden><div class=\"sk-item\"><div class=\"sk-estimator sk-toggleable\"><input class=\"sk-toggleable__control sk-hidden--visually\" id=\"sk-estimator-id-1\" type=\"checkbox\" checked><label for=\"sk-estimator-id-1\" class=\"sk-toggleable__label sk-toggleable__label-arrow\">Winsorizer</label><div class=\"sk-toggleable__content\"><pre>Winsorizer(capping_method=&#x27;iqr&#x27;, fold=1.5, tail=&#x27;both&#x27;,\n",
       "           variables=[&#x27;age&#x27;, &#x27;balance&#x27;, &#x27;duration&#x27;, &#x27;campaign&#x27;])</pre></div></div></div></div></div>"
      ],
      "text/plain": [
       "Winsorizer(capping_method='iqr', fold=1.5, tail='both',\n",
       "           variables=['age', 'balance', 'duration', 'campaign'])"
      ]
     },
     "execution_count": 16,
     "metadata": {},
     "output_type": "execute_result"
    }
   ],
   "source": [
    "# Winsorization for outlier treatment\n",
    "winsor = Winsorizer(capping_method = 'iqr', tail = 'both', fold = 1.5, variables = list(col_names))\n",
    "winsor"
   ]
  },
  {
   "cell_type": "code",
   "execution_count": 17,
   "id": "a2627b90",
   "metadata": {},
   "outputs": [
    {
     "data": {
      "text/html": [
       "<style>#sk-container-id-2 {color: black;background-color: white;}#sk-container-id-2 pre{padding: 0;}#sk-container-id-2 div.sk-toggleable {background-color: white;}#sk-container-id-2 label.sk-toggleable__label {cursor: pointer;display: block;width: 100%;margin-bottom: 0;padding: 0.3em;box-sizing: border-box;text-align: center;}#sk-container-id-2 label.sk-toggleable__label-arrow:before {content: \"▸\";float: left;margin-right: 0.25em;color: #696969;}#sk-container-id-2 label.sk-toggleable__label-arrow:hover:before {color: black;}#sk-container-id-2 div.sk-estimator:hover label.sk-toggleable__label-arrow:before {color: black;}#sk-container-id-2 div.sk-toggleable__content {max-height: 0;max-width: 0;overflow: hidden;text-align: left;background-color: #f0f8ff;}#sk-container-id-2 div.sk-toggleable__content pre {margin: 0.2em;color: black;border-radius: 0.25em;background-color: #f0f8ff;}#sk-container-id-2 input.sk-toggleable__control:checked~div.sk-toggleable__content {max-height: 200px;max-width: 100%;overflow: auto;}#sk-container-id-2 input.sk-toggleable__control:checked~label.sk-toggleable__label-arrow:before {content: \"▾\";}#sk-container-id-2 div.sk-estimator input.sk-toggleable__control:checked~label.sk-toggleable__label {background-color: #d4ebff;}#sk-container-id-2 div.sk-label input.sk-toggleable__control:checked~label.sk-toggleable__label {background-color: #d4ebff;}#sk-container-id-2 input.sk-hidden--visually {border: 0;clip: rect(1px 1px 1px 1px);clip: rect(1px, 1px, 1px, 1px);height: 1px;margin: -1px;overflow: hidden;padding: 0;position: absolute;width: 1px;}#sk-container-id-2 div.sk-estimator {font-family: monospace;background-color: #f0f8ff;border: 1px dotted black;border-radius: 0.25em;box-sizing: border-box;margin-bottom: 0.5em;}#sk-container-id-2 div.sk-estimator:hover {background-color: #d4ebff;}#sk-container-id-2 div.sk-parallel-item::after {content: \"\";width: 100%;border-bottom: 1px solid gray;flex-grow: 1;}#sk-container-id-2 div.sk-label:hover label.sk-toggleable__label {background-color: #d4ebff;}#sk-container-id-2 div.sk-serial::before {content: \"\";position: absolute;border-left: 1px solid gray;box-sizing: border-box;top: 0;bottom: 0;left: 50%;z-index: 0;}#sk-container-id-2 div.sk-serial {display: flex;flex-direction: column;align-items: center;background-color: white;padding-right: 0.2em;padding-left: 0.2em;position: relative;}#sk-container-id-2 div.sk-item {position: relative;z-index: 1;}#sk-container-id-2 div.sk-parallel {display: flex;align-items: stretch;justify-content: center;background-color: white;position: relative;}#sk-container-id-2 div.sk-item::before, #sk-container-id-2 div.sk-parallel-item::before {content: \"\";position: absolute;border-left: 1px solid gray;box-sizing: border-box;top: 0;bottom: 0;left: 50%;z-index: -1;}#sk-container-id-2 div.sk-parallel-item {display: flex;flex-direction: column;z-index: 1;position: relative;background-color: white;}#sk-container-id-2 div.sk-parallel-item:first-child::after {align-self: flex-end;width: 50%;}#sk-container-id-2 div.sk-parallel-item:last-child::after {align-self: flex-start;width: 50%;}#sk-container-id-2 div.sk-parallel-item:only-child::after {width: 0;}#sk-container-id-2 div.sk-dashed-wrapped {border: 1px dashed gray;margin: 0 0.4em 0.5em 0.4em;box-sizing: border-box;padding-bottom: 0.4em;background-color: white;}#sk-container-id-2 div.sk-label label {font-family: monospace;font-weight: bold;display: inline-block;line-height: 1.2em;}#sk-container-id-2 div.sk-label-container {text-align: center;}#sk-container-id-2 div.sk-container {/* jupyter's `normalize.less` sets `[hidden] { display: none; }` but bootstrap.min.css set `[hidden] { display: none !important; }` so we also need the `!important` here to be able to override the default hidden behavior on the sphinx rendered scikit-learn.org. See: https://github.com/scikit-learn/scikit-learn/issues/21755 */display: inline-block !important;position: relative;}#sk-container-id-2 div.sk-text-repr-fallback {display: none;}</style><div id=\"sk-container-id-2\" class=\"sk-top-container\"><div class=\"sk-text-repr-fallback\"><pre>Pipeline(steps=[(&#x27;winsor&#x27;,\n",
       "                 Winsorizer(capping_method=&#x27;iqr&#x27;, fold=1.5, tail=&#x27;both&#x27;,\n",
       "                            variables=[&#x27;age&#x27;, &#x27;balance&#x27;, &#x27;duration&#x27;,\n",
       "                                       &#x27;campaign&#x27;]))])</pre><b>In a Jupyter environment, please rerun this cell to show the HTML representation or trust the notebook. <br />On GitHub, the HTML representation is unable to render, please try loading this page with nbviewer.org.</b></div><div class=\"sk-container\" hidden><div class=\"sk-item sk-dashed-wrapped\"><div class=\"sk-label-container\"><div class=\"sk-label sk-toggleable\"><input class=\"sk-toggleable__control sk-hidden--visually\" id=\"sk-estimator-id-2\" type=\"checkbox\" ><label for=\"sk-estimator-id-2\" class=\"sk-toggleable__label sk-toggleable__label-arrow\">Pipeline</label><div class=\"sk-toggleable__content\"><pre>Pipeline(steps=[(&#x27;winsor&#x27;,\n",
       "                 Winsorizer(capping_method=&#x27;iqr&#x27;, fold=1.5, tail=&#x27;both&#x27;,\n",
       "                            variables=[&#x27;age&#x27;, &#x27;balance&#x27;, &#x27;duration&#x27;,\n",
       "                                       &#x27;campaign&#x27;]))])</pre></div></div></div><div class=\"sk-serial\"><div class=\"sk-item\"><div class=\"sk-estimator sk-toggleable\"><input class=\"sk-toggleable__control sk-hidden--visually\" id=\"sk-estimator-id-3\" type=\"checkbox\" ><label for=\"sk-estimator-id-3\" class=\"sk-toggleable__label sk-toggleable__label-arrow\">Winsorizer</label><div class=\"sk-toggleable__content\"><pre>Winsorizer(capping_method=&#x27;iqr&#x27;, fold=1.5, tail=&#x27;both&#x27;,\n",
       "           variables=[&#x27;age&#x27;, &#x27;balance&#x27;, &#x27;duration&#x27;, &#x27;campaign&#x27;])</pre></div></div></div></div></div></div></div>"
      ],
      "text/plain": [
       "Pipeline(steps=[('winsor',\n",
       "                 Winsorizer(capping_method='iqr', fold=1.5, tail='both',\n",
       "                            variables=['age', 'balance', 'duration',\n",
       "                                       'campaign']))])"
      ]
     },
     "execution_count": 17,
     "metadata": {},
     "output_type": "execute_result"
    }
   ],
   "source": [
    "outlier_pipeline = Pipeline(steps = [('winsor', winsor)])\n",
    "outlier_pipeline"
   ]
  },
  {
   "cell_type": "code",
   "execution_count": 18,
   "id": "eb41ba6c",
   "metadata": {},
   "outputs": [
    {
     "name": "stdout",
     "output_type": "stream",
     "text": [
      "ColumnTransformer(remainder='passthrough',\n",
      "                  transformers=[('wins',\n",
      "                                 Pipeline(steps=[('winsor',\n",
      "                                                  Winsorizer(capping_method='iqr',\n",
      "                                                             fold=1.5,\n",
      "                                                             tail='both',\n",
      "                                                             variables=['age',\n",
      "                                                                        'balance',\n",
      "                                                                        'duration',\n",
      "                                                                        'campaign']))]),\n",
      "                                 ['age', 'balance', 'duration', 'campaign'])])\n"
     ]
    }
   ],
   "source": [
    "preprocessor = ColumnTransformer(transformers = [('wins', outlier_pipeline, col_names)], remainder = 'passthrough')\n",
    "print(preprocessor)"
   ]
  },
  {
   "cell_type": "code",
   "execution_count": 19,
   "id": "ed6bbc0a",
   "metadata": {},
   "outputs": [
    {
     "data": {
      "text/html": [
       "<style>#sk-container-id-3 {color: black;background-color: white;}#sk-container-id-3 pre{padding: 0;}#sk-container-id-3 div.sk-toggleable {background-color: white;}#sk-container-id-3 label.sk-toggleable__label {cursor: pointer;display: block;width: 100%;margin-bottom: 0;padding: 0.3em;box-sizing: border-box;text-align: center;}#sk-container-id-3 label.sk-toggleable__label-arrow:before {content: \"▸\";float: left;margin-right: 0.25em;color: #696969;}#sk-container-id-3 label.sk-toggleable__label-arrow:hover:before {color: black;}#sk-container-id-3 div.sk-estimator:hover label.sk-toggleable__label-arrow:before {color: black;}#sk-container-id-3 div.sk-toggleable__content {max-height: 0;max-width: 0;overflow: hidden;text-align: left;background-color: #f0f8ff;}#sk-container-id-3 div.sk-toggleable__content pre {margin: 0.2em;color: black;border-radius: 0.25em;background-color: #f0f8ff;}#sk-container-id-3 input.sk-toggleable__control:checked~div.sk-toggleable__content {max-height: 200px;max-width: 100%;overflow: auto;}#sk-container-id-3 input.sk-toggleable__control:checked~label.sk-toggleable__label-arrow:before {content: \"▾\";}#sk-container-id-3 div.sk-estimator input.sk-toggleable__control:checked~label.sk-toggleable__label {background-color: #d4ebff;}#sk-container-id-3 div.sk-label input.sk-toggleable__control:checked~label.sk-toggleable__label {background-color: #d4ebff;}#sk-container-id-3 input.sk-hidden--visually {border: 0;clip: rect(1px 1px 1px 1px);clip: rect(1px, 1px, 1px, 1px);height: 1px;margin: -1px;overflow: hidden;padding: 0;position: absolute;width: 1px;}#sk-container-id-3 div.sk-estimator {font-family: monospace;background-color: #f0f8ff;border: 1px dotted black;border-radius: 0.25em;box-sizing: border-box;margin-bottom: 0.5em;}#sk-container-id-3 div.sk-estimator:hover {background-color: #d4ebff;}#sk-container-id-3 div.sk-parallel-item::after {content: \"\";width: 100%;border-bottom: 1px solid gray;flex-grow: 1;}#sk-container-id-3 div.sk-label:hover label.sk-toggleable__label {background-color: #d4ebff;}#sk-container-id-3 div.sk-serial::before {content: \"\";position: absolute;border-left: 1px solid gray;box-sizing: border-box;top: 0;bottom: 0;left: 50%;z-index: 0;}#sk-container-id-3 div.sk-serial {display: flex;flex-direction: column;align-items: center;background-color: white;padding-right: 0.2em;padding-left: 0.2em;position: relative;}#sk-container-id-3 div.sk-item {position: relative;z-index: 1;}#sk-container-id-3 div.sk-parallel {display: flex;align-items: stretch;justify-content: center;background-color: white;position: relative;}#sk-container-id-3 div.sk-item::before, #sk-container-id-3 div.sk-parallel-item::before {content: \"\";position: absolute;border-left: 1px solid gray;box-sizing: border-box;top: 0;bottom: 0;left: 50%;z-index: -1;}#sk-container-id-3 div.sk-parallel-item {display: flex;flex-direction: column;z-index: 1;position: relative;background-color: white;}#sk-container-id-3 div.sk-parallel-item:first-child::after {align-self: flex-end;width: 50%;}#sk-container-id-3 div.sk-parallel-item:last-child::after {align-self: flex-start;width: 50%;}#sk-container-id-3 div.sk-parallel-item:only-child::after {width: 0;}#sk-container-id-3 div.sk-dashed-wrapped {border: 1px dashed gray;margin: 0 0.4em 0.5em 0.4em;box-sizing: border-box;padding-bottom: 0.4em;background-color: white;}#sk-container-id-3 div.sk-label label {font-family: monospace;font-weight: bold;display: inline-block;line-height: 1.2em;}#sk-container-id-3 div.sk-label-container {text-align: center;}#sk-container-id-3 div.sk-container {/* jupyter's `normalize.less` sets `[hidden] { display: none; }` but bootstrap.min.css set `[hidden] { display: none !important; }` so we also need the `!important` here to be able to override the default hidden behavior on the sphinx rendered scikit-learn.org. See: https://github.com/scikit-learn/scikit-learn/issues/21755 */display: inline-block !important;position: relative;}#sk-container-id-3 div.sk-text-repr-fallback {display: none;}</style><div id=\"sk-container-id-3\" class=\"sk-top-container\"><div class=\"sk-text-repr-fallback\"><pre>ColumnTransformer(remainder=&#x27;passthrough&#x27;,\n",
       "                  transformers=[(&#x27;wins&#x27;,\n",
       "                                 Pipeline(steps=[(&#x27;winsor&#x27;,\n",
       "                                                  Winsorizer(capping_method=&#x27;iqr&#x27;,\n",
       "                                                             fold=1.5,\n",
       "                                                             tail=&#x27;both&#x27;,\n",
       "                                                             variables=[&#x27;age&#x27;,\n",
       "                                                                        &#x27;balance&#x27;,\n",
       "                                                                        &#x27;duration&#x27;,\n",
       "                                                                        &#x27;campaign&#x27;]))]),\n",
       "                                 [&#x27;age&#x27;, &#x27;balance&#x27;, &#x27;duration&#x27;, &#x27;campaign&#x27;])])</pre><b>In a Jupyter environment, please rerun this cell to show the HTML representation or trust the notebook. <br />On GitHub, the HTML representation is unable to render, please try loading this page with nbviewer.org.</b></div><div class=\"sk-container\" hidden><div class=\"sk-item sk-dashed-wrapped\"><div class=\"sk-label-container\"><div class=\"sk-label sk-toggleable\"><input class=\"sk-toggleable__control sk-hidden--visually\" id=\"sk-estimator-id-4\" type=\"checkbox\" ><label for=\"sk-estimator-id-4\" class=\"sk-toggleable__label sk-toggleable__label-arrow\">ColumnTransformer</label><div class=\"sk-toggleable__content\"><pre>ColumnTransformer(remainder=&#x27;passthrough&#x27;,\n",
       "                  transformers=[(&#x27;wins&#x27;,\n",
       "                                 Pipeline(steps=[(&#x27;winsor&#x27;,\n",
       "                                                  Winsorizer(capping_method=&#x27;iqr&#x27;,\n",
       "                                                             fold=1.5,\n",
       "                                                             tail=&#x27;both&#x27;,\n",
       "                                                             variables=[&#x27;age&#x27;,\n",
       "                                                                        &#x27;balance&#x27;,\n",
       "                                                                        &#x27;duration&#x27;,\n",
       "                                                                        &#x27;campaign&#x27;]))]),\n",
       "                                 [&#x27;age&#x27;, &#x27;balance&#x27;, &#x27;duration&#x27;, &#x27;campaign&#x27;])])</pre></div></div></div><div class=\"sk-parallel\"><div class=\"sk-parallel-item\"><div class=\"sk-item\"><div class=\"sk-label-container\"><div class=\"sk-label sk-toggleable\"><input class=\"sk-toggleable__control sk-hidden--visually\" id=\"sk-estimator-id-5\" type=\"checkbox\" ><label for=\"sk-estimator-id-5\" class=\"sk-toggleable__label sk-toggleable__label-arrow\">wins</label><div class=\"sk-toggleable__content\"><pre>[&#x27;age&#x27;, &#x27;balance&#x27;, &#x27;duration&#x27;, &#x27;campaign&#x27;]</pre></div></div></div><div class=\"sk-serial\"><div class=\"sk-item\"><div class=\"sk-serial\"><div class=\"sk-item\"><div class=\"sk-estimator sk-toggleable\"><input class=\"sk-toggleable__control sk-hidden--visually\" id=\"sk-estimator-id-6\" type=\"checkbox\" ><label for=\"sk-estimator-id-6\" class=\"sk-toggleable__label sk-toggleable__label-arrow\">Winsorizer</label><div class=\"sk-toggleable__content\"><pre>Winsorizer(capping_method=&#x27;iqr&#x27;, fold=1.5, tail=&#x27;both&#x27;,\n",
       "           variables=[&#x27;age&#x27;, &#x27;balance&#x27;, &#x27;duration&#x27;, &#x27;campaign&#x27;])</pre></div></div></div></div></div></div></div></div><div class=\"sk-parallel-item\"><div class=\"sk-item\"><div class=\"sk-label-container\"><div class=\"sk-label sk-toggleable\"><input class=\"sk-toggleable__control sk-hidden--visually\" id=\"sk-estimator-id-7\" type=\"checkbox\" ><label for=\"sk-estimator-id-7\" class=\"sk-toggleable__label sk-toggleable__label-arrow\">remainder</label><div class=\"sk-toggleable__content\"><pre>[]</pre></div></div></div><div class=\"sk-serial\"><div class=\"sk-item\"><div class=\"sk-estimator sk-toggleable\"><input class=\"sk-toggleable__control sk-hidden--visually\" id=\"sk-estimator-id-8\" type=\"checkbox\" ><label for=\"sk-estimator-id-8\" class=\"sk-toggleable__label sk-toggleable__label-arrow\">passthrough</label><div class=\"sk-toggleable__content\"><pre>passthrough</pre></div></div></div></div></div></div></div></div></div></div>"
      ],
      "text/plain": [
       "ColumnTransformer(remainder='passthrough',\n",
       "                  transformers=[('wins',\n",
       "                                 Pipeline(steps=[('winsor',\n",
       "                                                  Winsorizer(capping_method='iqr',\n",
       "                                                             fold=1.5,\n",
       "                                                             tail='both',\n",
       "                                                             variables=['age',\n",
       "                                                                        'balance',\n",
       "                                                                        'duration',\n",
       "                                                                        'campaign']))]),\n",
       "                                 ['age', 'balance', 'duration', 'campaign'])])"
      ]
     },
     "execution_count": 19,
     "metadata": {},
     "output_type": "execute_result"
    }
   ],
   "source": [
    "clean = preprocessor.fit(X[col_names])\n",
    "clean"
   ]
  },
  {
   "cell_type": "code",
   "execution_count": 20,
   "id": "21454bb6",
   "metadata": {},
   "outputs": [
    {
     "data": {
      "text/html": [
       "<div>\n",
       "<style scoped>\n",
       "    .dataframe tbody tr th:only-of-type {\n",
       "        vertical-align: middle;\n",
       "    }\n",
       "\n",
       "    .dataframe tbody tr th {\n",
       "        vertical-align: top;\n",
       "    }\n",
       "\n",
       "    .dataframe thead th {\n",
       "        text-align: right;\n",
       "    }\n",
       "</style>\n",
       "<table border=\"1\" class=\"dataframe\">\n",
       "  <thead>\n",
       "    <tr style=\"text-align: right;\">\n",
       "      <th></th>\n",
       "      <th>age</th>\n",
       "      <th>balance</th>\n",
       "      <th>duration</th>\n",
       "      <th>campaign</th>\n",
       "    </tr>\n",
       "  </thead>\n",
       "  <tbody>\n",
       "    <tr>\n",
       "      <th>0</th>\n",
       "      <td>58.0</td>\n",
       "      <td>2143.0</td>\n",
       "      <td>261.0</td>\n",
       "      <td>1.0</td>\n",
       "    </tr>\n",
       "    <tr>\n",
       "      <th>1</th>\n",
       "      <td>44.0</td>\n",
       "      <td>29.0</td>\n",
       "      <td>151.0</td>\n",
       "      <td>1.0</td>\n",
       "    </tr>\n",
       "    <tr>\n",
       "      <th>2</th>\n",
       "      <td>33.0</td>\n",
       "      <td>2.0</td>\n",
       "      <td>76.0</td>\n",
       "      <td>1.0</td>\n",
       "    </tr>\n",
       "    <tr>\n",
       "      <th>3</th>\n",
       "      <td>47.0</td>\n",
       "      <td>1506.0</td>\n",
       "      <td>92.0</td>\n",
       "      <td>1.0</td>\n",
       "    </tr>\n",
       "    <tr>\n",
       "      <th>4</th>\n",
       "      <td>33.0</td>\n",
       "      <td>1.0</td>\n",
       "      <td>198.0</td>\n",
       "      <td>1.0</td>\n",
       "    </tr>\n",
       "  </tbody>\n",
       "</table>\n",
       "</div>"
      ],
      "text/plain": [
       "    age  balance  duration  campaign\n",
       "0  58.0   2143.0     261.0       1.0\n",
       "1  44.0     29.0     151.0       1.0\n",
       "2  33.0      2.0      76.0       1.0\n",
       "3  47.0   1506.0      92.0       1.0\n",
       "4  33.0      1.0     198.0       1.0"
      ]
     },
     "execution_count": 20,
     "metadata": {},
     "output_type": "execute_result"
    }
   ],
   "source": [
    "cleandata1 = pd.DataFrame(clean.transform(X), columns = col_names)\n",
    "cleandata1.head()"
   ]
  },
  {
   "cell_type": "code",
   "execution_count": 21,
   "id": "937d47b9",
   "metadata": {},
   "outputs": [
    {
     "data": {
      "text/html": [
       "<div>\n",
       "<style scoped>\n",
       "    .dataframe tbody tr th:only-of-type {\n",
       "        vertical-align: middle;\n",
       "    }\n",
       "\n",
       "    .dataframe tbody tr th {\n",
       "        vertical-align: top;\n",
       "    }\n",
       "\n",
       "    .dataframe thead th {\n",
       "        text-align: right;\n",
       "    }\n",
       "</style>\n",
       "<table border=\"1\" class=\"dataframe\">\n",
       "  <thead>\n",
       "    <tr style=\"text-align: right;\">\n",
       "      <th></th>\n",
       "      <th>age</th>\n",
       "      <th>balance</th>\n",
       "      <th>duration</th>\n",
       "      <th>campaign</th>\n",
       "    </tr>\n",
       "  </thead>\n",
       "  <tbody>\n",
       "    <tr>\n",
       "      <th>count</th>\n",
       "      <td>45211.000000</td>\n",
       "      <td>45211.000000</td>\n",
       "      <td>45211.000000</td>\n",
       "      <td>45211.000000</td>\n",
       "    </tr>\n",
       "    <tr>\n",
       "      <th>mean</th>\n",
       "      <td>40.868185</td>\n",
       "      <td>933.706974</td>\n",
       "      <td>234.939307</td>\n",
       "      <td>2.392228</td>\n",
       "    </tr>\n",
       "    <tr>\n",
       "      <th>std</th>\n",
       "      <td>10.394895</td>\n",
       "      <td>1176.765369</td>\n",
       "      <td>176.749932</td>\n",
       "      <td>1.600111</td>\n",
       "    </tr>\n",
       "    <tr>\n",
       "      <th>min</th>\n",
       "      <td>18.000000</td>\n",
       "      <td>-1962.000000</td>\n",
       "      <td>0.000000</td>\n",
       "      <td>1.000000</td>\n",
       "    </tr>\n",
       "    <tr>\n",
       "      <th>25%</th>\n",
       "      <td>33.000000</td>\n",
       "      <td>72.000000</td>\n",
       "      <td>103.000000</td>\n",
       "      <td>1.000000</td>\n",
       "    </tr>\n",
       "    <tr>\n",
       "      <th>50%</th>\n",
       "      <td>39.000000</td>\n",
       "      <td>448.000000</td>\n",
       "      <td>180.000000</td>\n",
       "      <td>2.000000</td>\n",
       "    </tr>\n",
       "    <tr>\n",
       "      <th>75%</th>\n",
       "      <td>48.000000</td>\n",
       "      <td>1428.000000</td>\n",
       "      <td>319.000000</td>\n",
       "      <td>3.000000</td>\n",
       "    </tr>\n",
       "    <tr>\n",
       "      <th>max</th>\n",
       "      <td>70.500000</td>\n",
       "      <td>3462.000000</td>\n",
       "      <td>643.000000</td>\n",
       "      <td>6.000000</td>\n",
       "    </tr>\n",
       "  </tbody>\n",
       "</table>\n",
       "</div>"
      ],
      "text/plain": [
       "                age       balance      duration      campaign\n",
       "count  45211.000000  45211.000000  45211.000000  45211.000000\n",
       "mean      40.868185    933.706974    234.939307      2.392228\n",
       "std       10.394895   1176.765369    176.749932      1.600111\n",
       "min       18.000000  -1962.000000      0.000000      1.000000\n",
       "25%       33.000000     72.000000    103.000000      1.000000\n",
       "50%       39.000000    448.000000    180.000000      2.000000\n",
       "75%       48.000000   1428.000000    319.000000      3.000000\n",
       "max       70.500000   3462.000000    643.000000      6.000000"
      ]
     },
     "execution_count": 21,
     "metadata": {},
     "output_type": "execute_result"
    }
   ],
   "source": [
    "cleandata1.describe()"
   ]
  },
  {
   "cell_type": "code",
   "execution_count": 22,
   "id": "430097ca",
   "metadata": {},
   "outputs": [
    {
     "data": {
      "image/png": "[encoded data removed]",
      "text/plain": [
       "<Figure size 500x1000 with 4 Axes>"
      ]
     },
     "metadata": {},
     "output_type": "display_data"
    }
   ],
   "source": [
    "# box plot visualisation\n",
    "cleandata1.plot(kind = 'box', subplots = True, sharey = False, figsize = (5,10))\n",
    "plt.subplots_adjust(wspace = 0.9)\n",
    "plt.show()"
   ]
  },
  {
   "cell_type": "code",
   "execution_count": 23,
   "id": "eed93cdd",
   "metadata": {},
   "outputs": [],
   "source": [
    "# extracting the remaining columns\n",
    "rem_col = list(set.difference(set(list(X.columns)),set(col_names)))"
   ]
  },
  {
   "cell_type": "code",
   "execution_count": 24,
   "id": "1d0c19e8",
   "metadata": {},
   "outputs": [
    {
     "name": "stdout",
     "output_type": "stream",
     "text": [
      "<class 'pandas.core.frame.DataFrame'>\n",
      "RangeIndex: 45211 entries, 0 to 45210\n",
      "Data columns (total 31 columns):\n",
      " #   Column           Non-Null Count  Dtype  \n",
      "---  ------           --------------  -----  \n",
      " 0   age              45211 non-null  float64\n",
      " 1   balance          45211 non-null  float64\n",
      " 2   duration         45211 non-null  float64\n",
      " 3   campaign         45211 non-null  float64\n",
      " 4   married          45211 non-null  int32  \n",
      " 5   loan             45211 non-null  int32  \n",
      " 6   jounemployed     45211 non-null  int32  \n",
      " 7   joentrepreneur   45211 non-null  int32  \n",
      " 8   johousemaid      45211 non-null  int32  \n",
      " 9   single           45211 non-null  int32  \n",
      " 10  divorced         45211 non-null  int32  \n",
      " 11  joadmin.         45211 non-null  int32  \n",
      " 12  poutfailure      45211 non-null  int32  \n",
      " 13  housing          45211 non-null  int32  \n",
      " 14  previous         45211 non-null  int32  \n",
      " 15  con_unknown      45211 non-null  int32  \n",
      " 16  jostudent        45211 non-null  int32  \n",
      " 17  poutother        45211 non-null  int32  \n",
      " 18  joblue.collar    45211 non-null  int32  \n",
      " 19  con_telephone    45211 non-null  int32  \n",
      " 20  jotechnician     45211 non-null  int32  \n",
      " 21  joservices       45211 non-null  int32  \n",
      " 22  joretired        45211 non-null  int32  \n",
      " 23  joself.employed  45211 non-null  int32  \n",
      " 24  con_cellular     45211 non-null  int32  \n",
      " 25  default          45211 non-null  int32  \n",
      " 26  poutunknown      45211 non-null  int32  \n",
      " 27  poutsuccess      45211 non-null  int32  \n",
      " 28  pdays            45211 non-null  int32  \n",
      " 29  jounknown        45211 non-null  int32  \n",
      " 30  jomanagement     45211 non-null  int32  \n",
      "dtypes: float64(4), int32(27)\n",
      "memory usage: 6.0 MB\n"
     ]
    }
   ],
   "source": [
    "# concatenate the data \n",
    "X1 = pd.concat([cleandata1, X[rem_col]], axis = 1)  # concatenated data will have new sequential index\n",
    "X1.info()"
   ]
  },
  {
   "cell_type": "code",
   "execution_count": 25,
   "id": "5947b245",
   "metadata": {},
   "outputs": [],
   "source": [
    "## Scaling with MinMaxScaler\n",
    "scale_pipeline = Pipeline([('scale', MinMaxScaler())])\n",
    "\n",
    "scale_columntransfer = ColumnTransformer([('scale', scale_pipeline, numeric_features)]) # Skips the transformations for remaining columns\n",
    "\n",
    "scale = scale_columntransfer.fit(X1)"
   ]
  },
  {
   "cell_type": "code",
   "execution_count": 26,
   "id": "d9b2f2b3",
   "metadata": {},
   "outputs": [
    {
     "data": {
      "text/html": [
       "<div>\n",
       "<style scoped>\n",
       "    .dataframe tbody tr th:only-of-type {\n",
       "        vertical-align: middle;\n",
       "    }\n",
       "\n",
       "    .dataframe tbody tr th {\n",
       "        vertical-align: top;\n",
       "    }\n",
       "\n",
       "    .dataframe thead th {\n",
       "        text-align: right;\n",
       "    }\n",
       "</style>\n",
       "<table border=\"1\" class=\"dataframe\">\n",
       "  <thead>\n",
       "    <tr style=\"text-align: right;\">\n",
       "      <th></th>\n",
       "      <th>age</th>\n",
       "      <th>default</th>\n",
       "      <th>balance</th>\n",
       "      <th>housing</th>\n",
       "      <th>loan</th>\n",
       "      <th>duration</th>\n",
       "      <th>campaign</th>\n",
       "      <th>pdays</th>\n",
       "      <th>previous</th>\n",
       "      <th>poutfailure</th>\n",
       "      <th>...</th>\n",
       "      <th>joentrepreneur</th>\n",
       "      <th>johousemaid</th>\n",
       "      <th>jomanagement</th>\n",
       "      <th>joretired</th>\n",
       "      <th>joself.employed</th>\n",
       "      <th>joservices</th>\n",
       "      <th>jostudent</th>\n",
       "      <th>jotechnician</th>\n",
       "      <th>jounemployed</th>\n",
       "      <th>jounknown</th>\n",
       "    </tr>\n",
       "  </thead>\n",
       "  <tbody>\n",
       "    <tr>\n",
       "      <th>count</th>\n",
       "      <td>45211.000000</td>\n",
       "      <td>45211.000000</td>\n",
       "      <td>45211.000000</td>\n",
       "      <td>45211.000000</td>\n",
       "      <td>45211.000000</td>\n",
       "      <td>45211.000000</td>\n",
       "      <td>45211.000000</td>\n",
       "      <td>45211.000000</td>\n",
       "      <td>45211.000000</td>\n",
       "      <td>45211.000000</td>\n",
       "      <td>...</td>\n",
       "      <td>45211.000000</td>\n",
       "      <td>45211.000000</td>\n",
       "      <td>45211.000000</td>\n",
       "      <td>45211.000000</td>\n",
       "      <td>45211.000000</td>\n",
       "      <td>45211.00000</td>\n",
       "      <td>45211.000000</td>\n",
       "      <td>45211.000000</td>\n",
       "      <td>45211.000000</td>\n",
       "      <td>45211.000000</td>\n",
       "    </tr>\n",
       "    <tr>\n",
       "      <th>mean</th>\n",
       "      <td>0.435584</td>\n",
       "      <td>0.018027</td>\n",
       "      <td>0.533869</td>\n",
       "      <td>0.555838</td>\n",
       "      <td>0.160226</td>\n",
       "      <td>0.365380</td>\n",
       "      <td>0.278446</td>\n",
       "      <td>0.047245</td>\n",
       "      <td>0.002110</td>\n",
       "      <td>0.108403</td>\n",
       "      <td>...</td>\n",
       "      <td>0.032890</td>\n",
       "      <td>0.027427</td>\n",
       "      <td>0.209197</td>\n",
       "      <td>0.050076</td>\n",
       "      <td>0.034925</td>\n",
       "      <td>0.09188</td>\n",
       "      <td>0.020747</td>\n",
       "      <td>0.168034</td>\n",
       "      <td>0.028820</td>\n",
       "      <td>0.006370</td>\n",
       "    </tr>\n",
       "    <tr>\n",
       "      <th>std</th>\n",
       "      <td>0.197998</td>\n",
       "      <td>0.133049</td>\n",
       "      <td>0.216955</td>\n",
       "      <td>0.496878</td>\n",
       "      <td>0.366820</td>\n",
       "      <td>0.274883</td>\n",
       "      <td>0.320022</td>\n",
       "      <td>0.114827</td>\n",
       "      <td>0.008376</td>\n",
       "      <td>0.310892</td>\n",
       "      <td>...</td>\n",
       "      <td>0.178351</td>\n",
       "      <td>0.163326</td>\n",
       "      <td>0.406740</td>\n",
       "      <td>0.218105</td>\n",
       "      <td>0.183592</td>\n",
       "      <td>0.28886</td>\n",
       "      <td>0.142538</td>\n",
       "      <td>0.373901</td>\n",
       "      <td>0.167303</td>\n",
       "      <td>0.079559</td>\n",
       "    </tr>\n",
       "    <tr>\n",
       "      <th>min</th>\n",
       "      <td>0.000000</td>\n",
       "      <td>0.000000</td>\n",
       "      <td>0.000000</td>\n",
       "      <td>0.000000</td>\n",
       "      <td>0.000000</td>\n",
       "      <td>0.000000</td>\n",
       "      <td>0.000000</td>\n",
       "      <td>0.000000</td>\n",
       "      <td>0.000000</td>\n",
       "      <td>0.000000</td>\n",
       "      <td>...</td>\n",
       "      <td>0.000000</td>\n",
       "      <td>0.000000</td>\n",
       "      <td>0.000000</td>\n",
       "      <td>0.000000</td>\n",
       "      <td>0.000000</td>\n",
       "      <td>0.00000</td>\n",
       "      <td>0.000000</td>\n",
       "      <td>0.000000</td>\n",
       "      <td>0.000000</td>\n",
       "      <td>0.000000</td>\n",
       "    </tr>\n",
       "    <tr>\n",
       "      <th>25%</th>\n",
       "      <td>0.285714</td>\n",
       "      <td>0.000000</td>\n",
       "      <td>0.375000</td>\n",
       "      <td>0.000000</td>\n",
       "      <td>0.000000</td>\n",
       "      <td>0.160187</td>\n",
       "      <td>0.000000</td>\n",
       "      <td>0.000000</td>\n",
       "      <td>0.000000</td>\n",
       "      <td>0.000000</td>\n",
       "      <td>...</td>\n",
       "      <td>0.000000</td>\n",
       "      <td>0.000000</td>\n",
       "      <td>0.000000</td>\n",
       "      <td>0.000000</td>\n",
       "      <td>0.000000</td>\n",
       "      <td>0.00000</td>\n",
       "      <td>0.000000</td>\n",
       "      <td>0.000000</td>\n",
       "      <td>0.000000</td>\n",
       "      <td>0.000000</td>\n",
       "    </tr>\n",
       "    <tr>\n",
       "      <th>50%</th>\n",
       "      <td>0.400000</td>\n",
       "      <td>0.000000</td>\n",
       "      <td>0.444322</td>\n",
       "      <td>1.000000</td>\n",
       "      <td>0.000000</td>\n",
       "      <td>0.279938</td>\n",
       "      <td>0.200000</td>\n",
       "      <td>0.000000</td>\n",
       "      <td>0.000000</td>\n",
       "      <td>0.000000</td>\n",
       "      <td>...</td>\n",
       "      <td>0.000000</td>\n",
       "      <td>0.000000</td>\n",
       "      <td>0.000000</td>\n",
       "      <td>0.000000</td>\n",
       "      <td>0.000000</td>\n",
       "      <td>0.00000</td>\n",
       "      <td>0.000000</td>\n",
       "      <td>0.000000</td>\n",
       "      <td>0.000000</td>\n",
       "      <td>0.000000</td>\n",
       "    </tr>\n",
       "    <tr>\n",
       "      <th>75%</th>\n",
       "      <td>0.571429</td>\n",
       "      <td>0.000000</td>\n",
       "      <td>0.625000</td>\n",
       "      <td>1.000000</td>\n",
       "      <td>0.000000</td>\n",
       "      <td>0.496112</td>\n",
       "      <td>0.400000</td>\n",
       "      <td>0.000000</td>\n",
       "      <td>0.000000</td>\n",
       "      <td>0.000000</td>\n",
       "      <td>...</td>\n",
       "      <td>0.000000</td>\n",
       "      <td>0.000000</td>\n",
       "      <td>0.000000</td>\n",
       "      <td>0.000000</td>\n",
       "      <td>0.000000</td>\n",
       "      <td>0.00000</td>\n",
       "      <td>0.000000</td>\n",
       "      <td>0.000000</td>\n",
       "      <td>0.000000</td>\n",
       "      <td>0.000000</td>\n",
       "    </tr>\n",
       "    <tr>\n",
       "      <th>max</th>\n",
       "      <td>1.000000</td>\n",
       "      <td>1.000000</td>\n",
       "      <td>1.000000</td>\n",
       "      <td>1.000000</td>\n",
       "      <td>1.000000</td>\n",
       "      <td>1.000000</td>\n",
       "      <td>1.000000</td>\n",
       "      <td>1.000000</td>\n",
       "      <td>1.000000</td>\n",
       "      <td>1.000000</td>\n",
       "      <td>...</td>\n",
       "      <td>1.000000</td>\n",
       "      <td>1.000000</td>\n",
       "      <td>1.000000</td>\n",
       "      <td>1.000000</td>\n",
       "      <td>1.000000</td>\n",
       "      <td>1.00000</td>\n",
       "      <td>1.000000</td>\n",
       "      <td>1.000000</td>\n",
       "      <td>1.000000</td>\n",
       "      <td>1.000000</td>\n",
       "    </tr>\n",
       "  </tbody>\n",
       "</table>\n",
       "<p>8 rows × 31 columns</p>\n",
       "</div>"
      ],
      "text/plain": [
       "                age       default       balance       housing          loan  \\\n",
       "count  45211.000000  45211.000000  45211.000000  45211.000000  45211.000000   \n",
       "mean       0.435584      0.018027      0.533869      0.555838      0.160226   \n",
       "std        0.197998      0.133049      0.216955      0.496878      0.366820   \n",
       "min        0.000000      0.000000      0.000000      0.000000      0.000000   \n",
       "25%        0.285714      0.000000      0.375000      0.000000      0.000000   \n",
       "50%        0.400000      0.000000      0.444322      1.000000      0.000000   \n",
       "75%        0.571429      0.000000      0.625000      1.000000      0.000000   \n",
       "max        1.000000      1.000000      1.000000      1.000000      1.000000   \n",
       "\n",
       "           duration      campaign         pdays      previous   poutfailure  \\\n",
       "count  45211.000000  45211.000000  45211.000000  45211.000000  45211.000000   \n",
       "mean       0.365380      0.278446      0.047245      0.002110      0.108403   \n",
       "std        0.274883      0.320022      0.114827      0.008376      0.310892   \n",
       "min        0.000000      0.000000      0.000000      0.000000      0.000000   \n",
       "25%        0.160187      0.000000      0.000000      0.000000      0.000000   \n",
       "50%        0.279938      0.200000      0.000000      0.000000      0.000000   \n",
       "75%        0.496112      0.400000      0.000000      0.000000      0.000000   \n",
       "max        1.000000      1.000000      1.000000      1.000000      1.000000   \n",
       "\n",
       "       ...  joentrepreneur   johousemaid  jomanagement     joretired  \\\n",
       "count  ...    45211.000000  45211.000000  45211.000000  45211.000000   \n",
       "mean   ...        0.032890      0.027427      0.209197      0.050076   \n",
       "std    ...        0.178351      0.163326      0.406740      0.218105   \n",
       "min    ...        0.000000      0.000000      0.000000      0.000000   \n",
       "25%    ...        0.000000      0.000000      0.000000      0.000000   \n",
       "50%    ...        0.000000      0.000000      0.000000      0.000000   \n",
       "75%    ...        0.000000      0.000000      0.000000      0.000000   \n",
       "max    ...        1.000000      1.000000      1.000000      1.000000   \n",
       "\n",
       "       joself.employed   joservices     jostudent  jotechnician  jounemployed  \\\n",
       "count     45211.000000  45211.00000  45211.000000  45211.000000  45211.000000   \n",
       "mean          0.034925      0.09188      0.020747      0.168034      0.028820   \n",
       "std           0.183592      0.28886      0.142538      0.373901      0.167303   \n",
       "min           0.000000      0.00000      0.000000      0.000000      0.000000   \n",
       "25%           0.000000      0.00000      0.000000      0.000000      0.000000   \n",
       "50%           0.000000      0.00000      0.000000      0.000000      0.000000   \n",
       "75%           0.000000      0.00000      0.000000      0.000000      0.000000   \n",
       "max           1.000000      1.00000      1.000000      1.000000      1.000000   \n",
       "\n",
       "          jounknown  \n",
       "count  45211.000000  \n",
       "mean       0.006370  \n",
       "std        0.079559  \n",
       "min        0.000000  \n",
       "25%        0.000000  \n",
       "50%        0.000000  \n",
       "75%        0.000000  \n",
       "max        1.000000  \n",
       "\n",
       "[8 rows x 31 columns]"
      ]
     },
     "execution_count": 26,
     "metadata": {},
     "output_type": "execute_result"
    }
   ],
   "source": [
    "scaled_data = pd.DataFrame(scale.transform(X1), columns = numeric_features)\n",
    "scaled_data.describe()"
   ]
  },
  {
   "cell_type": "code",
   "execution_count": null,
   "id": "ae5112fb",
   "metadata": {},
   "outputs": [],
   "source": []
  },
  {
   "cell_type": "markdown",
   "id": "a1f78d90",
   "metadata": {},
   "source": [
    "# Logistic Regression"
   ]
  },
  {
   "cell_type": "code",
   "execution_count": 27,
   "id": "b2b998f4",
   "metadata": {},
   "outputs": [
    {
     "name": "stdout",
     "output_type": "stream",
     "text": [
      "Optimization terminated successfully.\n",
      "         Current function value: 0.242142\n",
      "         Iterations 10\n"
     ]
    }
   ],
   "source": [
    "logit_model = sm.Logit(Y, scaled_data ).fit()"
   ]
  },
  {
   "cell_type": "code",
   "execution_count": 28,
   "id": "85bff7d7",
   "metadata": {},
   "outputs": [
    {
     "data": {
      "text/html": [
       "<table class=\"simpletable\">\n",
       "<caption>Logit Regression Results</caption>\n",
       "<tr>\n",
       "  <th>Dep. Variable:</th>           <td>y</td>        <th>  No. Observations:  </th>  <td> 45211</td> \n",
       "</tr>\n",
       "<tr>\n",
       "  <th>Model:</th>                 <td>Logit</td>      <th>  Df Residuals:      </th>  <td> 45183</td> \n",
       "</tr>\n",
       "<tr>\n",
       "  <th>Method:</th>                 <td>MLE</td>       <th>  Df Model:          </th>  <td>    27</td> \n",
       "</tr>\n",
       "<tr>\n",
       "  <th>Date:</th>            <td>Wed, 22 Mar 2023</td> <th>  Pseudo R-squ.:     </th>  <td>0.3290</td> \n",
       "</tr>\n",
       "<tr>\n",
       "  <th>Time:</th>                <td>00:01:29</td>     <th>  Log-Likelihood:    </th> <td> -10947.</td>\n",
       "</tr>\n",
       "<tr>\n",
       "  <th>converged:</th>             <td>True</td>       <th>  LL-Null:           </th> <td> -16315.</td>\n",
       "</tr>\n",
       "<tr>\n",
       "  <th>Covariance Type:</th>     <td>nonrobust</td>    <th>  LLR p-value:       </th>  <td> 0.000</td> \n",
       "</tr>\n",
       "</table>\n",
       "<table class=\"simpletable\">\n",
       "<tr>\n",
       "         <td></td>            <th>coef</th>     <th>std err</th>      <th>z</th>      <th>P>|z|</th>  <th>[0.025</th>    <th>0.975]</th>  \n",
       "</tr>\n",
       "<tr>\n",
       "  <th>age</th>             <td>   -0.0909</td> <td>    0.115</td> <td>   -0.792</td> <td> 0.429</td> <td>   -0.316</td> <td>    0.134</td>\n",
       "</tr>\n",
       "<tr>\n",
       "  <th>default</th>         <td>   -0.1723</td> <td>    0.163</td> <td>   -1.056</td> <td> 0.291</td> <td>   -0.492</td> <td>    0.147</td>\n",
       "</tr>\n",
       "<tr>\n",
       "  <th>balance</th>         <td>    0.6957</td> <td>    0.079</td> <td>    8.759</td> <td> 0.000</td> <td>    0.540</td> <td>    0.851</td>\n",
       "</tr>\n",
       "<tr>\n",
       "  <th>housing</th>         <td>   -0.7683</td> <td>    0.039</td> <td>  -19.480</td> <td> 0.000</td> <td>   -0.846</td> <td>   -0.691</td>\n",
       "</tr>\n",
       "<tr>\n",
       "  <th>loan</th>            <td>   -0.5069</td> <td>    0.057</td> <td>   -8.853</td> <td> 0.000</td> <td>   -0.619</td> <td>   -0.395</td>\n",
       "</tr>\n",
       "<tr>\n",
       "  <th>duration</th>        <td>    4.3404</td> <td>    0.061</td> <td>   71.003</td> <td> 0.000</td> <td>    4.221</td> <td>    4.460</td>\n",
       "</tr>\n",
       "<tr>\n",
       "  <th>campaign</th>        <td>   -0.7119</td> <td>    0.065</td> <td>  -10.938</td> <td> 0.000</td> <td>   -0.839</td> <td>   -0.584</td>\n",
       "</tr>\n",
       "<tr>\n",
       "  <th>pdays</th>           <td>    0.0401</td> <td>    0.271</td> <td>    0.148</td> <td> 0.882</td> <td>   -0.491</td> <td>    0.571</td>\n",
       "</tr>\n",
       "<tr>\n",
       "  <th>previous</th>        <td>    2.6421</td> <td>    1.756</td> <td>    1.505</td> <td> 0.132</td> <td>   -0.799</td> <td>    6.083</td>\n",
       "</tr>\n",
       "<tr>\n",
       "  <th>poutfailure</th>     <td>   -1.4366</td> <td> 1.21e+06</td> <td>-1.19e-06</td> <td> 1.000</td> <td>-2.37e+06</td> <td> 2.37e+06</td>\n",
       "</tr>\n",
       "<tr>\n",
       "  <th>poutother</th>       <td>   -1.2121</td> <td> 1.23e+06</td> <td>-9.86e-07</td> <td> 1.000</td> <td>-2.41e+06</td> <td> 2.41e+06</td>\n",
       "</tr>\n",
       "<tr>\n",
       "  <th>poutsuccess</th>     <td>    0.9657</td> <td> 1.22e+06</td> <td>  7.9e-07</td> <td> 1.000</td> <td> -2.4e+06</td> <td>  2.4e+06</td>\n",
       "</tr>\n",
       "<tr>\n",
       "  <th>poutunknown</th>     <td>   -1.7127</td> <td> 1.22e+06</td> <td>-1.41e-06</td> <td> 1.000</td> <td>-2.38e+06</td> <td> 2.38e+06</td>\n",
       "</tr>\n",
       "<tr>\n",
       "  <th>con_cellular</th>    <td>   -0.7678</td> <td> 9.74e+05</td> <td>-7.88e-07</td> <td> 1.000</td> <td>-1.91e+06</td> <td> 1.91e+06</td>\n",
       "</tr>\n",
       "<tr>\n",
       "  <th>con_telephone</th>   <td>   -0.7961</td> <td> 9.45e+05</td> <td>-8.42e-07</td> <td> 1.000</td> <td>-1.85e+06</td> <td> 1.85e+06</td>\n",
       "</tr>\n",
       "<tr>\n",
       "  <th>con_unknown</th>     <td>   -1.8318</td> <td>  9.6e+05</td> <td>-1.91e-06</td> <td> 1.000</td> <td>-1.88e+06</td> <td> 1.88e+06</td>\n",
       "</tr>\n",
       "<tr>\n",
       "  <th>divorced</th>        <td>   -1.1103</td> <td> 6.86e+05</td> <td>-1.62e-06</td> <td> 1.000</td> <td>-1.34e+06</td> <td> 1.34e+06</td>\n",
       "</tr>\n",
       "<tr>\n",
       "  <th>married</th>         <td>   -1.3060</td> <td> 6.86e+05</td> <td>-1.91e-06</td> <td> 1.000</td> <td>-1.34e+06</td> <td> 1.34e+06</td>\n",
       "</tr>\n",
       "<tr>\n",
       "  <th>single</th>          <td>   -0.9793</td> <td> 6.85e+05</td> <td>-1.43e-06</td> <td> 1.000</td> <td>-1.34e+06</td> <td> 1.34e+06</td>\n",
       "</tr>\n",
       "<tr>\n",
       "  <th>joadmin.</th>        <td>   -0.1228</td> <td>      nan</td> <td>      nan</td> <td>   nan</td> <td>      nan</td> <td>      nan</td>\n",
       "</tr>\n",
       "<tr>\n",
       "  <th>joblue.collar</th>   <td>   -0.5826</td> <td>      nan</td> <td>      nan</td> <td>   nan</td> <td>      nan</td> <td>      nan</td>\n",
       "</tr>\n",
       "<tr>\n",
       "  <th>joentrepreneur</th>  <td>   -0.5422</td> <td>      nan</td> <td>      nan</td> <td>   nan</td> <td>      nan</td> <td>      nan</td>\n",
       "</tr>\n",
       "<tr>\n",
       "  <th>johousemaid</th>     <td>   -0.6059</td> <td>      nan</td> <td>      nan</td> <td>   nan</td> <td>      nan</td> <td>      nan</td>\n",
       "</tr>\n",
       "<tr>\n",
       "  <th>jomanagement</th>    <td>   -0.1656</td> <td>      nan</td> <td>      nan</td> <td>   nan</td> <td>      nan</td> <td>      nan</td>\n",
       "</tr>\n",
       "<tr>\n",
       "  <th>joretired</th>       <td>    0.1922</td> <td>      nan</td> <td>      nan</td> <td>   nan</td> <td>      nan</td> <td>      nan</td>\n",
       "</tr>\n",
       "<tr>\n",
       "  <th>joself.employed</th> <td>   -0.3886</td> <td>      nan</td> <td>      nan</td> <td>   nan</td> <td>      nan</td> <td>      nan</td>\n",
       "</tr>\n",
       "<tr>\n",
       "  <th>joservices</th>      <td>   -0.4185</td> <td>      nan</td> <td>      nan</td> <td>   nan</td> <td>      nan</td> <td>      nan</td>\n",
       "</tr>\n",
       "<tr>\n",
       "  <th>jostudent</th>       <td>    0.4458</td> <td>      nan</td> <td>      nan</td> <td>   nan</td> <td>      nan</td> <td>      nan</td>\n",
       "</tr>\n",
       "<tr>\n",
       "  <th>jotechnician</th>    <td>   -0.3406</td> <td>      nan</td> <td>      nan</td> <td>   nan</td> <td>      nan</td> <td>      nan</td>\n",
       "</tr>\n",
       "<tr>\n",
       "  <th>jounemployed</th>    <td>   -0.3819</td> <td>      nan</td> <td>      nan</td> <td>   nan</td> <td>      nan</td> <td>      nan</td>\n",
       "</tr>\n",
       "<tr>\n",
       "  <th>jounknown</th>       <td>   -0.4848</td> <td>      nan</td> <td>      nan</td> <td>   nan</td> <td>      nan</td> <td>      nan</td>\n",
       "</tr>\n",
       "</table>"
      ],
      "text/plain": [
       "<class 'statsmodels.iolib.summary.Summary'>\n",
       "\"\"\"\n",
       "                           Logit Regression Results                           \n",
       "==============================================================================\n",
       "Dep. Variable:                      y   No. Observations:                45211\n",
       "Model:                          Logit   Df Residuals:                    45183\n",
       "Method:                           MLE   Df Model:                           27\n",
       "Date:                Wed, 22 Mar 2023   Pseudo R-squ.:                  0.3290\n",
       "Time:                        00:01:29   Log-Likelihood:                -10947.\n",
       "converged:                       True   LL-Null:                       -16315.\n",
       "Covariance Type:            nonrobust   LLR p-value:                     0.000\n",
       "===================================================================================\n",
       "                      coef    std err          z      P>|z|      [0.025      0.975]\n",
       "-----------------------------------------------------------------------------------\n",
       "age                -0.0909      0.115     -0.792      0.429      -0.316       0.134\n",
       "default            -0.1723      0.163     -1.056      0.291      -0.492       0.147\n",
       "balance             0.6957      0.079      8.759      0.000       0.540       0.851\n",
       "housing            -0.7683      0.039    -19.480      0.000      -0.846      -0.691\n",
       "loan               -0.5069      0.057     -8.853      0.000      -0.619      -0.395\n",
       "duration            4.3404      0.061     71.003      0.000       4.221       4.460\n",
       "campaign           -0.7119      0.065    -10.938      0.000      -0.839      -0.584\n",
       "pdays               0.0401      0.271      0.148      0.882      -0.491       0.571\n",
       "previous            2.6421      1.756      1.505      0.132      -0.799       6.083\n",
       "poutfailure        -1.4366   1.21e+06  -1.19e-06      1.000   -2.37e+06    2.37e+06\n",
       "poutother          -1.2121   1.23e+06  -9.86e-07      1.000   -2.41e+06    2.41e+06\n",
       "poutsuccess         0.9657   1.22e+06    7.9e-07      1.000    -2.4e+06     2.4e+06\n",
       "poutunknown        -1.7127   1.22e+06  -1.41e-06      1.000   -2.38e+06    2.38e+06\n",
       "con_cellular       -0.7678   9.74e+05  -7.88e-07      1.000   -1.91e+06    1.91e+06\n",
       "con_telephone      -0.7961   9.45e+05  -8.42e-07      1.000   -1.85e+06    1.85e+06\n",
       "con_unknown        -1.8318    9.6e+05  -1.91e-06      1.000   -1.88e+06    1.88e+06\n",
       "divorced           -1.1103   6.86e+05  -1.62e-06      1.000   -1.34e+06    1.34e+06\n",
       "married            -1.3060   6.86e+05  -1.91e-06      1.000   -1.34e+06    1.34e+06\n",
       "single             -0.9793   6.85e+05  -1.43e-06      1.000   -1.34e+06    1.34e+06\n",
       "joadmin.           -0.1228        nan        nan        nan         nan         nan\n",
       "joblue.collar      -0.5826        nan        nan        nan         nan         nan\n",
       "joentrepreneur     -0.5422        nan        nan        nan         nan         nan\n",
       "johousemaid        -0.6059        nan        nan        nan         nan         nan\n",
       "jomanagement       -0.1656        nan        nan        nan         nan         nan\n",
       "joretired           0.1922        nan        nan        nan         nan         nan\n",
       "joself.employed    -0.3886        nan        nan        nan         nan         nan\n",
       "joservices         -0.4185        nan        nan        nan         nan         nan\n",
       "jostudent           0.4458        nan        nan        nan         nan         nan\n",
       "jotechnician       -0.3406        nan        nan        nan         nan         nan\n",
       "jounemployed       -0.3819        nan        nan        nan         nan         nan\n",
       "jounknown          -0.4848        nan        nan        nan         nan         nan\n",
       "===================================================================================\n",
       "\"\"\""
      ]
     },
     "execution_count": 28,
     "metadata": {},
     "output_type": "execute_result"
    }
   ],
   "source": [
    "logit_model.summary()  # P-value > 0.05 "
   ]
  },
  {
   "cell_type": "code",
   "execution_count": 29,
   "id": "f6466428",
   "metadata": {},
   "outputs": [
    {
     "data": {
      "text/html": [
       "<table class=\"simpletable\">\n",
       "<tr>\n",
       "        <td>Model:</td>              <td>Logit</td>      <td>Pseudo R-squared:</td>    <td>0.329</td>  \n",
       "</tr>\n",
       "<tr>\n",
       "  <td>Dependent Variable:</td>         <td>y</td>              <td>AIC:</td>        <td>21950.9530</td>\n",
       "</tr>\n",
       "<tr>\n",
       "         <td>Date:</td>        <td>2023-03-22 00:01</td>       <td>BIC:</td>        <td>22195.0877</td>\n",
       "</tr>\n",
       "<tr>\n",
       "   <td>No. Observations:</td>        <td>45211</td>       <td>Log-Likelihood:</td>    <td>-10947.</td> \n",
       "</tr>\n",
       "<tr>\n",
       "       <td>Df Model:</td>             <td>27</td>            <td>LL-Null:</td>        <td>-16315.</td> \n",
       "</tr>\n",
       "<tr>\n",
       "     <td>Df Residuals:</td>          <td>45183</td>        <td>LLR p-value:</td>      <td>0.0000</td>  \n",
       "</tr>\n",
       "<tr>\n",
       "      <td>Converged:</td>           <td>1.0000</td>           <td>Scale:</td>         <td>1.0000</td>  \n",
       "</tr>\n",
       "<tr>\n",
       "    <td>No. Iterations:</td>        <td>10.0000</td>             <td></td>               <td></td>     \n",
       "</tr>\n",
       "</table>\n",
       "<table class=\"simpletable\">\n",
       "<tr>\n",
       "         <td></td>          <th>Coef.</th>    <th>Std.Err.</th>       <th>z</th>     <th>P>|z|</th>    <th>[0.025</th>        <th>0.975]</th>   \n",
       "</tr>\n",
       "<tr>\n",
       "  <th>age</th>             <td>-0.0909</td>    <td>0.1149</td>     <td>-0.7916</td> <td>0.4286</td>    <td>-0.3160</td>       <td>0.1342</td>   \n",
       "</tr>\n",
       "<tr>\n",
       "  <th>default</th>         <td>-0.1723</td>    <td>0.1631</td>     <td>-1.0560</td> <td>0.2910</td>    <td>-0.4920</td>       <td>0.1475</td>   \n",
       "</tr>\n",
       "<tr>\n",
       "  <th>balance</th>         <td>0.6957</td>     <td>0.0794</td>     <td>8.7585</td>  <td>0.0000</td>    <td>0.5400</td>        <td>0.8513</td>   \n",
       "</tr>\n",
       "<tr>\n",
       "  <th>housing</th>         <td>-0.7683</td>    <td>0.0394</td>    <td>-19.4797</td> <td>0.0000</td>    <td>-0.8456</td>       <td>-0.6910</td>  \n",
       "</tr>\n",
       "<tr>\n",
       "  <th>loan</th>            <td>-0.5069</td>    <td>0.0573</td>     <td>-8.8534</td> <td>0.0000</td>    <td>-0.6191</td>       <td>-0.3947</td>  \n",
       "</tr>\n",
       "<tr>\n",
       "  <th>duration</th>        <td>4.3404</td>     <td>0.0611</td>     <td>71.0030</td> <td>0.0000</td>    <td>4.2206</td>        <td>4.4602</td>   \n",
       "</tr>\n",
       "<tr>\n",
       "  <th>campaign</th>        <td>-0.7119</td>    <td>0.0651</td>    <td>-10.9378</td> <td>0.0000</td>    <td>-0.8395</td>       <td>-0.5844</td>  \n",
       "</tr>\n",
       "<tr>\n",
       "  <th>pdays</th>           <td>0.0401</td>     <td>0.2708</td>     <td>0.1482</td>  <td>0.8822</td>    <td>-0.4906</td>       <td>0.5709</td>   \n",
       "</tr>\n",
       "<tr>\n",
       "  <th>previous</th>        <td>2.6421</td>     <td>1.7558</td>     <td>1.5047</td>  <td>0.1324</td>    <td>-0.7993</td>       <td>6.0834</td>   \n",
       "</tr>\n",
       "<tr>\n",
       "  <th>poutfailure</th>     <td>-1.4366</td> <td>1211522.8610</td>  <td>-0.0000</td> <td>1.0000</td> <td>-2374542.6105</td> <td>2374539.7374</td>\n",
       "</tr>\n",
       "<tr>\n",
       "  <th>poutother</th>       <td>-1.2121</td> <td>1229376.6522</td>  <td>-0.0000</td> <td>1.0000</td> <td>-2409535.1739</td> <td>2409532.7497</td>\n",
       "</tr>\n",
       "<tr>\n",
       "  <th>poutsuccess</th>     <td>0.9657</td>  <td>1222849.9949</td>  <td>0.0000</td>  <td>1.0000</td> <td>-2396740.9827</td> <td>2396742.9141</td>\n",
       "</tr>\n",
       "<tr>\n",
       "  <th>poutunknown</th>     <td>-1.7127</td> <td>1216011.7863</td>  <td>-0.0000</td> <td>1.0000</td> <td>-2383341.0186</td> <td>2383337.5933</td>\n",
       "</tr>\n",
       "<tr>\n",
       "  <th>con_cellular</th>    <td>-0.7678</td>  <td>974044.8719</td>  <td>-0.0000</td> <td>1.0000</td> <td>-1909093.6361</td> <td>1909092.1006</td>\n",
       "</tr>\n",
       "<tr>\n",
       "  <th>con_telephone</th>   <td>-0.7961</td>  <td>945203.3397</td>  <td>-0.0000</td> <td>1.0000</td> <td>-1852565.2999</td> <td>1852563.7078</td>\n",
       "</tr>\n",
       "<tr>\n",
       "  <th>con_unknown</th>     <td>-1.8318</td>  <td>960082.9856</td>  <td>-0.0000</td> <td>1.0000</td> <td>-1881729.9059</td> <td>1881726.2422</td>\n",
       "</tr>\n",
       "<tr>\n",
       "  <th>divorced</th>        <td>-1.1103</td>  <td>685852.9975</td>  <td>-0.0000</td> <td>1.0000</td> <td>-1344248.2840</td> <td>1344246.0634</td>\n",
       "</tr>\n",
       "<tr>\n",
       "  <th>married</th>         <td>-1.3060</td>  <td>685516.7126</td>  <td>-0.0000</td> <td>1.0000</td> <td>-1343589.3734</td> <td>1343586.7615</td>\n",
       "</tr>\n",
       "<tr>\n",
       "  <th>single</th>          <td>-0.9793</td>  <td>685180.2626</td>  <td>-0.0000</td> <td>1.0000</td> <td>-1342929.6170</td> <td>1342927.6583</td>\n",
       "</tr>\n",
       "<tr>\n",
       "  <th>joadmin.</th>        <td>-0.1228</td>      <td>nan</td>        <td>nan</td>     <td>nan</td>       <td>nan</td>           <td>nan</td>    \n",
       "</tr>\n",
       "<tr>\n",
       "  <th>joblue.collar</th>   <td>-0.5826</td>      <td>nan</td>        <td>nan</td>     <td>nan</td>       <td>nan</td>           <td>nan</td>    \n",
       "</tr>\n",
       "<tr>\n",
       "  <th>joentrepreneur</th>  <td>-0.5422</td>      <td>nan</td>        <td>nan</td>     <td>nan</td>       <td>nan</td>           <td>nan</td>    \n",
       "</tr>\n",
       "<tr>\n",
       "  <th>johousemaid</th>     <td>-0.6059</td>      <td>nan</td>        <td>nan</td>     <td>nan</td>       <td>nan</td>           <td>nan</td>    \n",
       "</tr>\n",
       "<tr>\n",
       "  <th>jomanagement</th>    <td>-0.1656</td>      <td>nan</td>        <td>nan</td>     <td>nan</td>       <td>nan</td>           <td>nan</td>    \n",
       "</tr>\n",
       "<tr>\n",
       "  <th>joretired</th>       <td>0.1922</td>       <td>nan</td>        <td>nan</td>     <td>nan</td>       <td>nan</td>           <td>nan</td>    \n",
       "</tr>\n",
       "<tr>\n",
       "  <th>joself.employed</th> <td>-0.3886</td>      <td>nan</td>        <td>nan</td>     <td>nan</td>       <td>nan</td>           <td>nan</td>    \n",
       "</tr>\n",
       "<tr>\n",
       "  <th>joservices</th>      <td>-0.4185</td>      <td>nan</td>        <td>nan</td>     <td>nan</td>       <td>nan</td>           <td>nan</td>    \n",
       "</tr>\n",
       "<tr>\n",
       "  <th>jostudent</th>       <td>0.4458</td>       <td>nan</td>        <td>nan</td>     <td>nan</td>       <td>nan</td>           <td>nan</td>    \n",
       "</tr>\n",
       "<tr>\n",
       "  <th>jotechnician</th>    <td>-0.3406</td>      <td>nan</td>        <td>nan</td>     <td>nan</td>       <td>nan</td>           <td>nan</td>    \n",
       "</tr>\n",
       "<tr>\n",
       "  <th>jounemployed</th>    <td>-0.3819</td>      <td>nan</td>        <td>nan</td>     <td>nan</td>       <td>nan</td>           <td>nan</td>    \n",
       "</tr>\n",
       "<tr>\n",
       "  <th>jounknown</th>       <td>-0.4848</td>      <td>nan</td>        <td>nan</td>     <td>nan</td>       <td>nan</td>           <td>nan</td>    \n",
       "</tr>\n",
       "</table>"
      ],
      "text/plain": [
       "<class 'statsmodels.iolib.summary2.Summary'>\n",
       "\"\"\"\n",
       "                                Results: Logit\n",
       "===============================================================================\n",
       "Model:                    Logit                Pseudo R-squared:     0.329     \n",
       "Dependent Variable:       y                    AIC:                  21950.9530\n",
       "Date:                     2023-03-22 00:01     BIC:                  22195.0877\n",
       "No. Observations:         45211                Log-Likelihood:       -10947.   \n",
       "Df Model:                 27                   LL-Null:              -16315.   \n",
       "Df Residuals:             45183                LLR p-value:          0.0000    \n",
       "Converged:                1.0000               Scale:                1.0000    \n",
       "No. Iterations:           10.0000                                              \n",
       "-------------------------------------------------------------------------------\n",
       "                 Coef.    Std.Err.      z     P>|z|      [0.025       0.975]   \n",
       "-------------------------------------------------------------------------------\n",
       "age             -0.0909       0.1149  -0.7916 0.4286       -0.3160       0.1342\n",
       "default         -0.1723       0.1631  -1.0560 0.2910       -0.4920       0.1475\n",
       "balance          0.6957       0.0794   8.7585 0.0000        0.5400       0.8513\n",
       "housing         -0.7683       0.0394 -19.4797 0.0000       -0.8456      -0.6910\n",
       "loan            -0.5069       0.0573  -8.8534 0.0000       -0.6191      -0.3947\n",
       "duration         4.3404       0.0611  71.0030 0.0000        4.2206       4.4602\n",
       "campaign        -0.7119       0.0651 -10.9378 0.0000       -0.8395      -0.5844\n",
       "pdays            0.0401       0.2708   0.1482 0.8822       -0.4906       0.5709\n",
       "previous         2.6421       1.7558   1.5047 0.1324       -0.7993       6.0834\n",
       "poutfailure     -1.4366 1211522.8610  -0.0000 1.0000 -2374542.6105 2374539.7374\n",
       "poutother       -1.2121 1229376.6522  -0.0000 1.0000 -2409535.1739 2409532.7497\n",
       "poutsuccess      0.9657 1222849.9949   0.0000 1.0000 -2396740.9827 2396742.9141\n",
       "poutunknown     -1.7127 1216011.7863  -0.0000 1.0000 -2383341.0186 2383337.5933\n",
       "con_cellular    -0.7678  974044.8719  -0.0000 1.0000 -1909093.6361 1909092.1006\n",
       "con_telephone   -0.7961  945203.3397  -0.0000 1.0000 -1852565.2999 1852563.7078\n",
       "con_unknown     -1.8318  960082.9856  -0.0000 1.0000 -1881729.9059 1881726.2422\n",
       "divorced        -1.1103  685852.9975  -0.0000 1.0000 -1344248.2840 1344246.0634\n",
       "married         -1.3060  685516.7126  -0.0000 1.0000 -1343589.3734 1343586.7615\n",
       "single          -0.9793  685180.2626  -0.0000 1.0000 -1342929.6170 1342927.6583\n",
       "joadmin.        -0.1228          nan      nan    nan           nan          nan\n",
       "joblue.collar   -0.5826          nan      nan    nan           nan          nan\n",
       "joentrepreneur  -0.5422          nan      nan    nan           nan          nan\n",
       "johousemaid     -0.6059          nan      nan    nan           nan          nan\n",
       "jomanagement    -0.1656          nan      nan    nan           nan          nan\n",
       "joretired        0.1922          nan      nan    nan           nan          nan\n",
       "joself.employed -0.3886          nan      nan    nan           nan          nan\n",
       "joservices      -0.4185          nan      nan    nan           nan          nan\n",
       "jostudent        0.4458          nan      nan    nan           nan          nan\n",
       "jotechnician    -0.3406          nan      nan    nan           nan          nan\n",
       "jounemployed    -0.3819          nan      nan    nan           nan          nan\n",
       "jounknown       -0.4848          nan      nan    nan           nan          nan\n",
       "===============================================================================\n",
       "\n",
       "\"\"\""
      ]
     },
     "execution_count": 29,
     "metadata": {},
     "output_type": "execute_result"
    }
   ],
   "source": [
    "logit_model.summary2()"
   ]
  },
  {
   "cell_type": "code",
   "execution_count": 30,
   "id": "b7791bc3",
   "metadata": {},
   "outputs": [],
   "source": [
    "# AIC: 21950.9530 is too high, need to tune the hyperparameter and observe the improvement."
   ]
  },
  {
   "cell_type": "code",
   "execution_count": 31,
   "id": "f74a54ad",
   "metadata": {},
   "outputs": [
    {
     "data": {
      "text/plain": [
       "0        0.027509\n",
       "1        0.012092\n",
       "2        0.002655\n",
       "3        0.005564\n",
       "4        0.030880\n",
       "           ...   \n",
       "45206    0.556981\n",
       "45207    0.479916\n",
       "45208    0.970602\n",
       "45209    0.244968\n",
       "45210    0.305895\n",
       "Length: 45211, dtype: float64"
      ]
     },
     "execution_count": 31,
     "metadata": {},
     "output_type": "execute_result"
    }
   ],
   "source": [
    "# Prediction\n",
    "pred = logit_model.predict(scaled_data)\n",
    "pred  # Probabilities"
   ]
  },
  {
   "cell_type": "code",
   "execution_count": 32,
   "id": "69d88178",
   "metadata": {},
   "outputs": [
    {
     "data": {
      "text/plain": [
       "0.09643588427589411"
      ]
     },
     "execution_count": 32,
     "metadata": {},
     "output_type": "execute_result"
    }
   ],
   "source": [
    "# ROC Curve to identify the appropriate cutoff value\n",
    "fpr, tpr, thresholds = roc_curve(Y.y, pred)\n",
    "optimal_idx = np.argmax(tpr - fpr)\n",
    "optimal_threshold = thresholds[optimal_idx]\n",
    "optimal_threshold"
   ]
  },
  {
   "cell_type": "code",
   "execution_count": 33,
   "id": "60a776c0",
   "metadata": {},
   "outputs": [
    {
     "name": "stdout",
     "output_type": "stream",
     "text": [
      "Area under the ROC curve : 0.892354\n"
     ]
    }
   ],
   "source": [
    "auc = metrics.auc(fpr, tpr)\n",
    "print(\"Area under the ROC curve : %f\" % auc)"
   ]
  },
  {
   "cell_type": "code",
   "execution_count": 34,
   "id": "e5723d6e",
   "metadata": {},
   "outputs": [],
   "source": [
    "# Filling all the cells with zeroes\n",
    "scaled_data[\"pred\"] = np.zeros(45211)"
   ]
  },
  {
   "cell_type": "code",
   "execution_count": 35,
   "id": "b1ff8a4e",
   "metadata": {},
   "outputs": [],
   "source": [
    "# taking threshold value and above the prob value will be treated as correct value \n",
    "scaled_data.loc[pred > optimal_threshold, \"pred\"] = 1"
   ]
  },
  {
   "cell_type": "code",
   "execution_count": 36,
   "id": "8a06e288",
   "metadata": {},
   "outputs": [
    {
     "data": {
      "text/plain": [
       "array([[31439,   796],\n",
       "       [ 8483,  4493]], dtype=int64)"
      ]
     },
     "execution_count": 36,
     "metadata": {},
     "output_type": "execute_result"
    }
   ],
   "source": [
    "# Confusion Matrix\n",
    "confusion_matrix(scaled_data.pred, Y.y)"
   ]
  },
  {
   "cell_type": "code",
   "execution_count": 37,
   "id": "1213c7be",
   "metadata": {},
   "outputs": [
    {
     "name": "stdout",
     "output_type": "stream",
     "text": [
      "Test accuracy =  0.7947623365995001\n"
     ]
    }
   ],
   "source": [
    "# Accuracy score of the model\n",
    "print('Test accuracy = ', accuracy_score(scaled_data.pred, Y.y))"
   ]
  },
  {
   "cell_type": "code",
   "execution_count": 38,
   "id": "1e191436",
   "metadata": {},
   "outputs": [
    {
     "name": "stdout",
     "output_type": "stream",
     "text": [
      "              precision    recall  f1-score   support\n",
      "\n",
      "         0.0       0.79      0.98      0.87     32235\n",
      "         1.0       0.85      0.35      0.49     12976\n",
      "\n",
      "    accuracy                           0.79     45211\n",
      "   macro avg       0.82      0.66      0.68     45211\n",
      "weighted avg       0.81      0.79      0.76     45211\n",
      "\n"
     ]
    }
   ],
   "source": [
    "# Classification report\n",
    "classification = classification_report(scaled_data[\"pred\"], Y)\n",
    "print(classification)"
   ]
  },
  {
   "cell_type": "code",
   "execution_count": 39,
   "id": "1cd3c020",
   "metadata": {},
   "outputs": [
    {
     "data": {
      "image/png": "[encoded data removed]",
      "text/plain": [
       "<Figure size 640x480 with 1 Axes>"
      ]
     },
     "metadata": {},
     "output_type": "display_data"
    }
   ],
   "source": [
    "### PLOT FOR ROC\n",
    "plt.plot(fpr, tpr, label = \"AUC=\"+str(auc))\n",
    "plt.ylabel('True Positive Rate')\n",
    "plt.xlabel('False Positive Rate')\n",
    "plt.legend(loc = 4)\n",
    "plt.show()"
   ]
  },
  {
   "cell_type": "code",
   "execution_count": 40,
   "id": "0effc28a",
   "metadata": {},
   "outputs": [],
   "source": [
    "# Higher the AUC value better the model."
   ]
  },
  {
   "cell_type": "code",
   "execution_count": 41,
   "id": "38b11368",
   "metadata": {},
   "outputs": [],
   "source": [
    "# Model evaluation - Data Split\n",
    "x_train, x_test, y_train, y_test = train_test_split (scaled_data.iloc[:, :31], Y, \n",
    "                                                     test_size = 0.2, \n",
    "                                                     random_state = 0,\n",
    "                                                     stratify = Y)"
   ]
  },
  {
   "cell_type": "code",
   "execution_count": 42,
   "id": "8c905590",
   "metadata": {},
   "outputs": [
    {
     "data": {
      "text/plain": [
       "(36168, 31)"
      ]
     },
     "execution_count": 42,
     "metadata": {},
     "output_type": "execute_result"
    }
   ],
   "source": [
    "x_train.shape"
   ]
  },
  {
   "cell_type": "code",
   "execution_count": 43,
   "id": "9e72a879",
   "metadata": {},
   "outputs": [
    {
     "data": {
      "text/plain": [
       "(9043, 31)"
      ]
     },
     "execution_count": 43,
     "metadata": {},
     "output_type": "execute_result"
    }
   ],
   "source": [
    "x_test.shape"
   ]
  },
  {
   "cell_type": "code",
   "execution_count": 44,
   "id": "c043a457",
   "metadata": {},
   "outputs": [
    {
     "name": "stdout",
     "output_type": "stream",
     "text": [
      "Optimization terminated successfully.\n",
      "         Current function value: 0.241958\n",
      "         Iterations 8\n"
     ]
    }
   ],
   "source": [
    "# Fitting Logistic Regression to the training set  \n",
    "logisticmodel = sm.Logit(y_train, x_train).fit()"
   ]
  },
  {
   "cell_type": "code",
   "execution_count": 45,
   "id": "59796b36",
   "metadata": {},
   "outputs": [
    {
     "data": {
      "text/plain": [
       "32213    0.080972\n",
       "36907    0.871000\n",
       "1447     0.006433\n",
       "10973    0.012009\n",
       "26982    0.008051\n",
       "           ...   \n",
       "41949    0.070392\n",
       "22019    0.021128\n",
       "643      0.030087\n",
       "20094    0.043915\n",
       "18       0.022917\n",
       "Length: 36168, dtype: float64"
      ]
     },
     "execution_count": 45,
     "metadata": {},
     "output_type": "execute_result"
    }
   ],
   "source": [
    "# Evaluate on train data\n",
    "y_pred_train = logisticmodel.predict(x_train)  \n",
    "y_pred_train"
   ]
  },
  {
   "cell_type": "code",
   "execution_count": 46,
   "id": "a18ab2e4",
   "metadata": {},
   "outputs": [],
   "source": [
    "# Metrics\n",
    "# Filling all the cells with zeroes\n",
    "y_train[\"pred\"] = np.zeros(36168)"
   ]
  },
  {
   "cell_type": "code",
   "execution_count": 47,
   "id": "d73f0e5c",
   "metadata": {},
   "outputs": [],
   "source": [
    "# taking threshold value and above the prob value will be treated as correct value \n",
    "y_train.loc[pred > optimal_threshold, \"pred\"] = 1"
   ]
  },
  {
   "cell_type": "code",
   "execution_count": 48,
   "id": "2c3d21d4",
   "metadata": {},
   "outputs": [
    {
     "name": "stdout",
     "output_type": "stream",
     "text": [
      "Area under the ROC curve : 0.893099\n"
     ]
    }
   ],
   "source": [
    "auc = metrics.roc_auc_score(y_train[\"y\"], y_pred_train)\n",
    "print(\"Area under the ROC curve : %f\" % auc)"
   ]
  },
  {
   "cell_type": "code",
   "execution_count": 49,
   "id": "b3c2e9f2",
   "metadata": {},
   "outputs": [
    {
     "name": "stdout",
     "output_type": "stream",
     "text": [
      "              precision    recall  f1-score   support\n",
      "\n",
      "         0.0       0.79      0.98      0.87     25820\n",
      "         1.0       0.85      0.35      0.49     10348\n",
      "\n",
      "    accuracy                           0.80     36168\n",
      "   macro avg       0.82      0.66      0.68     36168\n",
      "weighted avg       0.81      0.80      0.76     36168\n",
      "\n"
     ]
    }
   ],
   "source": [
    "classification_train = classification_report(y_train[\"pred\"], y_train[\"y\"])\n",
    "print(classification_train)"
   ]
  },
  {
   "cell_type": "code",
   "execution_count": 50,
   "id": "e337f3db",
   "metadata": {},
   "outputs": [
    {
     "data": {
      "text/plain": [
       "array([[25182,   638],\n",
       "       [ 6755,  3593]], dtype=int64)"
      ]
     },
     "execution_count": 50,
     "metadata": {},
     "output_type": "execute_result"
    }
   ],
   "source": [
    "# confusion matrix \n",
    "confusion_matrix(y_train[\"pred\"], y_train[\"y\"])"
   ]
  },
  {
   "cell_type": "code",
   "execution_count": 51,
   "id": "4b680e68",
   "metadata": {},
   "outputs": [
    {
     "name": "stdout",
     "output_type": "stream",
     "text": [
      "Train accuracy =  0.7955927892059279\n"
     ]
    }
   ],
   "source": [
    "# Accuracy score of the model\n",
    "print('Train accuracy = ', accuracy_score(y_train[\"pred\"], y_train[\"y\"]))"
   ]
  },
  {
   "cell_type": "code",
   "execution_count": 52,
   "id": "4b914f81",
   "metadata": {},
   "outputs": [
    {
     "data": {
      "text/plain": [
       "32936    0.028426\n",
       "1643     0.022616\n",
       "8565     0.004768\n",
       "7144     0.006677\n",
       "32575    0.024447\n",
       "           ...   \n",
       "35507    0.292607\n",
       "2186     0.003581\n",
       "41085    0.056365\n",
       "4735     0.002972\n",
       "34290    0.065831\n",
       "Length: 9043, dtype: float64"
      ]
     },
     "execution_count": 52,
     "metadata": {},
     "output_type": "execute_result"
    }
   ],
   "source": [
    "# Validate on Test data\n",
    "y_pred_test = logisticmodel.predict(x_test)  \n",
    "y_pred_test"
   ]
  },
  {
   "cell_type": "code",
   "execution_count": 53,
   "id": "6f26d668",
   "metadata": {},
   "outputs": [],
   "source": [
    "# Filling all the cells with zeroes\n",
    "y_test[\"y_pred_test\"] = np.zeros(9043)"
   ]
  },
  {
   "cell_type": "code",
   "execution_count": 54,
   "id": "e4780d73",
   "metadata": {},
   "outputs": [
    {
     "name": "stdout",
     "output_type": "stream",
     "text": [
      "<class 'pandas.core.frame.DataFrame'>\n",
      "Int64Index: 9043 entries, 32936 to 34290\n",
      "Data columns (total 2 columns):\n",
      " #   Column       Non-Null Count  Dtype  \n",
      "---  ------       --------------  -----  \n",
      " 0   y            9043 non-null   int32  \n",
      " 1   y_pred_test  9043 non-null   float64\n",
      "dtypes: float64(1), int32(1)\n",
      "memory usage: 176.6 KB\n"
     ]
    }
   ],
   "source": [
    "y_test.info()"
   ]
  },
  {
   "cell_type": "code",
   "execution_count": 55,
   "id": "d5551890",
   "metadata": {},
   "outputs": [],
   "source": [
    "# Capturing the prediction binary values\n",
    "y_test.loc[y_pred_test > optimal_threshold, \"y_pred_test\"] = 1"
   ]
  },
  {
   "cell_type": "code",
   "execution_count": 56,
   "id": "5a245837",
   "metadata": {},
   "outputs": [
    {
     "name": "stdout",
     "output_type": "stream",
     "text": [
      "              precision    recall  f1-score   support\n",
      "\n",
      "         0.0       0.78      0.98      0.87      6419\n",
      "         1.0       0.85      0.34      0.49      2624\n",
      "\n",
      "    accuracy                           0.79      9043\n",
      "   macro avg       0.82      0.66      0.68      9043\n",
      "weighted avg       0.80      0.79      0.76      9043\n",
      "\n"
     ]
    }
   ],
   "source": [
    "# classification report\n",
    "classification1 = classification_report(y_test[\"y_pred_test\"], y_test[\"y\"])\n",
    "print(classification1)"
   ]
  },
  {
   "cell_type": "code",
   "execution_count": 57,
   "id": "29183ab1",
   "metadata": {},
   "outputs": [
    {
     "data": {
      "text/plain": [
       "array([[6261,  158],\n",
       "       [1724,  900]], dtype=int64)"
      ]
     },
     "execution_count": 57,
     "metadata": {},
     "output_type": "execute_result"
    }
   ],
   "source": [
    "# confusion matrix \n",
    "confusion_matrix(y_test[\"y_pred_test\"], y_test[\"y\"])"
   ]
  },
  {
   "cell_type": "code",
   "execution_count": 58,
   "id": "13cb7dbd",
   "metadata": {},
   "outputs": [
    {
     "name": "stdout",
     "output_type": "stream",
     "text": [
      "Test accuracy =  0.7918832245936083\n"
     ]
    }
   ],
   "source": [
    "# Accuracy score of the model\n",
    "print('Test accuracy = ', accuracy_score(y_test[\"y_pred_test\"], y_test[\"y\"]))"
   ]
  },
  {
   "cell_type": "code",
   "execution_count": null,
   "id": "07390f2b",
   "metadata": {},
   "outputs": [],
   "source": []
  },
  {
   "cell_type": "code",
   "execution_count": null,
   "id": "66df3607",
   "metadata": {},
   "outputs": [],
   "source": []
  },
  {
   "cell_type": "code",
   "execution_count": null,
   "id": "a27f6fbd",
   "metadata": {},
   "outputs": [],
   "source": []
  }
 ],
 "metadata": {
  "kernelspec": {
   "display_name": "Python 3 (ipykernel)",
   "language": "python",
   "name": "python3"
  },
  "language_info": {
   "codemirror_mode": {
    "name": "ipython",
    "version": 3
   },
   "file_extension": ".py",
   "mimetype": "text/x-python",
   "name": "python",
   "nbconvert_exporter": "python",
   "pygments_lexer": "ipython3",
   "version": "3.8.10"
  }
 },
 "nbformat": 4,
 "nbformat_minor": 5
}
