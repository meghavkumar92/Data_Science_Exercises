{
 "cells": [
  {
   "cell_type": "markdown",
   "id": "fa06d871-52d5-4e62-998c-de6f8d616135",
   "metadata": {},
   "source": [
    "# Survival Analytics"
   ]
  },
  {
   "cell_type": "markdown",
   "id": "5f45e44c-eb0b-42ce-9024-81d594993776",
   "metadata": {},
   "source": [
    "#### Perform survival analysis on patients ecg data after operation. The survival time in hours after the operation is given and the event type is denoted by 1(if dead) and 0(if alive)."
   ]
  },
  {
   "cell_type": "code",
   "execution_count": 1,
   "id": "4019a0df-dee3-42ee-8b97-0e4885eceb74",
   "metadata": {},
   "outputs": [],
   "source": [
    "#import libraries\n",
    "import pandas as pd\n",
    "from lifelines import KaplanMeierFitter"
   ]
  },
  {
   "cell_type": "code",
   "execution_count": 2,
   "id": "7ebe03cd-d719-4f50-a990-c96c25ead2f9",
   "metadata": {},
   "outputs": [
    {
     "name": "stdout",
     "output_type": "stream",
     "text": [
      "<class 'pandas.core.frame.DataFrame'>\n",
      "RangeIndex: 133 entries, 0 to 132\n",
      "Data columns (total 12 columns):\n",
      " #   Column                Non-Null Count  Dtype  \n",
      "---  ------                --------------  -----  \n",
      " 0   survival_time_hr      133 non-null    float64\n",
      " 1   alive                 133 non-null    int64  \n",
      " 2   age                   133 non-null    int64  \n",
      " 3   pericardialeffusion   133 non-null    int64  \n",
      " 4   fractionalshortening  133 non-null    float64\n",
      " 5   epss                  117 non-null    float64\n",
      " 6   lvdd                  121 non-null    float64\n",
      " 7   wallmotion-score      128 non-null    float64\n",
      " 8   wallmotion-index      130 non-null    float64\n",
      " 9   multi_sensor          129 non-null    float64\n",
      " 10  name                  131 non-null    object \n",
      " 11  group                 133 non-null    int64  \n",
      "dtypes: float64(7), int64(4), object(1)\n",
      "memory usage: 12.6+ KB\n"
     ]
    }
   ],
   "source": [
    "#import dataset\n",
    "ecg_df = pd.read_excel(r\"D:\\360digi\\DS\\Sharath\\Survival_Analytics\\handson\\Datasets_Survival Analytics\\ECG_Surv.xlsx\")\n",
    "ecg_df.info()"
   ]
  },
  {
   "cell_type": "code",
   "execution_count": 3,
   "id": "529b317b-808f-4fe3-b135-dab166ad755a",
   "metadata": {},
   "outputs": [
    {
     "data": {
      "text/html": [
       "<div>\n",
       "<style scoped>\n",
       "    .dataframe tbody tr th:only-of-type {\n",
       "        vertical-align: middle;\n",
       "    }\n",
       "\n",
       "    .dataframe tbody tr th {\n",
       "        vertical-align: top;\n",
       "    }\n",
       "\n",
       "    .dataframe thead th {\n",
       "        text-align: right;\n",
       "    }\n",
       "</style>\n",
       "<table border=\"1\" class=\"dataframe\">\n",
       "  <thead>\n",
       "    <tr style=\"text-align: right;\">\n",
       "      <th></th>\n",
       "      <th>survival_time_hr</th>\n",
       "      <th>alive</th>\n",
       "      <th>age</th>\n",
       "      <th>pericardialeffusion</th>\n",
       "      <th>fractionalshortening</th>\n",
       "      <th>epss</th>\n",
       "      <th>lvdd</th>\n",
       "      <th>wallmotion-score</th>\n",
       "      <th>wallmotion-index</th>\n",
       "      <th>multi_sensor</th>\n",
       "      <th>name</th>\n",
       "      <th>group</th>\n",
       "    </tr>\n",
       "  </thead>\n",
       "  <tbody>\n",
       "    <tr>\n",
       "      <th>0</th>\n",
       "      <td>11.0</td>\n",
       "      <td>0</td>\n",
       "      <td>71</td>\n",
       "      <td>0</td>\n",
       "      <td>0.260</td>\n",
       "      <td>9.000</td>\n",
       "      <td>4.600</td>\n",
       "      <td>14.0</td>\n",
       "      <td>1.00</td>\n",
       "      <td>1.000</td>\n",
       "      <td>name</td>\n",
       "      <td>1</td>\n",
       "    </tr>\n",
       "    <tr>\n",
       "      <th>1</th>\n",
       "      <td>19.0</td>\n",
       "      <td>0</td>\n",
       "      <td>72</td>\n",
       "      <td>0</td>\n",
       "      <td>0.380</td>\n",
       "      <td>6.000</td>\n",
       "      <td>4.100</td>\n",
       "      <td>14.0</td>\n",
       "      <td>1.70</td>\n",
       "      <td>0.588</td>\n",
       "      <td>name</td>\n",
       "      <td>1</td>\n",
       "    </tr>\n",
       "    <tr>\n",
       "      <th>2</th>\n",
       "      <td>16.0</td>\n",
       "      <td>0</td>\n",
       "      <td>55</td>\n",
       "      <td>0</td>\n",
       "      <td>0.260</td>\n",
       "      <td>4.000</td>\n",
       "      <td>3.420</td>\n",
       "      <td>14.0</td>\n",
       "      <td>1.00</td>\n",
       "      <td>1.000</td>\n",
       "      <td>name</td>\n",
       "      <td>1</td>\n",
       "    </tr>\n",
       "    <tr>\n",
       "      <th>3</th>\n",
       "      <td>57.0</td>\n",
       "      <td>0</td>\n",
       "      <td>60</td>\n",
       "      <td>0</td>\n",
       "      <td>0.253</td>\n",
       "      <td>12.062</td>\n",
       "      <td>4.603</td>\n",
       "      <td>16.0</td>\n",
       "      <td>1.45</td>\n",
       "      <td>0.788</td>\n",
       "      <td>name</td>\n",
       "      <td>1</td>\n",
       "    </tr>\n",
       "    <tr>\n",
       "      <th>4</th>\n",
       "      <td>19.0</td>\n",
       "      <td>1</td>\n",
       "      <td>57</td>\n",
       "      <td>0</td>\n",
       "      <td>0.160</td>\n",
       "      <td>22.000</td>\n",
       "      <td>5.750</td>\n",
       "      <td>18.0</td>\n",
       "      <td>2.25</td>\n",
       "      <td>0.571</td>\n",
       "      <td>name</td>\n",
       "      <td>1</td>\n",
       "    </tr>\n",
       "  </tbody>\n",
       "</table>\n",
       "</div>"
      ],
      "text/plain": [
       "   survival_time_hr  alive  age  pericardialeffusion  fractionalshortening  \\\n",
       "0              11.0      0   71                    0                 0.260   \n",
       "1              19.0      0   72                    0                 0.380   \n",
       "2              16.0      0   55                    0                 0.260   \n",
       "3              57.0      0   60                    0                 0.253   \n",
       "4              19.0      1   57                    0                 0.160   \n",
       "\n",
       "     epss   lvdd  wallmotion-score  wallmotion-index  multi_sensor  name  \\\n",
       "0   9.000  4.600              14.0              1.00         1.000  name   \n",
       "1   6.000  4.100              14.0              1.70         0.588  name   \n",
       "2   4.000  3.420              14.0              1.00         1.000  name   \n",
       "3  12.062  4.603              16.0              1.45         0.788  name   \n",
       "4  22.000  5.750              18.0              2.25         0.571  name   \n",
       "\n",
       "   group  \n",
       "0      1  \n",
       "1      1  \n",
       "2      1  \n",
       "3      1  \n",
       "4      1  "
      ]
     },
     "execution_count": 3,
     "metadata": {},
     "output_type": "execute_result"
    }
   ],
   "source": [
    "ecg_df.head()"
   ]
  },
  {
   "cell_type": "code",
   "execution_count": 4,
   "id": "7a48048c-7c90-46a3-b0f6-7f45f71891ca",
   "metadata": {},
   "outputs": [
    {
     "data": {
      "text/plain": [
       "2    87\n",
       "1    24\n",
       "3    22\n",
       "Name: group, dtype: int64"
      ]
     },
     "execution_count": 4,
     "metadata": {},
     "output_type": "execute_result"
    }
   ],
   "source": [
    "ecg_df.group.value_counts()"
   ]
  },
  {
   "cell_type": "code",
   "execution_count": 5,
   "id": "39abc6c1-9566-4e4c-94fc-01bbd0b94a57",
   "metadata": {},
   "outputs": [
    {
     "data": {
      "text/html": [
       "<div>\n",
       "<style scoped>\n",
       "    .dataframe tbody tr th:only-of-type {\n",
       "        vertical-align: middle;\n",
       "    }\n",
       "\n",
       "    .dataframe tbody tr th {\n",
       "        vertical-align: top;\n",
       "    }\n",
       "\n",
       "    .dataframe thead th {\n",
       "        text-align: right;\n",
       "    }\n",
       "</style>\n",
       "<table border=\"1\" class=\"dataframe\">\n",
       "  <thead>\n",
       "    <tr style=\"text-align: right;\">\n",
       "      <th></th>\n",
       "      <th>survival_time_hr</th>\n",
       "      <th>alive</th>\n",
       "      <th>age</th>\n",
       "      <th>pericardialeffusion</th>\n",
       "      <th>fractionalshortening</th>\n",
       "      <th>epss</th>\n",
       "      <th>lvdd</th>\n",
       "      <th>wallmotion-score</th>\n",
       "      <th>wallmotion-index</th>\n",
       "      <th>multi_sensor</th>\n",
       "      <th>group</th>\n",
       "    </tr>\n",
       "  </thead>\n",
       "  <tbody>\n",
       "    <tr>\n",
       "      <th>count</th>\n",
       "      <td>133.000000</td>\n",
       "      <td>133.000000</td>\n",
       "      <td>133.000000</td>\n",
       "      <td>133.000000</td>\n",
       "      <td>133.000000</td>\n",
       "      <td>117.000000</td>\n",
       "      <td>121.000000</td>\n",
       "      <td>128.000000</td>\n",
       "      <td>130.00000</td>\n",
       "      <td>129.000000</td>\n",
       "      <td>133.000000</td>\n",
       "    </tr>\n",
       "    <tr>\n",
       "      <th>mean</th>\n",
       "      <td>21.795338</td>\n",
       "      <td>0.383459</td>\n",
       "      <td>62.413534</td>\n",
       "      <td>0.187970</td>\n",
       "      <td>0.228534</td>\n",
       "      <td>12.164769</td>\n",
       "      <td>4.763157</td>\n",
       "      <td>14.438125</td>\n",
       "      <td>1.37800</td>\n",
       "      <td>0.786202</td>\n",
       "      <td>1.984962</td>\n",
       "    </tr>\n",
       "    <tr>\n",
       "      <th>std</th>\n",
       "      <td>15.885313</td>\n",
       "      <td>0.488067</td>\n",
       "      <td>9.335601</td>\n",
       "      <td>0.392165</td>\n",
       "      <td>0.135864</td>\n",
       "      <td>7.370159</td>\n",
       "      <td>0.810013</td>\n",
       "      <td>5.018566</td>\n",
       "      <td>0.45185</td>\n",
       "      <td>0.225661</td>\n",
       "      <td>0.590133</td>\n",
       "    </tr>\n",
       "    <tr>\n",
       "      <th>min</th>\n",
       "      <td>0.030000</td>\n",
       "      <td>0.000000</td>\n",
       "      <td>23.000000</td>\n",
       "      <td>0.000000</td>\n",
       "      <td>0.010000</td>\n",
       "      <td>0.000000</td>\n",
       "      <td>2.320000</td>\n",
       "      <td>2.000000</td>\n",
       "      <td>1.00000</td>\n",
       "      <td>0.140000</td>\n",
       "      <td>1.000000</td>\n",
       "    </tr>\n",
       "    <tr>\n",
       "      <th>25%</th>\n",
       "      <td>6.000000</td>\n",
       "      <td>0.000000</td>\n",
       "      <td>57.000000</td>\n",
       "      <td>0.000000</td>\n",
       "      <td>0.150000</td>\n",
       "      <td>7.000000</td>\n",
       "      <td>4.230000</td>\n",
       "      <td>11.000000</td>\n",
       "      <td>1.00000</td>\n",
       "      <td>0.714000</td>\n",
       "      <td>2.000000</td>\n",
       "    </tr>\n",
       "    <tr>\n",
       "      <th>50%</th>\n",
       "      <td>22.000000</td>\n",
       "      <td>0.000000</td>\n",
       "      <td>62.000000</td>\n",
       "      <td>0.000000</td>\n",
       "      <td>0.217000</td>\n",
       "      <td>11.000000</td>\n",
       "      <td>4.650000</td>\n",
       "      <td>14.000000</td>\n",
       "      <td>1.21600</td>\n",
       "      <td>0.786000</td>\n",
       "      <td>2.000000</td>\n",
       "    </tr>\n",
       "    <tr>\n",
       "      <th>75%</th>\n",
       "      <td>33.000000</td>\n",
       "      <td>1.000000</td>\n",
       "      <td>68.000000</td>\n",
       "      <td>0.000000</td>\n",
       "      <td>0.280000</td>\n",
       "      <td>16.100000</td>\n",
       "      <td>5.300000</td>\n",
       "      <td>16.500000</td>\n",
       "      <td>1.50750</td>\n",
       "      <td>0.857000</td>\n",
       "      <td>2.000000</td>\n",
       "    </tr>\n",
       "    <tr>\n",
       "      <th>max</th>\n",
       "      <td>57.000000</td>\n",
       "      <td>1.000000</td>\n",
       "      <td>86.000000</td>\n",
       "      <td>1.000000</td>\n",
       "      <td>0.840000</td>\n",
       "      <td>40.000000</td>\n",
       "      <td>6.780000</td>\n",
       "      <td>39.000000</td>\n",
       "      <td>3.00000</td>\n",
       "      <td>2.000000</td>\n",
       "      <td>3.000000</td>\n",
       "    </tr>\n",
       "  </tbody>\n",
       "</table>\n",
       "</div>"
      ],
      "text/plain": [
       "       survival_time_hr       alive         age  pericardialeffusion  \\\n",
       "count        133.000000  133.000000  133.000000           133.000000   \n",
       "mean          21.795338    0.383459   62.413534             0.187970   \n",
       "std           15.885313    0.488067    9.335601             0.392165   \n",
       "min            0.030000    0.000000   23.000000             0.000000   \n",
       "25%            6.000000    0.000000   57.000000             0.000000   \n",
       "50%           22.000000    0.000000   62.000000             0.000000   \n",
       "75%           33.000000    1.000000   68.000000             0.000000   \n",
       "max           57.000000    1.000000   86.000000             1.000000   \n",
       "\n",
       "       fractionalshortening        epss        lvdd  wallmotion-score  \\\n",
       "count            133.000000  117.000000  121.000000        128.000000   \n",
       "mean               0.228534   12.164769    4.763157         14.438125   \n",
       "std                0.135864    7.370159    0.810013          5.018566   \n",
       "min                0.010000    0.000000    2.320000          2.000000   \n",
       "25%                0.150000    7.000000    4.230000         11.000000   \n",
       "50%                0.217000   11.000000    4.650000         14.000000   \n",
       "75%                0.280000   16.100000    5.300000         16.500000   \n",
       "max                0.840000   40.000000    6.780000         39.000000   \n",
       "\n",
       "       wallmotion-index  multi_sensor       group  \n",
       "count         130.00000    129.000000  133.000000  \n",
       "mean            1.37800      0.786202    1.984962  \n",
       "std             0.45185      0.225661    0.590133  \n",
       "min             1.00000      0.140000    1.000000  \n",
       "25%             1.00000      0.714000    2.000000  \n",
       "50%             1.21600      0.786000    2.000000  \n",
       "75%             1.50750      0.857000    2.000000  \n",
       "max             3.00000      2.000000    3.000000  "
      ]
     },
     "execution_count": 5,
     "metadata": {},
     "output_type": "execute_result"
    }
   ],
   "source": [
    "ecg_df.describe()"
   ]
  },
  {
   "cell_type": "code",
   "execution_count": 6,
   "id": "37d287b8-166c-4574-bd1d-129e75f82a38",
   "metadata": {},
   "outputs": [
    {
     "data": {
      "text/plain": [
       "0      11.0\n",
       "1      19.0\n",
       "2      16.0\n",
       "3      57.0\n",
       "4      19.0\n",
       "       ... \n",
       "128     7.5\n",
       "129    41.0\n",
       "130    36.0\n",
       "131    22.0\n",
       "132    20.0\n",
       "Name: survival_time_hr, Length: 133, dtype: float64"
      ]
     },
     "execution_count": 6,
     "metadata": {},
     "output_type": "execute_result"
    }
   ],
   "source": [
    "# survival_time_hr is referring to time \n",
    "T = ecg_df.survival_time_hr\n",
    "T"
   ]
  },
  {
   "cell_type": "code",
   "execution_count": 7,
   "id": "63b7032a-5faf-406b-98a1-6899958951ef",
   "metadata": {},
   "outputs": [],
   "source": [
    "# Initiating the KaplanMeierFitter model\n",
    "kmf = KaplanMeierFitter()\n",
    "kmf1 = KaplanMeierFitter()\n",
    "kmf2 = KaplanMeierFitter()\n",
    "kmf3 = KaplanMeierFitter()"
   ]
  },
  {
   "cell_type": "code",
   "execution_count": 8,
   "id": "a6ebbd20-988e-4299-a958-91460c9d1da2",
   "metadata": {},
   "outputs": [
    {
     "data": {
      "text/plain": [
       "<lifelines.KaplanMeierFitter:\"KM_estimate\", fitted with 133 total observations, 82 right-censored observations>"
      ]
     },
     "execution_count": 8,
     "metadata": {},
     "output_type": "execute_result"
    }
   ],
   "source": [
    "# Fitting KaplanMeierFitter model on survival time and Alive event for patients \n",
    "kmf.fit(T, event_observed = ecg_df.alive)"
   ]
  },
  {
   "cell_type": "code",
   "execution_count": 9,
   "id": "655a82ec-3948-4163-b770-74a970e07573",
   "metadata": {},
   "outputs": [
    {
     "data": {
      "text/plain": [
       "<AxesSubplot:xlabel='timeline'>"
      ]
     },
     "execution_count": 9,
     "metadata": {},
     "output_type": "execute_result"
    },
    {
     "data": {
      "image/png": "[encoded data removed]",
      "text/plain": [
       "<Figure size 640x480 with 1 Axes>"
      ]
     },
     "metadata": {},
     "output_type": "display_data"
    }
   ],
   "source": [
    "# Time-line estimations plot \n",
    "kmf.plot()"
   ]
  },
  {
   "cell_type": "code",
   "execution_count": 10,
   "id": "8601f099-f32f-40e9-b486-0a8829ea2eb1",
   "metadata": {},
   "outputs": [
    {
     "data": {
      "text/plain": [
       "2    87\n",
       "1    24\n",
       "3    22\n",
       "Name: group, dtype: int64"
      ]
     },
     "execution_count": 10,
     "metadata": {},
     "output_type": "execute_result"
    }
   ],
   "source": [
    "# Over Multiple groups \n",
    "ecg_df.group.value_counts()"
   ]
  },
  {
   "cell_type": "code",
   "execution_count": 11,
   "id": "2e090d26-affc-41a2-8def-3a6c6c7b1cf3",
   "metadata": {},
   "outputs": [
    {
     "data": {
      "text/plain": [
       "<Figure size 640x480 with 0 Axes>"
      ]
     },
     "execution_count": 11,
     "metadata": {},
     "output_type": "execute_result"
    },
    {
     "data": {
      "text/plain": [
       "<Figure size 640x480 with 0 Axes>"
      ]
     },
     "metadata": {},
     "output_type": "display_data"
    }
   ],
   "source": [
    "import matplotlib.pyplot  as plt\n",
    "plt.figure(1)"
   ]
  },
  {
   "cell_type": "code",
   "execution_count": 12,
   "id": "afb9f935-78e7-4a98-b0c3-7766ab08fc66",
   "metadata": {},
   "outputs": [
    {
     "data": {
      "image/png": "[encoded data removed]",
      "text/plain": [
       "<Figure size 640x480 with 1 Axes>"
      ]
     },
     "metadata": {},
     "output_type": "display_data"
    }
   ],
   "source": [
    "# Applying KaplanMeierFitter model on Time and Events for the group \"1\"\n",
    "m1 = kmf1.fit(T[ecg_df.group==1], ecg_df.alive[ecg_df.group==1], label='1')\n",
    "ax1 = kmf1.plot()  # group 1 patients within few hrs after the operation they are dying. And after 20hrs the death rate nearly low/constant."
   ]
  },
  {
   "cell_type": "code",
   "execution_count": 13,
   "id": "33b417c3-f0a1-4f20-872f-85531edd5112",
   "metadata": {},
   "outputs": [
    {
     "data": {
      "image/png": "[encoded data removed]",
      "text/plain": [
       "<Figure size 640x480 with 1 Axes>"
      ]
     },
     "metadata": {},
     "output_type": "display_data"
    }
   ],
   "source": [
    "# Applying KaplanMeierFitter model on Time and Events for the group \"2\"\n",
    "m2 = kmf2.fit(T[ecg_df.group==2], ecg_df.alive[ecg_df.group==2], label='2')\n",
    "ax2 = m2.plot()  # group 2 patients within few hrs after the operation they are dying."
   ]
  },
  {
   "cell_type": "code",
   "execution_count": 14,
   "id": "4e5eb86e-c746-4d1f-b143-ef00d582fcc8",
   "metadata": {},
   "outputs": [
    {
     "data": {
      "image/png": "[encoded data removed]",
      "text/plain": [
       "<Figure size 640x480 with 1 Axes>"
      ]
     },
     "metadata": {},
     "output_type": "display_data"
    }
   ],
   "source": [
    "# Applying KaplanMeierFitter model on Time and Events for the group \"3\" \n",
    "m3=kmf3.fit(T[ecg_df.group==3], ecg_df.alive[ecg_df.group==3], label='3')\n",
    "ax3 = m3.plot() # group 3 patients are alive after the operation as the survival hours increases."
   ]
  },
  {
   "cell_type": "code",
   "execution_count": 15,
   "id": "a42bf0ba-9104-49b7-a5f2-771f48293dd8",
   "metadata": {},
   "outputs": [
    {
     "data": {
      "text/plain": [
       "<AxesSubplot:xlabel='timeline'>"
      ]
     },
     "execution_count": 15,
     "metadata": {},
     "output_type": "execute_result"
    },
    {
     "data": {
      "image/png": "[encoded data removed]",
      "text/plain": [
       "<Figure size 640x480 with 1 Axes>"
      ]
     },
     "metadata": {},
     "output_type": "display_data"
    }
   ],
   "source": [
    "kmf1.plot();kmf2.plot();kmf3.plot()"
   ]
  },
  {
   "cell_type": "code",
   "execution_count": null,
   "id": "0c18e51f-21cc-4ade-9887-a79939dfee2a",
   "metadata": {},
   "outputs": [],
   "source": []
  },
  {
   "cell_type": "code",
   "execution_count": null,
   "id": "f6cff1a4-8c6e-4d16-b17b-aff9667a0ba9",
   "metadata": {},
   "outputs": [],
   "source": []
  }
 ],
 "metadata": {
  "kernelspec": {
   "display_name": "Python 3 (ipykernel)",
   "language": "python",
   "name": "python3"
  },
  "language_info": {
   "codemirror_mode": {
    "name": "ipython",
    "version": 3
   },
   "file_extension": ".py",
   "mimetype": "text/x-python",
   "name": "python",
   "nbconvert_exporter": "python",
   "pygments_lexer": "ipython3",
   "version": "3.8.15"
  }
 },
 "nbformat": 4,
 "nbformat_minor": 5
}
