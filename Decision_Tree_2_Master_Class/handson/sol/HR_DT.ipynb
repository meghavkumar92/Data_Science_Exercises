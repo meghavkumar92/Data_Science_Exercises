{
 "cells": [
  {
   "cell_type": "markdown",
   "id": "cd28da75",
   "metadata": {},
   "source": [
    "# Supervised Learning - Decision Tree and Random Forest Tree"
   ]
  },
  {
   "cell_type": "markdown",
   "id": "9d422524",
   "metadata": {},
   "source": [
    "### Build a decision tree & random forest model with Recruitment data of a company.  Help HR team to predict if the salary and work experience data are genuine. "
   ]
  },
  {
   "cell_type": "code",
   "execution_count": 1,
   "id": "64f1d002",
   "metadata": {},
   "outputs": [],
   "source": [
    "# import libraries\n",
    "import pandas as pd\n",
    "import numpy as np\n",
    "import matplotlib.pyplot as plt\n",
    "\n",
    "from sklearn.pipeline import Pipeline\n",
    "from sklearn.compose import ColumnTransformer\n",
    "from sklearn.preprocessing import OneHotEncoder, MinMaxScaler\n",
    "from sklearn.model_selection import train_test_split\n",
    "\n",
    "from sklearn.tree import DecisionTreeClassifier as DT\n",
    "from sklearn.metrics import accuracy_score\n",
    "from sklearn.model_selection import GridSearchCV\n",
    "\n",
    "from sklearn.ensemble import RandomForestClassifier\n",
    "import sklearn.metrics as skmet"
   ]
  },
  {
   "cell_type": "code",
   "execution_count": 2,
   "id": "38f006d7",
   "metadata": {},
   "outputs": [],
   "source": [
    "import warnings\n",
    "warnings.filterwarnings('ignore')"
   ]
  },
  {
   "cell_type": "code",
   "execution_count": 3,
   "id": "e2196953",
   "metadata": {},
   "outputs": [
    {
     "data": {
      "text/html": [
       "<div>\n",
       "<style scoped>\n",
       "    .dataframe tbody tr th:only-of-type {\n",
       "        vertical-align: middle;\n",
       "    }\n",
       "\n",
       "    .dataframe tbody tr th {\n",
       "        vertical-align: top;\n",
       "    }\n",
       "\n",
       "    .dataframe thead th {\n",
       "        text-align: right;\n",
       "    }\n",
       "</style>\n",
       "<table border=\"1\" class=\"dataframe\">\n",
       "  <thead>\n",
       "    <tr style=\"text-align: right;\">\n",
       "      <th></th>\n",
       "      <th>Position of the employee</th>\n",
       "      <th>no of Years of Experience of employee</th>\n",
       "      <th>monthly income of employee</th>\n",
       "    </tr>\n",
       "  </thead>\n",
       "  <tbody>\n",
       "    <tr>\n",
       "      <th>0</th>\n",
       "      <td>Business Analyst</td>\n",
       "      <td>1.1</td>\n",
       "      <td>39343</td>\n",
       "    </tr>\n",
       "    <tr>\n",
       "      <th>1</th>\n",
       "      <td>Junior Consultant</td>\n",
       "      <td>1.3</td>\n",
       "      <td>46205</td>\n",
       "    </tr>\n",
       "    <tr>\n",
       "      <th>2</th>\n",
       "      <td>Senior Consultant</td>\n",
       "      <td>1.5</td>\n",
       "      <td>37731</td>\n",
       "    </tr>\n",
       "    <tr>\n",
       "      <th>3</th>\n",
       "      <td>Manager</td>\n",
       "      <td>2.0</td>\n",
       "      <td>43525</td>\n",
       "    </tr>\n",
       "    <tr>\n",
       "      <th>4</th>\n",
       "      <td>Country Manager</td>\n",
       "      <td>2.2</td>\n",
       "      <td>39891</td>\n",
       "    </tr>\n",
       "  </tbody>\n",
       "</table>\n",
       "</div>"
      ],
      "text/plain": [
       "  Position of the employee  no of Years of Experience of employee  \\\n",
       "0         Business Analyst                                    1.1   \n",
       "1        Junior Consultant                                    1.3   \n",
       "2        Senior Consultant                                    1.5   \n",
       "3                  Manager                                    2.0   \n",
       "4          Country Manager                                    2.2   \n",
       "\n",
       "    monthly income of employee  \n",
       "0                        39343  \n",
       "1                        46205  \n",
       "2                        37731  \n",
       "3                        43525  \n",
       "4                        39891  "
      ]
     },
     "execution_count": 3,
     "metadata": {},
     "output_type": "execute_result"
    }
   ],
   "source": [
    "# import the dataset\n",
    "HR_data = pd.read_csv(r\"D:\\360digi\\DS\\Sharath\\Decision_Tree_2_Master_Class\\handson\\Datasets_DT\\HR_DT.csv\")\n",
    "HR_data.head()"
   ]
  },
  {
   "cell_type": "code",
   "execution_count": 4,
   "id": "2fc62481",
   "metadata": {},
   "outputs": [
    {
     "name": "stdout",
     "output_type": "stream",
     "text": [
      "<class 'pandas.core.frame.DataFrame'>\n",
      "RangeIndex: 196 entries, 0 to 195\n",
      "Data columns (total 3 columns):\n",
      " #   Column                                 Non-Null Count  Dtype  \n",
      "---  ------                                 --------------  -----  \n",
      " 0   Position of the employee               196 non-null    object \n",
      " 1   no of Years of Experience of employee  196 non-null    float64\n",
      " 2    monthly income of employee            196 non-null    int64  \n",
      "dtypes: float64(1), int64(1), object(1)\n",
      "memory usage: 4.7+ KB\n"
     ]
    }
   ],
   "source": [
    "HR_data.info()"
   ]
  },
  {
   "cell_type": "code",
   "execution_count": 5,
   "id": "6a8debc7",
   "metadata": {},
   "outputs": [
    {
     "data": {
      "text/plain": [
       "(196, 3)"
      ]
     },
     "execution_count": 5,
     "metadata": {},
     "output_type": "execute_result"
    }
   ],
   "source": [
    "HR_data.shape"
   ]
  },
  {
   "cell_type": "code",
   "execution_count": 6,
   "id": "2fd7b6b6",
   "metadata": {},
   "outputs": [
    {
     "data": {
      "text/plain": [
       "Position of the employee                 0\n",
       "no of Years of Experience of employee    0\n",
       " monthly income of employee              0\n",
       "dtype: int64"
      ]
     },
     "execution_count": 6,
     "metadata": {},
     "output_type": "execute_result"
    }
   ],
   "source": [
    "# Checking Null Values\n",
    "HR_data.isnull().sum() # no missing data"
   ]
  },
  {
   "cell_type": "code",
   "execution_count": 7,
   "id": "a68bc677",
   "metadata": {},
   "outputs": [
    {
     "data": {
      "text/plain": [
       "Index(['Position of the employee', 'no of Years of Experience of employee',\n",
       "       ' monthly income of employee'],\n",
       "      dtype='object')"
      ]
     },
     "execution_count": 7,
     "metadata": {},
     "output_type": "execute_result"
    }
   ],
   "source": [
    "HR_data.columns"
   ]
  },
  {
   "cell_type": "code",
   "execution_count": 8,
   "id": "b08a0bf5",
   "metadata": {},
   "outputs": [
    {
     "data": {
      "text/html": [
       "<div>\n",
       "<style scoped>\n",
       "    .dataframe tbody tr th:only-of-type {\n",
       "        vertical-align: middle;\n",
       "    }\n",
       "\n",
       "    .dataframe tbody tr th {\n",
       "        vertical-align: top;\n",
       "    }\n",
       "\n",
       "    .dataframe thead th {\n",
       "        text-align: right;\n",
       "    }\n",
       "</style>\n",
       "<table border=\"1\" class=\"dataframe\">\n",
       "  <thead>\n",
       "    <tr style=\"text-align: right;\">\n",
       "      <th></th>\n",
       "      <th>no of Years of Experience of employee</th>\n",
       "      <th>monthly income of employee</th>\n",
       "    </tr>\n",
       "  </thead>\n",
       "  <tbody>\n",
       "    <tr>\n",
       "      <th>count</th>\n",
       "      <td>196.000000</td>\n",
       "      <td>196.000000</td>\n",
       "    </tr>\n",
       "    <tr>\n",
       "      <th>mean</th>\n",
       "      <td>5.112245</td>\n",
       "      <td>74194.923469</td>\n",
       "    </tr>\n",
       "    <tr>\n",
       "      <th>std</th>\n",
       "      <td>2.783993</td>\n",
       "      <td>26731.578387</td>\n",
       "    </tr>\n",
       "    <tr>\n",
       "      <th>min</th>\n",
       "      <td>1.000000</td>\n",
       "      <td>37731.000000</td>\n",
       "    </tr>\n",
       "    <tr>\n",
       "      <th>25%</th>\n",
       "      <td>3.000000</td>\n",
       "      <td>56430.000000</td>\n",
       "    </tr>\n",
       "    <tr>\n",
       "      <th>50%</th>\n",
       "      <td>4.100000</td>\n",
       "      <td>63831.500000</td>\n",
       "    </tr>\n",
       "    <tr>\n",
       "      <th>75%</th>\n",
       "      <td>7.100000</td>\n",
       "      <td>98273.000000</td>\n",
       "    </tr>\n",
       "    <tr>\n",
       "      <th>max</th>\n",
       "      <td>10.500000</td>\n",
       "      <td>122391.000000</td>\n",
       "    </tr>\n",
       "  </tbody>\n",
       "</table>\n",
       "</div>"
      ],
      "text/plain": [
       "       no of Years of Experience of employee   monthly income of employee\n",
       "count                             196.000000                   196.000000\n",
       "mean                                5.112245                 74194.923469\n",
       "std                                 2.783993                 26731.578387\n",
       "min                                 1.000000                 37731.000000\n",
       "25%                                 3.000000                 56430.000000\n",
       "50%                                 4.100000                 63831.500000\n",
       "75%                                 7.100000                 98273.000000\n",
       "max                                10.500000                122391.000000"
      ]
     },
     "execution_count": 8,
     "metadata": {},
     "output_type": "execute_result"
    }
   ],
   "source": [
    "HR_data.describe()"
   ]
  },
  {
   "cell_type": "markdown",
   "id": "eb46691d",
   "metadata": {},
   "source": [
    "## Data Preprocessing"
   ]
  },
  {
   "cell_type": "code",
   "execution_count": 9,
   "id": "a3bbc415",
   "metadata": {},
   "outputs": [
    {
     "data": {
      "text/plain": [
       "array([ 39343,  46205,  37731,  43525,  39891,  56642,  60150,  54445,\n",
       "        64445,  57189,  63218,  55794,  56957,  57081,  61111,  67938,\n",
       "        66029,  83088,  81363,  93940,  91738,  98273, 101302, 113812,\n",
       "       109431, 105582, 116969, 112635, 122391, 121872], dtype=int64)"
      ]
     },
     "execution_count": 9,
     "metadata": {},
     "output_type": "execute_result"
    }
   ],
   "source": [
    "HR_data[' monthly income of employee'].unique() # 30 unique values"
   ]
  },
  {
   "cell_type": "code",
   "execution_count": 10,
   "id": "784fa42e",
   "metadata": {},
   "outputs": [
    {
     "data": {
      "text/plain": [
       "array([ 37731,  39343,  39891,  43525,  46205,  54445,  55794,  56642,\n",
       "        56957,  57081,  57189,  60150,  61111,  63218,  64445,  66029,\n",
       "        67938,  81363,  83088,  91738,  93940,  98273, 101302, 105582,\n",
       "       109431, 112635, 113812, 116969, 121872, 122391])"
      ]
     },
     "execution_count": 10,
     "metadata": {},
     "output_type": "execute_result"
    }
   ],
   "source": [
    "np.sort([ 39343,  46205,  37731,  43525,  39891,  56642,  60150,  54445,\n",
    "        64445,  57189,  63218,  55794,  56957,  57081,  61111,  67938,\n",
    "        66029,  83088,  81363,  93940,  91738,  98273, 101302, 113812,\n",
    "       109431, 105582, 116969, 112635, 122391, 121872])"
   ]
  },
  {
   "cell_type": "code",
   "execution_count": 11,
   "id": "c0b1b103",
   "metadata": {},
   "outputs": [
    {
     "data": {
      "text/plain": [
       "0      Low_Income\n",
       "1      Low_Income\n",
       "2      Low_Income\n",
       "3      Low_Income\n",
       "4      Low_Income\n",
       "          ...    \n",
       "191    Low_Income\n",
       "192    Low_Income\n",
       "193    Low_Income\n",
       "194    Low_Income\n",
       "195    Low_Income\n",
       "Name: Y, Length: 196, dtype: category\n",
       "Categories (2, object): ['Low_Income' < 'High_Income']"
      ]
     },
     "execution_count": 11,
     "metadata": {},
     "output_type": "execute_result"
    }
   ],
   "source": [
    "# Grouping the monthly income column data into two bins\n",
    "HR_data['Y'] = pd.cut(x = HR_data[' monthly income of employee'], bins= [30000, 70000 ,130000], labels = ['Low_Income', 'High_Income'], right = False)\n",
    "HR_data['Y']"
   ]
  },
  {
   "cell_type": "code",
   "execution_count": 12,
   "id": "62b8d3cf",
   "metadata": {},
   "outputs": [
    {
     "data": {
      "text/plain": [
       "(array([28., 14., 49., 27.,  0., 12., 12., 12., 24., 18.]),\n",
       " array([ 37731.,  46197.,  54663.,  63129.,  71595.,  80061.,  88527.,\n",
       "         96993., 105459., 113925., 122391.]),\n",
       " <BarContainer object of 10 artists>)"
      ]
     },
     "execution_count": 12,
     "metadata": {},
     "output_type": "execute_result"
    },
    {
     "data": {
      "image/png": "[encoded data removed]",
      "text/plain": [
       "<Figure size 640x480 with 1 Axes>"
      ]
     },
     "metadata": {},
     "output_type": "display_data"
    }
   ],
   "source": [
    "plt.hist(HR_data[' monthly income of employee'])"
   ]
  },
  {
   "cell_type": "code",
   "execution_count": 13,
   "id": "dc981d91",
   "metadata": {},
   "outputs": [
    {
     "data": {
      "text/plain": [
       "39343     7\n",
       "57189     7\n",
       "46205     7\n",
       "61111     7\n",
       "57081     7\n",
       "56957     7\n",
       "55794     7\n",
       "63218     7\n",
       "67938     7\n",
       "64445     7\n",
       "60150     7\n",
       "56642     7\n",
       "39891     7\n",
       "43525     7\n",
       "37731     7\n",
       "54445     7\n",
       "113812    6\n",
       "122391    6\n",
       "112635    6\n",
       "116969    6\n",
       "105582    6\n",
       "109431    6\n",
       "93940     6\n",
       "101302    6\n",
       "98273     6\n",
       "91738     6\n",
       "81363     6\n",
       "83088     6\n",
       "66029     6\n",
       "121872    6\n",
       "Name:  monthly income of employee, dtype: int64"
      ]
     },
     "execution_count": 13,
     "metadata": {},
     "output_type": "execute_result"
    }
   ],
   "source": [
    "HR_data[' monthly income of employee'].value_counts()"
   ]
  },
  {
   "cell_type": "code",
   "execution_count": 14,
   "id": "f369ec99",
   "metadata": {},
   "outputs": [
    {
     "data": {
      "text/plain": [
       "Low_Income     118\n",
       "High_Income     78\n",
       "Name: Y, dtype: int64"
      ]
     },
     "execution_count": 14,
     "metadata": {},
     "output_type": "execute_result"
    }
   ],
   "source": [
    "HR_data['Y'].value_counts()"
   ]
  },
  {
   "cell_type": "code",
   "execution_count": 15,
   "id": "6cdf3797",
   "metadata": {},
   "outputs": [
    {
     "data": {
      "text/html": [
       "<div>\n",
       "<style scoped>\n",
       "    .dataframe tbody tr th:only-of-type {\n",
       "        vertical-align: middle;\n",
       "    }\n",
       "\n",
       "    .dataframe tbody tr th {\n",
       "        vertical-align: top;\n",
       "    }\n",
       "\n",
       "    .dataframe thead th {\n",
       "        text-align: right;\n",
       "    }\n",
       "</style>\n",
       "<table border=\"1\" class=\"dataframe\">\n",
       "  <thead>\n",
       "    <tr style=\"text-align: right;\">\n",
       "      <th></th>\n",
       "      <th>Position of the employee</th>\n",
       "      <th>no of Years of Experience of employee</th>\n",
       "    </tr>\n",
       "  </thead>\n",
       "  <tbody>\n",
       "    <tr>\n",
       "      <th>0</th>\n",
       "      <td>Business Analyst</td>\n",
       "      <td>1.1</td>\n",
       "    </tr>\n",
       "    <tr>\n",
       "      <th>1</th>\n",
       "      <td>Junior Consultant</td>\n",
       "      <td>1.3</td>\n",
       "    </tr>\n",
       "    <tr>\n",
       "      <th>2</th>\n",
       "      <td>Senior Consultant</td>\n",
       "      <td>1.5</td>\n",
       "    </tr>\n",
       "    <tr>\n",
       "      <th>3</th>\n",
       "      <td>Manager</td>\n",
       "      <td>2.0</td>\n",
       "    </tr>\n",
       "    <tr>\n",
       "      <th>4</th>\n",
       "      <td>Country Manager</td>\n",
       "      <td>2.2</td>\n",
       "    </tr>\n",
       "    <tr>\n",
       "      <th>...</th>\n",
       "      <td>...</td>\n",
       "      <td>...</td>\n",
       "    </tr>\n",
       "    <tr>\n",
       "      <th>191</th>\n",
       "      <td>Region Manager</td>\n",
       "      <td>3.9</td>\n",
       "    </tr>\n",
       "    <tr>\n",
       "      <th>192</th>\n",
       "      <td>Partner</td>\n",
       "      <td>4.0</td>\n",
       "    </tr>\n",
       "    <tr>\n",
       "      <th>193</th>\n",
       "      <td>Senior Partner</td>\n",
       "      <td>4.0</td>\n",
       "    </tr>\n",
       "    <tr>\n",
       "      <th>194</th>\n",
       "      <td>C-level</td>\n",
       "      <td>4.1</td>\n",
       "    </tr>\n",
       "    <tr>\n",
       "      <th>195</th>\n",
       "      <td>CEO</td>\n",
       "      <td>4.5</td>\n",
       "    </tr>\n",
       "  </tbody>\n",
       "</table>\n",
       "<p>196 rows × 2 columns</p>\n",
       "</div>"
      ],
      "text/plain": [
       "    Position of the employee  no of Years of Experience of employee\n",
       "0           Business Analyst                                    1.1\n",
       "1          Junior Consultant                                    1.3\n",
       "2          Senior Consultant                                    1.5\n",
       "3                    Manager                                    2.0\n",
       "4            Country Manager                                    2.2\n",
       "..                       ...                                    ...\n",
       "191           Region Manager                                    3.9\n",
       "192                  Partner                                    4.0\n",
       "193           Senior Partner                                    4.0\n",
       "194                  C-level                                    4.1\n",
       "195                      CEO                                    4.5\n",
       "\n",
       "[196 rows x 2 columns]"
      ]
     },
     "execution_count": 15,
     "metadata": {},
     "output_type": "execute_result"
    }
   ],
   "source": [
    "# Data split into Input and Output\n",
    "X = HR_data.iloc[:,:2]\n",
    "X"
   ]
  },
  {
   "cell_type": "code",
   "execution_count": 16,
   "id": "6c756403",
   "metadata": {},
   "outputs": [
    {
     "data": {
      "text/plain": [
       "0      Low_Income\n",
       "1      Low_Income\n",
       "2      Low_Income\n",
       "3      Low_Income\n",
       "4      Low_Income\n",
       "          ...    \n",
       "191    Low_Income\n",
       "192    Low_Income\n",
       "193    Low_Income\n",
       "194    Low_Income\n",
       "195    Low_Income\n",
       "Name: Y, Length: 196, dtype: category\n",
       "Categories (2, object): ['Low_Income' < 'High_Income']"
      ]
     },
     "execution_count": 16,
     "metadata": {},
     "output_type": "execute_result"
    }
   ],
   "source": [
    "# Y = HR_data[' monthly income of employee']\n",
    "# or\n",
    "Y = HR_data['Y']\n",
    "Y"
   ]
  },
  {
   "cell_type": "code",
   "execution_count": 17,
   "id": "f8ab7992",
   "metadata": {},
   "outputs": [
    {
     "data": {
      "text/plain": [
       "['Low_Income', 'High_Income']\n",
       "Categories (2, object): ['Low_Income' < 'High_Income']"
      ]
     },
     "execution_count": 17,
     "metadata": {},
     "output_type": "execute_result"
    }
   ],
   "source": [
    "HR_data['Y'].unique()"
   ]
  },
  {
   "cell_type": "markdown",
   "id": "ca8fc22d",
   "metadata": {},
   "source": [
    "#### Separating Numeric and Non-Numeric columns"
   ]
  },
  {
   "cell_type": "code",
   "execution_count": 18,
   "id": "868cbc77",
   "metadata": {},
   "outputs": [
    {
     "data": {
      "text/plain": [
       "Index(['no of Years of Experience of employee'], dtype='object')"
      ]
     },
     "execution_count": 18,
     "metadata": {},
     "output_type": "execute_result"
    }
   ],
   "source": [
    "numeric_data = X.select_dtypes(exclude = ['object']).columns\n",
    "numeric_data"
   ]
  },
  {
   "cell_type": "code",
   "execution_count": 19,
   "id": "96f6469f",
   "metadata": {},
   "outputs": [
    {
     "data": {
      "text/plain": [
       "Index(['Position of the employee'], dtype='object')"
      ]
     },
     "execution_count": 19,
     "metadata": {},
     "output_type": "execute_result"
    }
   ],
   "source": [
    "cate_data = X.select_dtypes(include = ['object']).columns\n",
    "cate_data"
   ]
  },
  {
   "cell_type": "markdown",
   "id": "2943f37b",
   "metadata": {},
   "source": [
    "### Outlier analysis"
   ]
  },
  {
   "cell_type": "code",
   "execution_count": 20,
   "id": "91407c02",
   "metadata": {},
   "outputs": [
    {
     "data": {
      "image/png": "[encoded data removed]",
      "text/plain": [
       "<Figure size 1000x600 with 1 Axes>"
      ]
     },
     "metadata": {},
     "output_type": "display_data"
    }
   ],
   "source": [
    "#Box plot visualization to view the outliers.\n",
    "\n",
    "X[numeric_data].plot(kind = 'box', subplots = True, sharey = False, figsize = (10, 6))\n",
    "\n",
    "plt.subplots_adjust(wspace = 0.75)\n",
    "plt.show()\n",
    "\n",
    "# No outliers"
   ]
  },
  {
   "cell_type": "markdown",
   "id": "f0a4f70e",
   "metadata": {},
   "source": [
    "#### Scaling with Normalization - MinMaxScaler"
   ]
  },
  {
   "cell_type": "code",
   "execution_count": 21,
   "id": "47e3e276",
   "metadata": {},
   "outputs": [],
   "source": [
    "scale_pipeline = Pipeline([('scale', MinMaxScaler())])"
   ]
  },
  {
   "cell_type": "code",
   "execution_count": 22,
   "id": "26f54dd4",
   "metadata": {},
   "outputs": [],
   "source": [
    "processed_pipeline = ColumnTransformer([('scale', scale_pipeline, numeric_data)])"
   ]
  },
  {
   "cell_type": "code",
   "execution_count": 23,
   "id": "05f6f79a",
   "metadata": {},
   "outputs": [
    {
     "data": {
      "text/plain": [
       "ColumnTransformer(transformers=[('scale',\n",
       "                                 Pipeline(steps=[('scale', MinMaxScaler())]),\n",
       "                                 Index(['no of Years of Experience of employee'], dtype='object'))])"
      ]
     },
     "execution_count": 23,
     "metadata": {},
     "output_type": "execute_result"
    }
   ],
   "source": [
    "processed = processed_pipeline.fit(X)\n",
    "processed"
   ]
  },
  {
   "cell_type": "code",
   "execution_count": 24,
   "id": "e8a35636",
   "metadata": {},
   "outputs": [
    {
     "data": {
      "text/html": [
       "<div>\n",
       "<style scoped>\n",
       "    .dataframe tbody tr th:only-of-type {\n",
       "        vertical-align: middle;\n",
       "    }\n",
       "\n",
       "    .dataframe tbody tr th {\n",
       "        vertical-align: top;\n",
       "    }\n",
       "\n",
       "    .dataframe thead th {\n",
       "        text-align: right;\n",
       "    }\n",
       "</style>\n",
       "<table border=\"1\" class=\"dataframe\">\n",
       "  <thead>\n",
       "    <tr style=\"text-align: right;\">\n",
       "      <th></th>\n",
       "      <th>0</th>\n",
       "    </tr>\n",
       "  </thead>\n",
       "  <tbody>\n",
       "    <tr>\n",
       "      <th>0</th>\n",
       "      <td>0.010526</td>\n",
       "    </tr>\n",
       "    <tr>\n",
       "      <th>1</th>\n",
       "      <td>0.031579</td>\n",
       "    </tr>\n",
       "    <tr>\n",
       "      <th>2</th>\n",
       "      <td>0.052632</td>\n",
       "    </tr>\n",
       "    <tr>\n",
       "      <th>3</th>\n",
       "      <td>0.105263</td>\n",
       "    </tr>\n",
       "    <tr>\n",
       "      <th>4</th>\n",
       "      <td>0.126316</td>\n",
       "    </tr>\n",
       "    <tr>\n",
       "      <th>...</th>\n",
       "      <td>...</td>\n",
       "    </tr>\n",
       "    <tr>\n",
       "      <th>191</th>\n",
       "      <td>0.305263</td>\n",
       "    </tr>\n",
       "    <tr>\n",
       "      <th>192</th>\n",
       "      <td>0.315789</td>\n",
       "    </tr>\n",
       "    <tr>\n",
       "      <th>193</th>\n",
       "      <td>0.315789</td>\n",
       "    </tr>\n",
       "    <tr>\n",
       "      <th>194</th>\n",
       "      <td>0.326316</td>\n",
       "    </tr>\n",
       "    <tr>\n",
       "      <th>195</th>\n",
       "      <td>0.368421</td>\n",
       "    </tr>\n",
       "  </tbody>\n",
       "</table>\n",
       "<p>196 rows × 1 columns</p>\n",
       "</div>"
      ],
      "text/plain": [
       "            0\n",
       "0    0.010526\n",
       "1    0.031579\n",
       "2    0.052632\n",
       "3    0.105263\n",
       "4    0.126316\n",
       "..        ...\n",
       "191  0.305263\n",
       "192  0.315789\n",
       "193  0.315789\n",
       "194  0.326316\n",
       "195  0.368421\n",
       "\n",
       "[196 rows x 1 columns]"
      ]
     },
     "execution_count": 24,
     "metadata": {},
     "output_type": "execute_result"
    }
   ],
   "source": [
    "data_norm = pd.DataFrame(processed.transform(X))\n",
    "data_norm"
   ]
  },
  {
   "cell_type": "code",
   "execution_count": 25,
   "id": "636e9c56",
   "metadata": {},
   "outputs": [
    {
     "data": {
      "text/plain": [
       "array(['Business Analyst', 'Junior Consultant', 'Senior Consultant',\n",
       "       'Manager', 'Country Manager', 'Region Manager', 'Partner',\n",
       "       'Senior Partner', 'C-level', 'CEO'], dtype=object)"
      ]
     },
     "execution_count": 25,
     "metadata": {},
     "output_type": "execute_result"
    }
   ],
   "source": [
    "HR_data['Position of the employee'].unique()"
   ]
  },
  {
   "cell_type": "markdown",
   "id": "7b22d748",
   "metadata": {},
   "source": [
    "#### Convert Categorical data to Numerical data using OneHotEncoder"
   ]
  },
  {
   "cell_type": "code",
   "execution_count": 26,
   "id": "feef05c1",
   "metadata": {},
   "outputs": [],
   "source": [
    "categ_pipeline = Pipeline([('onehot', OneHotEncoder())])"
   ]
  },
  {
   "cell_type": "code",
   "execution_count": 27,
   "id": "eb03b35f",
   "metadata": {},
   "outputs": [],
   "source": [
    "preprocess_pipeline2 = ColumnTransformer([('categorical', categ_pipeline, cate_data)])"
   ]
  },
  {
   "cell_type": "code",
   "execution_count": 28,
   "id": "31442ca7",
   "metadata": {},
   "outputs": [],
   "source": [
    "processed2 = preprocess_pipeline2.fit(X)"
   ]
  },
  {
   "cell_type": "code",
   "execution_count": 29,
   "id": "4fe6feb4",
   "metadata": {},
   "outputs": [
    {
     "data": {
      "text/html": [
       "<div>\n",
       "<style scoped>\n",
       "    .dataframe tbody tr th:only-of-type {\n",
       "        vertical-align: middle;\n",
       "    }\n",
       "\n",
       "    .dataframe tbody tr th {\n",
       "        vertical-align: top;\n",
       "    }\n",
       "\n",
       "    .dataframe thead th {\n",
       "        text-align: right;\n",
       "    }\n",
       "</style>\n",
       "<table border=\"1\" class=\"dataframe\">\n",
       "  <thead>\n",
       "    <tr style=\"text-align: right;\">\n",
       "      <th></th>\n",
       "      <th>0</th>\n",
       "      <th>1</th>\n",
       "      <th>2</th>\n",
       "      <th>3</th>\n",
       "      <th>4</th>\n",
       "      <th>5</th>\n",
       "      <th>6</th>\n",
       "      <th>7</th>\n",
       "      <th>8</th>\n",
       "      <th>9</th>\n",
       "    </tr>\n",
       "  </thead>\n",
       "  <tbody>\n",
       "    <tr>\n",
       "      <th>0</th>\n",
       "      <td>1.0</td>\n",
       "      <td>0.0</td>\n",
       "      <td>0.0</td>\n",
       "      <td>0.0</td>\n",
       "      <td>0.0</td>\n",
       "      <td>0.0</td>\n",
       "      <td>0.0</td>\n",
       "      <td>0.0</td>\n",
       "      <td>0.0</td>\n",
       "      <td>0.0</td>\n",
       "    </tr>\n",
       "    <tr>\n",
       "      <th>1</th>\n",
       "      <td>0.0</td>\n",
       "      <td>0.0</td>\n",
       "      <td>0.0</td>\n",
       "      <td>0.0</td>\n",
       "      <td>1.0</td>\n",
       "      <td>0.0</td>\n",
       "      <td>0.0</td>\n",
       "      <td>0.0</td>\n",
       "      <td>0.0</td>\n",
       "      <td>0.0</td>\n",
       "    </tr>\n",
       "    <tr>\n",
       "      <th>2</th>\n",
       "      <td>0.0</td>\n",
       "      <td>0.0</td>\n",
       "      <td>0.0</td>\n",
       "      <td>0.0</td>\n",
       "      <td>0.0</td>\n",
       "      <td>0.0</td>\n",
       "      <td>0.0</td>\n",
       "      <td>0.0</td>\n",
       "      <td>1.0</td>\n",
       "      <td>0.0</td>\n",
       "    </tr>\n",
       "    <tr>\n",
       "      <th>3</th>\n",
       "      <td>0.0</td>\n",
       "      <td>0.0</td>\n",
       "      <td>0.0</td>\n",
       "      <td>0.0</td>\n",
       "      <td>0.0</td>\n",
       "      <td>1.0</td>\n",
       "      <td>0.0</td>\n",
       "      <td>0.0</td>\n",
       "      <td>0.0</td>\n",
       "      <td>0.0</td>\n",
       "    </tr>\n",
       "    <tr>\n",
       "      <th>4</th>\n",
       "      <td>0.0</td>\n",
       "      <td>0.0</td>\n",
       "      <td>0.0</td>\n",
       "      <td>1.0</td>\n",
       "      <td>0.0</td>\n",
       "      <td>0.0</td>\n",
       "      <td>0.0</td>\n",
       "      <td>0.0</td>\n",
       "      <td>0.0</td>\n",
       "      <td>0.0</td>\n",
       "    </tr>\n",
       "    <tr>\n",
       "      <th>...</th>\n",
       "      <td>...</td>\n",
       "      <td>...</td>\n",
       "      <td>...</td>\n",
       "      <td>...</td>\n",
       "      <td>...</td>\n",
       "      <td>...</td>\n",
       "      <td>...</td>\n",
       "      <td>...</td>\n",
       "      <td>...</td>\n",
       "      <td>...</td>\n",
       "    </tr>\n",
       "    <tr>\n",
       "      <th>191</th>\n",
       "      <td>0.0</td>\n",
       "      <td>0.0</td>\n",
       "      <td>0.0</td>\n",
       "      <td>0.0</td>\n",
       "      <td>0.0</td>\n",
       "      <td>0.0</td>\n",
       "      <td>0.0</td>\n",
       "      <td>1.0</td>\n",
       "      <td>0.0</td>\n",
       "      <td>0.0</td>\n",
       "    </tr>\n",
       "    <tr>\n",
       "      <th>192</th>\n",
       "      <td>0.0</td>\n",
       "      <td>0.0</td>\n",
       "      <td>0.0</td>\n",
       "      <td>0.0</td>\n",
       "      <td>0.0</td>\n",
       "      <td>0.0</td>\n",
       "      <td>1.0</td>\n",
       "      <td>0.0</td>\n",
       "      <td>0.0</td>\n",
       "      <td>0.0</td>\n",
       "    </tr>\n",
       "    <tr>\n",
       "      <th>193</th>\n",
       "      <td>0.0</td>\n",
       "      <td>0.0</td>\n",
       "      <td>0.0</td>\n",
       "      <td>0.0</td>\n",
       "      <td>0.0</td>\n",
       "      <td>0.0</td>\n",
       "      <td>0.0</td>\n",
       "      <td>0.0</td>\n",
       "      <td>0.0</td>\n",
       "      <td>1.0</td>\n",
       "    </tr>\n",
       "    <tr>\n",
       "      <th>194</th>\n",
       "      <td>0.0</td>\n",
       "      <td>1.0</td>\n",
       "      <td>0.0</td>\n",
       "      <td>0.0</td>\n",
       "      <td>0.0</td>\n",
       "      <td>0.0</td>\n",
       "      <td>0.0</td>\n",
       "      <td>0.0</td>\n",
       "      <td>0.0</td>\n",
       "      <td>0.0</td>\n",
       "    </tr>\n",
       "    <tr>\n",
       "      <th>195</th>\n",
       "      <td>0.0</td>\n",
       "      <td>0.0</td>\n",
       "      <td>1.0</td>\n",
       "      <td>0.0</td>\n",
       "      <td>0.0</td>\n",
       "      <td>0.0</td>\n",
       "      <td>0.0</td>\n",
       "      <td>0.0</td>\n",
       "      <td>0.0</td>\n",
       "      <td>0.0</td>\n",
       "    </tr>\n",
       "  </tbody>\n",
       "</table>\n",
       "<p>196 rows × 10 columns</p>\n",
       "</div>"
      ],
      "text/plain": [
       "       0    1    2    3    4    5    6    7    8    9\n",
       "0    1.0  0.0  0.0  0.0  0.0  0.0  0.0  0.0  0.0  0.0\n",
       "1    0.0  0.0  0.0  0.0  1.0  0.0  0.0  0.0  0.0  0.0\n",
       "2    0.0  0.0  0.0  0.0  0.0  0.0  0.0  0.0  1.0  0.0\n",
       "3    0.0  0.0  0.0  0.0  0.0  1.0  0.0  0.0  0.0  0.0\n",
       "4    0.0  0.0  0.0  1.0  0.0  0.0  0.0  0.0  0.0  0.0\n",
       "..   ...  ...  ...  ...  ...  ...  ...  ...  ...  ...\n",
       "191  0.0  0.0  0.0  0.0  0.0  0.0  0.0  1.0  0.0  0.0\n",
       "192  0.0  0.0  0.0  0.0  0.0  0.0  1.0  0.0  0.0  0.0\n",
       "193  0.0  0.0  0.0  0.0  0.0  0.0  0.0  0.0  0.0  1.0\n",
       "194  0.0  1.0  0.0  0.0  0.0  0.0  0.0  0.0  0.0  0.0\n",
       "195  0.0  0.0  1.0  0.0  0.0  0.0  0.0  0.0  0.0  0.0\n",
       "\n",
       "[196 rows x 10 columns]"
      ]
     },
     "execution_count": 29,
     "metadata": {},
     "output_type": "execute_result"
    }
   ],
   "source": [
    "encode_data = pd.DataFrame(processed2.transform(X).todense())\n",
    "encode_data"
   ]
  },
  {
   "cell_type": "code",
   "execution_count": 30,
   "id": "3f136718",
   "metadata": {},
   "outputs": [
    {
     "data": {
      "text/html": [
       "<div>\n",
       "<style scoped>\n",
       "    .dataframe tbody tr th:only-of-type {\n",
       "        vertical-align: middle;\n",
       "    }\n",
       "\n",
       "    .dataframe tbody tr th {\n",
       "        vertical-align: top;\n",
       "    }\n",
       "\n",
       "    .dataframe thead th {\n",
       "        text-align: right;\n",
       "    }\n",
       "</style>\n",
       "<table border=\"1\" class=\"dataframe\">\n",
       "  <thead>\n",
       "    <tr style=\"text-align: right;\">\n",
       "      <th></th>\n",
       "      <th>0</th>\n",
       "      <th>1</th>\n",
       "      <th>2</th>\n",
       "      <th>3</th>\n",
       "      <th>4</th>\n",
       "      <th>5</th>\n",
       "      <th>6</th>\n",
       "      <th>7</th>\n",
       "      <th>8</th>\n",
       "      <th>9</th>\n",
       "      <th>10</th>\n",
       "    </tr>\n",
       "  </thead>\n",
       "  <tbody>\n",
       "    <tr>\n",
       "      <th>0</th>\n",
       "      <td>1.0</td>\n",
       "      <td>0.0</td>\n",
       "      <td>0.0</td>\n",
       "      <td>0.0</td>\n",
       "      <td>0.0</td>\n",
       "      <td>0.0</td>\n",
       "      <td>0.0</td>\n",
       "      <td>0.0</td>\n",
       "      <td>0.0</td>\n",
       "      <td>0.0</td>\n",
       "      <td>0.010526</td>\n",
       "    </tr>\n",
       "    <tr>\n",
       "      <th>1</th>\n",
       "      <td>0.0</td>\n",
       "      <td>0.0</td>\n",
       "      <td>0.0</td>\n",
       "      <td>0.0</td>\n",
       "      <td>1.0</td>\n",
       "      <td>0.0</td>\n",
       "      <td>0.0</td>\n",
       "      <td>0.0</td>\n",
       "      <td>0.0</td>\n",
       "      <td>0.0</td>\n",
       "      <td>0.031579</td>\n",
       "    </tr>\n",
       "    <tr>\n",
       "      <th>2</th>\n",
       "      <td>0.0</td>\n",
       "      <td>0.0</td>\n",
       "      <td>0.0</td>\n",
       "      <td>0.0</td>\n",
       "      <td>0.0</td>\n",
       "      <td>0.0</td>\n",
       "      <td>0.0</td>\n",
       "      <td>0.0</td>\n",
       "      <td>1.0</td>\n",
       "      <td>0.0</td>\n",
       "      <td>0.052632</td>\n",
       "    </tr>\n",
       "    <tr>\n",
       "      <th>3</th>\n",
       "      <td>0.0</td>\n",
       "      <td>0.0</td>\n",
       "      <td>0.0</td>\n",
       "      <td>0.0</td>\n",
       "      <td>0.0</td>\n",
       "      <td>1.0</td>\n",
       "      <td>0.0</td>\n",
       "      <td>0.0</td>\n",
       "      <td>0.0</td>\n",
       "      <td>0.0</td>\n",
       "      <td>0.105263</td>\n",
       "    </tr>\n",
       "    <tr>\n",
       "      <th>4</th>\n",
       "      <td>0.0</td>\n",
       "      <td>0.0</td>\n",
       "      <td>0.0</td>\n",
       "      <td>1.0</td>\n",
       "      <td>0.0</td>\n",
       "      <td>0.0</td>\n",
       "      <td>0.0</td>\n",
       "      <td>0.0</td>\n",
       "      <td>0.0</td>\n",
       "      <td>0.0</td>\n",
       "      <td>0.126316</td>\n",
       "    </tr>\n",
       "    <tr>\n",
       "      <th>...</th>\n",
       "      <td>...</td>\n",
       "      <td>...</td>\n",
       "      <td>...</td>\n",
       "      <td>...</td>\n",
       "      <td>...</td>\n",
       "      <td>...</td>\n",
       "      <td>...</td>\n",
       "      <td>...</td>\n",
       "      <td>...</td>\n",
       "      <td>...</td>\n",
       "      <td>...</td>\n",
       "    </tr>\n",
       "    <tr>\n",
       "      <th>191</th>\n",
       "      <td>0.0</td>\n",
       "      <td>0.0</td>\n",
       "      <td>0.0</td>\n",
       "      <td>0.0</td>\n",
       "      <td>0.0</td>\n",
       "      <td>0.0</td>\n",
       "      <td>0.0</td>\n",
       "      <td>1.0</td>\n",
       "      <td>0.0</td>\n",
       "      <td>0.0</td>\n",
       "      <td>0.305263</td>\n",
       "    </tr>\n",
       "    <tr>\n",
       "      <th>192</th>\n",
       "      <td>0.0</td>\n",
       "      <td>0.0</td>\n",
       "      <td>0.0</td>\n",
       "      <td>0.0</td>\n",
       "      <td>0.0</td>\n",
       "      <td>0.0</td>\n",
       "      <td>1.0</td>\n",
       "      <td>0.0</td>\n",
       "      <td>0.0</td>\n",
       "      <td>0.0</td>\n",
       "      <td>0.315789</td>\n",
       "    </tr>\n",
       "    <tr>\n",
       "      <th>193</th>\n",
       "      <td>0.0</td>\n",
       "      <td>0.0</td>\n",
       "      <td>0.0</td>\n",
       "      <td>0.0</td>\n",
       "      <td>0.0</td>\n",
       "      <td>0.0</td>\n",
       "      <td>0.0</td>\n",
       "      <td>0.0</td>\n",
       "      <td>0.0</td>\n",
       "      <td>1.0</td>\n",
       "      <td>0.315789</td>\n",
       "    </tr>\n",
       "    <tr>\n",
       "      <th>194</th>\n",
       "      <td>0.0</td>\n",
       "      <td>1.0</td>\n",
       "      <td>0.0</td>\n",
       "      <td>0.0</td>\n",
       "      <td>0.0</td>\n",
       "      <td>0.0</td>\n",
       "      <td>0.0</td>\n",
       "      <td>0.0</td>\n",
       "      <td>0.0</td>\n",
       "      <td>0.0</td>\n",
       "      <td>0.326316</td>\n",
       "    </tr>\n",
       "    <tr>\n",
       "      <th>195</th>\n",
       "      <td>0.0</td>\n",
       "      <td>0.0</td>\n",
       "      <td>1.0</td>\n",
       "      <td>0.0</td>\n",
       "      <td>0.0</td>\n",
       "      <td>0.0</td>\n",
       "      <td>0.0</td>\n",
       "      <td>0.0</td>\n",
       "      <td>0.0</td>\n",
       "      <td>0.0</td>\n",
       "      <td>0.368421</td>\n",
       "    </tr>\n",
       "  </tbody>\n",
       "</table>\n",
       "<p>196 rows × 11 columns</p>\n",
       "</div>"
      ],
      "text/plain": [
       "      0    1    2    3    4    5    6    7    8    9         10\n",
       "0    1.0  0.0  0.0  0.0  0.0  0.0  0.0  0.0  0.0  0.0  0.010526\n",
       "1    0.0  0.0  0.0  0.0  1.0  0.0  0.0  0.0  0.0  0.0  0.031579\n",
       "2    0.0  0.0  0.0  0.0  0.0  0.0  0.0  0.0  1.0  0.0  0.052632\n",
       "3    0.0  0.0  0.0  0.0  0.0  1.0  0.0  0.0  0.0  0.0  0.105263\n",
       "4    0.0  0.0  0.0  1.0  0.0  0.0  0.0  0.0  0.0  0.0  0.126316\n",
       "..   ...  ...  ...  ...  ...  ...  ...  ...  ...  ...       ...\n",
       "191  0.0  0.0  0.0  0.0  0.0  0.0  0.0  1.0  0.0  0.0  0.305263\n",
       "192  0.0  0.0  0.0  0.0  0.0  0.0  1.0  0.0  0.0  0.0  0.315789\n",
       "193  0.0  0.0  0.0  0.0  0.0  0.0  0.0  0.0  0.0  1.0  0.315789\n",
       "194  0.0  1.0  0.0  0.0  0.0  0.0  0.0  0.0  0.0  0.0  0.326316\n",
       "195  0.0  0.0  1.0  0.0  0.0  0.0  0.0  0.0  0.0  0.0  0.368421\n",
       "\n",
       "[196 rows x 11 columns]"
      ]
     },
     "execution_count": 30,
     "metadata": {},
     "output_type": "execute_result"
    }
   ],
   "source": [
    "# concatenate the data\n",
    "clean_data = pd.concat([encode_data, data_norm], axis = 1, ignore_index = True)\n",
    "clean_data"
   ]
  },
  {
   "cell_type": "code",
   "execution_count": 31,
   "id": "d465c830",
   "metadata": {},
   "outputs": [
    {
     "data": {
      "text/html": [
       "<div>\n",
       "<style scoped>\n",
       "    .dataframe tbody tr th:only-of-type {\n",
       "        vertical-align: middle;\n",
       "    }\n",
       "\n",
       "    .dataframe tbody tr th {\n",
       "        vertical-align: top;\n",
       "    }\n",
       "\n",
       "    .dataframe thead th {\n",
       "        text-align: right;\n",
       "    }\n",
       "</style>\n",
       "<table border=\"1\" class=\"dataframe\">\n",
       "  <thead>\n",
       "    <tr style=\"text-align: right;\">\n",
       "      <th></th>\n",
       "      <th>0</th>\n",
       "      <th>1</th>\n",
       "      <th>2</th>\n",
       "      <th>3</th>\n",
       "      <th>4</th>\n",
       "      <th>5</th>\n",
       "      <th>6</th>\n",
       "      <th>7</th>\n",
       "      <th>8</th>\n",
       "      <th>9</th>\n",
       "      <th>10</th>\n",
       "    </tr>\n",
       "  </thead>\n",
       "  <tbody>\n",
       "    <tr>\n",
       "      <th>count</th>\n",
       "      <td>196.000000</td>\n",
       "      <td>196.000000</td>\n",
       "      <td>196.000000</td>\n",
       "      <td>196.000000</td>\n",
       "      <td>196.000000</td>\n",
       "      <td>196.000000</td>\n",
       "      <td>196.000000</td>\n",
       "      <td>196.000000</td>\n",
       "      <td>196.000000</td>\n",
       "      <td>196.000000</td>\n",
       "      <td>196.000000</td>\n",
       "    </tr>\n",
       "    <tr>\n",
       "      <th>mean</th>\n",
       "      <td>0.040816</td>\n",
       "      <td>0.122449</td>\n",
       "      <td>0.117347</td>\n",
       "      <td>0.091837</td>\n",
       "      <td>0.071429</td>\n",
       "      <td>0.086735</td>\n",
       "      <td>0.142857</td>\n",
       "      <td>0.117347</td>\n",
       "      <td>0.081633</td>\n",
       "      <td>0.127551</td>\n",
       "      <td>0.432868</td>\n",
       "    </tr>\n",
       "    <tr>\n",
       "      <th>std</th>\n",
       "      <td>0.198371</td>\n",
       "      <td>0.328643</td>\n",
       "      <td>0.322657</td>\n",
       "      <td>0.289535</td>\n",
       "      <td>0.258199</td>\n",
       "      <td>0.282167</td>\n",
       "      <td>0.350823</td>\n",
       "      <td>0.322657</td>\n",
       "      <td>0.274505</td>\n",
       "      <td>0.334443</td>\n",
       "      <td>0.293052</td>\n",
       "    </tr>\n",
       "    <tr>\n",
       "      <th>min</th>\n",
       "      <td>0.000000</td>\n",
       "      <td>0.000000</td>\n",
       "      <td>0.000000</td>\n",
       "      <td>0.000000</td>\n",
       "      <td>0.000000</td>\n",
       "      <td>0.000000</td>\n",
       "      <td>0.000000</td>\n",
       "      <td>0.000000</td>\n",
       "      <td>0.000000</td>\n",
       "      <td>0.000000</td>\n",
       "      <td>0.000000</td>\n",
       "    </tr>\n",
       "    <tr>\n",
       "      <th>25%</th>\n",
       "      <td>0.000000</td>\n",
       "      <td>0.000000</td>\n",
       "      <td>0.000000</td>\n",
       "      <td>0.000000</td>\n",
       "      <td>0.000000</td>\n",
       "      <td>0.000000</td>\n",
       "      <td>0.000000</td>\n",
       "      <td>0.000000</td>\n",
       "      <td>0.000000</td>\n",
       "      <td>0.000000</td>\n",
       "      <td>0.210526</td>\n",
       "    </tr>\n",
       "    <tr>\n",
       "      <th>50%</th>\n",
       "      <td>0.000000</td>\n",
       "      <td>0.000000</td>\n",
       "      <td>0.000000</td>\n",
       "      <td>0.000000</td>\n",
       "      <td>0.000000</td>\n",
       "      <td>0.000000</td>\n",
       "      <td>0.000000</td>\n",
       "      <td>0.000000</td>\n",
       "      <td>0.000000</td>\n",
       "      <td>0.000000</td>\n",
       "      <td>0.326316</td>\n",
       "    </tr>\n",
       "    <tr>\n",
       "      <th>75%</th>\n",
       "      <td>0.000000</td>\n",
       "      <td>0.000000</td>\n",
       "      <td>0.000000</td>\n",
       "      <td>0.000000</td>\n",
       "      <td>0.000000</td>\n",
       "      <td>0.000000</td>\n",
       "      <td>0.000000</td>\n",
       "      <td>0.000000</td>\n",
       "      <td>0.000000</td>\n",
       "      <td>0.000000</td>\n",
       "      <td>0.642105</td>\n",
       "    </tr>\n",
       "    <tr>\n",
       "      <th>max</th>\n",
       "      <td>1.000000</td>\n",
       "      <td>1.000000</td>\n",
       "      <td>1.000000</td>\n",
       "      <td>1.000000</td>\n",
       "      <td>1.000000</td>\n",
       "      <td>1.000000</td>\n",
       "      <td>1.000000</td>\n",
       "      <td>1.000000</td>\n",
       "      <td>1.000000</td>\n",
       "      <td>1.000000</td>\n",
       "      <td>1.000000</td>\n",
       "    </tr>\n",
       "  </tbody>\n",
       "</table>\n",
       "</div>"
      ],
      "text/plain": [
       "               0           1           2           3           4           5   \\\n",
       "count  196.000000  196.000000  196.000000  196.000000  196.000000  196.000000   \n",
       "mean     0.040816    0.122449    0.117347    0.091837    0.071429    0.086735   \n",
       "std      0.198371    0.328643    0.322657    0.289535    0.258199    0.282167   \n",
       "min      0.000000    0.000000    0.000000    0.000000    0.000000    0.000000   \n",
       "25%      0.000000    0.000000    0.000000    0.000000    0.000000    0.000000   \n",
       "50%      0.000000    0.000000    0.000000    0.000000    0.000000    0.000000   \n",
       "75%      0.000000    0.000000    0.000000    0.000000    0.000000    0.000000   \n",
       "max      1.000000    1.000000    1.000000    1.000000    1.000000    1.000000   \n",
       "\n",
       "               6           7           8           9           10  \n",
       "count  196.000000  196.000000  196.000000  196.000000  196.000000  \n",
       "mean     0.142857    0.117347    0.081633    0.127551    0.432868  \n",
       "std      0.350823    0.322657    0.274505    0.334443    0.293052  \n",
       "min      0.000000    0.000000    0.000000    0.000000    0.000000  \n",
       "25%      0.000000    0.000000    0.000000    0.000000    0.210526  \n",
       "50%      0.000000    0.000000    0.000000    0.000000    0.326316  \n",
       "75%      0.000000    0.000000    0.000000    0.000000    0.642105  \n",
       "max      1.000000    1.000000    1.000000    1.000000    1.000000  "
      ]
     },
     "execution_count": 31,
     "metadata": {},
     "output_type": "execute_result"
    }
   ],
   "source": [
    "clean_data.describe()"
   ]
  },
  {
   "cell_type": "code",
   "execution_count": 32,
   "id": "840afe41",
   "metadata": {},
   "outputs": [],
   "source": [
    "# Split data into train and test with Stratified sample technique\n",
    "X_train, X_test, Y_train, Y_test = train_test_split(clean_data, Y, test_size = 0.2, stratify = Y, random_state = 0)"
   ]
  },
  {
   "cell_type": "code",
   "execution_count": 33,
   "id": "ece0e307",
   "metadata": {},
   "outputs": [
    {
     "name": "stdout",
     "output_type": "stream",
     "text": [
      "Low_Income     0.598726\n",
      "High_Income    0.394904\n",
      "Name: Y, dtype: float64\n",
      "\n",
      "\n",
      "Low_Income     0.615385\n",
      "High_Income    0.410256\n",
      "Name: Y, dtype: float64\n"
     ]
    }
   ],
   "source": [
    "# Proportion of Target variable categories are consistent across train and test\n",
    "\n",
    "print(Y_train.value_counts()/ 157)\n",
    "print(\"\\n\")\n",
    "print(Y_test.value_counts()/ 39)"
   ]
  },
  {
   "cell_type": "code",
   "execution_count": 34,
   "id": "cb3f9f07",
   "metadata": {},
   "outputs": [
    {
     "data": {
      "text/plain": [
       "Low_Income     94\n",
       "High_Income    62\n",
       "Name: Y, dtype: int64"
      ]
     },
     "execution_count": 34,
     "metadata": {},
     "output_type": "execute_result"
    }
   ],
   "source": [
    "Y_train.value_counts()"
   ]
  },
  {
   "cell_type": "code",
   "execution_count": 35,
   "id": "cf3f4ff7",
   "metadata": {},
   "outputs": [
    {
     "data": {
      "text/plain": [
       "Index(['Position of the employee', 'no of Years of Experience of employee',\n",
       "       ' monthly income of employee', 'Y'],\n",
       "      dtype='object')"
      ]
     },
     "execution_count": 35,
     "metadata": {},
     "output_type": "execute_result"
    }
   ],
   "source": [
    "HR_data.columns"
   ]
  },
  {
   "cell_type": "markdown",
   "id": "f80a7d93",
   "metadata": {},
   "source": [
    "## Decision Tree Model"
   ]
  },
  {
   "cell_type": "code",
   "execution_count": 36,
   "id": "73512dfb",
   "metadata": {},
   "outputs": [
    {
     "data": {
      "text/plain": [
       "DecisionTreeClassifier(criterion='entropy')"
      ]
     },
     "execution_count": 36,
     "metadata": {},
     "output_type": "execute_result"
    }
   ],
   "source": [
    "model = DT(criterion = 'entropy')\n",
    "model.fit(X_train, Y_train)"
   ]
  },
  {
   "cell_type": "code",
   "execution_count": 37,
   "id": "41c027a1",
   "metadata": {},
   "outputs": [
    {
     "data": {
      "text/plain": [
       "array(['Low_Income', 'High_Income', 'High_Income', 'Low_Income',\n",
       "       'High_Income', 'Low_Income', 'Low_Income', 'High_Income',\n",
       "       'Low_Income', 'Low_Income', 'Low_Income', 'High_Income',\n",
       "       'Low_Income', 'High_Income', 'Low_Income', 'High_Income',\n",
       "       'Low_Income', 'Low_Income', 'Low_Income', 'High_Income',\n",
       "       'Low_Income', 'High_Income', 'Low_Income', 'Low_Income',\n",
       "       'Low_Income', 'High_Income', 'High_Income', 'Low_Income',\n",
       "       'Low_Income', 'Low_Income', 'High_Income', 'High_Income',\n",
       "       'High_Income', 'Low_Income', 'Low_Income', 'Low_Income',\n",
       "       'High_Income', 'High_Income', 'Low_Income', 'Low_Income'],\n",
       "      dtype=object)"
      ]
     },
     "execution_count": 37,
     "metadata": {},
     "output_type": "execute_result"
    }
   ],
   "source": [
    "# Prediction on Test Data\n",
    "preds = model.predict(X_test)\n",
    "preds"
   ]
  },
  {
   "cell_type": "code",
   "execution_count": 38,
   "id": "a24cecf8",
   "metadata": {},
   "outputs": [
    {
     "name": "stdout",
     "output_type": "stream",
     "text": [
      "1.0\n"
     ]
    }
   ],
   "source": [
    "# Accuracy\n",
    "\n",
    "print(accuracy_score(Y_test, preds))"
   ]
  },
  {
   "cell_type": "code",
   "execution_count": 39,
   "id": "ac26fa44",
   "metadata": {},
   "outputs": [
    {
     "data": {
      "text/html": [
       "<div>\n",
       "<style scoped>\n",
       "    .dataframe tbody tr th:only-of-type {\n",
       "        vertical-align: middle;\n",
       "    }\n",
       "\n",
       "    .dataframe tbody tr th {\n",
       "        vertical-align: top;\n",
       "    }\n",
       "\n",
       "    .dataframe thead th {\n",
       "        text-align: right;\n",
       "    }\n",
       "</style>\n",
       "<table border=\"1\" class=\"dataframe\">\n",
       "  <thead>\n",
       "    <tr style=\"text-align: right;\">\n",
       "      <th>Predictions</th>\n",
       "      <th>High_Income</th>\n",
       "      <th>Low_Income</th>\n",
       "    </tr>\n",
       "    <tr>\n",
       "      <th>Actual</th>\n",
       "      <th></th>\n",
       "      <th></th>\n",
       "    </tr>\n",
       "  </thead>\n",
       "  <tbody>\n",
       "    <tr>\n",
       "      <th>Low_Income</th>\n",
       "      <td>0</td>\n",
       "      <td>24</td>\n",
       "    </tr>\n",
       "    <tr>\n",
       "      <th>High_Income</th>\n",
       "      <td>16</td>\n",
       "      <td>0</td>\n",
       "    </tr>\n",
       "  </tbody>\n",
       "</table>\n",
       "</div>"
      ],
      "text/plain": [
       "Predictions  High_Income  Low_Income\n",
       "Actual                              \n",
       "Low_Income             0          24\n",
       "High_Income           16           0"
      ]
     },
     "execution_count": 39,
     "metadata": {},
     "output_type": "execute_result"
    }
   ],
   "source": [
    "pd.crosstab(Y_test, preds, rownames = ['Actual'], colnames= ['Predictions'])"
   ]
  },
  {
   "cell_type": "code",
   "execution_count": 40,
   "id": "aaee4362",
   "metadata": {},
   "outputs": [
    {
     "data": {
      "text/plain": [
       "[Text(0.5, 1.0, 'Sales Classification Confusion Matrix(Train)'),\n",
       " Text(0.5, 0, 'Predicted Value'),\n",
       " Text(0, 0.5, 'Actual Value')]"
      ]
     },
     "execution_count": 40,
     "metadata": {},
     "output_type": "execute_result"
    },
    {
     "data": {
      "image/png": "[encoded data removed]",
      "text/plain": [
       "<Figure size 640x480 with 2 Axes>"
      ]
     },
     "metadata": {},
     "output_type": "display_data"
    }
   ],
   "source": [
    "# Confusion Matrix - Heat Map\n",
    "cm = skmet.confusion_matrix(Y_test, preds)\n",
    "cmplot = skmet.ConfusionMatrixDisplay(confusion_matrix = cm, display_labels = ['High_Income', 'Low_Income'])\n",
    "cmplot.plot()\n",
    "cmplot.ax_.set(title = 'Sales Classification Confusion Matrix(Train)', \n",
    "               xlabel = 'Predicted Value', ylabel = 'Actual Value')"
   ]
  },
  {
   "cell_type": "markdown",
   "id": "c73b9af9",
   "metadata": {},
   "source": [
    "## Hyperparameter Optimization"
   ]
  },
  {
   "cell_type": "code",
   "execution_count": 41,
   "id": "c1e21a10",
   "metadata": {},
   "outputs": [],
   "source": [
    "# create a dictionary of all hyperparameters to be experimented\n",
    "param_grid = {'criterion':['gini', 'entropy'], 'max_depth': np.arange(3, 15)}\n",
    "\n",
    "# Decision tree model\n",
    "dtree_model = DT()\n",
    "\n",
    "# GridsearchCV with cross-validation to perform experiments with parameters set\n",
    "dtree_gscv = GridSearchCV(dtree_model, param_grid, cv = 5, scoring = 'accuracy', return_train_score = False, verbose = 1 )"
   ]
  },
  {
   "cell_type": "code",
   "execution_count": 42,
   "id": "aa8d9f92",
   "metadata": {},
   "outputs": [
    {
     "name": "stdout",
     "output_type": "stream",
     "text": [
      "Fitting 5 folds for each of 24 candidates, totalling 120 fits\n"
     ]
    },
    {
     "data": {
      "text/plain": [
       "GridSearchCV(cv=5, estimator=DecisionTreeClassifier(),\n",
       "             param_grid={'criterion': ['gini', 'entropy'],\n",
       "                         'max_depth': array([ 3,  4,  5,  6,  7,  8,  9, 10, 11, 12, 13, 14])},\n",
       "             scoring='accuracy', verbose=1)"
      ]
     },
     "execution_count": 42,
     "metadata": {},
     "output_type": "execute_result"
    }
   ],
   "source": [
    "# Train\n",
    "dtree_gscv.fit(clean_data, Y)"
   ]
  },
  {
   "cell_type": "code",
   "execution_count": 43,
   "id": "967e737a",
   "metadata": {},
   "outputs": [
    {
     "data": {
      "text/plain": [
       "{'criterion': 'gini', 'max_depth': 3}"
      ]
     },
     "execution_count": 43,
     "metadata": {},
     "output_type": "execute_result"
    }
   ],
   "source": [
    "# The best set of parameter values\n",
    "dtree_gscv.best_params_"
   ]
  },
  {
   "cell_type": "code",
   "execution_count": 44,
   "id": "b314fc43",
   "metadata": {},
   "outputs": [],
   "source": [
    "# Model with best parameter values\n",
    "DT_best = dtree_gscv.best_estimator_"
   ]
  },
  {
   "cell_type": "code",
   "execution_count": 45,
   "id": "c8ae9dc2",
   "metadata": {},
   "outputs": [
    {
     "data": {
      "text/plain": [
       "DecisionTreeClassifier(max_depth=3)"
      ]
     },
     "execution_count": 45,
     "metadata": {},
     "output_type": "execute_result"
    }
   ],
   "source": [
    "DT_best"
   ]
  },
  {
   "cell_type": "code",
   "execution_count": 46,
   "id": "21dc61f8",
   "metadata": {},
   "outputs": [
    {
     "data": {
      "text/plain": [
       "array(['Low_Income', 'High_Income', 'High_Income', 'Low_Income',\n",
       "       'High_Income', 'Low_Income', 'Low_Income', 'High_Income',\n",
       "       'Low_Income', 'Low_Income', 'Low_Income', 'High_Income',\n",
       "       'Low_Income', 'High_Income', 'Low_Income', 'High_Income',\n",
       "       'Low_Income', 'Low_Income', 'Low_Income', 'High_Income',\n",
       "       'Low_Income', 'High_Income', 'Low_Income', 'Low_Income',\n",
       "       'Low_Income', 'High_Income', 'High_Income', 'Low_Income',\n",
       "       'Low_Income', 'Low_Income', 'High_Income', 'High_Income',\n",
       "       'High_Income', 'Low_Income', 'Low_Income', 'Low_Income',\n",
       "       'High_Income', 'High_Income', 'Low_Income', 'Low_Income'],\n",
       "      dtype=object)"
      ]
     },
     "execution_count": 46,
     "metadata": {},
     "output_type": "execute_result"
    }
   ],
   "source": [
    "# Prediction on Test Data\n",
    "preds1 = DT_best.predict(X_test)\n",
    "preds1"
   ]
  },
  {
   "cell_type": "code",
   "execution_count": 47,
   "id": "fdb566c7",
   "metadata": {},
   "outputs": [
    {
     "data": {
      "text/html": [
       "<div>\n",
       "<style scoped>\n",
       "    .dataframe tbody tr th:only-of-type {\n",
       "        vertical-align: middle;\n",
       "    }\n",
       "\n",
       "    .dataframe tbody tr th {\n",
       "        vertical-align: top;\n",
       "    }\n",
       "\n",
       "    .dataframe thead th {\n",
       "        text-align: right;\n",
       "    }\n",
       "</style>\n",
       "<table border=\"1\" class=\"dataframe\">\n",
       "  <thead>\n",
       "    <tr style=\"text-align: right;\">\n",
       "      <th>Predictions</th>\n",
       "      <th>High_Income</th>\n",
       "      <th>Low_Income</th>\n",
       "    </tr>\n",
       "    <tr>\n",
       "      <th>Actual</th>\n",
       "      <th></th>\n",
       "      <th></th>\n",
       "    </tr>\n",
       "  </thead>\n",
       "  <tbody>\n",
       "    <tr>\n",
       "      <th>Low_Income</th>\n",
       "      <td>0</td>\n",
       "      <td>24</td>\n",
       "    </tr>\n",
       "    <tr>\n",
       "      <th>High_Income</th>\n",
       "      <td>16</td>\n",
       "      <td>0</td>\n",
       "    </tr>\n",
       "  </tbody>\n",
       "</table>\n",
       "</div>"
      ],
      "text/plain": [
       "Predictions  High_Income  Low_Income\n",
       "Actual                              \n",
       "Low_Income             0          24\n",
       "High_Income           16           0"
      ]
     },
     "execution_count": 47,
     "metadata": {},
     "output_type": "execute_result"
    }
   ],
   "source": [
    "pd.crosstab(Y_test, preds1, rownames = ['Actual'], colnames= ['Predictions']) "
   ]
  },
  {
   "cell_type": "code",
   "execution_count": 48,
   "id": "ae899644",
   "metadata": {},
   "outputs": [
    {
     "name": "stdout",
     "output_type": "stream",
     "text": [
      "1.0\n"
     ]
    }
   ],
   "source": [
    "# Accuracy\n",
    "print(accuracy_score(Y_test, preds1))"
   ]
  },
  {
   "cell_type": "code",
   "execution_count": 49,
   "id": "29ba6d4e",
   "metadata": {},
   "outputs": [
    {
     "data": {
      "text/plain": [
       "[Text(0.5, 1.0, 'Sales Classification Confusion Matrix(Train)'),\n",
       " Text(0.5, 0, 'Predicted Value'),\n",
       " Text(0, 0.5, 'Actual Value')]"
      ]
     },
     "execution_count": 49,
     "metadata": {},
     "output_type": "execute_result"
    },
    {
     "data": {
      "image/png": "[encoded data removed]",
      "text/plain": [
       "<Figure size 640x480 with 2 Axes>"
      ]
     },
     "metadata": {},
     "output_type": "display_data"
    }
   ],
   "source": [
    "# Confusion Matrix - Heat Map\n",
    "cm = skmet.confusion_matrix(Y_test, preds1)\n",
    "cmplot = skmet.ConfusionMatrixDisplay(confusion_matrix = cm, display_labels = ['High_Income', 'Low_Income'])\n",
    "cmplot.plot()\n",
    "cmplot.ax_.set(title = 'Sales Classification Confusion Matrix(Train)', \n",
    "               xlabel = 'Predicted Value', ylabel = 'Actual Value')"
   ]
  },
  {
   "cell_type": "code",
   "execution_count": 50,
   "id": "38e69515",
   "metadata": {},
   "outputs": [],
   "source": [
    "import os\n",
    "import graphviz\n",
    "from sklearn import tree\n",
    "from sklearn.tree import export_graphviz"
   ]
  },
  {
   "cell_type": "code",
   "execution_count": 51,
   "id": "bcbe646b",
   "metadata": {},
   "outputs": [
    {
     "data": {
      "text/plain": [
       "list"
      ]
     },
     "execution_count": 51,
     "metadata": {},
     "output_type": "execute_result"
    }
   ],
   "source": [
    "predictors = list(clean_data.columns)\n",
    "type(predictors)"
   ]
  },
  {
   "cell_type": "code",
   "execution_count": 52,
   "id": "fe190393",
   "metadata": {},
   "outputs": [],
   "source": [
    "dot_data = tree.export_graphviz(DT_best, filled = True, \n",
    "                                rounded = True,\n",
    "                                feature_names = predictors,\n",
    "                                #class_names = ['Default', \"Not Default\"],\n",
    "                                out_file = None)"
   ]
  },
  {
   "cell_type": "code",
   "execution_count": 53,
   "id": "9ed3c271",
   "metadata": {},
   "outputs": [
    {
     "data": {
      "image/svg+xml": [
       "<?xml version=\"1.0\" encoding=\"UTF-8\" standalone=\"no\"?>\n",
       "<!DOCTYPE svg PUBLIC \"-//W3C//DTD SVG 1.1//EN\"\n",
       " \"http://www.w3.org/Graphics/SVG/1.1/DTD/svg11.dtd\">\n",
       "<!-- Generated by graphviz version 7.1.0 (20230121.1956)\n",
       " -->\n",
       "<!-- Title: Tree Pages: 1 -->\n",
       "<svg width=\"244pt\" height=\"165pt\"\n",
       " viewBox=\"0.00 0.00 244.00 165.00\" xmlns=\"http://www.w3.org/2000/svg\" xmlns:xlink=\"http://www.w3.org/1999/xlink\">\n",
       "<g id=\"graph0\" class=\"graph\" transform=\"scale(1 1) rotate(0) translate(4 161)\">\n",
       "<title>Tree</title>\n",
       "<polygon fill=\"white\" stroke=\"none\" points=\"-4,4 -4,-161 240,-161 240,4 -4,4\"/>\n",
       "<!-- 0 -->\n",
       "<g id=\"node1\" class=\"node\">\n",
       "<title>0</title>\n",
       "<path fill=\"#bcdef6\" stroke=\"black\" d=\"M168.5,-157C168.5,-157 70.5,-157 70.5,-157 64.5,-157 58.5,-151 58.5,-145 58.5,-145 58.5,-101 58.5,-101 58.5,-95 64.5,-89 70.5,-89 70.5,-89 168.5,-89 168.5,-89 174.5,-89 180.5,-95 180.5,-101 180.5,-101 180.5,-145 180.5,-145 180.5,-151 174.5,-157 168.5,-157\"/>\n",
       "<text text-anchor=\"middle\" x=\"119.5\" y=\"-141.8\" font-family=\"Helvetica,sans-Serif\" font-size=\"14.00\">10 &lt;= 0.442</text>\n",
       "<text text-anchor=\"middle\" x=\"119.5\" y=\"-126.8\" font-family=\"Helvetica,sans-Serif\" font-size=\"14.00\">gini = 0.479</text>\n",
       "<text text-anchor=\"middle\" x=\"119.5\" y=\"-111.8\" font-family=\"Helvetica,sans-Serif\" font-size=\"14.00\">samples = 196</text>\n",
       "<text text-anchor=\"middle\" x=\"119.5\" y=\"-96.8\" font-family=\"Helvetica,sans-Serif\" font-size=\"14.00\">value = [78, 118]</text>\n",
       "</g>\n",
       "<!-- 1 -->\n",
       "<g id=\"node2\" class=\"node\">\n",
       "<title>1</title>\n",
       "<path fill=\"#399de5\" stroke=\"black\" d=\"M101,-53C101,-53 12,-53 12,-53 6,-53 0,-47 0,-41 0,-41 0,-12 0,-12 0,-6 6,0 12,0 12,0 101,0 101,0 107,0 113,-6 113,-12 113,-12 113,-41 113,-41 113,-47 107,-53 101,-53\"/>\n",
       "<text text-anchor=\"middle\" x=\"56.5\" y=\"-37.8\" font-family=\"Helvetica,sans-Serif\" font-size=\"14.00\">gini = 0.0</text>\n",
       "<text text-anchor=\"middle\" x=\"56.5\" y=\"-22.8\" font-family=\"Helvetica,sans-Serif\" font-size=\"14.00\">samples = 118</text>\n",
       "<text text-anchor=\"middle\" x=\"56.5\" y=\"-7.8\" font-family=\"Helvetica,sans-Serif\" font-size=\"14.00\">value = [0, 118]</text>\n",
       "</g>\n",
       "<!-- 0&#45;&gt;1 -->\n",
       "<g id=\"edge1\" class=\"edge\">\n",
       "<title>0&#45;&gt;1</title>\n",
       "<path fill=\"none\" stroke=\"black\" d=\"M97.29,-88.68C91.74,-80.36 85.76,-71.4 80.15,-62.97\"/>\n",
       "<polygon fill=\"black\" stroke=\"black\" points=\"83.06,-61.03 74.6,-54.65 77.24,-64.92 83.06,-61.03\"/>\n",
       "<text text-anchor=\"middle\" x=\"68.86\" y=\"-74.21\" font-family=\"Helvetica,sans-Serif\" font-size=\"14.00\">True</text>\n",
       "</g>\n",
       "<!-- 2 -->\n",
       "<g id=\"node3\" class=\"node\">\n",
       "<title>2</title>\n",
       "<path fill=\"#e58139\" stroke=\"black\" d=\"M224,-53C224,-53 143,-53 143,-53 137,-53 131,-47 131,-41 131,-41 131,-12 131,-12 131,-6 137,0 143,0 143,0 224,0 224,0 230,0 236,-6 236,-12 236,-12 236,-41 236,-41 236,-47 230,-53 224,-53\"/>\n",
       "<text text-anchor=\"middle\" x=\"183.5\" y=\"-37.8\" font-family=\"Helvetica,sans-Serif\" font-size=\"14.00\">gini = 0.0</text>\n",
       "<text text-anchor=\"middle\" x=\"183.5\" y=\"-22.8\" font-family=\"Helvetica,sans-Serif\" font-size=\"14.00\">samples = 78</text>\n",
       "<text text-anchor=\"middle\" x=\"183.5\" y=\"-7.8\" font-family=\"Helvetica,sans-Serif\" font-size=\"14.00\">value = [78, 0]</text>\n",
       "</g>\n",
       "<!-- 0&#45;&gt;2 -->\n",
       "<g id=\"edge2\" class=\"edge\">\n",
       "<title>0&#45;&gt;2</title>\n",
       "<path fill=\"none\" stroke=\"black\" d=\"M142.06,-88.68C147.76,-80.27 153.9,-71.2 159.66,-62.7\"/>\n",
       "<polygon fill=\"black\" stroke=\"black\" points=\"162.41,-64.89 165.11,-54.65 156.61,-60.96 162.41,-64.89\"/>\n",
       "<text text-anchor=\"middle\" x=\"170.69\" y=\"-74.24\" font-family=\"Helvetica,sans-Serif\" font-size=\"14.00\">False</text>\n",
       "</g>\n",
       "</g>\n",
       "</svg>\n"
      ],
      "text/plain": [
       "<graphviz.sources.Source at 0x22f4f0cf508>"
      ]
     },
     "execution_count": 53,
     "metadata": {},
     "output_type": "execute_result"
    }
   ],
   "source": [
    "graph = graphviz.Source(dot_data)\n",
    "graph"
   ]
  },
  {
   "cell_type": "code",
   "execution_count": 54,
   "id": "9a18a748",
   "metadata": {},
   "outputs": [
    {
     "data": {
      "text/plain": [
       "array(['High_Income', 'High_Income', 'High_Income', 'Low_Income',\n",
       "       'Low_Income', 'Low_Income', 'Low_Income', 'Low_Income',\n",
       "       'High_Income', 'Low_Income', 'Low_Income', 'Low_Income',\n",
       "       'Low_Income', 'Low_Income', 'Low_Income', 'Low_Income',\n",
       "       'High_Income', 'Low_Income', 'High_Income', 'Low_Income',\n",
       "       'High_Income', 'Low_Income', 'Low_Income', 'Low_Income',\n",
       "       'High_Income', 'Low_Income', 'Low_Income', 'Low_Income',\n",
       "       'High_Income', 'Low_Income', 'High_Income', 'High_Income',\n",
       "       'High_Income', 'High_Income', 'Low_Income', 'Low_Income',\n",
       "       'Low_Income', 'Low_Income', 'High_Income', 'Low_Income',\n",
       "       'High_Income', 'High_Income', 'High_Income', 'High_Income',\n",
       "       'High_Income', 'Low_Income', 'High_Income', 'Low_Income',\n",
       "       'Low_Income', 'Low_Income', 'Low_Income', 'Low_Income',\n",
       "       'High_Income', 'Low_Income', 'Low_Income', 'Low_Income',\n",
       "       'High_Income', 'High_Income', 'Low_Income', 'Low_Income',\n",
       "       'High_Income', 'Low_Income', 'Low_Income', 'Low_Income',\n",
       "       'High_Income', 'High_Income', 'Low_Income', 'Low_Income',\n",
       "       'High_Income', 'Low_Income', 'Low_Income', 'Low_Income',\n",
       "       'Low_Income', 'Low_Income', 'Low_Income', 'High_Income',\n",
       "       'Low_Income', 'Low_Income', 'Low_Income', 'Low_Income',\n",
       "       'Low_Income', 'High_Income', 'Low_Income', 'Low_Income',\n",
       "       'Low_Income', 'High_Income', 'High_Income', 'Low_Income',\n",
       "       'Low_Income', 'High_Income', 'Low_Income', 'Low_Income',\n",
       "       'High_Income', 'High_Income', 'Low_Income', 'High_Income',\n",
       "       'Low_Income', 'Low_Income', 'Low_Income', 'High_Income',\n",
       "       'Low_Income', 'High_Income', 'Low_Income', 'Low_Income',\n",
       "       'Low_Income', 'Low_Income', 'Low_Income', 'Low_Income',\n",
       "       'High_Income', 'High_Income', 'Low_Income', 'High_Income',\n",
       "       'High_Income', 'Low_Income', 'Low_Income', 'High_Income',\n",
       "       'Low_Income', 'Low_Income', 'Low_Income', 'High_Income',\n",
       "       'Low_Income', 'Low_Income', 'High_Income', 'Low_Income',\n",
       "       'High_Income', 'High_Income', 'High_Income', 'Low_Income',\n",
       "       'Low_Income', 'High_Income', 'High_Income', 'Low_Income',\n",
       "       'High_Income', 'Low_Income', 'Low_Income', 'High_Income',\n",
       "       'High_Income', 'High_Income', 'High_Income', 'High_Income',\n",
       "       'Low_Income', 'Low_Income', 'Low_Income', 'Low_Income',\n",
       "       'High_Income', 'High_Income', 'High_Income', 'High_Income',\n",
       "       'High_Income', 'Low_Income', 'High_Income', 'Low_Income',\n",
       "       'High_Income', 'Low_Income', 'Low_Income', 'Low_Income'],\n",
       "      dtype=object)"
      ]
     },
     "execution_count": 54,
     "metadata": {},
     "output_type": "execute_result"
    }
   ],
   "source": [
    "# Prediction on Train Data\n",
    "\n",
    "preds_train = DT_best.predict(X_train)\n",
    "preds_train"
   ]
  },
  {
   "cell_type": "code",
   "execution_count": 55,
   "id": "5058c0cb",
   "metadata": {},
   "outputs": [
    {
     "data": {
      "text/html": [
       "<div>\n",
       "<style scoped>\n",
       "    .dataframe tbody tr th:only-of-type {\n",
       "        vertical-align: middle;\n",
       "    }\n",
       "\n",
       "    .dataframe tbody tr th {\n",
       "        vertical-align: top;\n",
       "    }\n",
       "\n",
       "    .dataframe thead th {\n",
       "        text-align: right;\n",
       "    }\n",
       "</style>\n",
       "<table border=\"1\" class=\"dataframe\">\n",
       "  <thead>\n",
       "    <tr style=\"text-align: right;\">\n",
       "      <th>Predictions</th>\n",
       "      <th>High_Income</th>\n",
       "      <th>Low_Income</th>\n",
       "    </tr>\n",
       "    <tr>\n",
       "      <th>Actual</th>\n",
       "      <th></th>\n",
       "      <th></th>\n",
       "    </tr>\n",
       "  </thead>\n",
       "  <tbody>\n",
       "    <tr>\n",
       "      <th>Low_Income</th>\n",
       "      <td>0</td>\n",
       "      <td>94</td>\n",
       "    </tr>\n",
       "    <tr>\n",
       "      <th>High_Income</th>\n",
       "      <td>62</td>\n",
       "      <td>0</td>\n",
       "    </tr>\n",
       "  </tbody>\n",
       "</table>\n",
       "</div>"
      ],
      "text/plain": [
       "Predictions  High_Income  Low_Income\n",
       "Actual                              \n",
       "Low_Income             0          94\n",
       "High_Income           62           0"
      ]
     },
     "execution_count": 55,
     "metadata": {},
     "output_type": "execute_result"
    }
   ],
   "source": [
    "# Confusion Matrix\n",
    "pd.crosstab(Y_train, preds_train, rownames = ['Actual'], colnames = ['Predictions']) "
   ]
  },
  {
   "cell_type": "code",
   "execution_count": 56,
   "id": "c35b8f5e",
   "metadata": {},
   "outputs": [
    {
     "name": "stdout",
     "output_type": "stream",
     "text": [
      "1.0\n"
     ]
    }
   ],
   "source": [
    "# Accuracy\n",
    "print(accuracy_score(Y_train, preds_train))"
   ]
  },
  {
   "cell_type": "code",
   "execution_count": 57,
   "id": "504a3eec",
   "metadata": {},
   "outputs": [
    {
     "data": {
      "text/plain": [
       "[Text(0.5, 1.0, 'Sales Classification Confusion Matrix(Train)'),\n",
       " Text(0.5, 0, 'Predicted Value'),\n",
       " Text(0, 0.5, 'Actual Value')]"
      ]
     },
     "execution_count": 57,
     "metadata": {},
     "output_type": "execute_result"
    },
    {
     "data": {
      "image/png": "[encoded data removed]",
      "text/plain": [
       "<Figure size 640x480 with 2 Axes>"
      ]
     },
     "metadata": {},
     "output_type": "display_data"
    }
   ],
   "source": [
    "# Confusion Matrix - Heat Map\n",
    "cm = skmet.confusion_matrix(Y_train, preds_train)\n",
    "cmplot = skmet.ConfusionMatrixDisplay(confusion_matrix = cm, display_labels = ['High_Income', 'Low_Income'])\n",
    "cmplot.plot()\n",
    "cmplot.ax_.set(title = 'Sales Classification Confusion Matrix(Train)', \n",
    "               xlabel = 'Predicted Value', ylabel = 'Actual Value')"
   ]
  },
  {
   "cell_type": "markdown",
   "id": "d3f23bd0",
   "metadata": {},
   "source": [
    "## Model Training with Cross Validation"
   ]
  },
  {
   "cell_type": "code",
   "execution_count": 58,
   "id": "1979e9a4",
   "metadata": {},
   "outputs": [],
   "source": [
    "\n",
    "from sklearn.model_selection import cross_validate\n",
    "\n",
    "\n",
    "def cross_validation(model, _X, _y, _cv=5):\n",
    "    \n",
    "    '''Function to perform 5 Folds Cross-Validation\n",
    "    Parameters\n",
    "    ----------\n",
    "    model: Python Class, default=None\n",
    "          This is the machine learning algorithm to be used for training.\n",
    "    _X: array\n",
    "       This is the matrix of features.\n",
    "    _y: array\n",
    "       This is the target variable.\n",
    "    _cv: int, default=5\n",
    "      Determines the number of folds for cross-validation.\n",
    "    Returns\n",
    "    -------\n",
    "    The function returns a dictionary containing the metrics 'accuracy', 'precision',\n",
    "    'recall', 'f1' for both training set and validation set.\n",
    "    '''\n",
    "    _scoring = ['accuracy', 'precision', 'recall', 'f1']\n",
    "    results = cross_validate(estimator=model,\n",
    "                           X=_X,\n",
    "                           y=_y,\n",
    "                           cv=_cv,\n",
    "                           scoring=_scoring,\n",
    "                           return_train_score=True)\n",
    "\n",
    "    return pd.DataFrame({\"Training Accuracy scores\": results['train_accuracy'],\n",
    "          \"Mean Training Accuracy\": results['train_accuracy'].mean()*100,\n",
    "          \"Training Precision scores\": results['train_precision'],\n",
    "          \"Mean Training Precision\": results['train_precision'].mean(),\n",
    "          \"Training Recall scores\": results['train_recall'],\n",
    "          \"Mean Training Recall\": results['train_recall'].mean(),\n",
    "          \"Training F1 scores\": results['train_f1'],\n",
    "          \"Mean Training F1 Score\": results['train_f1'].mean(),\n",
    "          \"Validation Accuracy scores\": results['test_accuracy'],\n",
    "          \"Mean Validation Accuracy\": results['test_accuracy'].mean()*100,\n",
    "          \"Validation Precision scores\": results['test_precision'],\n",
    "          \"Mean Validation Precision\": results['test_precision'].mean(),\n",
    "          \"Validation Recall scores\": results['test_recall'],\n",
    "          \"Mean Validation Recall\": results['test_recall'].mean(),\n",
    "          \"Validation F1 scores\": results['test_f1'],\n",
    "          \"Mean Validation F1 Score\": results['test_f1'].mean()\n",
    "          })\n",
    "from sklearn.model_selection import cross_validate"
   ]
  },
  {
   "cell_type": "code",
   "execution_count": 59,
   "id": "d6e69a95",
   "metadata": {},
   "outputs": [
    {
     "name": "stdout",
     "output_type": "stream",
     "text": [
      "Mapping of Label Encoded Classes\n",
      "{'High_Income': 0, 'Low_Income': 1}\n",
      "Label Encoded Target Variable\n",
      "[0 0 0 1 1 1 1 1 0 1 1 1 1 1 1 1 0 1 0 1 0 1 1 1 0 1 1 1 0 1 0 0 0 0 1 1 1\n",
      " 1 0 1 0 0 0 0 0 1 0 1 1 1 1 1 0 1 1 1 0 0 1 1 0 1 1 1 0 0 1 1 0 1 1 1 1 1\n",
      " 1 0 1 1 1 1 1 0 1 1 1 0 0 1 1 0 1 1 0 0 1 0 1 1 1 0 1 0 1 1 1 1 1 1 0 0 1\n",
      " 0 0 1 1 0 1 1 1 0 1 1 0 1 0 0 0 1 1 0 0 1 0 1 1 0 0 0 0 0 1 1 1 1 0 0 0 0\n",
      " 0 1 0 1 0 1 1 1]\n"
     ]
    }
   ],
   "source": [
    "from sklearn.preprocessing import LabelEncoder  # labelencoder is applied for target variable\n",
    "label_encoder = LabelEncoder()\n",
    "encoded_y = label_encoder.fit_transform(Y_train)\n",
    "\n",
    "label_encoder_name_mapping = dict(zip(label_encoder.classes_,\n",
    "                                         label_encoder.transform(label_encoder.classes_)))\n",
    "\n",
    "print(\"Mapping of Label Encoded Classes\", label_encoder_name_mapping, sep=\"\\n\")\n",
    "print(\"Label Encoded Target Variable\", encoded_y, sep=\"\\n\")"
   ]
  },
  {
   "cell_type": "code",
   "execution_count": 60,
   "id": "9f3a72c1",
   "metadata": {},
   "outputs": [
    {
     "data": {
      "text/html": [
       "<div>\n",
       "<style scoped>\n",
       "    .dataframe tbody tr th:only-of-type {\n",
       "        vertical-align: middle;\n",
       "    }\n",
       "\n",
       "    .dataframe tbody tr th {\n",
       "        vertical-align: top;\n",
       "    }\n",
       "\n",
       "    .dataframe thead th {\n",
       "        text-align: right;\n",
       "    }\n",
       "</style>\n",
       "<table border=\"1\" class=\"dataframe\">\n",
       "  <thead>\n",
       "    <tr style=\"text-align: right;\">\n",
       "      <th></th>\n",
       "      <th>Training Accuracy scores</th>\n",
       "      <th>Mean Training Accuracy</th>\n",
       "      <th>Training Precision scores</th>\n",
       "      <th>Mean Training Precision</th>\n",
       "      <th>Training Recall scores</th>\n",
       "      <th>Mean Training Recall</th>\n",
       "      <th>Training F1 scores</th>\n",
       "      <th>Mean Training F1 Score</th>\n",
       "      <th>Validation Accuracy scores</th>\n",
       "      <th>Mean Validation Accuracy</th>\n",
       "      <th>Validation Precision scores</th>\n",
       "      <th>Mean Validation Precision</th>\n",
       "      <th>Validation Recall scores</th>\n",
       "      <th>Mean Validation Recall</th>\n",
       "      <th>Validation F1 scores</th>\n",
       "      <th>Mean Validation F1 Score</th>\n",
       "    </tr>\n",
       "  </thead>\n",
       "  <tbody>\n",
       "    <tr>\n",
       "      <th>0</th>\n",
       "      <td>1.0</td>\n",
       "      <td>100.0</td>\n",
       "      <td>1.0</td>\n",
       "      <td>1.0</td>\n",
       "      <td>1.0</td>\n",
       "      <td>1.0</td>\n",
       "      <td>1.0</td>\n",
       "      <td>1.0</td>\n",
       "      <td>1.0</td>\n",
       "      <td>100.0</td>\n",
       "      <td>1.0</td>\n",
       "      <td>1.0</td>\n",
       "      <td>1.0</td>\n",
       "      <td>1.0</td>\n",
       "      <td>1.0</td>\n",
       "      <td>1.0</td>\n",
       "    </tr>\n",
       "    <tr>\n",
       "      <th>1</th>\n",
       "      <td>1.0</td>\n",
       "      <td>100.0</td>\n",
       "      <td>1.0</td>\n",
       "      <td>1.0</td>\n",
       "      <td>1.0</td>\n",
       "      <td>1.0</td>\n",
       "      <td>1.0</td>\n",
       "      <td>1.0</td>\n",
       "      <td>1.0</td>\n",
       "      <td>100.0</td>\n",
       "      <td>1.0</td>\n",
       "      <td>1.0</td>\n",
       "      <td>1.0</td>\n",
       "      <td>1.0</td>\n",
       "      <td>1.0</td>\n",
       "      <td>1.0</td>\n",
       "    </tr>\n",
       "    <tr>\n",
       "      <th>2</th>\n",
       "      <td>1.0</td>\n",
       "      <td>100.0</td>\n",
       "      <td>1.0</td>\n",
       "      <td>1.0</td>\n",
       "      <td>1.0</td>\n",
       "      <td>1.0</td>\n",
       "      <td>1.0</td>\n",
       "      <td>1.0</td>\n",
       "      <td>1.0</td>\n",
       "      <td>100.0</td>\n",
       "      <td>1.0</td>\n",
       "      <td>1.0</td>\n",
       "      <td>1.0</td>\n",
       "      <td>1.0</td>\n",
       "      <td>1.0</td>\n",
       "      <td>1.0</td>\n",
       "    </tr>\n",
       "    <tr>\n",
       "      <th>3</th>\n",
       "      <td>1.0</td>\n",
       "      <td>100.0</td>\n",
       "      <td>1.0</td>\n",
       "      <td>1.0</td>\n",
       "      <td>1.0</td>\n",
       "      <td>1.0</td>\n",
       "      <td>1.0</td>\n",
       "      <td>1.0</td>\n",
       "      <td>1.0</td>\n",
       "      <td>100.0</td>\n",
       "      <td>1.0</td>\n",
       "      <td>1.0</td>\n",
       "      <td>1.0</td>\n",
       "      <td>1.0</td>\n",
       "      <td>1.0</td>\n",
       "      <td>1.0</td>\n",
       "    </tr>\n",
       "    <tr>\n",
       "      <th>4</th>\n",
       "      <td>1.0</td>\n",
       "      <td>100.0</td>\n",
       "      <td>1.0</td>\n",
       "      <td>1.0</td>\n",
       "      <td>1.0</td>\n",
       "      <td>1.0</td>\n",
       "      <td>1.0</td>\n",
       "      <td>1.0</td>\n",
       "      <td>1.0</td>\n",
       "      <td>100.0</td>\n",
       "      <td>1.0</td>\n",
       "      <td>1.0</td>\n",
       "      <td>1.0</td>\n",
       "      <td>1.0</td>\n",
       "      <td>1.0</td>\n",
       "      <td>1.0</td>\n",
       "    </tr>\n",
       "  </tbody>\n",
       "</table>\n",
       "</div>"
      ],
      "text/plain": [
       "   Training Accuracy scores  Mean Training Accuracy  \\\n",
       "0                       1.0                   100.0   \n",
       "1                       1.0                   100.0   \n",
       "2                       1.0                   100.0   \n",
       "3                       1.0                   100.0   \n",
       "4                       1.0                   100.0   \n",
       "\n",
       "   Training Precision scores  Mean Training Precision  Training Recall scores  \\\n",
       "0                        1.0                      1.0                     1.0   \n",
       "1                        1.0                      1.0                     1.0   \n",
       "2                        1.0                      1.0                     1.0   \n",
       "3                        1.0                      1.0                     1.0   \n",
       "4                        1.0                      1.0                     1.0   \n",
       "\n",
       "   Mean Training Recall  Training F1 scores  Mean Training F1 Score  \\\n",
       "0                   1.0                 1.0                     1.0   \n",
       "1                   1.0                 1.0                     1.0   \n",
       "2                   1.0                 1.0                     1.0   \n",
       "3                   1.0                 1.0                     1.0   \n",
       "4                   1.0                 1.0                     1.0   \n",
       "\n",
       "   Validation Accuracy scores  Mean Validation Accuracy  \\\n",
       "0                         1.0                     100.0   \n",
       "1                         1.0                     100.0   \n",
       "2                         1.0                     100.0   \n",
       "3                         1.0                     100.0   \n",
       "4                         1.0                     100.0   \n",
       "\n",
       "   Validation Precision scores  Mean Validation Precision  \\\n",
       "0                          1.0                        1.0   \n",
       "1                          1.0                        1.0   \n",
       "2                          1.0                        1.0   \n",
       "3                          1.0                        1.0   \n",
       "4                          1.0                        1.0   \n",
       "\n",
       "   Validation Recall scores  Mean Validation Recall  Validation F1 scores  \\\n",
       "0                       1.0                     1.0                   1.0   \n",
       "1                       1.0                     1.0                   1.0   \n",
       "2                       1.0                     1.0                   1.0   \n",
       "3                       1.0                     1.0                   1.0   \n",
       "4                       1.0                     1.0                   1.0   \n",
       "\n",
       "   Mean Validation F1 Score  \n",
       "0                       1.0  \n",
       "1                       1.0  \n",
       "2                       1.0  \n",
       "3                       1.0  \n",
       "4                       1.0  "
      ]
     },
     "execution_count": 60,
     "metadata": {},
     "output_type": "execute_result"
    }
   ],
   "source": [
    "from sklearn.tree import DecisionTreeClassifier\n",
    "\n",
    "decision_tree_result = cross_validation(DT_best, X_train, encoded_y, 5)\n",
    "decision_tree_result"
   ]
  },
  {
   "cell_type": "code",
   "execution_count": 61,
   "id": "8e4b82a2",
   "metadata": {},
   "outputs": [],
   "source": [
    "def plot_result(x_label, y_label, plot_title, train_data, val_data):\n",
    "        '''Function to plot a grouped bar chart showing the training and validation\n",
    "          results of the ML model in each fold after applying K-fold cross-validation.\n",
    "         Parameters\n",
    "         ----------\n",
    "         x_label: str, \n",
    "            Name of the algorithm used for training e.g 'Decision Tree'\n",
    "          \n",
    "         y_label: str, \n",
    "            Name of metric being visualized e.g 'Accuracy'\n",
    "         plot_title: str, \n",
    "            This is the title of the plot e.g 'Accuracy Plot'\n",
    "         \n",
    "         train_result: list, array\n",
    "            This is the list containing either training precision, accuracy, or f1 score.\n",
    "        \n",
    "         val_result: list, array\n",
    "            This is the list containing either validation precision, accuracy, or f1 score.\n",
    "         Returns\n",
    "         -------\n",
    "         The function returns a Grouped Barchart showing the training and validation result\n",
    "         in each fold.\n",
    "        '''\n",
    "        \n",
    "        # Set size of plot\n",
    "        plt.figure(figsize=(12,6))\n",
    "        labels = [\"1st Fold\", \"2nd Fold\", \"3rd Fold\", \"4th Fold\", \"5th Fold\"]\n",
    "        X_axis = np.arange(len(labels))\n",
    "        ax = plt.gca()\n",
    "        plt.ylim(0.40000, 1)\n",
    "        plt.bar(X_axis-0.2, train_data, 0.4, color='blue', label='Training')\n",
    "        plt.bar(X_axis+0.2, val_data, 0.4, color='red', label='Validation')\n",
    "        plt.title(plot_title, fontsize=30)\n",
    "        plt.xticks(X_axis, labels)\n",
    "        plt.xlabel(x_label, fontsize=14)\n",
    "        plt.ylabel(y_label, fontsize=14)\n",
    "        plt.legend()\n",
    "        plt.grid(True)\n",
    "        plt.show()"
   ]
  },
  {
   "cell_type": "code",
   "execution_count": 62,
   "id": "b227a726",
   "metadata": {},
   "outputs": [
    {
     "data": {
      "image/png": "[encoded data removed]",
      "text/plain": [
       "<Figure size 1200x600 with 1 Axes>"
      ]
     },
     "metadata": {},
     "output_type": "display_data"
    }
   ],
   "source": [
    "model_name = \"Decision Tree\"\n",
    "plot_result(model_name,\n",
    "            \"Accuracy\",\n",
    "            \"Accuracy scores in 5 Folds\",\n",
    "            decision_tree_result[\"Training Accuracy scores\"],\n",
    "            decision_tree_result[\"Validation Accuracy scores\"])"
   ]
  },
  {
   "cell_type": "code",
   "execution_count": null,
   "id": "9aec58df",
   "metadata": {},
   "outputs": [],
   "source": []
  },
  {
   "cell_type": "markdown",
   "id": "8216b4c1",
   "metadata": {},
   "source": [
    "## Random Forest Classifier"
   ]
  },
  {
   "cell_type": "code",
   "execution_count": 63,
   "id": "a6098506",
   "metadata": {},
   "outputs": [],
   "source": [
    "# creating random forest classifier\n",
    "clf = RandomForestClassifier(n_estimators = 100)"
   ]
  },
  {
   "cell_type": "code",
   "execution_count": 64,
   "id": "5324d62b",
   "metadata": {},
   "outputs": [
    {
     "data": {
      "text/plain": [
       "RandomForestClassifier()"
      ]
     },
     "execution_count": 64,
     "metadata": {},
     "output_type": "execute_result"
    }
   ],
   "source": [
    "# Training the model on the training dataset\n",
    "clf.fit(X_train, Y_train)"
   ]
  },
  {
   "cell_type": "code",
   "execution_count": 65,
   "id": "f1ebfce9",
   "metadata": {},
   "outputs": [
    {
     "data": {
      "text/plain": [
       "array(['Low_Income', 'High_Income', 'High_Income', 'Low_Income',\n",
       "       'High_Income', 'Low_Income', 'Low_Income', 'High_Income',\n",
       "       'Low_Income', 'Low_Income', 'Low_Income', 'High_Income',\n",
       "       'Low_Income', 'High_Income', 'Low_Income', 'High_Income',\n",
       "       'Low_Income', 'Low_Income', 'Low_Income', 'High_Income',\n",
       "       'Low_Income', 'High_Income', 'Low_Income', 'Low_Income',\n",
       "       'Low_Income', 'High_Income', 'High_Income', 'Low_Income',\n",
       "       'Low_Income', 'Low_Income', 'High_Income', 'High_Income',\n",
       "       'High_Income', 'Low_Income', 'Low_Income', 'Low_Income',\n",
       "       'High_Income', 'High_Income', 'Low_Income', 'Low_Income'],\n",
       "      dtype=object)"
      ]
     },
     "execution_count": 65,
     "metadata": {},
     "output_type": "execute_result"
    }
   ],
   "source": [
    "# predictions on the test dataset\n",
    "y_pred = clf.predict(X_test)\n",
    "y_pred"
   ]
  },
  {
   "cell_type": "code",
   "execution_count": 66,
   "id": "58040c2c",
   "metadata": {},
   "outputs": [
    {
     "name": "stdout",
     "output_type": "stream",
     "text": [
      "1.0\n"
     ]
    }
   ],
   "source": [
    "print(accuracy_score(Y_test, y_pred))"
   ]
  },
  {
   "cell_type": "code",
   "execution_count": 67,
   "id": "3e78d702",
   "metadata": {},
   "outputs": [
    {
     "data": {
      "text/plain": [
       "[Text(0.5, 1.0, 'Sales Classification Confusion Matrix(Train)'),\n",
       " Text(0.5, 0, 'Predicted Value'),\n",
       " Text(0, 0.5, 'Actual Value')]"
      ]
     },
     "execution_count": 67,
     "metadata": {},
     "output_type": "execute_result"
    },
    {
     "data": {
      "image/png": "[encoded data removed]",
      "text/plain": [
       "<Figure size 640x480 with 2 Axes>"
      ]
     },
     "metadata": {},
     "output_type": "display_data"
    }
   ],
   "source": [
    "# Confusion Matrix - Heat Map\n",
    "cm = skmet.confusion_matrix(Y_test, y_pred)\n",
    "cmplot = skmet.ConfusionMatrixDisplay(confusion_matrix = cm, display_labels = ['High_Income', 'Low_Income'])\n",
    "cmplot.plot()\n",
    "cmplot.ax_.set(title = 'Sales Classification Confusion Matrix(Train)', \n",
    "               xlabel = 'Predicted Value', ylabel = 'Actual Value')"
   ]
  },
  {
   "cell_type": "code",
   "execution_count": null,
   "id": "ada8cc22",
   "metadata": {},
   "outputs": [],
   "source": []
  },
  {
   "cell_type": "code",
   "execution_count": null,
   "id": "a6609e1a",
   "metadata": {},
   "outputs": [],
   "source": []
  },
  {
   "cell_type": "code",
   "execution_count": null,
   "id": "faa2c3e4",
   "metadata": {},
   "outputs": [],
   "source": []
  },
  {
   "cell_type": "code",
   "execution_count": null,
   "id": "1f1e283b",
   "metadata": {},
   "outputs": [],
   "source": []
  },
  {
   "cell_type": "code",
   "execution_count": null,
   "id": "11a798c9",
   "metadata": {},
   "outputs": [],
   "source": []
  }
 ],
 "metadata": {
  "kernelspec": {
   "display_name": "Python 3 (ipykernel)",
   "language": "python",
   "name": "python3"
  },
  "language_info": {
   "codemirror_mode": {
    "name": "ipython",
    "version": 3
   },
   "file_extension": ".py",
   "mimetype": "text/x-python",
   "name": "python",
   "nbconvert_exporter": "python",
   "pygments_lexer": "ipython3",
   "version": "3.8.10"
  }
 },
 "nbformat": 4,
 "nbformat_minor": 5
}
