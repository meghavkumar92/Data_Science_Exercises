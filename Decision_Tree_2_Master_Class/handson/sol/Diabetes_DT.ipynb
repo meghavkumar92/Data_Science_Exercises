{
 "cells": [
  {
   "cell_type": "markdown",
   "id": "60e8be06",
   "metadata": {},
   "source": [
    "# Supervised Learning - Decision Tree and Random Forest Tree"
   ]
  },
  {
   "cell_type": "markdown",
   "id": "44ca373a",
   "metadata": {},
   "source": [
    "## Build a decision tree & random forest model with diabetes data and identify the factors affecting the outcome.  "
   ]
  },
  {
   "cell_type": "code",
   "execution_count": 1,
   "id": "d97cb13b",
   "metadata": {},
   "outputs": [],
   "source": [
    "#import libraries\n",
    "import pandas as pd\n",
    "import numpy as np\n",
    "import matplotlib.pyplot as plt\n",
    "\n",
    "from feature_engine.outliers import Winsorizer\n",
    "from sklearn.pipeline import Pipeline\n",
    "from sklearn.preprocessing import MinMaxScaler\n",
    "from sklearn.compose import ColumnTransformer\n",
    "\n",
    "from sklearn.model_selection import train_test_split\n",
    "from sklearn.tree import DecisionTreeClassifier as DT\n",
    "from sklearn.metrics import accuracy_score\n",
    "from sklearn.model_selection import GridSearchCV\n",
    "\n",
    "from sklearn.ensemble import RandomForestClassifier\n",
    "from sklearn.model_selection import RandomizedSearchCV\n",
    "\n",
    "import sklearn.metrics as skmet"
   ]
  },
  {
   "cell_type": "code",
   "execution_count": 2,
   "id": "75234d39",
   "metadata": {},
   "outputs": [],
   "source": [
    "import warnings\n",
    "warnings.filterwarnings(\"ignore\")"
   ]
  },
  {
   "cell_type": "code",
   "execution_count": 3,
   "id": "e6d78e95",
   "metadata": {},
   "outputs": [
    {
     "name": "stdout",
     "output_type": "stream",
     "text": [
      "<class 'pandas.core.frame.DataFrame'>\n",
      "RangeIndex: 768 entries, 0 to 767\n",
      "Data columns (total 9 columns):\n",
      " #   Column                         Non-Null Count  Dtype  \n",
      "---  ------                         --------------  -----  \n",
      " 0    Number of times pregnant      768 non-null    int64  \n",
      " 1    Plasma glucose concentration  768 non-null    int64  \n",
      " 2    Diastolic blood pressure      768 non-null    int64  \n",
      " 3    Triceps skin fold thickness   768 non-null    int64  \n",
      " 4    2-Hour serum insulin          768 non-null    int64  \n",
      " 5    Body mass index               768 non-null    float64\n",
      " 6    Diabetes pedigree function    768 non-null    float64\n",
      " 7    Age (years)                   768 non-null    int64  \n",
      " 8    Class variable                768 non-null    object \n",
      "dtypes: float64(2), int64(6), object(1)\n",
      "memory usage: 54.1+ KB\n"
     ]
    }
   ],
   "source": [
    "# import the dataset\n",
    "diabetes_data = pd.read_csv(r\"D:\\360digi\\DS\\Sharath\\Decision_Tree_2_Master_Class\\handson\\Datasets_DT\\Diabetes.csv\")\n",
    "diabetes_data.info()"
   ]
  },
  {
   "cell_type": "code",
   "execution_count": 4,
   "id": "26e49d43",
   "metadata": {},
   "outputs": [
    {
     "data": {
      "text/plain": [
       "Index([' Number of times pregnant', ' Plasma glucose concentration',\n",
       "       ' Diastolic blood pressure', ' Triceps skin fold thickness',\n",
       "       ' 2-Hour serum insulin', ' Body mass index',\n",
       "       ' Diabetes pedigree function', ' Age (years)', ' Class variable'],\n",
       "      dtype='object')"
      ]
     },
     "execution_count": 4,
     "metadata": {},
     "output_type": "execute_result"
    }
   ],
   "source": [
    "diabetes_data.columns"
   ]
  },
  {
   "cell_type": "code",
   "execution_count": 5,
   "id": "210cda85",
   "metadata": {},
   "outputs": [
    {
     "data": {
      "text/html": [
       "<div>\n",
       "<style scoped>\n",
       "    .dataframe tbody tr th:only-of-type {\n",
       "        vertical-align: middle;\n",
       "    }\n",
       "\n",
       "    .dataframe tbody tr th {\n",
       "        vertical-align: top;\n",
       "    }\n",
       "\n",
       "    .dataframe thead th {\n",
       "        text-align: right;\n",
       "    }\n",
       "</style>\n",
       "<table border=\"1\" class=\"dataframe\">\n",
       "  <thead>\n",
       "    <tr style=\"text-align: right;\">\n",
       "      <th></th>\n",
       "      <th>Number of times pregnant</th>\n",
       "      <th>Plasma glucose concentration</th>\n",
       "      <th>Diastolic blood pressure</th>\n",
       "      <th>Triceps skin fold thickness</th>\n",
       "      <th>2-Hour serum insulin</th>\n",
       "      <th>Body mass index</th>\n",
       "      <th>Diabetes pedigree function</th>\n",
       "      <th>Age (years)</th>\n",
       "      <th>Class variable</th>\n",
       "    </tr>\n",
       "  </thead>\n",
       "  <tbody>\n",
       "    <tr>\n",
       "      <th>0</th>\n",
       "      <td>6</td>\n",
       "      <td>148</td>\n",
       "      <td>72</td>\n",
       "      <td>35</td>\n",
       "      <td>0</td>\n",
       "      <td>33.6</td>\n",
       "      <td>0.627</td>\n",
       "      <td>50</td>\n",
       "      <td>YES</td>\n",
       "    </tr>\n",
       "    <tr>\n",
       "      <th>1</th>\n",
       "      <td>1</td>\n",
       "      <td>85</td>\n",
       "      <td>66</td>\n",
       "      <td>29</td>\n",
       "      <td>0</td>\n",
       "      <td>26.6</td>\n",
       "      <td>0.351</td>\n",
       "      <td>31</td>\n",
       "      <td>NO</td>\n",
       "    </tr>\n",
       "    <tr>\n",
       "      <th>2</th>\n",
       "      <td>8</td>\n",
       "      <td>183</td>\n",
       "      <td>64</td>\n",
       "      <td>0</td>\n",
       "      <td>0</td>\n",
       "      <td>23.3</td>\n",
       "      <td>0.672</td>\n",
       "      <td>32</td>\n",
       "      <td>YES</td>\n",
       "    </tr>\n",
       "    <tr>\n",
       "      <th>3</th>\n",
       "      <td>1</td>\n",
       "      <td>89</td>\n",
       "      <td>66</td>\n",
       "      <td>23</td>\n",
       "      <td>94</td>\n",
       "      <td>28.1</td>\n",
       "      <td>0.167</td>\n",
       "      <td>21</td>\n",
       "      <td>NO</td>\n",
       "    </tr>\n",
       "    <tr>\n",
       "      <th>4</th>\n",
       "      <td>0</td>\n",
       "      <td>137</td>\n",
       "      <td>40</td>\n",
       "      <td>35</td>\n",
       "      <td>168</td>\n",
       "      <td>43.1</td>\n",
       "      <td>2.288</td>\n",
       "      <td>33</td>\n",
       "      <td>YES</td>\n",
       "    </tr>\n",
       "  </tbody>\n",
       "</table>\n",
       "</div>"
      ],
      "text/plain": [
       "    Number of times pregnant   Plasma glucose concentration  \\\n",
       "0                          6                            148   \n",
       "1                          1                             85   \n",
       "2                          8                            183   \n",
       "3                          1                             89   \n",
       "4                          0                            137   \n",
       "\n",
       "    Diastolic blood pressure   Triceps skin fold thickness  \\\n",
       "0                         72                            35   \n",
       "1                         66                            29   \n",
       "2                         64                             0   \n",
       "3                         66                            23   \n",
       "4                         40                            35   \n",
       "\n",
       "    2-Hour serum insulin   Body mass index   Diabetes pedigree function  \\\n",
       "0                      0              33.6                        0.627   \n",
       "1                      0              26.6                        0.351   \n",
       "2                      0              23.3                        0.672   \n",
       "3                     94              28.1                        0.167   \n",
       "4                    168              43.1                        2.288   \n",
       "\n",
       "    Age (years)  Class variable  \n",
       "0            50             YES  \n",
       "1            31              NO  \n",
       "2            32             YES  \n",
       "3            21              NO  \n",
       "4            33             YES  "
      ]
     },
     "execution_count": 5,
     "metadata": {},
     "output_type": "execute_result"
    }
   ],
   "source": [
    "diabetes_data.head()"
   ]
  },
  {
   "cell_type": "code",
   "execution_count": 6,
   "id": "84b19a3f",
   "metadata": {},
   "outputs": [
    {
     "data": {
      "text/html": [
       "<div>\n",
       "<style scoped>\n",
       "    .dataframe tbody tr th:only-of-type {\n",
       "        vertical-align: middle;\n",
       "    }\n",
       "\n",
       "    .dataframe tbody tr th {\n",
       "        vertical-align: top;\n",
       "    }\n",
       "\n",
       "    .dataframe thead th {\n",
       "        text-align: right;\n",
       "    }\n",
       "</style>\n",
       "<table border=\"1\" class=\"dataframe\">\n",
       "  <thead>\n",
       "    <tr style=\"text-align: right;\">\n",
       "      <th></th>\n",
       "      <th>Number of times pregnant</th>\n",
       "      <th>Plasma glucose concentration</th>\n",
       "      <th>Diastolic blood pressure</th>\n",
       "      <th>Triceps skin fold thickness</th>\n",
       "      <th>2-Hour serum insulin</th>\n",
       "      <th>Body mass index</th>\n",
       "      <th>Diabetes pedigree function</th>\n",
       "      <th>Age (years)</th>\n",
       "    </tr>\n",
       "  </thead>\n",
       "  <tbody>\n",
       "    <tr>\n",
       "      <th>count</th>\n",
       "      <td>768.000000</td>\n",
       "      <td>768.000000</td>\n",
       "      <td>768.000000</td>\n",
       "      <td>768.000000</td>\n",
       "      <td>768.000000</td>\n",
       "      <td>768.000000</td>\n",
       "      <td>768.000000</td>\n",
       "      <td>768.000000</td>\n",
       "    </tr>\n",
       "    <tr>\n",
       "      <th>mean</th>\n",
       "      <td>3.845052</td>\n",
       "      <td>120.894531</td>\n",
       "      <td>69.105469</td>\n",
       "      <td>20.536458</td>\n",
       "      <td>79.799479</td>\n",
       "      <td>31.992578</td>\n",
       "      <td>0.471876</td>\n",
       "      <td>33.240885</td>\n",
       "    </tr>\n",
       "    <tr>\n",
       "      <th>std</th>\n",
       "      <td>3.369578</td>\n",
       "      <td>31.972618</td>\n",
       "      <td>19.355807</td>\n",
       "      <td>15.952218</td>\n",
       "      <td>115.244002</td>\n",
       "      <td>7.884160</td>\n",
       "      <td>0.331329</td>\n",
       "      <td>11.760232</td>\n",
       "    </tr>\n",
       "    <tr>\n",
       "      <th>min</th>\n",
       "      <td>0.000000</td>\n",
       "      <td>0.000000</td>\n",
       "      <td>0.000000</td>\n",
       "      <td>0.000000</td>\n",
       "      <td>0.000000</td>\n",
       "      <td>0.000000</td>\n",
       "      <td>0.078000</td>\n",
       "      <td>21.000000</td>\n",
       "    </tr>\n",
       "    <tr>\n",
       "      <th>25%</th>\n",
       "      <td>1.000000</td>\n",
       "      <td>99.000000</td>\n",
       "      <td>62.000000</td>\n",
       "      <td>0.000000</td>\n",
       "      <td>0.000000</td>\n",
       "      <td>27.300000</td>\n",
       "      <td>0.243750</td>\n",
       "      <td>24.000000</td>\n",
       "    </tr>\n",
       "    <tr>\n",
       "      <th>50%</th>\n",
       "      <td>3.000000</td>\n",
       "      <td>117.000000</td>\n",
       "      <td>72.000000</td>\n",
       "      <td>23.000000</td>\n",
       "      <td>30.500000</td>\n",
       "      <td>32.000000</td>\n",
       "      <td>0.372500</td>\n",
       "      <td>29.000000</td>\n",
       "    </tr>\n",
       "    <tr>\n",
       "      <th>75%</th>\n",
       "      <td>6.000000</td>\n",
       "      <td>140.250000</td>\n",
       "      <td>80.000000</td>\n",
       "      <td>32.000000</td>\n",
       "      <td>127.250000</td>\n",
       "      <td>36.600000</td>\n",
       "      <td>0.626250</td>\n",
       "      <td>41.000000</td>\n",
       "    </tr>\n",
       "    <tr>\n",
       "      <th>max</th>\n",
       "      <td>17.000000</td>\n",
       "      <td>199.000000</td>\n",
       "      <td>122.000000</td>\n",
       "      <td>99.000000</td>\n",
       "      <td>846.000000</td>\n",
       "      <td>67.100000</td>\n",
       "      <td>2.420000</td>\n",
       "      <td>81.000000</td>\n",
       "    </tr>\n",
       "  </tbody>\n",
       "</table>\n",
       "</div>"
      ],
      "text/plain": [
       "        Number of times pregnant   Plasma glucose concentration  \\\n",
       "count                 768.000000                     768.000000   \n",
       "mean                    3.845052                     120.894531   \n",
       "std                     3.369578                      31.972618   \n",
       "min                     0.000000                       0.000000   \n",
       "25%                     1.000000                      99.000000   \n",
       "50%                     3.000000                     117.000000   \n",
       "75%                     6.000000                     140.250000   \n",
       "max                    17.000000                     199.000000   \n",
       "\n",
       "        Diastolic blood pressure   Triceps skin fold thickness  \\\n",
       "count                 768.000000                    768.000000   \n",
       "mean                   69.105469                     20.536458   \n",
       "std                    19.355807                     15.952218   \n",
       "min                     0.000000                      0.000000   \n",
       "25%                    62.000000                      0.000000   \n",
       "50%                    72.000000                     23.000000   \n",
       "75%                    80.000000                     32.000000   \n",
       "max                   122.000000                     99.000000   \n",
       "\n",
       "        2-Hour serum insulin   Body mass index   Diabetes pedigree function  \\\n",
       "count             768.000000        768.000000                   768.000000   \n",
       "mean               79.799479         31.992578                     0.471876   \n",
       "std               115.244002          7.884160                     0.331329   \n",
       "min                 0.000000          0.000000                     0.078000   \n",
       "25%                 0.000000         27.300000                     0.243750   \n",
       "50%                30.500000         32.000000                     0.372500   \n",
       "75%               127.250000         36.600000                     0.626250   \n",
       "max               846.000000         67.100000                     2.420000   \n",
       "\n",
       "        Age (years)  \n",
       "count    768.000000  \n",
       "mean      33.240885  \n",
       "std       11.760232  \n",
       "min       21.000000  \n",
       "25%       24.000000  \n",
       "50%       29.000000  \n",
       "75%       41.000000  \n",
       "max       81.000000  "
      ]
     },
     "execution_count": 6,
     "metadata": {},
     "output_type": "execute_result"
    }
   ],
   "source": [
    "diabetes_data.describe()"
   ]
  },
  {
   "cell_type": "markdown",
   "id": "75891414",
   "metadata": {},
   "source": [
    "## Data Preprocessing"
   ]
  },
  {
   "cell_type": "code",
   "execution_count": 7,
   "id": "e9d2d914",
   "metadata": {},
   "outputs": [
    {
     "data": {
      "text/plain": [
       " Number of times pregnant        0\n",
       " Plasma glucose concentration    0\n",
       " Diastolic blood pressure        0\n",
       " Triceps skin fold thickness     0\n",
       " 2-Hour serum insulin            0\n",
       " Body mass index                 0\n",
       " Diabetes pedigree function      0\n",
       " Age (years)                     0\n",
       " Class variable                  0\n",
       "dtype: int64"
      ]
     },
     "execution_count": 7,
     "metadata": {},
     "output_type": "execute_result"
    }
   ],
   "source": [
    "diabetes_data.isnull().sum()"
   ]
  },
  {
   "cell_type": "code",
   "execution_count": 8,
   "id": "4fef93fd",
   "metadata": {},
   "outputs": [
    {
     "data": {
      "text/plain": [
       "array(['YES', 'NO'], dtype=object)"
      ]
     },
     "execution_count": 8,
     "metadata": {},
     "output_type": "execute_result"
    }
   ],
   "source": [
    "# Target variable categories\n",
    "\n",
    "diabetes_data[' Class variable'].unique()"
   ]
  },
  {
   "cell_type": "code",
   "execution_count": 9,
   "id": "6347880e",
   "metadata": {},
   "outputs": [
    {
     "data": {
      "text/plain": [
       "NO     500\n",
       "YES    268\n",
       "Name:  Class variable, dtype: int64"
      ]
     },
     "execution_count": 9,
     "metadata": {},
     "output_type": "execute_result"
    }
   ],
   "source": [
    "diabetes_data[' Class variable'].value_counts()"
   ]
  },
  {
   "cell_type": "code",
   "execution_count": 10,
   "id": "f3e71cde",
   "metadata": {},
   "outputs": [
    {
     "data": {
      "text/plain": [
       "(768, 9)"
      ]
     },
     "execution_count": 10,
     "metadata": {},
     "output_type": "execute_result"
    }
   ],
   "source": [
    "diabetes_data.shape"
   ]
  },
  {
   "cell_type": "code",
   "execution_count": 11,
   "id": "9aeb80f4",
   "metadata": {},
   "outputs": [
    {
     "data": {
      "text/html": [
       "<div>\n",
       "<style scoped>\n",
       "    .dataframe tbody tr th:only-of-type {\n",
       "        vertical-align: middle;\n",
       "    }\n",
       "\n",
       "    .dataframe tbody tr th {\n",
       "        vertical-align: top;\n",
       "    }\n",
       "\n",
       "    .dataframe thead th {\n",
       "        text-align: right;\n",
       "    }\n",
       "</style>\n",
       "<table border=\"1\" class=\"dataframe\">\n",
       "  <thead>\n",
       "    <tr style=\"text-align: right;\">\n",
       "      <th></th>\n",
       "      <th>Number of times pregnant</th>\n",
       "      <th>Plasma glucose concentration</th>\n",
       "      <th>Diastolic blood pressure</th>\n",
       "      <th>Triceps skin fold thickness</th>\n",
       "      <th>2-Hour serum insulin</th>\n",
       "      <th>Body mass index</th>\n",
       "      <th>Diabetes pedigree function</th>\n",
       "      <th>Age (years)</th>\n",
       "    </tr>\n",
       "  </thead>\n",
       "  <tbody>\n",
       "    <tr>\n",
       "      <th>0</th>\n",
       "      <td>6</td>\n",
       "      <td>148</td>\n",
       "      <td>72</td>\n",
       "      <td>35</td>\n",
       "      <td>0</td>\n",
       "      <td>33.6</td>\n",
       "      <td>0.627</td>\n",
       "      <td>50</td>\n",
       "    </tr>\n",
       "    <tr>\n",
       "      <th>1</th>\n",
       "      <td>1</td>\n",
       "      <td>85</td>\n",
       "      <td>66</td>\n",
       "      <td>29</td>\n",
       "      <td>0</td>\n",
       "      <td>26.6</td>\n",
       "      <td>0.351</td>\n",
       "      <td>31</td>\n",
       "    </tr>\n",
       "    <tr>\n",
       "      <th>2</th>\n",
       "      <td>8</td>\n",
       "      <td>183</td>\n",
       "      <td>64</td>\n",
       "      <td>0</td>\n",
       "      <td>0</td>\n",
       "      <td>23.3</td>\n",
       "      <td>0.672</td>\n",
       "      <td>32</td>\n",
       "    </tr>\n",
       "    <tr>\n",
       "      <th>3</th>\n",
       "      <td>1</td>\n",
       "      <td>89</td>\n",
       "      <td>66</td>\n",
       "      <td>23</td>\n",
       "      <td>94</td>\n",
       "      <td>28.1</td>\n",
       "      <td>0.167</td>\n",
       "      <td>21</td>\n",
       "    </tr>\n",
       "    <tr>\n",
       "      <th>4</th>\n",
       "      <td>0</td>\n",
       "      <td>137</td>\n",
       "      <td>40</td>\n",
       "      <td>35</td>\n",
       "      <td>168</td>\n",
       "      <td>43.1</td>\n",
       "      <td>2.288</td>\n",
       "      <td>33</td>\n",
       "    </tr>\n",
       "    <tr>\n",
       "      <th>...</th>\n",
       "      <td>...</td>\n",
       "      <td>...</td>\n",
       "      <td>...</td>\n",
       "      <td>...</td>\n",
       "      <td>...</td>\n",
       "      <td>...</td>\n",
       "      <td>...</td>\n",
       "      <td>...</td>\n",
       "    </tr>\n",
       "    <tr>\n",
       "      <th>763</th>\n",
       "      <td>10</td>\n",
       "      <td>101</td>\n",
       "      <td>76</td>\n",
       "      <td>48</td>\n",
       "      <td>180</td>\n",
       "      <td>32.9</td>\n",
       "      <td>0.171</td>\n",
       "      <td>63</td>\n",
       "    </tr>\n",
       "    <tr>\n",
       "      <th>764</th>\n",
       "      <td>2</td>\n",
       "      <td>122</td>\n",
       "      <td>70</td>\n",
       "      <td>27</td>\n",
       "      <td>0</td>\n",
       "      <td>36.8</td>\n",
       "      <td>0.340</td>\n",
       "      <td>27</td>\n",
       "    </tr>\n",
       "    <tr>\n",
       "      <th>765</th>\n",
       "      <td>5</td>\n",
       "      <td>121</td>\n",
       "      <td>72</td>\n",
       "      <td>23</td>\n",
       "      <td>112</td>\n",
       "      <td>26.2</td>\n",
       "      <td>0.245</td>\n",
       "      <td>30</td>\n",
       "    </tr>\n",
       "    <tr>\n",
       "      <th>766</th>\n",
       "      <td>1</td>\n",
       "      <td>126</td>\n",
       "      <td>60</td>\n",
       "      <td>0</td>\n",
       "      <td>0</td>\n",
       "      <td>30.1</td>\n",
       "      <td>0.349</td>\n",
       "      <td>47</td>\n",
       "    </tr>\n",
       "    <tr>\n",
       "      <th>767</th>\n",
       "      <td>1</td>\n",
       "      <td>93</td>\n",
       "      <td>70</td>\n",
       "      <td>31</td>\n",
       "      <td>0</td>\n",
       "      <td>30.4</td>\n",
       "      <td>0.315</td>\n",
       "      <td>23</td>\n",
       "    </tr>\n",
       "  </tbody>\n",
       "</table>\n",
       "<p>768 rows × 8 columns</p>\n",
       "</div>"
      ],
      "text/plain": [
       "      Number of times pregnant   Plasma glucose concentration  \\\n",
       "0                            6                            148   \n",
       "1                            1                             85   \n",
       "2                            8                            183   \n",
       "3                            1                             89   \n",
       "4                            0                            137   \n",
       "..                         ...                            ...   \n",
       "763                         10                            101   \n",
       "764                          2                            122   \n",
       "765                          5                            121   \n",
       "766                          1                            126   \n",
       "767                          1                             93   \n",
       "\n",
       "      Diastolic blood pressure   Triceps skin fold thickness  \\\n",
       "0                           72                            35   \n",
       "1                           66                            29   \n",
       "2                           64                             0   \n",
       "3                           66                            23   \n",
       "4                           40                            35   \n",
       "..                         ...                           ...   \n",
       "763                         76                            48   \n",
       "764                         70                            27   \n",
       "765                         72                            23   \n",
       "766                         60                             0   \n",
       "767                         70                            31   \n",
       "\n",
       "      2-Hour serum insulin   Body mass index   Diabetes pedigree function  \\\n",
       "0                        0              33.6                        0.627   \n",
       "1                        0              26.6                        0.351   \n",
       "2                        0              23.3                        0.672   \n",
       "3                       94              28.1                        0.167   \n",
       "4                      168              43.1                        2.288   \n",
       "..                     ...               ...                          ...   \n",
       "763                    180              32.9                        0.171   \n",
       "764                      0              36.8                        0.340   \n",
       "765                    112              26.2                        0.245   \n",
       "766                      0              30.1                        0.349   \n",
       "767                      0              30.4                        0.315   \n",
       "\n",
       "      Age (years)  \n",
       "0              50  \n",
       "1              31  \n",
       "2              32  \n",
       "3              21  \n",
       "4              33  \n",
       "..            ...  \n",
       "763            63  \n",
       "764            27  \n",
       "765            30  \n",
       "766            47  \n",
       "767            23  \n",
       "\n",
       "[768 rows x 8 columns]"
      ]
     },
     "execution_count": 11,
     "metadata": {},
     "output_type": "execute_result"
    }
   ],
   "source": [
    "# Data split into Input and Output\n",
    "X = diabetes_data.iloc[:, :8]\n",
    "X"
   ]
  },
  {
   "cell_type": "code",
   "execution_count": 12,
   "id": "c730a7a8",
   "metadata": {},
   "outputs": [
    {
     "data": {
      "text/plain": [
       "0      YES\n",
       "1       NO\n",
       "2      YES\n",
       "3       NO\n",
       "4      YES\n",
       "      ... \n",
       "763     NO\n",
       "764     NO\n",
       "765     NO\n",
       "766    YES\n",
       "767     NO\n",
       "Name:  Class variable, Length: 768, dtype: object"
      ]
     },
     "execution_count": 12,
     "metadata": {},
     "output_type": "execute_result"
    }
   ],
   "source": [
    "Y = diabetes_data[' Class variable']\n",
    "Y"
   ]
  },
  {
   "cell_type": "markdown",
   "id": "fda584ea",
   "metadata": {},
   "source": [
    "#### Separating Numeric and Non-Numeric columns"
   ]
  },
  {
   "cell_type": "code",
   "execution_count": 13,
   "id": "6af90f5c",
   "metadata": {},
   "outputs": [],
   "source": [
    "numeric_features = X.select_dtypes(exclude = ['object']).columns"
   ]
  },
  {
   "cell_type": "code",
   "execution_count": 14,
   "id": "d4cdc8eb",
   "metadata": {},
   "outputs": [
    {
     "data": {
      "text/plain": [
       "Index([' Number of times pregnant', ' Plasma glucose concentration',\n",
       "       ' Diastolic blood pressure', ' Triceps skin fold thickness',\n",
       "       ' 2-Hour serum insulin', ' Body mass index',\n",
       "       ' Diabetes pedigree function', ' Age (years)'],\n",
       "      dtype='object')"
      ]
     },
     "execution_count": 14,
     "metadata": {},
     "output_type": "execute_result"
    }
   ],
   "source": [
    "numeric_features"
   ]
  },
  {
   "cell_type": "code",
   "execution_count": 15,
   "id": "cf9ff54c",
   "metadata": {},
   "outputs": [],
   "source": [
    "# categorical_features = X.select_dtypes(include=['object']).columns\n",
    "# categorical_features"
   ]
  },
  {
   "cell_type": "markdown",
   "id": "51ad4d30",
   "metadata": {},
   "source": [
    "#### Outlier Analysis"
   ]
  },
  {
   "cell_type": "code",
   "execution_count": 16,
   "id": "fc847bdd",
   "metadata": {},
   "outputs": [
    {
     "data": {
      "image/png": "[encoded data removed]",
      "text/plain": [
       "<Figure size 2000x600 with 8 Axes>"
      ]
     },
     "metadata": {},
     "output_type": "display_data"
    }
   ],
   "source": [
    "# Multiple boxplots in a single visualization.\n",
    "\n",
    "\n",
    "X.plot(kind = 'box', subplots = True, sharey = False, figsize = (20, 6)) \n",
    "\n",
    "# increase spacing between subplots\n",
    "plt.subplots_adjust(wspace = .75) # ws is the width of the padding between subplots, as a fraction of the average Axes width.\n",
    "plt.show()"
   ]
  },
  {
   "cell_type": "code",
   "execution_count": 17,
   "id": "28bd9ed7",
   "metadata": {},
   "outputs": [
    {
     "data": {
      "text/plain": [
       "Index([' Number of times pregnant', ' Plasma glucose concentration',\n",
       "       ' Diastolic blood pressure', ' Triceps skin fold thickness',\n",
       "       ' 2-Hour serum insulin', ' Body mass index',\n",
       "       ' Diabetes pedigree function', ' Age (years)'],\n",
       "      dtype='object')"
      ]
     },
     "execution_count": 17,
     "metadata": {},
     "output_type": "execute_result"
    }
   ],
   "source": [
    "X.columns"
   ]
  },
  {
   "cell_type": "markdown",
   "id": "83bfaf65",
   "metadata": {},
   "source": [
    "#### Winsorization"
   ]
  },
  {
   "cell_type": "code",
   "execution_count": 18,
   "id": "39502b3f",
   "metadata": {},
   "outputs": [],
   "source": [
    "winsor = Winsorizer(capping_method = 'iqr', # choose  IQR rule boundaries or gaussian for mean and std\n",
    "                          tail = 'both', # cap left, right or both tails \n",
    "                          fold = 1.5,\n",
    "                          variables = [' Number of times pregnant', ' Plasma glucose concentration',\n",
    "       ' Diastolic blood pressure', ' Triceps skin fold thickness',\n",
    "       ' 2-Hour serum insulin', ' Body mass index',\n",
    "       ' Diabetes pedigree function', ' Age (years)'])"
   ]
  },
  {
   "cell_type": "code",
   "execution_count": 19,
   "id": "59311225",
   "metadata": {},
   "outputs": [],
   "source": [
    "cl = winsor.fit(X[[' Number of times pregnant', ' Plasma glucose concentration',\n",
    "       ' Diastolic blood pressure', ' Triceps skin fold thickness',\n",
    "       ' 2-Hour serum insulin', ' Body mass index',\n",
    "       ' Diabetes pedigree function', ' Age (years)']])"
   ]
  },
  {
   "cell_type": "code",
   "execution_count": 20,
   "id": "833f5aaa",
   "metadata": {},
   "outputs": [],
   "source": [
    "X[[' Number of times pregnant', ' Plasma glucose concentration',\n",
    "       ' Diastolic blood pressure', ' Triceps skin fold thickness',\n",
    "       ' 2-Hour serum insulin', ' Body mass index',\n",
    "       ' Diabetes pedigree function', ' Age (years)']] = cl.transform(X[[' Number of times pregnant', ' Plasma glucose concentration',\n",
    "       ' Diastolic blood pressure', ' Triceps skin fold thickness',\n",
    "       ' 2-Hour serum insulin', ' Body mass index',\n",
    "       ' Diabetes pedigree function', ' Age (years)']])"
   ]
  },
  {
   "cell_type": "code",
   "execution_count": 21,
   "id": "95ca1076",
   "metadata": {},
   "outputs": [
    {
     "data": {
      "image/png": "[encoded data removed]",
      "text/plain": [
       "<Figure size 2000x600 with 8 Axes>"
      ]
     },
     "metadata": {},
     "output_type": "display_data"
    }
   ],
   "source": [
    "X.plot(kind = 'box', subplots = True, sharey = False, figsize = (20, 6)) \n",
    "\n",
    "\n",
    "# increase spacing between subplots\n",
    "plt.subplots_adjust(wspace = 0.75) # ws is the width of the padding between subplots, as a fraction of the average Axes width.\n",
    "plt.show()"
   ]
  },
  {
   "cell_type": "code",
   "execution_count": null,
   "id": "431994e9",
   "metadata": {},
   "outputs": [],
   "source": []
  },
  {
   "cell_type": "markdown",
   "id": "8ec32503",
   "metadata": {},
   "source": [
    "#### MinMaxScaler to convert the magnitude of the columns to a range of 0 to 1"
   ]
  },
  {
   "cell_type": "code",
   "execution_count": 22,
   "id": "2ad30c33",
   "metadata": {},
   "outputs": [],
   "source": [
    "scale_pipeline = Pipeline([('scale', MinMaxScaler())])"
   ]
  },
  {
   "cell_type": "code",
   "execution_count": 23,
   "id": "8fa17788",
   "metadata": {},
   "outputs": [],
   "source": [
    "preprocess_pipeline = ColumnTransformer([('scale', scale_pipeline, numeric_features )])"
   ]
  },
  {
   "cell_type": "code",
   "execution_count": 24,
   "id": "3f48671f",
   "metadata": {},
   "outputs": [],
   "source": [
    "processed = preprocess_pipeline.fit(X)"
   ]
  },
  {
   "cell_type": "code",
   "execution_count": 25,
   "id": "d6ecb34c",
   "metadata": {},
   "outputs": [
    {
     "data": {
      "text/html": [
       "<div>\n",
       "<style scoped>\n",
       "    .dataframe tbody tr th:only-of-type {\n",
       "        vertical-align: middle;\n",
       "    }\n",
       "\n",
       "    .dataframe tbody tr th {\n",
       "        vertical-align: top;\n",
       "    }\n",
       "\n",
       "    .dataframe thead th {\n",
       "        text-align: right;\n",
       "    }\n",
       "</style>\n",
       "<table border=\"1\" class=\"dataframe\">\n",
       "  <thead>\n",
       "    <tr style=\"text-align: right;\">\n",
       "      <th></th>\n",
       "      <th>0</th>\n",
       "      <th>1</th>\n",
       "      <th>2</th>\n",
       "      <th>3</th>\n",
       "      <th>4</th>\n",
       "      <th>5</th>\n",
       "      <th>6</th>\n",
       "      <th>7</th>\n",
       "    </tr>\n",
       "  </thead>\n",
       "  <tbody>\n",
       "    <tr>\n",
       "      <th>0</th>\n",
       "      <td>0.444444</td>\n",
       "      <td>0.684942</td>\n",
       "      <td>0.513889</td>\n",
       "      <td>0.4375</td>\n",
       "      <td>0.000000</td>\n",
       "      <td>0.544355</td>\n",
       "      <td>0.489305</td>\n",
       "      <td>0.637363</td>\n",
       "    </tr>\n",
       "    <tr>\n",
       "      <th>1</th>\n",
       "      <td>0.074074</td>\n",
       "      <td>0.295753</td>\n",
       "      <td>0.430556</td>\n",
       "      <td>0.3625</td>\n",
       "      <td>0.000000</td>\n",
       "      <td>0.356183</td>\n",
       "      <td>0.243316</td>\n",
       "      <td>0.219780</td>\n",
       "    </tr>\n",
       "    <tr>\n",
       "      <th>2</th>\n",
       "      <td>0.592593</td>\n",
       "      <td>0.901158</td>\n",
       "      <td>0.402778</td>\n",
       "      <td>0.0000</td>\n",
       "      <td>0.000000</td>\n",
       "      <td>0.267473</td>\n",
       "      <td>0.529412</td>\n",
       "      <td>0.241758</td>\n",
       "    </tr>\n",
       "    <tr>\n",
       "      <th>3</th>\n",
       "      <td>0.074074</td>\n",
       "      <td>0.320463</td>\n",
       "      <td>0.430556</td>\n",
       "      <td>0.2875</td>\n",
       "      <td>0.295481</td>\n",
       "      <td>0.396505</td>\n",
       "      <td>0.079323</td>\n",
       "      <td>0.000000</td>\n",
       "    </tr>\n",
       "    <tr>\n",
       "      <th>4</th>\n",
       "      <td>0.000000</td>\n",
       "      <td>0.616988</td>\n",
       "      <td>0.069444</td>\n",
       "      <td>0.4375</td>\n",
       "      <td>0.528094</td>\n",
       "      <td>0.799731</td>\n",
       "      <td>1.000000</td>\n",
       "      <td>0.263736</td>\n",
       "    </tr>\n",
       "    <tr>\n",
       "      <th>...</th>\n",
       "      <td>...</td>\n",
       "      <td>...</td>\n",
       "      <td>...</td>\n",
       "      <td>...</td>\n",
       "      <td>...</td>\n",
       "      <td>...</td>\n",
       "      <td>...</td>\n",
       "      <td>...</td>\n",
       "    </tr>\n",
       "    <tr>\n",
       "      <th>763</th>\n",
       "      <td>0.740741</td>\n",
       "      <td>0.394595</td>\n",
       "      <td>0.569444</td>\n",
       "      <td>0.6000</td>\n",
       "      <td>0.565815</td>\n",
       "      <td>0.525538</td>\n",
       "      <td>0.082888</td>\n",
       "      <td>0.923077</td>\n",
       "    </tr>\n",
       "    <tr>\n",
       "      <th>764</th>\n",
       "      <td>0.148148</td>\n",
       "      <td>0.524324</td>\n",
       "      <td>0.486111</td>\n",
       "      <td>0.3375</td>\n",
       "      <td>0.000000</td>\n",
       "      <td>0.630376</td>\n",
       "      <td>0.233512</td>\n",
       "      <td>0.131868</td>\n",
       "    </tr>\n",
       "    <tr>\n",
       "      <th>765</th>\n",
       "      <td>0.370370</td>\n",
       "      <td>0.518147</td>\n",
       "      <td>0.513889</td>\n",
       "      <td>0.2875</td>\n",
       "      <td>0.352063</td>\n",
       "      <td>0.345430</td>\n",
       "      <td>0.148841</td>\n",
       "      <td>0.197802</td>\n",
       "    </tr>\n",
       "    <tr>\n",
       "      <th>766</th>\n",
       "      <td>0.074074</td>\n",
       "      <td>0.549035</td>\n",
       "      <td>0.347222</td>\n",
       "      <td>0.0000</td>\n",
       "      <td>0.000000</td>\n",
       "      <td>0.450269</td>\n",
       "      <td>0.241533</td>\n",
       "      <td>0.571429</td>\n",
       "    </tr>\n",
       "    <tr>\n",
       "      <th>767</th>\n",
       "      <td>0.074074</td>\n",
       "      <td>0.345174</td>\n",
       "      <td>0.486111</td>\n",
       "      <td>0.3875</td>\n",
       "      <td>0.000000</td>\n",
       "      <td>0.458333</td>\n",
       "      <td>0.211230</td>\n",
       "      <td>0.043956</td>\n",
       "    </tr>\n",
       "  </tbody>\n",
       "</table>\n",
       "<p>768 rows × 8 columns</p>\n",
       "</div>"
      ],
      "text/plain": [
       "            0         1         2       3         4         5         6  \\\n",
       "0    0.444444  0.684942  0.513889  0.4375  0.000000  0.544355  0.489305   \n",
       "1    0.074074  0.295753  0.430556  0.3625  0.000000  0.356183  0.243316   \n",
       "2    0.592593  0.901158  0.402778  0.0000  0.000000  0.267473  0.529412   \n",
       "3    0.074074  0.320463  0.430556  0.2875  0.295481  0.396505  0.079323   \n",
       "4    0.000000  0.616988  0.069444  0.4375  0.528094  0.799731  1.000000   \n",
       "..        ...       ...       ...     ...       ...       ...       ...   \n",
       "763  0.740741  0.394595  0.569444  0.6000  0.565815  0.525538  0.082888   \n",
       "764  0.148148  0.524324  0.486111  0.3375  0.000000  0.630376  0.233512   \n",
       "765  0.370370  0.518147  0.513889  0.2875  0.352063  0.345430  0.148841   \n",
       "766  0.074074  0.549035  0.347222  0.0000  0.000000  0.450269  0.241533   \n",
       "767  0.074074  0.345174  0.486111  0.3875  0.000000  0.458333  0.211230   \n",
       "\n",
       "            7  \n",
       "0    0.637363  \n",
       "1    0.219780  \n",
       "2    0.241758  \n",
       "3    0.000000  \n",
       "4    0.263736  \n",
       "..        ...  \n",
       "763  0.923077  \n",
       "764  0.131868  \n",
       "765  0.197802  \n",
       "766  0.571429  \n",
       "767  0.043956  \n",
       "\n",
       "[768 rows x 8 columns]"
      ]
     },
     "execution_count": 25,
     "metadata": {},
     "output_type": "execute_result"
    }
   ],
   "source": [
    "X_norm = pd.DataFrame(processed.transform(X))\n",
    "X_norm"
   ]
  },
  {
   "cell_type": "code",
   "execution_count": 26,
   "id": "32e66613",
   "metadata": {},
   "outputs": [],
   "source": [
    "# Split data into train and test with Stratified sample technique\n",
    "\n",
    "X_train, X_test, Y_train, Y_test = train_test_split(X_norm, Y, test_size = 0.2, stratify = Y, random_state = 0)"
   ]
  },
  {
   "cell_type": "code",
   "execution_count": 27,
   "id": "aaa93d6e",
   "metadata": {},
   "outputs": [
    {
     "name": "stdout",
     "output_type": "stream",
     "text": [
      "NO     0.651466\n",
      "YES    0.348534\n",
      "Name:  Class variable, dtype: float64\n",
      "\n",
      "\n",
      "NO     0.649351\n",
      "YES    0.350649\n",
      "Name:  Class variable, dtype: float64\n"
     ]
    }
   ],
   "source": [
    "# Proportion of Target variable categories are consistent across train and test\n",
    "\n",
    "print(Y_train.value_counts()/ 614)\n",
    "print(\"\\n\")\n",
    "print(Y_test.value_counts()/ 154)"
   ]
  },
  {
   "cell_type": "markdown",
   "id": "4e637f11",
   "metadata": {},
   "source": [
    "## Decision Tree Model"
   ]
  },
  {
   "cell_type": "code",
   "execution_count": 28,
   "id": "01e4dbcd",
   "metadata": {},
   "outputs": [
    {
     "data": {
      "text/plain": [
       "DecisionTreeClassifier(criterion='entropy')"
      ]
     },
     "execution_count": 28,
     "metadata": {},
     "output_type": "execute_result"
    }
   ],
   "source": [
    "model = DT(criterion = 'entropy')\n",
    "# train the data with Decision tree model\n",
    "model.fit(X_train, Y_train)"
   ]
  },
  {
   "cell_type": "code",
   "execution_count": 29,
   "id": "57848f45",
   "metadata": {},
   "outputs": [
    {
     "data": {
      "text/plain": [
       "array(['NO', 'NO', 'NO', 'NO', 'NO', 'NO', 'YES', 'NO', 'NO', 'NO', 'YES',\n",
       "       'NO', 'NO', 'NO', 'YES', 'NO', 'NO', 'NO', 'NO', 'YES', 'NO', 'NO',\n",
       "       'NO', 'YES', 'YES', 'YES', 'YES', 'NO', 'NO', 'NO', 'NO', 'NO',\n",
       "       'NO', 'YES', 'NO', 'NO', 'YES', 'YES', 'YES', 'YES', 'NO', 'NO',\n",
       "       'NO', 'NO', 'YES', 'YES', 'NO', 'NO', 'YES', 'NO', 'NO', 'NO',\n",
       "       'NO', 'NO', 'NO', 'YES', 'NO', 'NO', 'NO', 'NO', 'NO', 'NO', 'NO',\n",
       "       'NO', 'NO', 'NO', 'NO', 'YES', 'NO', 'NO', 'NO', 'YES', 'NO',\n",
       "       'YES', 'YES', 'NO', 'NO', 'NO', 'NO', 'NO', 'NO', 'NO', 'NO',\n",
       "       'YES', 'YES', 'YES', 'YES', 'NO', 'NO', 'NO', 'NO', 'NO', 'NO',\n",
       "       'YES', 'YES', 'NO', 'YES', 'YES', 'YES', 'NO', 'YES', 'NO', 'NO',\n",
       "       'NO', 'NO', 'NO', 'YES', 'YES', 'YES', 'NO', 'NO', 'NO', 'NO',\n",
       "       'YES', 'YES', 'NO', 'NO', 'NO', 'YES', 'NO', 'YES', 'YES', 'YES',\n",
       "       'NO', 'YES', 'NO', 'NO', 'NO', 'NO', 'NO', 'YES', 'YES', 'NO',\n",
       "       'NO', 'YES', 'YES', 'NO', 'YES', 'NO', 'YES', 'NO', 'NO', 'NO',\n",
       "       'NO', 'NO', 'NO', 'NO', 'NO', 'YES', 'NO', 'YES', 'YES', 'NO',\n",
       "       'NO'], dtype=object)"
      ]
     },
     "execution_count": 29,
     "metadata": {},
     "output_type": "execute_result"
    }
   ],
   "source": [
    "# Predict the test data\n",
    "preds = model.predict(X_test)\n",
    "preds"
   ]
  },
  {
   "cell_type": "code",
   "execution_count": 30,
   "id": "bcf7dbfd",
   "metadata": {},
   "outputs": [
    {
     "name": "stdout",
     "output_type": "stream",
     "text": [
      "0.7272727272727273\n"
     ]
    }
   ],
   "source": [
    "# Accuracy\n",
    "print(accuracy_score(Y_test, preds))"
   ]
  },
  {
   "cell_type": "code",
   "execution_count": 31,
   "id": "2fd83ddc",
   "metadata": {},
   "outputs": [
    {
     "data": {
      "text/html": [
       "<div>\n",
       "<style scoped>\n",
       "    .dataframe tbody tr th:only-of-type {\n",
       "        vertical-align: middle;\n",
       "    }\n",
       "\n",
       "    .dataframe tbody tr th {\n",
       "        vertical-align: top;\n",
       "    }\n",
       "\n",
       "    .dataframe thead th {\n",
       "        text-align: right;\n",
       "    }\n",
       "</style>\n",
       "<table border=\"1\" class=\"dataframe\">\n",
       "  <thead>\n",
       "    <tr style=\"text-align: right;\">\n",
       "      <th>Predictions</th>\n",
       "      <th>NO</th>\n",
       "      <th>YES</th>\n",
       "    </tr>\n",
       "    <tr>\n",
       "      <th>Actual</th>\n",
       "      <th></th>\n",
       "      <th></th>\n",
       "    </tr>\n",
       "  </thead>\n",
       "  <tbody>\n",
       "    <tr>\n",
       "      <th>NO</th>\n",
       "      <td>81</td>\n",
       "      <td>19</td>\n",
       "    </tr>\n",
       "    <tr>\n",
       "      <th>YES</th>\n",
       "      <td>23</td>\n",
       "      <td>31</td>\n",
       "    </tr>\n",
       "  </tbody>\n",
       "</table>\n",
       "</div>"
      ],
      "text/plain": [
       "Predictions  NO  YES\n",
       "Actual              \n",
       "NO           81   19\n",
       "YES          23   31"
      ]
     },
     "execution_count": 31,
     "metadata": {},
     "output_type": "execute_result"
    }
   ],
   "source": [
    "pd.crosstab(Y_test, preds, rownames = ['Actual'], colnames = ['Predictions'])"
   ]
  },
  {
   "cell_type": "code",
   "execution_count": 32,
   "id": "2d7f98e4",
   "metadata": {},
   "outputs": [
    {
     "data": {
      "text/plain": [
       "[Text(0.5, 1.0, 'Sales Classification Confusion Matrix(Train)'),\n",
       " Text(0.5, 0, 'Predicted Value'),\n",
       " Text(0, 0.5, 'Actual Value')]"
      ]
     },
     "execution_count": 32,
     "metadata": {},
     "output_type": "execute_result"
    },
    {
     "data": {
      "image/png": "[encoded data removed]",
      "text/plain": [
       "<Figure size 640x480 with 2 Axes>"
      ]
     },
     "metadata": {},
     "output_type": "display_data"
    }
   ],
   "source": [
    "# Confusion Matrix - Heat Map\n",
    "cm = skmet.confusion_matrix(Y_test, preds)\n",
    "cmplot = skmet.ConfusionMatrixDisplay(confusion_matrix = cm, display_labels = ['No', 'Yes'])\n",
    "cmplot.plot()\n",
    "cmplot.ax_.set(title = 'Sales Classification Confusion Matrix(Train)', \n",
    "               xlabel = 'Predicted Value', ylabel = 'Actual Value')"
   ]
  },
  {
   "cell_type": "markdown",
   "id": "affe0b33",
   "metadata": {},
   "source": [
    "### Hyperparameter Optimization"
   ]
  },
  {
   "cell_type": "code",
   "execution_count": 33,
   "id": "e9729b38",
   "metadata": {},
   "outputs": [],
   "source": [
    "# create a dictionary of all hyperparameters to be experimented\n",
    "param_grid = { 'criterion': ['gini', 'entropy'], 'max_depth': np.arange(3, 15)}\n",
    "\n",
    "# Decision tree model\n",
    "dtree_model = DT()\n",
    "\n",
    "# GridsearchCV with cross-validation to perform experiments with parameters set\n",
    "dtree_gscv = GridSearchCV(dtree_model, param_grid, cv = 5, scoring = 'accuracy', return_train_score = False, verbose = 1)"
   ]
  },
  {
   "cell_type": "code",
   "execution_count": 34,
   "id": "df06c633",
   "metadata": {},
   "outputs": [
    {
     "name": "stdout",
     "output_type": "stream",
     "text": [
      "Fitting 5 folds for each of 24 candidates, totalling 120 fits\n"
     ]
    },
    {
     "data": {
      "text/plain": [
       "GridSearchCV(cv=5, estimator=DecisionTreeClassifier(),\n",
       "             param_grid={'criterion': ['gini', 'entropy'],\n",
       "                         'max_depth': array([ 3,  4,  5,  6,  7,  8,  9, 10, 11, 12, 13, 14])},\n",
       "             scoring='accuracy', verbose=1)"
      ]
     },
     "execution_count": 34,
     "metadata": {},
     "output_type": "execute_result"
    }
   ],
   "source": [
    "# Train\n",
    "dtree_gscv.fit(X_train, Y_train)"
   ]
  },
  {
   "cell_type": "code",
   "execution_count": 35,
   "id": "28448298",
   "metadata": {},
   "outputs": [
    {
     "data": {
      "text/plain": [
       "{'criterion': 'gini', 'max_depth': 4}"
      ]
     },
     "execution_count": 35,
     "metadata": {},
     "output_type": "execute_result"
    }
   ],
   "source": [
    "# The best set of parameter values\n",
    "dtree_gscv.best_params_"
   ]
  },
  {
   "cell_type": "code",
   "execution_count": 36,
   "id": "ade2f49b",
   "metadata": {},
   "outputs": [
    {
     "data": {
      "text/plain": [
       "DecisionTreeClassifier(max_depth=4)"
      ]
     },
     "execution_count": 36,
     "metadata": {},
     "output_type": "execute_result"
    }
   ],
   "source": [
    "# Model with best parameter values\n",
    "dtree_gscv.best_estimator_ "
   ]
  },
  {
   "cell_type": "code",
   "execution_count": 37,
   "id": "eaa8c33c",
   "metadata": {},
   "outputs": [
    {
     "data": {
      "text/plain": [
       "DecisionTreeClassifier(max_depth=4)"
      ]
     },
     "execution_count": 37,
     "metadata": {},
     "output_type": "execute_result"
    }
   ],
   "source": [
    "# Model with best parameter values\n",
    "DT_best = dtree_gscv.best_estimator_\n",
    "DT_best"
   ]
  },
  {
   "cell_type": "code",
   "execution_count": 38,
   "id": "9b1b4c0c",
   "metadata": {},
   "outputs": [
    {
     "data": {
      "text/plain": [
       "array(['NO', 'NO', 'NO', 'NO', 'YES', 'NO', 'YES', 'NO', 'NO', 'NO', 'NO',\n",
       "       'NO', 'NO', 'NO', 'NO', 'NO', 'NO', 'NO', 'YES', 'NO', 'NO', 'NO',\n",
       "       'YES', 'YES', 'NO', 'YES', 'NO', 'NO', 'NO', 'NO', 'YES', 'NO',\n",
       "       'NO', 'YES', 'YES', 'NO', 'YES', 'YES', 'NO', 'YES', 'NO', 'NO',\n",
       "       'NO', 'NO', 'NO', 'YES', 'NO', 'NO', 'NO', 'NO', 'NO', 'NO', 'NO',\n",
       "       'YES', 'NO', 'YES', 'NO', 'NO', 'NO', 'NO', 'NO', 'NO', 'YES',\n",
       "       'NO', 'NO', 'YES', 'NO', 'YES', 'NO', 'NO', 'NO', 'NO', 'NO', 'NO',\n",
       "       'YES', 'NO', 'NO', 'NO', 'NO', 'YES', 'NO', 'NO', 'YES', 'NO',\n",
       "       'YES', 'YES', 'YES', 'NO', 'YES', 'NO', 'NO', 'NO', 'NO', 'YES',\n",
       "       'NO', 'NO', 'YES', 'NO', 'YES', 'NO', 'NO', 'NO', 'NO', 'NO', 'NO',\n",
       "       'NO', 'NO', 'YES', 'NO', 'NO', 'NO', 'NO', 'NO', 'YES', 'NO', 'NO',\n",
       "       'NO', 'NO', 'NO', 'NO', 'YES', 'YES', 'NO', 'NO', 'YES', 'NO',\n",
       "       'NO', 'YES', 'NO', 'NO', 'YES', 'YES', 'YES', 'YES', 'NO', 'YES',\n",
       "       'YES', 'NO', 'NO', 'NO', 'NO', 'NO', 'YES', 'NO', 'NO', 'NO', 'NO',\n",
       "       'NO', 'YES', 'NO', 'YES', 'YES', 'NO', 'NO'], dtype=object)"
      ]
     },
     "execution_count": 38,
     "metadata": {},
     "output_type": "execute_result"
    }
   ],
   "source": [
    "# Again predict on Test data\n",
    "\n",
    "pred1 = DT_best.predict(X_test)\n",
    "pred1"
   ]
  },
  {
   "cell_type": "code",
   "execution_count": 39,
   "id": "d57d4a5b",
   "metadata": {},
   "outputs": [
    {
     "data": {
      "text/html": [
       "<div>\n",
       "<style scoped>\n",
       "    .dataframe tbody tr th:only-of-type {\n",
       "        vertical-align: middle;\n",
       "    }\n",
       "\n",
       "    .dataframe tbody tr th {\n",
       "        vertical-align: top;\n",
       "    }\n",
       "\n",
       "    .dataframe thead th {\n",
       "        text-align: right;\n",
       "    }\n",
       "</style>\n",
       "<table border=\"1\" class=\"dataframe\">\n",
       "  <thead>\n",
       "    <tr style=\"text-align: right;\">\n",
       "      <th>Predictions</th>\n",
       "      <th>NO</th>\n",
       "      <th>YES</th>\n",
       "    </tr>\n",
       "    <tr>\n",
       "      <th>Actual</th>\n",
       "      <th></th>\n",
       "      <th></th>\n",
       "    </tr>\n",
       "  </thead>\n",
       "  <tbody>\n",
       "    <tr>\n",
       "      <th>NO</th>\n",
       "      <td>82</td>\n",
       "      <td>18</td>\n",
       "    </tr>\n",
       "    <tr>\n",
       "      <th>YES</th>\n",
       "      <td>28</td>\n",
       "      <td>26</td>\n",
       "    </tr>\n",
       "  </tbody>\n",
       "</table>\n",
       "</div>"
      ],
      "text/plain": [
       "Predictions  NO  YES\n",
       "Actual              \n",
       "NO           82   18\n",
       "YES          28   26"
      ]
     },
     "execution_count": 39,
     "metadata": {},
     "output_type": "execute_result"
    }
   ],
   "source": [
    "pd.crosstab(Y_test, pred1,  rownames = ['Actual'], colnames = ['Predictions'])"
   ]
  },
  {
   "cell_type": "code",
   "execution_count": 40,
   "id": "9fc5f29f",
   "metadata": {},
   "outputs": [
    {
     "name": "stdout",
     "output_type": "stream",
     "text": [
      "0.7012987012987013\n"
     ]
    }
   ],
   "source": [
    "# Accuracy\n",
    "print(accuracy_score(Y_test, pred1))"
   ]
  },
  {
   "cell_type": "code",
   "execution_count": 41,
   "id": "78bea183",
   "metadata": {},
   "outputs": [
    {
     "data": {
      "text/plain": [
       "[Text(0.5, 1.0, 'Sales Classification Confusion Matrix(Train)'),\n",
       " Text(0.5, 0, 'Predicted Value'),\n",
       " Text(0, 0.5, 'Actual Value')]"
      ]
     },
     "execution_count": 41,
     "metadata": {},
     "output_type": "execute_result"
    },
    {
     "data": {
      "image/png": "[encoded data removed]",
      "text/plain": [
       "<Figure size 640x480 with 2 Axes>"
      ]
     },
     "metadata": {},
     "output_type": "display_data"
    }
   ],
   "source": [
    "# Confusion Matrix - Heat Map\n",
    "cm = skmet.confusion_matrix(Y_test, pred1)\n",
    "cmplot = skmet.ConfusionMatrixDisplay(confusion_matrix = cm, display_labels = ['No', 'Yes'])\n",
    "cmplot.plot()\n",
    "cmplot.ax_.set(title = 'Sales Classification Confusion Matrix(Train)', \n",
    "               xlabel = 'Predicted Value', ylabel = 'Actual Value')"
   ]
  },
  {
   "cell_type": "code",
   "execution_count": null,
   "id": "680e955c",
   "metadata": {},
   "outputs": [],
   "source": []
  },
  {
   "cell_type": "code",
   "execution_count": 42,
   "id": "5298fe21",
   "metadata": {},
   "outputs": [],
   "source": [
    "import os\n",
    "import graphviz\n",
    "from sklearn import tree\n",
    "from sklearn.tree import export_graphviz"
   ]
  },
  {
   "cell_type": "code",
   "execution_count": 43,
   "id": "62d1c322",
   "metadata": {},
   "outputs": [
    {
     "data": {
      "text/plain": [
       "list"
      ]
     },
     "execution_count": 43,
     "metadata": {},
     "output_type": "execute_result"
    }
   ],
   "source": [
    "predictors = list(X.columns)\n",
    "type(predictors)"
   ]
  },
  {
   "cell_type": "code",
   "execution_count": 44,
   "id": "cbd541e0",
   "metadata": {},
   "outputs": [],
   "source": [
    "dot_data = tree.export_graphviz(DT_best, filled = True, rounded = True, feature_names = predictors, class_names = ['Yes', 'No'], out_file = None)"
   ]
  },
  {
   "cell_type": "code",
   "execution_count": 45,
   "id": "ae0b995c",
   "metadata": {},
   "outputs": [
    {
     "data": {
      "image/svg+xml": [
       "<?xml version=\"1.0\" encoding=\"UTF-8\" standalone=\"no\"?>\n",
       "<!DOCTYPE svg PUBLIC \"-//W3C//DTD SVG 1.1//EN\"\n",
       " \"http://www.w3.org/Graphics/SVG/1.1/DTD/svg11.dtd\">\n",
       "<!-- Generated by graphviz version 7.1.0 (20230121.1956)\n",
       " -->\n",
       "<!-- Title: Tree Pages: 1 -->\n",
       "<svg width=\"1966pt\" height=\"552pt\"\n",
       " viewBox=\"0.00 0.00 1966.00 552.00\" xmlns=\"http://www.w3.org/2000/svg\" xmlns:xlink=\"http://www.w3.org/1999/xlink\">\n",
       "<g id=\"graph0\" class=\"graph\" transform=\"scale(1 1) rotate(0) translate(4 548)\">\n",
       "<title>Tree</title>\n",
       "<polygon fill=\"white\" stroke=\"none\" points=\"-4,4 -4,-548 1962,-548 1962,4 -4,4\"/>\n",
       "<!-- 0 -->\n",
       "<g id=\"node1\" class=\"node\">\n",
       "<title>0</title>\n",
       "<path fill=\"#f3c4a3\" stroke=\"black\" d=\"M1011,-544C1011,-544 764,-544 764,-544 758,-544 752,-538 752,-532 752,-532 752,-473 752,-473 752,-467 758,-461 764,-461 764,-461 1011,-461 1011,-461 1017,-461 1023,-467 1023,-473 1023,-473 1023,-532 1023,-532 1023,-538 1017,-544 1011,-544\"/>\n",
       "<text text-anchor=\"middle\" x=\"887.5\" y=\"-528.8\" font-family=\"Helvetica,sans-Serif\" font-size=\"14.00\"> Plasma glucose concentration &lt;= 0.558</text>\n",
       "<text text-anchor=\"middle\" x=\"887.5\" y=\"-513.8\" font-family=\"Helvetica,sans-Serif\" font-size=\"14.00\">gini = 0.454</text>\n",
       "<text text-anchor=\"middle\" x=\"887.5\" y=\"-498.8\" font-family=\"Helvetica,sans-Serif\" font-size=\"14.00\">samples = 614</text>\n",
       "<text text-anchor=\"middle\" x=\"887.5\" y=\"-483.8\" font-family=\"Helvetica,sans-Serif\" font-size=\"14.00\">value = [400, 214]</text>\n",
       "<text text-anchor=\"middle\" x=\"887.5\" y=\"-468.8\" font-family=\"Helvetica,sans-Serif\" font-size=\"14.00\">class = Yes</text>\n",
       "</g>\n",
       "<!-- 1 -->\n",
       "<g id=\"node2\" class=\"node\">\n",
       "<title>1</title>\n",
       "<path fill=\"#eca16b\" stroke=\"black\" d=\"M809,-425C809,-425 678,-425 678,-425 672,-425 666,-419 666,-413 666,-413 666,-354 666,-354 666,-348 672,-342 678,-342 678,-342 809,-342 809,-342 815,-342 821,-348 821,-354 821,-354 821,-413 821,-413 821,-419 815,-425 809,-425\"/>\n",
       "<text text-anchor=\"middle\" x=\"743.5\" y=\"-409.8\" font-family=\"Helvetica,sans-Serif\" font-size=\"14.00\"> Age (years) &lt;= 0.165</text>\n",
       "<text text-anchor=\"middle\" x=\"743.5\" y=\"-394.8\" font-family=\"Helvetica,sans-Serif\" font-size=\"14.00\">gini = 0.322</text>\n",
       "<text text-anchor=\"middle\" x=\"743.5\" y=\"-379.8\" font-family=\"Helvetica,sans-Serif\" font-size=\"14.00\">samples = 392</text>\n",
       "<text text-anchor=\"middle\" x=\"743.5\" y=\"-364.8\" font-family=\"Helvetica,sans-Serif\" font-size=\"14.00\">value = [313, 79]</text>\n",
       "<text text-anchor=\"middle\" x=\"743.5\" y=\"-349.8\" font-family=\"Helvetica,sans-Serif\" font-size=\"14.00\">class = Yes</text>\n",
       "</g>\n",
       "<!-- 0&#45;&gt;1 -->\n",
       "<g id=\"edge1\" class=\"edge\">\n",
       "<title>0&#45;&gt;1</title>\n",
       "<path fill=\"none\" stroke=\"black\" d=\"M837.14,-460.58C825.89,-451.44 813.87,-441.67 802.32,-432.29\"/>\n",
       "<polygon fill=\"black\" stroke=\"black\" points=\"804.74,-429.74 794.77,-426.15 800.32,-435.18 804.74,-429.74\"/>\n",
       "<text text-anchor=\"middle\" x=\"796.17\" y=\"-446.37\" font-family=\"Helvetica,sans-Serif\" font-size=\"14.00\">True</text>\n",
       "</g>\n",
       "<!-- 16 -->\n",
       "<g id=\"node17\" class=\"node\">\n",
       "<title>16</title>\n",
       "<path fill=\"#b9dcf6\" stroke=\"black\" d=\"M1306.5,-425C1306.5,-425 1140.5,-425 1140.5,-425 1134.5,-425 1128.5,-419 1128.5,-413 1128.5,-413 1128.5,-354 1128.5,-354 1128.5,-348 1134.5,-342 1140.5,-342 1140.5,-342 1306.5,-342 1306.5,-342 1312.5,-342 1318.5,-348 1318.5,-354 1318.5,-354 1318.5,-413 1318.5,-413 1318.5,-419 1312.5,-425 1306.5,-425\"/>\n",
       "<text text-anchor=\"middle\" x=\"1223.5\" y=\"-409.8\" font-family=\"Helvetica,sans-Serif\" font-size=\"14.00\"> Body mass index &lt;= 0.446</text>\n",
       "<text text-anchor=\"middle\" x=\"1223.5\" y=\"-394.8\" font-family=\"Helvetica,sans-Serif\" font-size=\"14.00\">gini = 0.477</text>\n",
       "<text text-anchor=\"middle\" x=\"1223.5\" y=\"-379.8\" font-family=\"Helvetica,sans-Serif\" font-size=\"14.00\">samples = 222</text>\n",
       "<text text-anchor=\"middle\" x=\"1223.5\" y=\"-364.8\" font-family=\"Helvetica,sans-Serif\" font-size=\"14.00\">value = [87, 135]</text>\n",
       "<text text-anchor=\"middle\" x=\"1223.5\" y=\"-349.8\" font-family=\"Helvetica,sans-Serif\" font-size=\"14.00\">class = No</text>\n",
       "</g>\n",
       "<!-- 0&#45;&gt;16 -->\n",
       "<g id=\"edge16\" class=\"edge\">\n",
       "<title>0&#45;&gt;16</title>\n",
       "<path fill=\"none\" stroke=\"black\" d=\"M1005.02,-460.58C1041.7,-447.8 1081.93,-433.8 1117.76,-421.32\"/>\n",
       "<polygon fill=\"black\" stroke=\"black\" points=\"1118.51,-424.76 1126.8,-418.17 1116.21,-418.15 1118.51,-424.76\"/>\n",
       "<text text-anchor=\"middle\" x=\"1117.35\" y=\"-436.48\" font-family=\"Helvetica,sans-Serif\" font-size=\"14.00\">False</text>\n",
       "</g>\n",
       "<!-- 2 -->\n",
       "<g id=\"node3\" class=\"node\">\n",
       "<title>2</title>\n",
       "<path fill=\"#e78c4a\" stroke=\"black\" d=\"M497.5,-306C497.5,-306 331.5,-306 331.5,-306 325.5,-306 319.5,-300 319.5,-294 319.5,-294 319.5,-235 319.5,-235 319.5,-229 325.5,-223 331.5,-223 331.5,-223 497.5,-223 497.5,-223 503.5,-223 509.5,-229 509.5,-235 509.5,-235 509.5,-294 509.5,-294 509.5,-300 503.5,-306 497.5,-306\"/>\n",
       "<text text-anchor=\"middle\" x=\"414.5\" y=\"-290.8\" font-family=\"Helvetica,sans-Serif\" font-size=\"14.00\"> Body mass index &lt;= 0.473</text>\n",
       "<text text-anchor=\"middle\" x=\"414.5\" y=\"-275.8\" font-family=\"Helvetica,sans-Serif\" font-size=\"14.00\">gini = 0.148</text>\n",
       "<text text-anchor=\"middle\" x=\"414.5\" y=\"-260.8\" font-family=\"Helvetica,sans-Serif\" font-size=\"14.00\">samples = 211</text>\n",
       "<text text-anchor=\"middle\" x=\"414.5\" y=\"-245.8\" font-family=\"Helvetica,sans-Serif\" font-size=\"14.00\">value = [194, 17]</text>\n",
       "<text text-anchor=\"middle\" x=\"414.5\" y=\"-230.8\" font-family=\"Helvetica,sans-Serif\" font-size=\"14.00\">class = Yes</text>\n",
       "</g>\n",
       "<!-- 1&#45;&gt;2 -->\n",
       "<g id=\"edge2\" class=\"edge\">\n",
       "<title>1&#45;&gt;2</title>\n",
       "<path fill=\"none\" stroke=\"black\" d=\"M665.53,-354.77C622.16,-339.35 567.57,-319.94 520.39,-303.16\"/>\n",
       "<polygon fill=\"black\" stroke=\"black\" points=\"521.84,-299.96 511.24,-299.9 519.49,-306.55 521.84,-299.96\"/>\n",
       "</g>\n",
       "<!-- 9 -->\n",
       "<g id=\"node10\" class=\"node\">\n",
       "<title>9</title>\n",
       "<path fill=\"#f3c3a0\" stroke=\"black\" d=\"M826.5,-306C826.5,-306 660.5,-306 660.5,-306 654.5,-306 648.5,-300 648.5,-294 648.5,-294 648.5,-235 648.5,-235 648.5,-229 654.5,-223 660.5,-223 660.5,-223 826.5,-223 826.5,-223 832.5,-223 838.5,-229 838.5,-235 838.5,-235 838.5,-294 838.5,-294 838.5,-300 832.5,-306 826.5,-306\"/>\n",
       "<text text-anchor=\"middle\" x=\"743.5\" y=\"-290.8\" font-family=\"Helvetica,sans-Serif\" font-size=\"14.00\"> Body mass index &lt;= 0.366</text>\n",
       "<text text-anchor=\"middle\" x=\"743.5\" y=\"-275.8\" font-family=\"Helvetica,sans-Serif\" font-size=\"14.00\">gini = 0.45</text>\n",
       "<text text-anchor=\"middle\" x=\"743.5\" y=\"-260.8\" font-family=\"Helvetica,sans-Serif\" font-size=\"14.00\">samples = 181</text>\n",
       "<text text-anchor=\"middle\" x=\"743.5\" y=\"-245.8\" font-family=\"Helvetica,sans-Serif\" font-size=\"14.00\">value = [119, 62]</text>\n",
       "<text text-anchor=\"middle\" x=\"743.5\" y=\"-230.8\" font-family=\"Helvetica,sans-Serif\" font-size=\"14.00\">class = Yes</text>\n",
       "</g>\n",
       "<!-- 1&#45;&gt;9 -->\n",
       "<g id=\"edge9\" class=\"edge\">\n",
       "<title>1&#45;&gt;9</title>\n",
       "<path fill=\"none\" stroke=\"black\" d=\"M743.5,-341.58C743.5,-333.79 743.5,-325.53 743.5,-317.45\"/>\n",
       "<polygon fill=\"black\" stroke=\"black\" points=\"747,-317.71 743.5,-307.71 740,-317.71 747,-317.71\"/>\n",
       "</g>\n",
       "<!-- 3 -->\n",
       "<g id=\"node4\" class=\"node\">\n",
       "<title>3</title>\n",
       "<path fill=\"#e5833c\" stroke=\"black\" d=\"M289,-187C289,-187 68,-187 68,-187 62,-187 56,-181 56,-175 56,-175 56,-116 56,-116 56,-110 62,-104 68,-104 68,-104 289,-104 289,-104 295,-104 301,-110 301,-116 301,-116 301,-175 301,-175 301,-181 295,-187 289,-187\"/>\n",
       "<text text-anchor=\"middle\" x=\"178.5\" y=\"-171.8\" font-family=\"Helvetica,sans-Serif\" font-size=\"14.00\"> Number of times pregnant &lt;= 0.556</text>\n",
       "<text text-anchor=\"middle\" x=\"178.5\" y=\"-156.8\" font-family=\"Helvetica,sans-Serif\" font-size=\"14.00\">gini = 0.033</text>\n",
       "<text text-anchor=\"middle\" x=\"178.5\" y=\"-141.8\" font-family=\"Helvetica,sans-Serif\" font-size=\"14.00\">samples = 119</text>\n",
       "<text text-anchor=\"middle\" x=\"178.5\" y=\"-126.8\" font-family=\"Helvetica,sans-Serif\" font-size=\"14.00\">value = [117, 2]</text>\n",
       "<text text-anchor=\"middle\" x=\"178.5\" y=\"-111.8\" font-family=\"Helvetica,sans-Serif\" font-size=\"14.00\">class = Yes</text>\n",
       "</g>\n",
       "<!-- 2&#45;&gt;3 -->\n",
       "<g id=\"edge3\" class=\"edge\">\n",
       "<title>2&#45;&gt;3</title>\n",
       "<path fill=\"none\" stroke=\"black\" d=\"M331.96,-222.58C312.29,-212.83 291.17,-202.36 271.08,-192.4\"/>\n",
       "<polygon fill=\"black\" stroke=\"black\" points=\"272.86,-189.38 262.35,-188.07 269.76,-195.65 272.86,-189.38\"/>\n",
       "</g>\n",
       "<!-- 6 -->\n",
       "<g id=\"node7\" class=\"node\">\n",
       "<title>6</title>\n",
       "<path fill=\"#ea9a60\" stroke=\"black\" d=\"M497.5,-187C497.5,-187 331.5,-187 331.5,-187 325.5,-187 319.5,-181 319.5,-175 319.5,-175 319.5,-116 319.5,-116 319.5,-110 325.5,-104 331.5,-104 331.5,-104 497.5,-104 497.5,-104 503.5,-104 509.5,-110 509.5,-116 509.5,-116 509.5,-175 509.5,-175 509.5,-181 503.5,-187 497.5,-187\"/>\n",
       "<text text-anchor=\"middle\" x=\"414.5\" y=\"-171.8\" font-family=\"Helvetica,sans-Serif\" font-size=\"14.00\"> Body mass index &lt;= 0.546</text>\n",
       "<text text-anchor=\"middle\" x=\"414.5\" y=\"-156.8\" font-family=\"Helvetica,sans-Serif\" font-size=\"14.00\">gini = 0.273</text>\n",
       "<text text-anchor=\"middle\" x=\"414.5\" y=\"-141.8\" font-family=\"Helvetica,sans-Serif\" font-size=\"14.00\">samples = 92</text>\n",
       "<text text-anchor=\"middle\" x=\"414.5\" y=\"-126.8\" font-family=\"Helvetica,sans-Serif\" font-size=\"14.00\">value = [77, 15]</text>\n",
       "<text text-anchor=\"middle\" x=\"414.5\" y=\"-111.8\" font-family=\"Helvetica,sans-Serif\" font-size=\"14.00\">class = Yes</text>\n",
       "</g>\n",
       "<!-- 2&#45;&gt;6 -->\n",
       "<g id=\"edge6\" class=\"edge\">\n",
       "<title>2&#45;&gt;6</title>\n",
       "<path fill=\"none\" stroke=\"black\" d=\"M414.5,-222.58C414.5,-214.79 414.5,-206.53 414.5,-198.45\"/>\n",
       "<polygon fill=\"black\" stroke=\"black\" points=\"418,-198.71 414.5,-188.71 411,-198.71 418,-198.71\"/>\n",
       "</g>\n",
       "<!-- 4 -->\n",
       "<g id=\"node5\" class=\"node\">\n",
       "<title>4</title>\n",
       "<path fill=\"#e5823b\" stroke=\"black\" d=\"M101,-68C101,-68 12,-68 12,-68 6,-68 0,-62 0,-56 0,-56 0,-12 0,-12 0,-6 6,0 12,0 12,0 101,0 101,0 107,0 113,-6 113,-12 113,-12 113,-56 113,-56 113,-62 107,-68 101,-68\"/>\n",
       "<text text-anchor=\"middle\" x=\"56.5\" y=\"-52.8\" font-family=\"Helvetica,sans-Serif\" font-size=\"14.00\">gini = 0.017</text>\n",
       "<text text-anchor=\"middle\" x=\"56.5\" y=\"-37.8\" font-family=\"Helvetica,sans-Serif\" font-size=\"14.00\">samples = 118</text>\n",
       "<text text-anchor=\"middle\" x=\"56.5\" y=\"-22.8\" font-family=\"Helvetica,sans-Serif\" font-size=\"14.00\">value = [117, 1]</text>\n",
       "<text text-anchor=\"middle\" x=\"56.5\" y=\"-7.8\" font-family=\"Helvetica,sans-Serif\" font-size=\"14.00\">class = Yes</text>\n",
       "</g>\n",
       "<!-- 3&#45;&gt;4 -->\n",
       "<g id=\"edge4\" class=\"edge\">\n",
       "<title>3&#45;&gt;4</title>\n",
       "<path fill=\"none\" stroke=\"black\" d=\"M133.07,-103.73C122.91,-94.61 112.13,-84.93 101.97,-75.81\"/>\n",
       "<polygon fill=\"black\" stroke=\"black\" points=\"104.51,-73.39 94.73,-69.31 99.83,-78.59 104.51,-73.39\"/>\n",
       "</g>\n",
       "<!-- 5 -->\n",
       "<g id=\"node6\" class=\"node\">\n",
       "<title>5</title>\n",
       "<path fill=\"#399de5\" stroke=\"black\" d=\"M216,-68C216,-68 143,-68 143,-68 137,-68 131,-62 131,-56 131,-56 131,-12 131,-12 131,-6 137,0 143,0 143,0 216,0 216,0 222,0 228,-6 228,-12 228,-12 228,-56 228,-56 228,-62 222,-68 216,-68\"/>\n",
       "<text text-anchor=\"middle\" x=\"179.5\" y=\"-52.8\" font-family=\"Helvetica,sans-Serif\" font-size=\"14.00\">gini = 0.0</text>\n",
       "<text text-anchor=\"middle\" x=\"179.5\" y=\"-37.8\" font-family=\"Helvetica,sans-Serif\" font-size=\"14.00\">samples = 1</text>\n",
       "<text text-anchor=\"middle\" x=\"179.5\" y=\"-22.8\" font-family=\"Helvetica,sans-Serif\" font-size=\"14.00\">value = [0, 1]</text>\n",
       "<text text-anchor=\"middle\" x=\"179.5\" y=\"-7.8\" font-family=\"Helvetica,sans-Serif\" font-size=\"14.00\">class = No</text>\n",
       "</g>\n",
       "<!-- 3&#45;&gt;5 -->\n",
       "<g id=\"edge5\" class=\"edge\">\n",
       "<title>3&#45;&gt;5</title>\n",
       "<path fill=\"none\" stroke=\"black\" d=\"M178.87,-103.73C178.94,-95.88 179.02,-87.63 179.09,-79.67\"/>\n",
       "<polygon fill=\"black\" stroke=\"black\" points=\"182.59,-79.84 179.18,-69.81 175.59,-79.78 182.59,-79.84\"/>\n",
       "</g>\n",
       "<!-- 7 -->\n",
       "<g id=\"node8\" class=\"node\">\n",
       "<title>7</title>\n",
       "<path fill=\"#f1bd97\" stroke=\"black\" d=\"M339,-68C339,-68 258,-68 258,-68 252,-68 246,-62 246,-56 246,-56 246,-12 246,-12 246,-6 252,0 258,0 258,0 339,0 339,0 345,0 351,-6 351,-12 351,-12 351,-56 351,-56 351,-62 345,-68 339,-68\"/>\n",
       "<text text-anchor=\"middle\" x=\"298.5\" y=\"-52.8\" font-family=\"Helvetica,sans-Serif\" font-size=\"14.00\">gini = 0.436</text>\n",
       "<text text-anchor=\"middle\" x=\"298.5\" y=\"-37.8\" font-family=\"Helvetica,sans-Serif\" font-size=\"14.00\">samples = 28</text>\n",
       "<text text-anchor=\"middle\" x=\"298.5\" y=\"-22.8\" font-family=\"Helvetica,sans-Serif\" font-size=\"14.00\">value = [19, 9]</text>\n",
       "<text text-anchor=\"middle\" x=\"298.5\" y=\"-7.8\" font-family=\"Helvetica,sans-Serif\" font-size=\"14.00\">class = Yes</text>\n",
       "</g>\n",
       "<!-- 6&#45;&gt;7 -->\n",
       "<g id=\"edge7\" class=\"edge\">\n",
       "<title>6&#45;&gt;7</title>\n",
       "<path fill=\"none\" stroke=\"black\" d=\"M371.31,-103.73C361.74,-94.7 351.6,-85.12 342.02,-76.08\"/>\n",
       "<polygon fill=\"black\" stroke=\"black\" points=\"344.55,-73.66 334.88,-69.34 339.75,-78.75 344.55,-73.66\"/>\n",
       "</g>\n",
       "<!-- 8 -->\n",
       "<g id=\"node9\" class=\"node\">\n",
       "<title>8</title>\n",
       "<path fill=\"#e88e4d\" stroke=\"black\" d=\"M462,-68C462,-68 381,-68 381,-68 375,-68 369,-62 369,-56 369,-56 369,-12 369,-12 369,-6 375,0 381,0 381,0 462,0 462,0 468,0 474,-6 474,-12 474,-12 474,-56 474,-56 474,-62 468,-68 462,-68\"/>\n",
       "<text text-anchor=\"middle\" x=\"421.5\" y=\"-52.8\" font-family=\"Helvetica,sans-Serif\" font-size=\"14.00\">gini = 0.17</text>\n",
       "<text text-anchor=\"middle\" x=\"421.5\" y=\"-37.8\" font-family=\"Helvetica,sans-Serif\" font-size=\"14.00\">samples = 64</text>\n",
       "<text text-anchor=\"middle\" x=\"421.5\" y=\"-22.8\" font-family=\"Helvetica,sans-Serif\" font-size=\"14.00\">value = [58, 6]</text>\n",
       "<text text-anchor=\"middle\" x=\"421.5\" y=\"-7.8\" font-family=\"Helvetica,sans-Serif\" font-size=\"14.00\">class = Yes</text>\n",
       "</g>\n",
       "<!-- 6&#45;&gt;8 -->\n",
       "<g id=\"edge8\" class=\"edge\">\n",
       "<title>6&#45;&gt;8</title>\n",
       "<path fill=\"none\" stroke=\"black\" d=\"M417.11,-103.73C417.61,-95.88 418.14,-87.63 418.64,-79.67\"/>\n",
       "<polygon fill=\"black\" stroke=\"black\" points=\"422.13,-80.01 419.27,-69.81 415.14,-79.57 422.13,-80.01\"/>\n",
       "</g>\n",
       "<!-- 10 -->\n",
       "<g id=\"node11\" class=\"node\">\n",
       "<title>10</title>\n",
       "<path fill=\"#e68844\" stroke=\"black\" d=\"M697.5,-187C697.5,-187 539.5,-187 539.5,-187 533.5,-187 527.5,-181 527.5,-175 527.5,-175 527.5,-116 527.5,-116 527.5,-110 533.5,-104 539.5,-104 539.5,-104 697.5,-104 697.5,-104 703.5,-104 709.5,-110 709.5,-116 709.5,-116 709.5,-175 709.5,-175 709.5,-181 703.5,-187 697.5,-187\"/>\n",
       "<text text-anchor=\"middle\" x=\"618.5\" y=\"-171.8\" font-family=\"Helvetica,sans-Serif\" font-size=\"14.00\"> Body mass index &lt;= 0.08</text>\n",
       "<text text-anchor=\"middle\" x=\"618.5\" y=\"-156.8\" font-family=\"Helvetica,sans-Serif\" font-size=\"14.00\">gini = 0.1</text>\n",
       "<text text-anchor=\"middle\" x=\"618.5\" y=\"-141.8\" font-family=\"Helvetica,sans-Serif\" font-size=\"14.00\">samples = 38</text>\n",
       "<text text-anchor=\"middle\" x=\"618.5\" y=\"-126.8\" font-family=\"Helvetica,sans-Serif\" font-size=\"14.00\">value = [36, 2]</text>\n",
       "<text text-anchor=\"middle\" x=\"618.5\" y=\"-111.8\" font-family=\"Helvetica,sans-Serif\" font-size=\"14.00\">class = Yes</text>\n",
       "</g>\n",
       "<!-- 9&#45;&gt;10 -->\n",
       "<g id=\"edge10\" class=\"edge\">\n",
       "<title>9&#45;&gt;10</title>\n",
       "<path fill=\"none\" stroke=\"black\" d=\"M699.78,-222.58C690.21,-213.62 679.99,-204.06 670.15,-194.84\"/>\n",
       "<polygon fill=\"black\" stroke=\"black\" points=\"672.78,-192.51 663.09,-188.23 668,-197.62 672.78,-192.51\"/>\n",
       "</g>\n",
       "<!-- 13 -->\n",
       "<g id=\"node14\" class=\"node\">\n",
       "<title>13</title>\n",
       "<path fill=\"#f8dcc8\" stroke=\"black\" d=\"M987,-187C987,-187 740,-187 740,-187 734,-187 728,-181 728,-175 728,-175 728,-116 728,-116 728,-110 734,-104 740,-104 740,-104 987,-104 987,-104 993,-104 999,-110 999,-116 999,-116 999,-175 999,-175 999,-181 993,-187 987,-187\"/>\n",
       "<text text-anchor=\"middle\" x=\"863.5\" y=\"-171.8\" font-family=\"Helvetica,sans-Serif\" font-size=\"14.00\"> Plasma glucose concentration &lt;= 0.385</text>\n",
       "<text text-anchor=\"middle\" x=\"863.5\" y=\"-156.8\" font-family=\"Helvetica,sans-Serif\" font-size=\"14.00\">gini = 0.487</text>\n",
       "<text text-anchor=\"middle\" x=\"863.5\" y=\"-141.8\" font-family=\"Helvetica,sans-Serif\" font-size=\"14.00\">samples = 143</text>\n",
       "<text text-anchor=\"middle\" x=\"863.5\" y=\"-126.8\" font-family=\"Helvetica,sans-Serif\" font-size=\"14.00\">value = [83, 60]</text>\n",
       "<text text-anchor=\"middle\" x=\"863.5\" y=\"-111.8\" font-family=\"Helvetica,sans-Serif\" font-size=\"14.00\">class = Yes</text>\n",
       "</g>\n",
       "<!-- 9&#45;&gt;13 -->\n",
       "<g id=\"edge13\" class=\"edge\">\n",
       "<title>9&#45;&gt;13</title>\n",
       "<path fill=\"none\" stroke=\"black\" d=\"M785.47,-222.58C794.57,-213.71 804.27,-204.25 813.64,-195.12\"/>\n",
       "<polygon fill=\"black\" stroke=\"black\" points=\"815.96,-197.74 820.67,-188.26 811.07,-192.73 815.96,-197.74\"/>\n",
       "</g>\n",
       "<!-- 11 -->\n",
       "<g id=\"node12\" class=\"node\">\n",
       "<title>11</title>\n",
       "<path fill=\"#399de5\" stroke=\"black\" d=\"M577,-68C577,-68 504,-68 504,-68 498,-68 492,-62 492,-56 492,-56 492,-12 492,-12 492,-6 498,0 504,0 504,0 577,0 577,0 583,0 589,-6 589,-12 589,-12 589,-56 589,-56 589,-62 583,-68 577,-68\"/>\n",
       "<text text-anchor=\"middle\" x=\"540.5\" y=\"-52.8\" font-family=\"Helvetica,sans-Serif\" font-size=\"14.00\">gini = 0.0</text>\n",
       "<text text-anchor=\"middle\" x=\"540.5\" y=\"-37.8\" font-family=\"Helvetica,sans-Serif\" font-size=\"14.00\">samples = 2</text>\n",
       "<text text-anchor=\"middle\" x=\"540.5\" y=\"-22.8\" font-family=\"Helvetica,sans-Serif\" font-size=\"14.00\">value = [0, 2]</text>\n",
       "<text text-anchor=\"middle\" x=\"540.5\" y=\"-7.8\" font-family=\"Helvetica,sans-Serif\" font-size=\"14.00\">class = No</text>\n",
       "</g>\n",
       "<!-- 10&#45;&gt;11 -->\n",
       "<g id=\"edge11\" class=\"edge\">\n",
       "<title>10&#45;&gt;11</title>\n",
       "<path fill=\"none\" stroke=\"black\" d=\"M589.46,-103.73C583.35,-95.15 576.89,-86.09 570.74,-77.46\"/>\n",
       "<polygon fill=\"black\" stroke=\"black\" points=\"573.75,-75.65 565.1,-69.53 568.05,-79.71 573.75,-75.65\"/>\n",
       "</g>\n",
       "<!-- 12 -->\n",
       "<g id=\"node13\" class=\"node\">\n",
       "<title>12</title>\n",
       "<path fill=\"#e58139\" stroke=\"black\" d=\"M700,-68C700,-68 619,-68 619,-68 613,-68 607,-62 607,-56 607,-56 607,-12 607,-12 607,-6 613,0 619,0 619,0 700,0 700,0 706,0 712,-6 712,-12 712,-12 712,-56 712,-56 712,-62 706,-68 700,-68\"/>\n",
       "<text text-anchor=\"middle\" x=\"659.5\" y=\"-52.8\" font-family=\"Helvetica,sans-Serif\" font-size=\"14.00\">gini = 0.0</text>\n",
       "<text text-anchor=\"middle\" x=\"659.5\" y=\"-37.8\" font-family=\"Helvetica,sans-Serif\" font-size=\"14.00\">samples = 36</text>\n",
       "<text text-anchor=\"middle\" x=\"659.5\" y=\"-22.8\" font-family=\"Helvetica,sans-Serif\" font-size=\"14.00\">value = [36, 0]</text>\n",
       "<text text-anchor=\"middle\" x=\"659.5\" y=\"-7.8\" font-family=\"Helvetica,sans-Serif\" font-size=\"14.00\">class = Yes</text>\n",
       "</g>\n",
       "<!-- 10&#45;&gt;12 -->\n",
       "<g id=\"edge12\" class=\"edge\">\n",
       "<title>10&#45;&gt;12</title>\n",
       "<path fill=\"none\" stroke=\"black\" d=\"M633.77,-103.73C636.81,-95.61 640.01,-87.05 643.09,-78.84\"/>\n",
       "<polygon fill=\"black\" stroke=\"black\" points=\"646.27,-80.31 646.5,-69.72 639.72,-77.85 646.27,-80.31\"/>\n",
       "</g>\n",
       "<!-- 14 -->\n",
       "<g id=\"node15\" class=\"node\">\n",
       "<title>14</title>\n",
       "<path fill=\"#eb9d64\" stroke=\"black\" d=\"M823,-68C823,-68 742,-68 742,-68 736,-68 730,-62 730,-56 730,-56 730,-12 730,-12 730,-6 736,0 742,0 742,0 823,0 823,0 829,0 835,-6 835,-12 835,-12 835,-56 835,-56 835,-62 829,-68 823,-68\"/>\n",
       "<text text-anchor=\"middle\" x=\"782.5\" y=\"-52.8\" font-family=\"Helvetica,sans-Serif\" font-size=\"14.00\">gini = 0.295</text>\n",
       "<text text-anchor=\"middle\" x=\"782.5\" y=\"-37.8\" font-family=\"Helvetica,sans-Serif\" font-size=\"14.00\">samples = 39</text>\n",
       "<text text-anchor=\"middle\" x=\"782.5\" y=\"-22.8\" font-family=\"Helvetica,sans-Serif\" font-size=\"14.00\">value = [32, 7]</text>\n",
       "<text text-anchor=\"middle\" x=\"782.5\" y=\"-7.8\" font-family=\"Helvetica,sans-Serif\" font-size=\"14.00\">class = Yes</text>\n",
       "</g>\n",
       "<!-- 13&#45;&gt;14 -->\n",
       "<g id=\"edge14\" class=\"edge\">\n",
       "<title>13&#45;&gt;14</title>\n",
       "<path fill=\"none\" stroke=\"black\" d=\"M833.34,-103.73C827,-95.15 820.29,-86.09 813.91,-77.46\"/>\n",
       "<polygon fill=\"black\" stroke=\"black\" points=\"816.79,-75.47 808.03,-69.52 811.17,-79.64 816.79,-75.47\"/>\n",
       "</g>\n",
       "<!-- 15 -->\n",
       "<g id=\"node16\" class=\"node\">\n",
       "<title>15</title>\n",
       "<path fill=\"#f8fbfe\" stroke=\"black\" d=\"M954,-68C954,-68 865,-68 865,-68 859,-68 853,-62 853,-56 853,-56 853,-12 853,-12 853,-6 859,0 865,0 865,0 954,0 954,0 960,0 966,-6 966,-12 966,-12 966,-56 966,-56 966,-62 960,-68 954,-68\"/>\n",
       "<text text-anchor=\"middle\" x=\"909.5\" y=\"-52.8\" font-family=\"Helvetica,sans-Serif\" font-size=\"14.00\">gini = 0.5</text>\n",
       "<text text-anchor=\"middle\" x=\"909.5\" y=\"-37.8\" font-family=\"Helvetica,sans-Serif\" font-size=\"14.00\">samples = 104</text>\n",
       "<text text-anchor=\"middle\" x=\"909.5\" y=\"-22.8\" font-family=\"Helvetica,sans-Serif\" font-size=\"14.00\">value = [51, 53]</text>\n",
       "<text text-anchor=\"middle\" x=\"909.5\" y=\"-7.8\" font-family=\"Helvetica,sans-Serif\" font-size=\"14.00\">class = No</text>\n",
       "</g>\n",
       "<!-- 13&#45;&gt;15 -->\n",
       "<g id=\"edge15\" class=\"edge\">\n",
       "<title>13&#45;&gt;15</title>\n",
       "<path fill=\"none\" stroke=\"black\" d=\"M880.63,-103.73C884.04,-95.61 887.63,-87.05 891.08,-78.84\"/>\n",
       "<polygon fill=\"black\" stroke=\"black\" points=\"894.28,-80.27 894.92,-69.7 887.82,-77.56 894.28,-80.27\"/>\n",
       "</g>\n",
       "<!-- 17 -->\n",
       "<g id=\"node18\" class=\"node\">\n",
       "<title>17</title>\n",
       "<path fill=\"#f2c19e\" stroke=\"black\" d=\"M1347,-306C1347,-306 1100,-306 1100,-306 1094,-306 1088,-300 1088,-294 1088,-294 1088,-235 1088,-235 1088,-229 1094,-223 1100,-223 1100,-223 1347,-223 1347,-223 1353,-223 1359,-229 1359,-235 1359,-235 1359,-294 1359,-294 1359,-300 1353,-306 1347,-306\"/>\n",
       "<text text-anchor=\"middle\" x=\"1223.5\" y=\"-290.8\" font-family=\"Helvetica,sans-Serif\" font-size=\"14.00\"> Plasma glucose concentration &lt;= 0.669</text>\n",
       "<text text-anchor=\"middle\" x=\"1223.5\" y=\"-275.8\" font-family=\"Helvetica,sans-Serif\" font-size=\"14.00\">gini = 0.448</text>\n",
       "<text text-anchor=\"middle\" x=\"1223.5\" y=\"-260.8\" font-family=\"Helvetica,sans-Serif\" font-size=\"14.00\">samples = 65</text>\n",
       "<text text-anchor=\"middle\" x=\"1223.5\" y=\"-245.8\" font-family=\"Helvetica,sans-Serif\" font-size=\"14.00\">value = [43, 22]</text>\n",
       "<text text-anchor=\"middle\" x=\"1223.5\" y=\"-230.8\" font-family=\"Helvetica,sans-Serif\" font-size=\"14.00\">class = Yes</text>\n",
       "</g>\n",
       "<!-- 16&#45;&gt;17 -->\n",
       "<g id=\"edge17\" class=\"edge\">\n",
       "<title>16&#45;&gt;17</title>\n",
       "<path fill=\"none\" stroke=\"black\" d=\"M1223.5,-341.58C1223.5,-333.79 1223.5,-325.53 1223.5,-317.45\"/>\n",
       "<polygon fill=\"black\" stroke=\"black\" points=\"1227,-317.71 1223.5,-307.71 1220,-317.71 1227,-317.71\"/>\n",
       "</g>\n",
       "<!-- 24 -->\n",
       "<g id=\"node25\" class=\"node\">\n",
       "<title>24</title>\n",
       "<path fill=\"#86c3ef\" stroke=\"black\" d=\"M1688.5,-306C1688.5,-306 1460.5,-306 1460.5,-306 1454.5,-306 1448.5,-300 1448.5,-294 1448.5,-294 1448.5,-235 1448.5,-235 1448.5,-229 1454.5,-223 1460.5,-223 1460.5,-223 1688.5,-223 1688.5,-223 1694.5,-223 1700.5,-229 1700.5,-235 1700.5,-235 1700.5,-294 1700.5,-294 1700.5,-300 1694.5,-306 1688.5,-306\"/>\n",
       "<text text-anchor=\"middle\" x=\"1574.5\" y=\"-290.8\" font-family=\"Helvetica,sans-Serif\" font-size=\"14.00\"> Diabetes pedigree function &lt;= 0.317</text>\n",
       "<text text-anchor=\"middle\" x=\"1574.5\" y=\"-275.8\" font-family=\"Helvetica,sans-Serif\" font-size=\"14.00\">gini = 0.403</text>\n",
       "<text text-anchor=\"middle\" x=\"1574.5\" y=\"-260.8\" font-family=\"Helvetica,sans-Serif\" font-size=\"14.00\">samples = 157</text>\n",
       "<text text-anchor=\"middle\" x=\"1574.5\" y=\"-245.8\" font-family=\"Helvetica,sans-Serif\" font-size=\"14.00\">value = [44, 113]</text>\n",
       "<text text-anchor=\"middle\" x=\"1574.5\" y=\"-230.8\" font-family=\"Helvetica,sans-Serif\" font-size=\"14.00\">class = No</text>\n",
       "</g>\n",
       "<!-- 16&#45;&gt;24 -->\n",
       "<g id=\"edge24\" class=\"edge\">\n",
       "<title>16&#45;&gt;24</title>\n",
       "<path fill=\"none\" stroke=\"black\" d=\"M1318.95,-350.68C1356.5,-338.17 1400.27,-323.58 1440.87,-310.04\"/>\n",
       "<polygon fill=\"black\" stroke=\"black\" points=\"1441.85,-313.4 1450.23,-306.92 1439.64,-306.76 1441.85,-313.4\"/>\n",
       "</g>\n",
       "<!-- 18 -->\n",
       "<g id=\"node19\" class=\"node\">\n",
       "<title>18</title>\n",
       "<path fill=\"#ea985c\" stroke=\"black\" d=\"M1276,-187C1276,-187 1029,-187 1029,-187 1023,-187 1017,-181 1017,-175 1017,-175 1017,-116 1017,-116 1017,-110 1023,-104 1029,-104 1029,-104 1276,-104 1276,-104 1282,-104 1288,-110 1288,-116 1288,-116 1288,-175 1288,-175 1288,-181 1282,-187 1276,-187\"/>\n",
       "<text text-anchor=\"middle\" x=\"1152.5\" y=\"-171.8\" font-family=\"Helvetica,sans-Serif\" font-size=\"14.00\"> Plasma glucose concentration &lt;= 0.614</text>\n",
       "<text text-anchor=\"middle\" x=\"1152.5\" y=\"-156.8\" font-family=\"Helvetica,sans-Serif\" font-size=\"14.00\">gini = 0.257</text>\n",
       "<text text-anchor=\"middle\" x=\"1152.5\" y=\"-141.8\" font-family=\"Helvetica,sans-Serif\" font-size=\"14.00\">samples = 33</text>\n",
       "<text text-anchor=\"middle\" x=\"1152.5\" y=\"-126.8\" font-family=\"Helvetica,sans-Serif\" font-size=\"14.00\">value = [28, 5]</text>\n",
       "<text text-anchor=\"middle\" x=\"1152.5\" y=\"-111.8\" font-family=\"Helvetica,sans-Serif\" font-size=\"14.00\">class = Yes</text>\n",
       "</g>\n",
       "<!-- 17&#45;&gt;18 -->\n",
       "<g id=\"edge18\" class=\"edge\">\n",
       "<title>17&#45;&gt;18</title>\n",
       "<path fill=\"none\" stroke=\"black\" d=\"M1198.67,-222.58C1193.61,-214.25 1188.24,-205.39 1183.01,-196.78\"/>\n",
       "<polygon fill=\"black\" stroke=\"black\" points=\"1186.16,-195.23 1177.98,-188.49 1180.18,-198.86 1186.16,-195.23\"/>\n",
       "</g>\n",
       "<!-- 21 -->\n",
       "<g id=\"node22\" class=\"node\">\n",
       "<title>21</title>\n",
       "<path fill=\"#e8f3fc\" stroke=\"black\" d=\"M1449,-187C1449,-187 1318,-187 1318,-187 1312,-187 1306,-181 1306,-175 1306,-175 1306,-116 1306,-116 1306,-110 1312,-104 1318,-104 1318,-104 1449,-104 1449,-104 1455,-104 1461,-110 1461,-116 1461,-116 1461,-175 1461,-175 1461,-181 1455,-187 1449,-187\"/>\n",
       "<text text-anchor=\"middle\" x=\"1383.5\" y=\"-171.8\" font-family=\"Helvetica,sans-Serif\" font-size=\"14.00\"> Age (years) &lt;= 0.099</text>\n",
       "<text text-anchor=\"middle\" x=\"1383.5\" y=\"-156.8\" font-family=\"Helvetica,sans-Serif\" font-size=\"14.00\">gini = 0.498</text>\n",
       "<text text-anchor=\"middle\" x=\"1383.5\" y=\"-141.8\" font-family=\"Helvetica,sans-Serif\" font-size=\"14.00\">samples = 32</text>\n",
       "<text text-anchor=\"middle\" x=\"1383.5\" y=\"-126.8\" font-family=\"Helvetica,sans-Serif\" font-size=\"14.00\">value = [15, 17]</text>\n",
       "<text text-anchor=\"middle\" x=\"1383.5\" y=\"-111.8\" font-family=\"Helvetica,sans-Serif\" font-size=\"14.00\">class = No</text>\n",
       "</g>\n",
       "<!-- 17&#45;&gt;21 -->\n",
       "<g id=\"edge21\" class=\"edge\">\n",
       "<title>17&#45;&gt;21</title>\n",
       "<path fill=\"none\" stroke=\"black\" d=\"M1279.46,-222.58C1292.01,-213.41 1305.42,-203.6 1318.3,-194.17\"/>\n",
       "<polygon fill=\"black\" stroke=\"black\" points=\"1320.34,-197.02 1326.35,-188.29 1316.21,-191.37 1320.34,-197.02\"/>\n",
       "</g>\n",
       "<!-- 19 -->\n",
       "<g id=\"node20\" class=\"node\">\n",
       "<title>19</title>\n",
       "<path fill=\"#efb185\" stroke=\"black\" d=\"M1077,-68C1077,-68 996,-68 996,-68 990,-68 984,-62 984,-56 984,-56 984,-12 984,-12 984,-6 990,0 996,0 996,0 1077,0 1077,0 1083,0 1089,-6 1089,-12 1089,-12 1089,-56 1089,-56 1089,-62 1083,-68 1077,-68\"/>\n",
       "<text text-anchor=\"middle\" x=\"1036.5\" y=\"-52.8\" font-family=\"Helvetica,sans-Serif\" font-size=\"14.00\">gini = 0.401</text>\n",
       "<text text-anchor=\"middle\" x=\"1036.5\" y=\"-37.8\" font-family=\"Helvetica,sans-Serif\" font-size=\"14.00\">samples = 18</text>\n",
       "<text text-anchor=\"middle\" x=\"1036.5\" y=\"-22.8\" font-family=\"Helvetica,sans-Serif\" font-size=\"14.00\">value = [13, 5]</text>\n",
       "<text text-anchor=\"middle\" x=\"1036.5\" y=\"-7.8\" font-family=\"Helvetica,sans-Serif\" font-size=\"14.00\">class = Yes</text>\n",
       "</g>\n",
       "<!-- 18&#45;&gt;19 -->\n",
       "<g id=\"edge19\" class=\"edge\">\n",
       "<title>18&#45;&gt;19</title>\n",
       "<path fill=\"none\" stroke=\"black\" d=\"M1109.31,-103.73C1099.74,-94.7 1089.6,-85.12 1080.02,-76.08\"/>\n",
       "<polygon fill=\"black\" stroke=\"black\" points=\"1082.55,-73.66 1072.88,-69.34 1077.75,-78.75 1082.55,-73.66\"/>\n",
       "</g>\n",
       "<!-- 20 -->\n",
       "<g id=\"node21\" class=\"node\">\n",
       "<title>20</title>\n",
       "<path fill=\"#e58139\" stroke=\"black\" d=\"M1200,-68C1200,-68 1119,-68 1119,-68 1113,-68 1107,-62 1107,-56 1107,-56 1107,-12 1107,-12 1107,-6 1113,0 1119,0 1119,0 1200,0 1200,0 1206,0 1212,-6 1212,-12 1212,-12 1212,-56 1212,-56 1212,-62 1206,-68 1200,-68\"/>\n",
       "<text text-anchor=\"middle\" x=\"1159.5\" y=\"-52.8\" font-family=\"Helvetica,sans-Serif\" font-size=\"14.00\">gini = 0.0</text>\n",
       "<text text-anchor=\"middle\" x=\"1159.5\" y=\"-37.8\" font-family=\"Helvetica,sans-Serif\" font-size=\"14.00\">samples = 15</text>\n",
       "<text text-anchor=\"middle\" x=\"1159.5\" y=\"-22.8\" font-family=\"Helvetica,sans-Serif\" font-size=\"14.00\">value = [15, 0]</text>\n",
       "<text text-anchor=\"middle\" x=\"1159.5\" y=\"-7.8\" font-family=\"Helvetica,sans-Serif\" font-size=\"14.00\">class = Yes</text>\n",
       "</g>\n",
       "<!-- 18&#45;&gt;20 -->\n",
       "<g id=\"edge20\" class=\"edge\">\n",
       "<title>18&#45;&gt;20</title>\n",
       "<path fill=\"none\" stroke=\"black\" d=\"M1155.11,-103.73C1155.61,-95.88 1156.14,-87.63 1156.64,-79.67\"/>\n",
       "<polygon fill=\"black\" stroke=\"black\" points=\"1160.13,-80.01 1157.27,-69.81 1153.14,-79.57 1160.13,-80.01\"/>\n",
       "</g>\n",
       "<!-- 22 -->\n",
       "<g id=\"node23\" class=\"node\">\n",
       "<title>22</title>\n",
       "<path fill=\"#e58139\" stroke=\"black\" d=\"M1315,-68C1315,-68 1242,-68 1242,-68 1236,-68 1230,-62 1230,-56 1230,-56 1230,-12 1230,-12 1230,-6 1236,0 1242,0 1242,0 1315,0 1315,0 1321,0 1327,-6 1327,-12 1327,-12 1327,-56 1327,-56 1327,-62 1321,-68 1315,-68\"/>\n",
       "<text text-anchor=\"middle\" x=\"1278.5\" y=\"-52.8\" font-family=\"Helvetica,sans-Serif\" font-size=\"14.00\">gini = 0.0</text>\n",
       "<text text-anchor=\"middle\" x=\"1278.5\" y=\"-37.8\" font-family=\"Helvetica,sans-Serif\" font-size=\"14.00\">samples = 4</text>\n",
       "<text text-anchor=\"middle\" x=\"1278.5\" y=\"-22.8\" font-family=\"Helvetica,sans-Serif\" font-size=\"14.00\">value = [4, 0]</text>\n",
       "<text text-anchor=\"middle\" x=\"1278.5\" y=\"-7.8\" font-family=\"Helvetica,sans-Serif\" font-size=\"14.00\">class = Yes</text>\n",
       "</g>\n",
       "<!-- 21&#45;&gt;22 -->\n",
       "<g id=\"edge22\" class=\"edge\">\n",
       "<title>21&#45;&gt;22</title>\n",
       "<path fill=\"none\" stroke=\"black\" d=\"M1344.4,-103.73C1335.83,-94.79 1326.75,-85.32 1318.16,-76.36\"/>\n",
       "<polygon fill=\"black\" stroke=\"black\" points=\"1320.93,-74.19 1311.48,-69.39 1315.87,-79.03 1320.93,-74.19\"/>\n",
       "</g>\n",
       "<!-- 23 -->\n",
       "<g id=\"node24\" class=\"node\">\n",
       "<title>23</title>\n",
       "<path fill=\"#b9dcf6\" stroke=\"black\" d=\"M1446,-68C1446,-68 1357,-68 1357,-68 1351,-68 1345,-62 1345,-56 1345,-56 1345,-12 1345,-12 1345,-6 1351,0 1357,0 1357,0 1446,0 1446,0 1452,0 1458,-6 1458,-12 1458,-12 1458,-56 1458,-56 1458,-62 1452,-68 1446,-68\"/>\n",
       "<text text-anchor=\"middle\" x=\"1401.5\" y=\"-52.8\" font-family=\"Helvetica,sans-Serif\" font-size=\"14.00\">gini = 0.477</text>\n",
       "<text text-anchor=\"middle\" x=\"1401.5\" y=\"-37.8\" font-family=\"Helvetica,sans-Serif\" font-size=\"14.00\">samples = 28</text>\n",
       "<text text-anchor=\"middle\" x=\"1401.5\" y=\"-22.8\" font-family=\"Helvetica,sans-Serif\" font-size=\"14.00\">value = [11, 17]</text>\n",
       "<text text-anchor=\"middle\" x=\"1401.5\" y=\"-7.8\" font-family=\"Helvetica,sans-Serif\" font-size=\"14.00\">class = No</text>\n",
       "</g>\n",
       "<!-- 21&#45;&gt;23 -->\n",
       "<g id=\"edge23\" class=\"edge\">\n",
       "<title>21&#45;&gt;23</title>\n",
       "<path fill=\"none\" stroke=\"black\" d=\"M1390.2,-103.73C1391.51,-95.79 1392.88,-87.44 1394.2,-79.39\"/>\n",
       "<polygon fill=\"black\" stroke=\"black\" points=\"1397.61,-80.23 1395.78,-69.79 1390.7,-79.09 1397.61,-80.23\"/>\n",
       "</g>\n",
       "<!-- 25 -->\n",
       "<g id=\"node26\" class=\"node\">\n",
       "<title>25</title>\n",
       "<path fill=\"#c6e3f7\" stroke=\"black\" d=\"M1657.5,-187C1657.5,-187 1491.5,-187 1491.5,-187 1485.5,-187 1479.5,-181 1479.5,-175 1479.5,-175 1479.5,-116 1479.5,-116 1479.5,-110 1485.5,-104 1491.5,-104 1491.5,-104 1657.5,-104 1657.5,-104 1663.5,-104 1669.5,-110 1669.5,-116 1669.5,-116 1669.5,-175 1669.5,-175 1669.5,-181 1663.5,-187 1657.5,-187\"/>\n",
       "<text text-anchor=\"middle\" x=\"1574.5\" y=\"-171.8\" font-family=\"Helvetica,sans-Serif\" font-size=\"14.00\"> Body mass index &lt;= 0.765</text>\n",
       "<text text-anchor=\"middle\" x=\"1574.5\" y=\"-156.8\" font-family=\"Helvetica,sans-Serif\" font-size=\"14.00\">gini = 0.486</text>\n",
       "<text text-anchor=\"middle\" x=\"1574.5\" y=\"-141.8\" font-family=\"Helvetica,sans-Serif\" font-size=\"14.00\">samples = 77</text>\n",
       "<text text-anchor=\"middle\" x=\"1574.5\" y=\"-126.8\" font-family=\"Helvetica,sans-Serif\" font-size=\"14.00\">value = [32, 45]</text>\n",
       "<text text-anchor=\"middle\" x=\"1574.5\" y=\"-111.8\" font-family=\"Helvetica,sans-Serif\" font-size=\"14.00\">class = No</text>\n",
       "</g>\n",
       "<!-- 24&#45;&gt;25 -->\n",
       "<g id=\"edge25\" class=\"edge\">\n",
       "<title>24&#45;&gt;25</title>\n",
       "<path fill=\"none\" stroke=\"black\" d=\"M1574.5,-222.58C1574.5,-214.79 1574.5,-206.53 1574.5,-198.45\"/>\n",
       "<polygon fill=\"black\" stroke=\"black\" points=\"1578,-198.71 1574.5,-188.71 1571,-198.71 1578,-198.71\"/>\n",
       "</g>\n",
       "<!-- 28 -->\n",
       "<g id=\"node29\" class=\"node\">\n",
       "<title>28</title>\n",
       "<path fill=\"#5caeea\" stroke=\"black\" d=\"M1865.5,-187C1865.5,-187 1699.5,-187 1699.5,-187 1693.5,-187 1687.5,-181 1687.5,-175 1687.5,-175 1687.5,-116 1687.5,-116 1687.5,-110 1693.5,-104 1699.5,-104 1699.5,-104 1865.5,-104 1865.5,-104 1871.5,-104 1877.5,-110 1877.5,-116 1877.5,-116 1877.5,-175 1877.5,-175 1877.5,-181 1871.5,-187 1865.5,-187\"/>\n",
       "<text text-anchor=\"middle\" x=\"1782.5\" y=\"-171.8\" font-family=\"Helvetica,sans-Serif\" font-size=\"14.00\"> Body mass index &lt;= 0.719</text>\n",
       "<text text-anchor=\"middle\" x=\"1782.5\" y=\"-156.8\" font-family=\"Helvetica,sans-Serif\" font-size=\"14.00\">gini = 0.255</text>\n",
       "<text text-anchor=\"middle\" x=\"1782.5\" y=\"-141.8\" font-family=\"Helvetica,sans-Serif\" font-size=\"14.00\">samples = 80</text>\n",
       "<text text-anchor=\"middle\" x=\"1782.5\" y=\"-126.8\" font-family=\"Helvetica,sans-Serif\" font-size=\"14.00\">value = [12, 68]</text>\n",
       "<text text-anchor=\"middle\" x=\"1782.5\" y=\"-111.8\" font-family=\"Helvetica,sans-Serif\" font-size=\"14.00\">class = No</text>\n",
       "</g>\n",
       "<!-- 24&#45;&gt;28 -->\n",
       "<g id=\"edge28\" class=\"edge\">\n",
       "<title>24&#45;&gt;28</title>\n",
       "<path fill=\"none\" stroke=\"black\" d=\"M1647.25,-222.58C1664.35,-212.96 1682.69,-202.64 1700.18,-192.81\"/>\n",
       "<polygon fill=\"black\" stroke=\"black\" points=\"1701.47,-196.09 1708.47,-188.14 1698.04,-189.99 1701.47,-196.09\"/>\n",
       "</g>\n",
       "<!-- 26 -->\n",
       "<g id=\"node27\" class=\"node\">\n",
       "<title>26</title>\n",
       "<path fill=\"#fefbf8\" stroke=\"black\" d=\"M1577,-68C1577,-68 1488,-68 1488,-68 1482,-68 1476,-62 1476,-56 1476,-56 1476,-12 1476,-12 1476,-6 1482,0 1488,0 1488,0 1577,0 1577,0 1583,0 1589,-6 1589,-12 1589,-12 1589,-56 1589,-56 1589,-62 1583,-68 1577,-68\"/>\n",
       "<text text-anchor=\"middle\" x=\"1532.5\" y=\"-52.8\" font-family=\"Helvetica,sans-Serif\" font-size=\"14.00\">gini = 0.5</text>\n",
       "<text text-anchor=\"middle\" x=\"1532.5\" y=\"-37.8\" font-family=\"Helvetica,sans-Serif\" font-size=\"14.00\">samples = 59</text>\n",
       "<text text-anchor=\"middle\" x=\"1532.5\" y=\"-22.8\" font-family=\"Helvetica,sans-Serif\" font-size=\"14.00\">value = [30, 29]</text>\n",
       "<text text-anchor=\"middle\" x=\"1532.5\" y=\"-7.8\" font-family=\"Helvetica,sans-Serif\" font-size=\"14.00\">class = Yes</text>\n",
       "</g>\n",
       "<!-- 25&#45;&gt;26 -->\n",
       "<g id=\"edge26\" class=\"edge\">\n",
       "<title>25&#45;&gt;26</title>\n",
       "<path fill=\"none\" stroke=\"black\" d=\"M1558.86,-103.73C1555.75,-95.61 1552.47,-87.05 1549.31,-78.84\"/>\n",
       "<polygon fill=\"black\" stroke=\"black\" points=\"1552.66,-77.8 1545.81,-69.71 1546.13,-80.3 1552.66,-77.8\"/>\n",
       "</g>\n",
       "<!-- 27 -->\n",
       "<g id=\"node28\" class=\"node\">\n",
       "<title>27</title>\n",
       "<path fill=\"#52a9e8\" stroke=\"black\" d=\"M1700,-68C1700,-68 1619,-68 1619,-68 1613,-68 1607,-62 1607,-56 1607,-56 1607,-12 1607,-12 1607,-6 1613,0 1619,0 1619,0 1700,0 1700,0 1706,0 1712,-6 1712,-12 1712,-12 1712,-56 1712,-56 1712,-62 1706,-68 1700,-68\"/>\n",
       "<text text-anchor=\"middle\" x=\"1659.5\" y=\"-52.8\" font-family=\"Helvetica,sans-Serif\" font-size=\"14.00\">gini = 0.198</text>\n",
       "<text text-anchor=\"middle\" x=\"1659.5\" y=\"-37.8\" font-family=\"Helvetica,sans-Serif\" font-size=\"14.00\">samples = 18</text>\n",
       "<text text-anchor=\"middle\" x=\"1659.5\" y=\"-22.8\" font-family=\"Helvetica,sans-Serif\" font-size=\"14.00\">value = [2, 16]</text>\n",
       "<text text-anchor=\"middle\" x=\"1659.5\" y=\"-7.8\" font-family=\"Helvetica,sans-Serif\" font-size=\"14.00\">class = No</text>\n",
       "</g>\n",
       "<!-- 25&#45;&gt;27 -->\n",
       "<g id=\"edge27\" class=\"edge\">\n",
       "<title>25&#45;&gt;27</title>\n",
       "<path fill=\"none\" stroke=\"black\" d=\"M1606.15,-103.73C1612.88,-95.06 1619.99,-85.9 1626.76,-77.18\"/>\n",
       "<polygon fill=\"black\" stroke=\"black\" points=\"1629.36,-79.54 1632.72,-69.5 1623.83,-75.25 1629.36,-79.54\"/>\n",
       "</g>\n",
       "<!-- 29 -->\n",
       "<g id=\"node30\" class=\"node\">\n",
       "<title>29</title>\n",
       "<path fill=\"#48a4e7\" stroke=\"black\" d=\"M1823,-68C1823,-68 1742,-68 1742,-68 1736,-68 1730,-62 1730,-56 1730,-56 1730,-12 1730,-12 1730,-6 1736,0 1742,0 1742,0 1823,0 1823,0 1829,0 1835,-6 1835,-12 1835,-12 1835,-56 1835,-56 1835,-62 1829,-68 1823,-68\"/>\n",
       "<text text-anchor=\"middle\" x=\"1782.5\" y=\"-52.8\" font-family=\"Helvetica,sans-Serif\" font-size=\"14.00\">gini = 0.128</text>\n",
       "<text text-anchor=\"middle\" x=\"1782.5\" y=\"-37.8\" font-family=\"Helvetica,sans-Serif\" font-size=\"14.00\">samples = 58</text>\n",
       "<text text-anchor=\"middle\" x=\"1782.5\" y=\"-22.8\" font-family=\"Helvetica,sans-Serif\" font-size=\"14.00\">value = [4, 54]</text>\n",
       "<text text-anchor=\"middle\" x=\"1782.5\" y=\"-7.8\" font-family=\"Helvetica,sans-Serif\" font-size=\"14.00\">class = No</text>\n",
       "</g>\n",
       "<!-- 28&#45;&gt;29 -->\n",
       "<g id=\"edge29\" class=\"edge\">\n",
       "<title>28&#45;&gt;29</title>\n",
       "<path fill=\"none\" stroke=\"black\" d=\"M1782.5,-103.73C1782.5,-95.88 1782.5,-87.63 1782.5,-79.67\"/>\n",
       "<polygon fill=\"black\" stroke=\"black\" points=\"1786,-79.81 1782.5,-69.81 1779,-79.81 1786,-79.81\"/>\n",
       "</g>\n",
       "<!-- 30 -->\n",
       "<g id=\"node31\" class=\"node\">\n",
       "<title>30</title>\n",
       "<path fill=\"#aad5f4\" stroke=\"black\" d=\"M1946,-68C1946,-68 1865,-68 1865,-68 1859,-68 1853,-62 1853,-56 1853,-56 1853,-12 1853,-12 1853,-6 1859,0 1865,0 1865,0 1946,0 1946,0 1952,0 1958,-6 1958,-12 1958,-12 1958,-56 1958,-56 1958,-62 1952,-68 1946,-68\"/>\n",
       "<text text-anchor=\"middle\" x=\"1905.5\" y=\"-52.8\" font-family=\"Helvetica,sans-Serif\" font-size=\"14.00\">gini = 0.463</text>\n",
       "<text text-anchor=\"middle\" x=\"1905.5\" y=\"-37.8\" font-family=\"Helvetica,sans-Serif\" font-size=\"14.00\">samples = 22</text>\n",
       "<text text-anchor=\"middle\" x=\"1905.5\" y=\"-22.8\" font-family=\"Helvetica,sans-Serif\" font-size=\"14.00\">value = [8, 14]</text>\n",
       "<text text-anchor=\"middle\" x=\"1905.5\" y=\"-7.8\" font-family=\"Helvetica,sans-Serif\" font-size=\"14.00\">class = No</text>\n",
       "</g>\n",
       "<!-- 28&#45;&gt;30 -->\n",
       "<g id=\"edge30\" class=\"edge\">\n",
       "<title>28&#45;&gt;30</title>\n",
       "<path fill=\"none\" stroke=\"black\" d=\"M1828.3,-103.73C1838.55,-94.61 1849.41,-84.93 1859.66,-75.81\"/>\n",
       "<polygon fill=\"black\" stroke=\"black\" points=\"1861.82,-78.57 1866.96,-69.31 1857.17,-73.34 1861.82,-78.57\"/>\n",
       "</g>\n",
       "</g>\n",
       "</svg>\n"
      ],
      "text/plain": [
       "<graphviz.sources.Source at 0x2f322f73048>"
      ]
     },
     "execution_count": 45,
     "metadata": {},
     "output_type": "execute_result"
    }
   ],
   "source": [
    "graph = graphviz.Source(dot_data)\n",
    "graph"
   ]
  },
  {
   "cell_type": "code",
   "execution_count": 46,
   "id": "3a401e5c",
   "metadata": {},
   "outputs": [
    {
     "data": {
      "text/plain": [
       "array(['YES', 'NO', 'NO', 'NO', 'NO', 'NO', 'NO', 'YES', 'YES', 'YES',\n",
       "       'NO', 'YES', 'YES', 'YES', 'NO', 'NO', 'NO', 'NO', 'YES', 'YES',\n",
       "       'NO', 'NO', 'YES', 'NO', 'NO', 'YES', 'YES', 'NO', 'NO', 'NO',\n",
       "       'NO', 'YES', 'NO', 'YES', 'NO', 'YES', 'NO', 'YES', 'NO', 'NO',\n",
       "       'YES', 'YES', 'NO', 'NO', 'NO', 'NO', 'NO', 'YES', 'NO', 'NO',\n",
       "       'NO', 'YES', 'NO', 'YES', 'NO', 'NO', 'NO', 'YES', 'NO', 'NO',\n",
       "       'NO', 'YES', 'NO', 'YES', 'YES', 'YES', 'NO', 'NO', 'NO', 'NO',\n",
       "       'YES', 'YES', 'YES', 'NO', 'NO', 'NO', 'YES', 'NO', 'NO', 'YES',\n",
       "       'YES', 'YES', 'NO', 'NO', 'NO', 'NO', 'YES', 'YES', 'NO', 'NO',\n",
       "       'NO', 'YES', 'NO', 'NO', 'NO', 'YES', 'YES', 'NO', 'YES', 'NO',\n",
       "       'NO', 'YES', 'NO', 'YES', 'YES', 'YES', 'NO', 'YES', 'YES', 'YES',\n",
       "       'YES', 'YES', 'NO', 'YES', 'NO', 'NO', 'NO', 'NO', 'NO', 'NO',\n",
       "       'NO', 'YES', 'NO', 'NO', 'NO', 'YES', 'NO', 'YES', 'NO', 'NO',\n",
       "       'NO', 'NO', 'YES', 'YES', 'NO', 'YES', 'YES', 'NO', 'YES', 'YES',\n",
       "       'NO', 'NO', 'YES', 'YES', 'YES', 'YES', 'YES', 'NO', 'NO', 'NO',\n",
       "       'NO', 'NO', 'NO', 'YES', 'YES', 'NO', 'YES', 'NO', 'NO', 'YES',\n",
       "       'NO', 'NO', 'YES', 'YES', 'NO', 'YES', 'YES', 'NO', 'NO', 'NO',\n",
       "       'NO', 'NO', 'NO', 'NO', 'NO', 'NO', 'NO', 'YES', 'NO', 'NO', 'NO',\n",
       "       'NO', 'NO', 'NO', 'YES', 'NO', 'NO', 'YES', 'NO', 'YES', 'NO',\n",
       "       'YES', 'YES', 'NO', 'NO', 'NO', 'NO', 'NO', 'NO', 'NO', 'NO',\n",
       "       'YES', 'YES', 'NO', 'NO', 'YES', 'YES', 'YES', 'YES', 'NO', 'YES',\n",
       "       'NO', 'YES', 'NO', 'YES', 'NO', 'NO', 'YES', 'NO', 'NO', 'NO',\n",
       "       'NO', 'NO', 'NO', 'YES', 'YES', 'YES', 'YES', 'NO', 'NO', 'YES',\n",
       "       'YES', 'YES', 'NO', 'YES', 'NO', 'NO', 'NO', 'NO', 'NO', 'NO',\n",
       "       'NO', 'YES', 'YES', 'NO', 'NO', 'NO', 'NO', 'NO', 'NO', 'NO', 'NO',\n",
       "       'YES', 'NO', 'NO', 'NO', 'NO', 'YES', 'YES', 'YES', 'NO', 'NO',\n",
       "       'YES', 'YES', 'NO', 'YES', 'NO', 'NO', 'NO', 'YES', 'NO', 'NO',\n",
       "       'NO', 'NO', 'NO', 'NO', 'NO', 'YES', 'NO', 'NO', 'YES', 'NO',\n",
       "       'YES', 'NO', 'NO', 'NO', 'NO', 'YES', 'NO', 'NO', 'NO', 'NO',\n",
       "       'YES', 'NO', 'YES', 'YES', 'YES', 'YES', 'YES', 'NO', 'YES', 'NO',\n",
       "       'YES', 'NO', 'NO', 'YES', 'YES', 'YES', 'NO', 'YES', 'NO', 'NO',\n",
       "       'NO', 'NO', 'NO', 'NO', 'YES', 'NO', 'NO', 'YES', 'NO', 'YES',\n",
       "       'NO', 'NO', 'NO', 'YES', 'NO', 'YES', 'NO', 'NO', 'NO', 'NO',\n",
       "       'YES', 'NO', 'YES', 'YES', 'NO', 'NO', 'NO', 'NO', 'NO', 'NO',\n",
       "       'YES', 'NO', 'NO', 'NO', 'YES', 'NO', 'NO', 'NO', 'NO', 'NO', 'NO',\n",
       "       'NO', 'NO', 'YES', 'NO', 'NO', 'NO', 'NO', 'NO', 'YES', 'NO', 'NO',\n",
       "       'NO', 'NO', 'YES', 'NO', 'YES', 'YES', 'NO', 'YES', 'YES', 'YES',\n",
       "       'NO', 'NO', 'NO', 'NO', 'YES', 'NO', 'YES', 'NO', 'NO', 'NO', 'NO',\n",
       "       'YES', 'NO', 'NO', 'YES', 'YES', 'YES', 'NO', 'NO', 'YES', 'NO',\n",
       "       'YES', 'NO', 'NO', 'YES', 'NO', 'YES', 'NO', 'NO', 'NO', 'NO',\n",
       "       'NO', 'NO', 'YES', 'NO', 'NO', 'YES', 'NO', 'YES', 'YES', 'NO',\n",
       "       'NO', 'YES', 'NO', 'NO', 'YES', 'NO', 'YES', 'YES', 'NO', 'YES',\n",
       "       'NO', 'YES', 'NO', 'NO', 'NO', 'YES', 'NO', 'NO', 'NO', 'NO', 'NO',\n",
       "       'NO', 'YES', 'NO', 'NO', 'YES', 'YES', 'NO', 'NO', 'NO', 'NO',\n",
       "       'NO', 'NO', 'NO', 'NO', 'NO', 'YES', 'NO', 'NO', 'NO', 'NO', 'NO',\n",
       "       'YES', 'NO', 'NO', 'NO', 'YES', 'YES', 'NO', 'YES', 'NO', 'YES',\n",
       "       'NO', 'YES', 'NO', 'NO', 'NO', 'YES', 'NO', 'YES', 'YES', 'NO',\n",
       "       'NO', 'YES', 'NO', 'NO', 'NO', 'YES', 'NO', 'YES', 'NO', 'YES',\n",
       "       'NO', 'NO', 'YES', 'NO', 'YES', 'YES', 'NO', 'YES', 'YES', 'NO',\n",
       "       'NO', 'YES', 'YES', 'NO', 'NO', 'NO', 'NO', 'YES', 'YES', 'NO',\n",
       "       'YES', 'YES', 'NO', 'NO', 'NO', 'YES', 'NO', 'NO', 'YES', 'NO',\n",
       "       'NO', 'NO', 'NO', 'NO', 'NO', 'NO', 'YES', 'NO', 'NO', 'YES', 'NO',\n",
       "       'NO', 'YES', 'NO', 'YES', 'NO', 'NO', 'NO', 'NO', 'YES', 'NO',\n",
       "       'NO', 'YES', 'NO', 'YES', 'NO', 'NO', 'NO', 'NO', 'YES', 'NO',\n",
       "       'YES', 'NO', 'YES', 'NO', 'YES', 'YES', 'YES', 'YES', 'YES', 'NO',\n",
       "       'NO', 'NO', 'NO', 'YES', 'NO', 'NO', 'NO', 'YES', 'YES', 'YES',\n",
       "       'YES', 'NO', 'NO', 'YES', 'YES', 'NO', 'NO', 'NO', 'YES', 'NO',\n",
       "       'NO', 'NO', 'YES', 'NO', 'YES', 'YES', 'YES', 'NO', 'YES', 'YES',\n",
       "       'NO', 'YES', 'NO', 'NO', 'NO', 'NO', 'NO', 'YES', 'YES', 'NO',\n",
       "       'YES', 'YES', 'YES', 'NO', 'NO', 'YES', 'YES', 'YES', 'YES', 'YES',\n",
       "       'NO', 'NO', 'YES', 'NO', 'YES', 'YES'], dtype=object)"
      ]
     },
     "execution_count": 46,
     "metadata": {},
     "output_type": "execute_result"
    }
   ],
   "source": [
    "# Prediction on Train Data\n",
    "\n",
    "preds_train = DT_best.predict(X_train)\n",
    "preds_train"
   ]
  },
  {
   "cell_type": "code",
   "execution_count": 47,
   "id": "05897a63",
   "metadata": {},
   "outputs": [
    {
     "data": {
      "text/html": [
       "<div>\n",
       "<style scoped>\n",
       "    .dataframe tbody tr th:only-of-type {\n",
       "        vertical-align: middle;\n",
       "    }\n",
       "\n",
       "    .dataframe tbody tr th {\n",
       "        vertical-align: top;\n",
       "    }\n",
       "\n",
       "    .dataframe thead th {\n",
       "        text-align: right;\n",
       "    }\n",
       "</style>\n",
       "<table border=\"1\" class=\"dataframe\">\n",
       "  <thead>\n",
       "    <tr style=\"text-align: right;\">\n",
       "      <th>Predictions</th>\n",
       "      <th>NO</th>\n",
       "      <th>YES</th>\n",
       "    </tr>\n",
       "    <tr>\n",
       "      <th>Actual</th>\n",
       "      <th></th>\n",
       "      <th></th>\n",
       "    </tr>\n",
       "  </thead>\n",
       "  <tbody>\n",
       "    <tr>\n",
       "      <th>NO</th>\n",
       "      <td>324</td>\n",
       "      <td>76</td>\n",
       "    </tr>\n",
       "    <tr>\n",
       "      <th>YES</th>\n",
       "      <td>57</td>\n",
       "      <td>157</td>\n",
       "    </tr>\n",
       "  </tbody>\n",
       "</table>\n",
       "</div>"
      ],
      "text/plain": [
       "Predictions   NO  YES\n",
       "Actual               \n",
       "NO           324   76\n",
       "YES           57  157"
      ]
     },
     "execution_count": 47,
     "metadata": {},
     "output_type": "execute_result"
    }
   ],
   "source": [
    "# Confusion Matrix\n",
    "pd.crosstab(Y_train, preds_train, rownames = ['Actual'], colnames = ['Predictions'])"
   ]
  },
  {
   "cell_type": "code",
   "execution_count": 48,
   "id": "e792e372",
   "metadata": {},
   "outputs": [
    {
     "name": "stdout",
     "output_type": "stream",
     "text": [
      "0.7833876221498371\n"
     ]
    }
   ],
   "source": [
    "# Accuracy\n",
    "print(accuracy_score(Y_train, preds_train))"
   ]
  },
  {
   "cell_type": "code",
   "execution_count": 49,
   "id": "66e39c98",
   "metadata": {},
   "outputs": [
    {
     "data": {
      "text/plain": [
       "[Text(0.5, 1.0, 'Sales Classification Confusion Matrix(Train)'),\n",
       " Text(0.5, 0, 'Predicted Value'),\n",
       " Text(0, 0.5, 'Actual Value')]"
      ]
     },
     "execution_count": 49,
     "metadata": {},
     "output_type": "execute_result"
    },
    {
     "data": {
      "image/png": "[encoded data removed]",
      "text/plain": [
       "<Figure size 640x480 with 2 Axes>"
      ]
     },
     "metadata": {},
     "output_type": "display_data"
    }
   ],
   "source": [
    "# Confusion Matrix - Heat Map\n",
    "cm = skmet.confusion_matrix(Y_train, preds_train)\n",
    "cmplot = skmet.ConfusionMatrixDisplay(confusion_matrix = cm, display_labels = ['No', 'Yes'])\n",
    "cmplot.plot()\n",
    "cmplot.ax_.set(title = 'Sales Classification Confusion Matrix(Train)', \n",
    "               xlabel = 'Predicted Value', ylabel = 'Actual Value')"
   ]
  },
  {
   "cell_type": "code",
   "execution_count": null,
   "id": "5ce97560",
   "metadata": {},
   "outputs": [],
   "source": []
  },
  {
   "cell_type": "markdown",
   "id": "ff531b74",
   "metadata": {},
   "source": [
    "# Model Training with Cross Validation"
   ]
  },
  {
   "cell_type": "code",
   "execution_count": 50,
   "id": "588e3c76",
   "metadata": {},
   "outputs": [],
   "source": [
    "from sklearn.model_selection import cross_validate\n",
    "\n",
    "\n",
    "def cross_validation(model, _X, _y, _cv=5):\n",
    "    \n",
    "    '''Function to perform 5 Folds Cross-Validation\n",
    "    Parameters\n",
    "    ----------\n",
    "    model: Python Class, default=None\n",
    "          This is the machine learning algorithm to be used for training.\n",
    "    _X: array\n",
    "       This is the matrix of features.\n",
    "    _y: array\n",
    "       This is the target variable.\n",
    "    _cv: int, default=5\n",
    "      Determines the number of folds for cross-validation.\n",
    "    Returns\n",
    "    -------\n",
    "    The function returns a dictionary containing the metrics 'accuracy', 'precision',\n",
    "    'recall', 'f1' for both training set and validation set.\n",
    "    '''\n",
    "    _scoring = ['accuracy', 'precision', 'recall', 'f1']\n",
    "    results = cross_validate(estimator=model,\n",
    "                           X=_X,\n",
    "                           y=_y,\n",
    "                           cv=_cv,\n",
    "                           scoring=_scoring,\n",
    "                           return_train_score=True)\n",
    "\n",
    "    return pd.DataFrame({\"Training Accuracy scores\": results['train_accuracy'],\n",
    "          \"Mean Training Accuracy\": results['train_accuracy'].mean()*100,\n",
    "          \"Training Precision scores\": results['train_precision'],\n",
    "          \"Mean Training Precision\": results['train_precision'].mean(),\n",
    "          \"Training Recall scores\": results['train_recall'],\n",
    "          \"Mean Training Recall\": results['train_recall'].mean(),\n",
    "          \"Training F1 scores\": results['train_f1'],\n",
    "          \"Mean Training F1 Score\": results['train_f1'].mean(),\n",
    "          \"Validation Accuracy scores\": results['test_accuracy'],\n",
    "          \"Mean Validation Accuracy\": results['test_accuracy'].mean()*100,\n",
    "          \"Validation Precision scores\": results['test_precision'],\n",
    "          \"Mean Validation Precision\": results['test_precision'].mean(),\n",
    "          \"Validation Recall scores\": results['test_recall'],\n",
    "          \"Mean Validation Recall\": results['test_recall'].mean(),\n",
    "          \"Validation F1 scores\": results['test_f1'],\n",
    "          \"Mean Validation F1 Score\": results['test_f1'].mean()\n",
    "          })"
   ]
  },
  {
   "cell_type": "code",
   "execution_count": 51,
   "id": "3f6b4a66",
   "metadata": {},
   "outputs": [
    {
     "name": "stdout",
     "output_type": "stream",
     "text": [
      "Mapping of Label Encoded Classes\n",
      "{'NO': 0, 'YES': 1}\n",
      "Label Encoded Target Variable\n",
      "[1 0 0 0 0 0 0 0 1 1 0 1 1 1 0 1 1 0 1 1 0 0 1 0 0 1 0 0 0 1 0 0 0 0 0 1 0\n",
      " 1 0 0 0 0 1 1 0 0 1 1 0 0 1 1 1 0 0 1 0 1 0 0 0 0 0 0 1 0 1 0 0 1 0 1 1 0\n",
      " 0 0 1 0 1 1 1 1 0 0 0 0 1 1 0 0 0 1 0 0 0 1 1 0 0 0 1 0 1 1 1 0 0 1 1 0 1\n",
      " 0 0 0 0 0 0 0 0 0 0 0 1 0 0 0 0 1 0 0 0 1 0 0 0 1 0 0 0 1 0 0 1 0 1 1 1 0\n",
      " 0 1 0 0 0 0 1 1 1 0 1 1 0 0 1 1 0 1 1 0 0 1 0 1 0 1 0 0 0 0 0 0 0 0 0 1 1\n",
      " 0 0 0 0 0 0 1 0 1 0 1 0 0 0 1 0 0 1 0 1 1 1 1 1 0 1 0 0 0 1 0 0 0 0 1 1 1\n",
      " 0 0 1 0 1 1 0 0 1 1 0 0 1 0 1 0 0 0 0 0 1 0 0 0 1 1 1 0 0 0 1 0 0 0 0 1 1\n",
      " 1 0 1 0 0 1 1 1 0 0 1 0 0 0 0 0 0 0 0 0 0 1 0 0 0 0 0 0 1 0 0 0 0 1 0 1 1\n",
      " 1 1 0 0 0 0 0 0 0 1 0 1 0 0 0 0 0 0 0 0 1 0 1 1 0 1 0 0 0 1 1 1 0 0 0 1 1\n",
      " 0 1 1 1 0 1 0 0 0 1 0 1 0 1 0 0 0 0 0 0 0 0 1 0 0 0 0 0 1 0 0 0 0 0 0 0 1\n",
      " 0 1 1 1 0 0 0 0 1 0 1 0 0 0 0 1 0 0 1 0 1 0 0 1 0 0 0 0 1 0 1 0 0 0 0 0 0\n",
      " 1 0 0 1 0 0 1 0 0 0 0 0 1 0 1 1 1 1 0 1 0 0 0 1 0 0 1 1 0 0 1 0 0 0 1 0 0\n",
      " 0 0 0 0 0 0 0 1 0 0 0 0 0 1 0 0 0 1 1 0 1 0 1 1 1 0 0 0 1 0 1 1 0 0 0 0 1\n",
      " 0 0 0 0 0 1 0 0 0 0 0 1 0 1 0 0 0 1 1 0 1 1 1 0 1 0 1 1 0 0 0 0 0 0 1 0 0\n",
      " 0 0 0 0 1 1 0 0 0 0 0 0 0 1 0 1 0 0 1 0 0 0 0 0 0 0 0 0 1 0 1 0 0 0 1 1 0\n",
      " 1 1 0 0 1 0 1 0 0 0 1 1 0 1 0 0 1 0 0 1 0 1 0 0 0 0 1 0 1 0 1 1 0 0 1 0 0\n",
      " 0 0 0 1 0 0 1 0 1 0 0 0 1 1 1 0 0 0 1 0 1 0]\n"
     ]
    }
   ],
   "source": [
    "from sklearn.preprocessing import LabelEncoder  # labelencoder is applied for target variable\n",
    "label_encoder = LabelEncoder()\n",
    "encoded_y = label_encoder.fit_transform(Y_train)\n",
    "\n",
    "label_encoder_name_mapping = dict(zip(label_encoder.classes_,\n",
    "                                         label_encoder.transform(label_encoder.classes_)))\n",
    "\n",
    "print(\"Mapping of Label Encoded Classes\", label_encoder_name_mapping, sep=\"\\n\")\n",
    "print(\"Label Encoded Target Variable\", encoded_y, sep=\"\\n\")"
   ]
  },
  {
   "cell_type": "code",
   "execution_count": 52,
   "id": "6e42d09e",
   "metadata": {},
   "outputs": [
    {
     "data": {
      "text/html": [
       "<div>\n",
       "<style scoped>\n",
       "    .dataframe tbody tr th:only-of-type {\n",
       "        vertical-align: middle;\n",
       "    }\n",
       "\n",
       "    .dataframe tbody tr th {\n",
       "        vertical-align: top;\n",
       "    }\n",
       "\n",
       "    .dataframe thead th {\n",
       "        text-align: right;\n",
       "    }\n",
       "</style>\n",
       "<table border=\"1\" class=\"dataframe\">\n",
       "  <thead>\n",
       "    <tr style=\"text-align: right;\">\n",
       "      <th></th>\n",
       "      <th>Training Accuracy scores</th>\n",
       "      <th>Mean Training Accuracy</th>\n",
       "      <th>Training Precision scores</th>\n",
       "      <th>Mean Training Precision</th>\n",
       "      <th>Training Recall scores</th>\n",
       "      <th>Mean Training Recall</th>\n",
       "      <th>Training F1 scores</th>\n",
       "      <th>Mean Training F1 Score</th>\n",
       "      <th>Validation Accuracy scores</th>\n",
       "      <th>Mean Validation Accuracy</th>\n",
       "      <th>Validation Precision scores</th>\n",
       "      <th>Mean Validation Precision</th>\n",
       "      <th>Validation Recall scores</th>\n",
       "      <th>Mean Validation Recall</th>\n",
       "      <th>Validation F1 scores</th>\n",
       "      <th>Mean Validation F1 Score</th>\n",
       "    </tr>\n",
       "  </thead>\n",
       "  <tbody>\n",
       "    <tr>\n",
       "      <th>0</th>\n",
       "      <td>0.796334</td>\n",
       "      <td>81.025284</td>\n",
       "      <td>0.685864</td>\n",
       "      <td>0.731504</td>\n",
       "      <td>0.766082</td>\n",
       "      <td>0.728934</td>\n",
       "      <td>0.723757</td>\n",
       "      <td>0.727387</td>\n",
       "      <td>0.731707</td>\n",
       "      <td>73.929095</td>\n",
       "      <td>0.619048</td>\n",
       "      <td>0.628805</td>\n",
       "      <td>0.604651</td>\n",
       "      <td>0.625914</td>\n",
       "      <td>0.611765</td>\n",
       "      <td>0.626819</td>\n",
       "    </tr>\n",
       "    <tr>\n",
       "      <th>1</th>\n",
       "      <td>0.812627</td>\n",
       "      <td>81.025284</td>\n",
       "      <td>0.792593</td>\n",
       "      <td>0.731504</td>\n",
       "      <td>0.625731</td>\n",
       "      <td>0.728934</td>\n",
       "      <td>0.699346</td>\n",
       "      <td>0.727387</td>\n",
       "      <td>0.747967</td>\n",
       "      <td>73.929095</td>\n",
       "      <td>0.650000</td>\n",
       "      <td>0.628805</td>\n",
       "      <td>0.604651</td>\n",
       "      <td>0.625914</td>\n",
       "      <td>0.626506</td>\n",
       "      <td>0.626819</td>\n",
       "    </tr>\n",
       "    <tr>\n",
       "      <th>2</th>\n",
       "      <td>0.806517</td>\n",
       "      <td>81.025284</td>\n",
       "      <td>0.726190</td>\n",
       "      <td>0.731504</td>\n",
       "      <td>0.713450</td>\n",
       "      <td>0.728934</td>\n",
       "      <td>0.719764</td>\n",
       "      <td>0.727387</td>\n",
       "      <td>0.788618</td>\n",
       "      <td>73.929095</td>\n",
       "      <td>0.697674</td>\n",
       "      <td>0.628805</td>\n",
       "      <td>0.697674</td>\n",
       "      <td>0.625914</td>\n",
       "      <td>0.697674</td>\n",
       "      <td>0.626819</td>\n",
       "    </tr>\n",
       "    <tr>\n",
       "      <th>3</th>\n",
       "      <td>0.806517</td>\n",
       "      <td>81.025284</td>\n",
       "      <td>0.700000</td>\n",
       "      <td>0.731504</td>\n",
       "      <td>0.777778</td>\n",
       "      <td>0.728934</td>\n",
       "      <td>0.736842</td>\n",
       "      <td>0.727387</td>\n",
       "      <td>0.764228</td>\n",
       "      <td>73.929095</td>\n",
       "      <td>0.666667</td>\n",
       "      <td>0.628805</td>\n",
       "      <td>0.651163</td>\n",
       "      <td>0.625914</td>\n",
       "      <td>0.658824</td>\n",
       "      <td>0.626819</td>\n",
       "    </tr>\n",
       "    <tr>\n",
       "      <th>4</th>\n",
       "      <td>0.829268</td>\n",
       "      <td>81.025284</td>\n",
       "      <td>0.752874</td>\n",
       "      <td>0.731504</td>\n",
       "      <td>0.761628</td>\n",
       "      <td>0.728934</td>\n",
       "      <td>0.757225</td>\n",
       "      <td>0.727387</td>\n",
       "      <td>0.663934</td>\n",
       "      <td>73.929095</td>\n",
       "      <td>0.510638</td>\n",
       "      <td>0.628805</td>\n",
       "      <td>0.571429</td>\n",
       "      <td>0.625914</td>\n",
       "      <td>0.539326</td>\n",
       "      <td>0.626819</td>\n",
       "    </tr>\n",
       "  </tbody>\n",
       "</table>\n",
       "</div>"
      ],
      "text/plain": [
       "   Training Accuracy scores  Mean Training Accuracy  \\\n",
       "0                  0.796334               81.025284   \n",
       "1                  0.812627               81.025284   \n",
       "2                  0.806517               81.025284   \n",
       "3                  0.806517               81.025284   \n",
       "4                  0.829268               81.025284   \n",
       "\n",
       "   Training Precision scores  Mean Training Precision  Training Recall scores  \\\n",
       "0                   0.685864                 0.731504                0.766082   \n",
       "1                   0.792593                 0.731504                0.625731   \n",
       "2                   0.726190                 0.731504                0.713450   \n",
       "3                   0.700000                 0.731504                0.777778   \n",
       "4                   0.752874                 0.731504                0.761628   \n",
       "\n",
       "   Mean Training Recall  Training F1 scores  Mean Training F1 Score  \\\n",
       "0              0.728934            0.723757                0.727387   \n",
       "1              0.728934            0.699346                0.727387   \n",
       "2              0.728934            0.719764                0.727387   \n",
       "3              0.728934            0.736842                0.727387   \n",
       "4              0.728934            0.757225                0.727387   \n",
       "\n",
       "   Validation Accuracy scores  Mean Validation Accuracy  \\\n",
       "0                    0.731707                 73.929095   \n",
       "1                    0.747967                 73.929095   \n",
       "2                    0.788618                 73.929095   \n",
       "3                    0.764228                 73.929095   \n",
       "4                    0.663934                 73.929095   \n",
       "\n",
       "   Validation Precision scores  Mean Validation Precision  \\\n",
       "0                     0.619048                   0.628805   \n",
       "1                     0.650000                   0.628805   \n",
       "2                     0.697674                   0.628805   \n",
       "3                     0.666667                   0.628805   \n",
       "4                     0.510638                   0.628805   \n",
       "\n",
       "   Validation Recall scores  Mean Validation Recall  Validation F1 scores  \\\n",
       "0                  0.604651                0.625914              0.611765   \n",
       "1                  0.604651                0.625914              0.626506   \n",
       "2                  0.697674                0.625914              0.697674   \n",
       "3                  0.651163                0.625914              0.658824   \n",
       "4                  0.571429                0.625914              0.539326   \n",
       "\n",
       "   Mean Validation F1 Score  \n",
       "0                  0.626819  \n",
       "1                  0.626819  \n",
       "2                  0.626819  \n",
       "3                  0.626819  \n",
       "4                  0.626819  "
      ]
     },
     "execution_count": 52,
     "metadata": {},
     "output_type": "execute_result"
    }
   ],
   "source": [
    "decision_tree_result = cross_validation(DT_best, X_train, encoded_y, 5)\n",
    "decision_tree_result"
   ]
  },
  {
   "cell_type": "code",
   "execution_count": 53,
   "id": "9502701a",
   "metadata": {},
   "outputs": [],
   "source": [
    "def plot_result(x_label, y_label, plot_title, train_data, val_data):\n",
    "        '''Function to plot a grouped bar chart showing the training and validation\n",
    "          results of the ML model in each fold after applying K-fold cross-validation.\n",
    "         Parameters\n",
    "         ----------\n",
    "         x_label: str, \n",
    "            Name of the algorithm used for training e.g 'Decision Tree'\n",
    "          \n",
    "         y_label: str, \n",
    "            Name of metric being visualized e.g 'Accuracy'\n",
    "         plot_title: str, \n",
    "            This is the title of the plot e.g 'Accuracy Plot'\n",
    "         \n",
    "         train_result: list, array\n",
    "            This is the list containing either training precision, accuracy, or f1 score.\n",
    "        \n",
    "         val_result: list, array\n",
    "            This is the list containing either validation precision, accuracy, or f1 score.\n",
    "         Returns\n",
    "         -------\n",
    "         The function returns a Grouped Barchart showing the training and validation result\n",
    "         in each fold.\n",
    "        '''\n",
    "        \n",
    "        # Set size of plot\n",
    "        plt.figure(figsize=(12,6))\n",
    "        labels = [\"1st Fold\", \"2nd Fold\", \"3rd Fold\", \"4th Fold\", \"5th Fold\"]\n",
    "        X_axis = np.arange(len(labels))\n",
    "        ax = plt.gca()\n",
    "        plt.ylim(0.40000, 1)\n",
    "        plt.bar(X_axis-0.2, train_data, 0.4, color='blue', label='Training')\n",
    "        plt.bar(X_axis+0.2, val_data, 0.4, color='red', label='Validation')\n",
    "        plt.title(plot_title, fontsize=30)\n",
    "        plt.xticks(X_axis, labels)\n",
    "        plt.xlabel(x_label, fontsize=14)\n",
    "        plt.ylabel(y_label, fontsize=14)\n",
    "        plt.legend()\n",
    "        plt.grid(True)\n",
    "        plt.show()"
   ]
  },
  {
   "cell_type": "code",
   "execution_count": 54,
   "id": "d4947802",
   "metadata": {},
   "outputs": [
    {
     "data": {
      "image/png": "[encoded data removed]",
      "text/plain": [
       "<Figure size 1200x600 with 1 Axes>"
      ]
     },
     "metadata": {},
     "output_type": "display_data"
    }
   ],
   "source": [
    "model_name = \"Decision Tree\"\n",
    "plot_result(model_name,\n",
    "            \"Accuracy\",\n",
    "            \"Accuracy scores in 5 Folds\",\n",
    "            decision_tree_result[\"Training Accuracy scores\"],\n",
    "            decision_tree_result[\"Validation Accuracy scores\"])"
   ]
  },
  {
   "cell_type": "code",
   "execution_count": null,
   "id": "b1ac7b41",
   "metadata": {},
   "outputs": [],
   "source": []
  },
  {
   "cell_type": "markdown",
   "id": "f15f4250",
   "metadata": {},
   "source": [
    "## Random Forest Classifier"
   ]
  },
  {
   "cell_type": "code",
   "execution_count": 55,
   "id": "5604a602",
   "metadata": {},
   "outputs": [],
   "source": [
    "# creating random forest classifier\n",
    "clf = RandomForestClassifier(n_estimators = 100)"
   ]
  },
  {
   "cell_type": "code",
   "execution_count": 56,
   "id": "dd760ba1",
   "metadata": {},
   "outputs": [
    {
     "data": {
      "text/plain": [
       "RandomForestClassifier()"
      ]
     },
     "execution_count": 56,
     "metadata": {},
     "output_type": "execute_result"
    }
   ],
   "source": [
    "# Training the model on the training dataset\n",
    "clf.fit(X_train, Y_train)"
   ]
  },
  {
   "cell_type": "code",
   "execution_count": 57,
   "id": "9f1a9022",
   "metadata": {},
   "outputs": [
    {
     "data": {
      "text/plain": [
       "array(['NO', 'NO', 'NO', 'NO', 'YES', 'NO', 'YES', 'NO', 'NO', 'NO', 'NO',\n",
       "       'NO', 'NO', 'NO', 'YES', 'NO', 'NO', 'NO', 'NO', 'YES', 'NO', 'NO',\n",
       "       'NO', 'YES', 'NO', 'YES', 'YES', 'NO', 'NO', 'NO', 'NO', 'NO',\n",
       "       'YES', 'YES', 'YES', 'NO', 'YES', 'NO', 'NO', 'NO', 'NO', 'NO',\n",
       "       'YES', 'NO', 'YES', 'YES', 'NO', 'NO', 'YES', 'NO', 'NO', 'NO',\n",
       "       'NO', 'YES', 'NO', 'YES', 'NO', 'NO', 'NO', 'NO', 'NO', 'NO',\n",
       "       'YES', 'NO', 'NO', 'NO', 'NO', 'YES', 'NO', 'NO', 'NO', 'YES',\n",
       "       'NO', 'NO', 'NO', 'NO', 'NO', 'NO', 'NO', 'YES', 'NO', 'YES',\n",
       "       'YES', 'NO', 'YES', 'YES', 'NO', 'NO', 'NO', 'NO', 'NO', 'NO',\n",
       "       'NO', 'YES', 'YES', 'NO', 'YES', 'YES', 'YES', 'NO', 'YES', 'NO',\n",
       "       'NO', 'NO', 'NO', 'NO', 'NO', 'YES', 'NO', 'NO', 'NO', 'NO', 'NO',\n",
       "       'YES', 'NO', 'NO', 'NO', 'NO', 'NO', 'NO', 'YES', 'NO', 'YES',\n",
       "       'NO', 'YES', 'NO', 'NO', 'YES', 'NO', 'NO', 'NO', 'YES', 'NO',\n",
       "       'NO', 'YES', 'YES', 'NO', 'NO', 'YES', 'YES', 'NO', 'NO', 'YES',\n",
       "       'NO', 'NO', 'NO', 'NO', 'NO', 'YES', 'NO', 'NO', 'YES', 'NO', 'NO'],\n",
       "      dtype=object)"
      ]
     },
     "execution_count": 57,
     "metadata": {},
     "output_type": "execute_result"
    }
   ],
   "source": [
    "# predictions on the test dataset\n",
    "y_pred = clf.predict(X_test)\n",
    "y_pred"
   ]
  },
  {
   "cell_type": "code",
   "execution_count": 58,
   "id": "2d7bfb4e",
   "metadata": {},
   "outputs": [
    {
     "name": "stdout",
     "output_type": "stream",
     "text": [
      "0.8116883116883117\n"
     ]
    }
   ],
   "source": [
    "print(accuracy_score(Y_test, y_pred))"
   ]
  },
  {
   "cell_type": "code",
   "execution_count": 59,
   "id": "dad25b31",
   "metadata": {},
   "outputs": [
    {
     "data": {
      "text/html": [
       "<div>\n",
       "<style scoped>\n",
       "    .dataframe tbody tr th:only-of-type {\n",
       "        vertical-align: middle;\n",
       "    }\n",
       "\n",
       "    .dataframe tbody tr th {\n",
       "        vertical-align: top;\n",
       "    }\n",
       "\n",
       "    .dataframe thead th {\n",
       "        text-align: right;\n",
       "    }\n",
       "</style>\n",
       "<table border=\"1\" class=\"dataframe\">\n",
       "  <thead>\n",
       "    <tr style=\"text-align: right;\">\n",
       "      <th>Predictions</th>\n",
       "      <th>NO</th>\n",
       "      <th>YES</th>\n",
       "    </tr>\n",
       "    <tr>\n",
       "      <th>Actual</th>\n",
       "      <th></th>\n",
       "      <th></th>\n",
       "    </tr>\n",
       "  </thead>\n",
       "  <tbody>\n",
       "    <tr>\n",
       "      <th>NO</th>\n",
       "      <td>90</td>\n",
       "      <td>10</td>\n",
       "    </tr>\n",
       "    <tr>\n",
       "      <th>YES</th>\n",
       "      <td>19</td>\n",
       "      <td>35</td>\n",
       "    </tr>\n",
       "  </tbody>\n",
       "</table>\n",
       "</div>"
      ],
      "text/plain": [
       "Predictions  NO  YES\n",
       "Actual              \n",
       "NO           90   10\n",
       "YES          19   35"
      ]
     },
     "execution_count": 59,
     "metadata": {},
     "output_type": "execute_result"
    }
   ],
   "source": [
    "# Confusion Matrix\n",
    "pd.crosstab(Y_test, y_pred, rownames = ['Actual'], colnames = ['Predictions']) "
   ]
  },
  {
   "cell_type": "code",
   "execution_count": 60,
   "id": "f2f5e494",
   "metadata": {},
   "outputs": [
    {
     "data": {
      "text/plain": [
       "[Text(0.5, 1.0, 'Sales Classification Confusion Matrix(Train)'),\n",
       " Text(0.5, 0, 'Predicted Value'),\n",
       " Text(0, 0.5, 'Actual Value')]"
      ]
     },
     "execution_count": 60,
     "metadata": {},
     "output_type": "execute_result"
    },
    {
     "data": {
      "image/png": "[encoded data removed]",
      "text/plain": [
       "<Figure size 640x480 with 2 Axes>"
      ]
     },
     "metadata": {},
     "output_type": "display_data"
    }
   ],
   "source": [
    "# Confusion Matrix - Heat Map\n",
    "cm = skmet.confusion_matrix(Y_test, y_pred)\n",
    "cmplot = skmet.ConfusionMatrixDisplay(confusion_matrix = cm, display_labels = ['No', 'Yes'])\n",
    "cmplot.plot()\n",
    "cmplot.ax_.set(title = 'Sales Classification Confusion Matrix(Train)', \n",
    "               xlabel = 'Predicted Value', ylabel = 'Actual Value')"
   ]
  },
  {
   "cell_type": "code",
   "execution_count": null,
   "id": "0b941b79",
   "metadata": {},
   "outputs": [],
   "source": []
  },
  {
   "cell_type": "code",
   "execution_count": 61,
   "id": "fe7cd1c2",
   "metadata": {},
   "outputs": [],
   "source": [
    "# Number of trees in random forest\n",
    "n_estimators = np.linspace(100, 3000, int((3000-100)/200) + 1, dtype=int)\n",
    "# Number of features to consider at every split\n",
    "max_features = ['auto', 'sqrt']\n",
    "# Maximum number of levels in tree\n",
    "max_depth = [1, 5, 10, 20, 50, 75, 100, 150, 200]\n",
    "# Minimum number of samples required to split a node\n",
    "# min_samples_split = [int(x) for x in np.linspace(start = 2, stop = 10, num = 9)]\n",
    "min_samples_split = [1, 2, 5, 10, 15, 20, 30]\n",
    "# Minimum number of samples required at each leaf node\n",
    "min_samples_leaf = [1, 2, 3, 4]\n",
    "# Method of selecting samples for training each tree\n",
    "bootstrap = [True, False]\n",
    "# Criterion\n",
    "criterion=['gini', 'entropy']\n",
    "random_grid = {'n_estimators': n_estimators,\n",
    "#                'max_features': max_features,\n",
    "               'max_depth': max_depth,\n",
    "               'min_samples_split': min_samples_split,\n",
    "               'min_samples_leaf': min_samples_leaf,\n",
    "               'bootstrap': bootstrap,\n",
    "               'criterion': criterion}"
   ]
  },
  {
   "cell_type": "markdown",
   "id": "ad65addc",
   "metadata": {},
   "source": [
    "### Hyperparameter Optimization"
   ]
  },
  {
   "cell_type": "code",
   "execution_count": 62,
   "id": "6faf4889",
   "metadata": {},
   "outputs": [],
   "source": [
    "rf_base = RandomForestClassifier()\n",
    "rf_random = RandomizedSearchCV(estimator = rf_base,\n",
    "                               param_distributions = random_grid,\n",
    "                               n_iter = 30, cv = 5,\n",
    "                               verbose=2,\n",
    "                               random_state=42, n_jobs = 4)"
   ]
  },
  {
   "cell_type": "code",
   "execution_count": 63,
   "id": "9c1b95de",
   "metadata": {},
   "outputs": [
    {
     "name": "stdout",
     "output_type": "stream",
     "text": [
      "Fitting 5 folds for each of 30 candidates, totalling 150 fits\n"
     ]
    },
    {
     "data": {
      "text/plain": [
       "RandomizedSearchCV(cv=5, estimator=RandomForestClassifier(), n_iter=30,\n",
       "                   n_jobs=4,\n",
       "                   param_distributions={'bootstrap': [True, False],\n",
       "                                        'criterion': ['gini', 'entropy'],\n",
       "                                        'max_depth': [1, 5, 10, 20, 50, 75, 100,\n",
       "                                                      150, 200],\n",
       "                                        'min_samples_leaf': [1, 2, 3, 4],\n",
       "                                        'min_samples_split': [1, 2, 5, 10, 15,\n",
       "                                                              20, 30],\n",
       "                                        'n_estimators': array([ 100,  307,  514,  721,  928, 1135, 1342, 1550, 1757, 1964, 2171,\n",
       "       2378, 2585, 2792, 3000])},\n",
       "                   random_state=42, verbose=2)"
      ]
     },
     "execution_count": 63,
     "metadata": {},
     "output_type": "execute_result"
    }
   ],
   "source": [
    "rf_random.fit(X_train, Y_train)"
   ]
  },
  {
   "cell_type": "code",
   "execution_count": 64,
   "id": "6f978d44",
   "metadata": {},
   "outputs": [
    {
     "data": {
      "text/plain": [
       "{'n_estimators': 1757,\n",
       " 'min_samples_split': 20,\n",
       " 'min_samples_leaf': 1,\n",
       " 'max_depth': 150,\n",
       " 'criterion': 'gini',\n",
       " 'bootstrap': False}"
      ]
     },
     "execution_count": 64,
     "metadata": {},
     "output_type": "execute_result"
    }
   ],
   "source": [
    "rf_random.best_params_"
   ]
  },
  {
   "cell_type": "code",
   "execution_count": 65,
   "id": "6453f579",
   "metadata": {},
   "outputs": [
    {
     "name": "stdout",
     "output_type": "stream",
     "text": [
      "0.9381107491856677\n"
     ]
    }
   ],
   "source": [
    "print (rf_random.score(X_train, Y_train))"
   ]
  },
  {
   "cell_type": "code",
   "execution_count": 66,
   "id": "7dee338e",
   "metadata": {},
   "outputs": [
    {
     "name": "stdout",
     "output_type": "stream",
     "text": [
      "0.8051948051948052\n"
     ]
    }
   ],
   "source": [
    "print (rf_random.score(X_test, Y_test))"
   ]
  },
  {
   "cell_type": "code",
   "execution_count": null,
   "id": "9ca1acc7",
   "metadata": {},
   "outputs": [],
   "source": []
  },
  {
   "cell_type": "code",
   "execution_count": null,
   "id": "3461b97d",
   "metadata": {},
   "outputs": [],
   "source": []
  },
  {
   "cell_type": "code",
   "execution_count": null,
   "id": "ff2e34d3",
   "metadata": {},
   "outputs": [],
   "source": []
  },
  {
   "cell_type": "code",
   "execution_count": null,
   "id": "b1c2da78",
   "metadata": {},
   "outputs": [],
   "source": []
  }
 ],
 "metadata": {
  "kernelspec": {
   "display_name": "Python 3 (ipykernel)",
   "language": "python",
   "name": "python3"
  },
  "language_info": {
   "codemirror_mode": {
    "name": "ipython",
    "version": 3
   },
   "file_extension": ".py",
   "mimetype": "text/x-python",
   "name": "python",
   "nbconvert_exporter": "python",
   "pygments_lexer": "ipython3",
   "version": "3.8.10"
  }
 },
 "nbformat": 4,
 "nbformat_minor": 5
}
